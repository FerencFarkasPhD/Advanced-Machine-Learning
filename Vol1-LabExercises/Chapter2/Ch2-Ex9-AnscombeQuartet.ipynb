{
 "cells": [
  {
   "cell_type": "markdown",
   "metadata": {},
   "source": [
    "<img src = \"images/Logo.png\" width = 220, align = \"left\">\n",
    "\n",
    "<h1 align=center><font size = 6>Anscombe's Quartet</font></h1>\n",
    "<h2 align=center><font size = 5>Lab Exercise 2.9</font></h2>\n",
    "<h3 align=center><font size = 4><b>Advanced Machine Learning<br></b><small>From Theory to Practice with NumPy and scikit-learn<br><i>Volume 1: Generalized Linear Models</i></font></h3>"
   ]
  },
  {
   "cell_type": "markdown",
   "metadata": {},
   "source": [
    "## Introduction\n",
    "\n",
    "In this example, we take Anscombe's quartet, which comprises four datasets that have nearly identical simple descriptive statistics, yet appear very different when graphed. Thus, we try to emphasize in this exercise the importance of graphing. <br>\n",
    "**Note**: *The original datasets can be found at https://en.wikipedia.org/wiki/Anscombe%27s_quartet.*"
   ]
  },
  {
   "cell_type": "markdown",
   "metadata": {},
   "source": [
    "### Table of contents\n",
    "1. [Reading and converting the data](#ReadingData)\n",
    "2. [Regression model fit and analysis without graphs](#RegressionAnalysisNoGraph)\n",
    "3. [Box plots of the datasets](#Boxplot)\n",
    "3. [Scatter plot of the datasets](#ScatterPlot)\n",
    "4. [Root cause analysis](#RootCause)"
   ]
  },
  {
   "cell_type": "markdown",
   "metadata": {},
   "source": [
    "## 1. Reading and converting the data <a name=\"ReadingData\"></a>\n",
    "\n",
    "First, import the required libraries."
   ]
  },
  {
   "cell_type": "code",
   "execution_count": 1,
   "metadata": {},
   "outputs": [],
   "source": [
    "import numpy as np\n",
    "import pandas as pd\n",
    "import matplotlib.pyplot as plt\n",
    "from sklearn.linear_model import LinearRegression\n",
    "import os\n",
    "%matplotlib inline"
   ]
  },
  {
   "cell_type": "markdown",
   "metadata": {},
   "source": [
    "Read the AnscombeQuartet.csv into pandas dataframe and make a printout of the observations."
   ]
  },
  {
   "cell_type": "code",
   "execution_count": 2,
   "metadata": {},
   "outputs": [
    {
     "name": "stdout",
     "output_type": "stream",
     "text": [
      "Data #1:   Data #2:   Data #3:   Data #4:  \n",
      "========= ========== ========== =========\n",
      "  x1     y1  x2    y2  x3     y3  x4     y4\n",
      " 10   8.04  10  9.14  10   7.46   8   6.58\n",
      "  8   6.95   8  8.14   8   6.77   8   5.76\n",
      " 13   7.58  13  8.74  13  12.74   8   7.71\n",
      "  9   8.81   9  8.77   9   7.11   8   8.84\n",
      " 11   8.33  11  9.26  11   7.81   8   8.47\n",
      " 14   9.96  14  8.10  14   8.84   8   7.04\n",
      "  6   7.24   6  6.13   6   6.08   8   5.25\n",
      "  4   4.26   4  3.10   4   5.39  19  12.50\n",
      " 12  10.84  12  9.13  12   8.15   8   5.56\n",
      "  7   4.82   7  7.26   7   6.42   8   7.91\n",
      "  5   5.68   5  4.74   5   5.73   8   6.89\n"
     ]
    }
   ],
   "source": [
    "data = pd.read_csv(os.path.join('data','AnscombeQuartet.csv'))\n",
    "print(\"Data #1:   Data #2:   Data #3:   Data #4:  \")\n",
    "print(\"========= ========== ========== =========\\n\",data.to_string(index=False))"
   ]
  },
  {
   "cell_type": "markdown",
   "metadata": {},
   "source": [
    "Extract the input and output values from the pandas dataframe into matrices $\\mathbf{X}$ and $\\mathbf{Y}$. In this case, each column of $\\mathbf{X}$ represents the input vector of the corresponding dataset, while each column of $\\mathbf{Y}$ represents the output vector of the corresponding dataset. Also, extract the number of observations available in the datasets."
   ]
  },
  {
   "cell_type": "code",
   "execution_count": 3,
   "metadata": {},
   "outputs": [
    {
     "name": "stdout",
     "output_type": "stream",
     "text": [
      "Number of observations in the data set are: 11\n"
     ]
    }
   ],
   "source": [
    "X=np.array(data[['x1','x2','x3','x4']])\n",
    "Y=np.array(data[['y1','y2','y3','y4']])\n",
    "N,_=data.shape\n",
    "print(\"Number of observations in the data set are:\",N)"
   ]
  },
  {
   "cell_type": "markdown",
   "metadata": {},
   "source": [
    "There are 11 observations in each of the four data sets. Let's make our linear regression analysis without making any graph, like box plot or scatter plot."
   ]
  },
  {
   "cell_type": "markdown",
   "metadata": {},
   "source": [
    "## 2. Regression model fit and analysis without graphs <a name=\"RegressionAnalysisNoGraph\"></a>\n",
    "\n",
    "First, initialize a separate pandas dataframe, which we can use to print out our regression analysis in a compact form."
   ]
  },
  {
   "cell_type": "code",
   "execution_count": 4,
   "metadata": {},
   "outputs": [],
   "source": [
    "initval=[0.0,0.0,0.0,0.0,0.0,0.0,0.0,0.0,0.0]\n",
    "col={'Data #1':initval,'Data #2':initval,'Data #3':initval,'Data #4':initval}\n",
    "idx=['Sample mean of x','Sample variance of x','Sample mean of y','Sample variance of y','Correlation coefficient',\\\n",
    "     'Intercept of the linear model','Slope of the linear model','Coefficient of determination','Regression standard error']\n",
    "df=pd.DataFrame(data=col,index=idx)"
   ]
  },
  {
   "cell_type": "markdown",
   "metadata": {},
   "source": [
    "Calculate the mean and variance of $x$ and $y$ for each dataset. Fit the simple linear regression line then calculate the correlation coefficient and coefficient of determination for each dataset. For the slope we use the formula deduced in the book, namely $w=\\frac{S_{xy}}{S_x^2}$, while for the intercept the already known formula $b=\\overline y-w\\overline x$."
   ]
  },
  {
   "cell_type": "code",
   "execution_count": 5,
   "metadata": {},
   "outputs": [],
   "source": [
    "df.loc['Sample mean of x']=np.mean(X,axis=0)\n",
    "df.loc['Sample mean of y']=np.mean(Y,axis=0)\n",
    "df.loc['Sample variance of x']=np.var(X,axis=0,ddof=1)\n",
    "df.loc['Sample variance of y']=np.var(Y,axis=0,ddof=1)\n",
    "df.loc['Correlation coefficient']=[np.corrcoef(X[:,i],Y[:,i])[0,1] for i in range(4)]\n",
    "w_=[np.cov(X[:,i],Y[:,i],ddof=1)[0,1]/np.var(X[:,i],ddof=1) for i in range(4)]\n",
    "df.loc['Intercept of the linear model']=w_\n",
    "b_=np.mean(Y,axis=0)-np.mean(X,axis=0)*w_\n",
    "df.loc['Slope of the linear model']=b_\n",
    "r2_=[1-np.sum((Y[:,i]-(w_[i]*X[:,i]+b_[i]))**2)/np.sum((Y[:,i]-Y[:,i].mean())**2) for i in range(4)]\n",
    "df.loc['Coefficient of determination']=r2_\n",
    "mse_=[np.sqrt(np.sum((Y[:,i]-(w_[i]*X[:,i]+b_[i]))**2)/(N-2)) for i in range(4)]\n",
    "df.loc['Regression standard error']=mse_"
   ]
  },
  {
   "cell_type": "markdown",
   "metadata": {},
   "source": [
    "Print out the pandas dataframe (table) of the OLS results (including model parameters and metrics)."
   ]
  },
  {
   "cell_type": "code",
   "execution_count": 6,
   "metadata": {},
   "outputs": [
    {
     "name": "stdout",
     "output_type": "stream",
     "text": [
      "                                 Data #1    Data #2    Data #3    Data #4\n",
      "Sample mean of x                9.000000   9.000000   9.000000   9.000000\n",
      "Sample variance of x           11.000000  11.000000  11.000000  11.000000\n",
      "Sample mean of y                7.500909   7.500909   7.500000   7.500909\n",
      "Sample variance of y            4.127269   4.127629   4.122620   4.123249\n",
      "Correlation coefficient         0.816421   0.816237   0.816287   0.816521\n",
      "Intercept of the linear model   0.500091   0.500000   0.499727   0.499909\n",
      "Slope of the linear model       3.000091   3.000909   3.002455   3.001727\n",
      "Coefficient of determination    0.666542   0.666242   0.666324   0.666707\n",
      "Regression standard error       1.236603   1.237214   1.236311   1.235695\n"
     ]
    }
   ],
   "source": [
    "print(df)"
   ]
  },
  {
   "cell_type": "markdown",
   "metadata": {},
   "source": [
    "We can conclude that the datasets seem very alike, having the same input/output means and variances, the same correlation coefficients, and fitting the same linear regression line with equal metrics (coefficient of determination and regression standard error). <br>\n",
    "Let's see how much we can trust these numbers."
   ]
  },
  {
   "cell_type": "markdown",
   "metadata": {},
   "source": [
    "## 3. Box plots of the datasets <a name=\"Boxplot\"></a>\n",
    "\n",
    "The first attempt would be to check some descriptive statistics other than the mean and standard deviation. For this, we can use pandas dataframe \"describe\" method directly."
   ]
  },
  {
   "cell_type": "code",
   "execution_count": 7,
   "metadata": {},
   "outputs": [
    {
     "data": {
      "text/html": [
       "<div>\n",
       "<style scoped>\n",
       "    .dataframe tbody tr th:only-of-type {\n",
       "        vertical-align: middle;\n",
       "    }\n",
       "\n",
       "    .dataframe tbody tr th {\n",
       "        vertical-align: top;\n",
       "    }\n",
       "\n",
       "    .dataframe thead th {\n",
       "        text-align: right;\n",
       "    }\n",
       "</style>\n",
       "<table border=\"1\" class=\"dataframe\">\n",
       "  <thead>\n",
       "    <tr style=\"text-align: right;\">\n",
       "      <th></th>\n",
       "      <th>x1</th>\n",
       "      <th>y1</th>\n",
       "      <th>x2</th>\n",
       "      <th>y2</th>\n",
       "      <th>x3</th>\n",
       "      <th>y3</th>\n",
       "      <th>x4</th>\n",
       "      <th>y4</th>\n",
       "    </tr>\n",
       "  </thead>\n",
       "  <tbody>\n",
       "    <tr>\n",
       "      <th>count</th>\n",
       "      <td>11.000000</td>\n",
       "      <td>11.000000</td>\n",
       "      <td>11.000000</td>\n",
       "      <td>11.000000</td>\n",
       "      <td>11.000000</td>\n",
       "      <td>11.000000</td>\n",
       "      <td>11.000000</td>\n",
       "      <td>11.000000</td>\n",
       "    </tr>\n",
       "    <tr>\n",
       "      <th>mean</th>\n",
       "      <td>9.000000</td>\n",
       "      <td>7.500909</td>\n",
       "      <td>9.000000</td>\n",
       "      <td>7.500909</td>\n",
       "      <td>9.000000</td>\n",
       "      <td>7.500000</td>\n",
       "      <td>9.000000</td>\n",
       "      <td>7.500909</td>\n",
       "    </tr>\n",
       "    <tr>\n",
       "      <th>std</th>\n",
       "      <td>3.316625</td>\n",
       "      <td>2.031568</td>\n",
       "      <td>3.316625</td>\n",
       "      <td>2.031657</td>\n",
       "      <td>3.316625</td>\n",
       "      <td>2.030424</td>\n",
       "      <td>3.316625</td>\n",
       "      <td>2.030579</td>\n",
       "    </tr>\n",
       "    <tr>\n",
       "      <th>min</th>\n",
       "      <td>4.000000</td>\n",
       "      <td>4.260000</td>\n",
       "      <td>4.000000</td>\n",
       "      <td>3.100000</td>\n",
       "      <td>4.000000</td>\n",
       "      <td>5.390000</td>\n",
       "      <td>8.000000</td>\n",
       "      <td>5.250000</td>\n",
       "    </tr>\n",
       "    <tr>\n",
       "      <th>25%</th>\n",
       "      <td>6.500000</td>\n",
       "      <td>6.315000</td>\n",
       "      <td>6.500000</td>\n",
       "      <td>6.695000</td>\n",
       "      <td>6.500000</td>\n",
       "      <td>6.250000</td>\n",
       "      <td>8.000000</td>\n",
       "      <td>6.170000</td>\n",
       "    </tr>\n",
       "    <tr>\n",
       "      <th>50%</th>\n",
       "      <td>9.000000</td>\n",
       "      <td>7.580000</td>\n",
       "      <td>9.000000</td>\n",
       "      <td>8.140000</td>\n",
       "      <td>9.000000</td>\n",
       "      <td>7.110000</td>\n",
       "      <td>8.000000</td>\n",
       "      <td>7.040000</td>\n",
       "    </tr>\n",
       "    <tr>\n",
       "      <th>75%</th>\n",
       "      <td>11.500000</td>\n",
       "      <td>8.570000</td>\n",
       "      <td>11.500000</td>\n",
       "      <td>8.950000</td>\n",
       "      <td>11.500000</td>\n",
       "      <td>7.980000</td>\n",
       "      <td>8.000000</td>\n",
       "      <td>8.190000</td>\n",
       "    </tr>\n",
       "    <tr>\n",
       "      <th>max</th>\n",
       "      <td>14.000000</td>\n",
       "      <td>10.840000</td>\n",
       "      <td>14.000000</td>\n",
       "      <td>9.260000</td>\n",
       "      <td>14.000000</td>\n",
       "      <td>12.740000</td>\n",
       "      <td>19.000000</td>\n",
       "      <td>12.500000</td>\n",
       "    </tr>\n",
       "  </tbody>\n",
       "</table>\n",
       "</div>"
      ],
      "text/plain": [
       "              x1         y1         x2         y2         x3         y3  \\\n",
       "count  11.000000  11.000000  11.000000  11.000000  11.000000  11.000000   \n",
       "mean    9.000000   7.500909   9.000000   7.500909   9.000000   7.500000   \n",
       "std     3.316625   2.031568   3.316625   2.031657   3.316625   2.030424   \n",
       "min     4.000000   4.260000   4.000000   3.100000   4.000000   5.390000   \n",
       "25%     6.500000   6.315000   6.500000   6.695000   6.500000   6.250000   \n",
       "50%     9.000000   7.580000   9.000000   8.140000   9.000000   7.110000   \n",
       "75%    11.500000   8.570000  11.500000   8.950000  11.500000   7.980000   \n",
       "max    14.000000  10.840000  14.000000   9.260000  14.000000  12.740000   \n",
       "\n",
       "              x4         y4  \n",
       "count  11.000000  11.000000  \n",
       "mean    9.000000   7.500909  \n",
       "std     3.316625   2.030579  \n",
       "min     8.000000   5.250000  \n",
       "25%     8.000000   6.170000  \n",
       "50%     8.000000   7.040000  \n",
       "75%     8.000000   8.190000  \n",
       "max    19.000000  12.500000  "
      ]
     },
     "execution_count": 7,
     "metadata": {},
     "output_type": "execute_result"
    }
   ],
   "source": [
    "data.describe()"
   ]
  },
  {
   "cell_type": "markdown",
   "metadata": {},
   "source": [
    "We can see from the table that the datasets are not identically distributed (for example, they have a different minimum or maximum values) even though they have the same means and variances. Let's create a box plot of the inputs using the \"boxplot\" method of the pandas dataframe."
   ]
  },
  {
   "cell_type": "code",
   "execution_count": 8,
   "metadata": {},
   "outputs": [
    {
     "data": {
      "image/png": "[encoded data removed]",
      "text/plain": [
       "<Figure size 432x288 with 1 Axes>"
      ]
     },
     "metadata": {
      "needs_background": "light"
     },
     "output_type": "display_data"
    }
   ],
   "source": [
    "data.boxplot(column=[\"x1\",\"x2\",\"x3\",\"x4\"])\n",
    "plt.title(\"Box plots of the 4 inputs\",fontsize=14)\n",
    "plt.show()"
   ]
  },
  {
   "cell_type": "markdown",
   "metadata": {},
   "source": [
    "The same can be applied to the outputs."
   ]
  },
  {
   "cell_type": "code",
   "execution_count": 9,
   "metadata": {},
   "outputs": [
    {
     "data": {
      "image/png": "[encoded data removed]",
      "text/plain": [
       "<Figure size 432x288 with 1 Axes>"
      ]
     },
     "metadata": {
      "needs_background": "light"
     },
     "output_type": "display_data"
    }
   ],
   "source": [
    "data.boxplot(column=[\"y1\",\"y2\",\"y3\",\"y4\"])\n",
    "plt.title(\"Box plots of the 4 outputs\",fontsize=14)\n",
    "plt.show()"
   ]
  },
  {
   "cell_type": "markdown",
   "metadata": {},
   "source": [
    "The \"boxplot\" method of the pandas dataframe uses the \"boxplot\" method of matplotlib library, and if we want to provide a title to the boxplot we can do this through *matplotlib.plot.title* method. Let's use now directly the \"boxplot\" method of matplotlib.pyplot and make some adjustment about how the boxplot, whiskers, and outliers are presented."
   ]
  },
  {
   "cell_type": "code",
   "execution_count": 10,
   "metadata": {},
   "outputs": [
    {
     "data": {
      "image/png": "[encoded data removed]",
      "text/plain": [
       "<Figure size 1080x360 with 2 Axes>"
      ]
     },
     "metadata": {
      "needs_background": "light"
     },
     "output_type": "display_data"
    }
   ],
   "source": [
    "fig, ax = plt.subplots(1, 2, figsize=(15, 5))\n",
    "bp=ax[0].boxplot([data[\"x1\"],data[\"x2\"],data[\"x3\"],data[\"x4\"]],patch_artist=True,\\\n",
    "                 boxprops = dict(linestyle='-', linewidth=3, color='darkblue',facecolor='lightblue'),\\\n",
    "                 whiskerprops=dict(linestyle='-', linewidth=3, color='black'),\\\n",
    "                 medianprops=dict(linestyle='-', linewidth=3, color='red'),\\\n",
    "                 capprops=dict(linestyle='-', linewidth=3, color='black'),\\\n",
    "                 flierprops=dict(marker='o', markerfacecolor='cyan', markersize=12))\n",
    "ax[0].set_xticklabels([\"$x_1$\",\"$x_2$\",\"$x_3$\",\"$x_4$\"], fontdict ={'fontsize':14})\n",
    "ax[0].yaxis.grid(True)\n",
    "ax[0].set_title(\"Box plots of the 4 inputs\", fontsize=14)\n",
    "ax[1].boxplot([data[\"y1\"],data[\"y2\"],data[\"y3\"],data[\"y4\"]], patch_artist=True,\\\n",
    "                 boxprops = dict(linestyle='-', linewidth=3, color='darkblue',facecolor='lightblue'),\\\n",
    "                 whiskerprops=dict(linestyle='-', linewidth=3, color='black'),\\\n",
    "                 medianprops=dict(linestyle='-', linewidth=3, color='red'),\\\n",
    "                 capprops=dict(linestyle='-', linewidth=3, color='black'),\n",
    "                 flierprops=dict(marker='o', markerfacecolor='cyan', markersize=12))\n",
    "ax[1].set_xticklabels([\"$y_1$\",\"$y_2$\",\"$y_3$\",\"$y_4$\"], fontdict ={'fontsize':14})\n",
    "ax[1].set_title(\"Box plots of the 4 outputs\", fontsize=14)\n",
    "ax[1].yaxis.grid(True)\n",
    "plt.show()"
   ]
  },
  {
   "cell_type": "markdown",
   "metadata": {},
   "source": [
    "We see that there are some differences in the distribution of the boxplots. Thus, our earlier assumption that the datasets represent the same distribution based on the statistics needs to be remediated. The datasets are not only different, but they do not represent the same distribution. Moreover, outliers are present in the 3rd and 4th datasets (in case of the 4th dataset both in $x$ and $y$ direction, which might indicate an influential point due to high leverage). "
   ]
  },
  {
   "cell_type": "markdown",
   "metadata": {},
   "source": [
    "## 4. Scatter plot of the datasets <a name=\"ScatterPlot\"></a>\n",
    "\n",
    "Although the box plots provide a glimpse of your data, the relation between input and output can be observed only from the scatter plot. So, let's make the scatter plot of the four datasets."
   ]
  },
  {
   "cell_type": "code",
   "execution_count": 11,
   "metadata": {},
   "outputs": [
    {
     "data": {
      "image/png": "[encoded data removed]",
      "text/plain": [
       "<Figure size 720x504 with 4 Axes>"
      ]
     },
     "metadata": {
      "needs_background": "light"
     },
     "output_type": "display_data"
    }
   ],
   "source": [
    "fig, ax = plt.subplots(2, 2, figsize=(10, 7))\n",
    "fig.subplots_adjust(hspace=0.4)\n",
    "for i in range(4):\n",
    "    ax[i//2,i%2].scatter(X[:,i],Y[:,i])\n",
    "    ax[i//2,i%2].plot(X[:,i],X[:,i]*w_[i]+b_[i],'r')\n",
    "    ax[i//2,i%2].set_title('Dataset #'+str(i+1),fontsize=14)\n",
    "    ax[i//2,i%2].set_xlabel('$x_'+str(i+1)+'$',fontsize=14)\n",
    "    ax[i//2,i%2].set_ylabel('$y_'+str(i+1)+'$',fontsize=14)\n",
    "plt.show()"
   ]
  },
  {
   "cell_type": "markdown",
   "metadata": {},
   "source": [
    "From the graphs we have a completely different picture:\n",
    "- The first scatter plot (top left) appears to be a simple linear relationship, corresponding to two variables ($x_1$ and $y_1$) correlated and following the assumption of normality.\n",
    "- The second graph (top right) shows a nonlinear (parabolic) relationship between the two variables ($x_2$ and $y_2$).\n",
    "- In the third graph (bottom left), the relation is linear but should have a slightly different regression line. The calculated regression is offset by the outlier. Removing the outlier the correlation would be increased between the two variables (($x_3$ and $y_3$)).\n",
    "- Finally, the fourth graph (bottom right) shows an example when one outlier is enough to produce a high correlation coefficient, even though the other data points do not indicate any relationship between the variables ($x_4$ and $y_4$).\n",
    "\n",
    "**Note:** *It should be observed that the box plot for the output of the 2nd dataset shows an outlier. However, looking at the scatter plot (top right) we cannot see any outlier. The reason is that $y$ values of the observations are mostly in the interval of [6,10], only two out of the 11 observations have $y<6$. Thus, the minimum value of $y$ is considered an outlier in the box plot.*"
   ]
  },
  {
   "cell_type": "markdown",
   "metadata": {},
   "source": [
    "## 5. Root cause analysis <a name=\"RootCause\"></a>\n",
    "\n",
    "Let's check one by one of these graphs. The first dataset should be already familiar, the scatter plot shows a linear relationship between input and output variables. No outlier is present, so we do not need to further analyze. <br>\n",
    "The second one seems to be a parabolic shape, so let's try to fit one using polynomial regression. <br>\n",
    "**Note:** *Polynomial regression models are discussed in Chapter 3 of the book.*"
   ]
  },
  {
   "cell_type": "code",
   "execution_count": 12,
   "metadata": {},
   "outputs": [
    {
     "name": "stdout",
     "output_type": "stream",
     "text": [
      "Coefficients of the linear model: [ 2.78083916 -0.12671329]\n",
      "Constant term (intercept) of the linear model: -5.995734265734267\n",
      "Residual Sum of Squares: RSS = 2.237762237763242e-05\n"
     ]
    }
   ],
   "source": [
    "linregr=LinearRegression()\n",
    "X2=np.array([X[:,1],X[:,1]**2]).T\n",
    "linregr.fit(X2,Y[:,1])\n",
    "print(\"Coefficients of the linear model:\",linregr.coef_)\n",
    "print(\"Constant term (intercept) of the linear model:\",linregr.intercept_)\n",
    "resid=np.sum((Y[:,1]-linregr.predict(X2))**2)\n",
    "print(\"Residual Sum of Squares: RSS =\",resid)"
   ]
  },
  {
   "cell_type": "markdown",
   "metadata": {},
   "source": [
    "Because $\\text{RSS}\\cong0$, the relationship between x and y is (almost) deterministic.\n",
    "That is, $y=-5.99573426573+2.78083916 x -0.12671329 x^2$ <br>\n",
    "Let's, plot the polinomial regression line together with the scatter plot."
   ]
  },
  {
   "cell_type": "code",
   "execution_count": 13,
   "metadata": {},
   "outputs": [
    {
     "data": {
      "image/png": "[encoded data removed]",
      "text/plain": [
       "<Figure size 432x288 with 1 Axes>"
      ]
     },
     "metadata": {
      "needs_background": "light"
     },
     "output_type": "display_data"
    }
   ],
   "source": [
    "plt.scatter(X[:,1],Y[:,1])\n",
    "x_=np.linspace(3.8,14.2,100)\n",
    "plt.plot(x_,linregr.predict(np.array([x_,x_**2]).T),'r')\n",
    "plt.title(\"Data set #2 with polinomial model fit\")\n",
    "plt.xlabel(\"$x_2$\")\n",
    "plt.ylabel(\"$y_2$\")\n",
    "plt.show()"
   ]
  },
  {
   "cell_type": "markdown",
   "metadata": {},
   "source": [
    "As a conclusion, fitting a linear relationship on a nonlinear data is not revealed by the correlation coefficient ($r=0.82$), nor by the coefficient of determination ($R^2=0.67$). Thus, one should check the data graphically before making any assessment of the goodness of the model.\n",
    "\n",
    "In the case of the 3rd dataset, we see that there is an outlier. Let's remove this outlier from the third data set."
   ]
  },
  {
   "cell_type": "code",
   "execution_count": 14,
   "metadata": {},
   "outputs": [
    {
     "name": "stdout",
     "output_type": "stream",
     "text": [
      "Correlation of coefficient: 0.9999965537848281\n",
      "Intercept and slope of the model: 0.34538961038961047 4.005649350649351\n"
     ]
    }
   ],
   "source": [
    "x3_=X[:,2]\n",
    "y3_=Y[:,2]\n",
    "idx=np.argmax(y3_)\n",
    "x3_=np.delete(x3_,idx,axis=0)\n",
    "y3_=np.delete(y3_,idx,axis=0)\n",
    "print(\"Correlation of coefficient:\",np.corrcoef(x3_,y3_)[0,1])\n",
    "linregr.fit(x3_.reshape(-1, 1),y3_)\n",
    "print(\"Intercept and slope of the model:\",linregr.coef_[0],linregr.intercept_)"
   ]
  },
  {
   "cell_type": "markdown",
   "metadata": {},
   "source": [
    "We and up again in a deterministic relationship between $x$ and $y$ ($y=0.34538961039+4.00564935065 \\cdot x$) after removing the outlier because $r\\cong+1$.\n",
    "\n",
    "As a conclusion, we have a deterministic relationship without the outlier while we have a weak relationship between $x$ and $y$ with the outlier. We can create the scatter plot together with the estimated regression line to make this visible after the outlier removed. "
   ]
  },
  {
   "cell_type": "code",
   "execution_count": 15,
   "metadata": {},
   "outputs": [
    {
     "data": {
      "image/png": "[encoded data removed]",
      "text/plain": [
       "<Figure size 432x288 with 1 Axes>"
      ]
     },
     "metadata": {
      "needs_background": "light"
     },
     "output_type": "display_data"
    }
   ],
   "source": [
    "plt.scatter(x3_,y3_)\n",
    "plt.plot(x3_[:,np.newaxis],linregr.predict(x3_[:,np.newaxis]),'r')\n",
    "plt.title(\"Data set #3 with outlier removed\")\n",
    "plt.xlabel(\"$x_3$\")\n",
    "plt.ylabel(\"$y_3$\")\n",
    "plt.show()"
   ]
  },
  {
   "cell_type": "markdown",
   "metadata": {},
   "source": [
    "Finally, let's remove the outlier from the fourth data set. Because the variance of $x$ is zero, we cannot compute the correlation coefficient, only the covariance between the $x$ and $y$."
   ]
  },
  {
   "cell_type": "code",
   "execution_count": 16,
   "metadata": {},
   "outputs": [
    {
     "name": "stdout",
     "output_type": "stream",
     "text": [
      "Variance of x: 0.0\n",
      "Covariance between input and output: 0.0\n"
     ]
    }
   ],
   "source": [
    "x4_=X[:,3]\n",
    "y4_=Y[:,3]\n",
    "idx=np.argmax(y4_)\n",
    "x4_=np.delete(x4_,idx,axis=0)\n",
    "y4_=np.delete(y4_,idx,axis=0)\n",
    "print(\"Variance of x:\",np.var(x4_))\n",
    "print(\"Covariance between input and output:\",np.cov(x4_,y4_)[0,1])"
   ]
  },
  {
   "cell_type": "markdown",
   "metadata": {},
   "source": [
    "The dataset with the outlier included shows a relatively strong correlation between the input and output ($r=0.82$). However, removing the outlier, there is no correlation between the input and output."
   ]
  },
  {
   "cell_type": "code",
   "execution_count": 17,
   "metadata": {},
   "outputs": [
    {
     "data": {
      "image/png": "[encoded data removed]",
      "text/plain": [
       "<Figure size 432x288 with 1 Axes>"
      ]
     },
     "metadata": {
      "needs_background": "light"
     },
     "output_type": "display_data"
    }
   ],
   "source": [
    "plt.scatter(x4_,y4_)\n",
    "plt.title(\"Data set #4 with outlier removed\")\n",
    "plt.xlabel(\"$x_4$\")\n",
    "plt.ylabel(\"$y_4$\")\n",
    "plt.show()"
   ]
  },
  {
   "cell_type": "markdown",
   "metadata": {},
   "source": [
    "In conclusion, we should never trust only the numbers. A visual inspection shall be always carried out."
   ]
  },
  {
   "cell_type": "markdown",
   "metadata": {},
   "source": [
    "<img src = \"images/AML1-Cover.png\" width = 90, align = \"left\" style=\"margin:0px 20px\">\n",
    "\n",
    "**Note:** This Jupyter Notebook is accompanying the book: <br><i>\"Machine Learning - From Theory to Practice with NumPy and scikit-learn, Volume 1: Generalized Linear Models\"</i><br>\n",
    "by Ferenc Farkas, Ph.D. \n",
    "\n",
    "If you find this Notebook useful, please support me by buying the book at [Leanpub](http://leanpub.com/AML1). <br>\n",
    "Copyright notice: This Jupyter Notebook is made available under the [MIT License](https://opensource.org/licenses/MIT)."
   ]
  },
  {
   "cell_type": "code",
   "execution_count": null,
   "metadata": {},
   "outputs": [],
   "source": []
  }
 ],
 "metadata": {
  "kernelspec": {
   "display_name": "Python 3",
   "language": "python",
   "name": "python3"
  },
  "language_info": {
   "codemirror_mode": {
    "name": "ipython",
    "version": 3
   },
   "file_extension": ".py",
   "mimetype": "text/x-python",
   "name": "python",
   "nbconvert_exporter": "python",
   "pygments_lexer": "ipython3",
   "version": "3.7.3"
  }
 },
 "nbformat": 4,
 "nbformat_minor": 2
}
