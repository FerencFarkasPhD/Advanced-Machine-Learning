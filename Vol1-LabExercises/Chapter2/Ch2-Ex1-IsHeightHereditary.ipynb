{
 "cells": [
  {
   "cell_type": "markdown",
   "metadata": {
    "colab_type": "text",
    "id": "tr9o4rl9fUBh"
   },
   "source": [
    "<img src = \"images/Logo.png\" width = 220, align = \"left\">\n",
    "\n",
    "<h1 align=center><font size = 6>Is Height Hereditary?</font></h1>\n",
    "<h2 align=center><font size = 5>Lab Exercise 2.1</font></h2>\n",
    "<h3 align=center><font size = 4><b>Advanced Machine Learning<br></b><small>From Theory to Practice with NumPy and scikit-learn<br><i>Volume 1: Generalized Linear Models</i></font></h3>"
   ]
  },
  {
   "cell_type": "markdown",
   "metadata": {},
   "source": [
    "## Introduction\n",
    "\n",
    "In this lab exercise we will have a quick tour in the linear regression by taking the original dataset used by Galton in his publication:<br>\n",
    "Galton, F. (1886).  Regression Towards Mediocrity in Hereditary Stature, Journal of the Anthropological Institute, 15, pp. 246-263\n",
    "\n",
    "The dataset contains height in inches of hundred of members of families. The goal is to find the so-called \"law of regression\" as Galton called the relationship between the parents' mid-height and their children's height. This lab exercise will not focus on every detail, that will be done in later exercises, just shows the essence of the linear regression. <br>\n",
    "**Note**: *The dataset was taken from the **Hist** package of the R language.*"
   ]
  },
  {
   "cell_type": "markdown",
   "metadata": {},
   "source": [
    "### Table of contents\n",
    "1. [Reading the data](#ReadingData)\n",
    "2. [Scatter plot of the observations](#ScatterPlot)\n",
    "3. [Average of children's height for different parents' mid height](#AvgChildHeight)\n",
    "4. [The \"law of regression\"](#RegressionLaw)\n",
    "5. [Regression using multiple input variables](#MultiRegression)"
   ]
  },
  {
   "cell_type": "markdown",
   "metadata": {},
   "source": [
    "## 1. Reading the data <a name=\"ReadingData\"></a>\n",
    "\n",
    "As a first step, we import the required libraries. More information on installation and documentation for the libraries can be found in the following list:\n",
    "- NumPy (http://www.numpy.org/) is used for array manipulations (vectors and matrices), \n",
    "- pandas (https://pandas.pydata.org/) is used for database manipulations,\n",
    "- matplotlib (https://matplotlib.org/) is used for making nice graphics,\n",
    "- scipy (https://www.scipy.org/) is a scientific library,\n",
    "- seaborn (https://seaborn.pydata.org/) is a statistical graphical package based on matplotlib,\n",
    "- statsmodels (https://www.statsmodels.org/stable/index.html) is a module containing several statistical models,\n",
    "- sklearn module (https://scikit-learn.org/stable/) is a collection of machine learning algorithms."
   ]
  },
  {
   "cell_type": "code",
   "execution_count": 1,
   "metadata": {},
   "outputs": [],
   "source": [
    "import numpy as np\n",
    "import pandas as pd\n",
    "import matplotlib.pyplot as plt\n",
    "import seaborn as sns\n",
    "import scipy\n",
    "from statsmodels.formula.api import ols\n",
    "from sklearn.linear_model import LinearRegression\n",
    "import os\n",
    "%matplotlib inline"
   ]
  },
  {
   "cell_type": "markdown",
   "metadata": {},
   "source": [
    "Let's read the dataset and print out the first 20 rows of it to have the first glimpse of the data."
   ]
  },
  {
   "cell_type": "code",
   "execution_count": 2,
   "metadata": {},
   "outputs": [
    {
     "data": {
      "text/html": [
       "<div>\n",
       "<style scoped>\n",
       "    .dataframe tbody tr th:only-of-type {\n",
       "        vertical-align: middle;\n",
       "    }\n",
       "\n",
       "    .dataframe tbody tr th {\n",
       "        vertical-align: top;\n",
       "    }\n",
       "\n",
       "    .dataframe thead th {\n",
       "        text-align: right;\n",
       "    }\n",
       "</style>\n",
       "<table border=\"1\" class=\"dataframe\">\n",
       "  <thead>\n",
       "    <tr style=\"text-align: right;\">\n",
       "      <th></th>\n",
       "      <th>Unnamed: 0</th>\n",
       "      <th>family</th>\n",
       "      <th>father</th>\n",
       "      <th>mother</th>\n",
       "      <th>midparentHeight</th>\n",
       "      <th>children</th>\n",
       "      <th>childNum</th>\n",
       "      <th>gender</th>\n",
       "      <th>childHeight</th>\n",
       "    </tr>\n",
       "  </thead>\n",
       "  <tbody>\n",
       "    <tr>\n",
       "      <th>0</th>\n",
       "      <td>1</td>\n",
       "      <td>001</td>\n",
       "      <td>78.5</td>\n",
       "      <td>67.0</td>\n",
       "      <td>75.43</td>\n",
       "      <td>4</td>\n",
       "      <td>1</td>\n",
       "      <td>male</td>\n",
       "      <td>73.2</td>\n",
       "    </tr>\n",
       "    <tr>\n",
       "      <th>1</th>\n",
       "      <td>2</td>\n",
       "      <td>001</td>\n",
       "      <td>78.5</td>\n",
       "      <td>67.0</td>\n",
       "      <td>75.43</td>\n",
       "      <td>4</td>\n",
       "      <td>2</td>\n",
       "      <td>female</td>\n",
       "      <td>69.2</td>\n",
       "    </tr>\n",
       "    <tr>\n",
       "      <th>2</th>\n",
       "      <td>3</td>\n",
       "      <td>001</td>\n",
       "      <td>78.5</td>\n",
       "      <td>67.0</td>\n",
       "      <td>75.43</td>\n",
       "      <td>4</td>\n",
       "      <td>3</td>\n",
       "      <td>female</td>\n",
       "      <td>69.0</td>\n",
       "    </tr>\n",
       "    <tr>\n",
       "      <th>3</th>\n",
       "      <td>4</td>\n",
       "      <td>001</td>\n",
       "      <td>78.5</td>\n",
       "      <td>67.0</td>\n",
       "      <td>75.43</td>\n",
       "      <td>4</td>\n",
       "      <td>4</td>\n",
       "      <td>female</td>\n",
       "      <td>69.0</td>\n",
       "    </tr>\n",
       "    <tr>\n",
       "      <th>4</th>\n",
       "      <td>5</td>\n",
       "      <td>002</td>\n",
       "      <td>75.5</td>\n",
       "      <td>66.5</td>\n",
       "      <td>73.66</td>\n",
       "      <td>4</td>\n",
       "      <td>1</td>\n",
       "      <td>male</td>\n",
       "      <td>73.5</td>\n",
       "    </tr>\n",
       "    <tr>\n",
       "      <th>5</th>\n",
       "      <td>6</td>\n",
       "      <td>002</td>\n",
       "      <td>75.5</td>\n",
       "      <td>66.5</td>\n",
       "      <td>73.66</td>\n",
       "      <td>4</td>\n",
       "      <td>2</td>\n",
       "      <td>male</td>\n",
       "      <td>72.5</td>\n",
       "    </tr>\n",
       "    <tr>\n",
       "      <th>6</th>\n",
       "      <td>7</td>\n",
       "      <td>002</td>\n",
       "      <td>75.5</td>\n",
       "      <td>66.5</td>\n",
       "      <td>73.66</td>\n",
       "      <td>4</td>\n",
       "      <td>3</td>\n",
       "      <td>female</td>\n",
       "      <td>65.5</td>\n",
       "    </tr>\n",
       "    <tr>\n",
       "      <th>7</th>\n",
       "      <td>8</td>\n",
       "      <td>002</td>\n",
       "      <td>75.5</td>\n",
       "      <td>66.5</td>\n",
       "      <td>73.66</td>\n",
       "      <td>4</td>\n",
       "      <td>4</td>\n",
       "      <td>female</td>\n",
       "      <td>65.5</td>\n",
       "    </tr>\n",
       "    <tr>\n",
       "      <th>8</th>\n",
       "      <td>9</td>\n",
       "      <td>003</td>\n",
       "      <td>75.0</td>\n",
       "      <td>64.0</td>\n",
       "      <td>72.06</td>\n",
       "      <td>2</td>\n",
       "      <td>1</td>\n",
       "      <td>male</td>\n",
       "      <td>71.0</td>\n",
       "    </tr>\n",
       "    <tr>\n",
       "      <th>9</th>\n",
       "      <td>10</td>\n",
       "      <td>003</td>\n",
       "      <td>75.0</td>\n",
       "      <td>64.0</td>\n",
       "      <td>72.06</td>\n",
       "      <td>2</td>\n",
       "      <td>2</td>\n",
       "      <td>female</td>\n",
       "      <td>68.0</td>\n",
       "    </tr>\n",
       "    <tr>\n",
       "      <th>10</th>\n",
       "      <td>11</td>\n",
       "      <td>004</td>\n",
       "      <td>75.0</td>\n",
       "      <td>64.0</td>\n",
       "      <td>72.06</td>\n",
       "      <td>5</td>\n",
       "      <td>1</td>\n",
       "      <td>male</td>\n",
       "      <td>70.5</td>\n",
       "    </tr>\n",
       "    <tr>\n",
       "      <th>11</th>\n",
       "      <td>12</td>\n",
       "      <td>004</td>\n",
       "      <td>75.0</td>\n",
       "      <td>64.0</td>\n",
       "      <td>72.06</td>\n",
       "      <td>5</td>\n",
       "      <td>2</td>\n",
       "      <td>male</td>\n",
       "      <td>68.5</td>\n",
       "    </tr>\n",
       "    <tr>\n",
       "      <th>12</th>\n",
       "      <td>13</td>\n",
       "      <td>004</td>\n",
       "      <td>75.0</td>\n",
       "      <td>64.0</td>\n",
       "      <td>72.06</td>\n",
       "      <td>5</td>\n",
       "      <td>3</td>\n",
       "      <td>female</td>\n",
       "      <td>67.0</td>\n",
       "    </tr>\n",
       "    <tr>\n",
       "      <th>13</th>\n",
       "      <td>14</td>\n",
       "      <td>004</td>\n",
       "      <td>75.0</td>\n",
       "      <td>64.0</td>\n",
       "      <td>72.06</td>\n",
       "      <td>5</td>\n",
       "      <td>4</td>\n",
       "      <td>female</td>\n",
       "      <td>64.5</td>\n",
       "    </tr>\n",
       "    <tr>\n",
       "      <th>14</th>\n",
       "      <td>15</td>\n",
       "      <td>004</td>\n",
       "      <td>75.0</td>\n",
       "      <td>64.0</td>\n",
       "      <td>72.06</td>\n",
       "      <td>5</td>\n",
       "      <td>5</td>\n",
       "      <td>female</td>\n",
       "      <td>63.0</td>\n",
       "    </tr>\n",
       "    <tr>\n",
       "      <th>15</th>\n",
       "      <td>16</td>\n",
       "      <td>005</td>\n",
       "      <td>75.0</td>\n",
       "      <td>58.5</td>\n",
       "      <td>69.09</td>\n",
       "      <td>6</td>\n",
       "      <td>1</td>\n",
       "      <td>male</td>\n",
       "      <td>72.0</td>\n",
       "    </tr>\n",
       "    <tr>\n",
       "      <th>16</th>\n",
       "      <td>17</td>\n",
       "      <td>005</td>\n",
       "      <td>75.0</td>\n",
       "      <td>58.5</td>\n",
       "      <td>69.09</td>\n",
       "      <td>6</td>\n",
       "      <td>2</td>\n",
       "      <td>male</td>\n",
       "      <td>69.0</td>\n",
       "    </tr>\n",
       "    <tr>\n",
       "      <th>17</th>\n",
       "      <td>18</td>\n",
       "      <td>005</td>\n",
       "      <td>75.0</td>\n",
       "      <td>58.5</td>\n",
       "      <td>69.09</td>\n",
       "      <td>6</td>\n",
       "      <td>3</td>\n",
       "      <td>male</td>\n",
       "      <td>68.0</td>\n",
       "    </tr>\n",
       "    <tr>\n",
       "      <th>18</th>\n",
       "      <td>19</td>\n",
       "      <td>005</td>\n",
       "      <td>75.0</td>\n",
       "      <td>58.5</td>\n",
       "      <td>69.09</td>\n",
       "      <td>6</td>\n",
       "      <td>4</td>\n",
       "      <td>female</td>\n",
       "      <td>66.5</td>\n",
       "    </tr>\n",
       "    <tr>\n",
       "      <th>19</th>\n",
       "      <td>20</td>\n",
       "      <td>005</td>\n",
       "      <td>75.0</td>\n",
       "      <td>58.5</td>\n",
       "      <td>69.09</td>\n",
       "      <td>6</td>\n",
       "      <td>5</td>\n",
       "      <td>female</td>\n",
       "      <td>62.5</td>\n",
       "    </tr>\n",
       "  </tbody>\n",
       "</table>\n",
       "</div>"
      ],
      "text/plain": [
       "    Unnamed: 0 family  father  mother  midparentHeight  children  childNum  \\\n",
       "0            1    001    78.5    67.0            75.43         4         1   \n",
       "1            2    001    78.5    67.0            75.43         4         2   \n",
       "2            3    001    78.5    67.0            75.43         4         3   \n",
       "3            4    001    78.5    67.0            75.43         4         4   \n",
       "4            5    002    75.5    66.5            73.66         4         1   \n",
       "5            6    002    75.5    66.5            73.66         4         2   \n",
       "6            7    002    75.5    66.5            73.66         4         3   \n",
       "7            8    002    75.5    66.5            73.66         4         4   \n",
       "8            9    003    75.0    64.0            72.06         2         1   \n",
       "9           10    003    75.0    64.0            72.06         2         2   \n",
       "10          11    004    75.0    64.0            72.06         5         1   \n",
       "11          12    004    75.0    64.0            72.06         5         2   \n",
       "12          13    004    75.0    64.0            72.06         5         3   \n",
       "13          14    004    75.0    64.0            72.06         5         4   \n",
       "14          15    004    75.0    64.0            72.06         5         5   \n",
       "15          16    005    75.0    58.5            69.09         6         1   \n",
       "16          17    005    75.0    58.5            69.09         6         2   \n",
       "17          18    005    75.0    58.5            69.09         6         3   \n",
       "18          19    005    75.0    58.5            69.09         6         4   \n",
       "19          20    005    75.0    58.5            69.09         6         5   \n",
       "\n",
       "    gender  childHeight  \n",
       "0     male         73.2  \n",
       "1   female         69.2  \n",
       "2   female         69.0  \n",
       "3   female         69.0  \n",
       "4     male         73.5  \n",
       "5     male         72.5  \n",
       "6   female         65.5  \n",
       "7   female         65.5  \n",
       "8     male         71.0  \n",
       "9   female         68.0  \n",
       "10    male         70.5  \n",
       "11    male         68.5  \n",
       "12  female         67.0  \n",
       "13  female         64.5  \n",
       "14  female         63.0  \n",
       "15    male         72.0  \n",
       "16    male         69.0  \n",
       "17    male         68.0  \n",
       "18  female         66.5  \n",
       "19  female         62.5  "
      ]
     },
     "execution_count": 2,
     "metadata": {},
     "output_type": "execute_result"
    }
   ],
   "source": [
    "data = pd.read_csv(os.path.join('data','GaltonFamilies.csv'))\n",
    "data.head(20)"
   ]
  },
  {
   "cell_type": "markdown",
   "metadata": {},
   "source": [
    "Examining the dataset we can observe that in each family (identified by the *family* column) the height of both the father and mother is given in inches, and their average is also calculated and stored in column *midparentHeight*. Then the number of children in the family is provided (*children*), together with a child identifier within the family (*childNum*). Finally, the gender (*gender*) and height (*childHeight*) of the children are provided."
   ]
  },
  {
   "cell_type": "markdown",
   "metadata": {},
   "source": [
    "## 2. Scatter plot of the observations <a name=\"ScatterPlot\"></a>\n",
    "\n",
    "Let's make a scatter plot of the children's height vs. their parent's height. At the same time draw a line that reflects the linear relation between the parent's mid-height and their children's average height, called the regression line. In later lab exercises, we will have a deep mathematical understanding of how this line is defined. However, for the moment, we will just try to figure out what a regression line represents."
   ]
  },
  {
   "cell_type": "code",
   "execution_count": 3,
   "metadata": {},
   "outputs": [
    {
     "data": {
      "image/png": "[encoded data removed]",
      "text/plain": [
       "<Figure size 432x288 with 1 Axes>"
      ]
     },
     "metadata": {
      "needs_background": "light"
     },
     "output_type": "display_data"
    }
   ],
   "source": [
    "sns.regplot(x='midparentHeight',y='childHeight',ci=None,data=data,scatter_kws={\"s\": 15})\n",
    "plt.title(\"Children's height vs. their parents' mid height\",size=14)\n",
    "plt.xlabel(\"Parents' mid height [inch]\",size=12)\n",
    "plt.ylabel(\"Children's height [inch]\",size=12)\n",
    "plt.show()"
   ]
  },
  {
   "cell_type": "markdown",
   "metadata": {},
   "source": [
    "This is how far a simple linear regression is discussed in most online training or blog. While we will provide in later exercises an accurate mathematical formulation for the linear regression line, for the moment we will only see an intuitive example of how this line is obtained."
   ]
  },
  {
   "cell_type": "markdown",
   "metadata": {},
   "source": [
    "## 3. Average of children's height for different parents' mid height <a name=\"AvgChildHeight\"></a>\n",
    "\n",
    "Let's see what is the difference between the maximum and minimum value of the *midparentHeight*."
   ]
  },
  {
   "cell_type": "code",
   "execution_count": 4,
   "metadata": {},
   "outputs": [
    {
     "name": "stdout",
     "output_type": "stream",
     "text": [
      "11.030000000000001\n"
     ]
    }
   ],
   "source": [
    "print(data.midparentHeight.max()-data.midparentHeight.min())"
   ]
  },
  {
   "cell_type": "markdown",
   "metadata": {},
   "source": [
    "That is almost an integer value, thus let's divide the *midparentHeight* into eleven intervals, called bins, where the length of each interval is around one inch. Then create a new column, called *Parents' mid height*, which stores the bin value (interval) of the *midparentHeight* for that particular row."
   ]
  },
  {
   "cell_type": "code",
   "execution_count": 5,
   "metadata": {},
   "outputs": [
    {
     "data": {
      "text/html": [
       "<div>\n",
       "<style scoped>\n",
       "    .dataframe tbody tr th:only-of-type {\n",
       "        vertical-align: middle;\n",
       "    }\n",
       "\n",
       "    .dataframe tbody tr th {\n",
       "        vertical-align: top;\n",
       "    }\n",
       "\n",
       "    .dataframe thead th {\n",
       "        text-align: right;\n",
       "    }\n",
       "</style>\n",
       "<table border=\"1\" class=\"dataframe\">\n",
       "  <thead>\n",
       "    <tr style=\"text-align: right;\">\n",
       "      <th></th>\n",
       "      <th>Unnamed: 0</th>\n",
       "      <th>family</th>\n",
       "      <th>father</th>\n",
       "      <th>mother</th>\n",
       "      <th>midparentHeight</th>\n",
       "      <th>children</th>\n",
       "      <th>childNum</th>\n",
       "      <th>gender</th>\n",
       "      <th>childHeight</th>\n",
       "      <th>Parents' mid height</th>\n",
       "    </tr>\n",
       "  </thead>\n",
       "  <tbody>\n",
       "    <tr>\n",
       "      <th>0</th>\n",
       "      <td>1</td>\n",
       "      <td>001</td>\n",
       "      <td>78.5</td>\n",
       "      <td>67.0</td>\n",
       "      <td>75.43</td>\n",
       "      <td>4</td>\n",
       "      <td>1</td>\n",
       "      <td>male</td>\n",
       "      <td>73.2</td>\n",
       "      <td>(74.427, 75.43]</td>\n",
       "    </tr>\n",
       "    <tr>\n",
       "      <th>1</th>\n",
       "      <td>2</td>\n",
       "      <td>001</td>\n",
       "      <td>78.5</td>\n",
       "      <td>67.0</td>\n",
       "      <td>75.43</td>\n",
       "      <td>4</td>\n",
       "      <td>2</td>\n",
       "      <td>female</td>\n",
       "      <td>69.2</td>\n",
       "      <td>(74.427, 75.43]</td>\n",
       "    </tr>\n",
       "    <tr>\n",
       "      <th>2</th>\n",
       "      <td>3</td>\n",
       "      <td>001</td>\n",
       "      <td>78.5</td>\n",
       "      <td>67.0</td>\n",
       "      <td>75.43</td>\n",
       "      <td>4</td>\n",
       "      <td>3</td>\n",
       "      <td>female</td>\n",
       "      <td>69.0</td>\n",
       "      <td>(74.427, 75.43]</td>\n",
       "    </tr>\n",
       "    <tr>\n",
       "      <th>3</th>\n",
       "      <td>4</td>\n",
       "      <td>001</td>\n",
       "      <td>78.5</td>\n",
       "      <td>67.0</td>\n",
       "      <td>75.43</td>\n",
       "      <td>4</td>\n",
       "      <td>4</td>\n",
       "      <td>female</td>\n",
       "      <td>69.0</td>\n",
       "      <td>(74.427, 75.43]</td>\n",
       "    </tr>\n",
       "    <tr>\n",
       "      <th>4</th>\n",
       "      <td>5</td>\n",
       "      <td>002</td>\n",
       "      <td>75.5</td>\n",
       "      <td>66.5</td>\n",
       "      <td>73.66</td>\n",
       "      <td>4</td>\n",
       "      <td>1</td>\n",
       "      <td>male</td>\n",
       "      <td>73.5</td>\n",
       "      <td>(73.425, 74.427]</td>\n",
       "    </tr>\n",
       "  </tbody>\n",
       "</table>\n",
       "</div>"
      ],
      "text/plain": [
       "   Unnamed: 0 family  father  mother  midparentHeight  children  childNum  \\\n",
       "0           1    001    78.5    67.0            75.43         4         1   \n",
       "1           2    001    78.5    67.0            75.43         4         2   \n",
       "2           3    001    78.5    67.0            75.43         4         3   \n",
       "3           4    001    78.5    67.0            75.43         4         4   \n",
       "4           5    002    75.5    66.5            73.66         4         1   \n",
       "\n",
       "   gender  childHeight Parents' mid height  \n",
       "0    male         73.2     (74.427, 75.43]  \n",
       "1  female         69.2     (74.427, 75.43]  \n",
       "2  female         69.0     (74.427, 75.43]  \n",
       "3  female         69.0     (74.427, 75.43]  \n",
       "4    male         73.5    (73.425, 74.427]  "
      ]
     },
     "execution_count": 5,
     "metadata": {},
     "output_type": "execute_result"
    }
   ],
   "source": [
    "data[\"Parents' mid height\"]=pd.cut(data.midparentHeight,11)\n",
    "data.head()"
   ]
  },
  {
   "cell_type": "markdown",
   "metadata": {},
   "source": [
    "Now, let's make another scatter plot, but at this time we will use a different color for every bin (interval). "
   ]
  },
  {
   "cell_type": "code",
   "execution_count": 6,
   "metadata": {},
   "outputs": [
    {
     "data": {
      "image/png": "[encoded data removed]",
      "text/plain": [
       "<Figure size 432x288 with 1 Axes>"
      ]
     },
     "metadata": {
      "needs_background": "light"
     },
     "output_type": "display_data"
    }
   ],
   "source": [
    "sns.scatterplot(x='midparentHeight',y='childHeight',palette='colorblind',hue=\"Parents' mid height\",data=data)\n",
    "plt.title(\"Children's height vs. their parents' mid height\",size=14)\n",
    "plt.xlabel(\"Parents' mid height [inch]\",size=12)\n",
    "plt.ylabel(\"Children's height [inch]\",size=12)\n",
    "plt.legend(bbox_to_anchor=(1.05, 1), loc=2, borderaxespad=0.)\n",
    "plt.show()"
   ]
  },
  {
   "cell_type": "markdown",
   "metadata": {},
   "source": [
    "Then, let's see the mean (average) value of each bin (interval):"
   ]
  },
  {
   "cell_type": "code",
   "execution_count": 7,
   "metadata": {},
   "outputs": [
    {
     "data": {
      "text/plain": [
       "Parents' mid height\n",
       "(64.389, 65.403]    64.144828\n",
       "(65.403, 66.405]    64.264516\n",
       "(66.405, 67.408]    65.665823\n",
       "(67.408, 68.411]    66.161871\n",
       "(68.411, 69.414]    66.236475\n",
       "(69.414, 70.416]    67.333937\n",
       "(70.416, 71.419]    67.841176\n",
       "(71.419, 72.422]    68.232000\n",
       "(72.422, 73.425]    69.500000\n",
       "(73.425, 74.427]    70.415789\n",
       "(74.427, 75.43]     70.100000\n",
       "Name: childHeight, dtype: float64"
      ]
     },
     "execution_count": 7,
     "metadata": {},
     "output_type": "execute_result"
    }
   ],
   "source": [
    "data.groupby(\"Parents' mid height\")['childHeight'].mean()"
   ]
  },
  {
   "cell_type": "markdown",
   "metadata": {},
   "source": [
    "Calculate both the average of the parents' mid-height and the children's height for the whole dataset."
   ]
  },
  {
   "cell_type": "code",
   "execution_count": 8,
   "metadata": {},
   "outputs": [
    {
     "name": "stdout",
     "output_type": "stream",
     "text": [
      "69.20677301927185\n",
      "66.74593147751597\n"
     ]
    }
   ],
   "source": [
    "print(data['midparentHeight'].mean())\n",
    "print(data['childHeight'].mean())"
   ]
  },
  {
   "cell_type": "markdown",
   "metadata": {},
   "source": [
    "Then let's convert the interval to integer values which can be used for our drawing:"
   ]
  },
  {
   "cell_type": "code",
   "execution_count": 9,
   "metadata": {},
   "outputs": [
    {
     "name": "stdout",
     "output_type": "stream",
     "text": [
      "[65, 66, 67, 68, 69, 70, 71, 72, 73, 74, 75]\n"
     ]
    }
   ],
   "source": [
    "parentsIntHeight=[int(pd.to_numeric(data.groupby(\"Parents' mid height\")['childHeight'].mean().index[i].left))+1 \\\n",
    "                  for i in range(11)]\n",
    "print(parentsIntHeight)"
   ]
  },
  {
   "cell_type": "markdown",
   "metadata": {},
   "source": [
    "Finally, make a scatter plot of the children's mean height vs. these integer values of parent's mid-height. We can also draw the regression line that we have done before using all the data points."
   ]
  },
  {
   "cell_type": "code",
   "execution_count": 10,
   "metadata": {},
   "outputs": [
    {
     "data": {
      "image/png": "[encoded data removed]",
      "text/plain": [
       "<Figure size 432x288 with 1 Axes>"
      ]
     },
     "metadata": {
      "needs_background": "light"
     },
     "output_type": "display_data"
    }
   ],
   "source": [
    "sns.regplot(x='midparentHeight',y='childHeight',ci=None,data=data,scatter_kws={\"s\": 0.1})\n",
    "sns.scatterplot(x=parentsIntHeight,y=data.groupby(\"Parents' mid height\")['childHeight'].mean().to_numpy(),color='red',data=data)\n",
    "plt.title(\"Children's mean height vs. their parents' mid height\",size=14)\n",
    "plt.xlabel(\"Parents' height [inch]\",size=12)\n",
    "plt.ylabel(\"Children's height [inch]\",size=12)\n",
    "plt.xlim(data['midparentHeight'].min()-0.6,data['midparentHeight'].max()+0.6)\n",
    "plt.ylim(data['childHeight'].min()-1,data['childHeight'].max()+1)\n",
    "plt.plot((data['midparentHeight'].mean(),data['midparentHeight'].mean()),(plt.ylim()[0],data['childHeight'].mean()),'--',c='k')\n",
    "plt.plot((plt.xlim()[0],data['midparentHeight'].mean()),(data['childHeight'].mean(),data['childHeight'].mean()),'--',c='k')\n",
    "plt.show()"
   ]
  },
  {
   "cell_type": "markdown",
   "metadata": {},
   "source": [
    "As we can see in the figure above the mean values of the children's height are almost residing on the regression line. \n",
    "\n",
    "Thus, the interpretation of the regression line is as follows: it shows that for a given value of the parent's mid-height what would be the expected average value of the children's height. This regression line can be used for making a prediction for any value of parents' mid-height."
   ]
  },
  {
   "cell_type": "markdown",
   "metadata": {},
   "source": [
    "## 4. The \"law of regression\" <a name=\"RegressionLaw\"></a>\n",
    "\n",
    "We can check the slope of the regression line to see to what degree the height of the children regresses toward mediocracy. In other words, we can analyze how much of parents' height is inherited by the children."
   ]
  },
  {
   "cell_type": "code",
   "execution_count": 11,
   "metadata": {},
   "outputs": [
    {
     "data": {
      "text/plain": [
       "0.6373608969694792"
      ]
     },
     "execution_count": 11,
     "metadata": {},
     "output_type": "execute_result"
    }
   ],
   "source": [
    "reg = LinearRegression().fit(data['midparentHeight'].to_numpy().reshape(-1, 1),data['childHeight'])\n",
    "reg.coef_[0]"
   ]
  },
  {
   "cell_type": "markdown",
   "metadata": {},
   "source": [
    "This slope measures that if the parents' mid-height is one inch taller then on average their children would be 0.63 inches taller. In other words, only approximately 2/3 of the parents' height would be inherited by their children.\n",
    "\n",
    "Now, let's check the score of the regression model (we will see in later lab exercises how the score is defined). The score is between 0 and 1, and the greater the value the better."
   ]
  },
  {
   "cell_type": "code",
   "execution_count": 12,
   "metadata": {},
   "outputs": [
    {
     "data": {
      "text/plain": [
       "0.1030088357834662"
      ]
     },
     "execution_count": 12,
     "metadata": {},
     "output_type": "execute_result"
    }
   ],
   "source": [
    "reg.score(data['midparentHeight'].to_numpy().reshape(-1, 1),data['childHeight'])"
   ]
  },
  {
   "cell_type": "markdown",
   "metadata": {},
   "source": [
    "As can be seen, the score is quite low.\n",
    "\n",
    "Now, let's calculate the correlation coefficient which is a measure of how the two variables are correlated to each other (in our example how parents' mid-height is correlating with children's height). In other words how their variability is tied to each other."
   ]
  },
  {
   "cell_type": "code",
   "execution_count": 13,
   "metadata": {},
   "outputs": [
    {
     "data": {
      "text/plain": [
       "0.3209498960639593"
      ]
     },
     "execution_count": 13,
     "metadata": {},
     "output_type": "execute_result"
    }
   ],
   "source": [
    "scipy.stats.pearsonr(data['midparentHeight'],data['childHeight'])[0]"
   ]
  },
  {
   "cell_type": "markdown",
   "metadata": {},
   "source": [
    "It should be emphasized that the slope of the regression line is not the same as the correlation coefficient. As we can observe in the scatter plot of the data points there is much variability in the children's height. The correlation coefficient tells us, that only approximately 1/3 of the children's height variability can be explained by the parents' mid-height, 2/3 is related to other factors.\n",
    "\n",
    "Finally, we can have more detailed statistics of this regression. Again, in later lab exercises, the meaning of each item in the statistical summary will be provided."
   ]
  },
  {
   "cell_type": "code",
   "execution_count": 14,
   "metadata": {},
   "outputs": [
    {
     "name": "stdout",
     "output_type": "stream",
     "text": [
      "                            OLS Regression Results                            \n",
      "==============================================================================\n",
      "Dep. Variable:            childHeight   R-squared:                       0.103\n",
      "Model:                            OLS   Adj. R-squared:                  0.102\n",
      "Method:                 Least Squares   F-statistic:                     107.0\n",
      "Date:                Sun, 19 Jan 2020   Prob (F-statistic):           8.05e-24\n",
      "Time:                        19:10:43   Log-Likelihood:                -2465.0\n",
      "No. Observations:                 934   AIC:                             4934.\n",
      "Df Residuals:                     932   BIC:                             4944.\n",
      "Df Model:                           1                                         \n",
      "Covariance Type:            nonrobust                                         \n",
      "===================================================================================\n",
      "                      coef    std err          t      P>|t|      [0.025      0.975]\n",
      "-----------------------------------------------------------------------------------\n",
      "Intercept          22.6362      4.265      5.307      0.000      14.266      31.007\n",
      "midparentHeight     0.6374      0.062     10.345      0.000       0.516       0.758\n",
      "==============================================================================\n",
      "Omnibus:                       48.564   Durbin-Watson:                   1.386\n",
      "Prob(Omnibus):                  0.000   Jarque-Bera (JB):               19.850\n",
      "Skew:                           0.061   Prob(JB):                     4.89e-05\n",
      "Kurtosis:                       2.296   Cond. No.                     2.66e+03\n",
      "==============================================================================\n",
      "\n",
      "Warnings:\n",
      "[1] Standard Errors assume that the covariance matrix of the errors is correctly specified.\n",
      "[2] The condition number is large, 2.66e+03. This might indicate that there are\n",
      "strong multicollinearity or other numerical problems.\n"
     ]
    }
   ],
   "source": [
    "model = ols(formula = 'childHeight ~ midparentHeight', data=data).fit()\n",
    "print(model.summary())"
   ]
  },
  {
   "cell_type": "markdown",
   "metadata": {},
   "source": [
    "## 5. Regression using multiple input variables <a name=\"MultiRegression\"></a>\n",
    "\n",
    "We can also observe from the dataset that the children's height also depends on the gender of the children (male children tend to be taller than female children). So, let's make another scatter plot, but at this time we take into account the gender of the child by using a different color for the data points associated with male or female children. Then a separate regression line is created for each group of the data points (these are parallel lines)."
   ]
  },
  {
   "cell_type": "code",
   "execution_count": 15,
   "metadata": {},
   "outputs": [
    {
     "data": {
      "image/png": "[encoded data removed]",
      "text/plain": [
       "<Figure size 360x360 with 1 Axes>"
      ]
     },
     "metadata": {
      "needs_background": "light"
     },
     "output_type": "display_data"
    }
   ],
   "source": [
    "sns.lmplot(x='midparentHeight',y='childHeight',palette='colorblind',hue='gender',ci=None,legend_out=False,\\\n",
    "       data=data,scatter_kws={\"s\": 15})\n",
    "plt.title(\"Children's height vs. their parents' mid height\",size=14)\n",
    "plt.xlabel(\"Parents' mid height [inch]\",size=12)\n",
    "plt.ylabel(\"Children's height [inch]\",size=12)\n",
    "plt.show()"
   ]
  },
  {
   "cell_type": "markdown",
   "metadata": {},
   "source": [
    "As we can observe from the scatter plot, on average female children are smaller than male children. We will see soon how much is that difference. In the next step, we create a new column, called *Cat*, which value is 1 if the child is male and 0 otherwise."
   ]
  },
  {
   "cell_type": "code",
   "execution_count": 16,
   "metadata": {},
   "outputs": [
    {
     "data": {
      "text/html": [
       "<div>\n",
       "<style scoped>\n",
       "    .dataframe tbody tr th:only-of-type {\n",
       "        vertical-align: middle;\n",
       "    }\n",
       "\n",
       "    .dataframe tbody tr th {\n",
       "        vertical-align: top;\n",
       "    }\n",
       "\n",
       "    .dataframe thead th {\n",
       "        text-align: right;\n",
       "    }\n",
       "</style>\n",
       "<table border=\"1\" class=\"dataframe\">\n",
       "  <thead>\n",
       "    <tr style=\"text-align: right;\">\n",
       "      <th></th>\n",
       "      <th>Unnamed: 0</th>\n",
       "      <th>family</th>\n",
       "      <th>father</th>\n",
       "      <th>mother</th>\n",
       "      <th>midparentHeight</th>\n",
       "      <th>children</th>\n",
       "      <th>childNum</th>\n",
       "      <th>gender</th>\n",
       "      <th>childHeight</th>\n",
       "      <th>Parents' mid height</th>\n",
       "      <th>Cat</th>\n",
       "    </tr>\n",
       "  </thead>\n",
       "  <tbody>\n",
       "    <tr>\n",
       "      <th>0</th>\n",
       "      <td>1</td>\n",
       "      <td>001</td>\n",
       "      <td>78.5</td>\n",
       "      <td>67.0</td>\n",
       "      <td>75.43</td>\n",
       "      <td>4</td>\n",
       "      <td>1</td>\n",
       "      <td>male</td>\n",
       "      <td>73.2</td>\n",
       "      <td>(74.427, 75.43]</td>\n",
       "      <td>1</td>\n",
       "    </tr>\n",
       "    <tr>\n",
       "      <th>1</th>\n",
       "      <td>2</td>\n",
       "      <td>001</td>\n",
       "      <td>78.5</td>\n",
       "      <td>67.0</td>\n",
       "      <td>75.43</td>\n",
       "      <td>4</td>\n",
       "      <td>2</td>\n",
       "      <td>female</td>\n",
       "      <td>69.2</td>\n",
       "      <td>(74.427, 75.43]</td>\n",
       "      <td>0</td>\n",
       "    </tr>\n",
       "    <tr>\n",
       "      <th>2</th>\n",
       "      <td>3</td>\n",
       "      <td>001</td>\n",
       "      <td>78.5</td>\n",
       "      <td>67.0</td>\n",
       "      <td>75.43</td>\n",
       "      <td>4</td>\n",
       "      <td>3</td>\n",
       "      <td>female</td>\n",
       "      <td>69.0</td>\n",
       "      <td>(74.427, 75.43]</td>\n",
       "      <td>0</td>\n",
       "    </tr>\n",
       "    <tr>\n",
       "      <th>3</th>\n",
       "      <td>4</td>\n",
       "      <td>001</td>\n",
       "      <td>78.5</td>\n",
       "      <td>67.0</td>\n",
       "      <td>75.43</td>\n",
       "      <td>4</td>\n",
       "      <td>4</td>\n",
       "      <td>female</td>\n",
       "      <td>69.0</td>\n",
       "      <td>(74.427, 75.43]</td>\n",
       "      <td>0</td>\n",
       "    </tr>\n",
       "    <tr>\n",
       "      <th>4</th>\n",
       "      <td>5</td>\n",
       "      <td>002</td>\n",
       "      <td>75.5</td>\n",
       "      <td>66.5</td>\n",
       "      <td>73.66</td>\n",
       "      <td>4</td>\n",
       "      <td>1</td>\n",
       "      <td>male</td>\n",
       "      <td>73.5</td>\n",
       "      <td>(73.425, 74.427]</td>\n",
       "      <td>1</td>\n",
       "    </tr>\n",
       "  </tbody>\n",
       "</table>\n",
       "</div>"
      ],
      "text/plain": [
       "   Unnamed: 0 family  father  mother  midparentHeight  children  childNum  \\\n",
       "0           1    001    78.5    67.0            75.43         4         1   \n",
       "1           2    001    78.5    67.0            75.43         4         2   \n",
       "2           3    001    78.5    67.0            75.43         4         3   \n",
       "3           4    001    78.5    67.0            75.43         4         4   \n",
       "4           5    002    75.5    66.5            73.66         4         1   \n",
       "\n",
       "   gender  childHeight Parents' mid height  Cat  \n",
       "0    male         73.2     (74.427, 75.43]    1  \n",
       "1  female         69.2     (74.427, 75.43]    0  \n",
       "2  female         69.0     (74.427, 75.43]    0  \n",
       "3  female         69.0     (74.427, 75.43]    0  \n",
       "4    male         73.5    (73.425, 74.427]    1  "
      ]
     },
     "execution_count": 16,
     "metadata": {},
     "output_type": "execute_result"
    }
   ],
   "source": [
    "data['Cat'] = data.apply(lambda row: 1 if row.gender=='male' else 0, axis=1)\n",
    "data.head()"
   ]
  },
  {
   "cell_type": "markdown",
   "metadata": {},
   "source": [
    "Next, we can check the coefficient of the regression lines. The coefficient of the *Cat* variable will provide the difference between the two parallel lines."
   ]
  },
  {
   "cell_type": "code",
   "execution_count": 17,
   "metadata": {},
   "outputs": [
    {
     "name": "stdout",
     "output_type": "stream",
     "text": [
      "Slope of the lines = 0.6870152119086933\n",
      "Difference between the lines = 5.215105407386692\n"
     ]
    }
   ],
   "source": [
    "reg.fit(data[['midparentHeight','Cat']],data['childHeight'])\n",
    "print(\"Slope of the lines =\",reg.coef_[0])\n",
    "print(\"Difference between the lines =\",reg.coef_[1])"
   ]
  },
  {
   "cell_type": "markdown",
   "metadata": {},
   "source": [
    "Thus, the slope of the regression line is slightly higher than what we had when the gender of the children was not counted, while the difference between the height of the male and female children on average is 5.2 inches. \n",
    "\n",
    "Let's, calculate the score of the new regression:"
   ]
  },
  {
   "cell_type": "code",
   "execution_count": 18,
   "metadata": {},
   "outputs": [
    {
     "data": {
      "text/plain": [
       "0.6332150090835275"
      ]
     },
     "execution_count": 18,
     "metadata": {},
     "output_type": "execute_result"
    }
   ],
   "source": [
    "reg.score(data[['midparentHeight','Cat']],data['childHeight'])"
   ]
  },
  {
   "cell_type": "markdown",
   "metadata": {},
   "source": [
    "As it can be observed, the score increased significantly showing that the regression model which takes into account the gender of the child is much better.<br>\n",
    "\n",
    "We can check the correlation coefficient (correlation matrix) of the three variables: *midparentHeight*, *Cat*(*gender*), and *childHeight*."
   ]
  },
  {
   "cell_type": "code",
   "execution_count": 19,
   "metadata": {},
   "outputs": [
    {
     "data": {
      "text/html": [
       "<div>\n",
       "<style scoped>\n",
       "    .dataframe tbody tr th:only-of-type {\n",
       "        vertical-align: middle;\n",
       "    }\n",
       "\n",
       "    .dataframe tbody tr th {\n",
       "        vertical-align: top;\n",
       "    }\n",
       "\n",
       "    .dataframe thead th {\n",
       "        text-align: right;\n",
       "    }\n",
       "</style>\n",
       "<table border=\"1\" class=\"dataframe\">\n",
       "  <thead>\n",
       "    <tr style=\"text-align: right;\">\n",
       "      <th></th>\n",
       "      <th>midparentHeight</th>\n",
       "      <th>Cat</th>\n",
       "      <th>childHeight</th>\n",
       "    </tr>\n",
       "  </thead>\n",
       "  <tbody>\n",
       "    <tr>\n",
       "      <th>midparentHeight</th>\n",
       "      <td>1.000000</td>\n",
       "      <td>-0.034319</td>\n",
       "      <td>0.320950</td>\n",
       "    </tr>\n",
       "    <tr>\n",
       "      <th>Cat</th>\n",
       "      <td>-0.034319</td>\n",
       "      <td>1.000000</td>\n",
       "      <td>0.716709</td>\n",
       "    </tr>\n",
       "    <tr>\n",
       "      <th>childHeight</th>\n",
       "      <td>0.320950</td>\n",
       "      <td>0.716709</td>\n",
       "      <td>1.000000</td>\n",
       "    </tr>\n",
       "  </tbody>\n",
       "</table>\n",
       "</div>"
      ],
      "text/plain": [
       "                 midparentHeight       Cat  childHeight\n",
       "midparentHeight         1.000000 -0.034319     0.320950\n",
       "Cat                    -0.034319  1.000000     0.716709\n",
       "childHeight             0.320950  0.716709     1.000000"
      ]
     },
     "execution_count": 19,
     "metadata": {},
     "output_type": "execute_result"
    }
   ],
   "source": [
    "data[['midparentHeight','Cat','childHeight']].corr(method='pearson')"
   ]
  },
  {
   "cell_type": "markdown",
   "metadata": {},
   "source": [
    "From the correlation matrix is clear that the correlation coefficient between *Cat*(associated with *gender*) and *childHeight* is much higher, namely 0.72, compared to the correlation coefficient between *childHeight* and *midparentHeight*, the latter being only 0.32.\n",
    "\n",
    "Again, we can make a full summary of the statistical model:"
   ]
  },
  {
   "cell_type": "code",
   "execution_count": 20,
   "metadata": {},
   "outputs": [
    {
     "name": "stdout",
     "output_type": "stream",
     "text": [
      "                            OLS Regression Results                            \n",
      "==============================================================================\n",
      "Dep. Variable:            childHeight   R-squared:                       0.633\n",
      "Model:                            OLS   Adj. R-squared:                  0.632\n",
      "Method:                 Least Squares   F-statistic:                     803.6\n",
      "Date:                Sun, 19 Jan 2020   Prob (F-statistic):          1.71e-203\n",
      "Time:                        19:10:44   Log-Likelihood:                -2047.4\n",
      "No. Observations:                 934   AIC:                             4101.\n",
      "Df Residuals:                     931   BIC:                             4115.\n",
      "Df Model:                           2                                         \n",
      "Covariance Type:            nonrobust                                         \n",
      "=====================================================================================\n",
      "                        coef    std err          t      P>|t|      [0.025      0.975]\n",
      "-------------------------------------------------------------------------------------\n",
      "Intercept            16.5141      2.734      6.040      0.000      11.149      21.879\n",
      "C(gender)[T.male]     5.2151      0.142     36.685      0.000       4.936       5.494\n",
      "midparentHeight       0.6870      0.039     17.419      0.000       0.610       0.764\n",
      "==============================================================================\n",
      "Omnibus:                       10.884   Durbin-Watson:                   1.540\n",
      "Prob(Omnibus):                  0.004   Jarque-Bera (JB):               14.460\n",
      "Skew:                          -0.127   Prob(JB):                     0.000724\n",
      "Kurtosis:                       3.554   Cond. No.                     2.67e+03\n",
      "==============================================================================\n",
      "\n",
      "Warnings:\n",
      "[1] Standard Errors assume that the covariance matrix of the errors is correctly specified.\n",
      "[2] The condition number is large, 2.67e+03. This might indicate that there are\n",
      "strong multicollinearity or other numerical problems.\n"
     ]
    }
   ],
   "source": [
    "model = ols(formula = 'childHeight ~ midparentHeight + C(gender)', data=data).fit()\n",
    "print(model.summary())"
   ]
  },
  {
   "cell_type": "markdown",
   "metadata": {},
   "source": [
    "From the dataset, we can also observe that not only the parents' mid-height but the height of father and mother are also provided. So let's check whether one of the parents has a greater influence on the child's height. We can also visualize the scatter plot in a 3D graph. \n",
    "\n",
    "For this, let's calculate the coefficients for each input variable: father, mother, and gender:"
   ]
  },
  {
   "cell_type": "code",
   "execution_count": 21,
   "metadata": {},
   "outputs": [
    {
     "name": "stdout",
     "output_type": "stream",
     "text": [
      "Regression coefficients: [0.39284333 0.31761007 5.21498935]\n",
      "Regression intercept: 16.521239904483757\n"
     ]
    }
   ],
   "source": [
    "reg.fit(data[['father','mother','Cat']],data['childHeight'])\n",
    "print(\"Regression coefficients:\",reg.coef_)\n",
    "print(\"Regression intercept:\",reg.intercept_)"
   ]
  },
  {
   "cell_type": "markdown",
   "metadata": {},
   "source": [
    "Then create two arrays in which we store the values of heights for the two genders."
   ]
  },
  {
   "cell_type": "code",
   "execution_count": 22,
   "metadata": {},
   "outputs": [],
   "source": [
    "X1=data[data['gender']=='male'][['father','mother','childHeight']].to_numpy()\n",
    "X2=data[data['gender']=='female'][['father','mother','childHeight']].to_numpy()"
   ]
  },
  {
   "cell_type": "markdown",
   "metadata": {},
   "source": [
    "Finally, we can make the 3D scatter plots together with the two parallel regression planes (we have now planes and not lines).<br>\n",
    "(The 3rd line in the code below should creates a pop-up window in which you can drag the picture with your mouse and rotate it.)"
   ]
  },
  {
   "cell_type": "code",
   "execution_count": 23,
   "metadata": {},
   "outputs": [],
   "source": [
    "from mpl_toolkits import mplot3d\n",
    "from matplotlib import cm\n",
    "%matplotlib qt\n",
    "\n",
    "ax3d=plt.figure(figsize=(8,6)).gca(projection='3d')\n",
    "ax3d.scatter(X1[:,0], X1[:,1], X1[:,2], c='b', alpha=1,s=10,label='male')\n",
    "ax3d.scatter(X2[:,0], X2[:,1], X2[:,2], c='tab:orange', alpha=1,s=10,label='female')\n",
    "# Creating the meshgrid for x (father),y(mother) and calculating the value of z (surface)\n",
    "xx, yy = np.meshgrid(np.arange(62,80,1), np.arange(58,70,1))\n",
    "zz = reg.intercept_+reg.coef_[2]+reg.coef_[0]*xx+reg.coef_[1]*yy\n",
    "ax3d.plot_surface(xx, yy, zz, cmap=cm.Blues, linewidth=0, antialiased=False, alpha=0.7)\n",
    "zz = reg.intercept_+reg.coef_[0]*xx+reg.coef_[1]*yy\n",
    "ax3d.plot_surface(xx, yy, zz, cmap=cm.Oranges, linewidth=0, antialiased=False, alpha=0.7)\n",
    "# Adding labels, titles, and legend\n",
    "ax3d.set_xlabel(\"Father's height [inch]\")\n",
    "ax3d.set_ylabel(\"Mother's height [inch]\")\n",
    "ax3d.set_zlabel(\"Child's height [inch]\")\n",
    "ax3d.view_init(elev=20., azim=-45)\n",
    "plt.legend(loc=(0.6,0.2))\n",
    "plt.title(\"Children's height vs. their parents' height\",size=14)\n",
    "plt.show()"
   ]
  },
  {
   "cell_type": "markdown",
   "metadata": {},
   "source": [
    "Let's check how much the score of the regression model improves by taking into account separately the height of both the father and mother (instead of taking the average of them). "
   ]
  },
  {
   "cell_type": "code",
   "execution_count": 24,
   "metadata": {},
   "outputs": [
    {
     "data": {
      "text/plain": [
       "0.6354066409556642"
      ]
     },
     "execution_count": 24,
     "metadata": {},
     "output_type": "execute_result"
    }
   ],
   "source": [
    "reg.fit(data[['father','mother','Cat']],data['childHeight'])\n",
    "reg.score(data[['father','mother','Cat']],data['childHeight'])"
   ]
  },
  {
   "cell_type": "markdown",
   "metadata": {},
   "source": [
    "The score did not increase significantly, only a very minor improvement can be seen. Thus, this model does not provide a significantly better prediction over the other model which considered only the mid-height of the parents together with the gender of the child.\n",
    "\n",
    "We can close our exercise by creating a summary of the statistical model:"
   ]
  },
  {
   "cell_type": "code",
   "execution_count": 25,
   "metadata": {},
   "outputs": [
    {
     "name": "stdout",
     "output_type": "stream",
     "text": [
      "                            OLS Regression Results                            \n",
      "==============================================================================\n",
      "Dep. Variable:            childHeight   R-squared:                       0.635\n",
      "Model:                            OLS   Adj. R-squared:                  0.634\n",
      "Method:                 Least Squares   F-statistic:                     540.3\n",
      "Date:                Sun, 19 Jan 2020   Prob (F-statistic):          3.38e-203\n",
      "Time:                        19:10:44   Log-Likelihood:                -2044.6\n",
      "No. Observations:                 934   AIC:                             4097.\n",
      "Df Residuals:                     930   BIC:                             4117.\n",
      "Df Model:                           3                                         \n",
      "Covariance Type:            nonrobust                                         \n",
      "=====================================================================================\n",
      "                        coef    std err          t      P>|t|      [0.025      0.975]\n",
      "-------------------------------------------------------------------------------------\n",
      "Intercept            16.5212      2.727      6.058      0.000      11.169      21.873\n",
      "C(gender)[T.male]     5.2150      0.142     36.775      0.000       4.937       5.493\n",
      "father                0.3928      0.029     13.699      0.000       0.337       0.449\n",
      "mother                0.3176      0.031     10.245      0.000       0.257       0.378\n",
      "==============================================================================\n",
      "Omnibus:                       11.156   Durbin-Watson:                   1.549\n",
      "Prob(Omnibus):                  0.004   Jarque-Bera (JB):               15.397\n",
      "Skew:                          -0.114   Prob(JB):                     0.000453\n",
      "Kurtosis:                       3.586   Cond. No.                     3.63e+03\n",
      "==============================================================================\n",
      "\n",
      "Warnings:\n",
      "[1] Standard Errors assume that the covariance matrix of the errors is correctly specified.\n",
      "[2] The condition number is large, 3.63e+03. This might indicate that there are\n",
      "strong multicollinearity or other numerical problems.\n"
     ]
    }
   ],
   "source": [
    "model = ols(formula = 'childHeight ~ father + mother + C(gender)', data=data).fit()\n",
    "print(model.summary())"
   ]
  },
  {
   "cell_type": "markdown",
   "metadata": {},
   "source": [
    "<img src = \"images/AML1-Cover.png\" width = 90, align = \"left\" style=\"margin:0px 20px\">\n",
    "\n",
    "**Note:** This Jupyter Notebook is accompanying the book: <br><i>\"Machine Learning - From Theory to Practice with NumPy and scikit-learn, Volume 1: Generalized Linear Models\"</i><br>\n",
    "by Ferenc Farkas, Ph.D. \n",
    "\n",
    "If you find this Notebook useful, please support me by buying the book at [Leanpub](http://leanpub.com/AML1). <br>\n",
    "Copyright notice: This Jupyter Notebook is made available under the [MIT License](https://opensource.org/licenses/MIT)."
   ]
  },
  {
   "cell_type": "code",
   "execution_count": null,
   "metadata": {},
   "outputs": [],
   "source": []
  }
 ],
 "metadata": {
  "kernelspec": {
   "display_name": "Python 3",
   "language": "python",
   "name": "python3"
  },
  "language_info": {
   "codemirror_mode": {
    "name": "ipython",
    "version": 3
   },
   "file_extension": ".py",
   "mimetype": "text/x-python",
   "name": "python",
   "nbconvert_exporter": "python",
   "pygments_lexer": "ipython3",
   "version": "3.7.3"
  }
 },
 "nbformat": 4,
 "nbformat_minor": 4
}
