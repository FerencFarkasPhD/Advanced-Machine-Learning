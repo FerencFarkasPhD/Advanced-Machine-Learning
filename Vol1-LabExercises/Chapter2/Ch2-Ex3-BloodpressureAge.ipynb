{
 "cells": [
  {
   "cell_type": "markdown",
   "metadata": {
    "colab_type": "text",
    "id": "tr9o4rl9fUBh"
   },
   "source": [
    "<img src = \"images/Logo.png\" width = 220, align = \"left\">\n",
    "\n",
    "<h1 align=center><font size = 6><span style=\"color:blue\">Blood pressure as function of age</span></font></h1>\n",
    "<h2 align=center><font size = 5>Lab Exercise 2.3</font></h2>\n",
    "<h3 align=center><font size = 4><b>Advanced Machine Learning Made Easy<br></b><small>From Theory to Practice with NumPy and scikit-learn<br><i>Volume 1: Generalized Linear Models</i></font></h3>"
   ]
  },
  {
   "cell_type": "markdown",
   "metadata": {},
   "source": [
    "## Introduction\n",
    "\n",
    "In this example, a very simple linear regression model for predicting systolic blood pressure based on the age of a person will be built. For this reason, we will use a small dataset containing 30 observations. Each observation consists of the measured blood pressure of the individual as output (dependent variable) and the age of the person as input (independent variable). The aim is to find the linear relation between the input and output variables and be able to predict the average blood pressure based on the age of a person. <br>\n",
    "**Note**: *The original dataset can be found at http://people.sc.fsu.edu/~jburkardt/datasets/regression/x03.txt. It was converted to csv file using LibreOffice Calc and removing both the top description part, as well as the A0 column (being 1 for every entry).*"
   ]
  },
  {
   "cell_type": "markdown",
   "metadata": {},
   "source": [
    "### Table of contents\n",
    "1. [Reading the data](#ReadingData)\n",
    "2. [Scatter plot of the observations](#ScatterPlot)\n",
    "3. [Calculate the parameters and plot the estimated regression line](#PlotEstRegrLine)\n",
    "4. [Make predictions](#Predict)\n",
    "5. [Calculate RSS and R-squared](#CalcRSSR2)"
   ]
  },
  {
   "cell_type": "markdown",
   "metadata": {},
   "source": [
    "## 1. Reading the data <a name=\"ReadingData\"></a>\n",
    "\n",
    "As a first step, we import the NumPy and Pandas libraries. Numpy is used for array manipulations (vectors and matrices) while pandas is used for database manipulations. In this notebook, pandas is used to read the csv file into a dataframe and then convert it to input and output vectors (NumPy arrays). All the formulas derived in the book have compact matrix forms which can be directly converted to Python/NumPy code. We also import the matplotlib library for making graphics."
   ]
  },
  {
   "cell_type": "code",
   "execution_count": 1,
   "metadata": {
    "colab": {},
    "colab_type": "code",
    "id": "fs6Gm5gtexW9"
   },
   "outputs": [],
   "source": [
    "import numpy as np\n",
    "import pandas as pd\n",
    "import matplotlib.pyplot as plt\n",
    "import os\n",
    "%matplotlib inline"
   ]
  },
  {
   "cell_type": "markdown",
   "metadata": {
    "colab_type": "text",
    "id": "dUZRG9jlf0A4"
   },
   "source": [
    "Read the BloodpressureAge.csv file into a pandas dataframe which contains the measured systolic blood pressure of 30 people with different ages."
   ]
  },
  {
   "cell_type": "code",
   "execution_count": 2,
   "metadata": {},
   "outputs": [],
   "source": [
    "data = pd.read_csv(os.path.join('data','BloodpressureAge.csv'))"
   ]
  },
  {
   "cell_type": "markdown",
   "metadata": {
    "colab_type": "text",
    "id": "TsNIF5KlSOLe"
   },
   "source": [
    "We will print out the dataset to have the first glimpse of it. The dataset contains three columns: Index, Age, and Systolic blood pressure. There are 30 unordered data points (called observations). <br>\n",
    "**Note**: *Indexing of pandas dataframe, as well as NumPy ndarrays, starts from zero and not from one. The Index column shown below is not equivalent to the pandas indexing.*"
   ]
  },
  {
   "cell_type": "code",
   "execution_count": 3,
   "metadata": {
    "colab": {
     "base_uri": "https://localhost:8080/",
     "height": 544
    },
    "colab_type": "code",
    "executionInfo": {
     "elapsed": 624,
     "status": "ok",
     "timestamp": 1537254352311,
     "user": {
      "displayName": "Ferenc Dr. Farkas",
      "photoUrl": "https://lh3.googleusercontent.com/a/default-user=s128",
      "userId": "101091246114755693299"
     },
     "user_tz": -120
    },
    "id": "m_egJmIpSR3V",
    "outputId": "cdb3ae53-2311-44f1-8aaf-32c01c768d01"
   },
   "outputs": [
    {
     "name": "stdout",
     "output_type": "stream",
     "text": [
      "Dataset of the systolic blood pressure vs. age:\n",
      "===============================================\n",
      "  Index  Age  Systolic blood pressure\n",
      "     1   39                      144\n",
      "     2   47                      220\n",
      "     3   45                      138\n",
      "     4   47                      145\n",
      "     5   65                      162\n",
      "     6   46                      142\n",
      "     7   67                      170\n",
      "     8   42                      124\n",
      "     9   67                      158\n",
      "    10   56                      154\n",
      "    11   64                      162\n",
      "    12   56                      150\n",
      "    13   59                      140\n",
      "    14   34                      110\n",
      "    15   42                      128\n",
      "    16   48                      130\n",
      "    17   45                      135\n",
      "    18   17                      114\n",
      "    19   20                      116\n",
      "    20   19                      124\n",
      "    21   36                      136\n",
      "    22   50                      142\n",
      "    23   39                      120\n",
      "    24   21                      120\n",
      "    25   44                      160\n",
      "    26   53                      158\n",
      "    27   63                      144\n",
      "    28   29                      130\n",
      "    29   25                      125\n",
      "    30   69                      175\n"
     ]
    }
   ],
   "source": [
    "print(\"Dataset of the systolic blood pressure vs. age:\")\n",
    "print(\"===============================================\\n\",data.to_string(index=False))"
   ]
  },
  {
   "cell_type": "markdown",
   "metadata": {
    "colab_type": "text",
    "id": "xtaDU15mTiBI"
   },
   "source": [
    "Extract the input and output values from the pandas dataframe into vectors $\\mathbf{x}$ and $\\mathbf{y}$. Also, extract the number of observations $N$ available in the dataset.\n",
    "\n",
    "**Note**: * To follow the mathematical notations of the book the following naming convention is applied for variables in the code: scalar variables will use lower case (except for matrix dimensions, like the number of observations $N$ ), vector variables will use lower case followed by an underscore (no bold letters can be applied, so the underscore represents the vector notation), and matrix variables will use upper case.* "
   ]
  },
  {
   "cell_type": "code",
   "execution_count": 4,
   "metadata": {
    "colab": {
     "base_uri": "https://localhost:8080/",
     "height": 34
    },
    "colab_type": "code",
    "executionInfo": {
     "elapsed": 597,
     "status": "ok",
     "timestamp": 1537254356525,
     "user": {
      "displayName": "Ferenc Dr. Farkas",
      "photoUrl": "https://lh3.googleusercontent.com/a/default-user=s128",
      "userId": "101091246114755693299"
     },
     "user_tz": -120
    },
    "id": "ZmwkmKZ6SsJw",
    "outputId": "fc70203f-7e2d-4e31-9526-4ab48894b76e"
   },
   "outputs": [
    {
     "name": "stdout",
     "output_type": "stream",
     "text": [
      "Number of observations in the data set: 30\n"
     ]
    }
   ],
   "source": [
    "x_=np.array(data[\"Age\"])[:,np.newaxis]\n",
    "y_=np.array(data[\"Systolic blood pressure\"])[:,np.newaxis]\n",
    "N,_=data.shape\n",
    "print(\"Number of observations in the data set:\",N)"
   ]
  },
  {
   "cell_type": "markdown",
   "metadata": {
    "colab_type": "text",
    "id": "DqBkeXGDVLjH"
   },
   "source": [
    "## 2. Scatter plot of the observations <a name=\"ScatterPlot\"></a>\n",
    "\n",
    "Make a scatterplot of the observations from the dataset to have a grasp about your data. If you want to apply linear regression, an initial visual check is always useful to see the trend in your data."
   ]
  },
  {
   "cell_type": "code",
   "execution_count": 5,
   "metadata": {
    "colab": {
     "base_uri": "https://localhost:8080/",
     "height": 279
    },
    "colab_type": "code",
    "executionInfo": {
     "elapsed": 638,
     "status": "ok",
     "timestamp": 1537254358227,
     "user": {
      "displayName": "Ferenc Dr. Farkas",
      "photoUrl": "https://lh3.googleusercontent.com/a/default-user=s128",
      "userId": "101091246114755693299"
     },
     "user_tz": -120
    },
    "id": "A1z4mA_7TsKK",
    "outputId": "6254069b-c48f-424f-ae76-887acfc1f87b"
   },
   "outputs": [
    {
     "data": {
      "image/png": "[encoded data removed]",
      "text/plain": [
       "<Figure size 432x288 with 1 Axes>"
      ]
     },
     "metadata": {
      "needs_background": "light"
     },
     "output_type": "display_data"
    }
   ],
   "source": [
    "plt.scatter(x_,y_)\n",
    "plt.xlabel(\"Age ($x$)\",fontsize=14)\n",
    "plt.ylabel(\"Blood pressure ($y$)\",fontsize=14)\n",
    "plt.title(\"Systolic blood pressure as function of age\",fontsize=14)\n",
    "plt.show()"
   ]
  },
  {
   "cell_type": "markdown",
   "metadata": {},
   "source": [
    "As can be observed from the scatter plot, there is some linear trend between the age of a person and his/her blood pressure."
   ]
  },
  {
   "cell_type": "markdown",
   "metadata": {
    "colab_type": "text",
    "id": "yBT2V8MUV9Ur"
   },
   "source": [
    "## 3. Calculate the parameters and plot the estimated regression line <a name=\"PlotEstRegrLine\"></a>\n",
    "\n",
    "Calculate the slope and the intercept of the estimated regression line using the formulas derived in the book:\n",
    "1. $w=\\frac{\\mathrm{\\Sigma} (\\mathbf{y}-\\overline y)(\\mathbf{x}-\\overline x)}{\\mathrm{\\Sigma} (\\mathbf{x}-\\overline x)^2}$\n",
    "2. $b=\\overline y - w\\cdot \\overline x$\n",
    "\n",
    "**Note**: *Conversion from the mathematical notation to Python code is straightforward when using NumPy operators and methods.*"
   ]
  },
  {
   "cell_type": "code",
   "execution_count": 6,
   "metadata": {},
   "outputs": [
    {
     "name": "stdout",
     "output_type": "stream",
     "text": [
      "Intercept of the estimated regression line: b = 98.71471813821842\n",
      "Slope of the estimated regression line: w = 0.9708703514427236\n"
     ]
    }
   ],
   "source": [
    "w=np.sum((y_-y_.mean())*(x_-x_.mean()))/np.sum((x_-x_.mean())**2)   # (1)\n",
    "b=y_.mean()-w*x_.mean()                                             # (2)\n",
    "print(\"Intercept of the estimated regression line: b =\",b)\n",
    "print(\"Slope of the estimated regression line: w =\",w)"
   ]
  },
  {
   "cell_type": "markdown",
   "metadata": {
    "colab_type": "text",
    "id": "kn-9t2bQeB_1"
   },
   "source": [
    "The slope of the estimated regression line expresses how many units in blood pressure increase we should expect on average if a person gets one year older. This is less than one unit, but comparing a 20-year-old person with a 70-year-old person the blood pressure difference is 48.5 units on average. We might also state that, based on the value of the intercept, the average blood pressure of an infant (for x=0) would be 98.7 units. Although this seems reasonable we might see in the following exercises that we should be cautious by making assumptions based on the intercept! <br>\n",
    "Let's, define the prediction function $\\hat y=f(x)$ which can be used for making predictions on the systolic blood pressure of a person with an age not contained in the dataset. <br>\n",
    "**Note**: *The function can take as an argument either a scalar value (returning a scalar value) or a vector (returning a vector).*"
   ]
  },
  {
   "cell_type": "code",
   "execution_count": 7,
   "metadata": {
    "colab": {
     "base_uri": "https://localhost:8080/",
     "height": 34
    },
    "colab_type": "code",
    "executionInfo": {
     "elapsed": 558,
     "status": "ok",
     "timestamp": 1537254367430,
     "user": {
      "displayName": "Ferenc Dr. Farkas",
      "photoUrl": "https://lh3.googleusercontent.com/a/default-user=s128",
      "userId": "101091246114755693299"
     },
     "user_tz": -120
    },
    "id": "BWbuN2DmdNqJ",
    "outputId": "a6a56f17-2d33-4d92-9428-8b46fd115fd6"
   },
   "outputs": [],
   "source": [
    "def f(x_):\n",
    "    yhat_=w*x_+b\n",
    "    return yhat_"
   ]
  },
  {
   "cell_type": "markdown",
   "metadata": {},
   "source": [
    "Let's, plot the so-called estimated regression line across the scatter plot of the observations. The residual (the error between the observed blood pressure and the predicted mean value) for the largest and smallest blood pressure is also drawn with narrow dashed lines."
   ]
  },
  {
   "cell_type": "code",
   "execution_count": 8,
   "metadata": {},
   "outputs": [
    {
     "data": {
      "image/png": "[encoded data removed]",
      "text/plain": [
       "<Figure size 432x288 with 1 Axes>"
      ]
     },
     "metadata": {
      "needs_background": "light"
     },
     "output_type": "display_data"
    }
   ],
   "source": [
    "text1='$r^{('+str(y_.argmax()+1)+')}>0$'\n",
    "text2='$r^{('+str(y_.argmin()+1)+')}<0$'\n",
    "plt.scatter(x_,y_)\n",
    "plt.xlabel(\"Age ($x$)\",fontsize=14)\n",
    "plt.ylabel(\"Blood pressure ($y$)\",fontsize=14)\n",
    "plt.title(\"Estimated linear regression line\",fontsize=14)\n",
    "plt.plot(x_,f(x_),'-b',lw=3)\n",
    "plt.plot((x_[y_.argmax(),0],x_[y_.argmax(),0]),(f(x_[y_.argmax(),0]),y_.max()),'--k',lw=1)\n",
    "plt.gcf().gca().annotate(text1, xy=(x_[y_.argmax(),0], np.max(y_)), xytext=(48, 200),fontsize=14)\n",
    "plt.plot((x_[y_.argmin(),0],x_[y_.argmin(),0]),(f(x_[y_.argmin(),0]),y_.min()),'--k',lw=1)\n",
    "plt.gcf().gca().annotate(text2, xy=(x_[y_.argmin(),0], np.min(y_)), xytext=(23, 112),fontsize=14)\n",
    "plt.show()"
   ]
  },
  {
   "cell_type": "markdown",
   "metadata": {},
   "source": [
    "From the figure above, it can be seen that the estimated regression line fits quite well with the observations from the data set."
   ]
  },
  {
   "cell_type": "markdown",
   "metadata": {},
   "source": [
    "## 4. Make predictions <a name=\"Predict\"></a>\n",
    "\n",
    "Now, that our predict function is ready, let's see our prediction for some ages not contained in the data set."
   ]
  },
  {
   "cell_type": "code",
   "execution_count": 9,
   "metadata": {},
   "outputs": [
    {
     "name": "stdout",
     "output_type": "stream",
     "text": [
      "Systolic blood pressure of 18 year old person in average is = 116.190384\n",
      "Systolic blood pressure of 49 year old person in average is = 146.287365\n",
      "Systolic blood pressure of 75 year old person in average is = 171.529994\n"
     ]
    }
   ],
   "source": [
    "for age in [18,49,75]:\n",
    "    print(\"Systolic blood pressure of %d year old person in average is = %f\"%(age,f(age)))"
   ]
  },
  {
   "cell_type": "markdown",
   "metadata": {},
   "source": [
    "We might think that our job is done. But that is not the case. First, we need to check how good is our prediction.<br>\n",
    "**Note:** *In later exercises, we will also observe that some uncertainty is associated with our predictions.*"
   ]
  },
  {
   "cell_type": "markdown",
   "metadata": {
    "colab_type": "text",
    "id": "Gn7uoU4dfLxA"
   },
   "source": [
    "## 5. Calculate RSS and R-squared <a name=\"CalcRSSR2\"></a>\n",
    "\n",
    "Let's see what the numbers tell about our fitted model. For this reason, calculate the residual sum of squares:<br> $\\mathrm{RSS}=\\mathrm{\\Sigma} (\\mathbf{y}-f(\\mathbf{x}))^2$"
   ]
  },
  {
   "cell_type": "code",
   "execution_count": 10,
   "metadata": {
    "colab": {
     "base_uri": "https://localhost:8080/",
     "height": 34
    },
    "colab_type": "code",
    "executionInfo": {
     "elapsed": 564,
     "status": "ok",
     "timestamp": 1537254369834,
     "user": {
      "displayName": "Ferenc Dr. Farkas",
      "photoUrl": "https://lh3.googleusercontent.com/a/default-user=s128",
      "userId": "101091246114755693299"
     },
     "user_tz": -120
    },
    "id": "j2TBjNgJfB-G",
    "outputId": "67fc80e9-fcec-48b8-b926-d0655fbc0cc0"
   },
   "outputs": [
    {
     "name": "stdout",
     "output_type": "stream",
     "text": [
      "Residual sum of squares: RSS = 8393.443981445082\n"
     ]
    }
   ],
   "source": [
    "RSS=np.sum((y_-f(x_))**2)\n",
    "print(\"Residual sum of squares: RSS =\",RSS)"
   ]
  },
  {
   "cell_type": "markdown",
   "metadata": {},
   "source": [
    "Then check if the sum of residuals is zero."
   ]
  },
  {
   "cell_type": "code",
   "execution_count": 11,
   "metadata": {},
   "outputs": [
    {
     "name": "stdout",
     "output_type": "stream",
     "text": [
      "Sum of residuals: -1.8474111129762605e-13\n"
     ]
    }
   ],
   "source": [
    "print(\"Sum of residuals:\",np.sum(y_-f(x_)))"
   ]
  },
  {
   "cell_type": "markdown",
   "metadata": {},
   "source": [
    "Yes, it is zero (except for some rounding error). As we discussed in the book, the RSS is not a good indicator of our model as its value depends on the number of observations (leaving out an observation should decrease the RSS value except when the left-out observation lies exactly on the estimated regression line). We can divide the RSS by the number of observations to avoid that pitfall. But even the mean of the RSS value does not provide any useful information about how much error we should expect on average. Let's calculate the regression standard error (RSE) or standard error of the estimate. To have an unbiased estimate of the standard deviation of the population error, we should divide RSS by the number of degrees of freedom."
   ]
  },
  {
   "cell_type": "code",
   "execution_count": 12,
   "metadata": {},
   "outputs": [
    {
     "name": "stdout",
     "output_type": "stream",
     "text": [
      "Standard error of estimate: RSE = 17.31374761512312\n"
     ]
    }
   ],
   "source": [
    "RSE=np.sqrt(RSS/(N-2))\n",
    "print(\"Standard error of estimate: RSE =\",RSE)"
   ]
  },
  {
   "cell_type": "markdown",
   "metadata": {
    "colab_type": "text",
    "id": "spalmMPehT73"
   },
   "source": [
    "That means, when we predict the average systolic blood pressure corresponding to a given age, then the error made is 17 units on average. Let's calculate the R-squared value for the estimated regression line. First, we calculate the total sum of squares: <br> \n",
    "$\\mathrm{SST}=\\mathrm{\\Sigma}(\\mathbf{y}-\\overline y)^2$"
   ]
  },
  {
   "cell_type": "code",
   "execution_count": 13,
   "metadata": {
    "colab": {
     "base_uri": "https://localhost:8080/",
     "height": 34
    },
    "colab_type": "code",
    "executionInfo": {
     "elapsed": 598,
     "status": "ok",
     "timestamp": 1537254372106,
     "user": {
      "displayName": "Ferenc Dr. Farkas",
      "photoUrl": "https://lh3.googleusercontent.com/a/default-user=s128",
      "userId": "101091246114755693299"
     },
     "user_tz": -120
    },
    "id": "CPyclIFyhbJ0",
    "outputId": "fa6bca2d-77e1-4a77-9fe1-67925062f2e2"
   },
   "outputs": [
    {
     "name": "stdout",
     "output_type": "stream",
     "text": [
      "R-squared value is: R2 = 0.43239473192759537\n"
     ]
    }
   ],
   "source": [
    "SST=np.sum((y_-y_.mean())**2)\n",
    "R2=1-RSS/SST\n",
    "print(\"R-squared value is: R2 =\",R2)"
   ]
  },
  {
   "cell_type": "markdown",
   "metadata": {
    "colab_type": "text",
    "id": "kAvPTU4dmX21"
   },
   "source": [
    "The R-squared value is quite low. It means that age only explains 43% of the change in the blood pressure. We will check in the upcoming exercise related to outlier how the R-squared value can be increased in this particular example. <br>\n",
    "Let's check the correlation coefficient between the input and output: <br>\n",
    "$r=\\frac{\\mathrm{\\Sigma} (\\mathbf{x}-\\overline x)(\\mathbf{y}-\\overline y)}{\\sqrt{\\mathrm{\\Sigma} (\\mathbf{x}-\\overline x)^2}\\sqrt{\\mathrm{\\Sigma} (\\mathbf{y}-\\overline y)^2}}$"
   ]
  },
  {
   "cell_type": "code",
   "execution_count": 14,
   "metadata": {
    "colab": {},
    "colab_type": "code",
    "id": "-Cy_LXZ6mdjg"
   },
   "outputs": [
    {
     "name": "stdout",
     "output_type": "stream",
     "text": [
      "Correlation coefficient: r = 0.6575672831943475\n"
     ]
    }
   ],
   "source": [
    "r=np.sum((x_-x_.mean())*(y_-y_.mean()))/(np.sqrt(np.sum((x_-x_.mean())**2))*np.sqrt(np.sum((y_-y_.mean())**2)))\n",
    "print(\"Correlation coefficient: r =\",r)"
   ]
  },
  {
   "cell_type": "markdown",
   "metadata": {},
   "source": [
    "For simple linear regressions, the R-squared is equal to the square of the correlation coefficient. Let's check with this example."
   ]
  },
  {
   "cell_type": "code",
   "execution_count": 15,
   "metadata": {},
   "outputs": [
    {
     "name": "stdout",
     "output_type": "stream",
     "text": [
      "Square of correlation coefficient (should be equal to R-squared): 0.43239473192759525\n"
     ]
    }
   ],
   "source": [
    "print(\"Square of correlation coefficient (should be equal to R-squared):\", r*r)"
   ]
  },
  {
   "cell_type": "markdown",
   "metadata": {},
   "source": [
    "And indeed, the square of the correlation coefficient is equal to the R-squared value the latter also called the coefficient of determination. Most Machine learning courses stop here when discussing simple linear regression, but as we will see in the upcoming exercises more things need to be taken into account.\n",
    "\n",
    "Finally, let's have a look at the summary table of the *statsmodels* library. We can use this for comparing the results obtained from other datasets."
   ]
  },
  {
   "cell_type": "code",
   "execution_count": 16,
   "metadata": {},
   "outputs": [
    {
     "name": "stdout",
     "output_type": "stream",
     "text": [
      "                            OLS Regression Results                            \n",
      "==============================================================================\n",
      "Dep. Variable:          BloodPressure   R-squared:                       0.432\n",
      "Model:                            OLS   Adj. R-squared:                  0.412\n",
      "Method:                 Least Squares   F-statistic:                     21.33\n",
      "Date:                Fri, 09 Oct 2020   Prob (F-statistic):           7.87e-05\n",
      "Time:                        12:05:41   Log-Likelihood:                -127.08\n",
      "No. Observations:                  30   AIC:                             258.2\n",
      "Df Residuals:                      28   BIC:                             261.0\n",
      "Df Model:                           1                                         \n",
      "Covariance Type:            nonrobust                                         \n",
      "==============================================================================\n",
      "                 coef    std err          t      P>|t|      [0.025      0.975]\n",
      "------------------------------------------------------------------------------\n",
      "Intercept     98.7147     10.000      9.871      0.000      78.230     119.200\n",
      "Age            0.9709      0.210      4.618      0.000       0.540       1.401\n",
      "==============================================================================\n",
      "Omnibus:                       44.037   Durbin-Watson:                   1.692\n",
      "Prob(Omnibus):                  0.000   Jarque-Bera (JB):              200.607\n",
      "Skew:                           2.914   Prob(JB):                     2.75e-44\n",
      "Kurtosis:                      14.248   Cond. No.                         151.\n",
      "==============================================================================\n",
      "\n",
      "Warnings:\n",
      "[1] Standard Errors assume that the covariance matrix of the errors is correctly specified.\n"
     ]
    }
   ],
   "source": [
    "from statsmodels.formula.api import ols\n",
    "from statsmodels.stats.outliers_influence import variance_inflation_factor, OLSInfluence\n",
    "data=data.rename(index=str, columns={\"Systolic blood pressure\": \"BloodPressure\",\"Age\":\"Age\"})\n",
    "model = ols(formula = 'BloodPressure ~ Age', data=data).fit()\n",
    "print(model.summary())"
   ]
  },
  {
   "cell_type": "markdown",
   "metadata": {},
   "source": [
    "This OLS summary is inserted here for later usage (for comparing with the results obtained with a different dataset in the lab exercise from Chapter 3).    "
   ]
  },
  {
   "cell_type": "markdown",
   "metadata": {},
   "source": [
    "<img src = \"images/AML1-Cover.png\" width = 110, align = \"left\" style=\"margin:0px 20px\">\n",
    "\n",
    "<span style=\"color:blue\">**Note:**</span> This Jupyter Notebook is accompanying the book: <br> $\\qquad$ <b>Advanced Machine Learning Made Easy</b> <br> $\\qquad$ From Theory to Practice with NumPy and scikit-learn <br> $\\qquad$ <i> Volume 1: Generalized Linear Models</i><br>\n",
    "by Ferenc Farkas, Ph.D. \n",
    "\n",
    "If you find this Notebook useful, please support me by buying the book at [Leanpub](http://leanpub.com/AML1). <br>\n",
    "Copyright notice: This Jupyter Notebook is made available under the [MIT License](https://opensource.org/licenses/MIT)."
   ]
  },
  {
   "cell_type": "code",
   "execution_count": null,
   "metadata": {},
   "outputs": [],
   "source": []
  }
 ],
 "metadata": {
  "colab": {
   "collapsed_sections": [],
   "name": "Ch1-1-SimpleRegression.ipynb",
   "provenance": [
    {
     "file_id": "1CAvi5U76y6xIKJarmRS-iX0Jh70o2mGi",
     "timestamp": 1537170166740
    }
   ],
   "version": "0.3.2"
  },
  "kernelspec": {
   "display_name": "Python 3",
   "language": "python",
   "name": "python3"
  },
  "language_info": {
   "codemirror_mode": {
    "name": "ipython",
    "version": 3
   },
   "file_extension": ".py",
   "mimetype": "text/x-python",
   "name": "python",
   "nbconvert_exporter": "python",
   "pygments_lexer": "ipython3",
   "version": "3.7.3"
  }
 },
 "nbformat": 4,
 "nbformat_minor": 1
}
