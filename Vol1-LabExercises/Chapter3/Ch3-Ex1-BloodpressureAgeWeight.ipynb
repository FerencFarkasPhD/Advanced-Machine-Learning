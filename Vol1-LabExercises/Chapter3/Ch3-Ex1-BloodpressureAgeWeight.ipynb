{
 "cells": [
  {
   "cell_type": "markdown",
   "metadata": {
    "colab_type": "text",
    "id": "tr9o4rl9fUBh"
   },
   "source": [
    "<img src = \"images/Logo.png\" width = 220, align = \"left\">\n",
    "\n",
    "<h1 align=center><font size = 6><span style=\"color:blue\">Blood pressure as function of age and weight</span></font></h1>\n",
    "<h2 align=center><font size = 5>Lab Exercise 3.1</font></h2>\n",
    "<h3 align=center><font size = 4><b>Advanced Machine Learning Made Easy<br></b><small>From Theory to Practice with NumPy and scikit-learn<br><i>Volume 1: Generalized Linear Models</i></font></h3>"
   ]
  },
  {
   "cell_type": "markdown",
   "metadata": {},
   "source": [
    "## Introduction\n",
    "\n",
    "In the previous chapter, we already suspected that the systolic blood pressure of a person should be affected not only by the age of a person but also by other factors, like weight. So, let's imagine that we conduct another survey where we not only measure the blood pressure of the person while recording the person's age but also measuring his/her weight in pounds. The result of the survey will be a small dataset containing only 11 observations (we ran out of money, you know, so we could not afford to collect more data). Each observation consists of the measured blood pressure of the individual as the output variable and the age and weight of the person as the input variables. Again, this is a toy dataset, but it will help to understand the basics of the multiple linear regression. Moreover, it helps to visualize the elements of the vectors and matrices much easier. <br> \n",
    "**Note**: *The original dataset can be found at http://college.cengage.com/mathematics/brase/understandable_statistics/7e/students/datasets/mlr/frames/mlr02.html.*"
   ]
  },
  {
   "cell_type": "markdown",
   "metadata": {},
   "source": [
    "### Table of contents\n",
    "1. [Reading the data](#ReadingData)\n",
    "2. [Scatter plot with the estimated regression plane](#ScatterPlot)\n",
    "3. [Calculate the hat matrix and the covariance matrices](#HatAndCov)\n",
    "4. [Make hypothesis testing](#Hypothesis)\n",
    "5. [Calculate RSS and R-squared](#CalcRSSR2)\n",
    "6. [Using scikit-learn and statsmodel libraries](#SklearnStatsmodel)\n",
    "7. [Checking for colliniarity](#CheckColliniarity)"
   ]
  },
  {
   "cell_type": "markdown",
   "metadata": {},
   "source": [
    "## 1. Reading the data <a name=\"ReadingData\"></a>\n",
    "\n",
    "As a first step, we import the NumPy, Pandas, respective matplotlib libraries."
   ]
  },
  {
   "cell_type": "code",
   "execution_count": 1,
   "metadata": {
    "colab": {},
    "colab_type": "code",
    "id": "fs6Gm5gtexW9"
   },
   "outputs": [],
   "source": [
    "import numpy as np\n",
    "from numpy.linalg import inv, matrix_rank, eigh\n",
    "import pandas as pd\n",
    "import matplotlib.pyplot as plt\n",
    "from mpl_toolkits.mplot3d import Axes3D\n",
    "from matplotlib import cm\n",
    "import os\n",
    "%matplotlib inline"
   ]
  },
  {
   "cell_type": "markdown",
   "metadata": {
    "colab_type": "text",
    "id": "dUZRG9jlf0A4"
   },
   "source": [
    "Next, we read the *BloodpressureAgeWeight.csv* file into a pandas dataframe, which contains the measured systolic blood pressure for 11 people with different ages and weights."
   ]
  },
  {
   "cell_type": "code",
   "execution_count": 2,
   "metadata": {},
   "outputs": [],
   "source": [
    "data = pd.read_csv(os.path.join('data','BloodpressureAgeWeight.csv'))"
   ]
  },
  {
   "cell_type": "markdown",
   "metadata": {
    "colab_type": "text",
    "id": "TsNIF5KlSOLe"
   },
   "source": [
    "We will print out the dataset to have the first glimpse of it. The dataset contains four columns: index, systolic blood pressure, age in years, and weight in pounds. There are 11 unordered data points (observations). <br>\n",
    "**Note**: *Indexing of pandas dataframe, as well as NumPy arrays, starts from zero and not from one. The Index column shown below is not equivalent to the pandas indexing.*"
   ]
  },
  {
   "cell_type": "code",
   "execution_count": 3,
   "metadata": {
    "colab": {
     "base_uri": "https://localhost:8080/",
     "height": 544
    },
    "colab_type": "code",
    "executionInfo": {
     "elapsed": 624,
     "status": "ok",
     "timestamp": 1537254352311,
     "user": {
      "displayName": "Ferenc Dr. Farkas",
      "photoUrl": "https://lh3.googleusercontent.com/a/default-user=s128",
      "userId": "101091246114755693299"
     },
     "user_tz": -120
    },
    "id": "m_egJmIpSR3V",
    "outputId": "cdb3ae53-2311-44f1-8aaf-32c01c768d01"
   },
   "outputs": [
    {
     "name": "stdout",
     "output_type": "stream",
     "text": [
      "Dataset of the systolic blood pressure vs. age and weight:\n",
      "==========================================================\n",
      "  Systolic blood pressure  Age in years  Weight in pounds\n",
      "                     132            52               173\n",
      "                     143            59               184\n",
      "                     153            67               194\n",
      "                     162            73               211\n",
      "                     154            64               196\n",
      "                     168            74               220\n",
      "                     137            54               188\n",
      "                     149            61               188\n",
      "                     159            65               207\n",
      "                     128            46               167\n",
      "                     166            72               217\n"
     ]
    }
   ],
   "source": [
    "print(\"Dataset of the systolic blood pressure vs. age and weight:\")\n",
    "print(\"==========================================================\\n\",data.to_string(index=False))"
   ]
  },
  {
   "cell_type": "markdown",
   "metadata": {
    "colab_type": "text",
    "id": "xtaDU15mTiBI"
   },
   "source": [
    "Extract the input and output values from the pandas dataframe into the design matrix $\\mathbf{\\dot X}$ and vector $\\mathbf{y}$. Also, extract the number of observations available in the dataset.\n",
    "\n",
    "**Note**: * To follow the mathematical notations of the book the following naming convention is applied for variables in the code: scalar variables will use lower case (except for $N$ as the number of observations, $D$ as the number of input variables), vector variables will use lower case followed by an underscore, and matrix variables will use upper case.* \n",
    "\n",
    "First, print out the input matrix $X$. For better visualization, it is converted to a pandas dataframe."
   ]
  },
  {
   "cell_type": "code",
   "execution_count": 4,
   "metadata": {},
   "outputs": [
    {
     "data": {
      "text/html": [
       "<div>\n",
       "<style scoped>\n",
       "    .dataframe tbody tr th:only-of-type {\n",
       "        vertical-align: middle;\n",
       "    }\n",
       "\n",
       "    .dataframe tbody tr th {\n",
       "        vertical-align: top;\n",
       "    }\n",
       "\n",
       "    .dataframe thead tr th {\n",
       "        text-align: left;\n",
       "    }\n",
       "</style>\n",
       "<table border=\"1\" class=\"dataframe\">\n",
       "  <thead>\n",
       "    <tr>\n",
       "      <th></th>\n",
       "      <th>$\\mathbf x_1$</th>\n",
       "      <th>$\\mathbf x_2$</th>\n",
       "    </tr>\n",
       "  </thead>\n",
       "  <tbody>\n",
       "    <tr>\n",
       "      <th>1</th>\n",
       "      <td>52</td>\n",
       "      <td>173</td>\n",
       "    </tr>\n",
       "    <tr>\n",
       "      <th>2</th>\n",
       "      <td>59</td>\n",
       "      <td>184</td>\n",
       "    </tr>\n",
       "    <tr>\n",
       "      <th>3</th>\n",
       "      <td>67</td>\n",
       "      <td>194</td>\n",
       "    </tr>\n",
       "    <tr>\n",
       "      <th>4</th>\n",
       "      <td>73</td>\n",
       "      <td>211</td>\n",
       "    </tr>\n",
       "    <tr>\n",
       "      <th>5</th>\n",
       "      <td>64</td>\n",
       "      <td>196</td>\n",
       "    </tr>\n",
       "    <tr>\n",
       "      <th>6</th>\n",
       "      <td>74</td>\n",
       "      <td>220</td>\n",
       "    </tr>\n",
       "    <tr>\n",
       "      <th>7</th>\n",
       "      <td>54</td>\n",
       "      <td>188</td>\n",
       "    </tr>\n",
       "    <tr>\n",
       "      <th>8</th>\n",
       "      <td>61</td>\n",
       "      <td>188</td>\n",
       "    </tr>\n",
       "    <tr>\n",
       "      <th>9</th>\n",
       "      <td>65</td>\n",
       "      <td>207</td>\n",
       "    </tr>\n",
       "    <tr>\n",
       "      <th>10</th>\n",
       "      <td>46</td>\n",
       "      <td>167</td>\n",
       "    </tr>\n",
       "    <tr>\n",
       "      <th>11</th>\n",
       "      <td>72</td>\n",
       "      <td>217</td>\n",
       "    </tr>\n",
       "  </tbody>\n",
       "</table>\n",
       "</div>"
      ],
      "text/plain": [
       "   $\\mathbf x_1$ $\\mathbf x_2$\n",
       "1             52           173\n",
       "2             59           184\n",
       "3             67           194\n",
       "4             73           211\n",
       "5             64           196\n",
       "6             74           220\n",
       "7             54           188\n",
       "8             61           188\n",
       "9             65           207\n",
       "10            46           167\n",
       "11            72           217"
      ]
     },
     "execution_count": 4,
     "metadata": {},
     "output_type": "execute_result"
    }
   ],
   "source": [
    "X=np.array(data[[\"Age in years\",\"Weight in pounds\"]])\n",
    "pd.DataFrame(X,index=range(1,12),columns=[['$\\mathbf x_1$','$\\mathbf x_2$']])"
   ]
  },
  {
   "cell_type": "markdown",
   "metadata": {},
   "source": [
    "Next, print out the number of input variables and the number of observations:"
   ]
  },
  {
   "cell_type": "code",
   "execution_count": 5,
   "metadata": {},
   "outputs": [
    {
     "name": "stdout",
     "output_type": "stream",
     "text": [
      "Number of observations: 11\n",
      "Number of independent variables: 2\n"
     ]
    }
   ],
   "source": [
    "N,D=X.shape\n",
    "print(\"Number of observations:\",N)\n",
    "print(\"Number of independent variables:\",D)"
   ]
  },
  {
   "cell_type": "markdown",
   "metadata": {},
   "source": [
    "Now, let's insert a column at the beginning of $\\mathbf X$ corresponding to the constant term (intercept) then make it visible the resulted design matrix $\\mathbf {\\dot X}$. Again, the NumPy array is converted into a pandas dataframe for better visualization."
   ]
  },
  {
   "cell_type": "code",
   "execution_count": 6,
   "metadata": {},
   "outputs": [
    {
     "data": {
      "text/html": [
       "<div>\n",
       "<style scoped>\n",
       "    .dataframe tbody tr th:only-of-type {\n",
       "        vertical-align: middle;\n",
       "    }\n",
       "\n",
       "    .dataframe tbody tr th {\n",
       "        vertical-align: top;\n",
       "    }\n",
       "\n",
       "    .dataframe thead tr th {\n",
       "        text-align: left;\n",
       "    }\n",
       "</style>\n",
       "<table border=\"1\" class=\"dataframe\">\n",
       "  <thead>\n",
       "    <tr>\n",
       "      <th></th>\n",
       "      <th>$\\mathbf x_0$</th>\n",
       "      <th>$\\mathbf x_1$</th>\n",
       "      <th>$\\mathbf x_2$</th>\n",
       "    </tr>\n",
       "  </thead>\n",
       "  <tbody>\n",
       "    <tr>\n",
       "      <th>1</th>\n",
       "      <td>1</td>\n",
       "      <td>52</td>\n",
       "      <td>173</td>\n",
       "    </tr>\n",
       "    <tr>\n",
       "      <th>2</th>\n",
       "      <td>1</td>\n",
       "      <td>59</td>\n",
       "      <td>184</td>\n",
       "    </tr>\n",
       "    <tr>\n",
       "      <th>3</th>\n",
       "      <td>1</td>\n",
       "      <td>67</td>\n",
       "      <td>194</td>\n",
       "    </tr>\n",
       "    <tr>\n",
       "      <th>4</th>\n",
       "      <td>1</td>\n",
       "      <td>73</td>\n",
       "      <td>211</td>\n",
       "    </tr>\n",
       "    <tr>\n",
       "      <th>5</th>\n",
       "      <td>1</td>\n",
       "      <td>64</td>\n",
       "      <td>196</td>\n",
       "    </tr>\n",
       "    <tr>\n",
       "      <th>6</th>\n",
       "      <td>1</td>\n",
       "      <td>74</td>\n",
       "      <td>220</td>\n",
       "    </tr>\n",
       "    <tr>\n",
       "      <th>7</th>\n",
       "      <td>1</td>\n",
       "      <td>54</td>\n",
       "      <td>188</td>\n",
       "    </tr>\n",
       "    <tr>\n",
       "      <th>8</th>\n",
       "      <td>1</td>\n",
       "      <td>61</td>\n",
       "      <td>188</td>\n",
       "    </tr>\n",
       "    <tr>\n",
       "      <th>9</th>\n",
       "      <td>1</td>\n",
       "      <td>65</td>\n",
       "      <td>207</td>\n",
       "    </tr>\n",
       "    <tr>\n",
       "      <th>10</th>\n",
       "      <td>1</td>\n",
       "      <td>46</td>\n",
       "      <td>167</td>\n",
       "    </tr>\n",
       "    <tr>\n",
       "      <th>11</th>\n",
       "      <td>1</td>\n",
       "      <td>72</td>\n",
       "      <td>217</td>\n",
       "    </tr>\n",
       "  </tbody>\n",
       "</table>\n",
       "</div>"
      ],
      "text/plain": [
       "   $\\mathbf x_0$ $\\mathbf x_1$ $\\mathbf x_2$\n",
       "1              1            52           173\n",
       "2              1            59           184\n",
       "3              1            67           194\n",
       "4              1            73           211\n",
       "5              1            64           196\n",
       "6              1            74           220\n",
       "7              1            54           188\n",
       "8              1            61           188\n",
       "9              1            65           207\n",
       "10             1            46           167\n",
       "11             1            72           217"
      ]
     },
     "execution_count": 6,
     "metadata": {},
     "output_type": "execute_result"
    }
   ],
   "source": [
    "Xdot=np.insert(X,0,np.ones(N),axis=1)\n",
    "pd.DataFrame(Xdot,index=range(1,12),columns=[['$\\mathbf x_0$','$\\mathbf x_1$','$\\mathbf x_2$']])"
   ]
  },
  {
   "cell_type": "markdown",
   "metadata": {},
   "source": [
    "Let's check the rank of the design matrix. If none of the columns can be expressed as a linear combination of the rest of the colors, then the rank of the design matrix should be equal to the number of its columns."
   ]
  },
  {
   "cell_type": "code",
   "execution_count": 7,
   "metadata": {},
   "outputs": [
    {
     "name": "stdout",
     "output_type": "stream",
     "text": [
      "The rank of the design matrix Xdot is: 3\n"
     ]
    }
   ],
   "source": [
    "print(\"The rank of the design matrix Xdot is:\",matrix_rank(Xdot))"
   ]
  },
  {
   "cell_type": "markdown",
   "metadata": {},
   "source": [
    "Thus, the rank of the design matrix is equal to the number of input variables with intercept included.\n",
    "\n",
    "Finally, create the output vector $\\mathbf y$ and print out the result."
   ]
  },
  {
   "cell_type": "code",
   "execution_count": 8,
   "metadata": {
    "colab": {
     "base_uri": "https://localhost:8080/",
     "height": 34
    },
    "colab_type": "code",
    "executionInfo": {
     "elapsed": 597,
     "status": "ok",
     "timestamp": 1537254356525,
     "user": {
      "displayName": "Ferenc Dr. Farkas",
      "photoUrl": "https://lh3.googleusercontent.com/a/default-user=s128",
      "userId": "101091246114755693299"
     },
     "user_tz": -120
    },
    "id": "ZmwkmKZ6SsJw",
    "outputId": "fc70203f-7e2d-4e31-9526-4ab48894b76e"
   },
   "outputs": [
    {
     "data": {
      "text/html": [
       "<div>\n",
       "<style scoped>\n",
       "    .dataframe tbody tr th:only-of-type {\n",
       "        vertical-align: middle;\n",
       "    }\n",
       "\n",
       "    .dataframe tbody tr th {\n",
       "        vertical-align: top;\n",
       "    }\n",
       "\n",
       "    .dataframe thead tr th {\n",
       "        text-align: left;\n",
       "    }\n",
       "</style>\n",
       "<table border=\"1\" class=\"dataframe\">\n",
       "  <thead>\n",
       "    <tr>\n",
       "      <th></th>\n",
       "      <th>$\\mathbf y$</th>\n",
       "    </tr>\n",
       "  </thead>\n",
       "  <tbody>\n",
       "    <tr>\n",
       "      <th>1</th>\n",
       "      <td>132</td>\n",
       "    </tr>\n",
       "    <tr>\n",
       "      <th>2</th>\n",
       "      <td>143</td>\n",
       "    </tr>\n",
       "    <tr>\n",
       "      <th>3</th>\n",
       "      <td>153</td>\n",
       "    </tr>\n",
       "    <tr>\n",
       "      <th>4</th>\n",
       "      <td>162</td>\n",
       "    </tr>\n",
       "    <tr>\n",
       "      <th>5</th>\n",
       "      <td>154</td>\n",
       "    </tr>\n",
       "    <tr>\n",
       "      <th>6</th>\n",
       "      <td>168</td>\n",
       "    </tr>\n",
       "    <tr>\n",
       "      <th>7</th>\n",
       "      <td>137</td>\n",
       "    </tr>\n",
       "    <tr>\n",
       "      <th>8</th>\n",
       "      <td>149</td>\n",
       "    </tr>\n",
       "    <tr>\n",
       "      <th>9</th>\n",
       "      <td>159</td>\n",
       "    </tr>\n",
       "    <tr>\n",
       "      <th>10</th>\n",
       "      <td>128</td>\n",
       "    </tr>\n",
       "    <tr>\n",
       "      <th>11</th>\n",
       "      <td>166</td>\n",
       "    </tr>\n",
       "  </tbody>\n",
       "</table>\n",
       "</div>"
      ],
      "text/plain": [
       "   $\\mathbf y$\n",
       "1          132\n",
       "2          143\n",
       "3          153\n",
       "4          162\n",
       "5          154\n",
       "6          168\n",
       "7          137\n",
       "8          149\n",
       "9          159\n",
       "10         128\n",
       "11         166"
      ]
     },
     "execution_count": 8,
     "metadata": {},
     "output_type": "execute_result"
    }
   ],
   "source": [
    "y_=np.array(data[\"Systolic blood pressure\"])[:,np.newaxis]\n",
    "pd.DataFrame(y_,index=range(1,12),columns=[['$\\mathbf y$']])"
   ]
  },
  {
   "cell_type": "markdown",
   "metadata": {},
   "source": [
    "After this, we should be confident about how an input matrix (design matrix) and output vector should look, respectively, how they can be created from a dataset."
   ]
  },
  {
   "cell_type": "markdown",
   "metadata": {
    "colab_type": "text",
    "id": "DqBkeXGDVLjH"
   },
   "source": [
    "## 2. Scatter plot with the estimated regression plane <a name=\"ScatterPlot\"></a>\n",
    "\n",
    "Make a scatterplot of the observations from the dataset to have a grasp about your data. If you want to apply linear regression, a first visual check is always useful to see the trend in your data."
   ]
  },
  {
   "cell_type": "code",
   "execution_count": 9,
   "metadata": {},
   "outputs": [
    {
     "data": {
      "image/png": "[encoded data removed]",
      "text/plain": [
       "<Figure size 432x288 with 1 Axes>"
      ]
     },
     "metadata": {
      "needs_background": "light"
     },
     "output_type": "display_data"
    }
   ],
   "source": [
    "fig = plt.figure()\n",
    "ax = Axes3D(fig)\n",
    "ax.scatter(Xdot[:,1], Xdot[:,2], y_, c='b')\n",
    "ax.set_xlabel('Age')\n",
    "ax.set_ylabel('Weight[pounds]')\n",
    "ax.set_zlabel('Blood pressure')\n",
    "plt.show()"
   ]
  },
  {
   "cell_type": "markdown",
   "metadata": {
    "colab_type": "text",
    "id": "yBT2V8MUV9Ur"
   },
   "source": [
    "As can be observed from the scatter plot, there is some linear trend between the blood pressure of a person vs. his/her age and weight. \n",
    "\n",
    "The weight vector $\\mathbf w$ (vector of regression coefficients) can be calculated from the design matrix as $\\mathbf{w}=(\\mathbf{\\dot X}^T\\mathbf{\\dot X})^{-1}\\mathbf{\\dot X}^T\\mathbf{y}$ as was derived in the book.\n",
    "\n",
    "**Note**: *Conversion from the mathematical notation to Python code is straightforward when using NumPy operators and methods.*"
   ]
  },
  {
   "cell_type": "code",
   "execution_count": 10,
   "metadata": {},
   "outputs": [
    {
     "name": "stdout",
     "output_type": "stream",
     "text": [
      "Vector of regression coefficients:\n"
     ]
    },
    {
     "data": {
      "text/html": [
       "<div>\n",
       "<style scoped>\n",
       "    .dataframe tbody tr th:only-of-type {\n",
       "        vertical-align: middle;\n",
       "    }\n",
       "\n",
       "    .dataframe tbody tr th {\n",
       "        vertical-align: top;\n",
       "    }\n",
       "\n",
       "    .dataframe thead th {\n",
       "        text-align: right;\n",
       "    }\n",
       "</style>\n",
       "<table border=\"1\" class=\"dataframe\">\n",
       "  <thead>\n",
       "    <tr style=\"text-align: right;\">\n",
       "      <th></th>\n",
       "      <th>$\\mathbf w$</th>\n",
       "    </tr>\n",
       "  </thead>\n",
       "  <tbody>\n",
       "    <tr>\n",
       "      <th>$w_0$</th>\n",
       "      <td>30.994103</td>\n",
       "    </tr>\n",
       "    <tr>\n",
       "      <th>$w_1$</th>\n",
       "      <td>0.861415</td>\n",
       "    </tr>\n",
       "    <tr>\n",
       "      <th>$w_2$</th>\n",
       "      <td>0.334859</td>\n",
       "    </tr>\n",
       "  </tbody>\n",
       "</table>\n",
       "</div>"
      ],
      "text/plain": [
       "       $\\mathbf w$ \n",
       "$w_0$     30.994103\n",
       "$w_1$      0.861415\n",
       "$w_2$      0.334859"
      ]
     },
     "execution_count": 10,
     "metadata": {},
     "output_type": "execute_result"
    }
   ],
   "source": [
    "w_=inv(Xdot.T@Xdot)@Xdot.T@y_\n",
    "print(\"Vector of regression coefficients:\")\n",
    "pd.DataFrame(w_,index=[['$w_0$','$w_1$','$w_2$']],columns=['$\\mathbf w$ '])"
   ]
  },
  {
   "cell_type": "markdown",
   "metadata": {},
   "source": [
    "The first term represents the constant or intercept ($w_0=b=30.994$), the second the coefficient for the input variable age ($w_1=0.861$), while the third term the coefficient for the input variable weight ($w_2=0.335$). One unit change in age, while keeping the other input variable constant, corresponds to 0.861 unit change in blood pressure. For example, if a person gets one year older and we do not expect that the weight is changed, on average, the blood pressure increases with 0.861 unit. That is slightly lower than what we get from the other dataset, but if we look at the age values, we can observe that now there are only older people in the dataset, not young people. Similarly, one unit change in weight while keeping the age constant corresponds to 0.33 unit change in blood pressure. If there are two persons at the same age, but with different weights, then each additional one pound (0.453kg) difference results in average 0.335 unit difference in blood pressure. For example, if the difference is 60 pounds (27.24kg) between a slim and a fat person, then on average, the blood pressure of a fat person should be 20 units more.\n",
    "\n",
    "Now, make the plot of the estimated regression plain."
   ]
  },
  {
   "cell_type": "code",
   "execution_count": 11,
   "metadata": {},
   "outputs": [
    {
     "data": {
      "image/png": "[encoded data removed]",
      "text/plain": [
       "<Figure size 432x288 with 1 Axes>"
      ]
     },
     "metadata": {
      "needs_background": "light"
     },
     "output_type": "display_data"
    }
   ],
   "source": [
    "fig = plt.figure()\n",
    "ax = Axes3D(fig)\n",
    "ax.scatter(Xdot[:,1], Xdot[:,2], y_, c='b', alpha=1)\n",
    "# Creating the meshgrid for x (age),y(weigth) and calculating the value of z (surface)\n",
    "xx, yy = np.meshgrid(np.arange(40,85,5), np.arange(165,225,5))\n",
    "zz = w_[0,0]+w_[1,0]*xx+w_[2,0]*yy\n",
    "surf = ax.plot_surface(xx, yy, zz, cmap=cm.Blues, linewidth=0, antialiased=False, alpha=0.7)\n",
    "for i in range(N):\n",
    "    ax.plot([Xdot[i,1],Xdot[i,1]],[Xdot[i,2],Xdot[i,2]],[y_[i,0],w_[0,0]+w_[1,0]*Xdot[i,1]+w_[2,0]*Xdot[i,2]])\n",
    "ax.set_xlabel('Age')\n",
    "ax.set_ylabel('Weight[pounds]')\n",
    "ax.set_zlabel('Blood pressure')\n",
    "plt.show() "
   ]
  },
  {
   "cell_type": "markdown",
   "metadata": {},
   "source": [
    "With two input variables, the obtained result is not a regression line but a regression plane. "
   ]
  },
  {
   "cell_type": "markdown",
   "metadata": {},
   "source": [
    "## 3. Calculate the hat matrix and the covariance matrices <a name=\"HatAndCov\"></a>\n",
    "\n",
    "We can also calculate the hat matrix: $\\mathbf{H}=\\mathbf{\\dot X}(\\mathbf{\\dot X}^T\\mathbf{\\dot X})^{-1}\\mathbf{\\dot X}^T$. Again, you can see how easily the mathematical expression can be translated to Python/Numpy code."
   ]
  },
  {
   "cell_type": "code",
   "execution_count": 12,
   "metadata": {},
   "outputs": [
    {
     "name": "stdout",
     "output_type": "stream",
     "text": [
      "Shape of the hat matrix is: (11, 11)\n"
     ]
    }
   ],
   "source": [
    "H=Xdot@inv(Xdot.T@Xdot)@Xdot.T\n",
    "print(\"Shape of the hat matrix is:\",H.shape)"
   ]
  },
  {
   "cell_type": "markdown",
   "metadata": {},
   "source": [
    "The hat matrix is a squared matrix with number of rows/columns equal to the number of observations $N$. Check the rank of the $\\mathbf H$ hat matrix:"
   ]
  },
  {
   "cell_type": "code",
   "execution_count": 13,
   "metadata": {},
   "outputs": [
    {
     "name": "stdout",
     "output_type": "stream",
     "text": [
      "The rank of the hat matrix H is: 3\n"
     ]
    }
   ],
   "source": [
    "print(\"The rank of the hat matrix H is:\",matrix_rank(H))"
   ]
  },
  {
   "cell_type": "markdown",
   "metadata": {},
   "source": [
    "The rank of the $\\mathbf H$ hat matrix is the same as the rank of the $\\mathbf {\\dot X}$ design matrix and does not equal to the number of columns of $\\mathbf H$. Because the number of observations is small, we can have a look at the values of the hat matrix."
   ]
  },
  {
   "cell_type": "code",
   "execution_count": 14,
   "metadata": {},
   "outputs": [
    {
     "name": "stdout",
     "output_type": "stream",
     "text": [
      "HAT MATRIX:\n",
      "===========\n"
     ]
    },
    {
     "data": {
      "text/html": [
       "<div>\n",
       "<style scoped>\n",
       "    .dataframe tbody tr th:only-of-type {\n",
       "        vertical-align: middle;\n",
       "    }\n",
       "\n",
       "    .dataframe tbody tr th {\n",
       "        vertical-align: top;\n",
       "    }\n",
       "\n",
       "    .dataframe thead th {\n",
       "        text-align: right;\n",
       "    }\n",
       "</style>\n",
       "<table border=\"1\" class=\"dataframe\">\n",
       "  <thead>\n",
       "    <tr style=\"text-align: right;\">\n",
       "      <th></th>\n",
       "      <th>1</th>\n",
       "      <th>2</th>\n",
       "      <th>3</th>\n",
       "      <th>4</th>\n",
       "      <th>5</th>\n",
       "      <th>6</th>\n",
       "      <th>7</th>\n",
       "      <th>8</th>\n",
       "      <th>9</th>\n",
       "      <th>10</th>\n",
       "      <th>11</th>\n",
       "    </tr>\n",
       "  </thead>\n",
       "  <tbody>\n",
       "    <tr>\n",
       "      <th>1</th>\n",
       "      <td>0.255233</td>\n",
       "      <td>0.183263</td>\n",
       "      <td>0.127244</td>\n",
       "      <td>-0.011684</td>\n",
       "      <td>0.089593</td>\n",
       "      <td>-0.097747</td>\n",
       "      <td>0.113711</td>\n",
       "      <td>0.153956</td>\n",
       "      <td>-0.016873</td>\n",
       "      <td>0.281945</td>\n",
       "      <td>-0.078641</td>\n",
       "    </tr>\n",
       "    <tr>\n",
       "      <th>2</th>\n",
       "      <td>0.183263</td>\n",
       "      <td>0.178214</td>\n",
       "      <td>0.211589</td>\n",
       "      <td>0.092002</td>\n",
       "      <td>0.111542</td>\n",
       "      <td>-0.021804</td>\n",
       "      <td>0.001320</td>\n",
       "      <td>0.163723</td>\n",
       "      <td>-0.032710</td>\n",
       "      <td>0.135397</td>\n",
       "      <td>-0.022536</td>\n",
       "    </tr>\n",
       "    <tr>\n",
       "      <th>3</th>\n",
       "      <td>0.127244</td>\n",
       "      <td>0.211589</td>\n",
       "      <td>0.382894</td>\n",
       "      <td>0.234622</td>\n",
       "      <td>0.151147</td>\n",
       "      <td>0.030264</td>\n",
       "      <td>-0.194076</td>\n",
       "      <td>0.210718</td>\n",
       "      <td>-0.111473</td>\n",
       "      <td>-0.044932</td>\n",
       "      <td>0.002004</td>\n",
       "    </tr>\n",
       "    <tr>\n",
       "      <th>4</th>\n",
       "      <td>-0.011684</td>\n",
       "      <td>0.092002</td>\n",
       "      <td>0.234622</td>\n",
       "      <td>0.252472</td>\n",
       "      <td>0.127201</td>\n",
       "      <td>0.197600</td>\n",
       "      <td>-0.093285</td>\n",
       "      <td>0.113586</td>\n",
       "      <td>0.053569</td>\n",
       "      <td>-0.132719</td>\n",
       "      <td>0.166636</td>\n",
       "    </tr>\n",
       "    <tr>\n",
       "      <th>5</th>\n",
       "      <td>0.089593</td>\n",
       "      <td>0.111542</td>\n",
       "      <td>0.151147</td>\n",
       "      <td>0.127201</td>\n",
       "      <td>0.103823</td>\n",
       "      <td>0.088385</td>\n",
       "      <td>0.028902</td>\n",
       "      <td>0.112972</td>\n",
       "      <td>0.053711</td>\n",
       "      <td>0.051417</td>\n",
       "      <td>0.081307</td>\n",
       "    </tr>\n",
       "    <tr>\n",
       "      <th>6</th>\n",
       "      <td>-0.097747</td>\n",
       "      <td>-0.021804</td>\n",
       "      <td>0.030264</td>\n",
       "      <td>0.197600</td>\n",
       "      <td>0.088385</td>\n",
       "      <td>0.308762</td>\n",
       "      <td>0.084066</td>\n",
       "      <td>0.011469</td>\n",
       "      <td>0.226554</td>\n",
       "      <td>-0.116543</td>\n",
       "      <td>0.288993</td>\n",
       "    </tr>\n",
       "    <tr>\n",
       "      <th>7</th>\n",
       "      <td>0.113711</td>\n",
       "      <td>0.001320</td>\n",
       "      <td>-0.194076</td>\n",
       "      <td>-0.093285</td>\n",
       "      <td>0.028902</td>\n",
       "      <td>0.084066</td>\n",
       "      <td>0.390306</td>\n",
       "      <td>-0.008476</td>\n",
       "      <td>0.258324</td>\n",
       "      <td>0.299311</td>\n",
       "      <td>0.119897</td>\n",
       "    </tr>\n",
       "    <tr>\n",
       "      <th>8</th>\n",
       "      <td>0.153956</td>\n",
       "      <td>0.163723</td>\n",
       "      <td>0.210718</td>\n",
       "      <td>0.113586</td>\n",
       "      <td>0.112972</td>\n",
       "      <td>0.011469</td>\n",
       "      <td>-0.008476</td>\n",
       "      <td>0.154570</td>\n",
       "      <td>-0.017015</td>\n",
       "      <td>0.097809</td>\n",
       "      <td>0.006687</td>\n",
       "    </tr>\n",
       "    <tr>\n",
       "      <th>9</th>\n",
       "      <td>-0.016873</td>\n",
       "      <td>-0.032710</td>\n",
       "      <td>-0.111473</td>\n",
       "      <td>0.053569</td>\n",
       "      <td>0.053711</td>\n",
       "      <td>0.226554</td>\n",
       "      <td>0.258324</td>\n",
       "      <td>-0.017015</td>\n",
       "      <td>0.273878</td>\n",
       "      <td>0.077586</td>\n",
       "      <td>0.234449</td>\n",
       "    </tr>\n",
       "    <tr>\n",
       "      <th>10</th>\n",
       "      <td>0.281945</td>\n",
       "      <td>0.135397</td>\n",
       "      <td>-0.044932</td>\n",
       "      <td>-0.132719</td>\n",
       "      <td>0.051417</td>\n",
       "      <td>-0.116543</td>\n",
       "      <td>0.299311</td>\n",
       "      <td>0.097809</td>\n",
       "      <td>0.077586</td>\n",
       "      <td>0.424687</td>\n",
       "      <td>-0.073958</td>\n",
       "    </tr>\n",
       "    <tr>\n",
       "      <th>11</th>\n",
       "      <td>-0.078641</td>\n",
       "      <td>-0.022536</td>\n",
       "      <td>0.002004</td>\n",
       "      <td>0.166636</td>\n",
       "      <td>0.081307</td>\n",
       "      <td>0.288993</td>\n",
       "      <td>0.119897</td>\n",
       "      <td>0.006687</td>\n",
       "      <td>0.234449</td>\n",
       "      <td>-0.073958</td>\n",
       "      <td>0.275162</td>\n",
       "    </tr>\n",
       "  </tbody>\n",
       "</table>\n",
       "</div>"
      ],
      "text/plain": [
       "          1         2         3         4         5         6         7   \\\n",
       "1   0.255233  0.183263  0.127244 -0.011684  0.089593 -0.097747  0.113711   \n",
       "2   0.183263  0.178214  0.211589  0.092002  0.111542 -0.021804  0.001320   \n",
       "3   0.127244  0.211589  0.382894  0.234622  0.151147  0.030264 -0.194076   \n",
       "4  -0.011684  0.092002  0.234622  0.252472  0.127201  0.197600 -0.093285   \n",
       "5   0.089593  0.111542  0.151147  0.127201  0.103823  0.088385  0.028902   \n",
       "6  -0.097747 -0.021804  0.030264  0.197600  0.088385  0.308762  0.084066   \n",
       "7   0.113711  0.001320 -0.194076 -0.093285  0.028902  0.084066  0.390306   \n",
       "8   0.153956  0.163723  0.210718  0.113586  0.112972  0.011469 -0.008476   \n",
       "9  -0.016873 -0.032710 -0.111473  0.053569  0.053711  0.226554  0.258324   \n",
       "10  0.281945  0.135397 -0.044932 -0.132719  0.051417 -0.116543  0.299311   \n",
       "11 -0.078641 -0.022536  0.002004  0.166636  0.081307  0.288993  0.119897   \n",
       "\n",
       "          8         9         10        11  \n",
       "1   0.153956 -0.016873  0.281945 -0.078641  \n",
       "2   0.163723 -0.032710  0.135397 -0.022536  \n",
       "3   0.210718 -0.111473 -0.044932  0.002004  \n",
       "4   0.113586  0.053569 -0.132719  0.166636  \n",
       "5   0.112972  0.053711  0.051417  0.081307  \n",
       "6   0.011469  0.226554 -0.116543  0.288993  \n",
       "7  -0.008476  0.258324  0.299311  0.119897  \n",
       "8   0.154570 -0.017015  0.097809  0.006687  \n",
       "9  -0.017015  0.273878  0.077586  0.234449  \n",
       "10  0.097809  0.077586  0.424687 -0.073958  \n",
       "11  0.006687  0.234449 -0.073958  0.275162  "
      ]
     },
     "execution_count": 14,
     "metadata": {},
     "output_type": "execute_result"
    }
   ],
   "source": [
    "print(\"HAT MATRIX:\\n===========\")\n",
    "pd.DataFrame(H,index=range(1,12),columns=range(1,12))"
   ]
  },
  {
   "cell_type": "markdown",
   "metadata": {},
   "source": [
    "Remember, that the prediction for the $i$-th observation is obtained as a linear combination of the $N$ observations of the output $y$ where the coefficients of the linear combination are the elements from the $i$-th row of the hat matrix."
   ]
  },
  {
   "cell_type": "code",
   "execution_count": 15,
   "metadata": {
    "scrolled": true
   },
   "outputs": [
    {
     "name": "stdout",
     "output_type": "stream",
     "text": [
      "133.71830775839044\n",
      "143.43166173248773\n",
      "153.67157119585116\n",
      "164.53266566651143\n",
      "151.75704553077972\n",
      "168.40781312748226\n",
      "140.46402508880084\n",
      "146.49392789403873\n",
      "156.30191138607088\n",
      "126.54066445655431\n",
      "165.6804061630256\n"
     ]
    }
   ],
   "source": [
    "for i in range(N):\n",
    "    print(float(H[i,:]@y_))"
   ]
  },
  {
   "cell_type": "markdown",
   "metadata": {},
   "source": [
    "The predicted (projected) values for the $\\mathbf y$ vector can be also calculated using the expression derived in the book, i.e. $\\mathbf {\\hat y}=\\mathbf H\\cdot \\mathbf y$:"
   ]
  },
  {
   "cell_type": "code",
   "execution_count": 16,
   "metadata": {},
   "outputs": [
    {
     "name": "stdout",
     "output_type": "stream",
     "text": [
      "[[133.71830776]\n",
      " [143.43166173]\n",
      " [153.6715712 ]\n",
      " [164.53266567]\n",
      " [151.75704553]\n",
      " [168.40781313]\n",
      " [140.46402509]\n",
      " [146.49392789]\n",
      " [156.30191139]\n",
      " [126.54066446]\n",
      " [165.68040616]]\n"
     ]
    }
   ],
   "source": [
    "yhat_=H@y_\n",
    "print(yhat_)"
   ]
  },
  {
   "cell_type": "markdown",
   "metadata": {},
   "source": [
    "There should be no surprise that these are the same values obtained with the 'for' loop. You should also notice that you get the estimated vector just using the dot product between the hat matrix and output vector.\n",
    "\n",
    "Residuals can be also calculated very easy (residuals represent the distance from the observation to the regression plane), namely $\\mathbf r=\\mathbf y - \\mathbf {\\hat y}$:"
   ]
  },
  {
   "cell_type": "code",
   "execution_count": 17,
   "metadata": {},
   "outputs": [
    {
     "name": "stdout",
     "output_type": "stream",
     "text": [
      "[[-1.71830776]\n",
      " [-0.43166173]\n",
      " [-0.6715712 ]\n",
      " [-2.53266567]\n",
      " [ 2.24295447]\n",
      " [-0.40781313]\n",
      " [-3.46402509]\n",
      " [ 2.50607211]\n",
      " [ 2.69808861]\n",
      " [ 1.45933554]\n",
      " [ 0.31959384]]\n"
     ]
    }
   ],
   "source": [
    "print(y_-yhat_)"
   ]
  },
  {
   "cell_type": "markdown",
   "metadata": {},
   "source": [
    "But, we can also use the expression from the book, namely: $\\mathbf r=(\\mathbf I-\\mathbf H)\\mathbf y$"
   ]
  },
  {
   "cell_type": "code",
   "execution_count": 18,
   "metadata": {},
   "outputs": [
    {
     "name": "stdout",
     "output_type": "stream",
     "text": [
      "[[-1.71830776]\n",
      " [-0.43166173]\n",
      " [-0.6715712 ]\n",
      " [-2.53266567]\n",
      " [ 2.24295447]\n",
      " [-0.40781313]\n",
      " [-3.46402509]\n",
      " [ 2.50607211]\n",
      " [ 2.69808861]\n",
      " [ 1.45933554]\n",
      " [ 0.31959384]]\n"
     ]
    }
   ],
   "source": [
    "I=np.eye(N)\n",
    "r_=(I-H)@y_\n",
    "print(r_)"
   ]
  },
  {
   "cell_type": "markdown",
   "metadata": {},
   "source": [
    "As defined in the book, the mean squared error (MSE), as the unbiased estimate for the unknown variance of the true error ($\\sigma_\\epsilon^2$), is $\\hat\\sigma^2=\\frac{1}{N-D-1}\\mathbf r^\\top\\mathbf r$:"
   ]
  },
  {
   "cell_type": "code",
   "execution_count": 19,
   "metadata": {},
   "outputs": [
    {
     "name": "stdout",
     "output_type": "stream",
     "text": [
      "Mean squared error (MSE): 5.374102848116543\n"
     ]
    }
   ],
   "source": [
    "MSE=float(1/(N-D-1)*r_.T@r_)\n",
    "print(\"Mean squared error (MSE):\",MSE)"
   ]
  },
  {
   "cell_type": "markdown",
   "metadata": {},
   "source": [
    "The variance-covariance matrix for the residuals is $\\mathbb V\\left[\\mathbf r\\right]=\\hat\\sigma^2(\\mathbf I-\\mathbf H)$:"
   ]
  },
  {
   "cell_type": "code",
   "execution_count": 20,
   "metadata": {},
   "outputs": [
    {
     "name": "stdout",
     "output_type": "stream",
     "text": [
      "Residual variance-covariance matrix:\n",
      "====================================\n"
     ]
    },
    {
     "data": {
      "text/html": [
       "<div>\n",
       "<style scoped>\n",
       "    .dataframe tbody tr th:only-of-type {\n",
       "        vertical-align: middle;\n",
       "    }\n",
       "\n",
       "    .dataframe tbody tr th {\n",
       "        vertical-align: top;\n",
       "    }\n",
       "\n",
       "    .dataframe thead th {\n",
       "        text-align: right;\n",
       "    }\n",
       "</style>\n",
       "<table border=\"1\" class=\"dataframe\">\n",
       "  <thead>\n",
       "    <tr style=\"text-align: right;\">\n",
       "      <th></th>\n",
       "      <th>1</th>\n",
       "      <th>2</th>\n",
       "      <th>3</th>\n",
       "      <th>4</th>\n",
       "      <th>5</th>\n",
       "      <th>6</th>\n",
       "      <th>7</th>\n",
       "      <th>8</th>\n",
       "      <th>9</th>\n",
       "      <th>10</th>\n",
       "      <th>11</th>\n",
       "    </tr>\n",
       "  </thead>\n",
       "  <tbody>\n",
       "    <tr>\n",
       "      <th>1</th>\n",
       "      <td>4.002455</td>\n",
       "      <td>-0.984874</td>\n",
       "      <td>-0.683820</td>\n",
       "      <td>0.062790</td>\n",
       "      <td>-0.481482</td>\n",
       "      <td>0.525302</td>\n",
       "      <td>-0.611095</td>\n",
       "      <td>-0.827375</td>\n",
       "      <td>0.090676</td>\n",
       "      <td>-1.515203</td>\n",
       "      <td>0.422627</td>\n",
       "    </tr>\n",
       "    <tr>\n",
       "      <th>2</th>\n",
       "      <td>-0.984874</td>\n",
       "      <td>4.416361</td>\n",
       "      <td>-1.137101</td>\n",
       "      <td>-0.494429</td>\n",
       "      <td>-0.599436</td>\n",
       "      <td>0.117176</td>\n",
       "      <td>-0.007093</td>\n",
       "      <td>-0.879867</td>\n",
       "      <td>0.175789</td>\n",
       "      <td>-0.727640</td>\n",
       "      <td>0.121111</td>\n",
       "    </tr>\n",
       "    <tr>\n",
       "      <th>3</th>\n",
       "      <td>-0.683820</td>\n",
       "      <td>-1.137101</td>\n",
       "      <td>3.316393</td>\n",
       "      <td>-1.260880</td>\n",
       "      <td>-0.812282</td>\n",
       "      <td>-0.162644</td>\n",
       "      <td>1.042983</td>\n",
       "      <td>-1.132418</td>\n",
       "      <td>0.599067</td>\n",
       "      <td>0.241472</td>\n",
       "      <td>-0.010770</td>\n",
       "    </tr>\n",
       "    <tr>\n",
       "      <th>4</th>\n",
       "      <td>0.062790</td>\n",
       "      <td>-0.494429</td>\n",
       "      <td>-1.260880</td>\n",
       "      <td>4.017295</td>\n",
       "      <td>-0.683594</td>\n",
       "      <td>-1.061924</td>\n",
       "      <td>0.501323</td>\n",
       "      <td>-0.610424</td>\n",
       "      <td>-0.287887</td>\n",
       "      <td>0.713247</td>\n",
       "      <td>-0.895517</td>\n",
       "    </tr>\n",
       "    <tr>\n",
       "      <th>5</th>\n",
       "      <td>-0.481482</td>\n",
       "      <td>-0.599436</td>\n",
       "      <td>-0.812282</td>\n",
       "      <td>-0.683594</td>\n",
       "      <td>4.816150</td>\n",
       "      <td>-0.474989</td>\n",
       "      <td>-0.155321</td>\n",
       "      <td>-0.607122</td>\n",
       "      <td>-0.288649</td>\n",
       "      <td>-0.276322</td>\n",
       "      <td>-0.436952</td>\n",
       "    </tr>\n",
       "    <tr>\n",
       "      <th>6</th>\n",
       "      <td>0.525302</td>\n",
       "      <td>0.117176</td>\n",
       "      <td>-0.162644</td>\n",
       "      <td>-1.061924</td>\n",
       "      <td>-0.474989</td>\n",
       "      <td>3.714783</td>\n",
       "      <td>-0.451779</td>\n",
       "      <td>-0.061634</td>\n",
       "      <td>-1.217524</td>\n",
       "      <td>0.626312</td>\n",
       "      <td>-1.553079</td>\n",
       "    </tr>\n",
       "    <tr>\n",
       "      <th>7</th>\n",
       "      <td>-0.611095</td>\n",
       "      <td>-0.007093</td>\n",
       "      <td>1.042983</td>\n",
       "      <td>0.501323</td>\n",
       "      <td>-0.155321</td>\n",
       "      <td>-0.451779</td>\n",
       "      <td>3.276557</td>\n",
       "      <td>0.045550</td>\n",
       "      <td>-1.388259</td>\n",
       "      <td>-1.608528</td>\n",
       "      <td>-0.644339</td>\n",
       "    </tr>\n",
       "    <tr>\n",
       "      <th>8</th>\n",
       "      <td>-0.827375</td>\n",
       "      <td>-0.879867</td>\n",
       "      <td>-1.132418</td>\n",
       "      <td>-0.610424</td>\n",
       "      <td>-0.607122</td>\n",
       "      <td>-0.061634</td>\n",
       "      <td>0.045550</td>\n",
       "      <td>4.543426</td>\n",
       "      <td>0.091438</td>\n",
       "      <td>-0.525634</td>\n",
       "      <td>-0.035938</td>\n",
       "    </tr>\n",
       "    <tr>\n",
       "      <th>9</th>\n",
       "      <td>0.090676</td>\n",
       "      <td>0.175789</td>\n",
       "      <td>0.599067</td>\n",
       "      <td>-0.287887</td>\n",
       "      <td>-0.288649</td>\n",
       "      <td>-1.217524</td>\n",
       "      <td>-1.388259</td>\n",
       "      <td>0.091438</td>\n",
       "      <td>3.902256</td>\n",
       "      <td>-0.416954</td>\n",
       "      <td>-1.259954</td>\n",
       "    </tr>\n",
       "    <tr>\n",
       "      <th>10</th>\n",
       "      <td>-1.515203</td>\n",
       "      <td>-0.727640</td>\n",
       "      <td>0.241472</td>\n",
       "      <td>0.713247</td>\n",
       "      <td>-0.276322</td>\n",
       "      <td>0.626312</td>\n",
       "      <td>-1.608528</td>\n",
       "      <td>-0.525634</td>\n",
       "      <td>-0.416954</td>\n",
       "      <td>3.091794</td>\n",
       "      <td>0.397458</td>\n",
       "    </tr>\n",
       "    <tr>\n",
       "      <th>11</th>\n",
       "      <td>0.422627</td>\n",
       "      <td>0.121111</td>\n",
       "      <td>-0.010770</td>\n",
       "      <td>-0.895517</td>\n",
       "      <td>-0.436952</td>\n",
       "      <td>-1.553079</td>\n",
       "      <td>-0.644339</td>\n",
       "      <td>-0.035938</td>\n",
       "      <td>-1.259954</td>\n",
       "      <td>0.397458</td>\n",
       "      <td>3.895354</td>\n",
       "    </tr>\n",
       "  </tbody>\n",
       "</table>\n",
       "</div>"
      ],
      "text/plain": [
       "          1         2         3         4         5         6         7   \\\n",
       "1   4.002455 -0.984874 -0.683820  0.062790 -0.481482  0.525302 -0.611095   \n",
       "2  -0.984874  4.416361 -1.137101 -0.494429 -0.599436  0.117176 -0.007093   \n",
       "3  -0.683820 -1.137101  3.316393 -1.260880 -0.812282 -0.162644  1.042983   \n",
       "4   0.062790 -0.494429 -1.260880  4.017295 -0.683594 -1.061924  0.501323   \n",
       "5  -0.481482 -0.599436 -0.812282 -0.683594  4.816150 -0.474989 -0.155321   \n",
       "6   0.525302  0.117176 -0.162644 -1.061924 -0.474989  3.714783 -0.451779   \n",
       "7  -0.611095 -0.007093  1.042983  0.501323 -0.155321 -0.451779  3.276557   \n",
       "8  -0.827375 -0.879867 -1.132418 -0.610424 -0.607122 -0.061634  0.045550   \n",
       "9   0.090676  0.175789  0.599067 -0.287887 -0.288649 -1.217524 -1.388259   \n",
       "10 -1.515203 -0.727640  0.241472  0.713247 -0.276322  0.626312 -1.608528   \n",
       "11  0.422627  0.121111 -0.010770 -0.895517 -0.436952 -1.553079 -0.644339   \n",
       "\n",
       "          8         9         10        11  \n",
       "1  -0.827375  0.090676 -1.515203  0.422627  \n",
       "2  -0.879867  0.175789 -0.727640  0.121111  \n",
       "3  -1.132418  0.599067  0.241472 -0.010770  \n",
       "4  -0.610424 -0.287887  0.713247 -0.895517  \n",
       "5  -0.607122 -0.288649 -0.276322 -0.436952  \n",
       "6  -0.061634 -1.217524  0.626312 -1.553079  \n",
       "7   0.045550 -1.388259 -1.608528 -0.644339  \n",
       "8   4.543426  0.091438 -0.525634 -0.035938  \n",
       "9   0.091438  3.902256 -0.416954 -1.259954  \n",
       "10 -0.525634 -0.416954  3.091794  0.397458  \n",
       "11 -0.035938 -1.259954  0.397458  3.895354  "
      ]
     },
     "execution_count": 20,
     "metadata": {},
     "output_type": "execute_result"
    }
   ],
   "source": [
    "ResCov=MSE*(I-H)\n",
    "print(\"Residual variance-covariance matrix:\\n====================================\")\n",
    "#print(pd.DataFrame(Rcov).to_string(index=False,header=False))\n",
    "pd.DataFrame(ResCov,index=range(1,12),columns=range(1,12))"
   ]
  },
  {
   "cell_type": "markdown",
   "metadata": {},
   "source": [
    "The diagonal elements of the (variance-)covariance matrix of the residuals represent the variances of the individual residuals, while the off-diagonal elements are the covariances between the residuals. As it can be observed, the covariances between the residuals are not zero in contrast to our assumption that the true errors are uncorrelated with each other. That is, even though the residuals represent the estimate of the true error $\\epsilon$, they are still correlated with each other.\n",
    "\n",
    "The standard error of the residuals is the square root of the diagonal elements of the covariance matrix above:"
   ]
  },
  {
   "cell_type": "code",
   "execution_count": 21,
   "metadata": {},
   "outputs": [
    {
     "name": "stdout",
     "output_type": "stream",
     "text": [
      "[[2.00061367]\n",
      " [2.10151408]\n",
      " [1.82109663]\n",
      " [2.00431898]\n",
      " [2.19457274]\n",
      " [1.92737734]\n",
      " [1.81012621]\n",
      " [2.13153131]\n",
      " [1.97541282]\n",
      " [1.75834974]\n",
      " [1.97366502]]\n"
     ]
    }
   ],
   "source": [
    "std_res_=np.sqrt(np.diag(ResCov)[:,np.newaxis])\n",
    "print(std_res_)"
   ]
  },
  {
   "cell_type": "markdown",
   "metadata": {},
   "source": [
    "It is important to observe that the standard error of the residuals is not constant in contrast with our assumption for the constant variance of the true error. That is, even though the residuals represent the estimate of the true error $\\epsilon$, they do not have a constant variance.\n",
    "\n",
    "Similarly, we can calculate the standard error of predictions ($\\hat y$) as the diagonal elements of the $\\hat\\sigma^2 \\mathbf H$ matrix:"
   ]
  },
  {
   "cell_type": "code",
   "execution_count": 22,
   "metadata": {},
   "outputs": [
    {
     "name": "stdout",
     "output_type": "stream",
     "text": [
      "[[1.17117368]\n",
      " [0.97864264]\n",
      " [1.434472  ]\n",
      " [1.16482114]\n",
      " [0.74696273]\n",
      " [1.28814573]\n",
      " [1.4482907 ]\n",
      " [0.91141489]\n",
      " [1.21319704]\n",
      " [1.51073129]\n",
      " [1.21603833]]\n"
     ]
    }
   ],
   "source": [
    "std_pred_=np.sqrt(np.diag(MSE*H)[:,np.newaxis])\n",
    "print(std_pred_)"
   ]
  },
  {
   "cell_type": "markdown",
   "metadata": {},
   "source": [
    "The variance-covariance matrix of the weight (the parameters or the coefficients of the regression model) is $\\mathbb V\\left[\\mathbf w\\right]=\\hat\\sigma^2(\\mathbf {\\dot X}^\\top\\mathbf {\\dot X})^{-1}$:"
   ]
  },
  {
   "cell_type": "code",
   "execution_count": 23,
   "metadata": {},
   "outputs": [
    {
     "name": "stdout",
     "output_type": "stream",
     "text": [
      "[[ 1.42653890e+02  2.13541264e+00 -1.41298236e+00]\n",
      " [ 2.13541264e+00  6.16188332e-02 -3.06860967e-02]\n",
      " [-1.41298236e+00 -3.06860967e-02  1.70741979e-02]]\n"
     ]
    }
   ],
   "source": [
    "print(MSE*inv(Xdot.T@Xdot))"
   ]
  },
  {
   "cell_type": "markdown",
   "metadata": {},
   "source": [
    "and the standard error of the weights (regression coefficients) is the square root of the diagonal elements of the above covariance matrix:"
   ]
  },
  {
   "cell_type": "code",
   "execution_count": 24,
   "metadata": {},
   "outputs": [
    {
     "name": "stdout",
     "output_type": "stream",
     "text": [
      "[[11.94378039]\n",
      " [ 0.24823141]\n",
      " [ 0.13066827]]\n"
     ]
    }
   ],
   "source": [
    "S_w_=np.sqrt(np.diag(MSE*inv(Xdot.T@Xdot))[:,np.newaxis])\n",
    "print(S_w_)"
   ]
  },
  {
   "cell_type": "markdown",
   "metadata": {},
   "source": [
    "We can also plot the residuals."
   ]
  },
  {
   "cell_type": "code",
   "execution_count": 25,
   "metadata": {},
   "outputs": [
    {
     "data": {
      "image/png": "[encoded data removed]",
      "text/plain": [
       "<Figure size 432x288 with 1 Axes>"
      ]
     },
     "metadata": {
      "needs_background": "light"
     },
     "output_type": "display_data"
    }
   ],
   "source": [
    "fig = plt.figure()\n",
    "ax = Axes3D(fig)\n",
    "ax.scatter(Xdot[:,1], Xdot[:,2], r_, c='b', alpha=1)\n",
    "plt.show()"
   ]
  },
  {
   "cell_type": "markdown",
   "metadata": {},
   "source": [
    "Let's create a prediction function and make some predictions for different ages and weights not contained in the dataset."
   ]
  },
  {
   "cell_type": "code",
   "execution_count": 26,
   "metadata": {
    "colab": {
     "base_uri": "https://localhost:8080/",
     "height": 34
    },
    "colab_type": "code",
    "executionInfo": {
     "elapsed": 558,
     "status": "ok",
     "timestamp": 1537254367430,
     "user": {
      "displayName": "Ferenc Dr. Farkas",
      "photoUrl": "https://lh3.googleusercontent.com/a/default-user=s128",
      "userId": "101091246114755693299"
     },
     "user_tz": -120
    },
    "id": "BWbuN2DmdNqJ",
    "outputId": "a6a56f17-2d33-4d92-9428-8b46fd115fd6"
   },
   "outputs": [
    {
     "name": "stdout",
     "output_type": "stream",
     "text": [
      "The blood pressure of a 50 year old person with weight of 100.000000 pounds in average is = 107.550757\n",
      "The blood pressure of a 60 year old person with weight of 120.000000 pounds in average is = 122.862088\n",
      "The blood pressure of a 75 year old person with weight of 150.000000 pounds in average is = 145.829084\n"
     ]
    }
   ],
   "source": [
    "def predict(X): # X can be matrix, vector, or even a list\n",
    "  yhat_=X@w_\n",
    "  return yhat_\n",
    "\n",
    "for age,weight in [(50,100),(60,120),(75,150)]:\n",
    "  print(\"The blood pressure of a %d year old person with weight of %f pounds in average is = %f\"\\\n",
    "        %(age,weight,predict([1,age,weight])))"
   ]
  },
  {
   "cell_type": "markdown",
   "metadata": {},
   "source": [
    "But we should not forget about the uncertainty of our predictions. "
   ]
  },
  {
   "cell_type": "markdown",
   "metadata": {},
   "source": [
    "## 4. Make hypothesis testing <a name=\"Hypothesis\"></a>\n",
    "\n",
    "In the case of multiple linear regression, we can create a t-test for the individual regression coefficients in the same way as we did for the simple linear regression. We print the result in a format, which resembles the statsmodels OLS results."
   ]
  },
  {
   "cell_type": "code",
   "execution_count": 27,
   "metadata": {},
   "outputs": [
    {
     "name": "stdout",
     "output_type": "stream",
     "text": [
      "       Input  Coefficient  Std. error  t-statistic  p-value  [0.025  0.975]\n",
      "0  Intercept       30.994      11.944        2.595    0.032   3.452  58.537\n",
      "1        Age        0.861       0.248        3.470    0.008   0.289   1.434\n",
      "2     Weight        0.335       0.131        2.563    0.034   0.034   0.636\n"
     ]
    }
   ],
   "source": [
    "from scipy import stats\n",
    "Var=['Intercept','Age','Weight']\n",
    "\n",
    "def OLSresults(X,y_):     # X now represents the design matrix\n",
    "    N,D=X.shape           # Do not forget that D now incorporates the constant term, as well\n",
    "    conflevel=95\n",
    "    alpha=1-conflevel/100\n",
    "    df=N-D\n",
    "    tscore=abs(stats.t.ppf(alpha/2, df))\n",
    "    pd.options.display.float_format = '{:,.3f}'.format\n",
    "    H=X@inv(X.T@X)@X.T\n",
    "    I=np.eye(N)\n",
    "    r_=(I-H)@y_\n",
    "    w_=inv(X.T@X)@X.T@y_\n",
    "    MSE=float(1/(N-D)*r_.T@r_)\n",
    "    S_w_=np.sqrt(np.diag(MSE*inv(X.T@X))[:,np.newaxis])\n",
    "    table=pd.DataFrame(columns=[\"Input\",\"Coefficient\",\"Std. error\",\"t-statistic\",\"p-value\",\"[0.025\",\"0.975]\"])\n",
    "    for i in range(D):\n",
    "        t_stat=w_[i,0]/S_w_[i,0]\n",
    "        pval = stats.t.sf(np.abs(t_stat),df)*2\n",
    "        LCL=w_[i,0]-tscore*S_w_[i,0]\n",
    "        UCL=w_[i,0]+tscore*S_w_[i,0]\n",
    "        table=table.append({\"Input\":Var[i],\"Coefficient\":w_[i,0],\"Std. error\":S_w_[i,0],\n",
    "                            \"t-statistic\":t_stat,\"p-value\":pval,\"[0.025\":LCL,\"0.975]\":UCL},ignore_index=True)\n",
    "    return table\n",
    "print(OLSresults(Xdot,y_))"
   ]
  },
  {
   "cell_type": "markdown",
   "metadata": {},
   "source": [
    "As it can be observed, each regression coefficient significantly differs from zero. We can also observe that the confidence interval for the intercept is very wide, thus we should not provide any meaning for the intercept. We can also observe that the LCL for the weight with a 95% confidence level is close to zero.\n",
    "\n",
    "The F-test can be also created in the same way as we did for the simple linear regression. With F-test, we test whether all coefficients are zero vs. at least one regression coefficient is nonzero."
   ]
  },
  {
   "cell_type": "code",
   "execution_count": 28,
   "metadata": {},
   "outputs": [
    {
     "name": "stdout",
     "output_type": "stream",
     "text": [
      "F-test and corresponding p-value: 168.76456586243393 2.873566636570687e-07\n",
      "===========================================================================\n",
      "ANOVA (1 way) |  df  |     SS      |     MS      |  F test   |  p value\n",
      "---------------------------------------------------------------------------\n",
      "Regression    |   2  |   1813.916  |    906.958  |  168.765  | 0.000000 ****\n",
      "Residuals     |   8  |     42.993  |      5.374  |           |\n",
      "Total         |  10  |   1856.909  |             |           |\n",
      "===========================================================================\n"
     ]
    }
   ],
   "source": [
    "def anova(X,y_):\n",
    "    N,D=X.shape        # Do not forget that D now incorporates the constant term, as well\n",
    "    H=X@inv(X.T@X)@X.T\n",
    "    I=np.eye(N)\n",
    "    r_=(I-H)@y_\n",
    "    yhat_=H@y_\n",
    "    SSR=np.sum((yhat_-y_.mean())**2)\n",
    "    SSE=np.sum((y_-yhat_)**2)\n",
    "    SST=np.sum((y_-y_.mean())**2)\n",
    "    MSR=SSR/(D-1)\n",
    "    MSE=SSE/(N-D)\n",
    "    Fscore=MSR/MSE\n",
    "    pvalue=stats.f.sf(Fscore,D-1,N-D)\n",
    "    print(\"F-test and corresponding p-value:\",Fscore,pvalue)\n",
    "    if pvalue<=0.0001:\n",
    "        stars='****'     # corresponding to at least 99.99%\n",
    "    elif pvalue<=0.001: \n",
    "        stars='***'      # corresponding to at least 99.9%\n",
    "    elif pvalue<=0.01: \n",
    "        stars='**'       # corresponding to at least 99%\n",
    "    elif pvalue<=0.05:\n",
    "        stars='*'        # corresponding to at least 95%\n",
    "    else:\n",
    "        stars=''         # corresponding to <95%\n",
    "    print(\"===========================================================================\")\n",
    "    print(\"ANOVA (1 way) |  df  |     SS      |     MS      |  F test   |  p value\")\n",
    "    print(\"---------------------------------------------------------------------------\")\n",
    "    print((\"Regression    | %3d  |  %9.3f  |  %9.3f  |  %6.3f  | %7.6f \"+stars)%(D-1,SSR,MSR,Fscore,pvalue))\n",
    "    print(\"Residuals     | %3d  |  %9.3f  |  %9.3f  |           |\"%(N-D,SSE,MSE))\n",
    "    print(\"Total         | %3d  |  %9.3f  |             |           |\"%(N-1,SST))\n",
    "    print(\"===========================================================================\")\n",
    "    return\n",
    "anova(Xdot,y_)"
   ]
  },
  {
   "cell_type": "markdown",
   "metadata": {},
   "source": [
    "Thus, our multiple linear regression model is significantly better than the constant average value of the output."
   ]
  },
  {
   "cell_type": "markdown",
   "metadata": {
    "colab_type": "text",
    "id": "Gn7uoU4dfLxA"
   },
   "source": [
    "## 5. Calculate RSS and R-squared <a name=\"CalcRSSR2\"></a>\n",
    "\n",
    "Besides creating the 95% confidence interval's, let's see how good our model fits the data. For this reason, let's calculate the residual sum of squares: $\\mathrm{RSS}=\\mathrm{\\Sigma} \\mathbf r^2$"
   ]
  },
  {
   "cell_type": "code",
   "execution_count": 29,
   "metadata": {},
   "outputs": [
    {
     "name": "stdout",
     "output_type": "stream",
     "text": [
      "Residual Sum of Squares: RSS = 42.992822784932336\n"
     ]
    }
   ],
   "source": [
    "RSS=np.sum(r_**2)\n",
    "print(\"Residual Sum of Squares: RSS =\",RSS)"
   ]
  },
  {
   "cell_type": "markdown",
   "metadata": {},
   "source": [
    "The estimated standard deviation of the error ($\\hat\\sigma$) is:"
   ]
  },
  {
   "cell_type": "code",
   "execution_count": 30,
   "metadata": {},
   "outputs": [
    {
     "name": "stdout",
     "output_type": "stream",
     "text": [
      "Estimated standard deviation of the errror: 6.556891243945742\n"
     ]
    }
   ],
   "source": [
    "print(\"Estimated standard deviation of the errror:\",np.sqrt(RSS))"
   ]
  },
  {
   "cell_type": "markdown",
   "metadata": {},
   "source": [
    "Then the R-squared value is:"
   ]
  },
  {
   "cell_type": "code",
   "execution_count": 31,
   "metadata": {},
   "outputs": [
    {
     "name": "stdout",
     "output_type": "stream",
     "text": [
      "R-squared value: R2 = 0.9768471041498945\n"
     ]
    }
   ],
   "source": [
    "TSS=np.sum((y_-y_.mean())**2)\n",
    "print(\"R-squared value: R2 =\",1-RSS/TSS)"
   ]
  },
  {
   "cell_type": "markdown",
   "metadata": {},
   "source": [
    "That is very very high. We know that one additional independent variable, by itself, increases the R-squared value. So let's calculate the adjusted R-squared value."
   ]
  },
  {
   "cell_type": "code",
   "execution_count": 32,
   "metadata": {},
   "outputs": [
    {
     "name": "stdout",
     "output_type": "stream",
     "text": [
      "Adjusted R-squared value: R2_adj = 0.9710588801873681\n"
     ]
    }
   ],
   "source": [
    "print(\"Adjusted R-squared value: R2_adj =\",1-(RSS/(N-D-1))/(TSS/(N-1)))"
   ]
  },
  {
   "cell_type": "markdown",
   "metadata": {},
   "source": [
    "The adjusted R-squared value is around the same."
   ]
  },
  {
   "cell_type": "markdown",
   "metadata": {},
   "source": [
    "## 6. Using scikit-learn and statsmodel libraries <a name=\"SklearnStatsmodel\"></a>\n",
    "\n",
    "Now, that we have a good understanding of the multiple linear regression, let's see how we can use the scikit-learn library (https://scikit-learn.org/stable/index.html). Please, note that only the input matrix is provided for the scikit-learn linear regression fit method (denoted by $\\mathbf {X}$ in the book). "
   ]
  },
  {
   "cell_type": "code",
   "execution_count": 33,
   "metadata": {},
   "outputs": [
    {
     "name": "stdout",
     "output_type": "stream",
     "text": [
      "Point estimate for the regression coefficients:\n",
      "Intercept = 30.994102952348328\n",
      "Coefficient for Age = 0.8614146864683596\n",
      "Coefficient for Weigth = 0.3348591971656901\n"
     ]
    }
   ],
   "source": [
    "from sklearn.linear_model import LinearRegression\n",
    "from sklearn.metrics import mean_squared_error, r2_score, explained_variance_score\n",
    "from sklearn.feature_selection import f_regression\n",
    "multiple_linregr=LinearRegression().fit(X,y_)\n",
    "print(\"Point estimate for the regression coefficients:\")\n",
    "print(\"Intercept =\",multiple_linregr.intercept_[0])\n",
    "print(\"Coefficient for Age =\",multiple_linregr.coef_[0][0])\n",
    "print(\"Coefficient for Weigth =\",multiple_linregr.coef_[0][1])"
   ]
  },
  {
   "cell_type": "markdown",
   "metadata": {},
   "source": [
    "Calculate the R-squared value with the *score* method of the LinearRegression class. The adjusted R-squared value can be calculated from this R-squared value."
   ]
  },
  {
   "cell_type": "code",
   "execution_count": 34,
   "metadata": {},
   "outputs": [
    {
     "name": "stdout",
     "output_type": "stream",
     "text": [
      "R-squared = 0.9768471041502091\n",
      "Adjusted R-squared = 0.9710588801877614\n"
     ]
    }
   ],
   "source": [
    "r2=multiple_linregr.score(X,y_)\n",
    "r2_adj=1-(1-r2)*(N-1)/(N-D-1)\n",
    "print(\"R-squared =\",r2)\n",
    "print(\"Adjusted R-squared =\",r2_adj)"
   ]
  },
  {
   "cell_type": "markdown",
   "metadata": {},
   "source": [
    "So far so good! Now, calculate the mean square error (MSE) using the scikit-learn metric (*mean_squared_error*). Do not forget that this is a biased estimate of the variance of the true error. Thus, we should also calculate the unbiased version of it."
   ]
  },
  {
   "cell_type": "code",
   "execution_count": 35,
   "metadata": {},
   "outputs": [
    {
     "name": "stdout",
     "output_type": "stream",
     "text": [
      "Biased MSE from scikit-learn = 3.908438434940737\n",
      "Unbiased MSE using biased scikit-learn MSE is = 5.374102848043513\n"
     ]
    }
   ],
   "source": [
    "MSE_sk=mean_squared_error(y_, multiple_linregr.predict(X))\n",
    "print(\"Biased MSE from scikit-learn =\",MSE_sk)\n",
    "print(\"Unbiased MSE using biased scikit-learn MSE is =\",N/(N-D-1)*MSE_sk)"
   ]
  },
  {
   "cell_type": "markdown",
   "metadata": {},
   "source": [
    "Now, let's check the F-score and associated p-value using the *f_regression* method from scikit-learn feature selection."
   ]
  },
  {
   "cell_type": "code",
   "execution_count": 36,
   "metadata": {},
   "outputs": [
    {
     "name": "stdout",
     "output_type": "stream",
     "text": [
      "ANOVA F-scores: [204.4761356  146.15959582]\n",
      "Corresponding p-values: [1.70776615e-07 7.22667789e-07]\n"
     ]
    }
   ],
   "source": [
    "Fscore,pvalue=f_regression(X,np.ravel(y_))\n",
    "print(\"ANOVA F-scores:\",Fscore)\n",
    "print(\"Corresponding p-values:\",pvalue)"
   ]
  },
  {
   "cell_type": "markdown",
   "metadata": {},
   "source": [
    "Oops! We get a pair of F-test and corresponding p-values. As you can see, this does not agree with our calculation. The reason is that \"f-regression\" is used for feature selection in scikit-learn. The F-scores and their p-values correspond to simple linear regression containing only a single independent variable. In our case, there two, thus two F-scores and two corresponding p-values are returned. We can check this easily."
   ]
  },
  {
   "cell_type": "code",
   "execution_count": 37,
   "metadata": {},
   "outputs": [
    {
     "name": "stdout",
     "output_type": "stream",
     "text": [
      "F-score and p-value for the 'age' variable: (0.0, 1.0)\n",
      "F-score and p-value for the 'weight' variable: (204.47613559640004, 1.7077661468928465e-07)\n"
     ]
    }
   ],
   "source": [
    "def Fscore(x_,y_):\n",
    "    slr=LinearRegression().fit(x_,y_)\n",
    "    SSR=np.sum((slr.predict(x_)-y_.mean())**2)\n",
    "    SSE=np.sum((y_-slr.predict(x_))**2)\n",
    "    MSR=SSR/1\n",
    "    MSE=SSE/(N-2)\n",
    "    Fscore=MSR/MSE\n",
    "    pvalue=stats.f.sf(Fscore,1,N-2)\n",
    "    return Fscore,pvalue\n",
    "\n",
    "x_=Xdot[:,0].reshape(-1, 1)\n",
    "print(\"F-score and p-value for the 'age' variable:\",Fscore(x_,y_))\n",
    "x_=Xdot[:,1].reshape(-1, 1)\n",
    "print(\"F-score and p-value for the 'weight' variable:\",Fscore(x_,y_))"
   ]
  },
  {
   "cell_type": "markdown",
   "metadata": {},
   "source": [
    "Finally, let's see the summary of the OLS with the *statsmodels* library."
   ]
  },
  {
   "cell_type": "code",
   "execution_count": 38,
   "metadata": {},
   "outputs": [
    {
     "name": "stdout",
     "output_type": "stream",
     "text": [
      "                            OLS Regression Results                            \n",
      "==============================================================================\n",
      "Dep. Variable:          BloodPressure   R-squared:                       0.977\n",
      "Model:                            OLS   Adj. R-squared:                  0.971\n",
      "Method:                 Least Squares   F-statistic:                     168.8\n",
      "Date:                Mon, 30 Nov 2020   Prob (F-statistic):           2.87e-07\n",
      "Time:                        21:10:15   Log-Likelihood:                -23.106\n",
      "No. Observations:                  11   AIC:                             52.21\n",
      "Df Residuals:                       8   BIC:                             53.40\n",
      "Df Model:                           2                                         \n",
      "Covariance Type:            nonrobust                                         \n",
      "==============================================================================\n",
      "                 coef    std err          t      P>|t|      [0.025      0.975]\n",
      "------------------------------------------------------------------------------\n",
      "Intercept     30.9941     11.944      2.595      0.032       3.452      58.537\n",
      "Age            0.8614      0.248      3.470      0.008       0.289       1.434\n",
      "Weight         0.3349      0.131      2.563      0.034       0.034       0.636\n",
      "==============================================================================\n",
      "Omnibus:                        0.796   Durbin-Watson:                   1.927\n",
      "Prob(Omnibus):                  0.672   Jarque-Bera (JB):                0.618\n",
      "Skew:                          -0.159   Prob(JB):                        0.734\n",
      "Kurtosis:                       1.883   Cond. No.                     3.51e+03\n",
      "==============================================================================\n",
      "\n",
      "Notes:\n",
      "[1] Standard Errors assume that the covariance matrix of the errors is correctly specified.\n",
      "[2] The condition number is large, 3.51e+03. This might indicate that there are\n",
      "strong multicollinearity or other numerical problems.\n"
     ]
    },
    {
     "name": "stderr",
     "output_type": "stream",
     "text": [
      "C:\\ProgramData\\Anaconda3\\lib\\site-packages\\scipy\\stats\\stats.py:1603: UserWarning: kurtosistest only valid for n>=20 ... continuing anyway, n=11\n",
      "  warnings.warn(\"kurtosistest only valid for n>=20 ... continuing \"\n"
     ]
    }
   ],
   "source": [
    "from statsmodels.formula.api import ols\n",
    "from statsmodels.stats.outliers_influence import variance_inflation_factor, OLSInfluence\n",
    "data=data.rename(index=str, columns={\"Systolic blood pressure\": \"BloodPressure\",\"Age in years\":\"Age\",\\\n",
    "                                     \"Weight in pounds\":\"Weight\"})\n",
    "model = ols(formula = 'BloodPressure ~ Age + Weight', data=data).fit()\n",
    "print(model.summary())"
   ]
  },
  {
   "cell_type": "markdown",
   "metadata": {},
   "source": [
    "We have two warnings we should check. The one in red warns that due to the limited number of observations, we should not trust the normality test. Remember that confidence intervals are built with the assumption that the data has a normal distribution.  \n",
    "\n",
    "The other is the condition number, which might indicate the presence of collinearity."
   ]
  },
  {
   "cell_type": "markdown",
   "metadata": {},
   "source": [
    "## 7. Checking for colliniarity <a name=\"CheckColliniarity\"></a>\n",
    "\n",
    "As we have seen at the beginning of the lab exercise, the rank of the design matrix is the same as the number of regression coefficients (age, weight, and the constant term)., which implies that there is no column of $\\mathbf {\\dot X}$ that can be calculated as a linear combination of the rest of the columns of $\\mathbf {\\dot X}$. Now, let's calculate the condition number as the ratio of the largest to the smallest eigenvalue of the matrix product $\\mathbf {\\dot X}^\\top\\mathbf {\\dot X}$: "
   ]
  },
  {
   "cell_type": "code",
   "execution_count": 39,
   "metadata": {},
   "outputs": [
    {
     "name": "stdout",
     "output_type": "stream",
     "text": [
      "Eigenvalues of the product matrix:\n",
      "[[3.76601829e-02]\n",
      " [1.64291587e+02]\n",
      " [4.64856671e+05]]\n",
      "Condition number = 3513.324963837358\n"
     ]
    }
   ],
   "source": [
    "eigval,eigvect=eigh(Xdot.T@Xdot)\n",
    "print(\"Eigenvalues of the product matrix:\")\n",
    "print(eigval[:,np.newaxis])\n",
    "print(\"Condition number =\",np.sqrt(eigval.max()/eigval.min()))"
   ]
  },
  {
   "cell_type": "markdown",
   "metadata": {},
   "source": [
    "There are no eigenvalues near zero, and although the condition number is quite high, still under $10^4$, which we set in the book as a threshold. Because the condition number is high - although still under $10^4$, which we set in the book as a threshold - let's calculate the variance inflation factors."
   ]
  },
  {
   "cell_type": "code",
   "execution_count": 40,
   "metadata": {},
   "outputs": [
    {
     "name": "stdout",
     "output_type": "stream",
     "text": [
      "9.52502151287207\n",
      "9.525021512872101\n"
     ]
    }
   ],
   "source": [
    "def vif(X,idx):\n",
    "    from sklearn.linear_model import LinearRegression \n",
    "    linregr=LinearRegression()\n",
    "    X_notidx=np.delete(X,idx,axis=1)\n",
    "    X_idx=X[:,idx]\n",
    "    linregr.fit(X_notidx,X_idx)\n",
    "    R2=linregr.score(X_notidx,X_idx)\n",
    "    return(1.0/(1.0-R2))\n",
    "\n",
    "for idx in range(2):\n",
    "    print(vif(X,idx))"
   ]
  },
  {
   "cell_type": "markdown",
   "metadata": {},
   "source": [
    "The same result can be obtained using the *statsmodels* library."
   ]
  },
  {
   "cell_type": "code",
   "execution_count": 41,
   "metadata": {},
   "outputs": [
    {
     "name": "stdout",
     "output_type": "stream",
     "text": [
      "9.52502151287209\n",
      "9.525021512872081\n"
     ]
    }
   ],
   "source": [
    "from statsmodels.stats.outliers_influence import variance_inflation_factor\n",
    "print(variance_inflation_factor(Xdot,1))\n",
    "print(variance_inflation_factor(Xdot,2))"
   ]
  },
  {
   "cell_type": "markdown",
   "metadata": {},
   "source": [
    "The variance inflation factors are close to 10, which suggests that there is some collinearity between the independent variables 'Age' and 'Weight'. Let's, check the Pearson correlation coefficient:"
   ]
  },
  {
   "cell_type": "code",
   "execution_count": 42,
   "metadata": {
    "scrolled": true
   },
   "outputs": [
    {
     "data": {
      "text/plain": [
       "array([[1.        , 0.94605146],\n",
       "       [0.94605146, 1.        ]])"
      ]
     },
     "execution_count": 42,
     "metadata": {},
     "output_type": "execute_result"
    }
   ],
   "source": [
    "np.corrcoef(X,rowvar=False)"
   ]
  },
  {
   "cell_type": "markdown",
   "metadata": {},
   "source": [
    "The Pearson correlation coefficient is close to 1 ($\\rho=0.95$), which suggests a strong positive correlation between 'Age' and 'Weight'. Based on this dataset, as a person gets older, the bodyweight also increases proportionally.  Of course, this is not what we should expect in general, but in this particular case, we created a survey where the age and weight are strongly correlated.\n",
    "\n",
    "Let's remove the *Weight* input variable and use the *Age* as predictor only."
   ]
  },
  {
   "cell_type": "code",
   "execution_count": 43,
   "metadata": {},
   "outputs": [
    {
     "name": "stdout",
     "output_type": "stream",
     "text": [
      "                            OLS Regression Results                            \n",
      "==============================================================================\n",
      "Dep. Variable:          BloodPressure   R-squared:                       0.958\n",
      "Model:                            OLS   Adj. R-squared:                  0.953\n",
      "Method:                 Least Squares   F-statistic:                     204.5\n",
      "Date:                Mon, 30 Nov 2020   Prob (F-statistic):           1.71e-07\n",
      "Time:                        21:10:16   Log-Likelihood:                -26.402\n",
      "No. Observations:                  11   AIC:                             56.80\n",
      "Df Residuals:                       9   BIC:                             57.60\n",
      "Df Model:                           1                                         \n",
      "Covariance Type:            nonrobust                                         \n",
      "==============================================================================\n",
      "                 coef    std err          t      P>|t|      [0.025      0.975]\n",
      "------------------------------------------------------------------------------\n",
      "Intercept     58.7055      6.452      9.098      0.000      44.109      73.302\n",
      "Age            1.4632      0.102     14.300      0.000       1.232       1.695\n",
      "==============================================================================\n",
      "Omnibus:                        0.221   Durbin-Watson:                   0.820\n",
      "Prob(Omnibus):                  0.895   Jarque-Bera (JB):                0.392\n",
      "Skew:                           0.165   Prob(JB):                        0.822\n",
      "Kurtosis:                       2.136   Cond. No.                         458.\n",
      "==============================================================================\n",
      "\n",
      "Notes:\n",
      "[1] Standard Errors assume that the covariance matrix of the errors is correctly specified.\n"
     ]
    },
    {
     "name": "stderr",
     "output_type": "stream",
     "text": [
      "C:\\ProgramData\\Anaconda3\\lib\\site-packages\\scipy\\stats\\stats.py:1603: UserWarning: kurtosistest only valid for n>=20 ... continuing anyway, n=11\n",
      "  warnings.warn(\"kurtosistest only valid for n>=20 ... continuing \"\n"
     ]
    }
   ],
   "source": [
    "model = ols(formula = 'BloodPressure ~ Age', data=data).fit()\n",
    "print(model.summary())"
   ]
  },
  {
   "cell_type": "markdown",
   "metadata": {},
   "source": [
    "As one can observe, the R-square value remained almost the same, e.g., from 0.97 decreased to only 0.95. Thus, using both predictors did not provide a significantly better model.\n",
    "\n",
    "We will discuss the consequences of multicollinearity in a later lab exercise."
   ]
  },
  {
   "cell_type": "markdown",
   "metadata": {},
   "source": [
    "<img src = \"images/AML1-Cover.png\" width = 110, align = \"left\" style=\"margin:0px 20px\">\n",
    "\n",
    "<span style=\"color:blue\">**Note:**</span> This Jupyter Notebook is accompanying the book: <br> $\\qquad$ <b>Advanced Machine Learning Made Easy</b> <br> $\\qquad$ From Theory to Practice with NumPy and scikit-learn <br> $\\qquad$ <i> Volume 1: Generalized Linear Models</i><br>\n",
    "by Ferenc Farkas, Ph.D. \n",
    "\n",
    "If you find this Notebook useful, please support me by buying the book at [Leanpub](http://leanpub.com/AML1). <br>\n",
    "Copyright notice: This Jupyter Notebook is made available under the [MIT License](https://opensource.org/licenses/MIT)."
   ]
  },
  {
   "cell_type": "code",
   "execution_count": null,
   "metadata": {},
   "outputs": [],
   "source": []
  }
 ],
 "metadata": {
  "colab": {
   "collapsed_sections": [],
   "name": "Ch1-1-SimpleRegression.ipynb",
   "provenance": [
    {
     "file_id": "1CAvi5U76y6xIKJarmRS-iX0Jh70o2mGi",
     "timestamp": 1537170166740
    }
   ],
   "version": "0.3.2"
  },
  "kernelspec": {
   "display_name": "Python 3",
   "language": "python",
   "name": "python3"
  },
  "language_info": {
   "codemirror_mode": {
    "name": "ipython",
    "version": 3
   },
   "file_extension": ".py",
   "mimetype": "text/x-python",
   "name": "python",
   "nbconvert_exporter": "python",
   "pygments_lexer": "ipython3",
   "version": "3.8.5"
  }
 },
 "nbformat": 4,
 "nbformat_minor": 4
}
