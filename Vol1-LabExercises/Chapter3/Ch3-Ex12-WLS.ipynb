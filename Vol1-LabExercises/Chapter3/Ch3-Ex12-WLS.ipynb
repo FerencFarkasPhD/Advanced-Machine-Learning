{
 "cells": [
  {
   "cell_type": "markdown",
   "metadata": {
    "colab_type": "text",
    "id": "tr9o4rl9fUBh"
   },
   "source": [
    "<img src = \"images/Logo.png\" width = 220, align = \"left\">\n",
    "\n",
    "<h1 align=center><font size = 6><span style=\"color:blue\">Weighted Least Squares</span></font></h1>\n",
    "<h2 align=center><font size = 5>Lab Exercise 3.12</font></h2>\n",
    "<h3 align=center><font size = 4><b>Advanced Machine Learning Made Easy<br></b><small>From Theory to Practice with NumPy and scikit-learn<br><i>Volume 1: Generalized Linear Models</i></font></h3>"
   ]
  },
  {
   "cell_type": "markdown",
   "metadata": {},
   "source": [
    "## Introduction\n",
    "\n",
    "Until now, we assumed that the error has constant variance (homoskedasticity). But in real applications, that might not be the case, and the error term has no constant variance, but it has a dependency on the input variable (heteroskedasticity). For example, in the semiconductor photomask line-spacing, it appears that the precision of the line-spacing measurements decreases as the line spacing increases. In situations like this, when it may not be reasonable to assume that every observation should be treated equally, weighted least squares can often be used to maximize the efficiency of parameter estimation. This is done by attempting to give each data point its proper amount of influence over the parameter estimates. <br>\n",
    "The line-spacing measurement is used to calibrate the optical image system used in the IC photomasks. This is done by fitting a linear regression line on the measured data. It is very important to have this fit as precise as possible. As we will see, the R-squared value will not be good guidance in choosing the best fit.\n",
    "**Note**: *The source of the \"Integrated Circuit Photomasks\" dataset can be found at https://www.itl.nist.gov/div898/handbook/datasets/LNSPCG.DAT.*"
   ]
  },
  {
   "cell_type": "markdown",
   "metadata": {},
   "source": [
    "### Table of contents\n",
    "1. [Reading and analyzing the data](#ReadingData)\n",
    "2. [Checking for homoscedasticity](#Heteroscedasticity)\n",
    "3. [Variance-stabilizing transformation](#Transformation)\n",
    "4. [Weighted Least Squares (WLS)](#WLS)\n",
    "5. [Iteratively Reweighted Least Squares (IRLS)](#IRLS)\n",
    "6. [Comparing the result of different weight estimation methods](#Comparison)"
   ]
  },
  {
   "cell_type": "markdown",
   "metadata": {},
   "source": [
    "## 1. Reading and analyzing the data <a name=\"ReadingData\"></a>\n",
    "\n",
    "As a first step, we import all the required libraries and set the plots to be made inline."
   ]
  },
  {
   "cell_type": "code",
   "execution_count": 1,
   "metadata": {},
   "outputs": [],
   "source": [
    "import numpy as np\n",
    "import pandas as pd\n",
    "import matplotlib.pyplot as plt\n",
    "from statsmodels.formula.api import ols,wls\n",
    "from numpy.linalg import inv\n",
    "import os\n",
    "%matplotlib inline"
   ]
  },
  {
   "cell_type": "markdown",
   "metadata": {
    "colab_type": "text",
    "id": "dUZRG9jlf0A4"
   },
   "source": [
    "#### Loading the data\n",
    "\n",
    "Read the \"Line-spacing\" dataset using the pandas library."
   ]
  },
  {
   "cell_type": "code",
   "execution_count": 2,
   "metadata": {
    "colab": {
     "base_uri": "https://localhost:8080/",
     "height": 544
    },
    "colab_type": "code",
    "executionInfo": {
     "elapsed": 624,
     "status": "ok",
     "timestamp": 1537254352311,
     "user": {
      "displayName": "Ferenc Dr. Farkas",
      "photoUrl": "https://lh3.googleusercontent.com/a/default-user=s128",
      "userId": "101091246114755693299"
     },
     "user_tz": -120
    },
    "id": "m_egJmIpSR3V",
    "outputId": "cdb3ae53-2311-44f1-8aaf-32c01c768d01"
   },
   "outputs": [
    {
     "name": "stdout",
     "output_type": "stream",
     "text": [
      "Semiconductor Photomask Line-width Measurements Values in Micrometers\n"
     ]
    },
    {
     "data": {
      "text/html": [
       "<div>\n",
       "<style scoped>\n",
       "    .dataframe tbody tr th:only-of-type {\n",
       "        vertical-align: middle;\n",
       "    }\n",
       "\n",
       "    .dataframe tbody tr th {\n",
       "        vertical-align: top;\n",
       "    }\n",
       "\n",
       "    .dataframe thead th {\n",
       "        text-align: right;\n",
       "    }\n",
       "</style>\n",
       "<table border=\"1\" class=\"dataframe\">\n",
       "  <thead>\n",
       "    <tr style=\"text-align: right;\">\n",
       "      <th></th>\n",
       "      <th>w</th>\n",
       "      <th>z</th>\n",
       "      <th>d</th>\n",
       "      <th>z'</th>\n",
       "      <th>r</th>\n",
       "    </tr>\n",
       "  </thead>\n",
       "  <tbody>\n",
       "    <tr>\n",
       "      <th>0</th>\n",
       "      <td>6.19</td>\n",
       "      <td>6.31</td>\n",
       "      <td>0.12</td>\n",
       "      <td>6.3455</td>\n",
       "      <td>-0.0355</td>\n",
       "    </tr>\n",
       "    <tr>\n",
       "      <th>1</th>\n",
       "      <td>9.17</td>\n",
       "      <td>9.27</td>\n",
       "      <td>0.10</td>\n",
       "      <td>9.2869</td>\n",
       "      <td>-0.0169</td>\n",
       "    </tr>\n",
       "    <tr>\n",
       "      <th>2</th>\n",
       "      <td>1.99</td>\n",
       "      <td>2.21</td>\n",
       "      <td>0.22</td>\n",
       "      <td>2.2000</td>\n",
       "      <td>0.0100</td>\n",
       "    </tr>\n",
       "    <tr>\n",
       "      <th>3</th>\n",
       "      <td>7.77</td>\n",
       "      <td>8.00</td>\n",
       "      <td>0.23</td>\n",
       "      <td>7.9050</td>\n",
       "      <td>0.0950</td>\n",
       "    </tr>\n",
       "    <tr>\n",
       "      <th>4</th>\n",
       "      <td>4.00</td>\n",
       "      <td>4.27</td>\n",
       "      <td>0.27</td>\n",
       "      <td>4.1839</td>\n",
       "      <td>0.0861</td>\n",
       "    </tr>\n",
       "    <tr>\n",
       "      <th>5</th>\n",
       "      <td>10.77</td>\n",
       "      <td>10.93</td>\n",
       "      <td>0.16</td>\n",
       "      <td>10.8662</td>\n",
       "      <td>0.0638</td>\n",
       "    </tr>\n",
       "    <tr>\n",
       "      <th>6</th>\n",
       "      <td>4.78</td>\n",
       "      <td>4.95</td>\n",
       "      <td>0.17</td>\n",
       "      <td>4.9538</td>\n",
       "      <td>-0.0038</td>\n",
       "    </tr>\n",
       "    <tr>\n",
       "      <th>7</th>\n",
       "      <td>2.99</td>\n",
       "      <td>3.24</td>\n",
       "      <td>0.25</td>\n",
       "      <td>3.1870</td>\n",
       "      <td>0.0530</td>\n",
       "    </tr>\n",
       "    <tr>\n",
       "      <th>8</th>\n",
       "      <td>6.98</td>\n",
       "      <td>7.14</td>\n",
       "      <td>0.16</td>\n",
       "      <td>7.1253</td>\n",
       "      <td>0.0147</td>\n",
       "    </tr>\n",
       "    <tr>\n",
       "      <th>9</th>\n",
       "      <td>9.98</td>\n",
       "      <td>10.23</td>\n",
       "      <td>0.25</td>\n",
       "      <td>10.0864</td>\n",
       "      <td>0.1436</td>\n",
       "    </tr>\n",
       "    <tr>\n",
       "      <th>10</th>\n",
       "      <td>6.19</td>\n",
       "      <td>6.27</td>\n",
       "      <td>0.08</td>\n",
       "      <td>6.3455</td>\n",
       "      <td>-0.0755</td>\n",
       "    </tr>\n",
       "    <tr>\n",
       "      <th>11</th>\n",
       "      <td>9.17</td>\n",
       "      <td>9.21</td>\n",
       "      <td>0.04</td>\n",
       "      <td>9.2869</td>\n",
       "      <td>-0.0769</td>\n",
       "    </tr>\n",
       "    <tr>\n",
       "      <th>12</th>\n",
       "      <td>1.99</td>\n",
       "      <td>2.19</td>\n",
       "      <td>0.20</td>\n",
       "      <td>2.2000</td>\n",
       "      <td>-0.0100</td>\n",
       "    </tr>\n",
       "    <tr>\n",
       "      <th>13</th>\n",
       "      <td>7.77</td>\n",
       "      <td>7.81</td>\n",
       "      <td>0.04</td>\n",
       "      <td>7.9050</td>\n",
       "      <td>-0.0950</td>\n",
       "    </tr>\n",
       "    <tr>\n",
       "      <th>14</th>\n",
       "      <td>4.00</td>\n",
       "      <td>4.15</td>\n",
       "      <td>0.15</td>\n",
       "      <td>4.1839</td>\n",
       "      <td>-0.0339</td>\n",
       "    </tr>\n",
       "    <tr>\n",
       "      <th>15</th>\n",
       "      <td>10.77</td>\n",
       "      <td>10.73</td>\n",
       "      <td>-0.04</td>\n",
       "      <td>10.8662</td>\n",
       "      <td>-0.1362</td>\n",
       "    </tr>\n",
       "    <tr>\n",
       "      <th>16</th>\n",
       "      <td>4.78</td>\n",
       "      <td>4.87</td>\n",
       "      <td>0.09</td>\n",
       "      <td>4.9538</td>\n",
       "      <td>-0.0838</td>\n",
       "    </tr>\n",
       "    <tr>\n",
       "      <th>17</th>\n",
       "      <td>2.99</td>\n",
       "      <td>3.17</td>\n",
       "      <td>0.18</td>\n",
       "      <td>3.1870</td>\n",
       "      <td>-0.0170</td>\n",
       "    </tr>\n",
       "    <tr>\n",
       "      <th>18</th>\n",
       "      <td>6.98</td>\n",
       "      <td>7.07</td>\n",
       "      <td>0.09</td>\n",
       "      <td>7.1253</td>\n",
       "      <td>-0.0553</td>\n",
       "    </tr>\n",
       "    <tr>\n",
       "      <th>19</th>\n",
       "      <td>9.98</td>\n",
       "      <td>10.02</td>\n",
       "      <td>0.04</td>\n",
       "      <td>10.0864</td>\n",
       "      <td>-0.0664</td>\n",
       "    </tr>\n",
       "    <tr>\n",
       "      <th>20</th>\n",
       "      <td>6.19</td>\n",
       "      <td>6.31</td>\n",
       "      <td>0.12</td>\n",
       "      <td>6.3455</td>\n",
       "      <td>-0.0355</td>\n",
       "    </tr>\n",
       "    <tr>\n",
       "      <th>21</th>\n",
       "      <td>9.17</td>\n",
       "      <td>9.34</td>\n",
       "      <td>0.17</td>\n",
       "      <td>9.2869</td>\n",
       "      <td>0.0531</td>\n",
       "    </tr>\n",
       "    <tr>\n",
       "      <th>22</th>\n",
       "      <td>1.99</td>\n",
       "      <td>2.22</td>\n",
       "      <td>0.23</td>\n",
       "      <td>2.2000</td>\n",
       "      <td>0.0200</td>\n",
       "    </tr>\n",
       "    <tr>\n",
       "      <th>23</th>\n",
       "      <td>7.77</td>\n",
       "      <td>7.95</td>\n",
       "      <td>0.18</td>\n",
       "      <td>7.9050</td>\n",
       "      <td>0.0450</td>\n",
       "    </tr>\n",
       "    <tr>\n",
       "      <th>24</th>\n",
       "      <td>4.00</td>\n",
       "      <td>4.15</td>\n",
       "      <td>0.15</td>\n",
       "      <td>4.1839</td>\n",
       "      <td>-0.0339</td>\n",
       "    </tr>\n",
       "    <tr>\n",
       "      <th>25</th>\n",
       "      <td>10.77</td>\n",
       "      <td>10.92</td>\n",
       "      <td>0.15</td>\n",
       "      <td>10.8662</td>\n",
       "      <td>0.0538</td>\n",
       "    </tr>\n",
       "    <tr>\n",
       "      <th>26</th>\n",
       "      <td>4.78</td>\n",
       "      <td>5.00</td>\n",
       "      <td>0.22</td>\n",
       "      <td>4.9538</td>\n",
       "      <td>0.0462</td>\n",
       "    </tr>\n",
       "    <tr>\n",
       "      <th>27</th>\n",
       "      <td>2.99</td>\n",
       "      <td>3.21</td>\n",
       "      <td>0.22</td>\n",
       "      <td>3.1870</td>\n",
       "      <td>0.0230</td>\n",
       "    </tr>\n",
       "    <tr>\n",
       "      <th>28</th>\n",
       "      <td>6.98</td>\n",
       "      <td>7.18</td>\n",
       "      <td>0.20</td>\n",
       "      <td>7.1253</td>\n",
       "      <td>0.0547</td>\n",
       "    </tr>\n",
       "    <tr>\n",
       "      <th>29</th>\n",
       "      <td>9.98</td>\n",
       "      <td>10.07</td>\n",
       "      <td>0.09</td>\n",
       "      <td>10.0864</td>\n",
       "      <td>-0.0164</td>\n",
       "    </tr>\n",
       "    <tr>\n",
       "      <th>30</th>\n",
       "      <td>6.19</td>\n",
       "      <td>6.28</td>\n",
       "      <td>0.09</td>\n",
       "      <td>6.3455</td>\n",
       "      <td>-0.0655</td>\n",
       "    </tr>\n",
       "    <tr>\n",
       "      <th>31</th>\n",
       "      <td>9.17</td>\n",
       "      <td>9.23</td>\n",
       "      <td>0.06</td>\n",
       "      <td>9.2869</td>\n",
       "      <td>-0.0569</td>\n",
       "    </tr>\n",
       "    <tr>\n",
       "      <th>32</th>\n",
       "      <td>1.99</td>\n",
       "      <td>2.20</td>\n",
       "      <td>0.21</td>\n",
       "      <td>2.2000</td>\n",
       "      <td>0.0000</td>\n",
       "    </tr>\n",
       "    <tr>\n",
       "      <th>33</th>\n",
       "      <td>7.77</td>\n",
       "      <td>7.84</td>\n",
       "      <td>0.07</td>\n",
       "      <td>7.9050</td>\n",
       "      <td>-0.0650</td>\n",
       "    </tr>\n",
       "    <tr>\n",
       "      <th>34</th>\n",
       "      <td>4.00</td>\n",
       "      <td>4.15</td>\n",
       "      <td>0.15</td>\n",
       "      <td>4.1839</td>\n",
       "      <td>-0.0339</td>\n",
       "    </tr>\n",
       "    <tr>\n",
       "      <th>35</th>\n",
       "      <td>10.77</td>\n",
       "      <td>10.89</td>\n",
       "      <td>0.12</td>\n",
       "      <td>10.8662</td>\n",
       "      <td>0.0238</td>\n",
       "    </tr>\n",
       "    <tr>\n",
       "      <th>36</th>\n",
       "      <td>4.78</td>\n",
       "      <td>5.00</td>\n",
       "      <td>0.22</td>\n",
       "      <td>4.9538</td>\n",
       "      <td>0.0462</td>\n",
       "    </tr>\n",
       "    <tr>\n",
       "      <th>37</th>\n",
       "      <td>2.99</td>\n",
       "      <td>3.21</td>\n",
       "      <td>0.22</td>\n",
       "      <td>3.1870</td>\n",
       "      <td>0.0230</td>\n",
       "    </tr>\n",
       "    <tr>\n",
       "      <th>38</th>\n",
       "      <td>6.98</td>\n",
       "      <td>7.20</td>\n",
       "      <td>0.22</td>\n",
       "      <td>7.1253</td>\n",
       "      <td>0.0747</td>\n",
       "    </tr>\n",
       "    <tr>\n",
       "      <th>39</th>\n",
       "      <td>9.98</td>\n",
       "      <td>10.17</td>\n",
       "      <td>0.19</td>\n",
       "      <td>10.0864</td>\n",
       "      <td>0.0836</td>\n",
       "    </tr>\n",
       "  </tbody>\n",
       "</table>\n",
       "</div>"
      ],
      "text/plain": [
       "        w      z     d       z'       r\n",
       "0    6.19   6.31  0.12   6.3455 -0.0355\n",
       "1    9.17   9.27  0.10   9.2869 -0.0169\n",
       "2    1.99   2.21  0.22   2.2000  0.0100\n",
       "3    7.77   8.00  0.23   7.9050  0.0950\n",
       "4    4.00   4.27  0.27   4.1839  0.0861\n",
       "5   10.77  10.93  0.16  10.8662  0.0638\n",
       "6    4.78   4.95  0.17   4.9538 -0.0038\n",
       "7    2.99   3.24  0.25   3.1870  0.0530\n",
       "8    6.98   7.14  0.16   7.1253  0.0147\n",
       "9    9.98  10.23  0.25  10.0864  0.1436\n",
       "10   6.19   6.27  0.08   6.3455 -0.0755\n",
       "11   9.17   9.21  0.04   9.2869 -0.0769\n",
       "12   1.99   2.19  0.20   2.2000 -0.0100\n",
       "13   7.77   7.81  0.04   7.9050 -0.0950\n",
       "14   4.00   4.15  0.15   4.1839 -0.0339\n",
       "15  10.77  10.73 -0.04  10.8662 -0.1362\n",
       "16   4.78   4.87  0.09   4.9538 -0.0838\n",
       "17   2.99   3.17  0.18   3.1870 -0.0170\n",
       "18   6.98   7.07  0.09   7.1253 -0.0553\n",
       "19   9.98  10.02  0.04  10.0864 -0.0664\n",
       "20   6.19   6.31  0.12   6.3455 -0.0355\n",
       "21   9.17   9.34  0.17   9.2869  0.0531\n",
       "22   1.99   2.22  0.23   2.2000  0.0200\n",
       "23   7.77   7.95  0.18   7.9050  0.0450\n",
       "24   4.00   4.15  0.15   4.1839 -0.0339\n",
       "25  10.77  10.92  0.15  10.8662  0.0538\n",
       "26   4.78   5.00  0.22   4.9538  0.0462\n",
       "27   2.99   3.21  0.22   3.1870  0.0230\n",
       "28   6.98   7.18  0.20   7.1253  0.0547\n",
       "29   9.98  10.07  0.09  10.0864 -0.0164\n",
       "30   6.19   6.28  0.09   6.3455 -0.0655\n",
       "31   9.17   9.23  0.06   9.2869 -0.0569\n",
       "32   1.99   2.20  0.21   2.2000  0.0000\n",
       "33   7.77   7.84  0.07   7.9050 -0.0650\n",
       "34   4.00   4.15  0.15   4.1839 -0.0339\n",
       "35  10.77  10.89  0.12  10.8662  0.0238\n",
       "36   4.78   5.00  0.22   4.9538  0.0462\n",
       "37   2.99   3.21  0.22   3.1870  0.0230\n",
       "38   6.98   7.20  0.22   7.1253  0.0747\n",
       "39   9.98  10.17  0.19  10.0864  0.0836"
      ]
     },
     "execution_count": 2,
     "metadata": {},
     "output_type": "execute_result"
    }
   ],
   "source": [
    "data=pd.read_csv(os.path.join('data',\"LineSpacing.csv\"),sep=' ')\n",
    "print(\"Semiconductor Photomask Line-width Measurements Values in Micrometers\")\n",
    "data"
   ]
  },
  {
   "cell_type": "markdown",
   "metadata": {},
   "source": [
    "where\n",
    "- w is the NBS Values in micrometers (NBS stands for the U.S. National Bureau of Standards)\n",
    "- z is the Observed Values (line-width measurements for integrated-circuit photomasks)\n",
    "- d is the Difference (deviation) from NBS\n",
    "- z' is the Fitted Values (using linear regression to obtain the so-called calibration curve)\n",
    "- r is the Deviations from Fit\n",
    "\n",
    "For more information, see https://nvlpubs.nist.gov/nistpubs/Legacy/TN/nbstechnicalnote1164.pdf\n",
    "\n",
    "#### Analyzing the data\n",
    "\n",
    "The calibration curve is obtained in the form $z = \\beta_0 + \\beta_1 w$ which is a linear regression."
   ]
  },
  {
   "cell_type": "code",
   "execution_count": 3,
   "metadata": {},
   "outputs": [
    {
     "data": {
      "text/html": [
       "<div>\n",
       "<style scoped>\n",
       "    .dataframe tbody tr th:only-of-type {\n",
       "        vertical-align: middle;\n",
       "    }\n",
       "\n",
       "    .dataframe tbody tr th {\n",
       "        vertical-align: top;\n",
       "    }\n",
       "\n",
       "    .dataframe thead th {\n",
       "        text-align: right;\n",
       "    }\n",
       "</style>\n",
       "<table border=\"1\" class=\"dataframe\">\n",
       "  <thead>\n",
       "    <tr style=\"text-align: right;\">\n",
       "      <th></th>\n",
       "      <th>w</th>\n",
       "      <th>z</th>\n",
       "    </tr>\n",
       "  </thead>\n",
       "  <tbody>\n",
       "    <tr>\n",
       "      <th>w</th>\n",
       "      <td>1.000000</td>\n",
       "      <td>0.999769</td>\n",
       "    </tr>\n",
       "    <tr>\n",
       "      <th>z</th>\n",
       "      <td>0.999769</td>\n",
       "      <td>1.000000</td>\n",
       "    </tr>\n",
       "  </tbody>\n",
       "</table>\n",
       "</div>"
      ],
      "text/plain": [
       "          w         z\n",
       "w  1.000000  0.999769\n",
       "z  0.999769  1.000000"
      ]
     },
     "execution_count": 3,
     "metadata": {},
     "output_type": "execute_result"
    }
   ],
   "source": [
    "data[['w','z']].corr()"
   ]
  },
  {
   "cell_type": "markdown",
   "metadata": {},
   "source": [
    "We can see that we have almost a perfect correlation between the standard line-space $w$ and measured line-space $z$. <br>\n",
    "Let's create a scatter plot matrix using seaborn libary."
   ]
  },
  {
   "cell_type": "code",
   "execution_count": 4,
   "metadata": {},
   "outputs": [
    {
     "data": {
      "text/plain": [
       "<seaborn.axisgrid.PairGrid at 0x2e33a78d280>"
      ]
     },
     "execution_count": 4,
     "metadata": {},
     "output_type": "execute_result"
    },
    {
     "data": {
      "image/png": "[encoded data removed]",
      "text/plain": [
       "<Figure size 900x900 with 30 Axes>"
      ]
     },
     "metadata": {
      "needs_background": "light"
     },
     "output_type": "display_data"
    }
   ],
   "source": [
    "import seaborn as sns\n",
    "sns.pairplot(data)"
   ]
  },
  {
   "cell_type": "markdown",
   "metadata": {},
   "source": [
    "It appears that the precision of the line-spacing measurements (z) decreases as the line spacing increases (w).<br>\n",
    "Let's make the scatter plot of the NBS standard and observed line-width with the fitted regression line. "
   ]
  },
  {
   "cell_type": "code",
   "execution_count": 5,
   "metadata": {},
   "outputs": [
    {
     "data": {
      "image/png": "[encoded data removed]",
      "text/plain": [
       "<Figure size 576x396 with 1 Axes>"
      ]
     },
     "metadata": {},
     "output_type": "display_data"
    }
   ],
   "source": [
    "from sklearn.linear_model import LinearRegression\n",
    "plt.style.use('seaborn')\n",
    "x_=data['w'].to_numpy().reshape(-1, 1)\n",
    "y_=data['z'].to_numpy().reshape(-1, 1)\n",
    "N=len(x_)\n",
    "linregr=LinearRegression()\n",
    "linregr.fit(x_,y_)\n",
    "plt.scatter(x_,y_)\n",
    "w_minmax=np.array([x_.min(),x_.max()]).reshape(-1, 1)\n",
    "plt.plot(w_minmax,linregr.predict(w_minmax).reshape(-1, 1),'r--')\n",
    "plt.xlabel(\"w - NBS values [$\\mu m$]\",fontsize=12)\n",
    "plt.ylabel(\"z - observed values [$\\mu m$]\",fontsize=12)\n",
    "plt.title(\"Linear regression for line-spacing\",fontsize=14)\n",
    "plt.show()"
   ]
  },
  {
   "cell_type": "markdown",
   "metadata": {},
   "source": [
    "That looks very, very good. \n",
    "\n",
    "#### Checking the obtained result\n",
    "\n",
    "The R-squared value is even more impressive."
   ]
  },
  {
   "cell_type": "code",
   "execution_count": 6,
   "metadata": {},
   "outputs": [
    {
     "name": "stdout",
     "output_type": "stream",
     "text": [
      "R-squared = 0.999538492214726\n",
      "Coefficients (Beta0, Beta1) = (0.23576229029298368, 0.9870377142845892)\n"
     ]
    }
   ],
   "source": [
    "r2=linregr.score(x_,y_)\n",
    "print(\"R-squared =\",r2)\n",
    "print(\"Coefficients (Beta0, Beta1) =\",(linregr.intercept_[0],linregr.coef_[0][0]))"
   ]
  },
  {
   "cell_type": "markdown",
   "metadata": {},
   "source": [
    "The R-squared value is remarkably good, but as we will see later, still not good enough."
   ]
  },
  {
   "cell_type": "markdown",
   "metadata": {},
   "source": [
    "## 2. Checking for homoscedasticity <a name=\"Heteroscedasticity\"></a>\n",
    "\n",
    "*Shall we stop our analysis just because we have a very impressive R-squared value?*\n",
    "\n",
    "Lat's analyze the obtained residuals.\n",
    "We can calculate the residuals, which should be the same as the values in the column 'r' of the dataset (remember, the columns contain only rounded values!)."
   ]
  },
  {
   "cell_type": "code",
   "execution_count": 7,
   "metadata": {},
   "outputs": [
    {
     "name": "stdout",
     "output_type": "stream",
     "text": [
      "Diff. in the sum of absolute differences of residuals: 0.0007347200592252331\n",
      "RMSE= 0.06123151346366192\n"
     ]
    }
   ],
   "source": [
    "r_=y_-linregr.predict(x_)\n",
    "print(\"Diff. in the sum of absolute differences of residuals:\", np.abs(r_-data['r'].to_numpy().reshape(-1,1)).sum())\n",
    "print(\"RMSE=\",float(np.sqrt(r_.T@r_/(N-1))))"
   ]
  },
  {
   "cell_type": "markdown",
   "metadata": {},
   "source": [
    "So far, so good! But let's make the residual plot."
   ]
  },
  {
   "cell_type": "code",
   "execution_count": 8,
   "metadata": {},
   "outputs": [
    {
     "data": {
      "image/png": "[encoded data removed]",
      "text/plain": [
       "<Figure size 576x396 with 1 Axes>"
      ]
     },
     "metadata": {},
     "output_type": "display_data"
    }
   ],
   "source": [
    "plt.scatter(x_,r_)\n",
    "plt.plot(w_minmax,[[0],[0]],'r--')\n",
    "plt.xlabel(\"w - NBS values [$\\mu m$]\",fontsize=12)\n",
    "plt.ylabel(\"r - residuals [$\\mu m$]\",fontsize=12)\n",
    "plt.title(\"Residual plot\",fontsize=14)\n",
    "plt.show()"
   ]
  },
  {
   "cell_type": "markdown",
   "metadata": {},
   "source": [
    "From the residual plot, we can observe that the residuals have no constant variance! <br>\n",
    "The spread of measured line-width is much smaller at w=2 than at w>10. Thus, as the NBS values increase, so does the variance of the residuals. That means we should expect that the OLS will not provide the best solution.\n",
    "\n",
    "We can also use the Goldfeld-Quandt test from the statsmodels library to check for homoskedasticity:"
   ]
  },
  {
   "cell_type": "code",
   "execution_count": 9,
   "metadata": {},
   "outputs": [
    {
     "name": "stdout",
     "output_type": "stream",
     "text": [
      "[('F statistic', 0.42560375563759073), ('p-value', 0.9609155908361985)]\n"
     ]
    }
   ],
   "source": [
    "import statsmodels.formula.api as smf\n",
    "import statsmodels.stats.api as sms\n",
    "from statsmodels.compat import lzip\n",
    "results = smf.ols('z ~ w', data=data).fit()\n",
    "name = ['F statistic', 'p-value']\n",
    "test = sms.het_goldfeldquandt(results.resid, results.model.exog)\n",
    "print(lzip(name, test))"
   ]
  },
  {
   "cell_type": "markdown",
   "metadata": {},
   "source": [
    "According to the p-value, we can reject the null hypothesis that the lower and upper half of the residuals have the same variance. Thus, we face the problem of heteroskedasticity."
   ]
  },
  {
   "cell_type": "markdown",
   "metadata": {},
   "source": [
    "## 3. Variance-stabilizing transformation <a name=\"Transformation\"></a>\n",
    "\n",
    "A first attempt to solve the heteroskedasticity problem is to use a variance-stabilizing transformation, i.e., to transform the dependent variable.\n",
    "\n",
    "#### Transformation of the form $\\sqrt {\\mathbf y}$\n",
    "\n",
    "Fit the linear model using the square root of the independent variable (assuming that $\\sigma_\\epsilon^2\\propto \\mathbb E \\left [ y \\right ]$), and make the scatter plot with the estimated regression line. Also, report the R-squared value and the estimated coefficients."
   ]
  },
  {
   "cell_type": "code",
   "execution_count": 10,
   "metadata": {},
   "outputs": [
    {
     "data": {
      "image/png": "[encoded data removed]",
      "text/plain": [
       "<Figure size 576x396 with 1 Axes>"
      ]
     },
     "metadata": {},
     "output_type": "display_data"
    },
    {
     "name": "stdout",
     "output_type": "stream",
     "text": [
      "R-squared = 0.9890732002703833\n",
      "Coefficients (Beta0, Beta1) = (1.2036670133895686, 0.20154381996717768)\n"
     ]
    }
   ],
   "source": [
    "linregr.fit(x_,np.sqrt(y_))\n",
    "plt.scatter(x_,np.sqrt(y_))\n",
    "w_minmax=np.array([x_.min(),x_.max()]).reshape(-1, 1)\n",
    "plt.plot(w_minmax,linregr.predict(w_minmax).reshape(-1, 1),'r--')\n",
    "plt.xlabel(\"w - NBS values [$\\mu m$]\",fontsize=12)\n",
    "plt.ylabel(\"log(z) - log of observed values [$\\mu m$]\",fontsize=12)\n",
    "plt.title(\"Linear regression (variance stabilizing transf. $\\sqrt{y}$)\",fontsize=14)\n",
    "plt.show()\n",
    "from sklearn.metrics import r2_score\n",
    "print(\"R-squared =\",r2_score(np.sqrt(y_),linregr.predict(x_)))\n",
    "print(\"Coefficients (Beta0, Beta1) =\",(linregr.intercept_[0],linregr.coef_[0][0]))"
   ]
  },
  {
   "cell_type": "markdown",
   "metadata": {},
   "source": [
    "The R-squared value is dropped. The estimate of coefficients is changed, but that should not be a surprise as we fit the linear model using the logarithm of the output variable. Let's create the residual plot."
   ]
  },
  {
   "cell_type": "code",
   "execution_count": 11,
   "metadata": {},
   "outputs": [
    {
     "data": {
      "image/png": "[encoded data removed]",
      "text/plain": [
       "<Figure size 576x396 with 1 Axes>"
      ]
     },
     "metadata": {},
     "output_type": "display_data"
    },
    {
     "name": "stdout",
     "output_type": "stream",
     "text": [
      "RMSE= 0.06115799694202491\n"
     ]
    }
   ],
   "source": [
    "r_=(np.sqrt(y_)-linregr.predict(x_))\n",
    "plt.scatter(x_,r_)\n",
    "plt.plot(w_minmax,[[0],[0]],'r--')\n",
    "plt.title(\"Residual plot for variance stabilizing transf. $\\sqrt{y}$\",fontsize=14)\n",
    "plt.show()\n",
    "print(\"RMSE=\",float(np.sqrt(r_.T@r_/(N-1))))"
   ]
  },
  {
   "cell_type": "markdown",
   "metadata": {},
   "source": [
    "Although the RMSE is almost the same and the variance of the residuals seems to be constant, the residual plot shows that the relationship is not linear between $\\sqrt y$ and $x$.\n",
    "\n",
    "#### Transformation of the form $\\log(\\mathbf y)$\n",
    "\n",
    "Take the logarithm of the dependent variable (assuming that $\\sigma_\\epsilon^2\\propto \\left(\\mathbb E \\left [ y \\right ]\\right)^2$) and fit the regression line. Then print out the R-squared value and estimate of coefficients."
   ]
  },
  {
   "cell_type": "code",
   "execution_count": 12,
   "metadata": {},
   "outputs": [
    {
     "data": {
      "image/png": "[encoded data removed]",
      "text/plain": [
       "<Figure size 576x396 with 1 Axes>"
      ]
     },
     "metadata": {},
     "output_type": "display_data"
    },
    {
     "name": "stdout",
     "output_type": "stream",
     "text": [
      "R-squared = 0.9537187317865731\n",
      "Coefficients (Beta0, Beta1) = (0.6752960218530575, 0.17073868080010376)\n"
     ]
    }
   ],
   "source": [
    "linregr.fit(x_,np.log(y_))\n",
    "plt.scatter(x_,np.log(y_))\n",
    "w_minmax=np.array([x_.min(),x_.max()]).reshape(-1, 1)\n",
    "plt.plot(w_minmax,linregr.predict(w_minmax).reshape(-1, 1),'r--')\n",
    "plt.xlabel(\"w - NBS values [$\\mu m$]\",fontsize=12)\n",
    "plt.ylabel(\"log(z) - log of observed values [$\\mu m$]\",fontsize=12)\n",
    "plt.title(\"Linear regression (variance stabilizing transf. $\\log{y}$)\",fontsize=14)\n",
    "plt.show()\n",
    "from sklearn.metrics import r2_score\n",
    "print(\"R-squared =\",r2_score(np.log(y_),linregr.predict(x_)))\n",
    "print(\"Coefficients (Beta0, Beta1) =\",(linregr.intercept_[0],linregr.coef_[0][0]))"
   ]
  },
  {
   "cell_type": "markdown",
   "metadata": {},
   "source": [
    "The R-squared value is further dropped. Let's create the residual plot."
   ]
  },
  {
   "cell_type": "code",
   "execution_count": 13,
   "metadata": {},
   "outputs": [
    {
     "data": {
      "image/png": "[encoded data removed]",
      "text/plain": [
       "<Figure size 576x396 with 1 Axes>"
      ]
     },
     "metadata": {},
     "output_type": "display_data"
    },
    {
     "name": "stdout",
     "output_type": "stream",
     "text": [
      "RMSE= 0.10858651214387895\n"
     ]
    }
   ],
   "source": [
    "r_=(np.log(y_)-linregr.predict(x_))\n",
    "plt.scatter(x_,r_)\n",
    "plt.plot(w_minmax,[[0],[0]],'r--')\n",
    "plt.title(\"Residual plot for variance stabilizing transf. $\\log{y}$\",fontsize=14)\n",
    "plt.show()\n",
    "print(\"RMSE=\",float(np.sqrt(r_.T@r_/(N-1))))"
   ]
  },
  {
   "cell_type": "markdown",
   "metadata": {},
   "source": [
    "The RMSE is increased and, while the variance of the residuals seems to be constant, the residual plot does not show a linear relationship between the $\\log y$ and $x$.\n",
    "\n",
    "#### Transformation of the form $\\frac{1}{\\sqrt y}$\n",
    "\n",
    "Now, take the inverse of the square root of the output (assuming that $\\sigma_\\epsilon^2\\propto \\left(\\mathbb E \\left [ y \\right ]\\right)^3$) before fitting the linear model."
   ]
  },
  {
   "cell_type": "code",
   "execution_count": 14,
   "metadata": {},
   "outputs": [
    {
     "data": {
      "image/png": "[encoded data removed]",
      "text/plain": [
       "<Figure size 576x396 with 1 Axes>"
      ]
     },
     "metadata": {},
     "output_type": "display_data"
    },
    {
     "name": "stdout",
     "output_type": "stream",
     "text": [
      "R-squared = 0.8938117829771034\n",
      "Coefficients (Beta0, Beta1) = (0.6675903556197792, -0.037619019779433445)\n"
     ]
    }
   ],
   "source": [
    "linregr.fit(x_,1/np.sqrt(y_))\n",
    "plt.scatter(x_,1/np.sqrt(y_))\n",
    "w_minmax=np.array([x_.min(),x_.max()]).reshape(-1, 1)\n",
    "plt.plot(w_minmax,linregr.predict(w_minmax).reshape(-1, 1),'r--')\n",
    "plt.xlabel(\"w - NBS values [$\\mu m$]\",fontsize=12)\n",
    "plt.ylabel(\"log(z) - log of observed values [$\\mu m$]\",fontsize=12)\n",
    "plt.title(r\"Linear regression (variance stabilizing transf. $\\frac{1}{\\sqrt{y}}$)\",fontsize=14)\n",
    "plt.show()\n",
    "from sklearn.metrics import r2_score\n",
    "print(\"R-squared =\",r2_score(1/np.sqrt(y_),linregr.predict(x_)))\n",
    "print(\"Coefficients (Beta0, Beta1) =\",(linregr.intercept_[0],linregr.coef_[0][0]))"
   ]
  },
  {
   "cell_type": "markdown",
   "metadata": {},
   "source": [
    "The R-squared value is even further dropped. Let's create the residual plot."
   ]
  },
  {
   "cell_type": "code",
   "execution_count": 15,
   "metadata": {},
   "outputs": [
    {
     "data": {
      "image/png": "[encoded data removed]",
      "text/plain": [
       "<Figure size 576x396 with 1 Axes>"
      ]
     },
     "metadata": {},
     "output_type": "display_data"
    },
    {
     "name": "stdout",
     "output_type": "stream",
     "text": [
      "RMSE= 0.037434677368901444\n"
     ]
    }
   ],
   "source": [
    "r_=(1/np.sqrt(y_))-linregr.predict(x_)\n",
    "plt.scatter(x_,r_)\n",
    "plt.plot(w_minmax,[[0],[0]],'r--')\n",
    "plt.title(r\"Residual plot for variance stabilizing transf. $\\frac{1}{\\sqrt{y}}$\",fontsize=14)\n",
    "plt.show()\n",
    "print(\"RMSE=\",float(np.sqrt(r_.T@r_/(N-1))))"
   ]
  },
  {
   "cell_type": "markdown",
   "metadata": {},
   "source": [
    "Again, the residual plot reveals that there is no linear relation between $\\frac{1}{\\sqrt y}$ and $x$.\n",
    "\n",
    "#### Transformation of the form $\\frac{1}{y}$\n",
    "\n",
    "Finally, take the inverse of the output (assuming that $\\sigma_\\epsilon^2\\propto \\left(\\mathbb E \\left [ y \\right ]\\right)^4$) before fitting the linear model."
   ]
  },
  {
   "cell_type": "code",
   "execution_count": 16,
   "metadata": {},
   "outputs": [
    {
     "data": {
      "image/png": "[encoded data removed]",
      "text/plain": [
       "<Figure size 576x396 with 1 Axes>"
      ]
     },
     "metadata": {},
     "output_type": "display_data"
    },
    {
     "name": "stdout",
     "output_type": "stream",
     "text": [
      "R-squared = 0.8159115746267206\n",
      "Coefficients (Beta0, Beta1) = (0.41635326249975824, -0.034554196973580656)\n"
     ]
    }
   ],
   "source": [
    "linregr.fit(x_,1/y_)\n",
    "plt.scatter(x_,1/y_)\n",
    "w_minmax=np.array([x_.min(),x_.max()]).reshape(-1, 1)\n",
    "plt.plot(w_minmax,linregr.predict(w_minmax).reshape(-1, 1),'r--')\n",
    "plt.xlabel(\"w - NBS values [$\\mu m$]\",fontsize=12)\n",
    "plt.ylabel(\"log(z) - log of observed values [$\\mu m$]\",fontsize=12)\n",
    "plt.title(r\"Linear regression (variance stabilizing transf. $\\frac{1}{y}$)\",fontsize=14)\n",
    "plt.show()\n",
    "from sklearn.metrics import r2_score\n",
    "print(\"R-squared =\",r2_score(1/y_,linregr.predict(x_)))\n",
    "print(\"Coefficients (Beta0, Beta1) =\",(linregr.intercept_[0],linregr.coef_[0][0]))"
   ]
  },
  {
   "cell_type": "markdown",
   "metadata": {},
   "source": [
    "The R-squared value is even further dropped. Let's create the residual plot."
   ]
  },
  {
   "cell_type": "code",
   "execution_count": 17,
   "metadata": {},
   "outputs": [
    {
     "data": {
      "image/png": "[encoded data removed]",
      "text/plain": [
       "<Figure size 576x396 with 1 Axes>"
      ]
     },
     "metadata": {},
     "output_type": "display_data"
    },
    {
     "name": "stdout",
     "output_type": "stream",
     "text": [
      "RMSE= 0.047385338978116226\n"
     ]
    }
   ],
   "source": [
    "r_=(1/y_)-linregr.predict(x_)\n",
    "plt.scatter(x_,r_)\n",
    "plt.plot(w_minmax,[[0],[0]],'r--')\n",
    "plt.title(r\"Residual plot for variance stabilizing transf. $\\frac{1}{y}$\",fontsize=14)\n",
    "plt.show()\n",
    "print(\"RMSE=\",float(np.sqrt(r_.T@r_/(N-1))))"
   ]
  },
  {
   "cell_type": "markdown",
   "metadata": {},
   "source": [
    "We can conclude that in this particular case, the transformation of the form $\\sqrt {\\mathbf y}$ provided the best result, but even that is inferior to the OLS result. So the variance-stabilizing transformation is not a good option.\n",
    "\n",
    "Let's use the Weighted Least Squares (WLS) method."
   ]
  },
  {
   "cell_type": "markdown",
   "metadata": {},
   "source": [
    "## 4. Weighted Least Squares (WLS) <a name=\"WLS\"></a>\n",
    "\n",
    "In the case of WLS, we have to know the variance of the errors for each value of $x$. However, this is unknown in most cases, so we need to find a way to estimate them.\n",
    "\n",
    "#### Estimating the variance as the inverse of the  i-th predictor\n",
    "\n",
    "From the residual plot of the linear regression, it is clear that the residual has an increasing spread (variance) as the predictor value is increasing. Thus, let's estimate the weight as the inverse of the predictor.\n",
    "For this, we first create the OLS again, then calculate the residuals."
   ]
  },
  {
   "cell_type": "code",
   "execution_count": 18,
   "metadata": {},
   "outputs": [
    {
     "data": {
      "text/plain": [
       "array([[-3.55257417e-02],\n",
       "       [-1.68981303e-02],\n",
       "       [ 1.00326583e-02],\n",
       "       [ 9.49546697e-02],\n",
       "       [ 8.60868526e-02],\n",
       "       [ 6.38415269e-02],\n",
       "       [-3.80256457e-03],\n",
       "       [ 5.29949440e-02],\n",
       "       [ 1.47144640e-02],\n",
       "       [ 1.43601321e-01],\n",
       "       [-7.55257417e-02],\n",
       "       [-7.68981303e-02],\n",
       "       [-9.96734172e-03],\n",
       "       [-9.50453303e-02],\n",
       "       [-3.39131474e-02],\n",
       "       [-1.36158473e-01],\n",
       "       [-8.38025646e-02],\n",
       "       [-1.70050560e-02],\n",
       "       [-5.52855360e-02],\n",
       "       [-6.63986789e-02],\n",
       "       [-3.55257417e-02],\n",
       "       [ 5.31018697e-02],\n",
       "       [ 2.00326583e-02],\n",
       "       [ 4.49546697e-02],\n",
       "       [-3.39131474e-02],\n",
       "       [ 5.38415269e-02],\n",
       "       [ 4.61974354e-02],\n",
       "       [ 2.29949440e-02],\n",
       "       [ 5.47144640e-02],\n",
       "       [-1.63986789e-02],\n",
       "       [-6.55257417e-02],\n",
       "       [-5.68981303e-02],\n",
       "       [ 3.26582807e-05],\n",
       "       [-6.50453303e-02],\n",
       "       [-3.39131474e-02],\n",
       "       [ 2.38415269e-02],\n",
       "       [ 4.61974354e-02],\n",
       "       [ 2.29949440e-02],\n",
       "       [ 7.47144640e-02],\n",
       "       [ 8.36013211e-02]])"
      ]
     },
     "execution_count": 18,
     "metadata": {},
     "output_type": "execute_result"
    }
   ],
   "source": [
    "x_=data['w'].to_numpy().reshape(-1, 1)\n",
    "y_=data['z'].to_numpy().reshape(-1, 1)\n",
    "linregr.fit(x_,y_)\n",
    "r_=y_-linregr.predict(x_)\n",
    "r_"
   ]
  },
  {
   "cell_type": "markdown",
   "metadata": {},
   "source": [
    "Then estimate the weight as the inverse of the predictor x. We can use the scikit-learn linear regression model with the weights attribute included."
   ]
  },
  {
   "cell_type": "code",
   "execution_count": 19,
   "metadata": {},
   "outputs": [
    {
     "name": "stdout",
     "output_type": "stream",
     "text": [
      "R-squared = 0.9996577420671773\n",
      "Coefficients(Beta0,Beta1) = (0.24341054330512435, 0.9858541406213054)\n"
     ]
    }
   ],
   "source": [
    "w1_=1/(x_)\n",
    "linregr.fit(x_,y_,w1_.ravel())\n",
    "yhat_=linregr.predict(x_)\n",
    "print(\"R-squared =\",linregr.score(x_,y_,w1_.ravel()))\n",
    "print(\"Coefficients(Beta0,Beta1) =\",(linregr.intercept_[0],linregr.coef_[0][0]))"
   ]
  },
  {
   "cell_type": "markdown",
   "metadata": {},
   "source": [
    "Similar results are obtained if we use the formulas derived in the book for the estimate of regression coefficients:"
   ]
  },
  {
   "cell_type": "code",
   "execution_count": 20,
   "metadata": {},
   "outputs": [
    {
     "data": {
      "text/plain": [
       "array([[0.24341054],\n",
       "       [0.98585414]])"
      ]
     },
     "execution_count": 20,
     "metadata": {},
     "output_type": "execute_result"
    }
   ],
   "source": [
    "Xdot=np.insert(x_,0,np.ones(N),axis=1)\n",
    "W=np.diag(np.ravel(w1_))\n",
    "inv(Xdot.T@W@Xdot)@Xdot.T@W@y_"
   ]
  },
  {
   "cell_type": "markdown",
   "metadata": {},
   "source": [
    "Using the formula for the weighted R-squared score we have:"
   ]
  },
  {
   "cell_type": "code",
   "execution_count": 21,
   "metadata": {},
   "outputs": [
    {
     "data": {
      "text/plain": [
       "array([[0.99965774]])"
      ]
     },
     "execution_count": 21,
     "metadata": {},
     "output_type": "execute_result"
    }
   ],
   "source": [
    "WSST=(y_-np.average(y_,weights=w1_)).T@W@(y_-np.average(y_,weights=w1_))\n",
    "WSSE=(y_-yhat_).T@W@(y_-yhat_)\n",
    "(WSST-WSSE)/WSST"
   ]
  },
  {
   "cell_type": "markdown",
   "metadata": {},
   "source": [
    "In contrast to the variance-stabilizing transformation, we can see now a very small improvement in the R-squared value. Of course, this improvement is small because the R-squared value is almost 1. \n",
    "\n",
    "Let's make the residual plot."
   ]
  },
  {
   "cell_type": "code",
   "execution_count": 22,
   "metadata": {},
   "outputs": [
    {
     "data": {
      "image/png": "[encoded data removed]",
      "text/plain": [
       "<Figure size 576x396 with 1 Axes>"
      ]
     },
     "metadata": {},
     "output_type": "display_data"
    }
   ],
   "source": [
    "r_=(y_-linregr.predict(x_))\n",
    "plt.scatter(x_,r_)\n",
    "plt.show()"
   ]
  },
  {
   "cell_type": "markdown",
   "metadata": {},
   "source": [
    "But wait, the residual plot looks the same!<br>\n",
    "Yes, because the coefficients are changed very little, so after all, almost the same residuals shall be seen. If we want to see the effect of the weights, we should multiply each residual with the corresponding square root of the weight when making the residual plot."
   ]
  },
  {
   "cell_type": "code",
   "execution_count": 23,
   "metadata": {},
   "outputs": [
    {
     "data": {
      "image/png": "[encoded data removed]",
      "text/plain": [
       "<Figure size 576x396 with 1 Axes>"
      ]
     },
     "metadata": {},
     "output_type": "display_data"
    }
   ],
   "source": [
    "r_=(y_-linregr.predict(x_))*np.sqrt(w1_)\n",
    "plt.scatter(x_,r_)\n",
    "plt.show()"
   ]
  },
  {
   "cell_type": "markdown",
   "metadata": {},
   "source": [
    "The residual plot is improved significantly."
   ]
  },
  {
   "cell_type": "markdown",
   "metadata": {},
   "source": [
    "#### Estimating the variance as the sample variance of the response variable\n",
    "\n",
    "Because for a given input 'w' there are at least three output 'z' values, one might try to estimate the true error from the variance of the response variable samples."
   ]
  },
  {
   "cell_type": "code",
   "execution_count": 24,
   "metadata": {},
   "outputs": [
    {
     "data": {
      "text/html": [
       "<div>\n",
       "<style scoped>\n",
       "    .dataframe tbody tr th:only-of-type {\n",
       "        vertical-align: middle;\n",
       "    }\n",
       "\n",
       "    .dataframe tbody tr th {\n",
       "        vertical-align: top;\n",
       "    }\n",
       "\n",
       "    .dataframe thead th {\n",
       "        text-align: right;\n",
       "    }\n",
       "</style>\n",
       "<table border=\"1\" class=\"dataframe\">\n",
       "  <thead>\n",
       "    <tr style=\"text-align: right;\">\n",
       "      <th></th>\n",
       "      <th>z</th>\n",
       "      <th>d</th>\n",
       "      <th>z'</th>\n",
       "      <th>r</th>\n",
       "    </tr>\n",
       "    <tr>\n",
       "      <th>w</th>\n",
       "      <th></th>\n",
       "      <th></th>\n",
       "      <th></th>\n",
       "      <th></th>\n",
       "    </tr>\n",
       "  </thead>\n",
       "  <tbody>\n",
       "    <tr>\n",
       "      <th>1.99</th>\n",
       "      <td>0.000167</td>\n",
       "      <td>0.000167</td>\n",
       "      <td>0.0</td>\n",
       "      <td>0.000167</td>\n",
       "    </tr>\n",
       "    <tr>\n",
       "      <th>2.99</th>\n",
       "      <td>0.000825</td>\n",
       "      <td>0.000825</td>\n",
       "      <td>0.0</td>\n",
       "      <td>0.000825</td>\n",
       "    </tr>\n",
       "    <tr>\n",
       "      <th>4.00</th>\n",
       "      <td>0.003600</td>\n",
       "      <td>0.003600</td>\n",
       "      <td>0.0</td>\n",
       "      <td>0.003600</td>\n",
       "    </tr>\n",
       "    <tr>\n",
       "      <th>4.78</th>\n",
       "      <td>0.003767</td>\n",
       "      <td>0.003767</td>\n",
       "      <td>0.0</td>\n",
       "      <td>0.003767</td>\n",
       "    </tr>\n",
       "    <tr>\n",
       "      <th>6.19</th>\n",
       "      <td>0.000425</td>\n",
       "      <td>0.000425</td>\n",
       "      <td>0.0</td>\n",
       "      <td>0.000425</td>\n",
       "    </tr>\n",
       "    <tr>\n",
       "      <th>6.98</th>\n",
       "      <td>0.003292</td>\n",
       "      <td>0.003292</td>\n",
       "      <td>0.0</td>\n",
       "      <td>0.003292</td>\n",
       "    </tr>\n",
       "    <tr>\n",
       "      <th>7.77</th>\n",
       "      <td>0.008067</td>\n",
       "      <td>0.008067</td>\n",
       "      <td>0.0</td>\n",
       "      <td>0.008067</td>\n",
       "    </tr>\n",
       "    <tr>\n",
       "      <th>9.17</th>\n",
       "      <td>0.003292</td>\n",
       "      <td>0.003292</td>\n",
       "      <td>0.0</td>\n",
       "      <td>0.003292</td>\n",
       "    </tr>\n",
       "    <tr>\n",
       "      <th>9.98</th>\n",
       "      <td>0.009025</td>\n",
       "      <td>0.009025</td>\n",
       "      <td>0.0</td>\n",
       "      <td>0.009025</td>\n",
       "    </tr>\n",
       "    <tr>\n",
       "      <th>10.77</th>\n",
       "      <td>0.008692</td>\n",
       "      <td>0.008692</td>\n",
       "      <td>0.0</td>\n",
       "      <td>0.008692</td>\n",
       "    </tr>\n",
       "  </tbody>\n",
       "</table>\n",
       "</div>"
      ],
      "text/plain": [
       "              z         d   z'         r\n",
       "w                                       \n",
       "1.99   0.000167  0.000167  0.0  0.000167\n",
       "2.99   0.000825  0.000825  0.0  0.000825\n",
       "4.00   0.003600  0.003600  0.0  0.003600\n",
       "4.78   0.003767  0.003767  0.0  0.003767\n",
       "6.19   0.000425  0.000425  0.0  0.000425\n",
       "6.98   0.003292  0.003292  0.0  0.003292\n",
       "7.77   0.008067  0.008067  0.0  0.008067\n",
       "9.17   0.003292  0.003292  0.0  0.003292\n",
       "9.98   0.009025  0.009025  0.0  0.009025\n",
       "10.77  0.008692  0.008692  0.0  0.008692"
      ]
     },
     "execution_count": 24,
     "metadata": {},
     "output_type": "execute_result"
    }
   ],
   "source": [
    "data.groupby('w').var(ddof=1)"
   ]
  },
  {
   "cell_type": "markdown",
   "metadata": {},
   "source": [
    "The estimate of the variances of the response variables is stored in column 'z' in the above table (the variance is the same as the variance of the residuals). Then the reciprocal of the columns 'z' could be used as the estimates for the weights."
   ]
  },
  {
   "cell_type": "code",
   "execution_count": 25,
   "metadata": {},
   "outputs": [
    {
     "data": {
      "text/plain": [
       "array([[2352.94117647],\n",
       "       [ 303.79746835],\n",
       "       [6000.        ],\n",
       "       [ 123.96694215],\n",
       "       [ 277.77777778],\n",
       "       [ 115.0527325 ],\n",
       "       [ 265.48672566],\n",
       "       [1212.12121212],\n",
       "       [ 303.79746835],\n",
       "       [ 110.8033241 ],\n",
       "       [2352.94117647],\n",
       "       [ 303.79746835],\n",
       "       [6000.        ],\n",
       "       [ 123.96694215],\n",
       "       [ 277.77777778],\n",
       "       [ 115.0527325 ],\n",
       "       [ 265.48672566],\n",
       "       [1212.12121212],\n",
       "       [ 303.79746835],\n",
       "       [ 110.8033241 ],\n",
       "       [2352.94117647],\n",
       "       [ 303.79746835],\n",
       "       [6000.        ],\n",
       "       [ 123.96694215],\n",
       "       [ 277.77777778],\n",
       "       [ 115.0527325 ],\n",
       "       [ 265.48672566],\n",
       "       [1212.12121212],\n",
       "       [ 303.79746835],\n",
       "       [ 110.8033241 ],\n",
       "       [2352.94117647],\n",
       "       [ 303.79746835],\n",
       "       [6000.        ],\n",
       "       [ 123.96694215],\n",
       "       [ 277.77777778],\n",
       "       [ 115.0527325 ],\n",
       "       [ 265.48672566],\n",
       "       [1212.12121212],\n",
       "       [ 303.79746835],\n",
       "       [ 110.8033241 ]])"
      ]
     },
     "execution_count": 25,
     "metadata": {},
     "output_type": "execute_result"
    }
   ],
   "source": [
    "w2_=np.array([1/data.groupby('w').var(ddof=1).loc[w,'z'] for w in data['w']])[:,np.newaxis]\n",
    "w2_"
   ]
  },
  {
   "cell_type": "markdown",
   "metadata": {},
   "source": [
    "Fit the linear regression using the estimated weights."
   ]
  },
  {
   "cell_type": "code",
   "execution_count": 26,
   "metadata": {},
   "outputs": [
    {
     "name": "stdout",
     "output_type": "stream",
     "text": [
      "R-squared = 0.9997762917643853\n",
      "Coefficients(Beta0,Beta1) = (0.2536713367317147, 0.9805105729443216)\n"
     ]
    }
   ],
   "source": [
    "linregr.fit(x_,y_,w2_.ravel())\n",
    "print(\"R-squared =\",linregr.score(x_,y_,w2_.ravel()))\n",
    "print(\"Coefficients(Beta0,Beta1) =\",(linregr.intercept_[0],linregr.coef_[0][0]))"
   ]
  },
  {
   "cell_type": "markdown",
   "metadata": {},
   "source": [
    "Finally, let's create the weighted residual plot."
   ]
  },
  {
   "cell_type": "code",
   "execution_count": 27,
   "metadata": {},
   "outputs": [
    {
     "data": {
      "image/png": "[encoded data removed]",
      "text/plain": [
       "<Figure size 576x396 with 1 Axes>"
      ]
     },
     "metadata": {},
     "output_type": "display_data"
    },
    {
     "data": {
      "text/plain": [
       "(-0.03225138112319792, 0.06040717662556708)"
      ]
     },
     "execution_count": 27,
     "metadata": {},
     "output_type": "execute_result"
    }
   ],
   "source": [
    "r_=(y_-linregr.predict(x_))*np.sqrt(w1_)\n",
    "plt.scatter(x_,r_)\n",
    "plt.show()\n",
    "r_.min(),r_.max()"
   ]
  },
  {
   "cell_type": "markdown",
   "metadata": {},
   "source": [
    "As can be seen, the residual plot do not show any sing of heteroskedacticity."
   ]
  },
  {
   "cell_type": "markdown",
   "metadata": {},
   "source": [
    "## 5. Iteratively Reweighted Least Squares (IRLS) <a name=\"IRLS\"></a>\n",
    "\n",
    "IRLS is an optimization method that starts with a weight matrix equal to the identity matrix (corresponding to OLS) then iteratively estimating the coefficients of the linear model and the weights of WLS. \n",
    "\n",
    "**Note:** *The IRLS algorithm will be discussed in Chapter 5 of the book. Here is used only to make a complete comparison of different solutions for his real practical example.* \n",
    "\n",
    "Let's define the IRLS function as described in the E-book."
   ]
  },
  {
   "cell_type": "code",
   "execution_count": 28,
   "metadata": {},
   "outputs": [],
   "source": [
    "def IRLS(X,y_):\n",
    "    N,D=X.shape\n",
    "    delta=0.001*np.ones((N,1))\n",
    "    W=np.eye(N)\n",
    "    maxiter=50\n",
    "    w_=inv(X.T@W@X)@X.T@W@y_\n",
    "    for _ in range(maxiter):\n",
    "        wold_=w_\n",
    "        W=np.diag(np.squeeze(1.0/np.maximum(delta,np.abs(y_-X@w_))))\n",
    "        w_=inv(X.T@W@X)@X.T@W@y_\n",
    "        tol=np.sum(np.abs(w_-wold_))\n",
    "        if tol < 0.0001:\n",
    "            return w_,W\n",
    "    return w_,W"
   ]
  },
  {
   "cell_type": "markdown",
   "metadata": {},
   "source": [
    "Then fit the linear model using IRLS function (w_, as before, represents the 'weight' being the estimate of the coefficients, while W represents the weight matrix of the WLS method)."
   ]
  },
  {
   "cell_type": "code",
   "execution_count": 29,
   "metadata": {},
   "outputs": [
    {
     "data": {
      "text/plain": [
       "array([  35.10860484,  232.83524605,  108.24461776,    9.52874834,\n",
       "         11.23051613,   12.58965312, 1000.        ,   18.49571489,\n",
       "         43.04543719,    6.34051102,   14.60215427,   15.55333741,\n",
       "         92.92242092,   11.75717821,   32.30297874,    8.29395818,\n",
       "         12.59590711,   62.76115457,   21.38180604,   19.12630804,\n",
       "         35.10860484,   15.21951465,   51.97955123,   18.19982683,\n",
       "         32.30297874,   14.40293234,   19.75927984,   41.5514007 ,\n",
       "         15.81496092,  437.82726575,   17.09897264,   22.57597144,\n",
       "       1000.        ,   18.16384514,   32.30297874,   25.36120313,\n",
       "         19.75927984,   41.5514007 ,   12.01471572,   10.23373919])"
      ]
     },
     "execution_count": 29,
     "metadata": {},
     "output_type": "execute_result"
    }
   ],
   "source": [
    "X=np.insert(x_,0,np.ones(N),axis=1)\n",
    "w_,W=IRLS(X,y_)\n",
    "np.diag(W)"
   ]
  },
  {
   "cell_type": "markdown",
   "metadata": {},
   "source": [
    "Make a linear fit using the linear regression with weights from the scikit-learn library."
   ]
  },
  {
   "cell_type": "code",
   "execution_count": 30,
   "metadata": {},
   "outputs": [
    {
     "name": "stdout",
     "output_type": "stream",
     "text": [
      "R-squared = 0.9999347246079366\n",
      "Coefficients(Beta0,Beta1) = (0.24033661894831138, 0.9851499572769469)\n"
     ]
    }
   ],
   "source": [
    "linregr.fit(x_,y_,np.diag(W))\n",
    "print(\"R-squared =\",linregr.score(x_,y_,np.diag(W)))\n",
    "print(\"Coefficients(Beta0,Beta1) =\",(linregr.intercept_[0],linregr.coef_[0][0]))"
   ]
  },
  {
   "cell_type": "markdown",
   "metadata": {},
   "source": [
    "We can observe that the R-squared value is slightly improved further."
   ]
  },
  {
   "cell_type": "markdown",
   "metadata": {},
   "source": [
    "## 6. Comparing the result of different weight estimation methods <a name=\"Comparison\"></a>\n",
    "\n",
    "Finally, make a comparison of the OLS with WLS using statsmodels library (in case of WLS we check the three different techniques used to estimate the weights). The coefficients of the linear model are not affected whether we use unnormalized or normalized weights.\n",
    "\n",
    "**Note:** *We use normalized weights in order to have meaningful RMSE values.*\n",
    "\n",
    "Let's start with the OLS."
   ]
  },
  {
   "cell_type": "code",
   "execution_count": 31,
   "metadata": {},
   "outputs": [
    {
     "name": "stdout",
     "output_type": "stream",
     "text": [
      "                            OLS Regression Results                            \n",
      "==============================================================================\n",
      "Dep. Variable:                      z   R-squared:                       1.000\n",
      "Model:                            OLS   Adj. R-squared:                  1.000\n",
      "Method:                 Least Squares   F-statistic:                 8.230e+04\n",
      "Date:                Thu, 05 Aug 2021   Prob (F-statistic):           5.35e-65\n",
      "Time:                        12:26:05   Log-Likelihood:                 55.473\n",
      "No. Observations:                  40   AIC:                            -106.9\n",
      "Df Residuals:                      38   BIC:                            -103.6\n",
      "Df Model:                           1                                         \n",
      "Covariance Type:            nonrobust                                         \n",
      "==============================================================================\n",
      "                 coef    std err          t      P>|t|      [0.025      0.975]\n",
      "------------------------------------------------------------------------------\n",
      "Intercept      0.2358      0.024      9.702      0.000       0.187       0.285\n",
      "w              0.9870      0.003    286.881      0.000       0.980       0.994\n",
      "==============================================================================\n",
      "Omnibus:                        0.252   Durbin-Watson:                   1.140\n",
      "Prob(Omnibus):                  0.881   Jarque-Bera (JB):                0.447\n",
      "Skew:                           0.044   Prob(JB):                        0.800\n",
      "Kurtosis:                       2.490   Cond. No.                         17.8\n",
      "==============================================================================\n",
      "\n",
      "Notes:\n",
      "[1] Standard Errors assume that the covariance matrix of the errors is correctly specified.\n",
      "\n",
      "R-squared = 0.999538492214726\n",
      "RMSE = 0.06203195937769622\n"
     ]
    }
   ],
   "source": [
    "model = ols(formula = 'z ~ w', data=data).fit()\n",
    "print(model.summary())\n",
    "print(\"\\nR-squared =\",model.rsquared)\n",
    "print(\"RMSE =\",np.sqrt(model.mse_resid))"
   ]
  },
  {
   "cell_type": "markdown",
   "metadata": {},
   "source": [
    "Next, we use the WLS with weight w1_ defined earlier."
   ]
  },
  {
   "cell_type": "code",
   "execution_count": 32,
   "metadata": {},
   "outputs": [
    {
     "name": "stdout",
     "output_type": "stream",
     "text": [
      "                            WLS Regression Results                            \n",
      "==============================================================================\n",
      "Dep. Variable:                      z   R-squared:                       1.000\n",
      "Model:                            WLS   Adj. R-squared:                  1.000\n",
      "Method:                 Least Squares   F-statistic:                 1.110e+05\n",
      "Date:                Thu, 05 Aug 2021   Prob (F-statistic):           1.83e-67\n",
      "Time:                        12:26:05   Log-Likelihood:                 59.879\n",
      "No. Observations:                  40   AIC:                            -115.8\n",
      "Df Residuals:                      38   BIC:                            -112.4\n",
      "Df Model:                           1                                         \n",
      "Covariance Type:            nonrobust                                         \n",
      "==============================================================================\n",
      "                 coef    std err          t      P>|t|      [0.025      0.975]\n",
      "------------------------------------------------------------------------------\n",
      "Intercept      0.2434      0.017     14.586      0.000       0.210       0.277\n",
      "w              0.9859      0.003    333.151      0.000       0.980       0.992\n",
      "==============================================================================\n",
      "Omnibus:                        3.612   Durbin-Watson:                   1.001\n",
      "Prob(Omnibus):                  0.164   Jarque-Bera (JB):                1.701\n",
      "Skew:                           0.128   Prob(JB):                        0.427\n",
      "Kurtosis:                       2.023   Cond. No.                         11.8\n",
      "==============================================================================\n",
      "\n",
      "Notes:\n",
      "[1] Standard Errors assume that the covariance matrix of the errors is correctly specified.\n",
      "\n",
      "R-squared = 0.9996577420671773\n",
      "RMSE = 0.008147501987987093\n"
     ]
    }
   ],
   "source": [
    "wls1_model = wls(formula = 'z ~ w', weights=w1_.ravel()/w1_.sum(),data=data).fit()\n",
    "print(wls1_model.summary())\n",
    "print(\"\\nR-squared =\",wls1_model.rsquared)\n",
    "print(\"RMSE =\",np.sqrt(wls1_model.mse_resid))"
   ]
  },
  {
   "cell_type": "markdown",
   "metadata": {},
   "source": [
    "In the next step, we use WLS with the weights w2_ defined earlier."
   ]
  },
  {
   "cell_type": "code",
   "execution_count": 33,
   "metadata": {},
   "outputs": [
    {
     "name": "stdout",
     "output_type": "stream",
     "text": [
      "                            WLS Regression Results                            \n",
      "==============================================================================\n",
      "Dep. Variable:                      z   R-squared:                       1.000\n",
      "Model:                            WLS   Adj. R-squared:                  1.000\n",
      "Method:                 Least Squares   F-statistic:                 1.698e+05\n",
      "Date:                Thu, 05 Aug 2021   Prob (F-statistic):           5.66e-71\n",
      "Time:                        12:26:05   Log-Likelihood:                 59.907\n",
      "No. Observations:                  40   AIC:                            -115.8\n",
      "Df Residuals:                      38   BIC:                            -112.4\n",
      "Df Model:                           1                                         \n",
      "Covariance Type:            nonrobust                                         \n",
      "==============================================================================\n",
      "                 coef    std err          t      P>|t|      [0.025      0.975]\n",
      "------------------------------------------------------------------------------\n",
      "Intercept      0.2537      0.010     24.622      0.000       0.233       0.275\n",
      "w              0.9805      0.002    412.100      0.000       0.976       0.985\n",
      "==============================================================================\n",
      "Omnibus:                        1.379   Durbin-Watson:                   1.190\n",
      "Prob(Omnibus):                  0.502   Jarque-Bera (JB):                1.312\n",
      "Skew:                          -0.406   Prob(JB):                        0.519\n",
      "Kurtosis:                       2.641   Cond. No.                         8.54\n",
      "==============================================================================\n",
      "\n",
      "Notes:\n",
      "[1] Standard Errors assume that the covariance matrix of the errors is correctly specified.\n",
      "\n",
      "R-squared = 0.9997762917643853\n",
      "RMSE = 0.00542871782961264\n"
     ]
    }
   ],
   "source": [
    "wls2_model = wls(formula = 'z ~ w', weights=w2_.ravel()/w2_.sum(),data=data).fit()\n",
    "print(wls2_model.summary())\n",
    "print(\"\\nR-squared =\",wls2_model.rsquared)\n",
    "print(\"RMSE =\",np.sqrt(wls2_model.mse_resid))"
   ]
  },
  {
   "cell_type": "markdown",
   "metadata": {},
   "source": [
    "Finally, we use the WLS with the weight matrix obtained form the IRLS method."
   ]
  },
  {
   "cell_type": "code",
   "execution_count": 34,
   "metadata": {},
   "outputs": [
    {
     "name": "stdout",
     "output_type": "stream",
     "text": [
      "                            WLS Regression Results                            \n",
      "==============================================================================\n",
      "Dep. Variable:                      z   R-squared:                       1.000\n",
      "Model:                            WLS   Adj. R-squared:                  1.000\n",
      "Method:                 Least Squares   F-statistic:                 5.821e+05\n",
      "Date:                Thu, 05 Aug 2021   Prob (F-statistic):           3.89e-81\n",
      "Time:                        12:26:05   Log-Likelihood:                 70.899\n",
      "No. Observations:                  40   AIC:                            -137.8\n",
      "Df Residuals:                      38   BIC:                            -134.4\n",
      "Df Model:                           1                                         \n",
      "Covariance Type:            nonrobust                                         \n",
      "==============================================================================\n",
      "                 coef    std err          t      P>|t|      [0.025      0.975]\n",
      "------------------------------------------------------------------------------\n",
      "Intercept      0.2403      0.007     32.149      0.000       0.225       0.255\n",
      "w              0.9851      0.001    762.962      0.000       0.983       0.988\n",
      "==============================================================================\n",
      "Omnibus:                       34.354   Durbin-Watson:                   0.891\n",
      "Prob(Omnibus):                  0.000   Jarque-Bera (JB):                4.018\n",
      "Skew:                           0.009   Prob(JB):                        0.134\n",
      "Kurtosis:                       1.448   Cond. No.                         11.6\n",
      "==============================================================================\n",
      "\n",
      "Notes:\n",
      "[1] Standard Errors assume that the covariance matrix of the errors is correctly specified.\n",
      "\n",
      "R-squared = 0.9999347246079366\n",
      "RMSE = 0.0038150271741547327\n"
     ]
    }
   ],
   "source": [
    "wls3_model = wls(formula = 'z ~ w', weights=np.diag(W)/W.sum(),data=data).fit()\n",
    "print(wls3_model.summary())\n",
    "print(\"\\nR-squared =\",wls3_model.rsquared)\n",
    "print(\"RMSE =\",np.sqrt(wls3_model.mse_resid))"
   ]
  },
  {
   "cell_type": "markdown",
   "metadata": {},
   "source": [
    "#### Conclusion\n",
    "\n",
    "Although in the R-squared value only very infinitesimal improvement can be seen (being already close to 1 for OLS), but looking at different other statistics improvement can be observed. For example, the RMSE value is decreased from 0.062 to 0.0038, and the F-statistic is increased from 8.230e+04 to 5.821e+05. Similarly, the t-statistic for the coefficient is also increased from 286.881 to 762.962, so we can be more confident in our slope estimate being nonzero. Moreover, the standard error for the slope is decreased from 0.003 to 0.001 resulting in a narrower confidence interval: [0.980, 0.994] --> [0.983, 0.988]\n",
    "\n",
    "In this case, the best result could be obtained with IRLS."
   ]
  },
  {
   "cell_type": "markdown",
   "metadata": {},
   "source": [
    "<img src = \"images/AML1-Cover.png\" width = 110, align = \"left\" style=\"margin:0px 20px\">\n",
    "\n",
    "<span style=\"color:blue\">**Note:**</span> This Jupyter Notebook is accompanying the book: <br> $\\qquad$ <b>Advanced Machine Learning Made Easy</b> <br> $\\qquad$ From Theory to Practice with NumPy and scikit-learn <br> $\\qquad$ <i> Volume 1: Generalized Linear Models</i><br>\n",
    "by Ferenc Farkas, Ph.D. \n",
    "\n",
    "If you find this Notebook useful, please support me by buying the book at [Leanpub](http://leanpub.com/AML1). <br>\n",
    "Copyright notice: This Jupyter Notebook is made available under the [MIT License](https://opensource.org/licenses/MIT)."
   ]
  },
  {
   "cell_type": "code",
   "execution_count": null,
   "metadata": {},
   "outputs": [],
   "source": []
  }
 ],
 "metadata": {
  "colab": {
   "collapsed_sections": [],
   "name": "Ch1-1-SimpleRegression.ipynb",
   "provenance": [
    {
     "file_id": "1CAvi5U76y6xIKJarmRS-iX0Jh70o2mGi",
     "timestamp": 1537170166740
    }
   ],
   "version": "0.3.2"
  },
  "kernelspec": {
   "display_name": "Python 3",
   "language": "python",
   "name": "python3"
  },
  "language_info": {
   "codemirror_mode": {
    "name": "ipython",
    "version": 3
   },
   "file_extension": ".py",
   "mimetype": "text/x-python",
   "name": "python",
   "nbconvert_exporter": "python",
   "pygments_lexer": "ipython3",
   "version": "3.8.5"
  }
 },
 "nbformat": 4,
 "nbformat_minor": 1
}
