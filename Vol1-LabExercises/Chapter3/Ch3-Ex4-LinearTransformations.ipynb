{
 "cells": [
  {
   "cell_type": "markdown",
   "metadata": {
    "colab_type": "text",
    "id": "tr9o4rl9fUBh"
   },
   "source": [
    "<img src = \"images/Logo.png\" width = 220, align = \"left\">\n",
    "\n",
    "<h1 align=center><font size = 6>Linear transformation of numerical variables</font></h1>\n",
    "<h2 align=center><font size = 5>Lab Exercise 3.4</font></h2>\n",
    "<h3 align=center><font size = 4><b>Advanced Machine Learning Made Easy<br></b><small>From Theory to Practice with NumPy and scikit-learn<br><i>Volume 1: Generalized Linear Models</i></font></h3>"
   ]
  },
  {
   "cell_type": "markdown",
   "metadata": {},
   "source": [
    "## Introduction\n",
    "\n",
    "In this lab execise we will explore different linear transformations as part of the data preprocessing techniques applied to numerical variables, i.e., variables that have numeric values. The following linear transformations will be applied:\n",
    "- Centering\n",
    "- Standardizing\n",
    "- Min-Max scaling\n",
    "- Max-Abs scaling\n",
    "- Robust scaling\n",
    "\n",
    "The following datasets will be used in the lab\n",
    "- Blood pressure vs. age and weight already discussed in lab exercise Ch3-Ex3.\n",
    "- Height vs. Weight dataset already discussed in lab exercise Ch2-Ex7.\n",
    "- Star cluster dataset already discussed in lab exercise Ch2-Ex6."
   ]
  },
  {
   "cell_type": "markdown",
   "metadata": {},
   "source": [
    "### Table of contents\n",
    "1. [Preparation](#Preparation)\n",
    "2. [Centering the data](#DataCentering)\n",
    "3. [Standardizing the data](#DataStandardization)\n",
    "4. [Min-Max scaling](#MinMaxScaling)\n",
    "5. [Max-Abs scaling](#MaxAbsScaling)\n",
    "6. [Robust scaling](#RobustScaling)"
   ]
  },
  {
   "cell_type": "markdown",
   "metadata": {},
   "source": [
    "## 1. Preparation <a name=\"Preparation\"></a>\n",
    "\n",
    "As a first step, we import the required libraries."
   ]
  },
  {
   "cell_type": "code",
   "execution_count": 1,
   "metadata": {
    "colab": {},
    "colab_type": "code",
    "id": "fs6Gm5gtexW9"
   },
   "outputs": [],
   "source": [
    "import numpy as np\n",
    "import pandas as pd\n",
    "import matplotlib.pyplot as plt\n",
    "from numpy.linalg import eigh, inv, det, norm\n",
    "from sklearn.linear_model import LinearRegression\n",
    "from statsmodels.formula.api import ols\n",
    "import seaborn as sns\n",
    "import os\n",
    "%matplotlib inline"
   ]
  },
  {
   "cell_type": "markdown",
   "metadata": {
    "colab_type": "text",
    "id": "dUZRG9jlf0A4"
   },
   "source": [
    "### Blood pressure dataset\n",
    "\n",
    "First, we read the *BloodPressure2* dataset file into a pandas dataframe. This is a very tiny dataset, already used in Ch3-Ex1 lab exercise, but it helps us \"seeing the numbers\" and how they are manipulated."
   ]
  },
  {
   "cell_type": "code",
   "execution_count": 2,
   "metadata": {},
   "outputs": [
    {
     "data": {
      "text/html": [
       "<div>\n",
       "<style scoped>\n",
       "    .dataframe tbody tr th:only-of-type {\n",
       "        vertical-align: middle;\n",
       "    }\n",
       "\n",
       "    .dataframe tbody tr th {\n",
       "        vertical-align: top;\n",
       "    }\n",
       "\n",
       "    .dataframe thead th {\n",
       "        text-align: right;\n",
       "    }\n",
       "</style>\n",
       "<table border=\"1\" class=\"dataframe\">\n",
       "  <thead>\n",
       "    <tr style=\"text-align: right;\">\n",
       "      <th></th>\n",
       "      <th>Systolic blood pressure</th>\n",
       "      <th>Age in years</th>\n",
       "      <th>Weight in pounds</th>\n",
       "    </tr>\n",
       "  </thead>\n",
       "  <tbody>\n",
       "    <tr>\n",
       "      <th>0</th>\n",
       "      <td>132</td>\n",
       "      <td>52</td>\n",
       "      <td>173</td>\n",
       "    </tr>\n",
       "    <tr>\n",
       "      <th>1</th>\n",
       "      <td>143</td>\n",
       "      <td>59</td>\n",
       "      <td>184</td>\n",
       "    </tr>\n",
       "    <tr>\n",
       "      <th>2</th>\n",
       "      <td>153</td>\n",
       "      <td>67</td>\n",
       "      <td>194</td>\n",
       "    </tr>\n",
       "    <tr>\n",
       "      <th>3</th>\n",
       "      <td>162</td>\n",
       "      <td>73</td>\n",
       "      <td>211</td>\n",
       "    </tr>\n",
       "    <tr>\n",
       "      <th>4</th>\n",
       "      <td>154</td>\n",
       "      <td>64</td>\n",
       "      <td>196</td>\n",
       "    </tr>\n",
       "    <tr>\n",
       "      <th>5</th>\n",
       "      <td>168</td>\n",
       "      <td>74</td>\n",
       "      <td>220</td>\n",
       "    </tr>\n",
       "    <tr>\n",
       "      <th>6</th>\n",
       "      <td>137</td>\n",
       "      <td>54</td>\n",
       "      <td>188</td>\n",
       "    </tr>\n",
       "    <tr>\n",
       "      <th>7</th>\n",
       "      <td>149</td>\n",
       "      <td>61</td>\n",
       "      <td>188</td>\n",
       "    </tr>\n",
       "    <tr>\n",
       "      <th>8</th>\n",
       "      <td>159</td>\n",
       "      <td>65</td>\n",
       "      <td>207</td>\n",
       "    </tr>\n",
       "    <tr>\n",
       "      <th>9</th>\n",
       "      <td>128</td>\n",
       "      <td>46</td>\n",
       "      <td>167</td>\n",
       "    </tr>\n",
       "    <tr>\n",
       "      <th>10</th>\n",
       "      <td>166</td>\n",
       "      <td>72</td>\n",
       "      <td>217</td>\n",
       "    </tr>\n",
       "  </tbody>\n",
       "</table>\n",
       "</div>"
      ],
      "text/plain": [
       "    Systolic blood pressure  Age in years  Weight in pounds\n",
       "0                       132            52               173\n",
       "1                       143            59               184\n",
       "2                       153            67               194\n",
       "3                       162            73               211\n",
       "4                       154            64               196\n",
       "5                       168            74               220\n",
       "6                       137            54               188\n",
       "7                       149            61               188\n",
       "8                       159            65               207\n",
       "9                       128            46               167\n",
       "10                      166            72               217"
      ]
     },
     "execution_count": 2,
     "metadata": {},
     "output_type": "execute_result"
    }
   ],
   "source": [
    "dataBP = pd.read_csv(os.path.join('data','BloodpressureAgeWeight.csv'))\n",
    "dataBP"
   ]
  },
  {
   "cell_type": "markdown",
   "metadata": {},
   "source": [
    "Let's create the input matrix and the design matrix from the dataset."
   ]
  },
  {
   "cell_type": "code",
   "execution_count": 3,
   "metadata": {},
   "outputs": [],
   "source": [
    "X=np.array(dataBP[[\"Age in years\",\"Weight in pounds\"]])\n",
    "N,D=X.shape\n",
    "Xdot=np.insert(X,0,np.ones(N),axis=1)"
   ]
  },
  {
   "cell_type": "markdown",
   "metadata": {},
   "source": [
    "Then check for the presence of the collinearity using the condition number."
   ]
  },
  {
   "cell_type": "code",
   "execution_count": 4,
   "metadata": {},
   "outputs": [
    {
     "name": "stdout",
     "output_type": "stream",
     "text": [
      "Eigenvalues of the product matrix:\n",
      "[[3.76601829e-02]\n",
      " [1.64291587e+02]\n",
      " [4.64856671e+05]]\n",
      "Condition number = 3513.324963837358\n"
     ]
    }
   ],
   "source": [
    "eigval,eigvect=eigh(Xdot.T@Xdot)\n",
    "print(\"Eigenvalues of the product matrix:\")\n",
    "print(eigval[:,np.newaxis])\n",
    "print(\"Condition number =\",np.sqrt(eigval.max()/eigval.min()))"
   ]
  },
  {
   "cell_type": "markdown",
   "metadata": {},
   "source": [
    "The condition number is high, indicating that collinearity might be present. Let's check the collinearity issue using the variance inflation factors (VIF)."
   ]
  },
  {
   "cell_type": "code",
   "execution_count": 5,
   "metadata": {},
   "outputs": [
    {
     "name": "stdout",
     "output_type": "stream",
     "text": [
      "9.52502151287206\n",
      "9.525021512872101\n"
     ]
    }
   ],
   "source": [
    "def vif(X,idx):\n",
    "    from sklearn.linear_model import LinearRegression \n",
    "    linregr=LinearRegression()\n",
    "    X_notidx=np.delete(X,idx,axis=1)\n",
    "    X_idx=X[:,idx]\n",
    "    linregr.fit(X_notidx,X_idx)\n",
    "    R2=linregr.score(X_notidx,X_idx)\n",
    "    return(1.0/(1.0-R2))\n",
    "\n",
    "for idx in range(2):\n",
    "    print(vif(X,idx))"
   ]
  },
  {
   "cell_type": "markdown",
   "metadata": {},
   "source": [
    "And indeed, the VIF values are very close to 10, indicating a high collinearity issue. We will check how centering the data might affect the condition number and the VIF values.\n",
    "\n",
    "### Height-Weight dataset\n",
    "\n",
    "We will use in our analysis the *HeightWeight* dataset already discussed in lab exercise Ch2-Ex7. Let's read the dataset into a new pandas dataframe and drop the Index column."
   ]
  },
  {
   "cell_type": "code",
   "execution_count": 6,
   "metadata": {},
   "outputs": [],
   "source": [
    "dataHW = pd.read_csv(os.path.join('data','HeightWeight.csv'))\n",
    "dataHW=dataHW.drop(['Index'],axis=1)\n",
    "dataHW.columns=['Height', 'Weight']"
   ]
  },
  {
   "cell_type": "markdown",
   "metadata": {},
   "source": [
    "Let's create the input and design matrix for this dataset, as well."
   ]
  },
  {
   "cell_type": "code",
   "execution_count": 7,
   "metadata": {},
   "outputs": [],
   "source": [
    "X1=np.array(dataHW[[\"Height\"]])\n",
    "X1dot=np.insert(X1,0,np.ones(X1.shape[0]),axis=1)"
   ]
  },
  {
   "cell_type": "markdown",
   "metadata": {},
   "source": [
    "We can make a scatter plot (joint and marginal distribution) of the original dataset using the *seaborn* library. As a recap. and to make the comparison easier with linearly transformed data. let's also plot the estimated regression line with red together with the mean values of input and output."
   ]
  },
  {
   "cell_type": "code",
   "execution_count": 8,
   "metadata": {},
   "outputs": [
    {
     "data": {
      "image/png": "[encoded data removed]",
      "text/plain": [
       "<Figure size 432x432 with 3 Axes>"
      ]
     },
     "metadata": {
      "needs_background": "light"
     },
     "output_type": "display_data"
    }
   ],
   "source": [
    "from sklearn.linear_model import LinearRegression\n",
    "snsax=sns.jointplot(x=\"Height\", y=\"Weight\", marginal_kws=dict(bins=50,kde=True),s=10,data=dataHW);\n",
    "linregr=LinearRegression().fit(np.array(dataHW['Height']).reshape(-1, 1),dataHW['Weight'])\n",
    "snsax.ax_joint.plot([dataHW['Height'].min(),dataHW['Height'].max()],\\\n",
    "         [linregr.intercept_+linregr.coef_[0]*dataHW['Height'].min(),\\\n",
    "          linregr.intercept_+linregr.coef_[0]*dataHW['Height'].max()],'r-',lw=2)\n",
    "snsax.ax_joint.plot([dataHW['Height'].mean(),dataHW['Height'].mean()],\\\n",
    "                [snsax.ax_joint.get_ylim()[0],dataHW['Weight'].mean()],c='purple',linestyle='dashed')\n",
    "snsax.ax_joint.plot([snsax.ax_joint.get_xlim()[0],dataHW['Height'].mean()],\\\n",
    "                   [dataHW['Weight'].mean(),dataHW['Weight'].mean()],c='purple',linestyle='dashed')\n",
    "snsax.ax_joint.set_xlabel(\"Height\",fontsize=12)\n",
    "snsax.ax_joint.set_ylabel(\"Weight\",fontsize=12)\n",
    "plt.show()"
   ]
  },
  {
   "cell_type": "markdown",
   "metadata": {},
   "source": [
    "We can also print out the summary of the OLS result using *statsmodels* library."
   ]
  },
  {
   "cell_type": "code",
   "execution_count": 9,
   "metadata": {},
   "outputs": [
    {
     "name": "stdout",
     "output_type": "stream",
     "text": [
      "               OLS Results for original \"HeightWeight\" dataset                \n",
      "==============================================================================\n",
      "Dep. Variable:                 Weight   R-squared:                       0.253\n",
      "Model:                            OLS   Adj. R-squared:                  0.253\n",
      "Method:                 Least Squares   F-statistic:                     8461.\n",
      "Date:                Fri, 09 Oct 2020   Prob (F-statistic):               0.00\n",
      "Time:                        11:35:11   Log-Likelihood:                -93235.\n",
      "No. Observations:               25000   AIC:                         1.865e+05\n",
      "Df Residuals:                   24998   BIC:                         1.865e+05\n",
      "Df Model:                           1                                         \n",
      "Covariance Type:            nonrobust                                         \n",
      "==============================================================================\n",
      "                 coef    std err          t      P>|t|      [0.025      0.975]\n",
      "------------------------------------------------------------------------------\n",
      "Intercept    -82.5757      2.280    -36.214      0.000     -87.045     -78.106\n",
      "Height         3.0835      0.034     91.981      0.000       3.018       3.149\n",
      "==============================================================================\n",
      "Omnibus:                        1.022   Durbin-Watson:                   1.994\n",
      "Prob(Omnibus):                  0.600   Jarque-Bera (JB):                1.027\n",
      "Skew:                          -0.016   Prob(JB):                        0.598\n",
      "Kurtosis:                       2.996   Cond. No.                     2.43e+03\n",
      "==============================================================================\n",
      "\n",
      "Warnings:\n",
      "[1] Standard Errors assume that the covariance matrix of the errors is correctly specified.\n",
      "[2] The condition number is large, 2.43e+03. This might indicate that there are\n",
      "strong multicollinearity or other numerical problems.\n",
      "\n",
      "RMSE = 10.079516864371328\n"
     ]
    }
   ],
   "source": [
    "results = ols(formula = 'Weight ~ Height', data=dataHW).fit()\n",
    "print(results.summary(title='OLS Results for original \"HeightWeight\" dataset'))\n",
    "print(\"\\nRMSE =\",np.sqrt(results.mse_resid))"
   ]
  },
  {
   "cell_type": "markdown",
   "metadata": {},
   "source": [
    "Let's create the weight vector for later usage."
   ]
  },
  {
   "cell_type": "code",
   "execution_count": 10,
   "metadata": {},
   "outputs": [
    {
     "data": {
      "text/plain": [
       "array([[-82.57574306],\n",
       "       [  3.08347645]])"
      ]
     },
     "execution_count": 10,
     "metadata": {},
     "output_type": "execute_result"
    }
   ],
   "source": [
    "w_=np.array(results.params)[:,np.newaxis]\n",
    "w_"
   ]
  },
  {
   "cell_type": "markdown",
   "metadata": {},
   "source": [
    "We may also get the standard errors of the estimated coefficients by taking the diagonal of the weight (regression coefficient) variance-covariance matrix."
   ]
  },
  {
   "cell_type": "code",
   "execution_count": 11,
   "metadata": {},
   "outputs": [
    {
     "data": {
      "text/plain": [
       "array([[2.28021584],\n",
       "       [0.03352287]])"
      ]
     },
     "execution_count": 11,
     "metadata": {},
     "output_type": "execute_result"
    }
   ],
   "source": [
    "np.sqrt(np.diag(results.mse_resid*inv(X1dot.T@X1dot)))[:,np.newaxis]"
   ]
  },
  {
   "cell_type": "markdown",
   "metadata": {},
   "source": [
    "In the remaining part, we will check how the different linear transformations applied to the input variables will affect the outcome of the linear regression."
   ]
  },
  {
   "cell_type": "markdown",
   "metadata": {},
   "source": [
    "## 2. Centering the data <a name=\"DataCentering\"></a>\n",
    "\n",
    "We shall start our investigation by centering the input data.\n",
    "\n",
    "### Properties of centering\n",
    "\n",
    "First, let's calculate the mean vector of the *BloodPressure2* containing the mean value for each feature."
   ]
  },
  {
   "cell_type": "code",
   "execution_count": 12,
   "metadata": {},
   "outputs": [
    {
     "data": {
      "text/plain": [
       "array([[ 62.45454545],\n",
       "       [195.        ]])"
      ]
     },
     "execution_count": 12,
     "metadata": {},
     "output_type": "execute_result"
    }
   ],
   "source": [
    "mu_=X.mean(axis=0,keepdims=True).T\n",
    "mu_"
   ]
  },
  {
   "cell_type": "markdown",
   "metadata": {},
   "source": [
    "Then let's create the centered input matrix $\\mathbf Xc=\\mathbf X-\\mu^\\top$ and print it out. Also, print out the new mean values to check that the data is centered."
   ]
  },
  {
   "cell_type": "code",
   "execution_count": 13,
   "metadata": {},
   "outputs": [
    {
     "name": "stdout",
     "output_type": "stream",
     "text": [
      "[[-10.45454545 -22.        ]\n",
      " [ -3.45454545 -11.        ]\n",
      " [  4.54545455  -1.        ]\n",
      " [ 10.54545455  16.        ]\n",
      " [  1.54545455   1.        ]\n",
      " [ 11.54545455  25.        ]\n",
      " [ -8.45454545  -7.        ]\n",
      " [ -1.45454545  -7.        ]\n",
      " [  2.54545455  12.        ]\n",
      " [-16.45454545 -28.        ]\n",
      " [  9.54545455  22.        ]]\n",
      "--------- Mean --------------\n",
      " [1.29189588e-15 0.00000000e+00]\n"
     ]
    }
   ],
   "source": [
    "Xc=X-mu_.T\n",
    "print(Xc)\n",
    "print(\"--------- Mean --------------\\n\",Xc.mean(axis=0))"
   ]
  },
  {
   "cell_type": "markdown",
   "metadata": {},
   "source": [
    "As we can see from the above printout, the centered data has zero mean.\n",
    "\n",
    "Now, let's calculate the condition number again using the centered design matrix."
   ]
  },
  {
   "cell_type": "code",
   "execution_count": 14,
   "metadata": {},
   "outputs": [
    {
     "name": "stdout",
     "output_type": "stream",
     "text": [
      "Eigenvalues of the product matrix:\n",
      "[[  11.        ]\n",
      " [  69.55557898]\n",
      " [3759.17169375]]\n",
      "Condition number = 18.486289006989363\n"
     ]
    }
   ],
   "source": [
    "Xcdot=np.insert(Xc,0,np.ones(N),axis=1)\n",
    "eigval,eigvect=eigh(Xcdot.T@Xcdot)\n",
    "print(\"Eigenvalues of the product matrix:\")\n",
    "print(eigval[:,np.newaxis])\n",
    "print(\"Condition number =\",np.sqrt(eigval.max()/eigval.min()))"
   ]
  },
  {
   "cell_type": "markdown",
   "metadata": {},
   "source": [
    "As we can see, the condition number dropped significantly. Does that mean that we get rid of the collinearity issue by centering the data?\n",
    "\n",
    "Let's check again this with the VIF values."
   ]
  },
  {
   "cell_type": "code",
   "execution_count": 15,
   "metadata": {},
   "outputs": [
    {
     "name": "stdout",
     "output_type": "stream",
     "text": [
      "9.525021512872081\n",
      "9.52502151287209\n"
     ]
    }
   ],
   "source": [
    "for idx in range(2):\n",
    "    print(vif(Xc,idx))"
   ]
  },
  {
   "cell_type": "markdown",
   "metadata": {},
   "source": [
    "As we can see, the VIF values are the same, thus, while centering the data resolves the conditioning problem of the OLS, it does not solve the collinearity issue. This seems reasonable, as - with centering the data - we do not do anything else then shift the entire scatter of observations such that their mean will be in the origin as we will see below in the scatter plot.\n",
    "\n",
    "**Note:** *Although, centering does not solve the collinearity issue, if the conditioning number is high, we should still center the data. Remember from the book, that bad conditioning results in very different OLS results during matrix inversion $\\mathbf {\\dot X}^\\top\\mathbf {\\dot X}$ even if the input is changed slightly.*\n",
    "\n",
    "Now, let's check that the centered data has the same hat matrix as the original one."
   ]
  },
  {
   "cell_type": "code",
   "execution_count": 16,
   "metadata": {},
   "outputs": [
    {
     "data": {
      "text/plain": [
       "array([[ 1.11577414e-14,  1.26010313e-14,  1.34614542e-14,\n",
       "         1.55708779e-14,  1.41137102e-14,  1.66949787e-14,\n",
       "         1.30312428e-14,  1.31006317e-14,  1.50157664e-14,\n",
       "         1.06581410e-14,  1.62925229e-14],\n",
       "       [ 8.40993941e-15,  9.46465128e-15,  1.04638520e-14,\n",
       "         1.34614542e-14,  1.14214194e-14,  1.48978052e-14,\n",
       "         1.11109039e-14,  1.04638520e-14,  1.36834988e-14,\n",
       "         7.99360578e-15,  1.45335133e-14],\n",
       "       [-1.41553436e-14, -1.49880108e-14, -1.61537450e-14,\n",
       "        -1.35724765e-14, -1.35724765e-14, -1.07830411e-14,\n",
       "        -9.85322934e-15, -1.50990331e-14, -9.93649607e-15,\n",
       "        -1.31630817e-14, -1.02348685e-14],\n",
       "       [ 4.44089210e-15,  5.53723734e-15,  5.99520433e-15,\n",
       "         8.60422844e-15,  7.16093851e-15,  1.02140518e-14,\n",
       "         7.45237205e-15,  5.95357097e-15,  9.60342916e-15,\n",
       "         4.63518113e-15,  9.76996262e-15],\n",
       "       [-1.08385523e-14, -1.12410081e-14, -1.19348975e-14,\n",
       "        -1.22957200e-14, -1.15601972e-14, -1.19765309e-14,\n",
       "        -1.05471187e-14, -1.15740750e-14, -1.13867249e-14,\n",
       "        -1.02765019e-14, -1.18377530e-14],\n",
       "       [ 1.21291865e-14,  1.36175793e-14,  1.53523028e-14,\n",
       "         1.62092562e-14,  1.46271883e-14,  1.57651669e-14,\n",
       "         1.19210197e-14,  1.41726908e-14,  1.40720768e-14,\n",
       "         1.09634524e-14,  1.55986335e-14],\n",
       "       [ 9.07607323e-15,  8.92688701e-15,  9.57567359e-15,\n",
       "         6.99440506e-15,  7.66747776e-15,  4.20496971e-15,\n",
       "         4.66293670e-15,  8.34401992e-15,  4.21884749e-15,\n",
       "         8.60422844e-15,  4.53803661e-15],\n",
       "       [-1.78190795e-14, -1.79578574e-14, -1.87627691e-14,\n",
       "        -1.86517468e-14, -1.78052018e-14, -1.79092852e-14,\n",
       "        -1.65215064e-14, -1.82631688e-14, -1.68025316e-14,\n",
       "        -1.68060010e-14, -1.75449932e-14],\n",
       "       [-8.85749807e-15, -9.57567359e-15, -8.09075029e-15,\n",
       "        -1.09634524e-14, -1.07761022e-14, -1.40720768e-14,\n",
       "        -1.31561428e-14, -9.95037386e-15, -1.36557432e-14,\n",
       "        -1.03111963e-14, -1.40165657e-14],\n",
       "       [-5.10702591e-15, -4.49640325e-15, -3.44169138e-15,\n",
       "        -4.32986980e-15, -4.88498131e-15, -5.68989300e-15,\n",
       "        -7.10542736e-15, -4.55191440e-15, -6.61970478e-15,\n",
       "        -6.16173779e-15, -5.99520433e-15],\n",
       "       [ 4.30211422e-16,  8.70831185e-16,  1.49533164e-15,\n",
       "         1.19348975e-15,  6.38378239e-16,  1.66533454e-16,\n",
       "        -7.91033905e-16,  9.67975700e-16, -6.10622664e-16,\n",
       "        -5.41233725e-16, -5.55111512e-17]])"
      ]
     },
     "execution_count": 16,
     "metadata": {},
     "output_type": "execute_result"
    }
   ],
   "source": [
    "H=Xdot@inv(Xdot.T@Xdot)@Xdot.T\n",
    "Hc=Xcdot@inv(Xcdot.T@Xcdot)@Xcdot.T\n",
    "np.sum(np.abs(H-Hc))\n",
    "H-Hc"
   ]
  },
  {
   "cell_type": "markdown",
   "metadata": {},
   "source": [
    "And indeed, they are the same, except for rounding errors. \n",
    "\n",
    "We can check that the sample covariance matrix $\\mathbf S$  of the input vector does not change either."
   ]
  },
  {
   "cell_type": "code",
   "execution_count": 17,
   "metadata": {},
   "outputs": [
    {
     "data": {
      "text/plain": [
       "array([[0., 0.],\n",
       "       [0., 0.]])"
      ]
     },
     "execution_count": 17,
     "metadata": {},
     "output_type": "execute_result"
    }
   ],
   "source": [
    "S=1/(N-1)*(X-mu_.T).T@(X-mu_.T)\n",
    "Sc=1/(N-1)*Xc.T@Xc\n",
    "S-Sc"
   ]
  },
  {
   "cell_type": "markdown",
   "metadata": {},
   "source": [
    "And yes, the covariance matrix is not affected by centering the data. The same is true for the Mahalanobis distances, they are not affected either when the data is centered."
   ]
  },
  {
   "cell_type": "code",
   "execution_count": 18,
   "metadata": {},
   "outputs": [
    {
     "data": {
      "text/plain": [
       "array([[ 0.00000000e+00],\n",
       "       [ 4.44089210e-16],\n",
       "       [ 2.22044605e-16],\n",
       "       [ 4.44089210e-16],\n",
       "       [ 3.88578059e-16],\n",
       "       [-4.44089210e-16],\n",
       "       [-4.44089210e-16],\n",
       "       [ 3.33066907e-16],\n",
       "       [-2.22044605e-16],\n",
       "       [ 0.00000000e+00],\n",
       "       [-2.22044605e-16]])"
      ]
     },
     "execution_count": 18,
     "metadata": {},
     "output_type": "execute_result"
    }
   ],
   "source": [
    "dM=np.sqrt(np.array([np.float((X[i][:,np.newaxis]-mu_).T@inv(S)@(X[i][:,np.newaxis]-mu_))\\\n",
    "                     for i in range(N)]))[:,np.newaxis]\n",
    "dMc=np.sqrt(np.array([np.float((Xc[i][:,np.newaxis]-Xc.mean(axis=0,keepdims=True).T).T@inv(Sc)@\\\n",
    "            (Xc[i][:,np.newaxis]-Xc.mean(axis=0,keepdims=True).T)) for i in range(N)]))[:,np.newaxis]\n",
    "dM-dMc"
   ]
  },
  {
   "cell_type": "markdown",
   "metadata": {},
   "source": [
    "Then let's check the correlation coefficient by creating the correlation matrix $\\mathbf R$:"
   ]
  },
  {
   "cell_type": "code",
   "execution_count": 19,
   "metadata": {},
   "outputs": [
    {
     "data": {
      "text/plain": [
       "array([[1.        , 0.94605146],\n",
       "       [0.94605146, 1.        ]])"
      ]
     },
     "execution_count": 19,
     "metadata": {},
     "output_type": "execute_result"
    }
   ],
   "source": [
    "np.corrcoef(X,rowvar=False)"
   ]
  },
  {
   "cell_type": "markdown",
   "metadata": {},
   "source": [
    "Then normalize each column of the centered data using the Euclidean norm. That is, we calculate first the Euclidean norm of each feature by taking the square root of the sum of squared values for each column."
   ]
  },
  {
   "cell_type": "code",
   "execution_count": 20,
   "metadata": {},
   "outputs": [
    {
     "data": {
      "text/plain": [
       "array([[28.82233982],\n",
       "       [54.75399529]])"
      ]
     },
     "execution_count": 20,
     "metadata": {},
     "output_type": "execute_result"
    }
   ],
   "source": [
    "norm2feature_=np.sqrt(np.sum(Xc**2,axis=0,keepdims=True)).T\n",
    "norm2feature_"
   ]
  },
  {
   "cell_type": "markdown",
   "metadata": {},
   "source": [
    "Then divide the input matrix with this vector of Eucledian norms to obtain normalized features (and not normalized observations!):"
   ]
  },
  {
   "cell_type": "code",
   "execution_count": 21,
   "metadata": {},
   "outputs": [
    {
     "data": {
      "text/plain": [
       "array([[-0.36272369, -0.40179716],\n",
       "       [-0.11985652, -0.20089858],\n",
       "       [ 0.15770595, -0.01826351],\n",
       "       [ 0.36587781,  0.29221612],\n",
       "       [ 0.05362002,  0.01826351],\n",
       "       [ 0.40057312,  0.45658769],\n",
       "       [-0.29333307, -0.12784455],\n",
       "       [-0.0504659 , -0.12784455],\n",
       "       [ 0.08831533,  0.21916209],\n",
       "       [-0.57089555, -0.51137821],\n",
       "       [ 0.3311825 ,  0.40179716]])"
      ]
     },
     "execution_count": 21,
     "metadata": {},
     "output_type": "execute_result"
    }
   ],
   "source": [
    "Xnf=Xc/norm2feature_.T\n",
    "Xnf"
   ]
  },
  {
   "cell_type": "markdown",
   "metadata": {},
   "source": [
    "If we take the Euclidean norm of each feature, then it should be equal to one."
   ]
  },
  {
   "cell_type": "code",
   "execution_count": 22,
   "metadata": {},
   "outputs": [
    {
     "data": {
      "text/plain": [
       "array([1., 1.])"
      ]
     },
     "execution_count": 22,
     "metadata": {},
     "output_type": "execute_result"
    }
   ],
   "source": [
    "norm(Xnf,ord=2,axis=0)"
   ]
  },
  {
   "cell_type": "markdown",
   "metadata": {},
   "source": [
    "If we take the inner product of the two normalized feature vectors, then it should provide the cosine of the angle between the two feature vectors, and that should be the same as the Pearson correlation coefficient between the input variables."
   ]
  },
  {
   "cell_type": "code",
   "execution_count": 23,
   "metadata": {},
   "outputs": [
    {
     "data": {
      "text/plain": [
       "array([[0.94605146]])"
      ]
     },
     "execution_count": 23,
     "metadata": {},
     "output_type": "execute_result"
    }
   ],
   "source": [
    "Xnf[:,0][:,np.newaxis].T@Xnf[:,1][:,np.newaxis]"
   ]
  },
  {
   "cell_type": "markdown",
   "metadata": {},
   "source": [
    "Because that value is close to 1, then the two feature vectors are almost collinear.\n",
    "\n",
    "### Visualization of centering\n",
    "\n",
    "We can plot the distribution of the original *Height* and the centered *Height* of the *HeightWeight* dataset."
   ]
  },
  {
   "cell_type": "code",
   "execution_count": 24,
   "metadata": {},
   "outputs": [
    {
     "data": {
      "image/png": "[encoded data removed]",
      "text/plain": [
       "<Figure size 432x288 with 1 Axes>"
      ]
     },
     "metadata": {
      "needs_background": "light"
     },
     "output_type": "display_data"
    }
   ],
   "source": [
    "dataHWcenter=dataHW-dataHW.mean()\n",
    "dataHWcenter['Weight']=dataHW['Weight']\n",
    "sns.distplot(dataHW['Height'], kde=True, rug=False,label='original')\n",
    "sns.distplot(dataHWcenter['Height'], kde=True, rug=False,label='centered')\n",
    "plt.legend()\n",
    "plt.show()"
   ]
  },
  {
   "cell_type": "markdown",
   "metadata": {},
   "source": [
    "As can be seen from the above figure, the only difference between the two distribution is in their mean. The centered data has zero mean.\n",
    "\n",
    "Let's create a joint distribution (scatter plot of the weight vs. height) together with marginal distributions for the original dataset. For comparison, let's plot the estimated regression line, as well as the mean of the input and output."
   ]
  },
  {
   "cell_type": "code",
   "execution_count": 25,
   "metadata": {},
   "outputs": [
    {
     "data": {
      "image/png": "[encoded data removed]",
      "text/plain": [
       "<Figure size 432x432 with 3 Axes>"
      ]
     },
     "metadata": {
      "needs_background": "light"
     },
     "output_type": "display_data"
    }
   ],
   "source": [
    "snsax=sns.jointplot(x=\"Height\", y=\"Weight\", marginal_kws=dict(bins=50,kde=True),s=10,\\\n",
    "                    data=dataHWcenter)\n",
    "linregr=LinearRegression().fit(np.array(dataHWcenter['Height']).reshape(-1, 1),dataHWcenter['Weight'])\n",
    "snsax.ax_joint.plot([dataHWcenter['Height'].min(),dataHWcenter['Height'].max()],\\\n",
    "         [linregr.intercept_+linregr.coef_[0]*dataHWcenter['Height'].min(),\\\n",
    "          linregr.intercept_+linregr.coef_[0]*dataHWcenter['Height'].max()],'r-',lw=2)\n",
    "snsax.ax_joint.plot([dataHWcenter['Height'].mean(),dataHWcenter['Height'].mean()],\\\n",
    "                   [snsax.ax_joint.get_ylim()[0],dataHWcenter['Weight'].mean()],\\\n",
    "                    c='purple',linestyle='dashed')\n",
    "snsax.ax_joint.plot([snsax.ax_joint.get_xlim()[0],dataHWcenter['Height'].mean()],\\\n",
    "                   [dataHWcenter['Weight'].mean(),dataHWcenter['Weight'].mean()],\\\n",
    "                    c='purple',linestyle='dashed')\n",
    "snsax.ax_joint.set_xlabel(\"Centered Height\",fontsize=12)\n",
    "snsax.ax_joint.set_ylabel(\"Weight\",fontsize=12)\n",
    "plt.show()"
   ]
  },
  {
   "cell_type": "markdown",
   "metadata": {},
   "source": [
    "As can be seen from the figure above, we have the same scatter plot and estimated regression line as for the original data. The only difference is that the intercept (vertical dashed line) is now the estimated mean of the output when the input is zero."
   ]
  },
  {
   "cell_type": "markdown",
   "metadata": {},
   "source": [
    "### Summary of OLS result for centered data\n",
    "\n",
    "Finally, let's check the summary of the OLS results for the centered data of the *HeightWeight* dataset."
   ]
  },
  {
   "cell_type": "code",
   "execution_count": 26,
   "metadata": {},
   "outputs": [
    {
     "name": "stdout",
     "output_type": "stream",
     "text": [
      "               OLS Results for centered \"HeightWeight\" dataset                \n",
      "==============================================================================\n",
      "Dep. Variable:                 Weight   R-squared:                       0.253\n",
      "Model:                            OLS   Adj. R-squared:                  0.253\n",
      "Method:                 Least Squares   F-statistic:                     8461.\n",
      "Date:                Fri, 09 Oct 2020   Prob (F-statistic):               0.00\n",
      "Time:                        11:35:14   Log-Likelihood:                -93235.\n",
      "No. Observations:               25000   AIC:                         1.865e+05\n",
      "Df Residuals:                   24998   BIC:                         1.865e+05\n",
      "Df Model:                           1                                         \n",
      "Covariance Type:            nonrobust                                         \n",
      "==============================================================================\n",
      "                 coef    std err          t      P>|t|      [0.025      0.975]\n",
      "------------------------------------------------------------------------------\n",
      "Intercept    127.0794      0.064   1993.451      0.000     126.954     127.204\n",
      "Height         3.0835      0.034     91.981      0.000       3.018       3.149\n",
      "==============================================================================\n",
      "Omnibus:                        1.022   Durbin-Watson:                   1.994\n",
      "Prob(Omnibus):                  0.600   Jarque-Bera (JB):                1.027\n",
      "Skew:                          -0.016   Prob(JB):                        0.598\n",
      "Kurtosis:                       2.996   Cond. No.                         1.90\n",
      "==============================================================================\n",
      "\n",
      "Warnings:\n",
      "[1] Standard Errors assume that the covariance matrix of the errors is correctly specified.\n",
      "\n",
      "RMSE = 10.079516864371328\n"
     ]
    }
   ],
   "source": [
    "resultsC = ols(formula = 'Weight ~ Height', data=dataHWcenter).fit()\n",
    "print(resultsC.summary(title='OLS Results for centered \"HeightWeight\" dataset'))\n",
    "print(\"\\nRMSE =\",np.sqrt(resultsC.mse_resid))"
   ]
  },
  {
   "cell_type": "markdown",
   "metadata": {},
   "source": [
    "The standard errors of the regression coefficients can be obtained by the formula derived in the book."
   ]
  },
  {
   "cell_type": "code",
   "execution_count": 27,
   "metadata": {},
   "outputs": [
    {
     "data": {
      "text/plain": [
       "array([[0.06374846],\n",
       "       [0.03352287]])"
      ]
     },
     "execution_count": 27,
     "metadata": {},
     "output_type": "execute_result"
    }
   ],
   "source": [
    "X1c=np.array(dataHWcenter[[\"Height\"]])\n",
    "X1cdot=np.insert(X1c,0,np.ones(X1c.shape[0]),axis=1)\n",
    "np.sqrt(np.diag(resultsC.mse_resid*inv(X1cdot.T@X1cdot)))[:,np.newaxis]"
   ]
  },
  {
   "cell_type": "markdown",
   "metadata": {},
   "source": [
    "Let's create the linear transformation matrix (with scale equal to 1 and offset equal to minus the mean of the *Height* input variable)."
   ]
  },
  {
   "cell_type": "code",
   "execution_count": 28,
   "metadata": {},
   "outputs": [
    {
     "name": "stdout",
     "output_type": "stream",
     "text": [
      "[[  1.        -67.9931136]\n",
      " [  0.          1.       ]]\n"
     ]
    }
   ],
   "source": [
    "Ac=np.zeros((X1c.shape[1]+1,X1c.shape[1]+1))\n",
    "np.fill_diagonal(Ac,1)\n",
    "Ac[0,1]=-np.array(dataHW.mean())[0]\n",
    "print(Ac)"
   ]
  },
  {
   "cell_type": "markdown",
   "metadata": {},
   "source": [
    "The new design matrix can be obtained also by multiplying the original design matrix from the right with the transformation matrix just created. "
   ]
  },
  {
   "cell_type": "code",
   "execution_count": 29,
   "metadata": {},
   "outputs": [
    {
     "data": {
      "text/plain": [
       "0.0"
      ]
     },
     "execution_count": 29,
     "metadata": {},
     "output_type": "execute_result"
    }
   ],
   "source": [
    "np.sum(np.abs(X1dot@Ac-X1cdot))"
   ]
  },
  {
   "cell_type": "markdown",
   "metadata": {},
   "source": [
    "Then we can obtain the new regression coefficient from the original ones using the formula derived in the book:"
   ]
  },
  {
   "cell_type": "code",
   "execution_count": 30,
   "metadata": {},
   "outputs": [
    {
     "data": {
      "text/plain": [
       "array([[127.07942116],\n",
       "       [  3.08347645]])"
      ]
     },
     "execution_count": 30,
     "metadata": {},
     "output_type": "execute_result"
    }
   ],
   "source": [
    "inv(Ac)@w_"
   ]
  },
  {
   "cell_type": "markdown",
   "metadata": {},
   "source": [
    "And indeed, these values match the values presented in the printout of the OLS results above.\n",
    "\n",
    "Using the formula derived in the book, we can also get the new standard errors using the weight covariance matrix obtained with the original data."
   ]
  },
  {
   "cell_type": "code",
   "execution_count": 31,
   "metadata": {},
   "outputs": [
    {
     "data": {
      "text/plain": [
       "array([[0.06374846],\n",
       "       [0.03352287]])"
      ]
     },
     "execution_count": 31,
     "metadata": {},
     "output_type": "execute_result"
    }
   ],
   "source": [
    "np.sqrt(np.diag(inv(Ac)@(results.mse_resid*inv(X1dot.T@X1dot))@(inv(Ac)).T))[:,np.newaxis]"
   ]
  },
  {
   "cell_type": "markdown",
   "metadata": {},
   "source": [
    "The generalized variance of the weight vector does not change because the determinant of the linear transformation is 1."
   ]
  },
  {
   "cell_type": "code",
   "execution_count": 32,
   "metadata": {},
   "outputs": [
    {
     "data": {
      "text/plain": [
       "1.0"
      ]
     },
     "execution_count": 32,
     "metadata": {},
     "output_type": "execute_result"
    }
   ],
   "source": [
    "det(inv(Ac))**2"
   ]
  },
  {
   "cell_type": "markdown",
   "metadata": {},
   "source": [
    "We can check this easily:"
   ]
  },
  {
   "cell_type": "code",
   "execution_count": 33,
   "metadata": {},
   "outputs": [
    {
     "data": {
      "text/plain": [
       "-9.740878893424454e-20"
      ]
     },
     "execution_count": 33,
     "metadata": {},
     "output_type": "execute_result"
    }
   ],
   "source": [
    "det(results.mse_resid*inv(X1dot.T@X1dot))-\\\n",
    "det(inv(Ac)@(results.mse_resid*inv(X1dot.T@X1dot))@(inv(Ac)).T)"
   ]
  },
  {
   "cell_type": "markdown",
   "metadata": {},
   "source": [
    "**Note:** *Although centering the data does not have any effect on the estimated regression model,  it shall be still applied if the interpretation of the intercept is important or in case the condition number is high. The latter is important to avoid to not have big changes in the outcome of the OLS when the input matrix is even slightly modified.*"
   ]
  },
  {
   "cell_type": "markdown",
   "metadata": {},
   "source": [
    "## 3. Standardizing the data <a name=\"DataStandardization\"></a>\n",
    "\n",
    "Another useful linear transformation is the standardization of the data.\n",
    "\n",
    "### Properties of standardization\n",
    "\n",
    "Let's create the vector of standard deviations (a vector with elements corresponding to the standard deviation of each feature) of the *BloodPressure2* dataset:"
   ]
  },
  {
   "cell_type": "code",
   "execution_count": 34,
   "metadata": {},
   "outputs": [
    {
     "data": {
      "text/plain": [
       "array([[ 9.11442413],\n",
       "       [17.31473361]])"
      ]
     },
     "execution_count": 34,
     "metadata": {},
     "output_type": "execute_result"
    }
   ],
   "source": [
    "sigma_=X.std(axis=0,keepdims=True,ddof=1).T\n",
    "sigma_"
   ]
  },
  {
   "cell_type": "markdown",
   "metadata": {},
   "source": [
    "And then create the standardized input matrix as $\\mathbf {X_*}\\equiv \\frac{\\mathbf{X}-\\boldsymbol{\\mu}^\\top}{\\boldsymbol\\sigma^\\top}$. \n",
    "\n",
    "Print out the standardized input matrix together with the new mean and standard deviation of each feature."
   ]
  },
  {
   "cell_type": "code",
   "execution_count": 35,
   "metadata": {},
   "outputs": [
    {
     "name": "stdout",
     "output_type": "stream",
     "text": [
      "[[-1.14703302 -1.27059419]\n",
      " [-0.37901961 -0.6352971 ]\n",
      " [ 0.49871001 -0.05775428]\n",
      " [ 1.15700722  0.9240685 ]\n",
      " [ 0.1695614   0.05775428]\n",
      " [ 1.26672342  1.44385704]\n",
      " [-0.92760062 -0.40427997]\n",
      " [-0.1595872  -0.40427997]\n",
      " [ 0.27927761  0.69305138]\n",
      " [-1.80533023 -1.61711988]\n",
      " [ 1.04729102  1.27059419]]\n",
      "--------- Mean --------------\n",
      " [1.41301112e-16 0.00000000e+00]\n",
      "----- Standard deviation ----\n",
      " [1. 1.]\n"
     ]
    }
   ],
   "source": [
    "Xs=(X-mu_.T)/sigma_.T\n",
    "print(Xs)\n",
    "print(\"--------- Mean --------------\\n\",Xs.mean(axis=0))\n",
    "print(\"----- Standard deviation ----\\n\",Xs.std(axis=0,ddof=1))"
   ]
  },
  {
   "cell_type": "markdown",
   "metadata": {},
   "source": [
    "As can be seen, with standardized data we obtain a distribution with mean zero and unit variance.\n",
    "\n",
    "We can check that the hat matrix is not altered with the standardization of the data."
   ]
  },
  {
   "cell_type": "code",
   "execution_count": 36,
   "metadata": {},
   "outputs": [
    {
     "data": {
      "text/plain": [
       "array([[-1.12132525e-14, -1.26287869e-14, -1.34336986e-14,\n",
       "        -1.55153668e-14, -1.40998324e-14, -1.66117120e-14,\n",
       "        -1.30589983e-14, -1.31006317e-14, -1.49914803e-14,\n",
       "        -1.07136522e-14, -1.62231339e-14],\n",
       "       [-8.54871729e-15, -9.52016244e-15, -1.04083409e-14,\n",
       "        -1.33365541e-14, -1.14214194e-14, -1.47486190e-14,\n",
       "        -1.11937369e-14, -1.04638520e-14, -1.36626821e-14,\n",
       "        -8.10462808e-15, -1.44467771e-14],\n",
       "       [ 1.43496326e-14,  1.50712776e-14,  1.60982339e-14,\n",
       "         1.33504319e-14,  1.35447209e-14,  1.06165077e-14,\n",
       "         1.00197628e-14,  1.51545443e-14,  9.88098492e-15,\n",
       "         1.35308431e-14,  1.00496868e-14],\n",
       "       [-3.80251386e-15, -5.28743715e-15, -6.21724894e-15,\n",
       "        -9.32587341e-15, -7.27196081e-15, -1.09634524e-14,\n",
       "        -7.02216063e-15, -5.82867088e-15, -9.86710713e-15,\n",
       "        -3.58046925e-15, -1.04638520e-14],\n",
       "       [ 1.08663079e-14,  1.12548859e-14,  1.19071419e-14,\n",
       "         1.22679644e-14,  1.15601972e-14,  1.19210197e-14,\n",
       "         1.05783438e-14,  1.15740750e-14,  1.13728471e-14,\n",
       "         1.03528297e-14,  1.17961196e-14],\n",
       "       [-1.15324417e-14, -1.33712486e-14, -1.55014890e-14,\n",
       "        -1.67643677e-14, -1.47104551e-14, -1.64313008e-14,\n",
       "        -1.16018306e-14, -1.40547296e-14, -1.42941214e-14,\n",
       "        -1.01585407e-14, -1.62092562e-14],\n",
       "       [-9.29811783e-15, -8.97545926e-15, -9.43689571e-15,\n",
       "        -6.73072709e-15, -7.61890551e-15, -3.92741395e-15,\n",
       "        -4.82947016e-15, -8.37871439e-15, -4.16333634e-15,\n",
       "        -9.21485110e-15, -4.20496971e-15],\n",
       "       [ 1.77635684e-14,  1.79578574e-14,  1.87627691e-14,\n",
       "         1.86378690e-14,  1.77913240e-14,  1.78711212e-14,\n",
       "         1.65284453e-14,  1.82631688e-14,  1.67817149e-14,\n",
       "         1.68337566e-14,  1.74964210e-14],\n",
       "       [ 8.83668139e-15,  9.56873469e-15,  8.09075029e-15,\n",
       "         1.10050857e-14,  1.07830411e-14,  1.41275880e-14,\n",
       "         1.31006317e-14,  9.92608773e-15,  1.37112544e-14,\n",
       "         1.02140518e-14,  1.40998324e-14],\n",
       "       [ 4.77395901e-15,  4.44089210e-15,  3.76088050e-15,\n",
       "         4.74620343e-15,  4.95437025e-15,  6.00908212e-15,\n",
       "         6.66133815e-15,  4.55191440e-15,  6.57807142e-15,\n",
       "         5.49560397e-15,  6.32827124e-15],\n",
       "       [-3.46944695e-16, -8.60422844e-16, -1.56038377e-15,\n",
       "        -1.27675648e-15, -6.66133815e-16, -2.22044605e-16,\n",
       "         8.32667268e-16, -9.74914593e-16,  6.10622664e-16,\n",
       "         6.24500451e-16,  0.00000000e+00]])"
      ]
     },
     "execution_count": 36,
     "metadata": {},
     "output_type": "execute_result"
    }
   ],
   "source": [
    "Xsdot=np.insert(Xs,0,np.ones(N),axis=1)\n",
    "Hs=Xsdot@inv(Xsdot.T@Xsdot)@Xsdot.T\n",
    "Hs-H"
   ]
  },
  {
   "cell_type": "markdown",
   "metadata": {},
   "source": [
    "And indeed, they are equal except for rounding errors. \n",
    "\n",
    "With standardization, the covariance matrix $\\mathbf S$ is equal to the correlation matrix $\\mathbf R$ calculated earlier."
   ]
  },
  {
   "cell_type": "code",
   "execution_count": 37,
   "metadata": {},
   "outputs": [
    {
     "data": {
      "text/plain": [
       "array([[1.        , 0.94605146],\n",
       "       [0.94605146, 1.        ]])"
      ]
     },
     "execution_count": 37,
     "metadata": {},
     "output_type": "execute_result"
    }
   ],
   "source": [
    "Ss=1/(N-1)*Xs.T@Xs\n",
    "Ss"
   ]
  },
  {
   "cell_type": "markdown",
   "metadata": {},
   "source": [
    "We may check how the Mahalanobis distances are affected by standardization."
   ]
  },
  {
   "cell_type": "code",
   "execution_count": 38,
   "metadata": {},
   "outputs": [
    {
     "data": {
      "text/plain": [
       "array([[-2.22044605e-16],\n",
       "       [-1.11022302e-16],\n",
       "       [-8.88178420e-16],\n",
       "       [-2.22044605e-16],\n",
       "       [ 2.22044605e-16],\n",
       "       [-2.44249065e-15],\n",
       "       [-1.11022302e-15],\n",
       "       [-3.33066907e-16],\n",
       "       [-1.55431223e-15],\n",
       "       [-1.77635684e-15],\n",
       "       [-1.55431223e-15]])"
      ]
     },
     "execution_count": 38,
     "metadata": {},
     "output_type": "execute_result"
    }
   ],
   "source": [
    "dMs=np.sqrt(np.array([np.float((Xs[i][:,np.newaxis]-Xs.mean(axis=0,keepdims=True).T).T@inv(Ss)@\\\n",
    "            (Xs[i][:,np.newaxis]-Xs.mean(axis=0,keepdims=True).T)) for i in range(N)]))[:,np.newaxis]\n",
    "dM-dMs"
   ]
  },
  {
   "cell_type": "markdown",
   "metadata": {},
   "source": [
    "As we can see, the Mahalanobis distances are not affected. That should not be a surprise because, in the definition of the Mahalanobis distance, the spread of the data is also counted. Just changing the scale of the spread will not affect the actual spread of the data, as can be seen below at the visualization of the transformation.\n",
    "\n",
    "We can use the *StandardScaler* of scikit-learn to obtain the same result. \n",
    "\n",
    "**Note:** *scikit learn uses the biased version of the standard deviation, but (for large N this should not be a problem, only for small samples, like in our case, will be different.*"
   ]
  },
  {
   "cell_type": "code",
   "execution_count": 39,
   "metadata": {},
   "outputs": [
    {
     "name": "stdout",
     "output_type": "stream",
     "text": [
      "Biased standard deviation of the features:\n",
      " [[ 8.69026243]\n",
      " [16.50895074]]\n"
     ]
    },
    {
     "data": {
      "text/plain": [
       "array([[0., 0.],\n",
       "       [0., 0.],\n",
       "       [0., 0.],\n",
       "       [0., 0.],\n",
       "       [0., 0.],\n",
       "       [0., 0.],\n",
       "       [0., 0.],\n",
       "       [0., 0.],\n",
       "       [0., 0.],\n",
       "       [0., 0.],\n",
       "       [0., 0.]])"
      ]
     },
     "execution_count": 39,
     "metadata": {},
     "output_type": "execute_result"
    }
   ],
   "source": [
    "from sklearn.preprocessing import StandardScaler\n",
    "Std=StandardScaler()\n",
    "Xstd=Std.fit_transform(X)\n",
    "\n",
    "sigmab_=X.std(axis=0,keepdims=True).T\n",
    "print(\"Biased standard deviation of the features:\\n\",sigmab_)\n",
    "Xsb=(X-mu_.T)/sigmab_.T\n",
    "\n",
    "Xstd-Xsb"
   ]
  },
  {
   "cell_type": "markdown",
   "metadata": {},
   "source": [
    "You may obtain the mean and standard deviation of the features with *mean_* and *scale_* attributes."
   ]
  },
  {
   "cell_type": "code",
   "execution_count": 40,
   "metadata": {},
   "outputs": [
    {
     "name": "stdout",
     "output_type": "stream",
     "text": [
      "Mean of the features:\n",
      " [ 62.45454545 195.        ]\n",
      "\n",
      "Standard deviation of the features:\n",
      " [ 8.69026243 16.50895074]\n"
     ]
    }
   ],
   "source": [
    "print(\"Mean of the features:\\n\",Std.mean_)\n",
    "print(\"\\nStandard deviation of the features:\\n\",Std.scale_)"
   ]
  },
  {
   "cell_type": "markdown",
   "metadata": {},
   "source": [
    "You may only center the data by setting the *with_std* parameter to False when instantiating the StandardScaler."
   ]
  },
  {
   "cell_type": "code",
   "execution_count": 41,
   "metadata": {},
   "outputs": [
    {
     "data": {
      "text/plain": [
       "array([[0., 0.],\n",
       "       [0., 0.],\n",
       "       [0., 0.],\n",
       "       [0., 0.],\n",
       "       [0., 0.],\n",
       "       [0., 0.],\n",
       "       [0., 0.],\n",
       "       [0., 0.],\n",
       "       [0., 0.],\n",
       "       [0., 0.],\n",
       "       [0., 0.]])"
      ]
     },
     "execution_count": 41,
     "metadata": {},
     "output_type": "execute_result"
    }
   ],
   "source": [
    "Center=StandardScaler(with_std=False)\n",
    "Xcenter=Center.fit_transform(X)\n",
    "Xcenter-Xc"
   ]
  },
  {
   "cell_type": "markdown",
   "metadata": {},
   "source": [
    "### Visualization of standardization\n",
    "\n",
    "Now, let's visualize this data transformation for the *Height* input of the *HeightWeight* dataset."
   ]
  },
  {
   "cell_type": "code",
   "execution_count": 42,
   "metadata": {},
   "outputs": [
    {
     "data": {
      "image/png": "[encoded data removed]",
      "text/plain": [
       "<Figure size 432x288 with 1 Axes>"
      ]
     },
     "metadata": {
      "needs_background": "light"
     },
     "output_type": "display_data"
    }
   ],
   "source": [
    "sns.distplot(dataHW['Height'], kde=True, rug=False,label='original')\n",
    "dataHWstd=pd.DataFrame(Std.fit_transform(np.array(dataHW['Height']).reshape(-1,1)),columns=['Height'])\n",
    "dataHWstd['Weight']=dataHW['Weight']\n",
    "sns.distplot(dataHWstd['Height'], kde=True, rug=False,label='standardized')\n",
    "plt.legend()\n",
    "plt.show()"
   ]
  },
  {
   "cell_type": "markdown",
   "metadata": {},
   "source": [
    "As can be seen from above, the standardized distribution is sharper because it has a unit variance while the original data had a variance greater than one.\n",
    "\n",
    "Let's check the joint distribution with the marginal distribution of the standardized data. Let's plot the estimated regression line, as well."
   ]
  },
  {
   "cell_type": "code",
   "execution_count": 43,
   "metadata": {},
   "outputs": [
    {
     "data": {
      "image/png": "[encoded data removed]",
      "text/plain": [
       "<Figure size 432x432 with 3 Axes>"
      ]
     },
     "metadata": {
      "needs_background": "light"
     },
     "output_type": "display_data"
    }
   ],
   "source": [
    "snsax=sns.jointplot(x=\"Height\", y=\"Weight\", marginal_kws=dict(bins=50,kde=True),s=10,data=dataHWstd)\n",
    "linregr=LinearRegression().fit(np.array(dataHWstd['Height']).reshape(-1, 1),dataHWstd['Weight'])\n",
    "snsax.ax_joint.plot([dataHWstd['Height'].min(),dataHWstd['Height'].max()],\\\n",
    "         [linregr.intercept_+linregr.coef_[0]*dataHWstd['Height'].min(),\\\n",
    "          linregr.intercept_+linregr.coef_[0]*dataHWstd['Height'].max()],'r-',lw=3)\n",
    "snsax.ax_joint.plot([dataHWstd['Height'].mean(),dataHWstd['Height'].mean()],\\\n",
    "                   [snsax.ax_joint.get_ylim()[0],dataHWstd['Weight'].mean()],\\\n",
    "                    c='purple',linestyle='dashed')\n",
    "snsax.ax_joint.plot([snsax.ax_joint.get_xlim()[0],dataHWstd['Height'].mean()],\\\n",
    "                   [dataHWstd['Weight'].mean(),dataHWstd['Weight'].mean()],\\\n",
    "                    c='purple',linestyle='dashed')\n",
    "snsax.ax_joint.set_xlabel(\"Standardized Height\",fontsize=12)\n",
    "snsax.ax_joint.set_ylabel(\"Weight\",fontsize=12)\n",
    "plt.show()"
   ]
  },
  {
   "cell_type": "markdown",
   "metadata": {},
   "source": [
    "Again, the scatter plot and the estimated regression line looks the same, except that now the input variable *Height* has mean zero and unit variance."
   ]
  },
  {
   "cell_type": "markdown",
   "metadata": {},
   "source": [
    "### Summary of OLS result for standardized data\n",
    "\n",
    "Finally, let's check the summary of the OLS results for the standardized data for the *Height* input of the *HeightWeight* dataset using the *statsmodels* library."
   ]
  },
  {
   "cell_type": "code",
   "execution_count": 44,
   "metadata": {},
   "outputs": [
    {
     "name": "stdout",
     "output_type": "stream",
     "text": [
      "             OLS Results for standerdized \"HeightWeight\" dataset              \n",
      "==============================================================================\n",
      "Dep. Variable:                 Weight   R-squared:                       0.253\n",
      "Model:                            OLS   Adj. R-squared:                  0.253\n",
      "Method:                 Least Squares   F-statistic:                     8461.\n",
      "Date:                Fri, 09 Oct 2020   Prob (F-statistic):               0.00\n",
      "Time:                        11:35:16   Log-Likelihood:                -93235.\n",
      "No. Observations:               25000   AIC:                         1.865e+05\n",
      "Df Residuals:                   24998   BIC:                         1.865e+05\n",
      "Df Model:                           1                                         \n",
      "Covariance Type:            nonrobust                                         \n",
      "==============================================================================\n",
      "                 coef    std err          t      P>|t|      [0.025      0.975]\n",
      "------------------------------------------------------------------------------\n",
      "Intercept    127.0794      0.064   1993.451      0.000     126.954     127.204\n",
      "Height         5.8637      0.064     91.981      0.000       5.739       5.989\n",
      "==============================================================================\n",
      "Omnibus:                        1.022   Durbin-Watson:                   1.994\n",
      "Prob(Omnibus):                  0.600   Jarque-Bera (JB):                1.027\n",
      "Skew:                          -0.016   Prob(JB):                        0.598\n",
      "Kurtosis:                       2.996   Cond. No.                         1.00\n",
      "==============================================================================\n",
      "\n",
      "Warnings:\n",
      "[1] Standard Errors assume that the covariance matrix of the errors is correctly specified.\n",
      "RMSE = 10.079516864371328\n"
     ]
    }
   ],
   "source": [
    "resultsStd = ols(formula = 'Weight ~ Height', data=dataHWstd).fit()\n",
    "print(resultsStd.summary(title='OLS Results for standerdized \"HeightWeight\" dataset'))\n",
    "print(\"RMSE =\",np.sqrt(resultsStd.mse_resid))"
   ]
  },
  {
   "cell_type": "markdown",
   "metadata": {},
   "source": [
    "We may also get the standard errors of the estimated coefficients by taking the diagonal of the weight variance-covariance matrix."
   ]
  },
  {
   "cell_type": "code",
   "execution_count": 45,
   "metadata": {
    "scrolled": true
   },
   "outputs": [
    {
     "data": {
      "text/plain": [
       "array([[0.06374846],\n",
       "       [0.06374846]])"
      ]
     },
     "execution_count": 45,
     "metadata": {},
     "output_type": "execute_result"
    }
   ],
   "source": [
    "X1std=np.array(dataHWstd[[\"Height\"]])\n",
    "X1stddot=np.insert(X1std,0,np.ones(X1std.shape[0]),axis=1)\n",
    "np.sqrt(np.diag(resultsStd.mse_resid*inv(X1stddot.T@X1stddot)))[:,np.newaxis]"
   ]
  },
  {
   "cell_type": "markdown",
   "metadata": {},
   "source": [
    "Let's create the linear transformation matrix (with scale equal to the inverse of the standard deviation of *Height*, and offset equal to minus the mean of the *Height* input variable)."
   ]
  },
  {
   "cell_type": "code",
   "execution_count": 46,
   "metadata": {},
   "outputs": [
    {
     "name": "stdout",
     "output_type": "stream",
     "text": [
      "[[  1.         -35.7549732 ]\n",
      " [  0.           0.52586168]]\n"
     ]
    }
   ],
   "source": [
    "Astd=np.zeros((X1std.shape[1]+1,X1std.shape[1]+1))\n",
    "np.fill_diagonal(Astd,1)\n",
    "Astd[0,1]=-np.array(dataHW.mean())[0]/np.array(dataHW.std(ddof=0))[0]\n",
    "Astd[1,1]=1/np.array(dataHW.std(ddof=0))[0]\n",
    "print(Astd)"
   ]
  },
  {
   "cell_type": "markdown",
   "metadata": {},
   "source": [
    "The new design matrix can be obtained also by multiplying the original design matrix from the right with the transformation matrix just created. This can be easily checked."
   ]
  },
  {
   "cell_type": "code",
   "execution_count": 47,
   "metadata": {},
   "outputs": [
    {
     "data": {
      "text/plain": [
       "2.711906648158698e-09"
      ]
     },
     "execution_count": 47,
     "metadata": {},
     "output_type": "execute_result"
    }
   ],
   "source": [
    "np.sum(np.abs(X1dot@Astd-X1stddot))"
   ]
  },
  {
   "cell_type": "markdown",
   "metadata": {},
   "source": [
    "Except for rounding errors, they are the same.\n",
    "\n",
    "Then we can obtain the new regression coefficient from the original ones using the formula derived in the book:"
   ]
  },
  {
   "cell_type": "code",
   "execution_count": 48,
   "metadata": {},
   "outputs": [
    {
     "data": {
      "text/plain": [
       "array([[127.07942116],\n",
       "       [  5.86366442]])"
      ]
     },
     "execution_count": 48,
     "metadata": {},
     "output_type": "execute_result"
    }
   ],
   "source": [
    "inv(Astd)@w_"
   ]
  },
  {
   "cell_type": "markdown",
   "metadata": {},
   "source": [
    "And indeed, these values match the values presented in the printout of the OLS results above.\n",
    "\n",
    "Using the formula derived in the book, we can also get the new standard errors using the weight covariance matrix obtained with the original data."
   ]
  },
  {
   "cell_type": "code",
   "execution_count": 49,
   "metadata": {},
   "outputs": [
    {
     "data": {
      "text/plain": [
       "array([[0.06374846],\n",
       "       [0.06374846]])"
      ]
     },
     "execution_count": 49,
     "metadata": {},
     "output_type": "execute_result"
    }
   ],
   "source": [
    "np.sqrt(np.diag(inv(Astd)@(results.mse_resid*inv(X1dot.T@X1dot))@(inv(Astd)).T))[:,np.newaxis]"
   ]
  },
  {
   "cell_type": "markdown",
   "metadata": {},
   "source": [
    "The generalized variance of the weight vector increases because the determinant of the linear transformation is greater than one for this particular dataset."
   ]
  },
  {
   "cell_type": "code",
   "execution_count": 50,
   "metadata": {},
   "outputs": [
    {
     "data": {
      "text/plain": [
       "3.6162374935681036"
      ]
     },
     "execution_count": 50,
     "metadata": {},
     "output_type": "execute_result"
    }
   ],
   "source": [
    "det(inv(Astd))**2"
   ]
  },
  {
   "cell_type": "markdown",
   "metadata": {},
   "source": [
    "In fact, the increase is provided by the product of the square of the scale factors as was derived in the book."
   ]
  },
  {
   "cell_type": "code",
   "execution_count": 51,
   "metadata": {},
   "outputs": [
    {
     "data": {
      "text/plain": [
       "3.616237493568103"
      ]
     },
     "execution_count": 51,
     "metadata": {},
     "output_type": "execute_result"
    }
   ],
   "source": [
    "1/(Astd[1,1])**2"
   ]
  },
  {
   "cell_type": "markdown",
   "metadata": {},
   "source": [
    "We can check this easily:"
   ]
  },
  {
   "cell_type": "code",
   "execution_count": 52,
   "metadata": {},
   "outputs": [
    {
     "data": {
      "text/plain": [
       "-1.194810599085598e-05"
      ]
     },
     "execution_count": 52,
     "metadata": {},
     "output_type": "execute_result"
    }
   ],
   "source": [
    "det(results.mse_resid*inv(X1dot.T@X1dot))-\\\n",
    "det(inv(Astd)@(results.mse_resid*inv(X1dot.T@X1dot))@(inv(Astd)).T)"
   ]
  },
  {
   "cell_type": "markdown",
   "metadata": {},
   "source": [
    "**Note:** *While standardization does not have any effect on the linear regression model (except that the estimated regression coefficients are different due to different scales), there are machine learning algorithms that perform better when the data is standardized.*"
   ]
  },
  {
   "cell_type": "markdown",
   "metadata": {},
   "source": [
    "## 4. Min-Max scaling <a name=\"MinMaxScaling\"></a>\n",
    "\n",
    "With min-max scaling each feature is transformed such that their values will be in the range of $[0,1]$.\n",
    "\n",
    "### Properties of min-max scaling\n",
    "\n",
    "The input matrix can be min-max scaled in the following vectorized form: $\\mathbf{X}_s=\\frac{\\mathbf{X}-\\mathbf x_{\\min}^\\top}{(\\mathbf x_{\\max}-\\mathbf x_{\\min})^\\top}$.\n",
    "\n",
    "Let's create the min-max scaled input matrix for the *BloodPressure2* dataset and print out. We should also print out the minimum and maximum values of each feature."
   ]
  },
  {
   "cell_type": "code",
   "execution_count": 53,
   "metadata": {},
   "outputs": [
    {
     "name": "stdout",
     "output_type": "stream",
     "text": [
      "[[0.21428571 0.11320755]\n",
      " [0.46428571 0.32075472]\n",
      " [0.75       0.50943396]\n",
      " [0.96428571 0.83018868]\n",
      " [0.64285714 0.54716981]\n",
      " [1.         1.        ]\n",
      " [0.28571429 0.39622642]\n",
      " [0.53571429 0.39622642]\n",
      " [0.67857143 0.75471698]\n",
      " [0.         0.        ]\n",
      " [0.92857143 0.94339623]]\n",
      "--------- Min --------------\n",
      " [0. 0.]\n",
      "--------- Max --------------\n",
      " [1. 1.]\n"
     ]
    }
   ],
   "source": [
    "xmin_=X.min(axis=0,keepdims=True).T\n",
    "xmax_=X.max(axis=0,keepdims=True).T\n",
    "Xmm=(X-xmin_.T)/(xmax_-xmin_).T\n",
    "print(Xmm)\n",
    "print(\"--------- Min --------------\\n\",Xmm.min(axis=0))\n",
    "print(\"--------- Max --------------\\n\",Xmm.max(axis=0))"
   ]
  },
  {
   "cell_type": "markdown",
   "metadata": {},
   "source": [
    "And indeed, the min-max scaled input matrix has only values within the $[0,1]$ range.\n",
    "\n",
    "Let's check the hat matrix."
   ]
  },
  {
   "cell_type": "code",
   "execution_count": 54,
   "metadata": {},
   "outputs": [
    {
     "data": {
      "text/plain": [
       "array([[-1.18238752e-14, -1.32949207e-14, -1.44328993e-14,\n",
       "        -1.60149671e-14, -1.45022883e-14, -1.64313008e-14,\n",
       "        -1.26842981e-14, -1.37945211e-14, -1.46584134e-14,\n",
       "        -1.09356968e-14, -1.60566005e-14],\n",
       "       [-8.71525074e-15, -9.71445147e-15, -1.08801856e-14,\n",
       "        -1.32394096e-14, -1.12965193e-14, -1.40165657e-14,\n",
       "        -1.04196166e-14, -1.06303855e-14, -1.28161370e-14,\n",
       "        -8.02136135e-15, -1.36869682e-14],\n",
       "       [ 1.40720768e-14,  1.48214774e-14,  1.56541446e-14,\n",
       "         1.39332990e-14,  1.39610545e-14,  1.20181642e-14,\n",
       "         1.10189635e-14,  1.49047441e-14,  1.12965193e-14,\n",
       "         1.34753320e-14,  1.15450184e-14],\n",
       "       [-4.32466563e-15, -5.68989300e-15, -6.63358257e-15,\n",
       "        -9.43689571e-15, -7.46624984e-15, -1.08246745e-14,\n",
       "        -7.21644966e-15, -6.24500451e-15, -9.81853487e-15,\n",
       "        -4.13558077e-15, -1.02973186e-14],\n",
       "       [ 1.08246745e-14,  1.12687637e-14,  1.19348975e-14,\n",
       "         1.25732758e-14,  1.17544863e-14,  1.24483757e-14,\n",
       "         1.08628384e-14,  1.16157084e-14,  1.18655086e-14,\n",
       "         1.03181352e-14,  1.23095978e-14],\n",
       "       [-1.13520304e-14, -1.29098121e-14, -1.44884105e-14,\n",
       "        -1.60704783e-14, -1.43635104e-14, -1.63202785e-14,\n",
       "        -1.21846977e-14, -1.35187000e-14, -1.45994328e-14,\n",
       "        -1.03944631e-14, -1.61537450e-14],\n",
       "       [-8.86790641e-15, -8.70072243e-15, -9.07607323e-15,\n",
       "        -6.88338275e-15, -7.63625274e-15, -4.62130334e-15,\n",
       "        -5.16253706e-15, -8.07340306e-15, -4.88498131e-15,\n",
       "        -8.88178420e-15, -5.00988140e-15],\n",
       "       [ 1.75415238e-14,  1.76525461e-14,  1.81799020e-14,\n",
       "         1.85407245e-14,  1.77080572e-14,  1.83603133e-14,\n",
       "         1.71529457e-14,  1.79301018e-14,  1.74027459e-14,\n",
       "         1.69031455e-14,  1.79778067e-14],\n",
       "       [ 9.34669009e-15,  1.00752739e-14,  9.02056208e-15,\n",
       "         1.13659082e-14,  1.09842690e-14,  1.37112544e-14,\n",
       "         1.26010313e-14,  1.04638520e-14,  1.32116540e-14,\n",
       "         1.03667075e-14,  1.36002321e-14],\n",
       "       [ 4.38538095e-15,  3.96904731e-15,  3.08086889e-15,\n",
       "         4.46864767e-15,  4.64212002e-15,  6.14786000e-15,\n",
       "         6.93889390e-15,  4.13558077e-15,  6.82787160e-15,\n",
       "         5.38458167e-15,  6.45317133e-15],\n",
       "       [ 9.71445147e-17, -1.76941795e-16, -3.64291930e-16,\n",
       "        -4.71844785e-16, -1.24900090e-16,  0.00000000e+00,\n",
       "         4.57966998e-16, -2.57606436e-16,  4.44089210e-16,\n",
       "         6.52256027e-16,  1.66533454e-16]])"
      ]
     },
     "execution_count": 54,
     "metadata": {},
     "output_type": "execute_result"
    }
   ],
   "source": [
    "Xmmdot=np.insert(Xmm,0,np.ones(N),axis=1)\n",
    "Hmm=Xmmdot@inv(Xmmdot.T@Xmmdot)@Xmmdot.T\n",
    "Hmm-H"
   ]
  },
  {
   "cell_type": "markdown",
   "metadata": {},
   "source": [
    "The Hat matrix is not changed (nor the leverages) as was derived in the book, thus the prediction $\\hat y^{(i)}$ is the same after the min-max scaling.\n",
    "\n",
    "Let's check the scatter matrix of the input."
   ]
  },
  {
   "cell_type": "code",
   "execution_count": 55,
   "metadata": {},
   "outputs": [
    {
     "data": {
      "text/plain": [
       "array([[0.48584184, 0.4421159 ],\n",
       "       [0.4421159 , 0.41374155]])"
      ]
     },
     "execution_count": 55,
     "metadata": {},
     "output_type": "execute_result"
    }
   ],
   "source": [
    "Smm=1/(N-1)*Xmm.T@Xmm\n",
    "Smm"
   ]
  },
  {
   "cell_type": "markdown",
   "metadata": {},
   "source": [
    "The scatter matrix is changed. Let's see the Mahalanobis distances."
   ]
  },
  {
   "cell_type": "code",
   "execution_count": 56,
   "metadata": {},
   "outputs": [
    {
     "data": {
      "text/plain": [
       "array([[3.96506221e-01],\n",
       "       [2.52806954e-02],\n",
       "       [1.32259853e-01],\n",
       "       [6.09211703e-01],\n",
       "       [5.53607699e-02],\n",
       "       [3.96555707e-01],\n",
       "       [3.26278919e-01],\n",
       "       [7.02761210e-04],\n",
       "       [1.54592015e-03],\n",
       "       [9.81682900e-01],\n",
       "       [2.60812219e-01]])"
      ]
     },
     "execution_count": 56,
     "metadata": {},
     "output_type": "execute_result"
    }
   ],
   "source": [
    "dMmm=np.sqrt(np.array([np.float((Xmm[i][:,np.newaxis]-Xmm.mean(axis=0,keepdims=True).T).T@inv(Smm)@\\\n",
    "        (Xmm[i][:,np.newaxis]-Xmm.mean(axis=0,keepdims=True).T)) for i in range(N)]))[:,np.newaxis]\n",
    "dM-dMmm"
   ]
  },
  {
   "cell_type": "markdown",
   "metadata": {},
   "source": [
    "As can be seen, the Mahalanobis distances are not preserved any more with min-max scaling.\n",
    "\n",
    "We can get the same result with *MinMaxScaler.* of the scikit-learn library."
   ]
  },
  {
   "cell_type": "code",
   "execution_count": 57,
   "metadata": {},
   "outputs": [
    {
     "data": {
      "text/plain": [
       "array([[-8.32667268e-17, -2.77555756e-17],\n",
       "       [ 1.11022302e-16, -2.77555756e-16],\n",
       "       [ 0.00000000e+00,  1.11022302e-16],\n",
       "       [ 1.11022302e-16, -2.22044605e-16],\n",
       "       [-1.11022302e-16,  1.11022302e-16],\n",
       "       [ 0.00000000e+00,  0.00000000e+00],\n",
       "       [-1.11022302e-16, -3.33066907e-16],\n",
       "       [-1.11022302e-16, -3.33066907e-16],\n",
       "       [-2.22044605e-16, -2.22044605e-16],\n",
       "       [ 0.00000000e+00,  0.00000000e+00],\n",
       "       [-2.22044605e-16,  2.22044605e-16]])"
      ]
     },
     "execution_count": 57,
     "metadata": {},
     "output_type": "execute_result"
    }
   ],
   "source": [
    "from sklearn.preprocessing import MinMaxScaler\n",
    "MinMax=MinMaxScaler()\n",
    "Xmmscale=MinMax.fit_transform(X)\n",
    "\n",
    "Xmmscale-Xmm"
   ]
  },
  {
   "cell_type": "markdown",
   "metadata": {},
   "source": [
    "### Visualization of min-max scaling\n",
    "\n",
    "Now, let's visualize this data transformation for the *Height* input of the *HeightWeight* dataset."
   ]
  },
  {
   "cell_type": "code",
   "execution_count": 58,
   "metadata": {},
   "outputs": [
    {
     "data": {
      "image/png": "[encoded data removed]",
      "text/plain": [
       "<Figure size 432x288 with 1 Axes>"
      ]
     },
     "metadata": {
      "needs_background": "light"
     },
     "output_type": "display_data"
    }
   ],
   "source": [
    "sns.distplot(dataHW['Height'], kde=True, rug=False,label='original')\n",
    "dataHWmm=pd.DataFrame(MinMax.fit_transform(np.array(dataHW['Height']).reshape(-1,1)),\\\n",
    "                      columns=['Height'])\n",
    "dataHWmm['Weight']=dataHW['Weight']\n",
    "sns.distplot(dataHWmm['Height'], kde=True, rug=False,label='min-max scaled')\n",
    "plt.legend()\n",
    "plt.show()"
   ]
  },
  {
   "cell_type": "markdown",
   "metadata": {},
   "source": [
    "As can be seen from above, the distribution of the *Height* input variable is squeezed into the range of [0,1] providing a very sharp distribution.\n",
    "\n",
    "Let's check the joint distribution with the marginal distribution of the min-max scaled data. Let's plot the estimated regression line, as well."
   ]
  },
  {
   "cell_type": "code",
   "execution_count": 59,
   "metadata": {},
   "outputs": [
    {
     "data": {
      "image/png": "[encoded data removed]",
      "text/plain": [
       "<Figure size 432x432 with 3 Axes>"
      ]
     },
     "metadata": {
      "needs_background": "light"
     },
     "output_type": "display_data"
    }
   ],
   "source": [
    "snsax=sns.jointplot(x=\"Height\", y=\"Weight\", marginal_kws=dict(bins=50,kde=True),s=10,data=dataHWmm)\n",
    "linregr=LinearRegression().fit(np.array(dataHWmm['Height']).reshape(-1, 1),dataHWmm['Weight'])\n",
    "snsax.ax_joint.plot([dataHWmm['Height'].min(),dataHWmm['Height'].max()],\\\n",
    "         [linregr.intercept_+linregr.coef_[0]*dataHWmm['Height'].min(),\\\n",
    "          linregr.intercept_+linregr.coef_[0]*dataHWmm['Height'].max()],'r-',lw=3)\n",
    "snsax.ax_joint.plot([dataHWmm['Height'].mean(),dataHWmm['Height'].mean()],\\\n",
    "                   [snsax.ax_joint.get_ylim()[0],dataHWmm['Weight'].mean()],\\\n",
    "                    c='purple',linestyle='dashed')\n",
    "snsax.ax_joint.plot([snsax.ax_joint.get_xlim()[0],dataHWmm['Height'].mean()],\\\n",
    "                   [dataHWmm['Weight'].mean(),dataHWmm['Weight'].mean()],\\\n",
    "                    c='purple',linestyle='dashed')\n",
    "snsax.ax_joint.set_xlabel(\"Min-Max scaled Height\",fontsize=12)\n",
    "snsax.ax_joint.set_ylabel(\"Weight\",fontsize=12)\n",
    "plt.show()"
   ]
  },
  {
   "cell_type": "markdown",
   "metadata": {},
   "source": [
    "Again, the scatter plot and the estimated regression line looks the same, except that now the input variable *Height* has values only between 0 and 1."
   ]
  },
  {
   "cell_type": "markdown",
   "metadata": {},
   "source": [
    "### Summary of OLS result for min-max scaling\n",
    "\n",
    "Finally, let's check the summary of the OLS results for the min-max scaled data of the *HeightWeight* dataset."
   ]
  },
  {
   "cell_type": "code",
   "execution_count": 60,
   "metadata": {},
   "outputs": [
    {
     "name": "stdout",
     "output_type": "stream",
     "text": [
      "            OLS Results for min-max scaled \"HeightWeight\" dataset             \n",
      "==============================================================================\n",
      "Dep. Variable:                 Weight   R-squared:                       0.253\n",
      "Model:                            OLS   Adj. R-squared:                  0.253\n",
      "Method:                 Least Squares   F-statistic:                     8461.\n",
      "Date:                Fri, 09 Oct 2020   Prob (F-statistic):               0.00\n",
      "Time:                        11:35:19   Log-Likelihood:                -93235.\n",
      "No. Observations:               25000   AIC:                         1.865e+05\n",
      "Df Residuals:                   24998   BIC:                         1.865e+05\n",
      "Df Model:                           1                                         \n",
      "Covariance Type:            nonrobust                                         \n",
      "==============================================================================\n",
      "                 coef    std err          t      P>|t|      [0.025      0.975]\n",
      "------------------------------------------------------------------------------\n",
      "Intercept    103.2912      0.266    387.785      0.000     102.769     103.813\n",
      "Height        45.8650      0.499     91.981      0.000      44.888      46.842\n",
      "==============================================================================\n",
      "Omnibus:                        1.022   Durbin-Watson:                   1.994\n",
      "Prob(Omnibus):                  0.600   Jarque-Bera (JB):                1.027\n",
      "Skew:                          -0.016   Prob(JB):                        0.598\n",
      "Kurtosis:                       2.996   Cond. No.                         9.95\n",
      "==============================================================================\n",
      "\n",
      "Warnings:\n",
      "[1] Standard Errors assume that the covariance matrix of the errors is correctly specified.\n",
      "\n",
      "RMSE = 10.07951686437133\n"
     ]
    }
   ],
   "source": [
    "resultsMM = ols(formula = 'Weight ~ Height', data=dataHWmm).fit()\n",
    "print(resultsMM.summary(title='OLS Results for min-max scaled \"HeightWeight\" dataset'))\n",
    "print(\"\\nRMSE =\",np.sqrt(resultsMM.mse_resid))"
   ]
  },
  {
   "cell_type": "markdown",
   "metadata": {},
   "source": [
    "We may also get the standard errors of the estimated coefficients by taking the diagonal of the weight variance-covariance matrix."
   ]
  },
  {
   "cell_type": "code",
   "execution_count": 61,
   "metadata": {},
   "outputs": [
    {
     "data": {
      "text/plain": [
       "array([[0.26636167],\n",
       "       [0.49863397]])"
      ]
     },
     "execution_count": 61,
     "metadata": {},
     "output_type": "execute_result"
    }
   ],
   "source": [
    "X1mm=np.array(dataHWmm[[\"Height\"]])\n",
    "X1mmdot=np.insert(X1mm,0,np.ones(X1mm.shape[0]),axis=1)\n",
    "np.sqrt(np.diag(resultsMM.mse_resid*inv(X1mmdot.T@X1mmdot)))[:,np.newaxis]"
   ]
  },
  {
   "cell_type": "markdown",
   "metadata": {},
   "source": [
    "Let's create the linear transformation matrix (with scale equal to the inverse of the difference maximum-minimum of *Height*, and offset equal to minus the minimum of the *Height* input variable)."
   ]
  },
  {
   "cell_type": "code",
   "execution_count": 62,
   "metadata": {},
   "outputs": [
    {
     "name": "stdout",
     "output_type": "stream",
     "text": [
      "[[ 1.         -4.05247929]\n",
      " [ 0.          0.06722942]]\n"
     ]
    }
   ],
   "source": [
    "Amm=np.zeros((X1mm.shape[1]+1,X1mm.shape[1]+1))\n",
    "np.fill_diagonal(Amm,1)\n",
    "Amm[0,1]=-np.array(dataHW.min())[0]/(np.array(dataHW.max())[0]-np.array(dataHW.min())[0])\n",
    "Amm[1,1]=1/(np.array(dataHW.max())[0]-np.array(dataHW.min())[0])\n",
    "print(Amm)"
   ]
  },
  {
   "cell_type": "markdown",
   "metadata": {},
   "source": [
    "The new design matrix can be obtained also by multiplying the original design matrix from the right with the transformation matrix just created. This can be easily checked."
   ]
  },
  {
   "cell_type": "code",
   "execution_count": 63,
   "metadata": {},
   "outputs": [
    {
     "data": {
      "text/plain": [
       "0.0"
      ]
     },
     "execution_count": 63,
     "metadata": {},
     "output_type": "execute_result"
    }
   ],
   "source": [
    "np.sum(np.abs(X1dot@Amm-X1mmdot))"
   ]
  },
  {
   "cell_type": "markdown",
   "metadata": {},
   "source": [
    "And indeed, they are the same.\n",
    "\n",
    "Then we can obtain the new regression coefficient from the original ones using the formula derived in the book:"
   ]
  },
  {
   "cell_type": "code",
   "execution_count": 64,
   "metadata": {},
   "outputs": [
    {
     "data": {
      "text/plain": [
       "array([[103.29116016],\n",
       "       [ 45.86498538]])"
      ]
     },
     "execution_count": 64,
     "metadata": {},
     "output_type": "execute_result"
    }
   ],
   "source": [
    "inv(Amm)@w_"
   ]
  },
  {
   "cell_type": "markdown",
   "metadata": {},
   "source": [
    "And indeed, these values match the values presented in the printout of the OLS results above.\n",
    "\n",
    "Using the formula derived in the book, we can also get the new standard errors using the weight covariance matrix obtained with the original data."
   ]
  },
  {
   "cell_type": "code",
   "execution_count": 65,
   "metadata": {},
   "outputs": [
    {
     "data": {
      "text/plain": [
       "array([[0.26636167],\n",
       "       [0.49863397]])"
      ]
     },
     "execution_count": 65,
     "metadata": {},
     "output_type": "execute_result"
    }
   ],
   "source": [
    "np.sqrt(np.diag(inv(Amm)@(results.mse_resid*inv(X1dot.T@X1dot))@(inv(Amm)).T))[:,np.newaxis]"
   ]
  },
  {
   "cell_type": "markdown",
   "metadata": {},
   "source": [
    "The generalized variance of the weight vector increases significantly because the determinant of the linear transformation is much greater than one for this particular dataset."
   ]
  },
  {
   "cell_type": "code",
   "execution_count": 66,
   "metadata": {},
   "outputs": [
    {
     "data": {
      "text/plain": [
       "221.24896531359994"
      ]
     },
     "execution_count": 66,
     "metadata": {},
     "output_type": "execute_result"
    }
   ],
   "source": [
    "det(inv(Amm))**2"
   ]
  },
  {
   "cell_type": "markdown",
   "metadata": {},
   "source": [
    "In fact, the increase is provided by the product of the square of the scale factors as was derived in the book."
   ]
  },
  {
   "cell_type": "code",
   "execution_count": 67,
   "metadata": {},
   "outputs": [
    {
     "data": {
      "text/plain": [
       "221.24896531360002"
      ]
     },
     "execution_count": 67,
     "metadata": {},
     "output_type": "execute_result"
    }
   ],
   "source": [
    "1/(Amm[1,1])**2"
   ]
  },
  {
   "cell_type": "markdown",
   "metadata": {},
   "source": [
    "**Note:* *Although min-max scaling does not have any effect on the estimated regression line and provides the same prediction, there are machine learning algorithms that perform much better if all the inputs are scaled into the range of [0,1].*"
   ]
  },
  {
   "cell_type": "markdown",
   "metadata": {},
   "source": [
    "## 5. Max-Abs scaling <a name=\"MaxAbsScaling\"></a>\n",
    "\n",
    "With max-abs scaling, each feature is transformed such that their absolute values will be less or equal to 1. If the original feature has also negative values with amplitude close to the max value, then the feature will be translated into the range of $[-1,+1$.\n",
    "\n",
    "### Properties of max-abs scaling\n",
    "\n",
    "The input matrix can be max-abs scaled in the following vectorized form: $\\mathbf X_r=\\frac{\\mathbf{X}}{|\\left \\{ \\mathbf x_j \\right \\}_{\\max}|^\\top}$.\n",
    "\n",
    "Let's create the max-abs scaled input matrix for the *BloodPressure2* dataset and print out. We should also print out the minimum and maximum values of each feature."
   ]
  },
  {
   "cell_type": "code",
   "execution_count": 68,
   "metadata": {},
   "outputs": [
    {
     "name": "stdout",
     "output_type": "stream",
     "text": [
      "[[0.21428571 0.11320755]\n",
      " [0.46428571 0.32075472]\n",
      " [0.75       0.50943396]\n",
      " [0.96428571 0.83018868]\n",
      " [0.64285714 0.54716981]\n",
      " [1.         1.        ]\n",
      " [0.28571429 0.39622642]\n",
      " [0.53571429 0.39622642]\n",
      " [0.67857143 0.75471698]\n",
      " [0.         0.        ]\n",
      " [0.92857143 0.94339623]]\n",
      "--------- Min --------------\n",
      " [0.62162162 0.75909091]\n",
      "--------- Max --------------\n",
      " [1. 1.]\n"
     ]
    }
   ],
   "source": [
    "xmax_=X.max(axis=0,keepdims=True).T\n",
    "Xma=(X)/(np.abs(xmax_)).T\n",
    "print(Xmm)\n",
    "print(\"--------- Min --------------\\n\",Xma.min(axis=0))\n",
    "print(\"--------- Max --------------\\n\",Xma.max(axis=0))"
   ]
  },
  {
   "cell_type": "markdown",
   "metadata": {},
   "source": [
    "Because the *Height* input variable has only positive values, the max-abs scaled input matrix has only values within the $[0.6,1]$ range.\n",
    "\n",
    "Let's check the hat matrix."
   ]
  },
  {
   "cell_type": "code",
   "execution_count": 69,
   "metadata": {},
   "outputs": [
    {
     "data": {
      "text/plain": [
       "array([[ 1.30296825e+00,  1.41589844e+00,  2.22417546e+00,\n",
       "         3.21065031e-01,  4.02273722e-01, -1.62497571e+00,\n",
       "        -1.79669697e+00,  1.22175956e+00, -2.07204454e+00,\n",
       "         3.00552346e-01, -1.69497559e+00],\n",
       "       [ 1.01550199e+00,  1.15507152e+00,  1.87947955e+00,\n",
       "         3.35793923e-01,  3.44647384e-01, -1.27620090e+00,\n",
       "        -1.54943765e+00,  1.00664853e+00, -1.70671410e+00,\n",
       "         1.42670972e-01, -1.34746124e+00],\n",
       "       [ 7.69624897e-01,  9.80326386e-01,  1.72157837e+00,\n",
       "         4.28631598e-01,  3.24546444e-01, -9.87013441e-01,\n",
       "        -1.47780652e+00,  8.73710052e-01, -1.48033770e+00,\n",
       "        -7.82434187e-02, -1.07501666e+00],\n",
       "       [ 2.79849935e-01,  3.93584535e-01,  7.31126920e-01,\n",
       "         2.17464877e-01,  1.40421339e-01, -3.65905055e-01,\n",
       "        -6.44736614e-01,  3.56893474e-01, -6.04384136e-01,\n",
       "        -9.43835103e-02, -4.09931765e-01],\n",
       "       [ 6.77001329e-01,  7.70047682e-01,  1.25298637e+00,\n",
       "         2.23862615e-01,  2.29764922e-01, -8.50800597e-01,\n",
       "        -1.03295843e+00,  6.71099022e-01, -1.13780940e+00,\n",
       "         9.51139815e-02, -8.98307492e-01],\n",
       "       [-1.24761312e-14, -1.05158937e-14, -2.96984659e-15,\n",
       "        -1.71807013e-14, -1.83603133e-14, -3.22519789e-14,\n",
       "        -3.65124597e-14, -1.20927574e-14, -3.73867604e-14,\n",
       "        -2.11497486e-14, -3.33066907e-14],\n",
       "       [ 8.39700107e-01,  7.72629263e-01,  1.03729811e+00,\n",
       "        -2.51926257e-02,  1.74815065e-01, -1.02081333e+00,\n",
       "        -7.53333179e-01,  6.39692416e-01, -1.08627772e+00,\n",
       "         4.42094408e-01, -1.02061252e+00],\n",
       "       [ 9.05816855e-01,  1.03943529e+00,  1.70231601e+00,\n",
       "         3.14667293e-01,  3.12930138e-01, -1.14008017e+00,\n",
       "        -1.40847515e+00,  9.07554010e-01, -1.53861927e+00,\n",
       "         1.11054854e-01, -1.20659986e+00],\n",
       "       [ 3.32863575e-01,  2.80529884e-01,  3.38275122e-01,\n",
       "        -5.27169940e-02,  5.37542363e-02, -3.99797060e-01,\n",
       "        -2.24148858e-01,  2.26392345e-01, -3.84757628e-01,\n",
       "         2.20980797e-01, -3.91375419e-01],\n",
       "       [ 1.43916021e+00,  1.47500734e+00,  2.20491311e+00,\n",
       "         2.07100725e-01,  3.90657416e-01, -1.77804244e+00,\n",
       "        -1.72736559e+00,  1.25560352e+00, -2.13032611e+00,\n",
       "         4.89850618e-01, -1.82655879e+00],\n",
       "       [ 7.75412288e-02,  6.76696000e-02,  8.53713787e-02,\n",
       "        -8.43073578e-03,  1.39225718e-02, -9.35714845e-02,\n",
       "        -5.89260219e-02,  5.51879212e-02, -9.37610082e-02,\n",
       "         4.73577714e-02, -9.23612214e-02]])"
      ]
     },
     "execution_count": 69,
     "metadata": {},
     "output_type": "execute_result"
    }
   ],
   "source": [
    "Xmadot=np.insert(Xma,0,np.ones(N),axis=1)\n",
    "Hma=Xmmdot@inv(Xmadot.T@Xmadot)@Xmadot.T\n",
    "Hma-H"
   ]
  },
  {
   "cell_type": "markdown",
   "metadata": {},
   "source": [
    "The Hat matrix is not changed (nor the leverages), thus the prediction is the same after the max-abs scaling."
   ]
  },
  {
   "cell_type": "code",
   "execution_count": 70,
   "metadata": {},
   "outputs": [
    {
     "data": {
      "text/plain": [
       "array([[0.79870343, 0.8320516 ],\n",
       "       [0.8320516 , 0.87039876]])"
      ]
     },
     "execution_count": 70,
     "metadata": {},
     "output_type": "execute_result"
    }
   ],
   "source": [
    "Sma=1/(N-1)*Xma.T@Xma\n",
    "Sma"
   ]
  },
  {
   "cell_type": "markdown",
   "metadata": {},
   "source": [
    "The scatter matrix is changed. Let's see the Mahalanobis distances."
   ]
  },
  {
   "cell_type": "code",
   "execution_count": 71,
   "metadata": {},
   "outputs": [
    {
     "data": {
      "text/plain": [
       "array([[4.80588983e-01],\n",
       "       [8.77387001e-01],\n",
       "       [5.65483028e-01],\n",
       "       [4.04806309e-05],\n",
       "       [7.18148950e-02],\n",
       "       [6.43267804e-01],\n",
       "       [2.72648250e-01],\n",
       "       [6.07752868e-01],\n",
       "       [1.03872345e+00],\n",
       "       [7.13326551e-02],\n",
       "       [7.67034284e-01]])"
      ]
     },
     "execution_count": 71,
     "metadata": {},
     "output_type": "execute_result"
    }
   ],
   "source": [
    "dMma=np.sqrt(np.array([np.float((Xma[i][:,np.newaxis]-Xma.mean(axis=0,keepdims=True).T).T@inv(Sma)@\\\n",
    "        (Xma[i][:,np.newaxis]-Xma.mean(axis=0,keepdims=True).T)) for i in range(N)]))[:,np.newaxis]\n",
    "dM-dMma"
   ]
  },
  {
   "cell_type": "markdown",
   "metadata": {},
   "source": [
    "The Mahalanobis distances are not preserved with max-abs scaling.\n",
    "\n",
    "We can also get the same result with *MaxAbsScaler* of scikit-learn library."
   ]
  },
  {
   "cell_type": "code",
   "execution_count": 72,
   "metadata": {},
   "outputs": [
    {
     "data": {
      "text/plain": [
       "array([[0., 0.],\n",
       "       [0., 0.],\n",
       "       [0., 0.],\n",
       "       [0., 0.],\n",
       "       [0., 0.],\n",
       "       [0., 0.],\n",
       "       [0., 0.],\n",
       "       [0., 0.],\n",
       "       [0., 0.],\n",
       "       [0., 0.],\n",
       "       [0., 0.]])"
      ]
     },
     "execution_count": 72,
     "metadata": {},
     "output_type": "execute_result"
    }
   ],
   "source": [
    "from sklearn.preprocessing import MaxAbsScaler\n",
    "MaxAbs=MaxAbsScaler()\n",
    "Xmascale=MaxAbs.fit_transform(X)\n",
    "\n",
    "Xmascale-Xma"
   ]
  },
  {
   "cell_type": "markdown",
   "metadata": {},
   "source": [
    "### Visualization of max-abs scaling\n",
    "\n",
    "Now, let's visualize this data transformation for the *Height* input of the *HeightWeight* dataset."
   ]
  },
  {
   "cell_type": "code",
   "execution_count": 73,
   "metadata": {},
   "outputs": [
    {
     "data": {
      "image/png": "[encoded data removed]",
      "text/plain": [
       "<Figure size 432x288 with 1 Axes>"
      ]
     },
     "metadata": {
      "needs_background": "light"
     },
     "output_type": "display_data"
    }
   ],
   "source": [
    "sns.distplot(dataHW['Height'], kde=True, rug=False,label='original')\n",
    "dataHWma=pd.DataFrame(MaxAbs.fit_transform(np.array(dataHW['Height']).reshape(-1,1)),\\\n",
    "                      columns=['Height'])\n",
    "dataHWma['Weight']=dataHW['Weight']\n",
    "sns.distplot(dataHWma['Height'], kde=True, rug=False,label='max-abs scaled')\n",
    "plt.legend()\n",
    "plt.show()"
   ]
  },
  {
   "cell_type": "markdown",
   "metadata": {},
   "source": [
    "As can be seen from above, the distribution of the *Height* input variable is squeezed into the range of [0.6,1] providing a very sharp distribution, even sharper than what we obtained with min-max scaling.\n",
    "\n",
    "Let's check the joint distribution with the marginal distribution of the max-abs scaled data. Let's plot the estimated regression line, as well."
   ]
  },
  {
   "cell_type": "code",
   "execution_count": 74,
   "metadata": {},
   "outputs": [
    {
     "data": {
      "image/png": "[encoded data removed]",
      "text/plain": [
       "<Figure size 432x432 with 3 Axes>"
      ]
     },
     "metadata": {
      "needs_background": "light"
     },
     "output_type": "display_data"
    }
   ],
   "source": [
    "snsax=sns.jointplot(x=\"Height\", y=\"Weight\", marginal_kws=dict(bins=50,kde=True),s=10,data=dataHWma)\n",
    "linregr=LinearRegression().fit(np.array(dataHWma['Height']).reshape(-1, 1),dataHWma['Weight'])\n",
    "snsax.ax_joint.plot([dataHWma['Height'].min(),dataHWma['Height'].max()],\\\n",
    "         [linregr.intercept_+linregr.coef_[0]*dataHWma['Height'].min(),\\\n",
    "          linregr.intercept_+linregr.coef_[0]*dataHWma['Height'].max()],'r-',lw=3)\n",
    "snsax.ax_joint.plot([dataHWma['Height'].mean(),dataHWma['Height'].mean()],\\\n",
    "                   [snsax.ax_joint.get_ylim()[0],dataHWma['Weight'].mean()],\\\n",
    "                    c='purple',linestyle='dashed')\n",
    "snsax.ax_joint.plot([snsax.ax_joint.get_xlim()[0],dataHWma['Height'].mean()],\\\n",
    "                   [dataHWma['Weight'].mean(),dataHWma['Weight'].mean()],\\\n",
    "                    c='purple',linestyle='dashed')\n",
    "snsax.ax_joint.set_xlabel(\"MaxAbs scaled Height\",fontsize=12)\n",
    "snsax.ax_joint.set_ylabel(\"Weight\",fontsize=12)\n",
    "plt.show()"
   ]
  },
  {
   "cell_type": "markdown",
   "metadata": {},
   "source": [
    "As can be seen from the above scatter plot the estimated regression line is the same relative to the scatter plot. As it can be seen, now the input is squezzed into the range of [0.6,1]."
   ]
  },
  {
   "cell_type": "markdown",
   "metadata": {},
   "source": [
    "### Summary of OLS result for max-abs scaling\n",
    "\n",
    "Finally, let's check the summary of the OLS results for the max-abs scaled data of the *HeightWeight* dataset."
   ]
  },
  {
   "cell_type": "code",
   "execution_count": 75,
   "metadata": {},
   "outputs": [
    {
     "name": "stdout",
     "output_type": "stream",
     "text": [
      "            OLS Results for max-abs scaled \"HeightWeight\" dataset             \n",
      "==============================================================================\n",
      "Dep. Variable:                 Weight   R-squared:                       0.253\n",
      "Model:                            OLS   Adj. R-squared:                  0.253\n",
      "Method:                 Least Squares   F-statistic:                     8461.\n",
      "Date:                Fri, 09 Oct 2020   Prob (F-statistic):               0.00\n",
      "Time:                        11:35:21   Log-Likelihood:                -93235.\n",
      "No. Observations:               25000   AIC:                         1.865e+05\n",
      "Df Residuals:                   24998   BIC:                         1.865e+05\n",
      "Df Model:                           1                                         \n",
      "Covariance Type:            nonrobust                                         \n",
      "==============================================================================\n",
      "                 coef    std err          t      P>|t|      [0.025      0.975]\n",
      "------------------------------------------------------------------------------\n",
      "Intercept    -82.5757      2.280    -36.214      0.000     -87.045     -78.106\n",
      "Height       231.7319      2.519     91.981      0.000     226.794     236.670\n",
      "==============================================================================\n",
      "Omnibus:                        1.022   Durbin-Watson:                   1.994\n",
      "Prob(Omnibus):                  0.600   Jarque-Bera (JB):                1.027\n",
      "Skew:                          -0.016   Prob(JB):                        0.598\n",
      "Kurtosis:                       2.996   Cond. No.                         71.9\n",
      "==============================================================================\n",
      "\n",
      "Warnings:\n",
      "[1] Standard Errors assume that the covariance matrix of the errors is correctly specified.\n",
      "\n",
      "RMSE = 10.079516864371328\n"
     ]
    }
   ],
   "source": [
    "resultsMA = ols(formula = 'Weight ~ Height', data=dataHWma).fit()\n",
    "print(resultsMA.summary(title='OLS Results for max-abs scaled \"HeightWeight\" dataset'))\n",
    "print(\"\\nRMSE =\",np.sqrt(resultsMA.mse_resid))"
   ]
  },
  {
   "cell_type": "markdown",
   "metadata": {},
   "source": [
    "We may also get the standard errors of the estimated coefficients by taking the diagonal of the weight variance-covariance matrix."
   ]
  },
  {
   "cell_type": "code",
   "execution_count": 76,
   "metadata": {},
   "outputs": [
    {
     "data": {
      "text/plain": [
       "array([[2.28021584],\n",
       "       [2.51933781]])"
      ]
     },
     "execution_count": 76,
     "metadata": {},
     "output_type": "execute_result"
    }
   ],
   "source": [
    "X1ma=np.array(dataHWma[[\"Height\"]])\n",
    "X1madot=np.insert(X1ma,0,np.ones(X1ma.shape[0]),axis=1)\n",
    "np.sqrt(np.diag(resultsMA.mse_resid*inv(X1madot.T@X1madot)))[:,np.newaxis]"
   ]
  },
  {
   "cell_type": "markdown",
   "metadata": {},
   "source": [
    "**Note**: *Max-abs scaling is a particular case of min-max scaling. In fact, the scikit-learn library allows setting whatever min and max values you want during *MinMaxScaler* instantiation.*"
   ]
  },
  {
   "cell_type": "markdown",
   "metadata": {},
   "source": [
    "## 6. Robust scaling <a name=\"RobustScaling\"></a>\n",
    "\n",
    "Because the standardization is sensitive to outliers, the robust scaling uses median instead of mean and interquartile range instead of standard deviation, which are more robust to outliers to transform the data.\n",
    "\n",
    "### Properties of robust scaling\n",
    "\n",
    "The input matrix can be scaled robustly in the following vectorized form: $\\mathbf X_r=\\frac{\\mathbf{X}-\\mathbf{\\tilde x}^\\top}{\\mathbf s_\\text{IQR}^\\top}$.\n",
    "\n",
    "Let's create the robust scaled input matrix for the *BloodPressure2* dataset and print out. We should also print out the median and interquartile range values of each feature. As a comparison we can also print out the mean and standard deviation of each transformed feature."
   ]
  },
  {
   "cell_type": "code",
   "execution_count": 77,
   "metadata": {},
   "outputs": [
    {
     "name": "stdout",
     "output_type": "stream",
     "text": [
      "[[-0.92307692 -0.91304348]\n",
      " [-0.38461538 -0.43478261]\n",
      " [ 0.23076923  0.        ]\n",
      " [ 0.69230769  0.73913043]\n",
      " [ 0.          0.08695652]\n",
      " [ 0.76923077  1.13043478]\n",
      " [-0.76923077 -0.26086957]\n",
      " [-0.23076923 -0.26086957]\n",
      " [ 0.07692308  0.56521739]\n",
      " [-1.38461538 -1.17391304]\n",
      " [ 0.61538462  1.        ]]\n",
      "--------- Median ----------\n",
      " [0. 0.]\n",
      "---------- Mean -----------\n",
      " [-0.11888112  0.04347826]\n",
      "---------- IQR ------------\n",
      " [1. 1.]\n",
      "--- Standard deviation ----\n",
      " [0.66848173 0.71778047]\n"
     ]
    }
   ],
   "source": [
    "from scipy.stats import iqr\n",
    "xmed_=np.median(X,axis=0,keepdims=True).T\n",
    "xiqr_=iqr(X,axis=0,keepdims=True).T\n",
    "Xr=(X-xmed_.T)/xiqr_.T\n",
    "print(Xr)\n",
    "print(\"--------- Median ----------\\n\",np.median(Xr,axis=0))\n",
    "print(\"---------- Mean -----------\\n\",np.mean(Xr,axis=0))\n",
    "print(\"---------- IQR ------------\\n\",iqr(Xr,axis=0))\n",
    "print(\"--- Standard deviation ----\\n\",np.std(Xr,axis=0))"
   ]
  },
  {
   "cell_type": "markdown",
   "metadata": {},
   "source": [
    "And indeed, the robust scaled input matrix has zero median and unit interquartile range. There are no outliers that really affect the mean, although the standard deviation is slightly altered with the robust scale of the *Height* data\n",
    "\n",
    "Let's check the hat matrix."
   ]
  },
  {
   "cell_type": "code",
   "execution_count": 78,
   "metadata": {},
   "outputs": [
    {
     "data": {
      "text/plain": [
       "array([[-1.12132525e-14, -1.25732758e-14, -1.32949207e-14,\n",
       "        -1.54494473e-14, -1.40720768e-14, -1.66117120e-14,\n",
       "        -1.31977762e-14, -1.30728761e-14, -1.50816859e-14,\n",
       "        -1.07691633e-14, -1.62925229e-14],\n",
       "       [-8.40993941e-15, -9.32587341e-15, -1.00475184e-14,\n",
       "        -1.32394096e-14, -1.13381526e-14, -1.49082136e-14,\n",
       "        -1.15229007e-14, -1.02973186e-14, -1.39402379e-14,\n",
       "        -8.13238366e-15, -1.46757606e-14],\n",
       "       [ 1.43218770e-14,  1.53765889e-14,  1.70974346e-14,\n",
       "         1.40443213e-14,  1.37667655e-14,  1.06338549e-14,\n",
       "         8.90953977e-15,  1.54876112e-14,  9.29811783e-15,\n",
       "         1.29549149e-14,  9.87404603e-15],\n",
       "       [-4.37150316e-15, -5.34294831e-15, -5.55111512e-15,\n",
       "        -8.43769499e-15, -7.04991621e-15, -1.02140518e-14,\n",
       "        -7.85482790e-15, -5.75928194e-15, -9.88792381e-15,\n",
       "        -4.71844785e-15, -9.90874049e-15],\n",
       "       [ 1.08524301e-14,  1.13103971e-14,  1.21014310e-14,\n",
       "         1.23789867e-14,  1.16018306e-14,  1.19626531e-14,\n",
       "         1.03597686e-14,  1.16434640e-14,  1.12757026e-14,\n",
       "         1.02001740e-14,  1.17822418e-14],\n",
       "       [-1.19904087e-14, -1.35967626e-14, -1.55292446e-14,\n",
       "        -1.64313008e-14, -1.46688217e-14, -1.59317004e-14,\n",
       "        -1.16573418e-14, -1.41900380e-14, -1.40443213e-14,\n",
       "        -1.07136522e-14, -1.57096558e-14],\n",
       "       [-9.25648447e-15, -9.39222658e-15, -1.05471187e-14,\n",
       "        -7.34134975e-15, -7.85482790e-15, -3.98292510e-15,\n",
       "        -3.77475828e-15, -8.79157858e-15, -3.49720253e-15,\n",
       "        -8.49320614e-15, -4.01068068e-15],\n",
       "       [ 1.78468351e-14,  1.81243909e-14,  1.91513472e-14,\n",
       "         1.88460358e-14,  1.78468351e-14,  1.77999976e-14,\n",
       "         1.61225200e-14,  1.84019466e-14,  1.64937508e-14,\n",
       "         1.66672232e-14,  1.73090708e-14],\n",
       "       [ 8.80545636e-15,  9.28424004e-15,  7.39686090e-15,\n",
       "         1.06789577e-14,  1.06512021e-14,  1.42386103e-14,\n",
       "         1.37667655e-14,  9.67975700e-15,  1.41553436e-14,\n",
       "         1.05193632e-14,  1.42941214e-14],\n",
       "       [ 5.27355937e-15,  4.46864767e-15,  3.21964677e-15,\n",
       "         4.10782519e-15,  4.82253126e-15,  5.53723734e-15,\n",
       "         7.38298311e-15,  4.48252546e-15,  6.67521594e-15,\n",
       "         6.38378239e-15,  5.92581539e-15],\n",
       "       [-6.80011603e-16, -1.12410081e-15, -1.85311835e-15,\n",
       "        -1.24900090e-15, -7.35522754e-16,  5.55111512e-17,\n",
       "         9.71445147e-16, -1.18828558e-15,  8.60422844e-16,\n",
       "         3.74700271e-16,  3.33066907e-16]])"
      ]
     },
     "execution_count": 78,
     "metadata": {},
     "output_type": "execute_result"
    }
   ],
   "source": [
    "Xrdot=np.insert(Xr,0,np.ones(N),axis=1)\n",
    "Hr=Xrdot@inv(Xrdot.T@Xrdot)@Xrdot.T\n",
    "Hr-H"
   ]
  },
  {
   "cell_type": "markdown",
   "metadata": {},
   "source": [
    "The Hat matrix is not changed (nor the leverages), thus the prediction is the same after the robust scaling."
   ]
  },
  {
   "cell_type": "code",
   "execution_count": 79,
   "metadata": {},
   "outputs": [
    {
     "data": {
      "text/plain": [
       "array([[0.50710059, 0.49364548],\n",
       "       [0.49364548, 0.56880907]])"
      ]
     },
     "execution_count": 79,
     "metadata": {},
     "output_type": "execute_result"
    }
   ],
   "source": [
    "Sr=1/(N-1)*Xr.T@Xr\n",
    "Sr"
   ]
  },
  {
   "cell_type": "markdown",
   "metadata": {},
   "source": [
    "The scatter matrix is changed. Let's see the Mahalanobis distances."
   ]
  },
  {
   "cell_type": "code",
   "execution_count": 80,
   "metadata": {},
   "outputs": [
    {
     "data": {
      "text/plain": [
       "array([[0.01025478],\n",
       "       [0.10641268],\n",
       "       [0.32656142],\n",
       "       [0.08880088],\n",
       "       [0.06437864],\n",
       "       [0.02139089],\n",
       "       [0.29555013],\n",
       "       [0.12156383],\n",
       "       [0.20465971],\n",
       "       [0.04882141],\n",
       "       [0.04389603]])"
      ]
     },
     "execution_count": 80,
     "metadata": {},
     "output_type": "execute_result"
    }
   ],
   "source": [
    "dMr=np.sqrt(np.array([np.float((Xr[i][:,np.newaxis]-Xr.mean(axis=0,keepdims=True).T).T@inv(Sr)@\\\n",
    "            (Xr[i][:,np.newaxis]-Xr.mean(axis=0,keepdims=True).T)) for i in range(N)]))[:,np.newaxis]\n",
    "dM-dMr"
   ]
  },
  {
   "cell_type": "markdown",
   "metadata": {},
   "source": [
    "The Mahalanobis distances are not preserved with robust scaling.\n",
    "\n",
    "We can get the same result with *RobustScaler* of the scikit-learn library."
   ]
  },
  {
   "cell_type": "code",
   "execution_count": 81,
   "metadata": {},
   "outputs": [
    {
     "data": {
      "text/plain": [
       "array([[0., 0.],\n",
       "       [0., 0.],\n",
       "       [0., 0.],\n",
       "       [0., 0.],\n",
       "       [0., 0.],\n",
       "       [0., 0.],\n",
       "       [0., 0.],\n",
       "       [0., 0.],\n",
       "       [0., 0.],\n",
       "       [0., 0.],\n",
       "       [0., 0.]])"
      ]
     },
     "execution_count": 81,
     "metadata": {},
     "output_type": "execute_result"
    }
   ],
   "source": [
    "from sklearn.preprocessing import RobustScaler\n",
    "Robust=RobustScaler()\n",
    "Xrscale=Robust.fit_transform(X)\n",
    "\n",
    "Xrscale-Xr"
   ]
  },
  {
   "cell_type": "markdown",
   "metadata": {},
   "source": [
    "### Visualization of robust scaling\n",
    "\n",
    "Now, let's visualize this data transformation for the *Height* input of the *HeightWeight* dataset."
   ]
  },
  {
   "cell_type": "code",
   "execution_count": 82,
   "metadata": {},
   "outputs": [
    {
     "data": {
      "image/png": "[encoded data removed]",
      "text/plain": [
       "<Figure size 432x288 with 1 Axes>"
      ]
     },
     "metadata": {
      "needs_background": "light"
     },
     "output_type": "display_data"
    }
   ],
   "source": [
    "sns.distplot(dataHW['Height'], kde=True, rug=False,label='original')\n",
    "dataHWr=pd.DataFrame(Robust.fit_transform(np.array(dataHW['Height']).reshape(-1,1)),\\\n",
    "                     columns=['Height'])\n",
    "dataHWr['Weight']=dataHW['Weight']\n",
    "sns.distplot(dataHWr['Height'], kde=True, rug=False,label='robust scaled')\n",
    "plt.legend()\n",
    "plt.show()"
   ]
  },
  {
   "cell_type": "markdown",
   "metadata": {},
   "source": [
    "As can be seen, the transformed data has a much sharper distribution as it has unit interquartile range, while the original data had an interquartile range greater than one.\n",
    "\n",
    "Let's check the joint distribution with the marginal distribution of the robust scaled data. Let's plot the estimated regression line, as well."
   ]
  },
  {
   "cell_type": "code",
   "execution_count": 83,
   "metadata": {},
   "outputs": [
    {
     "data": {
      "image/png": "[encoded data removed]",
      "text/plain": [
       "<Figure size 432x432 with 3 Axes>"
      ]
     },
     "metadata": {
      "needs_background": "light"
     },
     "output_type": "display_data"
    }
   ],
   "source": [
    "snsax=sns.jointplot(x=\"Height\", y=\"Weight\", marginal_kws=dict(bins=50,kde=True),s=10,data=dataHWr)\n",
    "linregr=LinearRegression().fit(np.array(dataHWr['Height']).reshape(-1, 1),dataHWr['Weight'])\n",
    "snsax.ax_joint.plot([dataHWr['Height'].min(),dataHWr['Height'].max()],\\\n",
    "         [linregr.intercept_+linregr.coef_[0]*dataHWr['Height'].min(),\\\n",
    "          linregr.intercept_+linregr.coef_[0]*dataHWr['Height'].max()],'r-',lw=3)\n",
    "snsax.ax_joint.plot([dataHWr['Height'].mean(),dataHWr['Height'].mean()],\\\n",
    "                   [snsax.ax_joint.get_ylim()[0],dataHWr['Weight'].mean()],\\\n",
    "                    c='purple',linestyle='dashed')\n",
    "snsax.ax_joint.plot([snsax.ax_joint.get_xlim()[0],dataHWr['Height'].mean()],\\\n",
    "                   [dataHWr['Weight'].mean(),dataHWr['Weight'].mean()],\\\n",
    "                    c='purple',linestyle='dashed')\n",
    "snsax.ax_joint.set_xlabel(\"Robust scaled Height\",fontsize=12)\n",
    "snsax.ax_joint.set_ylabel(\"Weight\",fontsize=12)\n",
    "plt.show()"
   ]
  },
  {
   "cell_type": "markdown",
   "metadata": {},
   "source": [
    "### Summary of OLS result for robust scaled data\n",
    "\n",
    "Finally, let's check the summary of the OLS results for the robust scaled data of the *HeightWeight* dataset."
   ]
  },
  {
   "cell_type": "code",
   "execution_count": 84,
   "metadata": {},
   "outputs": [
    {
     "name": "stdout",
     "output_type": "stream",
     "text": [
      "             OLS Results for robust scaled \"HeightWeight\" dataset             \n",
      "==============================================================================\n",
      "Dep. Variable:                 Weight   R-squared:                       0.253\n",
      "Model:                            OLS   Adj. R-squared:                  0.253\n",
      "Method:                 Least Squares   F-statistic:                     8461.\n",
      "Date:                Fri, 09 Oct 2020   Prob (F-statistic):               0.00\n",
      "Time:                        11:35:23   Log-Likelihood:                -93235.\n",
      "No. Observations:               25000   AIC:                         1.865e+05\n",
      "Df Residuals:                   24998   BIC:                         1.865e+05\n",
      "Df Model:                           1                                         \n",
      "Covariance Type:            nonrobust                                         \n",
      "==============================================================================\n",
      "                 coef    std err          t      P>|t|      [0.025      0.975]\n",
      "------------------------------------------------------------------------------\n",
      "Intercept    127.0874      0.064   1993.574      0.000     126.962     127.212\n",
      "Height         7.9201      0.086     91.981      0.000       7.751       8.089\n",
      "==============================================================================\n",
      "Omnibus:                        1.022   Durbin-Watson:                   1.994\n",
      "Prob(Omnibus):                  0.600   Jarque-Bera (JB):                1.027\n",
      "Skew:                          -0.016   Prob(JB):                        0.598\n",
      "Kurtosis:                       2.996   Cond. No.                         1.35\n",
      "==============================================================================\n",
      "\n",
      "Warnings:\n",
      "[1] Standard Errors assume that the covariance matrix of the errors is correctly specified.\n",
      "\n",
      "RMSE = 10.079516864371328\n"
     ]
    }
   ],
   "source": [
    "resultsR = ols(formula = 'Weight ~ Height', data=dataHWr).fit()\n",
    "print(resultsR.summary(title='OLS Results for robust scaled \"HeightWeight\" dataset'))\n",
    "print(\"\\nRMSE =\",np.sqrt(resultsR.mse_resid))"
   ]
  },
  {
   "cell_type": "markdown",
   "metadata": {},
   "source": [
    "We may also get the standard errors of the estimated coefficients by taking the diagonal of the weight variance-covariance matrix."
   ]
  },
  {
   "cell_type": "code",
   "execution_count": 85,
   "metadata": {},
   "outputs": [
    {
     "data": {
      "text/plain": [
       "array([[0.06374852],\n",
       "       [0.08610551]])"
      ]
     },
     "execution_count": 85,
     "metadata": {},
     "output_type": "execute_result"
    }
   ],
   "source": [
    "X1r=np.array(dataHWr[[\"Height\"]])\n",
    "X1rdot=np.insert(X1r,0,np.ones(X1r.shape[0]),axis=1)\n",
    "np.sqrt(np.diag(resultsR.mse_resid*inv(X1rdot.T@X1rdot)))[:,np.newaxis]"
   ]
  },
  {
   "cell_type": "markdown",
   "metadata": {},
   "source": [
    "### Robust scaling for Star cluster dataset\n",
    "\n",
    "Because the HeightWeight dataset does not have an outlier that influences the estimated regression line, we may argue that the Robust scaler could not be effective. So let's see in action with a small dataset that exhibits both outlier masking and swamping effect."
   ]
  },
  {
   "cell_type": "code",
   "execution_count": 86,
   "metadata": {},
   "outputs": [],
   "source": [
    "dataStar = pd.read_csv(os.path.join('data','StarClusterCYGOB1.csv'))\n",
    "dataStar=dataStar.rename(columns={\"Log surface termperature of the star\": \"LogSurfTemp\",\\\n",
    "                                  \"Log light intensity of the star\":\"LogLightIntensity\"})"
   ]
  },
  {
   "cell_type": "markdown",
   "metadata": {},
   "source": [
    "As a recap, make the scatter plot together with the marginal distributions."
   ]
  },
  {
   "cell_type": "code",
   "execution_count": 87,
   "metadata": {},
   "outputs": [
    {
     "data": {
      "image/png": "[encoded data removed]",
      "text/plain": [
       "<Figure size 432x432 with 3 Axes>"
      ]
     },
     "metadata": {
      "needs_background": "light"
     },
     "output_type": "display_data"
    }
   ],
   "source": [
    "snsax=sns.jointplot(x=\"LogSurfTemp\", y=\"LogLightIntensity\", marginal_kws=dict(bins=10,kde=False),\\\n",
    "                    s=10,data=dataStar)\n",
    "linregr=LinearRegression().fit(np.array(dataStar['LogSurfTemp']).reshape(-1, 1),\\\n",
    "                               dataStar['LogLightIntensity'])\n",
    "snsax.ax_joint.plot([dataStar['LogSurfTemp'].min(),dataStar['LogSurfTemp'].max()],\\\n",
    "         [linregr.intercept_+linregr.coef_[0]*dataStar['LogSurfTemp'].min(),\\\n",
    "          linregr.intercept_+linregr.coef_[0]*dataStar['LogSurfTemp'].max()],'r-',lw=3)\n",
    "snsax.ax_joint.plot([dataStar['LogSurfTemp'].mean(),dataStar['LogSurfTemp'].mean()],\\\n",
    "                   [snsax.ax_joint.get_ylim()[0],dataStar['LogLightIntensity'].mean()],\\\n",
    "                    c='purple',linestyle='dashed')\n",
    "snsax.ax_joint.plot([snsax.ax_joint.get_xlim()[0],dataStar['LogSurfTemp'].mean()],\\\n",
    "                   [dataStar['LogLightIntensity'].mean(),dataStar['LogLightIntensity'].mean()],\\\n",
    "                    c='purple',linestyle='dashed')\n",
    "snsax.ax_joint.set_xlabel(\"LogSurfTemp\",fontsize=12)\n",
    "snsax.ax_joint.set_ylabel(\"LogLightIntensity\",fontsize=12)\n",
    "plt.show()"
   ]
  },
  {
   "cell_type": "markdown",
   "metadata": {},
   "source": [
    "Check the summary of the OLS results."
   ]
  },
  {
   "cell_type": "code",
   "execution_count": 88,
   "metadata": {},
   "outputs": [
    {
     "name": "stdout",
     "output_type": "stream",
     "text": [
      "               OLS Results for original \"Star cluster\" dataset                \n",
      "==============================================================================\n",
      "Dep. Variable:      LogLightIntensity   R-squared:                       0.044\n",
      "Model:                            OLS   Adj. R-squared:                  0.023\n",
      "Method:                 Least Squares   F-statistic:                     2.085\n",
      "Date:                Fri, 09 Oct 2020   Prob (F-statistic):              0.156\n",
      "Time:                        11:35:24   Log-Likelihood:                -38.804\n",
      "No. Observations:                  47   AIC:                             81.61\n",
      "Df Residuals:                      45   BIC:                             85.31\n",
      "Df Model:                           1                                         \n",
      "Covariance Type:            nonrobust                                         \n",
      "===============================================================================\n",
      "                  coef    std err          t      P>|t|      [0.025      0.975]\n",
      "-------------------------------------------------------------------------------\n",
      "Intercept       6.7935      1.237      5.494      0.000       4.303       9.284\n",
      "LogSurfTemp    -0.4133      0.286     -1.444      0.156      -0.990       0.163\n",
      "==============================================================================\n",
      "Omnibus:                        6.499   Durbin-Watson:                   1.672\n",
      "Prob(Omnibus):                  0.039   Jarque-Bera (JB):                2.754\n",
      "Skew:                          -0.284   Prob(JB):                        0.252\n",
      "Kurtosis:                       1.959   Cond. No.                         68.3\n",
      "==============================================================================\n",
      "\n",
      "Warnings:\n",
      "[1] Standard Errors assume that the covariance matrix of the errors is correctly specified.\n",
      "\n",
      "RMSE = 0.5646315342517841\n"
     ]
    }
   ],
   "source": [
    "resultStar = ols(formula = 'LogLightIntensity ~ LogSurfTemp', data=dataStar).fit()\n",
    "print(resultStar.summary(title='OLS Results for original \"Star cluster\" dataset'))\n",
    "print(\"\\nRMSE =\",np.sqrt(resultStar.mse_resid))"
   ]
  },
  {
   "cell_type": "markdown",
   "metadata": {},
   "source": [
    "Let's create the squared studentized residuals versus leverages plot together with the contour plot of Cook's distances. Based on the knowledge already acquired in Ch3-Ex3, let's create a function that can be reused in later lab exercises."
   ]
  },
  {
   "cell_type": "code",
   "execution_count": 89,
   "metadata": {},
   "outputs": [
    {
     "data": {
      "image/png": "[encoded data removed]",
      "text/plain": [
       "<Figure size 432x288 with 1 Axes>"
      ]
     },
     "metadata": {
      "needs_background": "light"
     },
     "output_type": "display_data"
    }
   ],
   "source": [
    "def SquaredStudResidLeveragePlot(OLSresults,CookLevels=None,textdx=0,textdy=0,xyscale=1.2):\n",
    "    N=int(OLSresults.nobs)\n",
    "    D=int(OLSresults.df_model)\n",
    "    h_=OLSresults.get_influence().hat_matrix_diag[:,np.newaxis]\n",
    "    idx_X=np.nonzero(h_>=3*h_.mean())[0]\n",
    "    rstud_=OLSresults.get_influence().resid_studentized_external\n",
    "    idx_R=np.nonzero(np.abs(rstud_)>2.0)[0]\n",
    "    plt.scatter(h_,rstud_**2)\n",
    "    plt.scatter(h_[idx_R],rstud_[idx_R]**2,s=100)\n",
    "    for i in idx_R:\n",
    "        plt.annotate(i, (float(h_[i]),float(rstud_[i]**2)),(float(h_[i])+textdx,\\\n",
    "                                                            float(rstud_[i]**2)+textdy),fontsize=12)\n",
    "    plt.scatter(h_[idx_X],rstud_[idx_X]**2,s=100,c='r',marker='s')\n",
    "    for i in idx_X:\n",
    "        plt.annotate(i, (float(h_[i]),float(rstud_[i]**2)),(float(h_[i])+textdx,\\\n",
    "                                                            float(rstud_[i]**2)+textdy),fontsize=12)\n",
    "    plt.plot([3*h_.mean(),3*h_.mean()],[0,xyscale*(rstud_.max())**2],'r--',lw=1)\n",
    "    plt.plot([0,xyscale*h_.max()],[4,4],'r--',lw=1)\n",
    "    plt.xlabel('Leverages',fontsize=12)\n",
    "    plt.ylabel('Squared studentized residuals',fontsize=12)\n",
    "    plt.title(\"Squared studentized residuals vs. leverages\",fontsize=14)\n",
    "\n",
    "    if CookLevels!=None:\n",
    "        # Adding contour plot of the Cook's distances\n",
    "        x = np.linspace(0, xyscale*h_.max(), 100)\n",
    "        y = np.linspace(0, (xyscale*rstud_.max())**2, 100)\n",
    "        X, Y = np.meshgrid(x, y)\n",
    "        Z = (N-D-1)/(Y+N-D-2)*Y/(D+1)*X/(1-X)\n",
    "        CS=plt.contour(X, Y, Z, colors='black',levels=CookLevels,linestyles=\"dotted\",alpha=0.5)\n",
    "        plt.clabel(CS)\n",
    "        plt.show()\n",
    "               \n",
    "# Calling the r_stud**2 x leverage plot function with conour of Cook's distances\n",
    "SquaredStudResidLeveragePlot(resultStar,CookLevels=[0.1,0.2,0.3,0.4,0.5],textdx=-0.005,textdy=0.15)"
   ]
  },
  {
   "cell_type": "markdown",
   "metadata": {},
   "source": [
    "Let's create the robust scaled version of the scatter plot."
   ]
  },
  {
   "cell_type": "code",
   "execution_count": 90,
   "metadata": {},
   "outputs": [
    {
     "data": {
      "image/png": "[encoded data removed]",
      "text/plain": [
       "<Figure size 432x432 with 3 Axes>"
      ]
     },
     "metadata": {
      "needs_background": "light"
     },
     "output_type": "display_data"
    }
   ],
   "source": [
    "Robust.set_params(quantile_range=(5.0, 95.0))\n",
    "dataStarR=pd.DataFrame(Robust.fit_transform(np.array(dataStar['LogSurfTemp']).reshape(-1,1)),\\\n",
    "                       columns=['LogSurfTemp'])\n",
    "dataStarR['LogLightIntensity']=dataStar['LogLightIntensity']\n",
    "\n",
    "snsax=sns.jointplot(x=\"LogSurfTemp\", y=\"LogLightIntensity\", marginal_kws=dict(bins=10,kde=False),\\\n",
    "                    s=10,data=dataStarR)\n",
    "linregr=LinearRegression().fit(np.array(dataStarR['LogSurfTemp']).reshape(-1, 1),\\\n",
    "                               dataStarR['LogLightIntensity'])\n",
    "snsax.ax_joint.plot([dataStarR['LogSurfTemp'].min(),dataStarR['LogSurfTemp'].max()],\\\n",
    "         [linregr.intercept_+linregr.coef_[0]*dataStarR['LogSurfTemp'].min(),\\\n",
    "          linregr.intercept_+linregr.coef_[0]*dataStarR['LogSurfTemp'].max()],'r-',lw=3)\n",
    "snsax.ax_joint.plot([dataStarR['LogSurfTemp'].mean(),dataStarR['LogSurfTemp'].mean()],\\\n",
    "                   [snsax.ax_joint.get_ylim()[0],dataStarR['LogLightIntensity'].mean()],\\\n",
    "                    c='purple',linestyle='dashed')\n",
    "snsax.ax_joint.plot([snsax.ax_joint.get_xlim()[0],dataStarR['LogSurfTemp'].mean()],\\\n",
    "                   [dataStarR['LogLightIntensity'].mean(),dataStarR['LogLightIntensity'].mean()],\\\n",
    "                    c='purple',linestyle='dashed')\n",
    "snsax.ax_joint.set_xlabel(\"Robust scaled LogSurfTemp\",fontsize=12)\n",
    "snsax.ax_joint.set_ylabel(\"LogLightIntensity\",fontsize=12)\n",
    "plt.show()"
   ]
  },
  {
   "cell_type": "markdown",
   "metadata": {},
   "source": [
    "And print out the OLS result of the robust scaled data."
   ]
  },
  {
   "cell_type": "code",
   "execution_count": 91,
   "metadata": {},
   "outputs": [
    {
     "name": "stdout",
     "output_type": "stream",
     "text": [
      "             OLS Results for robust scaled \"Star cluster\" dataset             \n",
      "==============================================================================\n",
      "Dep. Variable:      LogLightIntensity   R-squared:                       0.044\n",
      "Model:                            OLS   Adj. R-squared:                  0.023\n",
      "Method:                 Least Squares   F-statistic:                     2.085\n",
      "Date:                Fri, 09 Oct 2020   Prob (F-statistic):              0.156\n",
      "Time:                        11:35:26   Log-Likelihood:                -38.804\n",
      "No. Observations:                  47   AIC:                             81.61\n",
      "Df Residuals:                      45   BIC:                             85.31\n",
      "Df Model:                           1                                         \n",
      "Covariance Type:            nonrobust                                         \n",
      "===============================================================================\n",
      "                  coef    std err          t      P>|t|      [0.025      0.975]\n",
      "-------------------------------------------------------------------------------\n",
      "Intercept       4.9667      0.088     56.328      0.000       4.789       5.144\n",
      "LogSurfTemp    -0.4422      0.306     -1.444      0.156      -1.059       0.175\n",
      "==============================================================================\n",
      "Omnibus:                        6.499   Durbin-Watson:                   1.672\n",
      "Prob(Omnibus):                  0.039   Jarque-Bera (JB):                2.754\n",
      "Skew:                          -0.284   Prob(JB):                        0.252\n",
      "Kurtosis:                       1.959   Cond. No.                         3.76\n",
      "==============================================================================\n",
      "\n",
      "Warnings:\n",
      "[1] Standard Errors assume that the covariance matrix of the errors is correctly specified.\n",
      "\n",
      "RMSE = 0.5646315342517843\n"
     ]
    }
   ],
   "source": [
    "resultStarR = ols(formula = 'LogLightIntensity ~ LogSurfTemp', data=dataStarR).fit()\n",
    "print(resultStarR.summary(title='OLS Results for robust scaled \"Star cluster\" dataset'))\n",
    "print(\"\\nRMSE =\",np.sqrt(resultStarR.mse_resid))"
   ]
  },
  {
   "cell_type": "markdown",
   "metadata": {},
   "source": [
    "No change in the OLS result. \n",
    "\n",
    "If we want to use the leave-one-out method to find influential points, then we will have the same result as with the original data. That is clear if we create the squared studentized residuals vs. the leverages together with the contour plot of the Cook's distances."
   ]
  },
  {
   "cell_type": "code",
   "execution_count": 92,
   "metadata": {},
   "outputs": [
    {
     "data": {
      "image/png": "[encoded data removed]",
      "text/plain": [
       "<Figure size 432x288 with 1 Axes>"
      ]
     },
     "metadata": {
      "needs_background": "light"
     },
     "output_type": "display_data"
    }
   ],
   "source": [
    "SquaredStudResidLeveragePlot(resultStarR,CookLevels=[0.1,0.2,0.3,0.4,0.5],textdx=-0.005,textdy=0.15)"
   ]
  },
  {
   "cell_type": "markdown",
   "metadata": {},
   "source": [
    "Thus, the robust scaling did not help in minimizing the outlier masking and swamping effect, and the estimated regression model provides the prediction as to what we obtained with the regression model created for the original data.\n",
    "\n",
    "**Note:** *Although robust scaling did not have any effect neither on the prediction nor the analysis of influential points, robust scaling is still very useful for other machine learning algorithms that are based on Euclidean distances.*"
   ]
  },
  {
   "cell_type": "markdown",
   "metadata": {},
   "source": [
    "### Summary\n",
    "\n",
    "As we have seen, linear transformations do not affect the prediction of the linear regression model, although the regression coefficients might be different due to the different scaling of the input variables. However, other types of machine learning algorithms will provide a different result if a linear transformation will be applied beforehand."
   ]
  },
  {
   "cell_type": "markdown",
   "metadata": {},
   "source": [
    "<img src = \"images/AML1-Cover.png\" width = 110, align = \"left\" style=\"margin:0px 20px\">\n",
    "\n",
    "**Note:** This Jupyter Notebook is accompanying the book: <br> $\\;\\;\\;\\;\\;\\;$ <b>Advanced Machine Learning Made Easy</b> <br> $\\;\\;\\;\\;\\;\\;$ From Theory to Practice with NumPy and scikit-learn <br> $\\;\\;\\;\\;\\;\\;$ <i> Volume 1: Generalized Linear Models</i><br>\n",
    "by Ferenc Farkas, Ph.D. \n",
    "\n",
    "If you find this Notebook useful, please support me by buying the book at [Leanpub](http://leanpub.com/AML1). <br>\n",
    "Copyright notice: This Jupyter Notebook is made available under the [MIT License](https://opensource.org/licenses/MIT)."
   ]
  },
  {
   "cell_type": "code",
   "execution_count": null,
   "metadata": {},
   "outputs": [],
   "source": []
  }
 ],
 "metadata": {
  "colab": {
   "collapsed_sections": [],
   "name": "Ch1-1-SimpleRegression.ipynb",
   "provenance": [
    {
     "file_id": "1CAvi5U76y6xIKJarmRS-iX0Jh70o2mGi",
     "timestamp": 1537170166740
    }
   ],
   "version": "0.3.2"
  },
  "kernelspec": {
   "display_name": "Python 3",
   "language": "python",
   "name": "python3"
  },
  "language_info": {
   "codemirror_mode": {
    "name": "ipython",
    "version": 3
   },
   "file_extension": ".py",
   "mimetype": "text/x-python",
   "name": "python",
   "nbconvert_exporter": "python",
   "pygments_lexer": "ipython3",
   "version": "3.7.3"
  }
 },
 "nbformat": 4,
 "nbformat_minor": 4
}
