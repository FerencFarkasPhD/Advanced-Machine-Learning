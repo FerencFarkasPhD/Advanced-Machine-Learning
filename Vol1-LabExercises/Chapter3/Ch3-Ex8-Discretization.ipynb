{
 "cells": [
  {
   "cell_type": "markdown",
   "metadata": {
    "colab_type": "text",
    "id": "tr9o4rl9fUBh"
   },
   "source": [
    "<img src = \"images/Logo.png\" width = 220, align = \"left\">\n",
    "\n",
    "<h1 align=center><font size = 6><span style=\"color:blue\">Discretization</span></font></h1>\n",
    "<h2 align=center><font size = 5>Lab Exercise 3.8</font></h2>\n",
    "<h3 align=center><font size = 4><b>Advanced Machine Learning Made Easy<br></b><small>From Theory to Practice with NumPy and scikit-learn<br><i>Volume 1: Generalized Linear Models</i></font></h3>"
   ]
  },
  {
   "cell_type": "markdown",
   "metadata": {},
   "source": [
    "## Introduction\n",
    "\n",
    "In this lab exercise, we will analyze different discretization methods.\n",
    "In the first part of the exercise, we will focus on the unsupervised discretization methods, like binarization and binning. For this purpose, we will use a dataset containing house sale prices for King County, which includes homes sold between May 2014 and May 2015 (this is the same dataset used in the previous lab exercise).<br>\n",
    "**Note**: *The original dataset can be downloaded from Kaggle at https://www.kaggle.com/harlfoxem/housesalesprediction.*\n",
    "\n",
    "In the second part of the lab exercise, we will focus on the supervised discretization methods. Two of them will be discussed, entropy-based and ChiMerge discretization. Both of them will use Fisher's iris dataset, which is included in the *scikit-learn* library.\n",
    "\n",
    "**Note:** *This lab exercise focuses on teaching the theory through coding and does not have in mind to present optimal coding.*"
   ]
  },
  {
   "cell_type": "markdown",
   "metadata": {},
   "source": [
    "### Table of contents\n",
    "1. [Binarization](#Binarization)\n",
    "2. [Discretization with ordinal encoding](#DiscretizationOrdinal)\n",
    "3. [Discretization with one-hot encoding](#DiscretizationOneHot)\n",
    "4. [Entropy based binning](#EntropyBinning)\n",
    "5. [ChiMerge discretization](#ChiMerge)"
   ]
  },
  {
   "cell_type": "markdown",
   "metadata": {},
   "source": [
    "## 1. Binarization <a name=\"Binarization\"></a>\n",
    "\n",
    "Some machine learning algorithm only accepts categorical features. Thus, prior discretization of numerical (continuous) variables is essential. Even if it can handle continuous data, discretization of numerical variables often accelerates the learning process and may produce simpler and more accurate results.\n",
    "\n",
    "During binarization, we create a binary variable from a continuous one. That always results in some information loss. However, it is up to you to decide - based on your domain-specific knowledge -  whether that information loss is compensated by a better fit of your model. \n",
    "\n",
    "Before moving on, as a first step, we import the required libraries. "
   ]
  },
  {
   "cell_type": "code",
   "execution_count": 1,
   "metadata": {
    "colab": {},
    "colab_type": "code",
    "id": "fs6Gm5gtexW9"
   },
   "outputs": [],
   "source": [
    "import numpy as np\n",
    "import pandas as pd\n",
    "import matplotlib.pyplot as plt\n",
    "from sklearn.linear_model import LinearRegression\n",
    "from statsmodels.formula.api import ols\n",
    "import os\n",
    "%matplotlib inline"
   ]
  },
  {
   "cell_type": "markdown",
   "metadata": {
    "colab_type": "text",
    "id": "dUZRG9jlf0A4"
   },
   "source": [
    "Let's use again the King County House Sales dataset introduced in the last lab exercise by reading into a pandas dataframe. "
   ]
  },
  {
   "cell_type": "code",
   "execution_count": 2,
   "metadata": {},
   "outputs": [
    {
     "data": {
      "text/html": [
       "<div>\n",
       "<style scoped>\n",
       "    .dataframe tbody tr th:only-of-type {\n",
       "        vertical-align: middle;\n",
       "    }\n",
       "\n",
       "    .dataframe tbody tr th {\n",
       "        vertical-align: top;\n",
       "    }\n",
       "\n",
       "    .dataframe thead th {\n",
       "        text-align: right;\n",
       "    }\n",
       "</style>\n",
       "<table border=\"1\" class=\"dataframe\">\n",
       "  <thead>\n",
       "    <tr style=\"text-align: right;\">\n",
       "      <th></th>\n",
       "      <th>id</th>\n",
       "      <th>date</th>\n",
       "      <th>price</th>\n",
       "      <th>bedrooms</th>\n",
       "      <th>bathrooms</th>\n",
       "      <th>sqft_living</th>\n",
       "      <th>sqft_lot</th>\n",
       "      <th>floors</th>\n",
       "      <th>waterfront</th>\n",
       "      <th>view</th>\n",
       "      <th>...</th>\n",
       "      <th>grade</th>\n",
       "      <th>sqft_above</th>\n",
       "      <th>sqft_basement</th>\n",
       "      <th>yr_built</th>\n",
       "      <th>yr_renovated</th>\n",
       "      <th>zipcode</th>\n",
       "      <th>lat</th>\n",
       "      <th>long</th>\n",
       "      <th>sqft_living15</th>\n",
       "      <th>sqft_lot15</th>\n",
       "    </tr>\n",
       "  </thead>\n",
       "  <tbody>\n",
       "    <tr>\n",
       "      <th>0</th>\n",
       "      <td>7129300520</td>\n",
       "      <td>20141013T000000</td>\n",
       "      <td>221900</td>\n",
       "      <td>3</td>\n",
       "      <td>1.00</td>\n",
       "      <td>1180</td>\n",
       "      <td>5650</td>\n",
       "      <td>1.0</td>\n",
       "      <td>0</td>\n",
       "      <td>0</td>\n",
       "      <td>...</td>\n",
       "      <td>7</td>\n",
       "      <td>1180</td>\n",
       "      <td>0</td>\n",
       "      <td>1955</td>\n",
       "      <td>0</td>\n",
       "      <td>98178</td>\n",
       "      <td>47.5112</td>\n",
       "      <td>-122.257</td>\n",
       "      <td>1340</td>\n",
       "      <td>5650</td>\n",
       "    </tr>\n",
       "    <tr>\n",
       "      <th>1</th>\n",
       "      <td>6414100192</td>\n",
       "      <td>20141209T000000</td>\n",
       "      <td>538000</td>\n",
       "      <td>3</td>\n",
       "      <td>2.25</td>\n",
       "      <td>2570</td>\n",
       "      <td>7242</td>\n",
       "      <td>2.0</td>\n",
       "      <td>0</td>\n",
       "      <td>0</td>\n",
       "      <td>...</td>\n",
       "      <td>7</td>\n",
       "      <td>2170</td>\n",
       "      <td>400</td>\n",
       "      <td>1951</td>\n",
       "      <td>1991</td>\n",
       "      <td>98125</td>\n",
       "      <td>47.7210</td>\n",
       "      <td>-122.319</td>\n",
       "      <td>1690</td>\n",
       "      <td>7639</td>\n",
       "    </tr>\n",
       "    <tr>\n",
       "      <th>2</th>\n",
       "      <td>5631500400</td>\n",
       "      <td>20150225T000000</td>\n",
       "      <td>180000</td>\n",
       "      <td>2</td>\n",
       "      <td>1.00</td>\n",
       "      <td>770</td>\n",
       "      <td>10000</td>\n",
       "      <td>1.0</td>\n",
       "      <td>0</td>\n",
       "      <td>0</td>\n",
       "      <td>...</td>\n",
       "      <td>6</td>\n",
       "      <td>770</td>\n",
       "      <td>0</td>\n",
       "      <td>1933</td>\n",
       "      <td>0</td>\n",
       "      <td>98028</td>\n",
       "      <td>47.7379</td>\n",
       "      <td>-122.233</td>\n",
       "      <td>2720</td>\n",
       "      <td>8062</td>\n",
       "    </tr>\n",
       "    <tr>\n",
       "      <th>3</th>\n",
       "      <td>2487200875</td>\n",
       "      <td>20141209T000000</td>\n",
       "      <td>604000</td>\n",
       "      <td>4</td>\n",
       "      <td>3.00</td>\n",
       "      <td>1960</td>\n",
       "      <td>5000</td>\n",
       "      <td>1.0</td>\n",
       "      <td>0</td>\n",
       "      <td>0</td>\n",
       "      <td>...</td>\n",
       "      <td>7</td>\n",
       "      <td>1050</td>\n",
       "      <td>910</td>\n",
       "      <td>1965</td>\n",
       "      <td>0</td>\n",
       "      <td>98136</td>\n",
       "      <td>47.5208</td>\n",
       "      <td>-122.393</td>\n",
       "      <td>1360</td>\n",
       "      <td>5000</td>\n",
       "    </tr>\n",
       "    <tr>\n",
       "      <th>4</th>\n",
       "      <td>1954400510</td>\n",
       "      <td>20150218T000000</td>\n",
       "      <td>510000</td>\n",
       "      <td>3</td>\n",
       "      <td>2.00</td>\n",
       "      <td>1680</td>\n",
       "      <td>8080</td>\n",
       "      <td>1.0</td>\n",
       "      <td>0</td>\n",
       "      <td>0</td>\n",
       "      <td>...</td>\n",
       "      <td>8</td>\n",
       "      <td>1680</td>\n",
       "      <td>0</td>\n",
       "      <td>1987</td>\n",
       "      <td>0</td>\n",
       "      <td>98074</td>\n",
       "      <td>47.6168</td>\n",
       "      <td>-122.045</td>\n",
       "      <td>1800</td>\n",
       "      <td>7503</td>\n",
       "    </tr>\n",
       "  </tbody>\n",
       "</table>\n",
       "<p>5 rows × 21 columns</p>\n",
       "</div>"
      ],
      "text/plain": [
       "           id             date   price  bedrooms  bathrooms  sqft_living  \\\n",
       "0  7129300520  20141013T000000  221900         3       1.00         1180   \n",
       "1  6414100192  20141209T000000  538000         3       2.25         2570   \n",
       "2  5631500400  20150225T000000  180000         2       1.00          770   \n",
       "3  2487200875  20141209T000000  604000         4       3.00         1960   \n",
       "4  1954400510  20150218T000000  510000         3       2.00         1680   \n",
       "\n",
       "   sqft_lot  floors  waterfront  view  ...  grade  sqft_above  sqft_basement  \\\n",
       "0      5650     1.0           0     0  ...      7        1180              0   \n",
       "1      7242     2.0           0     0  ...      7        2170            400   \n",
       "2     10000     1.0           0     0  ...      6         770              0   \n",
       "3      5000     1.0           0     0  ...      7        1050            910   \n",
       "4      8080     1.0           0     0  ...      8        1680              0   \n",
       "\n",
       "   yr_built  yr_renovated  zipcode      lat     long  sqft_living15  \\\n",
       "0      1955             0    98178  47.5112 -122.257           1340   \n",
       "1      1951          1991    98125  47.7210 -122.319           1690   \n",
       "2      1933             0    98028  47.7379 -122.233           2720   \n",
       "3      1965             0    98136  47.5208 -122.393           1360   \n",
       "4      1987             0    98074  47.6168 -122.045           1800   \n",
       "\n",
       "   sqft_lot15  \n",
       "0        5650  \n",
       "1        7639  \n",
       "2        8062  \n",
       "3        5000  \n",
       "4        7503  \n",
       "\n",
       "[5 rows x 21 columns]"
      ]
     },
     "execution_count": 2,
     "metadata": {},
     "output_type": "execute_result"
    }
   ],
   "source": [
    "data = pd.read_csv(os.path.join('data','HouseSalesKingCounty.csv'))\n",
    "data.head()"
   ]
  },
  {
   "cell_type": "markdown",
   "metadata": {},
   "source": [
    "**Columns of the dataset:**\n",
    "- **id** - A unique ID for each house sold\n",
    "- **date** - The date of the home sale\n",
    "- **price** - Price of each home sold (is the prediction target)\n",
    "- **bedrooms** - Number of Bedrooms/House\n",
    "- **bathrooms** - Number of bathrooms/House, where 0.5 accounts for a room with a toilet but no shower\n",
    "- **sqft_living** - Square footage of the apartments interior living space\n",
    "- **sqft_lot** - Square footage of the land space\n",
    "- **floors** - Number of floors (levels) in the house\n",
    "- **waterfront** - A binary variable for whether the house has a view to a waterfront or not\n",
    "- **view** - An index from 0 to 4 of how good the view of the property was\n",
    "- **condition** - An index from 1 to 5 on the condition of the apartment (the higher, the better)\n",
    "- **grade** - the overall grade given to the housing unit, based on the King County grading system (the higher, the better) \n",
    "- **sqft_above** - Square footage of house apart from the basement (above ground level)\n",
    "- **sqft_basement** - Square footage of the basement (below ground level)\n",
    "- **yr_built** - The year the house was initially built\n",
    "- **yr_renovated** - The year of the house's last renovation\n",
    "- **zipcode** - What zip code area the house is in\n",
    "- **lat** - Latitude coordinate\n",
    "- **long** - Longitude coordinate\n",
    "- **sqft_living15** - The square footage of interior housing living space of the nearest 15 neighbors\n",
    "- **sqft_lot15** - The square footage of the land lots of the nearest 15 neighbors\n",
    "\n",
    "In lab exercise 3.7, we created a binary variable from the 'yr_renovated' numerical variable without any explanation why we did so. Now, we will explore the reasoning behind it. As a first step, let's check the number of unique values of this numerical variable."
   ]
  },
  {
   "cell_type": "code",
   "execution_count": 3,
   "metadata": {},
   "outputs": [
    {
     "data": {
      "text/plain": [
       "array([   0, 1991, 2002, 2010, 1999, 1992, 2013, 1994, 1978, 2005, 2008,\n",
       "       2003, 1984, 1954, 2014, 2011, 1974, 1983, 1945, 1990, 1988, 1957,\n",
       "       1977, 1981, 1995, 2000, 1998, 1970, 1989, 2004, 1986, 2009, 2007,\n",
       "       1987, 1973, 2006, 1985, 2001, 1980, 1971, 1979, 1997, 1950, 1969,\n",
       "       1948, 2015, 1968, 2012, 1963, 1951, 1993, 1962, 1996, 1972, 1953,\n",
       "       1955, 1982, 1956, 1940, 1976, 1946, 1975, 1958, 1964, 1959, 1960,\n",
       "       1967, 1965, 1934, 1944], dtype=int64)"
      ]
     },
     "execution_count": 3,
     "metadata": {},
     "output_type": "execute_result"
    }
   ],
   "source": [
    "data['yr_renovated'].unique()"
   ]
  },
  {
   "cell_type": "markdown",
   "metadata": {},
   "source": [
    "As can be seen, only a few unique values are present. We may check the exact number of unique values."
   ]
  },
  {
   "cell_type": "code",
   "execution_count": 4,
   "metadata": {},
   "outputs": [
    {
     "data": {
      "text/plain": [
       "70"
      ]
     },
     "execution_count": 4,
     "metadata": {},
     "output_type": "execute_result"
    }
   ],
   "source": [
    "len(data['yr_renovated'].unique())"
   ]
  },
  {
   "cell_type": "markdown",
   "metadata": {},
   "source": [
    "This is a small number, especially if we consider that the overall number of observations is above 21 thousand. <br>\n",
    "Now, let's see how many observations have a value different from zero for this variable."
   ]
  },
  {
   "cell_type": "code",
   "execution_count": 5,
   "metadata": {},
   "outputs": [
    {
     "name": "stdout",
     "output_type": "stream",
     "text": [
      "Number of houses with a valid calendar year: 914\n"
     ]
    }
   ],
   "source": [
    "print(\"Number of houses with a valid calendar year:\",np.sum(data['yr_renovated']!=0))"
   ]
  },
  {
   "cell_type": "markdown",
   "metadata": {},
   "source": [
    "Thus, much more houses are recorded as being renovated than there are unique calendar years. <br>\n",
    "Now, let's print out the percentage of this variable being different from zero."
   ]
  },
  {
   "cell_type": "code",
   "execution_count": 6,
   "metadata": {},
   "outputs": [
    {
     "name": "stdout",
     "output_type": "stream",
     "text": [
      "Percentage of houses renovated: 4.23%\n"
     ]
    }
   ],
   "source": [
    "data['renovated']=data['yr_renovated'].apply(lambda x: 1 if x>0 else 0)\n",
    "print(\"Percentage of houses renovated: {:1.2f}%\".format(data['renovated'].mean()*100))"
   ]
  },
  {
   "cell_type": "markdown",
   "metadata": {},
   "source": [
    "The percentage is below 5%. Now, let's plot the histogram using 10 bins."
   ]
  },
  {
   "cell_type": "code",
   "execution_count": 7,
   "metadata": {},
   "outputs": [
    {
     "data": {
      "image/png": "[encoded data removed]",
      "text/plain": [
       "<Figure size 432x288 with 1 Axes>"
      ]
     },
     "metadata": {
      "needs_background": "light"
     },
     "output_type": "display_data"
    }
   ],
   "source": [
    "data['yr_renovated'].plot.hist(bins=10)\n",
    "plt.title(\"Histogram of 'yr_renovated' numerical variable\",fontsize=14)\n",
    "plt.xlabel('yr_renovated',fontsize=12)\n",
    "plt.show()"
   ]
  },
  {
   "cell_type": "markdown",
   "metadata": {},
   "source": [
    "The histogram shows clearly that the distribution resembles a binary variable. A very similar result will be obtained if we change the number of bins to 20. \n",
    "\n",
    "Thus, it makes sense to use a binary variable instead (let's call it 'renovated'), which will be set to 1 if a valid calendar year is recorded and 0 otherwise. \n",
    "We already did this when we created the binary variable in the previous lab exercise. At this time, we may use the *scikit-learn* to binarize the data instead."
   ]
  },
  {
   "cell_type": "code",
   "execution_count": 8,
   "metadata": {},
   "outputs": [
    {
     "data": {
      "text/plain": [
       "array([[0],\n",
       "       [1],\n",
       "       [0],\n",
       "       ...,\n",
       "       [0],\n",
       "       [0],\n",
       "       [0]], dtype=int64)"
      ]
     },
     "execution_count": 8,
     "metadata": {},
     "output_type": "execute_result"
    }
   ],
   "source": [
    "from sklearn.preprocessing import Binarizer\n",
    "binarize=Binarizer(threshold=0)\n",
    "binarize.fit_transform(np.array(data['yr_renovated']).reshape(-1, 1))"
   ]
  },
  {
   "cell_type": "markdown",
   "metadata": {},
   "source": [
    "You may compare the two results (the one obtained with *pandas* 'apply' and the one with *scikit-learn*)."
   ]
  },
  {
   "cell_type": "code",
   "execution_count": 9,
   "metadata": {},
   "outputs": [
    {
     "data": {
      "text/plain": [
       "True"
      ]
     },
     "execution_count": 9,
     "metadata": {},
     "output_type": "execute_result"
    }
   ],
   "source": [
    "np.array_equal(np.array(data['renovated'])[:,np.newaxis],binarize.fit_transform(np.array(data['yr_renovated']).reshape(-1, 1)))"
   ]
  },
  {
   "cell_type": "markdown",
   "metadata": {},
   "source": [
    "Because the point-biserial correlation is a special case of the Pearson correlation coefficient, we may check how the correlation is changed between 'yr_renovated' and the dependent variable 'price' after the binarization."
   ]
  },
  {
   "cell_type": "code",
   "execution_count": 10,
   "metadata": {},
   "outputs": [
    {
     "data": {
      "text/html": [
       "<div>\n",
       "<style scoped>\n",
       "    .dataframe tbody tr th:only-of-type {\n",
       "        vertical-align: middle;\n",
       "    }\n",
       "\n",
       "    .dataframe tbody tr th {\n",
       "        vertical-align: top;\n",
       "    }\n",
       "\n",
       "    .dataframe thead th {\n",
       "        text-align: right;\n",
       "    }\n",
       "</style>\n",
       "<table border=\"1\" class=\"dataframe\">\n",
       "  <thead>\n",
       "    <tr style=\"text-align: right;\">\n",
       "      <th></th>\n",
       "      <th>price</th>\n",
       "      <th>yr_renovated</th>\n",
       "      <th>renovated</th>\n",
       "    </tr>\n",
       "  </thead>\n",
       "  <tbody>\n",
       "    <tr>\n",
       "      <th>price</th>\n",
       "      <td>1.000000</td>\n",
       "      <td>0.126434</td>\n",
       "      <td>0.126092</td>\n",
       "    </tr>\n",
       "    <tr>\n",
       "      <th>yr_renovated</th>\n",
       "      <td>0.126434</td>\n",
       "      <td>1.000000</td>\n",
       "      <td>0.999968</td>\n",
       "    </tr>\n",
       "    <tr>\n",
       "      <th>renovated</th>\n",
       "      <td>0.126092</td>\n",
       "      <td>0.999968</td>\n",
       "      <td>1.000000</td>\n",
       "    </tr>\n",
       "  </tbody>\n",
       "</table>\n",
       "</div>"
      ],
      "text/plain": [
       "                 price  yr_renovated  renovated\n",
       "price         1.000000      0.126434   0.126092\n",
       "yr_renovated  0.126434      1.000000   0.999968\n",
       "renovated     0.126092      0.999968   1.000000"
      ]
     },
     "execution_count": 10,
     "metadata": {},
     "output_type": "execute_result"
    }
   ],
   "source": [
    "data[['price','yr_renovated','renovated']].corr()"
   ]
  },
  {
   "cell_type": "markdown",
   "metadata": {},
   "source": [
    "From the above correlation matrix, we can observe that the original numerical variable 'yr_renovated' and the newly created binary variable 'renovated' is almost perfectly correlated (0.999968), while the correlation between the response variable and the input variable remained almost the same (decreased from 0.126434 to 0.126092 after binarization).\n",
    "\n",
    "Now, let's build a linear model using the square foot of the living area and the year the house was renovated."
   ]
  },
  {
   "cell_type": "code",
   "execution_count": 11,
   "metadata": {},
   "outputs": [
    {
     "name": "stdout",
     "output_type": "stream",
     "text": [
      "                     OLS results with numerical variables                     \n",
      "==============================================================================\n",
      "Dep. Variable:                  price   R-squared:                       0.501\n",
      "Model:                            OLS   Adj. R-squared:                  0.500\n",
      "Method:                 Least Squares   F-statistic:                 1.083e+04\n",
      "Date:                Wed, 08 Sep 2021   Prob (F-statistic):               0.00\n",
      "Time:                        20:23:53   Log-Likelihood:            -3.0010e+05\n",
      "No. Observations:               21613   AIC:                         6.002e+05\n",
      "Df Residuals:                   21610   BIC:                         6.002e+05\n",
      "Df Model:                           2                                         \n",
      "Covariance Type:            nonrobust                                         \n",
      "================================================================================\n",
      "                   coef    std err          t      P>|t|      [0.025      0.975]\n",
      "--------------------------------------------------------------------------------\n",
      "Intercept    -4.631e+04   4371.844    -10.594      0.000   -5.49e+04   -3.77e+04\n",
      "sqft_living    278.6797      1.925    144.795      0.000     274.907     282.452\n",
      "yr_renovated    80.2807      4.401     18.243      0.000      71.655      88.906\n",
      "==============================================================================\n",
      "Omnibus:                    14722.791   Durbin-Watson:                   1.986\n",
      "Prob(Omnibus):                  0.000   Jarque-Bera (JB):           536444.592\n",
      "Skew:                           2.796   Prob(JB):                         0.00\n",
      "Kurtosis:                      26.758   Cond. No.                     5.64e+03\n",
      "==============================================================================\n",
      "\n",
      "Notes:\n",
      "[1] Standard Errors assume that the covariance matrix of the errors is correctly specified.\n",
      "[2] The condition number is large, 5.64e+03. This might indicate that there are\n",
      "strong multicollinearity or other numerical problems.\n",
      "\n",
      "RMSE = 259469\n"
     ]
    }
   ],
   "source": [
    "model = ols(formula = 'price ~ sqft_living + yr_renovated', data=data).fit()\n",
    "print(model.summary(title=\"OLS results with numerical variables\"))\n",
    "print(\"\\nRMSE = {:.0f}\".format(np.sqrt(model.mse_resid)))"
   ]
  },
  {
   "cell_type": "markdown",
   "metadata": {},
   "source": [
    "For comparison, fit another linear model, but at this time replacing the year of renovation with the newly created binary variable 'renovated'."
   ]
  },
  {
   "cell_type": "code",
   "execution_count": 12,
   "metadata": {},
   "outputs": [
    {
     "name": "stdout",
     "output_type": "stream",
     "text": [
      "                       OLS results with binary variable                       \n",
      "==============================================================================\n",
      "Dep. Variable:                  price   R-squared:                       0.501\n",
      "Model:                            OLS   Adj. R-squared:                  0.500\n",
      "Method:                 Least Squares   F-statistic:                 1.083e+04\n",
      "Date:                Wed, 08 Sep 2021   Prob (F-statistic):               0.00\n",
      "Time:                        20:23:53   Log-Likelihood:            -3.0010e+05\n",
      "No. Observations:               21613   AIC:                         6.002e+05\n",
      "Df Residuals:                   21610   BIC:                         6.002e+05\n",
      "Df Model:                           2                                         \n",
      "Covariance Type:            nonrobust                                         \n",
      "===============================================================================\n",
      "                  coef    std err          t      P>|t|      [0.025      0.975]\n",
      "-------------------------------------------------------------------------------\n",
      "Intercept   -4.633e+04   4372.000    -10.597      0.000   -5.49e+04   -3.78e+04\n",
      "sqft_living   278.6926      1.925    144.800      0.000     274.920     282.465\n",
      "renovated    1.599e+05   8783.478     18.210      0.000    1.43e+05    1.77e+05\n",
      "==============================================================================\n",
      "Omnibus:                    14721.831   Durbin-Watson:                   1.986\n",
      "Prob(Omnibus):                  0.000   Jarque-Bera (JB):           536312.390\n",
      "Skew:                           2.795   Prob(JB):                         0.00\n",
      "Kurtosis:                      26.755   Cond. No.                     1.13e+04\n",
      "==============================================================================\n",
      "\n",
      "Notes:\n",
      "[1] Standard Errors assume that the covariance matrix of the errors is correctly specified.\n",
      "[2] The condition number is large, 1.13e+04. This might indicate that there are\n",
      "strong multicollinearity or other numerical problems.\n",
      "\n",
      "RMSE = 259476\n"
     ]
    }
   ],
   "source": [
    "model = ols(formula = 'price ~ sqft_living + renovated', data=data).fit()\n",
    "print(model.summary(title=\"OLS results with binary variable\"))\n",
    "print(\"\\nRMSE = {:.0f}\".format(np.sqrt(model.mse_resid)))"
   ]
  },
  {
   "cell_type": "markdown",
   "metadata": {},
   "source": [
    "As can be seen, the adjusted R-squared value and the RMSE remained the same (RMSE increased only by 0.003%).\n",
    "In conclusion, it makes sense to binarize the 'yr_renovated' variable because the information loss is negligible in the case of the linear regression model. Moreover, the binarization makes the linear model more interpretable. That is, one of the predictors would be a binary variable stating whether the house was renovated or not, instead of having a numerical variable recording the year of the renovation (setting to 0, if it was not).\n",
    "\n",
    "**Note:** *The standard deviation for the regression coefficients of the binary variable is much higher, so the precision of the predictability is decreased for the renovated houses.*\n",
    "\n",
    "Now, let's create a column transformer and a pipeline. We may use the 'passthrough' internal transformer if we want a given variable not to be transformed."
   ]
  },
  {
   "cell_type": "code",
   "execution_count": 13,
   "metadata": {},
   "outputs": [
    {
     "data": {
      "text/html": [
       "<style>div.sk-top-container {color: black;background-color: white;}div.sk-toggleable {background-color: white;}label.sk-toggleable__label {cursor: pointer;display: block;width: 100%;margin-bottom: 0;padding: 0.2em 0.3em;box-sizing: border-box;text-align: center;}div.sk-toggleable__content {max-height: 0;max-width: 0;overflow: hidden;text-align: left;background-color: #f0f8ff;}div.sk-toggleable__content pre {margin: 0.2em;color: black;border-radius: 0.25em;background-color: #f0f8ff;}input.sk-toggleable__control:checked~div.sk-toggleable__content {max-height: 200px;max-width: 100%;overflow: auto;}div.sk-estimator input.sk-toggleable__control:checked~label.sk-toggleable__label {background-color: #d4ebff;}div.sk-label input.sk-toggleable__control:checked~label.sk-toggleable__label {background-color: #d4ebff;}input.sk-hidden--visually {border: 0;clip: rect(1px 1px 1px 1px);clip: rect(1px, 1px, 1px, 1px);height: 1px;margin: -1px;overflow: hidden;padding: 0;position: absolute;width: 1px;}div.sk-estimator {font-family: monospace;background-color: #f0f8ff;margin: 0.25em 0.25em;border: 1px dotted black;border-radius: 0.25em;box-sizing: border-box;}div.sk-estimator:hover {background-color: #d4ebff;}div.sk-parallel-item::after {content: \"\";width: 100%;border-bottom: 1px solid gray;flex-grow: 1;}div.sk-label:hover label.sk-toggleable__label {background-color: #d4ebff;}div.sk-serial::before {content: \"\";position: absolute;border-left: 1px solid gray;box-sizing: border-box;top: 2em;bottom: 0;left: 50%;}div.sk-serial {display: flex;flex-direction: column;align-items: center;background-color: white;}div.sk-item {z-index: 1;}div.sk-parallel {display: flex;align-items: stretch;justify-content: center;background-color: white;}div.sk-parallel-item {display: flex;flex-direction: column;position: relative;background-color: white;}div.sk-parallel-item:first-child::after {align-self: flex-end;width: 50%;}div.sk-parallel-item:last-child::after {align-self: flex-start;width: 50%;}div.sk-parallel-item:only-child::after {width: 0;}div.sk-dashed-wrapped {border: 1px dashed gray;margin: 0.2em;box-sizing: border-box;padding-bottom: 0.1em;background-color: white;position: relative;}div.sk-label label {font-family: monospace;font-weight: bold;background-color: white;display: inline-block;line-height: 1.2em;}div.sk-label-container {position: relative;z-index: 2;text-align: center;}div.sk-container {display: inline-block;position: relative;}</style><div class=\"sk-top-container\"><div class=\"sk-container\"><div class=\"sk-item sk-dashed-wrapped\"><div class=\"sk-label-container\"><div class=\"sk-label sk-toggleable\"><input class=\"sk-toggleable__control sk-hidden--visually\" id=\"6de97fab-8b54-448a-92e9-281c99799781\" type=\"checkbox\" ><label class=\"sk-toggleable__label\" for=\"6de97fab-8b54-448a-92e9-281c99799781\">Pipeline</label><div class=\"sk-toggleable__content\"><pre>Pipeline(steps=[('preproc',\n",
       "                 ColumnTransformer(transformers=[('notransf', 'passthrough',\n",
       "                                                  ['sqft_living']),\n",
       "                                                 ('binarizer',\n",
       "                                                  Binarizer(threshold=0),\n",
       "                                                  ['yr_renovated'])])),\n",
       "                ('regr', LinearRegression())])</pre></div></div></div><div class=\"sk-serial\"><div class=\"sk-item sk-dashed-wrapped\"><div class=\"sk-label-container\"><div class=\"sk-label sk-toggleable\"><input class=\"sk-toggleable__control sk-hidden--visually\" id=\"0bb391ef-b289-4bec-9562-f920023b2a5c\" type=\"checkbox\" ><label class=\"sk-toggleable__label\" for=\"0bb391ef-b289-4bec-9562-f920023b2a5c\">preproc: ColumnTransformer</label><div class=\"sk-toggleable__content\"><pre>ColumnTransformer(transformers=[('notransf', 'passthrough', ['sqft_living']),\n",
       "                                ('binarizer', Binarizer(threshold=0),\n",
       "                                 ['yr_renovated'])])</pre></div></div></div><div class=\"sk-parallel\"><div class=\"sk-parallel-item\"><div class=\"sk-item\"><div class=\"sk-label-container\"><div class=\"sk-label sk-toggleable\"><input class=\"sk-toggleable__control sk-hidden--visually\" id=\"1770ab9f-1073-4d66-86dd-70feacb48b92\" type=\"checkbox\" ><label class=\"sk-toggleable__label\" for=\"1770ab9f-1073-4d66-86dd-70feacb48b92\">notransf</label><div class=\"sk-toggleable__content\"><pre>['sqft_living']</pre></div></div></div><div class=\"sk-serial\"><div class=\"sk-item\"><div class=\"sk-estimator sk-toggleable\"><input class=\"sk-toggleable__control sk-hidden--visually\" id=\"b460b0f5-1005-41e0-aa5f-50dd6e3f9cf5\" type=\"checkbox\" ><label class=\"sk-toggleable__label\" for=\"b460b0f5-1005-41e0-aa5f-50dd6e3f9cf5\">passthrough</label><div class=\"sk-toggleable__content\"><pre>passthrough</pre></div></div></div></div></div></div><div class=\"sk-parallel-item\"><div class=\"sk-item\"><div class=\"sk-label-container\"><div class=\"sk-label sk-toggleable\"><input class=\"sk-toggleable__control sk-hidden--visually\" id=\"50e98d3a-2661-4064-8fae-4eb78eb5aea2\" type=\"checkbox\" ><label class=\"sk-toggleable__label\" for=\"50e98d3a-2661-4064-8fae-4eb78eb5aea2\">binarizer</label><div class=\"sk-toggleable__content\"><pre>['yr_renovated']</pre></div></div></div><div class=\"sk-serial\"><div class=\"sk-item\"><div class=\"sk-estimator sk-toggleable\"><input class=\"sk-toggleable__control sk-hidden--visually\" id=\"9cfaddc3-4900-4a04-a9fd-be4d27aebda3\" type=\"checkbox\" ><label class=\"sk-toggleable__label\" for=\"9cfaddc3-4900-4a04-a9fd-be4d27aebda3\">Binarizer</label><div class=\"sk-toggleable__content\"><pre>Binarizer(threshold=0)</pre></div></div></div></div></div></div></div></div><div class=\"sk-item\"><div class=\"sk-estimator sk-toggleable\"><input class=\"sk-toggleable__control sk-hidden--visually\" id=\"17ec7bc8-4faf-43e3-b557-312484dbbbec\" type=\"checkbox\" ><label class=\"sk-toggleable__label\" for=\"17ec7bc8-4faf-43e3-b557-312484dbbbec\">LinearRegression</label><div class=\"sk-toggleable__content\"><pre>LinearRegression()</pre></div></div></div></div></div></div></div>"
      ],
      "text/plain": [
       "Pipeline(steps=[('preproc',\n",
       "                 ColumnTransformer(transformers=[('notransf', 'passthrough',\n",
       "                                                  ['sqft_living']),\n",
       "                                                 ('binarizer',\n",
       "                                                  Binarizer(threshold=0),\n",
       "                                                  ['yr_renovated'])])),\n",
       "                ('regr', LinearRegression())])"
      ]
     },
     "execution_count": 13,
     "metadata": {},
     "output_type": "execute_result"
    }
   ],
   "source": [
    "from sklearn.compose import ColumnTransformer\n",
    "from sklearn.pipeline import Pipeline\n",
    "from sklearn.linear_model import LinearRegression\n",
    "\n",
    "from sklearn import set_config\n",
    "set_config(display='diagram')\n",
    "\n",
    "linregr=LinearRegression()\n",
    "ct = ColumnTransformer(transformers=[('notransf','passthrough',['sqft_living']),\\\n",
    "                                     ('binarizer',binarize,['yr_renovated'])])\n",
    "pipe=Pipeline(steps=[('preproc',ct),('regr',linregr)])\n",
    "pipe.fit(data,data['price'])"
   ]
  },
  {
   "cell_type": "markdown",
   "metadata": {},
   "source": [
    "Then, we may use the pipeline to fit the model and then predict.\n",
    "\n",
    "**Note:** *Due to a scikit-learn internal error, the commented lines do not work.*"
   ]
  },
  {
   "cell_type": "code",
   "execution_count": 14,
   "metadata": {},
   "outputs": [
    {
     "name": "stdout",
     "output_type": "stream",
     "text": [
      "Regression coefficients:\n",
      " -46328.62851103372\n",
      "[[   278.69261355]\n",
      " [159947.47939467]]\n",
      "R-squared: 0.50051777088185\n",
      "RMSE: 259457.68009860674\n"
     ]
    }
   ],
   "source": [
    "print(\"Regression coefficients:\\n\",pipe['regr'].intercept_)\n",
    "print(pipe['regr'].coef_[:,np.newaxis])\n",
    "#print(\"R-squared:\",pipe['regr'].score(data,data['price']))\n",
    "print(\"R-squared:\",pipe['regr'].score(ct.transform(data),data['price']))\n",
    "#r_=pipe['regr'].predict(data)[:,np.newaxis]-np.array(data['price'])[:,np.newaxis]\n",
    "r_=pipe['regr'].predict(ct.transform(data))[:,np.newaxis]-np.array(data['price'])[:,np.newaxis]\n",
    "print(\"RMSE:\",float(np.sqrt(r_.T@r_/r_.shape[0])))"
   ]
  },
  {
   "cell_type": "markdown",
   "metadata": {},
   "source": [
    "## 2. Discretization with ordinal encoding <a name=\"DiscretizationOrdinal\"></a>\n",
    "\n",
    "There are machine learning algorithms that require an input variable to be a categorical one. For such cases, the numerical variable needs to be transformed to a categorical one, and this transformation is called discretization. \n",
    "Let's create the history plot of the 'yr_built' input variable."
   ]
  },
  {
   "cell_type": "code",
   "execution_count": 15,
   "metadata": {},
   "outputs": [
    {
     "data": {
      "image/png": "[encoded data removed]",
      "text/plain": [
       "<Figure size 432x288 with 1 Axes>"
      ]
     },
     "metadata": {
      "needs_background": "light"
     },
     "output_type": "display_data"
    }
   ],
   "source": [
    "data['yr_built'].plot.hist()\n",
    "plt.title(\"Histogram of 'yr_built' numerical variable\",fontsize=14)\n",
    "plt.xlabel('yr_built',fontsize=12)\n",
    "plt.show()"
   ]
  },
  {
   "cell_type": "markdown",
   "metadata": {},
   "source": [
    "Let's print out the OLS results using the *statsmodels* library with only two input variables: 'sqft_living' and 'yr_built':"
   ]
  },
  {
   "cell_type": "code",
   "execution_count": 16,
   "metadata": {},
   "outputs": [
    {
     "name": "stdout",
     "output_type": "stream",
     "text": [
      "                     OLS results with numerical variables                     \n",
      "==============================================================================\n",
      "Dep. Variable:                  price   R-squared:                       0.525\n",
      "Model:                            OLS   Adj. R-squared:                  0.525\n",
      "Method:                 Least Squares   F-statistic:                 1.193e+04\n",
      "Date:                Wed, 08 Sep 2021   Prob (F-statistic):               0.00\n",
      "Time:                        20:23:53   Log-Likelihood:            -2.9957e+05\n",
      "No. Observations:               21613   AIC:                         5.991e+05\n",
      "Df Residuals:                   21610   BIC:                         5.992e+05\n",
      "Df Model:                           2                                         \n",
      "Covariance Type:            nonrobust                                         \n",
      "===============================================================================\n",
      "                  coef    std err          t      P>|t|      [0.025      0.975]\n",
      "-------------------------------------------------------------------------------\n",
      "Intercept    4.546e+06   1.21e+05     37.686      0.000    4.31e+06    4.78e+06\n",
      "sqft_living   304.5652      1.977    154.033      0.000     300.690     308.441\n",
      "yr_built    -2353.7320     61.825    -38.071      0.000   -2474.913   -2232.551\n",
      "==============================================================================\n",
      "Omnibus:                    14389.558   Durbin-Watson:                   1.971\n",
      "Prob(Omnibus):                  0.000   Jarque-Bera (JB):           518668.962\n",
      "Skew:                           2.703   Prob(JB):                         0.00\n",
      "Kurtosis:                      26.382   Cond. No.                     2.06e+05\n",
      "==============================================================================\n",
      "\n",
      "Notes:\n",
      "[1] Standard Errors assume that the covariance matrix of the errors is correctly specified.\n",
      "[2] The condition number is large, 2.06e+05. This might indicate that there are\n",
      "strong multicollinearity or other numerical problems.\n",
      "\n",
      "RMSE = 253109\n"
     ]
    }
   ],
   "source": [
    "model = ols(formula = 'price ~ sqft_living + yr_built', data=data).fit()\n",
    "print(model.summary(title=\"OLS results with numerical variables\"))\n",
    "print(\"\\nRMSE = {:.0f}\".format(np.sqrt(model.mse_resid)))"
   ]
  },
  {
   "cell_type": "markdown",
   "metadata": {},
   "source": [
    "This model can be used as a reference to compare the result of different discretization methods with a different number of bins. Again, discretization always results in some information loss. The reason that we may apply binning for this particular case is the following: the price of the house is dependent on age, but with some coarse granularity, i.e., we do not expect a price difference between a 15 years old house and 16 years old house, taking all other predictors the same.\n",
    "\n",
    "As a first attempt, let's create three categories of ages: 'old', 'middle', and 'new'.\n",
    "\n",
    "**Note:** *It should be observed that the regression coefficient for the 'yr_built' is negative, meaning that the newer the house, the lower the price. That sounds counterintuitive!*\n",
    "\n",
    "The condition number is very high, so let's check the VIF values first."
   ]
  },
  {
   "cell_type": "code",
   "execution_count": 17,
   "metadata": {},
   "outputs": [
    {
     "name": "stdout",
     "output_type": "stream",
     "text": [
      "VIF for 'sqft_living': 1.1125388934134084\n",
      "VIF for 'yr_built': 1.1125388934134086\n"
     ]
    }
   ],
   "source": [
    "from statsmodels.stats.outliers_influence import variance_inflation_factor\n",
    "\n",
    "X=np.array(data[['sqft_living','yr_built']])\n",
    "N,D=X.shape\n",
    "Xdot=np.insert(X,0,np.ones(N),axis=1)\n",
    "\n",
    "print(\"VIF for 'sqft_living':\",variance_inflation_factor(Xdot,1))\n",
    "print(\"VIF for 'yr_built':\",variance_inflation_factor(Xdot,2))"
   ]
  },
  {
   "cell_type": "markdown",
   "metadata": {},
   "source": [
    "The VIF values are close to 1, meaning that there is no collinearity issue.\n",
    "\n",
    "Now, let's discretize the input variable 'yr_built' using the *scikit-learn* library. As a first step, we will use equal-width binning (also called uniform discretization) with only three binning (or intervals). The created categorical variable will be treated as an ordinal one."
   ]
  },
  {
   "cell_type": "code",
   "execution_count": 18,
   "metadata": {},
   "outputs": [
    {
     "data": {
      "text/plain": [
       "[0.0, 1.0, 2.0]"
      ]
     },
     "execution_count": 18,
     "metadata": {},
     "output_type": "execute_result"
    }
   ],
   "source": [
    "from sklearn.preprocessing import KBinsDiscretizer\n",
    "discretizer=KBinsDiscretizer(n_bins=3, encode='ordinal', strategy='uniform')\n",
    "data['yrbuiltCat']=discretizer.fit_transform(np.array(data['yr_built']).reshape(-1, 1))\n",
    "sorted(data['yrbuiltCat'].unique())"
   ]
  },
  {
   "cell_type": "markdown",
   "metadata": {},
   "source": [
    "We may obtain the bin edges, as well:"
   ]
  },
  {
   "cell_type": "code",
   "execution_count": 19,
   "metadata": {},
   "outputs": [
    {
     "data": {
      "text/plain": [
       "array([array([1900.        , 1938.33333333, 1976.66666667, 2015.        ])],\n",
       "      dtype=object)"
      ]
     },
     "execution_count": 19,
     "metadata": {},
     "output_type": "execute_result"
    }
   ],
   "source": [
    "discretizer.bin_edges_"
   ]
  },
  {
   "cell_type": "markdown",
   "metadata": {},
   "source": [
    "The *pandas* library also supports the equal-width discretization using the *cut* method:"
   ]
  },
  {
   "cell_type": "code",
   "execution_count": 20,
   "metadata": {},
   "outputs": [
    {
     "data": {
      "text/plain": [
       "0        (1938.333, 1976.667]\n",
       "1        (1938.333, 1976.667]\n",
       "2        (1899.885, 1938.333]\n",
       "3        (1938.333, 1976.667]\n",
       "4          (1976.667, 2015.0]\n",
       "                 ...         \n",
       "21608      (1976.667, 2015.0]\n",
       "21609      (1976.667, 2015.0]\n",
       "21610      (1976.667, 2015.0]\n",
       "21611      (1976.667, 2015.0]\n",
       "21612      (1976.667, 2015.0]\n",
       "Name: yr_built, Length: 21613, dtype: category\n",
       "Categories (3, interval[float64]): [(1899.885, 1938.333] < (1938.333, 1976.667] < (1976.667, 2015.0]]"
      ]
     },
     "execution_count": 20,
     "metadata": {},
     "output_type": "execute_result"
    }
   ],
   "source": [
    "pd.cut(data['yr_built'],bins=3)"
   ]
  },
  {
   "cell_type": "markdown",
   "metadata": {},
   "source": [
    "So far so good. Now, let's print out the OLS results using the ordinal variable."
   ]
  },
  {
   "cell_type": "code",
   "execution_count": 21,
   "metadata": {},
   "outputs": [
    {
     "name": "stdout",
     "output_type": "stream",
     "text": [
      "                      OLS results with ordinal variable                       \n",
      "==============================================================================\n",
      "Dep. Variable:                  price   R-squared:                       0.525\n",
      "Model:                            OLS   Adj. R-squared:                  0.525\n",
      "Method:                 Least Squares   F-statistic:                 1.195e+04\n",
      "Date:                Wed, 08 Sep 2021   Prob (F-statistic):               0.00\n",
      "Time:                        20:23:54   Log-Likelihood:            -2.9956e+05\n",
      "No. Observations:               21613   AIC:                         5.991e+05\n",
      "Df Residuals:                   21610   BIC:                         5.991e+05\n",
      "Df Model:                           2                                         \n",
      "Covariance Type:            nonrobust                                         \n",
      "===============================================================================\n",
      "                  coef    std err          t      P>|t|      [0.025      0.975]\n",
      "-------------------------------------------------------------------------------\n",
      "Intercept    4.059e+04   4793.328      8.469      0.000    3.12e+04       5e+04\n",
      "sqft_living   302.4618      1.959    154.430      0.000     298.623     306.301\n",
      "yrbuiltCat  -9.668e+04   2522.841    -38.321      0.000   -1.02e+05   -9.17e+04\n",
      "==============================================================================\n",
      "Omnibus:                    14459.720   Durbin-Watson:                   1.977\n",
      "Prob(Omnibus):                  0.000   Jarque-Bera (JB):           535520.758\n",
      "Skew:                           2.714   Prob(JB):                         0.00\n",
      "Kurtosis:                      26.774   Cond. No.                     6.56e+03\n",
      "==============================================================================\n",
      "\n",
      "Notes:\n",
      "[1] Standard Errors assume that the covariance matrix of the errors is correctly specified.\n",
      "[2] The condition number is large, 6.56e+03. This might indicate that there are\n",
      "strong multicollinearity or other numerical problems.\n",
      "\n",
      "RMSE = 253004\n"
     ]
    }
   ],
   "source": [
    "model = ols(formula = 'price ~ sqft_living + yrbuiltCat', data=data).fit()\n",
    "print(model.summary(title=\"OLS results with ordinal variable\"))\n",
    "print(\"\\nRMSE = {:.0f}\".format(np.sqrt(model.mse_resid)))"
   ]
  },
  {
   "cell_type": "markdown",
   "metadata": {},
   "source": [
    "As can be seen, the adjusted R-squared and RMSE values remained almost the same (in fact, there is a very minor improvement in both of them when the discretized variable is used).\n",
    "Now, let's define the eta correlation ratio between a numerical and categorical variable (the same function that we had in the previous lab exercise)."
   ]
  },
  {
   "cell_type": "code",
   "execution_count": 22,
   "metadata": {},
   "outputs": [],
   "source": [
    "def eta2(categorical, numerical):\n",
    "    cat_enc, _ = pd.factorize(categorical) # make sure that categorical variables are encoded\n",
    "    num_cat=np.max(cat_enc)+1\n",
    "    yc_avg=np.zeros(num_cat)\n",
    "    Nc=np.zeros(num_cat)  \n",
    "    for c in range(num_cat):\n",
    "        yc_obs=numerical[np.argwhere(cat_enc == c).flatten()]\n",
    "        yc_avg[c]=np.mean(yc_obs) # Calculate the mean of the observations for a given categorical value\n",
    "        Nc[c]=len(yc_obs)         # Calculate the number of observations for a given categorical value\n",
    "    y_avg=np.sum(Nc*yc_avg)/np.sum(Nc) # Calculate the overall mean\n",
    "    return np.sum(Nc*(yc_avg-y_avg)**2)/np.sum((numerical-y_avg)**2) # Calculate eta according to the formula from the book"
   ]
  },
  {
   "cell_type": "markdown",
   "metadata": {},
   "source": [
    "Then let's see how the correlation ratio between the discretized and its original variable 'yr_built', respective the correlation ratio between the discretized and dependent variable 'price' changes over the total number of bins (intervals) selected during the discretization process. At the same time, we may also print out the goodness-of-fit for the linear model with two input variables: 'sqft_livig' and 'yrbuiltCat'."
   ]
  },
  {
   "cell_type": "code",
   "execution_count": 23,
   "metadata": {},
   "outputs": [
    {
     "name": "stdout",
     "output_type": "stream",
     "text": [
      "Results for uniform binning:\n",
      "============================\n",
      "\n",
      "Nr. of bins = 3\n",
      "Correlation ratio, eta, btw. the discretized and its original variable: 0.931\n",
      "Correlation ratio, eta, btw. the discretized and dependent variable: 0.150\n",
      "R-squared adjusted = 0.525\n",
      "RMSE = 253004\n",
      "\n",
      "Nr. of bins = 5\n",
      "Correlation ratio, eta, btw. the discretized and its original variable: 0.975\n",
      "Correlation ratio, eta, btw. the discretized and dependent variable: 0.153\n",
      "R-squared adjusted = 0.523\n",
      "RMSE = 253586\n",
      "\n",
      "Nr. of bins = 7\n",
      "Correlation ratio, eta, btw. the discretized and its original variable: 0.988\n",
      "Correlation ratio, eta, btw. the discretized and dependent variable: 0.171\n",
      "R-squared adjusted = 0.524\n",
      "RMSE = 253358\n",
      "\n",
      "Nr. of bins = 9\n",
      "Correlation ratio, eta, btw. the discretized and its original variable: 0.992\n",
      "Correlation ratio, eta, btw. the discretized and dependent variable: 0.175\n",
      "R-squared adjusted = 0.525\n",
      "RMSE = 252922\n",
      "\n",
      "Nr. of bins = 11\n",
      "Correlation ratio, eta, btw. the discretized and its original variable: 0.995\n",
      "Correlation ratio, eta, btw. the discretized and dependent variable: 0.185\n",
      "R-squared adjusted = 0.525\n",
      "RMSE = 253151\n"
     ]
    }
   ],
   "source": [
    "print(\"Results for uniform binning:\")\n",
    "print(\"============================\")\n",
    "for k in range(3,12,2):\n",
    "    discretizer=KBinsDiscretizer(n_bins=k, encode='ordinal', strategy='uniform')\n",
    "    data['yrbuiltCat']=discretizer.fit_transform(np.array(data['yr_built']).reshape(-1, 1))\n",
    "    print(\"\\nNr. of bins =\",k)\n",
    "    print('Correlation ratio, eta, btw. the discretized and its original variable: {:.3f}'\\\n",
    "          .format(np.sqrt(eta2(data['yrbuiltCat'],data['yr_built']))))\n",
    "    print('Correlation ratio, eta, btw. the discretized and dependent variable: {:.3f}'\\\n",
    "          .format(np.sqrt(eta2(data['yrbuiltCat'],data['price']))))\n",
    "    model = ols(formula = 'price ~ sqft_living + yrbuiltCat', data=data).fit()\n",
    "    print(\"R-squared adjusted = {:.3f}\".format(model.rsquared_adj))\n",
    "    print(\"RMSE = {:.0f}\".format(np.sqrt(model.mse_resid)))"
   ]
  },
  {
   "cell_type": "markdown",
   "metadata": {},
   "source": [
    "From the above list, we may conclude that both correlation ratios increase with the total number of bins. That should not be a surprise as (by increasing the number of bins, the information loss is less). However, this is not true for the linear model goodness-of-fit.\n",
    "\n",
    "Similarly, we may print out the correlation ratios, respective the linear model goodness-of-fit when the equal-frequency binning (or quantile discretization) is selected for different bin numbers. Again, the created categorical variable will be treated as an ordinal variable."
   ]
  },
  {
   "cell_type": "code",
   "execution_count": 24,
   "metadata": {},
   "outputs": [
    {
     "name": "stdout",
     "output_type": "stream",
     "text": [
      "Results for quantile binning:\n",
      "=============================\n",
      "\n",
      "Nr. of bins = 3\n",
      "Correlation ratio, eta, btw. the discretized and its original variable: 0.917\n",
      "Correlation ratio, eta, btw. the discretized and dependent variable: 0.137\n",
      "R-squared adjusted = 0.520\n",
      "RMSE = 254299\n",
      "\n",
      "Nr. of bins = 5\n",
      "Correlation ratio, eta, btw. the discretized and its original variable: 0.968\n",
      "Correlation ratio, eta, btw. the discretized and dependent variable: 0.152\n",
      "R-squared adjusted = 0.519\n",
      "RMSE = 254679\n",
      "\n",
      "Nr. of bins = 7\n",
      "Correlation ratio, eta, btw. the discretized and its original variable: 0.985\n",
      "Correlation ratio, eta, btw. the discretized and dependent variable: 0.173\n",
      "R-squared adjusted = 0.519\n",
      "RMSE = 254613\n",
      "\n",
      "Nr. of bins = 9\n",
      "Correlation ratio, eta, btw. the discretized and its original variable: 0.989\n",
      "Correlation ratio, eta, btw. the discretized and dependent variable: 0.165\n",
      "R-squared adjusted = 0.519\n",
      "RMSE = 254682\n",
      "\n",
      "Nr. of bins = 11\n",
      "Correlation ratio, eta, btw. the discretized and its original variable: 0.992\n",
      "Correlation ratio, eta, btw. the discretized and dependent variable: 0.165\n",
      "R-squared adjusted = 0.520\n",
      "RMSE = 254356\n"
     ]
    }
   ],
   "source": [
    "print(\"Results for quantile binning:\")\n",
    "print(\"=============================\")\n",
    "for k in range(3,12,2):\n",
    "    discretizer=KBinsDiscretizer(n_bins=k, encode='ordinal', strategy='quantile')\n",
    "    data['yrbuiltCat']=discretizer.fit_transform(np.array(data['yr_built']).reshape(-1, 1))\n",
    "    print(\"\\nNr. of bins =\",k)\n",
    "    print('Correlation ratio, eta, btw. the discretized and its original variable: {:.3f}'\\\n",
    "          .format(np.sqrt(eta2(data['yrbuiltCat'],data['yr_built']))))\n",
    "    print('Correlation ratio, eta, btw. the discretized and dependent variable: {:.3f}'\\\n",
    "          .format(np.sqrt(eta2(data['yrbuiltCat'],data['price']))))\n",
    "    model = ols(formula = 'price ~ sqft_living + yrbuiltCat', data=data).fit()\n",
    "    print(\"R-squared adjusted = {:.3f}\".format(model.rsquared_adj))\n",
    "    print(\"RMSE = {:.0f}\".format(np.sqrt(model.mse_resid)))"
   ]
  },
  {
   "cell_type": "markdown",
   "metadata": {},
   "source": [
    "Again, we may conclude that the correlation ratios increase with the number of bins (by increasing the number of bins, the information loss is less). However, this is not true for the linear model goodness-of-fit.\n",
    "\n",
    "Using the formula of Dougherty, the following value for the number of bins should be optimal."
   ]
  },
  {
   "cell_type": "code",
   "execution_count": 25,
   "metadata": {},
   "outputs": [
    {
     "data": {
      "text/plain": [
       "8.669430106928717"
      ]
     },
     "execution_count": 25,
     "metadata": {},
     "output_type": "execute_result"
    }
   ],
   "source": [
    "N,_=data.shape\n",
    "max(1,2*np.log10(N))"
   ]
  },
  {
   "cell_type": "markdown",
   "metadata": {},
   "source": [
    "That is approximately nine bins.\n",
    "\n",
    "Finally, we can print out the correlation ratios, respective the linear model goodness-of-fit when the k-means binning (or k-means discretization) is selected for the different number of bins. Again, the created categorical variable will be treated as an ordinal variable.\n",
    "\n",
    "**Note:** *k-means binning or discretization is based on k-means clustering, an unsupervised machine learning algorithm discussed in the third volume of the book series.*"
   ]
  },
  {
   "cell_type": "code",
   "execution_count": 26,
   "metadata": {},
   "outputs": [
    {
     "name": "stdout",
     "output_type": "stream",
     "text": [
      "Results for k-means binning:\n",
      "============================\n",
      "\n",
      "Nr. of bins = 3\n",
      "Correlation ratio, eta, btw. the discretized and its original variable: 0.933\n",
      "Correlation ratio, eta, btw. the discretized and dependent variable: 0.167\n",
      "R-squared adjusted = 0.521\n",
      "RMSE = 254129\n",
      "\n",
      "Nr. of bins = 5\n",
      "Correlation ratio, eta, btw. the discretized and its original variable: 0.979\n",
      "Correlation ratio, eta, btw. the discretized and dependent variable: 0.167\n",
      "R-squared adjusted = 0.526\n",
      "RMSE = 252853\n",
      "\n",
      "Nr. of bins = 7\n",
      "Correlation ratio, eta, btw. the discretized and its original variable: 0.988\n",
      "Correlation ratio, eta, btw. the discretized and dependent variable: 0.173\n",
      "R-squared adjusted = 0.524\n",
      "RMSE = 253271\n",
      "\n",
      "Nr. of bins = 9\n",
      "Correlation ratio, eta, btw. the discretized and its original variable: 0.992\n",
      "Correlation ratio, eta, btw. the discretized and dependent variable: 0.175\n",
      "R-squared adjusted = 0.526\n",
      "RMSE = 252886\n",
      "\n",
      "Nr. of bins = 11\n",
      "Correlation ratio, eta, btw. the discretized and its original variable: 0.995\n",
      "Correlation ratio, eta, btw. the discretized and dependent variable: 0.180\n",
      "R-squared adjusted = 0.525\n",
      "RMSE = 253109\n"
     ]
    }
   ],
   "source": [
    "print(\"Results for k-means binning:\")\n",
    "print(\"============================\")\n",
    "for k in range(3,12,2):\n",
    "    discretizer=KBinsDiscretizer(n_bins=k, encode='ordinal', strategy='kmeans')\n",
    "    data['yrbuiltCat']=discretizer.fit_transform(np.array(data['yr_built']).reshape(-1, 1))\n",
    "    print(\"\\nNr. of bins =\",k)\n",
    "    print('Correlation ratio, eta, btw. the discretized and its original variable: {:.3f}'\\\n",
    "          .format(np.sqrt(eta2(data['yrbuiltCat'],data['yr_built']))))\n",
    "    print('Correlation ratio, eta, btw. the discretized and dependent variable: {:.3f}'\\\n",
    "          .format(np.sqrt(eta2(data['yrbuiltCat'],data['price']))))\n",
    "    model = ols(formula = 'price ~ sqft_living + yrbuiltCat', data=data).fit()\n",
    "    print(\"R-squared adjusted = {:.3f}\".format(model.rsquared_adj))\n",
    "    print(\"RMSE = {:.0f}\".format(np.sqrt(model.mse_resid)))"
   ]
  },
  {
   "cell_type": "markdown",
   "metadata": {},
   "source": [
    "The same conclusion can be drawn as previously: both correlation ratios increase with the number of bins (by increasing the number of bins the information loss is less). However, this is not true for the linear model goodness-of-fit.\n",
    "\n",
    "Looking at the overall results, the best goodness-of-fit is obtained with *k-means binning* using 5 intervals.<br>\n",
    "Let's print out the OLS results using *statsmodels* library."
   ]
  },
  {
   "cell_type": "code",
   "execution_count": 27,
   "metadata": {},
   "outputs": [
    {
     "name": "stdout",
     "output_type": "stream",
     "text": [
      "                            OLS Regression Results                            \n",
      "==============================================================================\n",
      "Dep. Variable:                  price   R-squared:                       0.526\n",
      "Model:                            OLS   Adj. R-squared:                  0.526\n",
      "Method:                 Least Squares   F-statistic:                 1.198e+04\n",
      "Date:                Wed, 08 Sep 2021   Prob (F-statistic):               0.00\n",
      "Time:                        20:23:55   Log-Likelihood:            -2.9954e+05\n",
      "No. Observations:               21613   AIC:                         5.991e+05\n",
      "Df Residuals:                   21610   BIC:                         5.991e+05\n",
      "Df Model:                           2                                         \n",
      "Covariance Type:            nonrobust                                         \n",
      "===============================================================================\n",
      "                  coef    std err          t      P>|t|      [0.025      0.975]\n",
      "-------------------------------------------------------------------------------\n",
      "Intercept    2.415e+04   4603.927      5.246      0.000    1.51e+04    3.32e+04\n",
      "sqft_living   305.9490      1.984    154.218      0.000     302.060     309.838\n",
      "yrbuiltCat  -5.098e+04   1318.175    -38.678      0.000   -5.36e+04   -4.84e+04\n",
      "==============================================================================\n",
      "Omnibus:                    14354.444   Durbin-Watson:                   1.976\n",
      "Prob(Omnibus):                  0.000   Jarque-Bera (JB):           518846.149\n",
      "Skew:                           2.692   Prob(JB):                         0.00\n",
      "Kurtosis:                      26.391   Cond. No.                     6.12e+03\n",
      "==============================================================================\n",
      "\n",
      "Notes:\n",
      "[1] Standard Errors assume that the covariance matrix of the errors is correctly specified.\n",
      "[2] The condition number is large, 6.12e+03. This might indicate that there are\n",
      "strong multicollinearity or other numerical problems.\n",
      "\n",
      "RMSE = 252853\n"
     ]
    }
   ],
   "source": [
    "discretizer=KBinsDiscretizer(n_bins=5, encode='ordinal', strategy='kmeans')\n",
    "data['yrbuiltCat']=discretizer.fit_transform(np.array(data['yr_built']).reshape(-1, 1))\n",
    "model = ols(formula = 'price ~ sqft_living + yrbuiltCat', data=data).fit()\n",
    "print(model.summary())\n",
    "print(\"\\nRMSE = {:.0f}\".format(np.sqrt(model.mse_resid)))"
   ]
  },
  {
   "cell_type": "markdown",
   "metadata": {},
   "source": [
    "In a conclusion, although information is lost during discretization, a very minor improvement (although is negligible) in the model goodness-of-fit could be achieved with the appropriate selection of discretization method and number of bins.\n",
    "\n",
    "Finally, let's create a pipeline where the column transformer has both the 'binarizer' and 'discretizer' transformations included."
   ]
  },
  {
   "cell_type": "code",
   "execution_count": 28,
   "metadata": {},
   "outputs": [
    {
     "data": {
      "text/html": [
       "<style>div.sk-top-container {color: black;background-color: white;}div.sk-toggleable {background-color: white;}label.sk-toggleable__label {cursor: pointer;display: block;width: 100%;margin-bottom: 0;padding: 0.2em 0.3em;box-sizing: border-box;text-align: center;}div.sk-toggleable__content {max-height: 0;max-width: 0;overflow: hidden;text-align: left;background-color: #f0f8ff;}div.sk-toggleable__content pre {margin: 0.2em;color: black;border-radius: 0.25em;background-color: #f0f8ff;}input.sk-toggleable__control:checked~div.sk-toggleable__content {max-height: 200px;max-width: 100%;overflow: auto;}div.sk-estimator input.sk-toggleable__control:checked~label.sk-toggleable__label {background-color: #d4ebff;}div.sk-label input.sk-toggleable__control:checked~label.sk-toggleable__label {background-color: #d4ebff;}input.sk-hidden--visually {border: 0;clip: rect(1px 1px 1px 1px);clip: rect(1px, 1px, 1px, 1px);height: 1px;margin: -1px;overflow: hidden;padding: 0;position: absolute;width: 1px;}div.sk-estimator {font-family: monospace;background-color: #f0f8ff;margin: 0.25em 0.25em;border: 1px dotted black;border-radius: 0.25em;box-sizing: border-box;}div.sk-estimator:hover {background-color: #d4ebff;}div.sk-parallel-item::after {content: \"\";width: 100%;border-bottom: 1px solid gray;flex-grow: 1;}div.sk-label:hover label.sk-toggleable__label {background-color: #d4ebff;}div.sk-serial::before {content: \"\";position: absolute;border-left: 1px solid gray;box-sizing: border-box;top: 2em;bottom: 0;left: 50%;}div.sk-serial {display: flex;flex-direction: column;align-items: center;background-color: white;}div.sk-item {z-index: 1;}div.sk-parallel {display: flex;align-items: stretch;justify-content: center;background-color: white;}div.sk-parallel-item {display: flex;flex-direction: column;position: relative;background-color: white;}div.sk-parallel-item:first-child::after {align-self: flex-end;width: 50%;}div.sk-parallel-item:last-child::after {align-self: flex-start;width: 50%;}div.sk-parallel-item:only-child::after {width: 0;}div.sk-dashed-wrapped {border: 1px dashed gray;margin: 0.2em;box-sizing: border-box;padding-bottom: 0.1em;background-color: white;position: relative;}div.sk-label label {font-family: monospace;font-weight: bold;background-color: white;display: inline-block;line-height: 1.2em;}div.sk-label-container {position: relative;z-index: 2;text-align: center;}div.sk-container {display: inline-block;position: relative;}</style><div class=\"sk-top-container\"><div class=\"sk-container\"><div class=\"sk-item sk-dashed-wrapped\"><div class=\"sk-label-container\"><div class=\"sk-label sk-toggleable\"><input class=\"sk-toggleable__control sk-hidden--visually\" id=\"8c6de454-8408-4cd8-a412-d5a294b5c183\" type=\"checkbox\" ><label class=\"sk-toggleable__label\" for=\"8c6de454-8408-4cd8-a412-d5a294b5c183\">Pipeline</label><div class=\"sk-toggleable__content\"><pre>Pipeline(steps=[('preproc',\n",
       "                 ColumnTransformer(transformers=[('notransf', 'passthrough',\n",
       "                                                  ['sqft_living']),\n",
       "                                                 ('binarizer',\n",
       "                                                  Binarizer(threshold=0),\n",
       "                                                  ['yr_renovated']),\n",
       "                                                 ('discretizer',\n",
       "                                                  KBinsDiscretizer(encode='ordinal',\n",
       "                                                                   strategy='kmeans'),\n",
       "                                                  ['yr_built'])])),\n",
       "                ('regr', LinearRegression())])</pre></div></div></div><div class=\"sk-serial\"><div class=\"sk-item sk-dashed-wrapped\"><div class=\"sk-label-container\"><div class=\"sk-label sk-toggleable\"><input class=\"sk-toggleable__control sk-hidden--visually\" id=\"a44ecb72-0558-4cf0-ac00-f30d6c7beb38\" type=\"checkbox\" ><label class=\"sk-toggleable__label\" for=\"a44ecb72-0558-4cf0-ac00-f30d6c7beb38\">preproc: ColumnTransformer</label><div class=\"sk-toggleable__content\"><pre>ColumnTransformer(transformers=[('notransf', 'passthrough', ['sqft_living']),\n",
       "                                ('binarizer', Binarizer(threshold=0),\n",
       "                                 ['yr_renovated']),\n",
       "                                ('discretizer',\n",
       "                                 KBinsDiscretizer(encode='ordinal',\n",
       "                                                  strategy='kmeans'),\n",
       "                                 ['yr_built'])])</pre></div></div></div><div class=\"sk-parallel\"><div class=\"sk-parallel-item\"><div class=\"sk-item\"><div class=\"sk-label-container\"><div class=\"sk-label sk-toggleable\"><input class=\"sk-toggleable__control sk-hidden--visually\" id=\"804d0625-51b4-4985-82bd-1bd59b702dda\" type=\"checkbox\" ><label class=\"sk-toggleable__label\" for=\"804d0625-51b4-4985-82bd-1bd59b702dda\">notransf</label><div class=\"sk-toggleable__content\"><pre>['sqft_living']</pre></div></div></div><div class=\"sk-serial\"><div class=\"sk-item\"><div class=\"sk-estimator sk-toggleable\"><input class=\"sk-toggleable__control sk-hidden--visually\" id=\"f0968b78-d47f-43ea-8051-00c9fc18d99c\" type=\"checkbox\" ><label class=\"sk-toggleable__label\" for=\"f0968b78-d47f-43ea-8051-00c9fc18d99c\">passthrough</label><div class=\"sk-toggleable__content\"><pre>passthrough</pre></div></div></div></div></div></div><div class=\"sk-parallel-item\"><div class=\"sk-item\"><div class=\"sk-label-container\"><div class=\"sk-label sk-toggleable\"><input class=\"sk-toggleable__control sk-hidden--visually\" id=\"e30b6f60-418a-4068-9c0c-d247146e8d86\" type=\"checkbox\" ><label class=\"sk-toggleable__label\" for=\"e30b6f60-418a-4068-9c0c-d247146e8d86\">binarizer</label><div class=\"sk-toggleable__content\"><pre>['yr_renovated']</pre></div></div></div><div class=\"sk-serial\"><div class=\"sk-item\"><div class=\"sk-estimator sk-toggleable\"><input class=\"sk-toggleable__control sk-hidden--visually\" id=\"cba62d8a-4a4b-4480-b4cf-9d595578adfc\" type=\"checkbox\" ><label class=\"sk-toggleable__label\" for=\"cba62d8a-4a4b-4480-b4cf-9d595578adfc\">Binarizer</label><div class=\"sk-toggleable__content\"><pre>Binarizer(threshold=0)</pre></div></div></div></div></div></div><div class=\"sk-parallel-item\"><div class=\"sk-item\"><div class=\"sk-label-container\"><div class=\"sk-label sk-toggleable\"><input class=\"sk-toggleable__control sk-hidden--visually\" id=\"3900c7ae-a040-419f-89a4-67fa1d937a19\" type=\"checkbox\" ><label class=\"sk-toggleable__label\" for=\"3900c7ae-a040-419f-89a4-67fa1d937a19\">discretizer</label><div class=\"sk-toggleable__content\"><pre>['yr_built']</pre></div></div></div><div class=\"sk-serial\"><div class=\"sk-item\"><div class=\"sk-estimator sk-toggleable\"><input class=\"sk-toggleable__control sk-hidden--visually\" id=\"eb025200-dfce-4e31-934d-aa5487cb54e1\" type=\"checkbox\" ><label class=\"sk-toggleable__label\" for=\"eb025200-dfce-4e31-934d-aa5487cb54e1\">KBinsDiscretizer</label><div class=\"sk-toggleable__content\"><pre>KBinsDiscretizer(encode='ordinal', strategy='kmeans')</pre></div></div></div></div></div></div></div></div><div class=\"sk-item\"><div class=\"sk-estimator sk-toggleable\"><input class=\"sk-toggleable__control sk-hidden--visually\" id=\"10d30978-97eb-4f0d-aebc-3ffe563ff036\" type=\"checkbox\" ><label class=\"sk-toggleable__label\" for=\"10d30978-97eb-4f0d-aebc-3ffe563ff036\">LinearRegression</label><div class=\"sk-toggleable__content\"><pre>LinearRegression()</pre></div></div></div></div></div></div></div>"
      ],
      "text/plain": [
       "Pipeline(steps=[('preproc',\n",
       "                 ColumnTransformer(transformers=[('notransf', 'passthrough',\n",
       "                                                  ['sqft_living']),\n",
       "                                                 ('binarizer',\n",
       "                                                  Binarizer(threshold=0),\n",
       "                                                  ['yr_renovated']),\n",
       "                                                 ('discretizer',\n",
       "                                                  KBinsDiscretizer(encode='ordinal',\n",
       "                                                                   strategy='kmeans'),\n",
       "                                                  ['yr_built'])])),\n",
       "                ('regr', LinearRegression())])"
      ]
     },
     "execution_count": 28,
     "metadata": {},
     "output_type": "execute_result"
    }
   ],
   "source": [
    "ct = ColumnTransformer(transformers=[('notransf','passthrough',['sqft_living']),\\\n",
    "                                     ('binarizer',binarize,['yr_renovated']),\\\n",
    "                                     ('discretizer',discretizer,['yr_built'])])\n",
    "pipe=Pipeline(steps=[('preproc',ct),('regr',linregr)])\n",
    "pipe.fit(data,data['price'])"
   ]
  },
  {
   "cell_type": "markdown",
   "metadata": {},
   "source": [
    "Then using this pipeline, we can print out the regression coefficients and model goodness-of-fit. "
   ]
  },
  {
   "cell_type": "code",
   "execution_count": 29,
   "metadata": {},
   "outputs": [
    {
     "name": "stdout",
     "output_type": "stream",
     "text": [
      "Regression coefficients:\n",
      " 18534.847576160566\n",
      "[[   303.38787345]\n",
      " [ 81663.38309027]\n",
      " [-47812.889909  ]]\n",
      "R-squared: 0.528\n",
      "RMSE = 252337\n"
     ]
    }
   ],
   "source": [
    "print(\"Regression coefficients:\\n\",pipe['regr'].intercept_)\n",
    "print(pipe['regr'].coef_[:,np.newaxis])\n",
    "#print(\"R-squared:\",pipe['regr'].score(data,data['price']))\n",
    "print(\"R-squared: {:.3f}\".format(pipe['regr'].score(ct.transform(data),data['price'])))\n",
    "#r_=pipe['regr'].predict(data)[:,np.newaxis]-np.array(data['price'])[:,np.newaxis]\n",
    "r_=pipe['regr'].predict(ct.transform(data))[:,np.newaxis]-np.array(data['price'])[:,np.newaxis]\n",
    "print(\"RMSE = {:.0f}\".format(float(np.sqrt(r_.T@r_/r_.shape[0]))))"
   ]
  },
  {
   "cell_type": "markdown",
   "metadata": {},
   "source": [
    "We may compare the OLS results of the model using numerical variables with the model using their discretized counterparts.\n",
    "For this we use the three numeric input variables first: 'sqft_living', 'yr_renovated', and 'yr_built'."
   ]
  },
  {
   "cell_type": "code",
   "execution_count": 30,
   "metadata": {},
   "outputs": [
    {
     "name": "stdout",
     "output_type": "stream",
     "text": [
      "                     OLS results with numerical variables                     \n",
      "==============================================================================\n",
      "Dep. Variable:                  price   R-squared:                       0.527\n",
      "Model:                            OLS   Adj. R-squared:                  0.527\n",
      "Method:                 Least Squares   F-statistic:                     8013.\n",
      "Date:                Wed, 08 Sep 2021   Prob (F-statistic):               0.00\n",
      "Time:                        20:23:55   Log-Likelihood:            -2.9952e+05\n",
      "No. Observations:               21613   AIC:                         5.991e+05\n",
      "Df Residuals:                   21609   BIC:                         5.991e+05\n",
      "Df Model:                           3                                         \n",
      "Covariance Type:            nonrobust                                         \n",
      "================================================================================\n",
      "                   coef    std err          t      P>|t|      [0.025      0.975]\n",
      "--------------------------------------------------------------------------------\n",
      "Intercept     4.249e+06   1.25e+05     34.105      0.000       4e+06    4.49e+06\n",
      "sqft_living    302.0269      1.992    151.599      0.000     298.122     305.932\n",
      "yr_renovated    41.1141      4.432      9.276      0.000      32.426      49.802\n",
      "yr_built     -2202.0584     63.833    -34.497      0.000   -2327.176   -2076.941\n",
      "==============================================================================\n",
      "Omnibus:                    14359.975   Durbin-Watson:                   1.973\n",
      "Prob(Omnibus):                  0.000   Jarque-Bera (JB):           517242.134\n",
      "Skew:                           2.695   Prob(JB):                         0.00\n",
      "Kurtosis:                      26.352   Cond. No.                     2.14e+05\n",
      "==============================================================================\n",
      "\n",
      "Notes:\n",
      "[1] Standard Errors assume that the covariance matrix of the errors is correctly specified.\n",
      "[2] The condition number is large, 2.14e+05. This might indicate that there are\n",
      "strong multicollinearity or other numerical problems.\n",
      "\n",
      "RMSE = 252612\n"
     ]
    }
   ],
   "source": [
    "model = ols(formula = 'price ~ sqft_living + yr_renovated + yr_built', data=data).fit()\n",
    "print(model.summary(title=\"OLS results with numerical variables\"))\n",
    "print(\"\\nRMSE = {:.0f}\".format(np.sqrt(model.mse_resid)))"
   ]
  },
  {
   "cell_type": "markdown",
   "metadata": {},
   "source": [
    "Now print out the OLS results using the discretized counterparts (except for 'sqft_living): 'renovated' and 'yrbuiltCat'."
   ]
  },
  {
   "cell_type": "code",
   "execution_count": 31,
   "metadata": {},
   "outputs": [
    {
     "name": "stdout",
     "output_type": "stream",
     "text": [
      "                OLS results with binary and ordinal variables                 \n",
      "==============================================================================\n",
      "Dep. Variable:                  price   R-squared:                       0.528\n",
      "Model:                            OLS   Adj. R-squared:                  0.527\n",
      "Method:                 Least Squares   F-statistic:                     8043.\n",
      "Date:                Wed, 08 Sep 2021   Prob (F-statistic):               0.00\n",
      "Time:                        20:23:55   Log-Likelihood:            -2.9950e+05\n",
      "No. Observations:               21613   AIC:                         5.990e+05\n",
      "Df Residuals:                   21609   BIC:                         5.990e+05\n",
      "Df Model:                           3                                         \n",
      "Covariance Type:            nonrobust                                         \n",
      "===============================================================================\n",
      "                  coef    std err          t      P>|t|      [0.025      0.975]\n",
      "-------------------------------------------------------------------------------\n",
      "Intercept    1.853e+04   4634.873      3.999      0.000    9450.154    2.76e+04\n",
      "sqft_living   303.3879      1.999    151.749      0.000     299.469     307.307\n",
      "renovated    8.166e+04   8827.856      9.251      0.000    6.44e+04     9.9e+04\n",
      "yrbuiltCat  -4.781e+04   1359.532    -35.169      0.000   -5.05e+04   -4.51e+04\n",
      "==============================================================================\n",
      "Omnibus:                    14325.591   Durbin-Watson:                   1.978\n",
      "Prob(Omnibus):                  0.000   Jarque-Bera (JB):           517235.109\n",
      "Skew:                           2.684   Prob(JB):                         0.00\n",
      "Kurtosis:                      26.357   Cond. No.                     1.17e+04\n",
      "==============================================================================\n",
      "\n",
      "Notes:\n",
      "[1] Standard Errors assume that the covariance matrix of the errors is correctly specified.\n",
      "[2] The condition number is large, 1.17e+04. This might indicate that there are\n",
      "strong multicollinearity or other numerical problems.\n",
      "\n",
      "RMSE = 252360\n"
     ]
    }
   ],
   "source": [
    "model = ols(formula = 'price ~ sqft_living + renovated + yrbuiltCat', data=data).fit()\n",
    "print(model.summary(title=\"OLS results with binary and ordinal variables\"))\n",
    "print(\"\\nRMSE = {:.0f}\".format(np.sqrt(model.mse_resid)))"
   ]
  },
  {
   "cell_type": "markdown",
   "metadata": {},
   "source": [
    "Finally, we may compare the Spearman correlation coefficient between the input numerical variables 'yr_renovated' and 'yr_built'"
   ]
  },
  {
   "cell_type": "code",
   "execution_count": 32,
   "metadata": {},
   "outputs": [
    {
     "name": "stdout",
     "output_type": "stream",
     "text": [
      "Spearman correlation between 'yr_renovated' and 'yr_built': -0.2145042001694274\n"
     ]
    }
   ],
   "source": [
    "print(\"Spearman correlation between 'yr_renovated' and 'yr_built':\",\\\n",
    "      np.array(data[['yr_renovated','yr_built']].corr(method='spearman'))[0,1])"
   ]
  },
  {
   "cell_type": "markdown",
   "metadata": {},
   "source": [
    "respective between categorical variables 'renovated' and 'yrbuiltCat':"
   ]
  },
  {
   "cell_type": "code",
   "execution_count": 33,
   "metadata": {},
   "outputs": [
    {
     "name": "stdout",
     "output_type": "stream",
     "text": [
      "Spearman correlation between 'renovated' and 'yrbuiltCat': -0.21298609971429117\n"
     ]
    }
   ],
   "source": [
    "print(\"Spearman correlation between 'renovated' and 'yrbuiltCat':\",\\\n",
    "      np.array(data[['renovated','yrbuiltCat']].corr(method='spearman'))[0,1])"
   ]
  },
  {
   "cell_type": "markdown",
   "metadata": {},
   "source": [
    "As can be seen, there is only a small change in the Spearman correlation coefficient after discretization. That should not be a surprise because the Spearman correlation is based on ranking, and that is only partly changed by discretization (with discretization, several tied ranks are created)."
   ]
  },
  {
   "cell_type": "markdown",
   "metadata": {},
   "source": [
    "## 3. Discretization with one-hot encoding <a name=\"DiscretizationOneHot\"></a>\n",
    "\n",
    "As a reminder, the regression coefficient of the 'yr_built' is negative, which is counterintuitive, since that means - all other predictors being the same -, the newer the house, the lower the price. \n",
    "\n",
    "Now, using our domain knowledge, we might observe that very old houses are in the downtown and the houses in the city center always have higher prices compared to the houses sitting at the edge of the city. However, that is true only for downtown houses, and we should expect that a new house should have a higher price compared to a 10-year-old house in the same area. That means that the categorical variable 'yrbuiltCat' should not be encoded as ordinal but rather nominal because, even though the age (calendar year) is ordered, there should be no ordering between categories using our above reasoning.\n",
    "\n",
    "Now, let's discretize the 'yr_built\" again using three bins, but at this time as treating as a nominal variable, thus using one-hot encoding.\n",
    "\n",
    "**Note:** *The scikit-lean library supports sparse matrixes (matrices with most of its elements being zero), so it makes a distinction between 'onehot' encoding (sparse matrix with some special coding to save memory space) or 'onehot-dense' (when a complete matrix is stored with all the zero elements included).* "
   ]
  },
  {
   "cell_type": "code",
   "execution_count": 34,
   "metadata": {},
   "outputs": [
    {
     "data": {
      "text/html": [
       "<div>\n",
       "<style scoped>\n",
       "    .dataframe tbody tr th:only-of-type {\n",
       "        vertical-align: middle;\n",
       "    }\n",
       "\n",
       "    .dataframe tbody tr th {\n",
       "        vertical-align: top;\n",
       "    }\n",
       "\n",
       "    .dataframe thead th {\n",
       "        text-align: right;\n",
       "    }\n",
       "</style>\n",
       "<table border=\"1\" class=\"dataframe\">\n",
       "  <thead>\n",
       "    <tr style=\"text-align: right;\">\n",
       "      <th></th>\n",
       "      <th>old</th>\n",
       "      <th>middleage</th>\n",
       "      <th>new</th>\n",
       "    </tr>\n",
       "  </thead>\n",
       "  <tbody>\n",
       "    <tr>\n",
       "      <th>0</th>\n",
       "      <td>0.0</td>\n",
       "      <td>1.0</td>\n",
       "      <td>0.0</td>\n",
       "    </tr>\n",
       "    <tr>\n",
       "      <th>1</th>\n",
       "      <td>0.0</td>\n",
       "      <td>1.0</td>\n",
       "      <td>0.0</td>\n",
       "    </tr>\n",
       "    <tr>\n",
       "      <th>2</th>\n",
       "      <td>1.0</td>\n",
       "      <td>0.0</td>\n",
       "      <td>0.0</td>\n",
       "    </tr>\n",
       "    <tr>\n",
       "      <th>3</th>\n",
       "      <td>0.0</td>\n",
       "      <td>1.0</td>\n",
       "      <td>0.0</td>\n",
       "    </tr>\n",
       "    <tr>\n",
       "      <th>4</th>\n",
       "      <td>0.0</td>\n",
       "      <td>0.0</td>\n",
       "      <td>1.0</td>\n",
       "    </tr>\n",
       "    <tr>\n",
       "      <th>...</th>\n",
       "      <td>...</td>\n",
       "      <td>...</td>\n",
       "      <td>...</td>\n",
       "    </tr>\n",
       "    <tr>\n",
       "      <th>21608</th>\n",
       "      <td>0.0</td>\n",
       "      <td>0.0</td>\n",
       "      <td>1.0</td>\n",
       "    </tr>\n",
       "    <tr>\n",
       "      <th>21609</th>\n",
       "      <td>0.0</td>\n",
       "      <td>0.0</td>\n",
       "      <td>1.0</td>\n",
       "    </tr>\n",
       "    <tr>\n",
       "      <th>21610</th>\n",
       "      <td>0.0</td>\n",
       "      <td>0.0</td>\n",
       "      <td>1.0</td>\n",
       "    </tr>\n",
       "    <tr>\n",
       "      <th>21611</th>\n",
       "      <td>0.0</td>\n",
       "      <td>0.0</td>\n",
       "      <td>1.0</td>\n",
       "    </tr>\n",
       "    <tr>\n",
       "      <th>21612</th>\n",
       "      <td>0.0</td>\n",
       "      <td>0.0</td>\n",
       "      <td>1.0</td>\n",
       "    </tr>\n",
       "  </tbody>\n",
       "</table>\n",
       "<p>21613 rows × 3 columns</p>\n",
       "</div>"
      ],
      "text/plain": [
       "       old  middleage  new\n",
       "0      0.0        1.0  0.0\n",
       "1      0.0        1.0  0.0\n",
       "2      1.0        0.0  0.0\n",
       "3      0.0        1.0  0.0\n",
       "4      0.0        0.0  1.0\n",
       "...    ...        ...  ...\n",
       "21608  0.0        0.0  1.0\n",
       "21609  0.0        0.0  1.0\n",
       "21610  0.0        0.0  1.0\n",
       "21611  0.0        0.0  1.0\n",
       "21612  0.0        0.0  1.0\n",
       "\n",
       "[21613 rows x 3 columns]"
      ]
     },
     "execution_count": 34,
     "metadata": {},
     "output_type": "execute_result"
    }
   ],
   "source": [
    "columns=['old','middleage','new'] # name of the categories\n",
    "discretizer=KBinsDiscretizer(n_bins=len(columns), encode='onehot-dense', strategy='uniform')\n",
    "data2=pd.DataFrame(data=discretizer.fit_transform(np.array(data['yr_built']).reshape(-1, 1)),columns=columns)\n",
    "data2"
   ]
  },
  {
   "cell_type": "markdown",
   "metadata": {},
   "source": [
    "We can check the interval edges of each category:"
   ]
  },
  {
   "cell_type": "code",
   "execution_count": 35,
   "metadata": {},
   "outputs": [
    {
     "name": "stdout",
     "output_type": "stream",
     "text": [
      "{'old': (1900.0, 1938.3333333333333)}\n",
      "{'middleage': (1938.3333333333333, 1976.6666666666667)}\n",
      "{'new': (1976.6666666666667, 2015.0)}\n"
     ]
    }
   ],
   "source": [
    "for i in range(len(columns)):\n",
    "    print({columns[i]:(discretizer.bin_edges_[0][i],discretizer.bin_edges_[0][i+1])})"
   ]
  },
  {
   "cell_type": "markdown",
   "metadata": {},
   "source": [
    "The newly created dummy variables can be concatenated to the original *pandas* dataframe."
   ]
  },
  {
   "cell_type": "code",
   "execution_count": 36,
   "metadata": {
    "scrolled": false
   },
   "outputs": [
    {
     "data": {
      "text/html": [
       "<div>\n",
       "<style scoped>\n",
       "    .dataframe tbody tr th:only-of-type {\n",
       "        vertical-align: middle;\n",
       "    }\n",
       "\n",
       "    .dataframe tbody tr th {\n",
       "        vertical-align: top;\n",
       "    }\n",
       "\n",
       "    .dataframe thead th {\n",
       "        text-align: right;\n",
       "    }\n",
       "</style>\n",
       "<table border=\"1\" class=\"dataframe\">\n",
       "  <thead>\n",
       "    <tr style=\"text-align: right;\">\n",
       "      <th></th>\n",
       "      <th>id</th>\n",
       "      <th>date</th>\n",
       "      <th>price</th>\n",
       "      <th>bedrooms</th>\n",
       "      <th>bathrooms</th>\n",
       "      <th>sqft_living</th>\n",
       "      <th>sqft_lot</th>\n",
       "      <th>floors</th>\n",
       "      <th>waterfront</th>\n",
       "      <th>view</th>\n",
       "      <th>...</th>\n",
       "      <th>zipcode</th>\n",
       "      <th>lat</th>\n",
       "      <th>long</th>\n",
       "      <th>sqft_living15</th>\n",
       "      <th>sqft_lot15</th>\n",
       "      <th>renovated</th>\n",
       "      <th>yrbuiltCat</th>\n",
       "      <th>old</th>\n",
       "      <th>middleage</th>\n",
       "      <th>new</th>\n",
       "    </tr>\n",
       "  </thead>\n",
       "  <tbody>\n",
       "    <tr>\n",
       "      <th>0</th>\n",
       "      <td>7129300520</td>\n",
       "      <td>20141013T000000</td>\n",
       "      <td>221900</td>\n",
       "      <td>3</td>\n",
       "      <td>1.00</td>\n",
       "      <td>1180</td>\n",
       "      <td>5650</td>\n",
       "      <td>1.0</td>\n",
       "      <td>0</td>\n",
       "      <td>0</td>\n",
       "      <td>...</td>\n",
       "      <td>98178</td>\n",
       "      <td>47.5112</td>\n",
       "      <td>-122.257</td>\n",
       "      <td>1340</td>\n",
       "      <td>5650</td>\n",
       "      <td>0</td>\n",
       "      <td>1.0</td>\n",
       "      <td>0.0</td>\n",
       "      <td>1.0</td>\n",
       "      <td>0.0</td>\n",
       "    </tr>\n",
       "    <tr>\n",
       "      <th>1</th>\n",
       "      <td>6414100192</td>\n",
       "      <td>20141209T000000</td>\n",
       "      <td>538000</td>\n",
       "      <td>3</td>\n",
       "      <td>2.25</td>\n",
       "      <td>2570</td>\n",
       "      <td>7242</td>\n",
       "      <td>2.0</td>\n",
       "      <td>0</td>\n",
       "      <td>0</td>\n",
       "      <td>...</td>\n",
       "      <td>98125</td>\n",
       "      <td>47.7210</td>\n",
       "      <td>-122.319</td>\n",
       "      <td>1690</td>\n",
       "      <td>7639</td>\n",
       "      <td>1</td>\n",
       "      <td>1.0</td>\n",
       "      <td>0.0</td>\n",
       "      <td>1.0</td>\n",
       "      <td>0.0</td>\n",
       "    </tr>\n",
       "    <tr>\n",
       "      <th>2</th>\n",
       "      <td>5631500400</td>\n",
       "      <td>20150225T000000</td>\n",
       "      <td>180000</td>\n",
       "      <td>2</td>\n",
       "      <td>1.00</td>\n",
       "      <td>770</td>\n",
       "      <td>10000</td>\n",
       "      <td>1.0</td>\n",
       "      <td>0</td>\n",
       "      <td>0</td>\n",
       "      <td>...</td>\n",
       "      <td>98028</td>\n",
       "      <td>47.7379</td>\n",
       "      <td>-122.233</td>\n",
       "      <td>2720</td>\n",
       "      <td>8062</td>\n",
       "      <td>0</td>\n",
       "      <td>1.0</td>\n",
       "      <td>1.0</td>\n",
       "      <td>0.0</td>\n",
       "      <td>0.0</td>\n",
       "    </tr>\n",
       "    <tr>\n",
       "      <th>3</th>\n",
       "      <td>2487200875</td>\n",
       "      <td>20141209T000000</td>\n",
       "      <td>604000</td>\n",
       "      <td>4</td>\n",
       "      <td>3.00</td>\n",
       "      <td>1960</td>\n",
       "      <td>5000</td>\n",
       "      <td>1.0</td>\n",
       "      <td>0</td>\n",
       "      <td>0</td>\n",
       "      <td>...</td>\n",
       "      <td>98136</td>\n",
       "      <td>47.5208</td>\n",
       "      <td>-122.393</td>\n",
       "      <td>1360</td>\n",
       "      <td>5000</td>\n",
       "      <td>0</td>\n",
       "      <td>2.0</td>\n",
       "      <td>0.0</td>\n",
       "      <td>1.0</td>\n",
       "      <td>0.0</td>\n",
       "    </tr>\n",
       "    <tr>\n",
       "      <th>4</th>\n",
       "      <td>1954400510</td>\n",
       "      <td>20150218T000000</td>\n",
       "      <td>510000</td>\n",
       "      <td>3</td>\n",
       "      <td>2.00</td>\n",
       "      <td>1680</td>\n",
       "      <td>8080</td>\n",
       "      <td>1.0</td>\n",
       "      <td>0</td>\n",
       "      <td>0</td>\n",
       "      <td>...</td>\n",
       "      <td>98074</td>\n",
       "      <td>47.6168</td>\n",
       "      <td>-122.045</td>\n",
       "      <td>1800</td>\n",
       "      <td>7503</td>\n",
       "      <td>0</td>\n",
       "      <td>3.0</td>\n",
       "      <td>0.0</td>\n",
       "      <td>0.0</td>\n",
       "      <td>1.0</td>\n",
       "    </tr>\n",
       "    <tr>\n",
       "      <th>...</th>\n",
       "      <td>...</td>\n",
       "      <td>...</td>\n",
       "      <td>...</td>\n",
       "      <td>...</td>\n",
       "      <td>...</td>\n",
       "      <td>...</td>\n",
       "      <td>...</td>\n",
       "      <td>...</td>\n",
       "      <td>...</td>\n",
       "      <td>...</td>\n",
       "      <td>...</td>\n",
       "      <td>...</td>\n",
       "      <td>...</td>\n",
       "      <td>...</td>\n",
       "      <td>...</td>\n",
       "      <td>...</td>\n",
       "      <td>...</td>\n",
       "      <td>...</td>\n",
       "      <td>...</td>\n",
       "      <td>...</td>\n",
       "      <td>...</td>\n",
       "    </tr>\n",
       "    <tr>\n",
       "      <th>21608</th>\n",
       "      <td>263000018</td>\n",
       "      <td>20140521T000000</td>\n",
       "      <td>360000</td>\n",
       "      <td>3</td>\n",
       "      <td>2.50</td>\n",
       "      <td>1530</td>\n",
       "      <td>1131</td>\n",
       "      <td>3.0</td>\n",
       "      <td>0</td>\n",
       "      <td>0</td>\n",
       "      <td>...</td>\n",
       "      <td>98103</td>\n",
       "      <td>47.6993</td>\n",
       "      <td>-122.346</td>\n",
       "      <td>1530</td>\n",
       "      <td>1509</td>\n",
       "      <td>0</td>\n",
       "      <td>4.0</td>\n",
       "      <td>0.0</td>\n",
       "      <td>0.0</td>\n",
       "      <td>1.0</td>\n",
       "    </tr>\n",
       "    <tr>\n",
       "      <th>21609</th>\n",
       "      <td>6600060120</td>\n",
       "      <td>20150223T000000</td>\n",
       "      <td>400000</td>\n",
       "      <td>4</td>\n",
       "      <td>2.50</td>\n",
       "      <td>2310</td>\n",
       "      <td>5813</td>\n",
       "      <td>2.0</td>\n",
       "      <td>0</td>\n",
       "      <td>0</td>\n",
       "      <td>...</td>\n",
       "      <td>98146</td>\n",
       "      <td>47.5107</td>\n",
       "      <td>-122.362</td>\n",
       "      <td>1830</td>\n",
       "      <td>7200</td>\n",
       "      <td>0</td>\n",
       "      <td>4.0</td>\n",
       "      <td>0.0</td>\n",
       "      <td>0.0</td>\n",
       "      <td>1.0</td>\n",
       "    </tr>\n",
       "    <tr>\n",
       "      <th>21610</th>\n",
       "      <td>1523300141</td>\n",
       "      <td>20140623T000000</td>\n",
       "      <td>402101</td>\n",
       "      <td>2</td>\n",
       "      <td>0.75</td>\n",
       "      <td>1020</td>\n",
       "      <td>1350</td>\n",
       "      <td>2.0</td>\n",
       "      <td>0</td>\n",
       "      <td>0</td>\n",
       "      <td>...</td>\n",
       "      <td>98144</td>\n",
       "      <td>47.5944</td>\n",
       "      <td>-122.299</td>\n",
       "      <td>1020</td>\n",
       "      <td>2007</td>\n",
       "      <td>0</td>\n",
       "      <td>4.0</td>\n",
       "      <td>0.0</td>\n",
       "      <td>0.0</td>\n",
       "      <td>1.0</td>\n",
       "    </tr>\n",
       "    <tr>\n",
       "      <th>21611</th>\n",
       "      <td>291310100</td>\n",
       "      <td>20150116T000000</td>\n",
       "      <td>400000</td>\n",
       "      <td>3</td>\n",
       "      <td>2.50</td>\n",
       "      <td>1600</td>\n",
       "      <td>2388</td>\n",
       "      <td>2.0</td>\n",
       "      <td>0</td>\n",
       "      <td>0</td>\n",
       "      <td>...</td>\n",
       "      <td>98027</td>\n",
       "      <td>47.5345</td>\n",
       "      <td>-122.069</td>\n",
       "      <td>1410</td>\n",
       "      <td>1287</td>\n",
       "      <td>0</td>\n",
       "      <td>4.0</td>\n",
       "      <td>0.0</td>\n",
       "      <td>0.0</td>\n",
       "      <td>1.0</td>\n",
       "    </tr>\n",
       "    <tr>\n",
       "      <th>21612</th>\n",
       "      <td>1523300157</td>\n",
       "      <td>20141015T000000</td>\n",
       "      <td>325000</td>\n",
       "      <td>2</td>\n",
       "      <td>0.75</td>\n",
       "      <td>1020</td>\n",
       "      <td>1076</td>\n",
       "      <td>2.0</td>\n",
       "      <td>0</td>\n",
       "      <td>0</td>\n",
       "      <td>...</td>\n",
       "      <td>98144</td>\n",
       "      <td>47.5941</td>\n",
       "      <td>-122.299</td>\n",
       "      <td>1020</td>\n",
       "      <td>1357</td>\n",
       "      <td>0</td>\n",
       "      <td>4.0</td>\n",
       "      <td>0.0</td>\n",
       "      <td>0.0</td>\n",
       "      <td>1.0</td>\n",
       "    </tr>\n",
       "  </tbody>\n",
       "</table>\n",
       "<p>21613 rows × 26 columns</p>\n",
       "</div>"
      ],
      "text/plain": [
       "               id             date   price  bedrooms  bathrooms  sqft_living  \\\n",
       "0      7129300520  20141013T000000  221900         3       1.00         1180   \n",
       "1      6414100192  20141209T000000  538000         3       2.25         2570   \n",
       "2      5631500400  20150225T000000  180000         2       1.00          770   \n",
       "3      2487200875  20141209T000000  604000         4       3.00         1960   \n",
       "4      1954400510  20150218T000000  510000         3       2.00         1680   \n",
       "...           ...              ...     ...       ...        ...          ...   \n",
       "21608   263000018  20140521T000000  360000         3       2.50         1530   \n",
       "21609  6600060120  20150223T000000  400000         4       2.50         2310   \n",
       "21610  1523300141  20140623T000000  402101         2       0.75         1020   \n",
       "21611   291310100  20150116T000000  400000         3       2.50         1600   \n",
       "21612  1523300157  20141015T000000  325000         2       0.75         1020   \n",
       "\n",
       "       sqft_lot  floors  waterfront  view  ...  zipcode      lat     long  \\\n",
       "0          5650     1.0           0     0  ...    98178  47.5112 -122.257   \n",
       "1          7242     2.0           0     0  ...    98125  47.7210 -122.319   \n",
       "2         10000     1.0           0     0  ...    98028  47.7379 -122.233   \n",
       "3          5000     1.0           0     0  ...    98136  47.5208 -122.393   \n",
       "4          8080     1.0           0     0  ...    98074  47.6168 -122.045   \n",
       "...         ...     ...         ...   ...  ...      ...      ...      ...   \n",
       "21608      1131     3.0           0     0  ...    98103  47.6993 -122.346   \n",
       "21609      5813     2.0           0     0  ...    98146  47.5107 -122.362   \n",
       "21610      1350     2.0           0     0  ...    98144  47.5944 -122.299   \n",
       "21611      2388     2.0           0     0  ...    98027  47.5345 -122.069   \n",
       "21612      1076     2.0           0     0  ...    98144  47.5941 -122.299   \n",
       "\n",
       "       sqft_living15  sqft_lot15  renovated  yrbuiltCat  old  middleage  new  \n",
       "0               1340        5650          0         1.0  0.0        1.0  0.0  \n",
       "1               1690        7639          1         1.0  0.0        1.0  0.0  \n",
       "2               2720        8062          0         1.0  1.0        0.0  0.0  \n",
       "3               1360        5000          0         2.0  0.0        1.0  0.0  \n",
       "4               1800        7503          0         3.0  0.0        0.0  1.0  \n",
       "...              ...         ...        ...         ...  ...        ...  ...  \n",
       "21608           1530        1509          0         4.0  0.0        0.0  1.0  \n",
       "21609           1830        7200          0         4.0  0.0        0.0  1.0  \n",
       "21610           1020        2007          0         4.0  0.0        0.0  1.0  \n",
       "21611           1410        1287          0         4.0  0.0        0.0  1.0  \n",
       "21612           1020        1357          0         4.0  0.0        0.0  1.0  \n",
       "\n",
       "[21613 rows x 26 columns]"
      ]
     },
     "execution_count": 36,
     "metadata": {},
     "output_type": "execute_result"
    }
   ],
   "source": [
    "pd.concat([data,data2],axis=1)"
   ]
  },
  {
   "cell_type": "markdown",
   "metadata": {},
   "source": [
    "Then we can print out the OLS results using the *statsmodels* library. In this case, the 'new' category will be the baseline in our regression model."
   ]
  },
  {
   "cell_type": "code",
   "execution_count": 37,
   "metadata": {},
   "outputs": [
    {
     "name": "stdout",
     "output_type": "stream",
     "text": [
      "                  OLS results with nominal variable (bins=3)                  \n",
      "==============================================================================\n",
      "Dep. Variable:                  price   R-squared:                       0.527\n",
      "Model:                            OLS   Adj. R-squared:                  0.527\n",
      "Method:                 Least Squares   F-statistic:                     8024.\n",
      "Date:                Wed, 08 Sep 2021   Prob (F-statistic):               0.00\n",
      "Time:                        20:23:56   Log-Likelihood:            -2.9952e+05\n",
      "No. Observations:               21613   AIC:                         5.990e+05\n",
      "Df Residuals:                   21609   BIC:                         5.991e+05\n",
      "Df Model:                           3                                         \n",
      "Covariance Type:            nonrobust                                         \n",
      "===============================================================================\n",
      "                  coef    std err          t      P>|t|      [0.025      0.975]\n",
      "-------------------------------------------------------------------------------\n",
      "Intercept   -1.393e+05   5323.147    -26.174      0.000    -1.5e+05   -1.29e+05\n",
      "sqft_living   299.8630      1.975    151.793      0.000     295.991     303.735\n",
      "old          2.091e+05   5324.474     39.277      0.000    1.99e+05     2.2e+05\n",
      "middleage    6.935e+04   3912.466     17.726      0.000    6.17e+04     7.7e+04\n",
      "==============================================================================\n",
      "Omnibus:                    14647.897   Durbin-Watson:                   1.977\n",
      "Prob(Omnibus):                  0.000   Jarque-Bera (JB):           556789.026\n",
      "Skew:                           2.759   Prob(JB):                         0.00\n",
      "Kurtosis:                      27.245   Cond. No.                     8.99e+03\n",
      "==============================================================================\n",
      "\n",
      "Notes:\n",
      "[1] Standard Errors assume that the covariance matrix of the errors is correctly specified.\n",
      "[2] The condition number is large, 8.99e+03. This might indicate that there are\n",
      "strong multicollinearity or other numerical problems.\n",
      "\n",
      "RMSE = 252524\n"
     ]
    }
   ],
   "source": [
    "endformula=''.join([' + '+columns[i] for i in range(len(columns)-1)]) \n",
    "discretizer=KBinsDiscretizer(n_bins=len(columns), encode='onehot-dense', strategy='uniform')\n",
    "data2=pd.DataFrame(data=discretizer.fit_transform(np.array(data['yr_built']).reshape(-1, 1)),columns=columns)\n",
    "model = ols(formula = 'price ~ sqft_living'+ endformula, data=pd.concat([data,data2],axis=1)).fit()\n",
    "print(model.summary(title=\"OLS results with nominal variable (bins=3)\"))\n",
    "print(\"\\nRMSE = {:.0f}\".format(np.sqrt(model.mse_resid)))"
   ]
  },
  {
   "cell_type": "markdown",
   "metadata": {},
   "source": [
    "There is one strange thing: the regression coefficients become positive for 'old' and 'middleage' categories. For the original numerical variable, we had a negative coefficient. However, this is still in alignment, because we set 'new' as a reference level, and means that 'middleage' and 'old' categories provide a positive price increase compared to the reference level."
   ]
  },
  {
   "cell_type": "code",
   "execution_count": 38,
   "metadata": {},
   "outputs": [
    {
     "name": "stdout",
     "output_type": "stream",
     "text": [
      "                            OLS Regression Results                            \n",
      "==============================================================================\n",
      "Dep. Variable:                  price   R-squared:                       0.534\n",
      "Model:                            OLS   Adj. R-squared:                  0.533\n",
      "Method:                 Least Squares   F-statistic:                     6178.\n",
      "Date:                Wed, 08 Sep 2021   Prob (F-statistic):               0.00\n",
      "Time:                        20:23:56   Log-Likelihood:            -2.9936e+05\n",
      "No. Observations:               21613   AIC:                         5.987e+05\n",
      "Df Residuals:                   21608   BIC:                         5.988e+05\n",
      "Df Model:                           4                                         \n",
      "Covariance Type:            nonrobust                                         \n",
      "===============================================================================\n",
      "                  coef    std err          t      P>|t|      [0.025      0.975]\n",
      "-------------------------------------------------------------------------------\n",
      "Intercept   -1.468e+05   5648.101    -25.993      0.000   -1.58e+05   -1.36e+05\n",
      "sqft_living   303.8228      1.983    153.212      0.000     299.936     307.710\n",
      "old          2.147e+05   5900.001     36.397      0.000    2.03e+05    2.26e+05\n",
      "middleage    1.331e+05   5025.189     26.481      0.000    1.23e+05    1.43e+05\n",
      "newlike      1.049e+04   4223.220      2.483      0.013    2207.865    1.88e+04\n",
      "==============================================================================\n",
      "Omnibus:                    14575.318   Durbin-Watson:                   1.980\n",
      "Prob(Omnibus):                  0.000   Jarque-Bera (JB):           547728.340\n",
      "Skew:                           2.742   Prob(JB):                         0.00\n",
      "Kurtosis:                      27.045   Cond. No.                     1.08e+04\n",
      "==============================================================================\n",
      "\n",
      "Notes:\n",
      "[1] Standard Errors assume that the covariance matrix of the errors is correctly specified.\n",
      "[2] The condition number is large, 1.08e+04. This might indicate that there are\n",
      "strong multicollinearity or other numerical problems.\n",
      "\n",
      "RMSE = 250771\n"
     ]
    }
   ],
   "source": [
    "columns=['old','middleage','newlike','new']\n",
    "endformula=''.join([' + '+columns[i] for i in range(len(columns)-1)]) \n",
    "discretizer=KBinsDiscretizer(n_bins=len(columns), encode='onehot-dense', strategy='uniform')\n",
    "data2=pd.DataFrame(data=discretizer.fit_transform(np.array(data['yr_built']).reshape(-1, 1)),columns=columns)\n",
    "model = ols(formula = 'price ~ sqft_living'+endformula, data=pd.concat([data,data2],axis=1)).fit()\n",
    "print(model.summary())\n",
    "print(\"\\nRMSE = {:.0f}\".format(np.sqrt(model.mse_resid)))"
   ]
  },
  {
   "cell_type": "markdown",
   "metadata": {},
   "source": [
    "Now, the picture is cleared, the older the house, the higher the extra money you pay. But that is still counterintuitive. So let's refine the categories further."
   ]
  },
  {
   "cell_type": "code",
   "execution_count": 39,
   "metadata": {},
   "outputs": [
    {
     "name": "stdout",
     "output_type": "stream",
     "text": [
      "                            OLS Regression Results                            \n",
      "==============================================================================\n",
      "Dep. Variable:                  price   R-squared:                       0.529\n",
      "Model:                            OLS   Adj. R-squared:                  0.529\n",
      "Method:                 Least Squares   F-statistic:                     4856.\n",
      "Date:                Wed, 08 Sep 2021   Prob (F-statistic):               0.00\n",
      "Time:                        20:23:56   Log-Likelihood:            -2.9946e+05\n",
      "No. Observations:               21613   AIC:                         5.989e+05\n",
      "Df Residuals:                   21607   BIC:                         5.990e+05\n",
      "Df Model:                           5                                         \n",
      "Covariance Type:            nonrobust                                         \n",
      "===============================================================================\n",
      "                  coef    std err          t      P>|t|      [0.025      0.975]\n",
      "-------------------------------------------------------------------------------\n",
      "Intercept   -1.378e+05   5816.046    -23.694      0.000   -1.49e+05   -1.26e+05\n",
      "sqft_living   301.9946      1.982    152.361      0.000     298.110     305.880\n",
      "very_old     2.035e+05   6979.025     29.163      0.000     1.9e+05    2.17e+05\n",
      "old          1.769e+05   6240.128     28.344      0.000    1.65e+05    1.89e+05\n",
      "middleage    6.093e+04   4774.189     12.762      0.000    5.16e+04    7.03e+04\n",
      "newlike     -7917.0386   4682.935     -1.691      0.091   -1.71e+04    1261.859\n",
      "==============================================================================\n",
      "Omnibus:                    14474.779   Durbin-Watson:                   1.982\n",
      "Prob(Omnibus):                  0.000   Jarque-Bera (JB):           531466.755\n",
      "Skew:                           2.721   Prob(JB):                         0.00\n",
      "Kurtosis:                      26.676   Cond. No.                     1.25e+04\n",
      "==============================================================================\n",
      "\n",
      "Notes:\n",
      "[1] Standard Errors assume that the covariance matrix of the errors is correctly specified.\n",
      "[2] The condition number is large, 1.25e+04. This might indicate that there are\n",
      "strong multicollinearity or other numerical problems.\n",
      "\n",
      "RMSE = 251949\n"
     ]
    }
   ],
   "source": [
    "columns=['very_old','old','middleage','newlike','new']\n",
    "endformula=''.join([' + '+columns[i] for i in range(len(columns)-1)]) \n",
    "discretizer=KBinsDiscretizer(n_bins=len(columns), encode='onehot-dense', strategy='uniform')\n",
    "data2=pd.DataFrame(data=discretizer.fit_transform(np.array(data['yr_built']).reshape(-1, 1)),columns=columns)\n",
    "model = ols(formula = 'price ~ sqft_living'+endformula, data=pd.concat([data,data2],axis=1)).fit()\n",
    "print(model.summary())\n",
    "print(\"\\nRMSE = {:.0f}\".format(np.sqrt(model.mse_resid)))"
   ]
  },
  {
   "cell_type": "markdown",
   "metadata": {},
   "source": [
    "Now, that is starting to become really interesting. With 'new' category as the baseline, the regression coefficients for all the other categories are still positive, except for one, namely 'newlike'. Let's see the range of interval regarding the year built:"
   ]
  },
  {
   "cell_type": "code",
   "execution_count": 40,
   "metadata": {},
   "outputs": [
    {
     "name": "stdout",
     "output_type": "stream",
     "text": [
      "{'very_old': (1900.0, 1923.0)}\n",
      "{'old': (1923.0, 1946.0)}\n",
      "{'middleage': (1946.0, 1969.0)}\n",
      "{'newlike': (1969.0, 1992.0)}\n",
      "{'new': (1992.0, 2015.0)}\n"
     ]
    }
   ],
   "source": [
    "for i in range(len(columns)):\n",
    "    print({columns[i]:(discretizer.bin_edges_[0][i],discretizer.bin_edges_[0][i+1])})"
   ]
  },
  {
   "cell_type": "markdown",
   "metadata": {},
   "source": [
    "Thus, houses built between 1969 and 1992 are lowered in price by 60930 US dollars compared to the baseline (new houses built between 1992 and 2015). There is one problem, though, the according to the p-value, this negative regression coefficient of 'newlike' category statistically is not different from zero.\n",
    "\n",
    "Let's refine further the number of categories."
   ]
  },
  {
   "cell_type": "code",
   "execution_count": 41,
   "metadata": {},
   "outputs": [
    {
     "name": "stdout",
     "output_type": "stream",
     "text": [
      "                            OLS Regression Results                            \n",
      "==============================================================================\n",
      "Dep. Variable:                  price   R-squared:                       0.535\n",
      "Model:                            OLS   Adj. R-squared:                  0.535\n",
      "Method:                 Least Squares   F-statistic:                     4143.\n",
      "Date:                Wed, 08 Sep 2021   Prob (F-statistic):               0.00\n",
      "Time:                        20:23:56   Log-Likelihood:            -2.9933e+05\n",
      "No. Observations:               21613   AIC:                         5.987e+05\n",
      "Df Residuals:                   21606   BIC:                         5.987e+05\n",
      "Df Model:                           6                                         \n",
      "Covariance Type:            nonrobust                                         \n",
      "===============================================================================\n",
      "                  coef    std err          t      P>|t|      [0.025      0.975]\n",
      "-------------------------------------------------------------------------------\n",
      "Intercept   -1.355e+05   5947.322    -22.777      0.000   -1.47e+05   -1.24e+05\n",
      "sqft_living   303.2994      1.980    153.162      0.000     299.418     307.181\n",
      "century_old  2.045e+05   7503.797     27.248      0.000     1.9e+05    2.19e+05\n",
      "very_old     1.944e+05   7202.339     26.988      0.000     1.8e+05    2.08e+05\n",
      "old          1.151e+05   5543.309     20.766      0.000    1.04e+05    1.26e+05\n",
      "middleage    1.106e+04   5158.935      2.145      0.032     952.545    2.12e+04\n",
      "newlike     -2.626e+04   4939.283     -5.317      0.000   -3.59e+04   -1.66e+04\n",
      "==============================================================================\n",
      "Omnibus:                    14572.604   Durbin-Watson:                   1.980\n",
      "Prob(Omnibus):                  0.000   Jarque-Bera (JB):           553541.125\n",
      "Skew:                           2.737   Prob(JB):                         0.00\n",
      "Kurtosis:                      27.181   Cond. No.                     1.40e+04\n",
      "==============================================================================\n",
      "\n",
      "Notes:\n",
      "[1] Standard Errors assume that the covariance matrix of the errors is correctly specified.\n",
      "[2] The condition number is large, 1.4e+04. This might indicate that there are\n",
      "strong multicollinearity or other numerical problems.\n",
      "\n",
      "RMSE = 250376\n"
     ]
    }
   ],
   "source": [
    "columns=['century_old','very_old','old','middleage','newlike','new']\n",
    "endformula=''.join([' + '+columns[i] for i in range(len(columns)-1)]) \n",
    "discretizer=KBinsDiscretizer(n_bins=len(columns), encode='onehot-dense', strategy='uniform')\n",
    "data2=pd.DataFrame(data=discretizer.fit_transform(np.array(data['yr_built']).reshape(-1, 1)),columns=columns)\n",
    "model = ols(formula = 'price ~ sqft_living'+endformula, data=pd.concat([data,data2],axis=1)).fit()\n",
    "print(model.summary())\n",
    "print(\"\\nRMSE = {:.0f}\".format(np.sqrt(model.mse_resid)))"
   ]
  },
  {
   "cell_type": "markdown",
   "metadata": {},
   "source": [
    "In this case, all the regression coefficients are statistically different from zero, so we have a clear indication that older houses have higher prices than the new ones, but this is true only if the house is old enough."
   ]
  },
  {
   "cell_type": "code",
   "execution_count": 42,
   "metadata": {},
   "outputs": [
    {
     "name": "stdout",
     "output_type": "stream",
     "text": [
      "{'century_old': (1900.0, 1919.1666666666667)}\n",
      "{'very_old': (1919.1666666666667, 1938.3333333333333)}\n",
      "{'old': (1938.3333333333333, 1957.5)}\n",
      "{'middleage': (1957.5, 1976.6666666666667)}\n",
      "{'newlike': (1976.6666666666667, 1995.8333333333333)}\n",
      "{'new': (1995.8333333333333, 2015.0)}\n"
     ]
    }
   ],
   "source": [
    "for i in range(len(columns)):\n",
    "    print({columns[i]:(discretizer.bin_edges_[0][i],discretizer.bin_edges_[0][i+1])})"
   ]
  },
  {
   "cell_type": "markdown",
   "metadata": {},
   "source": [
    "Now, the houses built between 1996 and 2015 are considered 'new' and represent the baseline. Then houses built between 1977 and 1995, representing the 'newlike' category, have a lower price compared to the baseline (if all other input variables are the same), while houses built before 1986 have a higher price compared to the baseline. In fact, the older the house, the higher the price (if all other input variables are the same).\n",
    "\n",
    "There is one interesting thing, even though we lose information with discretization, and especially with one-hot encoding (considering nominal instead of ordinal variable), the model goodness-of-fit is slightly increased."
   ]
  },
  {
   "cell_type": "code",
   "execution_count": 43,
   "metadata": {},
   "outputs": [
    {
     "data": {
      "image/png": "[encoded data removed]",
      "text/plain": [
       "<Figure size 432x288 with 2 Axes>"
      ]
     },
     "metadata": {
      "needs_background": "light"
     },
     "output_type": "display_data"
    }
   ],
   "source": [
    "Rsquared=[]\n",
    "RMSE=[]\n",
    "maxbins=14\n",
    "binlist=list(range(3,maxbins+1))\n",
    "strategies=['uniform','quantile','kmeans']\n",
    "for strategy in strategies:\n",
    "    for nr in range(3,maxbins+1):\n",
    "        discretizer=KBinsDiscretizer(n_bins=nr, encode='onehot', strategy=strategy)\n",
    "        ct = ColumnTransformer(transformers=[('notransf','passthrough',['sqft_living']),\\\n",
    "                                             ('discretizer',discretizer,['yr_built'])])\n",
    "        pipe=Pipeline(steps=[('preproc',ct),('regr',linregr)])\n",
    "        pipe.fit(data,data['price'])\n",
    "        Rsquared.append(pipe['regr'].score(ct.transform(data),data['price']))\n",
    "        r_=pipe['regr'].predict(ct.transform(data))[:,np.newaxis]-np.array(data['price'])[:,np.newaxis]\n",
    "        RMSE.append(float(np.sqrt(r_.T@r_/r_.shape[0])))\n",
    "Rsquared=np.array(Rsquared).reshape((3,-1))\n",
    "RMSE=np.array(RMSE).reshape((3,-1))\n",
    "fig, ax1 = plt.subplots(figsize=(6,4))\n",
    "ax1.plot(binlist,Rsquared[0,:],'k',label='uniform')\n",
    "ax1.plot(binlist,Rsquared[1,:],'k--',label='quantile')\n",
    "ax1.plot(binlist,Rsquared[2,:],'k:',label='k-means')\n",
    "ax1.set_xlabel('Number of categories',fontsize=12)\n",
    "ax1.set_ylabel('Adjusted R-squared',fontsize=12)\n",
    "\n",
    "ax2 = ax1.twinx()\n",
    "ax2.plot(binlist,RMSE[0,:],color='tab:blue',label='uniform')\n",
    "ax2.plot(binlist,RMSE[1,:],color='tab:blue',linestyle='--',label='quantile')\n",
    "ax2.plot(binlist,RMSE[2,:],color='tab:blue',linestyle=':',label='k-means')\n",
    "ax2.set_ylabel('RMSE',fontsize=12,color='tab:blue')\n",
    "ax2.tick_params(axis='y', labelcolor='tab:blue')\n",
    "\n",
    "lines, labels = ax1.get_legend_handles_labels()\n",
    "lines2, labels2 = ax2.get_legend_handles_labels()\n",
    "ax2.legend(lines + lines2, labels + labels2, loc='center right')\n",
    "\n",
    "plt.title(\"MLR goodness-of-fit with 'yr_built' treated as nominal variable\",fontsize=14)\n",
    "plt.show()"
   ]
  },
  {
   "cell_type": "markdown",
   "metadata": {},
   "source": [
    "From the above plot, we may observe that if the goal is to minimize the number of dummy variables (and thus the number of bins), we shall choose an equal-frequency binning with seven intervals.\n",
    "\n",
    "We may use this number of bins with the \"qcut\" method of *pandas* library."
   ]
  },
  {
   "cell_type": "code",
   "execution_count": 44,
   "metadata": {},
   "outputs": [
    {
     "data": {
      "text/plain": [
       "0          (1939.0, 1955.0]\n",
       "1          (1939.0, 1955.0]\n",
       "2        (1899.999, 1939.0]\n",
       "3          (1955.0, 1967.0]\n",
       "4          (1980.0, 1993.0]\n",
       "                ...        \n",
       "21608      (2005.0, 2015.0]\n",
       "21609      (2005.0, 2015.0]\n",
       "21610      (2005.0, 2015.0]\n",
       "21611      (1993.0, 2005.0]\n",
       "21612      (2005.0, 2015.0]\n",
       "Name: yr_built, Length: 21613, dtype: category\n",
       "Categories (7, interval[float64]): [(1899.999, 1939.0] < (1939.0, 1955.0] < (1955.0, 1967.0] < (1967.0, 1980.0] < (1980.0, 1993.0] < (1993.0, 2005.0] < (2005.0, 2015.0]]"
      ]
     },
     "execution_count": 44,
     "metadata": {},
     "output_type": "execute_result"
    }
   ],
   "source": [
    "maxbins=7\n",
    "catnames=pd.qcut(data['yr_built'], q=maxbins,labels=None)\n",
    "catnames"
   ]
  },
  {
   "cell_type": "markdown",
   "metadata": {},
   "source": [
    "and use this to create automatic categorical names"
   ]
  },
  {
   "cell_type": "code",
   "execution_count": 45,
   "metadata": {},
   "outputs": [
    {
     "data": {
      "text/plain": [
       "['built_1900_1939',\n",
       " 'built_1939_1955',\n",
       " 'built_1955_1967',\n",
       " 'built_1967_1980',\n",
       " 'built_1980_1993',\n",
       " 'built_1993_2005',\n",
       " 'built_2005_2015']"
      ]
     },
     "execution_count": 45,
     "metadata": {},
     "output_type": "execute_result"
    }
   ],
   "source": [
    "rounded_inervals=np.rint(np.array([pd.IntervalIndex.to_tuples(catnames.cat.categories)[i] for i in range(maxbins)]))\n",
    "rounded_inervals.astype('int')\n",
    "columns=['built_'+str(rounded_inervals.astype('int')[i,0])+'_'+str(rounded_inervals.astype('int')[i,1]) for i in range(maxbins)]\n",
    "columns"
   ]
  },
  {
   "cell_type": "markdown",
   "metadata": {},
   "source": [
    "Then print out the OLS results with 'built_2005_2015' being the baseline."
   ]
  },
  {
   "cell_type": "code",
   "execution_count": 46,
   "metadata": {},
   "outputs": [
    {
     "name": "stdout",
     "output_type": "stream",
     "text": [
      "                            OLS Regression Results                            \n",
      "==============================================================================\n",
      "Dep. Variable:                  price   R-squared:                       0.536\n",
      "Model:                            OLS   Adj. R-squared:                  0.536\n",
      "Method:                 Least Squares   F-statistic:                     3566.\n",
      "Date:                Wed, 08 Sep 2021   Prob (F-statistic):               0.00\n",
      "Time:                        20:23:58   Log-Likelihood:            -2.9930e+05\n",
      "No. Observations:               21613   AIC:                         5.986e+05\n",
      "Df Residuals:                   21605   BIC:                         5.987e+05\n",
      "Df Model:                           7                                         \n",
      "Covariance Type:            nonrobust                                         \n",
      "===================================================================================\n",
      "                      coef    std err          t      P>|t|      [0.025      0.975]\n",
      "-----------------------------------------------------------------------------------\n",
      "Intercept        -1.14e+05   6511.813    -17.510      0.000   -1.27e+05   -1.01e+05\n",
      "sqft_living       303.7570      1.978    153.545      0.000     299.879     307.635\n",
      "built_1900_1939  1.769e+05   6459.413     27.386      0.000    1.64e+05     1.9e+05\n",
      "built_1939_1955  1.047e+05   6528.912     16.035      0.000    9.19e+04    1.17e+05\n",
      "built_1955_1967  -440.5267   6522.670     -0.068      0.946   -1.32e+04    1.23e+04\n",
      "built_1967_1980 -3.139e+04   6265.004     -5.010      0.000   -4.37e+04   -1.91e+04\n",
      "built_1980_1993 -3.679e+04   6367.889     -5.778      0.000   -4.93e+04   -2.43e+04\n",
      "built_1993_2005 -5.433e+04   6331.102     -8.582      0.000   -6.67e+04   -4.19e+04\n",
      "==============================================================================\n",
      "Omnibus:                    14595.801   Durbin-Watson:                   1.981\n",
      "Prob(Omnibus):                  0.000   Jarque-Bera (JB):           560196.177\n",
      "Skew:                           2.740   Prob(JB):                         0.00\n",
      "Kurtosis:                      27.332   Cond. No.                     1.74e+04\n",
      "==============================================================================\n",
      "\n",
      "Notes:\n",
      "[1] Standard Errors assume that the covariance matrix of the errors is correctly specified.\n",
      "[2] The condition number is large, 1.74e+04. This might indicate that there are\n",
      "strong multicollinearity or other numerical problems.\n",
      "\n",
      "RMSE = 250101\n"
     ]
    }
   ],
   "source": [
    "endformula=''.join([' + '+columns[i] for i in range(len(columns)-1)]) \n",
    "discretizer=KBinsDiscretizer(n_bins=len(columns), encode='onehot-dense', strategy='quantile')\n",
    "data2=pd.DataFrame(data=discretizer.fit_transform(np.array(data['yr_built']).reshape(-1, 1)),columns=columns)\n",
    "model = ols(formula = 'price ~ sqft_living'+endformula, data=pd.concat([data,data2],axis=1)).fit()\n",
    "print(model.summary())\n",
    "print(\"\\nRMSE = {:.0f}\".format(np.sqrt(model.mse_resid)))"
   ]
  },
  {
   "cell_type": "markdown",
   "metadata": {},
   "source": [
    "From the OLS results, the conclusion is inevitable: all regression coefficients are significantly different from zero except for the category 'built_1955_1967'. Thus, we may state that for houses built before this year interval, the prices are higher compared to the baseline, while for the houses built after it, the prices are lower.\n",
    "\n",
    "For example, we may use the lower bound of this interval as a threshold for binarization. If the house was built before 1955, then we set it to zero, otherwise to 1. Let's print out the OLS results."
   ]
  },
  {
   "cell_type": "code",
   "execution_count": 47,
   "metadata": {},
   "outputs": [
    {
     "name": "stdout",
     "output_type": "stream",
     "text": [
      "                            OLS Regression Results                            \n",
      "==============================================================================\n",
      "Dep. Variable:                  price   R-squared:                       0.531\n",
      "Model:                            OLS   Adj. R-squared:                  0.531\n",
      "Method:                 Least Squares   F-statistic:                 1.222e+04\n",
      "Date:                Wed, 08 Sep 2021   Prob (F-statistic):               0.00\n",
      "Time:                        20:23:58   Log-Likelihood:            -2.9943e+05\n",
      "No. Observations:               21613   AIC:                         5.989e+05\n",
      "Df Residuals:                   21610   BIC:                         5.989e+05\n",
      "Df Model:                           2                                         \n",
      "Covariance Type:            nonrobust                                         \n",
      "===============================================================================\n",
      "                  coef    std err          t      P>|t|      [0.025      0.975]\n",
      "-------------------------------------------------------------------------------\n",
      "Intercept    2.309e+04   4526.995      5.100      0.000    1.42e+04     3.2e+04\n",
      "sqft_living   303.5111      1.942    156.289      0.000     299.705     307.318\n",
      "NewHouse    -1.627e+05   3900.517    -41.717      0.000    -1.7e+05   -1.55e+05\n",
      "==============================================================================\n",
      "Omnibus:                    14454.744   Durbin-Watson:                   1.984\n",
      "Prob(Omnibus):                  0.000   Jarque-Bera (JB):           533393.564\n",
      "Skew:                           2.714   Prob(JB):                         0.00\n",
      "Kurtosis:                      26.724   Cond. No.                     6.59e+03\n",
      "==============================================================================\n",
      "\n",
      "Notes:\n",
      "[1] Standard Errors assume that the covariance matrix of the errors is correctly specified.\n",
      "[2] The condition number is large, 6.59e+03. This might indicate that there are\n",
      "strong multicollinearity or other numerical problems.\n",
      "\n",
      "RMSE = 251527\n"
     ]
    }
   ],
   "source": [
    "data['NewHouse']=data['yr_built'].apply(lambda x: 1 if x>1955 else 0)\n",
    "model = ols(formula = 'price ~ sqft_living + NewHouse', data=data).fit()\n",
    "print(model.summary())\n",
    "print(\"\\nRMSE = {:.0f}\".format(np.sqrt(model.mse_resid)))"
   ]
  },
  {
   "cell_type": "markdown",
   "metadata": {},
   "source": [
    "And indeed, using this threshold, a binary variable could be created that provides a model similar to the original one (when the numerical variable was used) and slightly even better."
   ]
  },
  {
   "cell_type": "markdown",
   "metadata": {},
   "source": [
    "## 4. Entropy based binning <a name=\"EntropyBinning\"></a>\n",
    "\n",
    "Supervised binning methods, like entropy-based binning or ChiMerge method transform numerical variables into categorical counterparts using the target variable and refer to the target as (class) information when selecting discretization cut-points.\n",
    "\n",
    "Entropy can be defined as a measure of the expected information content or uncertainty of a probability distribution. Given entropy as a measure of disorder in a collection of observations, the information gain is simply the expected reduction in entropy caused by partitioning the observations according to an attribute (feature).\n",
    "\n",
    "As an example, let's take the discrete (binary) random variable, like flipping a coin, with a probability distribution (0.001,0.999), where 0.001 being the probability of having a \"tail\". Then, one is likely to notice that there is much more \"certainty\" than \"uncertainty\" about the outcome of this experiment (so that by flipping a coin, we might be almost sure that a \"head\" will be the outcome). If, on the other hand, the probability distribution governing that same experiment were (0.5,0.5), like with a fair coin, one would realize that there is much less \"certainty\" and much more \"uncertainty\" when compared to the previous example.\n",
    "\n",
    "We can make a plot of the entropy of this discrete (binary) random variable as a function of the probability $p$ using the definition of the entropy from the book (the probability of the other outcome would be $1-p$)."
   ]
  },
  {
   "cell_type": "code",
   "execution_count": 48,
   "metadata": {},
   "outputs": [
    {
     "data": {
      "image/png": "[encoded data removed]",
      "text/plain": [
       "<Figure size 432x288 with 1 Axes>"
      ]
     },
     "metadata": {
      "needs_background": "light"
     },
     "output_type": "display_data"
    }
   ],
   "source": [
    "p=np.linspace(0.001,0.999,100)\n",
    "plt.plot(p,-p*np.log2(p)-(1-p)*np.log2(1-p),lw=3)\n",
    "plt.xlabel(\"p\",fontsize=12)\n",
    "plt.ylabel(\"H(X)\",fontsize=12)\n",
    "plt.title(\"Entropy as a function of p with two outcomes (p,1-p)\",fontsize=14)\n",
    "plt.show()"
   ]
  },
  {
   "cell_type": "markdown",
   "metadata": {},
   "source": [
    "As can be seen from the plot above, the entropy is zero, when the outcome is a certain (either \"head\" for p=0 or \"tail\" for p=1). On the other hand, the entropy is maximum (in this case equals to 1) when the distribution is uniform (p=0.5).\n",
    "\n",
    "With the target variable taking on $K$ possible values, the entropy can be as large as $\\log_2 K$. With 3 classes, as in case of the iris dataset, the maximum entropy is:"
   ]
  },
  {
   "cell_type": "code",
   "execution_count": 49,
   "metadata": {},
   "outputs": [
    {
     "data": {
      "text/plain": [
       "1.584962500721156"
      ]
     },
     "execution_count": 49,
     "metadata": {},
     "output_type": "execute_result"
    }
   ],
   "source": [
    "np.log2(3)"
   ]
  },
  {
   "cell_type": "markdown",
   "metadata": {},
   "source": [
    "Let's load the iris dataset from the *scikit-learn* library and print out the dataframe.\n",
    "\n",
    "**Note:** *The so-called 'Iris' flower dataset was introduced by the British statistician and biologist Ronald Fisher in his 1936 paper \"The use of multiple measurements in taxonomic problems\". The dataset consists of 50 samples from each of three species of Iris flower (Iris setosa, Iris virginica, and Iris versicolor). Thus, the output, called target, has three categories: setosa, virginica, and versicolor. Four features were measured from each sample: the length and the width of the sepals and petals, in centimeters.*"
   ]
  },
  {
   "cell_type": "code",
   "execution_count": 50,
   "metadata": {},
   "outputs": [
    {
     "data": {
      "text/html": [
       "<div>\n",
       "<style scoped>\n",
       "    .dataframe tbody tr th:only-of-type {\n",
       "        vertical-align: middle;\n",
       "    }\n",
       "\n",
       "    .dataframe tbody tr th {\n",
       "        vertical-align: top;\n",
       "    }\n",
       "\n",
       "    .dataframe thead th {\n",
       "        text-align: right;\n",
       "    }\n",
       "</style>\n",
       "<table border=\"1\" class=\"dataframe\">\n",
       "  <thead>\n",
       "    <tr style=\"text-align: right;\">\n",
       "      <th></th>\n",
       "      <th>sepal length (cm)</th>\n",
       "      <th>sepal width (cm)</th>\n",
       "      <th>petal length (cm)</th>\n",
       "      <th>petal width (cm)</th>\n",
       "      <th>target</th>\n",
       "    </tr>\n",
       "  </thead>\n",
       "  <tbody>\n",
       "    <tr>\n",
       "      <th>0</th>\n",
       "      <td>5.1</td>\n",
       "      <td>3.5</td>\n",
       "      <td>1.4</td>\n",
       "      <td>0.2</td>\n",
       "      <td>setosa</td>\n",
       "    </tr>\n",
       "    <tr>\n",
       "      <th>1</th>\n",
       "      <td>4.9</td>\n",
       "      <td>3.0</td>\n",
       "      <td>1.4</td>\n",
       "      <td>0.2</td>\n",
       "      <td>setosa</td>\n",
       "    </tr>\n",
       "    <tr>\n",
       "      <th>2</th>\n",
       "      <td>4.7</td>\n",
       "      <td>3.2</td>\n",
       "      <td>1.3</td>\n",
       "      <td>0.2</td>\n",
       "      <td>setosa</td>\n",
       "    </tr>\n",
       "    <tr>\n",
       "      <th>3</th>\n",
       "      <td>4.6</td>\n",
       "      <td>3.1</td>\n",
       "      <td>1.5</td>\n",
       "      <td>0.2</td>\n",
       "      <td>setosa</td>\n",
       "    </tr>\n",
       "    <tr>\n",
       "      <th>4</th>\n",
       "      <td>5.0</td>\n",
       "      <td>3.6</td>\n",
       "      <td>1.4</td>\n",
       "      <td>0.2</td>\n",
       "      <td>setosa</td>\n",
       "    </tr>\n",
       "    <tr>\n",
       "      <th>...</th>\n",
       "      <td>...</td>\n",
       "      <td>...</td>\n",
       "      <td>...</td>\n",
       "      <td>...</td>\n",
       "      <td>...</td>\n",
       "    </tr>\n",
       "    <tr>\n",
       "      <th>145</th>\n",
       "      <td>6.7</td>\n",
       "      <td>3.0</td>\n",
       "      <td>5.2</td>\n",
       "      <td>2.3</td>\n",
       "      <td>virginica</td>\n",
       "    </tr>\n",
       "    <tr>\n",
       "      <th>146</th>\n",
       "      <td>6.3</td>\n",
       "      <td>2.5</td>\n",
       "      <td>5.0</td>\n",
       "      <td>1.9</td>\n",
       "      <td>virginica</td>\n",
       "    </tr>\n",
       "    <tr>\n",
       "      <th>147</th>\n",
       "      <td>6.5</td>\n",
       "      <td>3.0</td>\n",
       "      <td>5.2</td>\n",
       "      <td>2.0</td>\n",
       "      <td>virginica</td>\n",
       "    </tr>\n",
       "    <tr>\n",
       "      <th>148</th>\n",
       "      <td>6.2</td>\n",
       "      <td>3.4</td>\n",
       "      <td>5.4</td>\n",
       "      <td>2.3</td>\n",
       "      <td>virginica</td>\n",
       "    </tr>\n",
       "    <tr>\n",
       "      <th>149</th>\n",
       "      <td>5.9</td>\n",
       "      <td>3.0</td>\n",
       "      <td>5.1</td>\n",
       "      <td>1.8</td>\n",
       "      <td>virginica</td>\n",
       "    </tr>\n",
       "  </tbody>\n",
       "</table>\n",
       "<p>150 rows × 5 columns</p>\n",
       "</div>"
      ],
      "text/plain": [
       "     sepal length (cm)  sepal width (cm)  petal length (cm)  petal width (cm)  \\\n",
       "0                  5.1               3.5                1.4               0.2   \n",
       "1                  4.9               3.0                1.4               0.2   \n",
       "2                  4.7               3.2                1.3               0.2   \n",
       "3                  4.6               3.1                1.5               0.2   \n",
       "4                  5.0               3.6                1.4               0.2   \n",
       "..                 ...               ...                ...               ...   \n",
       "145                6.7               3.0                5.2               2.3   \n",
       "146                6.3               2.5                5.0               1.9   \n",
       "147                6.5               3.0                5.2               2.0   \n",
       "148                6.2               3.4                5.4               2.3   \n",
       "149                5.9               3.0                5.1               1.8   \n",
       "\n",
       "        target  \n",
       "0       setosa  \n",
       "1       setosa  \n",
       "2       setosa  \n",
       "3       setosa  \n",
       "4       setosa  \n",
       "..         ...  \n",
       "145  virginica  \n",
       "146  virginica  \n",
       "147  virginica  \n",
       "148  virginica  \n",
       "149  virginica  \n",
       "\n",
       "[150 rows x 5 columns]"
      ]
     },
     "execution_count": 50,
     "metadata": {},
     "output_type": "execute_result"
    }
   ],
   "source": [
    "from sklearn.datasets import load_iris\n",
    "iris=load_iris()\n",
    "iris.feature_names\n",
    "iris\n",
    "irisdata=pd.DataFrame(columns=iris.feature_names,data=iris.data)\n",
    "irisdata['target']=iris.target_names[iris.target]\n",
    "irisdata"
   ]
  },
  {
   "cell_type": "markdown",
   "metadata": {},
   "source": [
    "The disctribution of the classes (iris species) in the dataset is uniform:"
   ]
  },
  {
   "cell_type": "code",
   "execution_count": 51,
   "metadata": {},
   "outputs": [
    {
     "data": {
      "text/plain": [
       "(array([0, 1, 2]), array([50, 50, 50], dtype=int64))"
      ]
     },
     "execution_count": 51,
     "metadata": {},
     "output_type": "execute_result"
    }
   ],
   "source": [
    "np.unique(iris.target, return_counts=True)"
   ]
  },
  {
   "cell_type": "markdown",
   "metadata": {},
   "source": [
    "So the entropy of the iris collection is"
   ]
  },
  {
   "cell_type": "code",
   "execution_count": 52,
   "metadata": {
    "scrolled": true
   },
   "outputs": [
    {
     "data": {
      "text/plain": [
       "1.5849625007211563"
      ]
     },
     "execution_count": 52,
     "metadata": {},
     "output_type": "execute_result"
    }
   ],
   "source": [
    "-3*1/3*np.log2(1/3)"
   ]
  },
  {
   "cell_type": "markdown",
   "metadata": {},
   "source": [
    "Define a function to calculate the entropy of a set (data series)"
   ]
  },
  {
   "cell_type": "code",
   "execution_count": 53,
   "metadata": {},
   "outputs": [],
   "source": [
    "def entropy(S):\n",
    "    val,nr=np.unique(S, return_counts=True)\n",
    "    prob=np.array([nr[i]/nr.sum() for i in range(len(val))]) # Calculate the probability (proportion) of each class\n",
    "    return -np.sum(prob*np.log2(prob)) # then return the entropy"
   ]
  },
  {
   "cell_type": "markdown",
   "metadata": {},
   "source": [
    "and calculate the entropy of the set again, using now our function"
   ]
  },
  {
   "cell_type": "code",
   "execution_count": 54,
   "metadata": {},
   "outputs": [
    {
     "data": {
      "text/plain": [
       "1.584962500721156"
      ]
     },
     "execution_count": 54,
     "metadata": {},
     "output_type": "execute_result"
    }
   ],
   "source": [
    "entropy(iris.target)"
   ]
  },
  {
   "cell_type": "markdown",
   "metadata": {},
   "source": [
    "The result matches the one that can be obtained with a uniform distribution.\n",
    "\n",
    "Let's discretize the sepal length by using the entropy based discretization method. That means in each iteration we split the partition using a cut-point which maximizes the information gain (or minimizing the entropy) among all possible cut-points. \n",
    "\n",
    "As a first step, we select the feature that we want to discretize and then sort in ascending order."
   ]
  },
  {
   "cell_type": "code",
   "execution_count": 55,
   "metadata": {},
   "outputs": [
    {
     "data": {
      "text/html": [
       "<div>\n",
       "<style scoped>\n",
       "    .dataframe tbody tr th:only-of-type {\n",
       "        vertical-align: middle;\n",
       "    }\n",
       "\n",
       "    .dataframe tbody tr th {\n",
       "        vertical-align: top;\n",
       "    }\n",
       "\n",
       "    .dataframe thead th {\n",
       "        text-align: right;\n",
       "    }\n",
       "</style>\n",
       "<table border=\"1\" class=\"dataframe\">\n",
       "  <thead>\n",
       "    <tr style=\"text-align: right;\">\n",
       "      <th></th>\n",
       "      <th>sepal length (cm)</th>\n",
       "      <th>sepal width (cm)</th>\n",
       "      <th>petal length (cm)</th>\n",
       "      <th>petal width (cm)</th>\n",
       "      <th>target</th>\n",
       "    </tr>\n",
       "  </thead>\n",
       "  <tbody>\n",
       "    <tr>\n",
       "      <th>0</th>\n",
       "      <td>4.3</td>\n",
       "      <td>3.0</td>\n",
       "      <td>1.1</td>\n",
       "      <td>0.1</td>\n",
       "      <td>setosa</td>\n",
       "    </tr>\n",
       "    <tr>\n",
       "      <th>1</th>\n",
       "      <td>4.4</td>\n",
       "      <td>3.2</td>\n",
       "      <td>1.3</td>\n",
       "      <td>0.2</td>\n",
       "      <td>setosa</td>\n",
       "    </tr>\n",
       "    <tr>\n",
       "      <th>2</th>\n",
       "      <td>4.4</td>\n",
       "      <td>3.0</td>\n",
       "      <td>1.3</td>\n",
       "      <td>0.2</td>\n",
       "      <td>setosa</td>\n",
       "    </tr>\n",
       "    <tr>\n",
       "      <th>3</th>\n",
       "      <td>4.4</td>\n",
       "      <td>2.9</td>\n",
       "      <td>1.4</td>\n",
       "      <td>0.2</td>\n",
       "      <td>setosa</td>\n",
       "    </tr>\n",
       "    <tr>\n",
       "      <th>4</th>\n",
       "      <td>4.5</td>\n",
       "      <td>2.3</td>\n",
       "      <td>1.3</td>\n",
       "      <td>0.3</td>\n",
       "      <td>setosa</td>\n",
       "    </tr>\n",
       "    <tr>\n",
       "      <th>...</th>\n",
       "      <td>...</td>\n",
       "      <td>...</td>\n",
       "      <td>...</td>\n",
       "      <td>...</td>\n",
       "      <td>...</td>\n",
       "    </tr>\n",
       "    <tr>\n",
       "      <th>145</th>\n",
       "      <td>7.7</td>\n",
       "      <td>2.8</td>\n",
       "      <td>6.7</td>\n",
       "      <td>2.0</td>\n",
       "      <td>virginica</td>\n",
       "    </tr>\n",
       "    <tr>\n",
       "      <th>146</th>\n",
       "      <td>7.7</td>\n",
       "      <td>2.6</td>\n",
       "      <td>6.9</td>\n",
       "      <td>2.3</td>\n",
       "      <td>virginica</td>\n",
       "    </tr>\n",
       "    <tr>\n",
       "      <th>147</th>\n",
       "      <td>7.7</td>\n",
       "      <td>3.8</td>\n",
       "      <td>6.7</td>\n",
       "      <td>2.2</td>\n",
       "      <td>virginica</td>\n",
       "    </tr>\n",
       "    <tr>\n",
       "      <th>148</th>\n",
       "      <td>7.7</td>\n",
       "      <td>3.0</td>\n",
       "      <td>6.1</td>\n",
       "      <td>2.3</td>\n",
       "      <td>virginica</td>\n",
       "    </tr>\n",
       "    <tr>\n",
       "      <th>149</th>\n",
       "      <td>7.9</td>\n",
       "      <td>3.8</td>\n",
       "      <td>6.4</td>\n",
       "      <td>2.0</td>\n",
       "      <td>virginica</td>\n",
       "    </tr>\n",
       "  </tbody>\n",
       "</table>\n",
       "<p>150 rows × 5 columns</p>\n",
       "</div>"
      ],
      "text/plain": [
       "     sepal length (cm)  sepal width (cm)  petal length (cm)  petal width (cm)  \\\n",
       "0                  4.3               3.0                1.1               0.1   \n",
       "1                  4.4               3.2                1.3               0.2   \n",
       "2                  4.4               3.0                1.3               0.2   \n",
       "3                  4.4               2.9                1.4               0.2   \n",
       "4                  4.5               2.3                1.3               0.3   \n",
       "..                 ...               ...                ...               ...   \n",
       "145                7.7               2.8                6.7               2.0   \n",
       "146                7.7               2.6                6.9               2.3   \n",
       "147                7.7               3.8                6.7               2.2   \n",
       "148                7.7               3.0                6.1               2.3   \n",
       "149                7.9               3.8                6.4               2.0   \n",
       "\n",
       "        target  \n",
       "0       setosa  \n",
       "1       setosa  \n",
       "2       setosa  \n",
       "3       setosa  \n",
       "4       setosa  \n",
       "..         ...  \n",
       "145  virginica  \n",
       "146  virginica  \n",
       "147  virginica  \n",
       "148  virginica  \n",
       "149  virginica  \n",
       "\n",
       "[150 rows x 5 columns]"
      ]
     },
     "execution_count": 55,
     "metadata": {},
     "output_type": "execute_result"
    }
   ],
   "source": [
    "feature='sepal length (cm)'\n",
    "sorteddata=irisdata.sort_values(feature)\n",
    "sorteddata.reset_index(drop=True,inplace=True)\n",
    "sorteddata"
   ]
  },
  {
   "cell_type": "markdown",
   "metadata": {},
   "source": [
    "Then define the split function that returns the cut-point value. For simplicity we assume that sorting is already done on the first feature of the pandas dataframe and splitting will be done on the first feature. We also assume that the name of the target variable is \"target\". Furthermore we will create the cut point on the boundary (average value between the value for which the entropy is maximized and the value of the next or previous closest value (values are ordered in ascending order)."
   ]
  },
  {
   "cell_type": "code",
   "execution_count": 56,
   "metadata": {},
   "outputs": [],
   "source": [
    "def split(S):\n",
    "    feature=S.columns[0]\n",
    "    entropies=[]\n",
    "    N,_=S.shape\n",
    "    for i in range(1,N): # Calculating the entropy for each possible cut-point\n",
    "        S1=S.iloc[:i,:]\n",
    "        S2=S.iloc[i:,:]\n",
    "        N1,_=S1.shape\n",
    "        N2,_=S2.shape\n",
    "        entropies.append(N1/N*entropy(S1['target'])+N2/N*entropy(S2['target']))\n",
    "    if len(entropies)!=0:\n",
    "        idx=np.argmin(entropies)\n",
    "        cutpoint=S.iloc[idx,:][feature] # Chose the cut-point for which the resulting entropy is minimal\n",
    "        i=idx+1 # Calculating the cut-point as the midpoint between adjacent values\n",
    "        while i<N:\n",
    "            if S.iloc[i,:][feature]!=cutpoint:\n",
    "                break\n",
    "            i+=1\n",
    "        if i==N:\n",
    "            i=idx-1\n",
    "            while i>1:\n",
    "                if S.iloc[i,:][feature]!=cutpoint:\n",
    "                    break\n",
    "                i-=1\n",
    "        cutpoint=(cutpoint+S.iloc[i,:][feature])/2\n",
    "        return cutpoint\n",
    "    return None"
   ]
  },
  {
   "cell_type": "markdown",
   "metadata": {},
   "source": [
    "Let's apply the split function to the first feature (dataframe sorted according to the first feature)."
   ]
  },
  {
   "cell_type": "code",
   "execution_count": 57,
   "metadata": {},
   "outputs": [
    {
     "name": "stdout",
     "output_type": "stream",
     "text": [
      "Cut-point 5.55\n",
      "Number of samples in the 1st partition: 59\n",
      "Entropy of the 1st partition $0.813\n",
      "Number of samples in the 2nd partition: 91\n",
      "Entropy of the 2nd partition $1.167\n",
      "Information gain: 0.5572326878069267\n"
     ]
    }
   ],
   "source": [
    "S=sorteddata\n",
    "cutpoint=split(S)\n",
    "S1,S2=S[S[feature]<=cutpoint], S[S[feature]>cutpoint]\n",
    "print(\"Cut-point\",cutpoint)\n",
    "print('Number of samples in the 1st partition:',S1.shape[0])\n",
    "print('Entropy of the 1st partition $%.3f'%(entropy(S1['target'])))\n",
    "print('Number of samples in the 2nd partition:',S2.shape[0])\n",
    "print('Entropy of the 2nd partition $%.3f'%(entropy(S2['target'])))\n",
    "infogain=entropy(S['target'])-S1.shape[0]/S.shape[0]*entropy(S1['target'])-S2.shape[0]/S.shape[0]*entropy(S2['target'])\n",
    "print(\"Information gain:\",infogain)"
   ]
  },
  {
   "cell_type": "markdown",
   "metadata": {},
   "source": [
    "Similar result can be obtained if we define a decision tree classifier (which is part of the 2nd volume of the book series) with entropy as the criterion of splitting, respective setting maximum depth of the tree to 1."
   ]
  },
  {
   "cell_type": "code",
   "execution_count": 58,
   "metadata": {},
   "outputs": [
    {
     "data": {
      "text/html": [
       "<style>div.sk-top-container {color: black;background-color: white;}div.sk-toggleable {background-color: white;}label.sk-toggleable__label {cursor: pointer;display: block;width: 100%;margin-bottom: 0;padding: 0.2em 0.3em;box-sizing: border-box;text-align: center;}div.sk-toggleable__content {max-height: 0;max-width: 0;overflow: hidden;text-align: left;background-color: #f0f8ff;}div.sk-toggleable__content pre {margin: 0.2em;color: black;border-radius: 0.25em;background-color: #f0f8ff;}input.sk-toggleable__control:checked~div.sk-toggleable__content {max-height: 200px;max-width: 100%;overflow: auto;}div.sk-estimator input.sk-toggleable__control:checked~label.sk-toggleable__label {background-color: #d4ebff;}div.sk-label input.sk-toggleable__control:checked~label.sk-toggleable__label {background-color: #d4ebff;}input.sk-hidden--visually {border: 0;clip: rect(1px 1px 1px 1px);clip: rect(1px, 1px, 1px, 1px);height: 1px;margin: -1px;overflow: hidden;padding: 0;position: absolute;width: 1px;}div.sk-estimator {font-family: monospace;background-color: #f0f8ff;margin: 0.25em 0.25em;border: 1px dotted black;border-radius: 0.25em;box-sizing: border-box;}div.sk-estimator:hover {background-color: #d4ebff;}div.sk-parallel-item::after {content: \"\";width: 100%;border-bottom: 1px solid gray;flex-grow: 1;}div.sk-label:hover label.sk-toggleable__label {background-color: #d4ebff;}div.sk-serial::before {content: \"\";position: absolute;border-left: 1px solid gray;box-sizing: border-box;top: 2em;bottom: 0;left: 50%;}div.sk-serial {display: flex;flex-direction: column;align-items: center;background-color: white;}div.sk-item {z-index: 1;}div.sk-parallel {display: flex;align-items: stretch;justify-content: center;background-color: white;}div.sk-parallel-item {display: flex;flex-direction: column;position: relative;background-color: white;}div.sk-parallel-item:first-child::after {align-self: flex-end;width: 50%;}div.sk-parallel-item:last-child::after {align-self: flex-start;width: 50%;}div.sk-parallel-item:only-child::after {width: 0;}div.sk-dashed-wrapped {border: 1px dashed gray;margin: 0.2em;box-sizing: border-box;padding-bottom: 0.1em;background-color: white;position: relative;}div.sk-label label {font-family: monospace;font-weight: bold;background-color: white;display: inline-block;line-height: 1.2em;}div.sk-label-container {position: relative;z-index: 2;text-align: center;}div.sk-container {display: inline-block;position: relative;}</style><div class=\"sk-top-container\"><div class=\"sk-container\"><div class=\"sk-item\"><div class=\"sk-estimator sk-toggleable\"><input class=\"sk-toggleable__control sk-hidden--visually\" id=\"9fc88b74-c124-4715-a7e5-cb856218cab8\" type=\"checkbox\" checked><label class=\"sk-toggleable__label\" for=\"9fc88b74-c124-4715-a7e5-cb856218cab8\">DecisionTreeClassifier</label><div class=\"sk-toggleable__content\"><pre>DecisionTreeClassifier(criterion='entropy', max_depth=1)</pre></div></div></div></div></div>"
      ],
      "text/plain": [
       "DecisionTreeClassifier(criterion='entropy', max_depth=1)"
      ]
     },
     "execution_count": 58,
     "metadata": {},
     "output_type": "execute_result"
    }
   ],
   "source": [
    "from sklearn.tree import DecisionTreeClassifier\n",
    "treeclassifier=DecisionTreeClassifier(criterion='entropy',max_depth=1)\n",
    "treeclassifier.fit(np.array(irisdata[feature]).reshape(-1, 1),iris.target)"
   ]
  },
  {
   "cell_type": "markdown",
   "metadata": {},
   "source": [
    "Then we can plot the created decision tree, which is aligned with our previous result."
   ]
  },
  {
   "cell_type": "code",
   "execution_count": 59,
   "metadata": {},
   "outputs": [
    {
     "data": {
      "image/png": "[encoded data removed]",
      "text/plain": [
       "<Figure size 504x504 with 1 Axes>"
      ]
     },
     "metadata": {
      "needs_background": "light"
     },
     "output_type": "display_data"
    }
   ],
   "source": [
    "from sklearn import tree\n",
    "fig = plt.figure(figsize=(7,7))\n",
    "tree.plot_tree(treeclassifier, feature_names=iris.feature_names)\n",
    "plt.show()"
   ]
  },
  {
   "cell_type": "markdown",
   "metadata": {},
   "source": [
    "We can apply the above method recursively if we define a stopping criteria, like Minimal Description Length Principal (MDLP) discussed in the book. First, let's create again the first split and check if the stopping criteria is met or not."
   ]
  },
  {
   "cell_type": "code",
   "execution_count": 60,
   "metadata": {},
   "outputs": [
    {
     "name": "stdout",
     "output_type": "stream",
     "text": [
      "Infogain and stopping criteria after splitting: 0.5572326878069267 0.012420164734912573\n"
     ]
    }
   ],
   "source": [
    "S=sorteddata\n",
    "val,nr=np.unique(S['target'], return_counts=True)\n",
    "K=len(val)\n",
    "N=nr.sum()\n",
    "cutpoint=split(S)\n",
    "S1,S2=S[S[feature]<=cutpoint], S[S[feature]>cutpoint]\n",
    "K1=len(S1['target'].unique())\n",
    "K2=len(S2['target'].unique())\n",
    "stop=np.log2(N-1)/N+(np.log2(3**K-2)-int(K*entropy(S['target'])+K1*entropy(S1['target'])+K2*entropy(S2['target'])))/N\n",
    "infogain=entropy(S['target'])-S1.shape[0]/S.shape[0]*entropy(S1['target'])-S2.shape[0]/S.shape[0]*entropy(S2['target'])\n",
    "print(\"Infogain and stopping criteria after splitting:\",infogain,stop)"
   ]
  },
  {
   "cell_type": "markdown",
   "metadata": {},
   "source": [
    "As can be seen, the information gain is higher than the stopping criteria, so a split will improve the classification.\n",
    "\n",
    "Now, let's define the recursive entropy binning function with the above stopping criteria: "
   ]
  },
  {
   "cell_type": "code",
   "execution_count": 61,
   "metadata": {},
   "outputs": [],
   "source": [
    "def entropybinning(S, verbose=False):\n",
    "    feature=S.columns[0]\n",
    "    cutpoint=split(S)\n",
    "    S1,S2=S[S[feature]<=cutpoint], S[S[feature]>cutpoint]\n",
    "    K1=len(S1['target'].unique())\n",
    "    K2=len(S2['target'].unique())\n",
    "    stop=np.log2(N-1)/N+(np.log2(3**K-2)-int(K*entropy(S['target'])+K1*entropy(S1['target'])+K2*entropy(S2['target'])))/N\n",
    "    infogain=entropy(S['target'])-S1.shape[0]/S.shape[0]*entropy(S1['target'])-S2.shape[0]/S.shape[0]*entropy(S2['target'])\n",
    "    if verbose:\n",
    "        print(\"Infogain and stopping criteria after splitting:\",infogain,stop)\n",
    "    if infogain<stop:\n",
    "        if verbose:\n",
    "            print(\"Reached stopping criteria\\n\")\n",
    "        return\n",
    "    else:\n",
    "        if verbose:\n",
    "            print('Recursively applying partitioning for the cut-point:',cutpoint)\n",
    "            print()\n",
    "        return cutpoint,entropybinning(S1,verbose),entropybinning(S2,verbose)"
   ]
  },
  {
   "cell_type": "markdown",
   "metadata": {},
   "source": [
    "and apply to the sorted iris dataset"
   ]
  },
  {
   "cell_type": "code",
   "execution_count": 62,
   "metadata": {},
   "outputs": [
    {
     "name": "stdout",
     "output_type": "stream",
     "text": [
      "Infogain and stopping criteria after splitting: 0.5572326878069267 0.012420164734912573\n",
      "Recursively applying partitioning for the cut-point: 5.55\n",
      "\n",
      "Infogain and stopping criteria after splitting: 0.13788086600590665 0.039086831401579245\n",
      "Recursively applying partitioning for the cut-point: 5.45\n",
      "\n",
      "Infogain and stopping criteria after splitting: 0.0779543233707265 0.052420164734912574\n",
      "Recursively applying partitioning for the cut-point: 4.85\n",
      "\n",
      "Infogain and stopping criteria after splitting: 0.0 0.07908683140157924\n",
      "Reached stopping criteria\n",
      "\n",
      "Infogain and stopping criteria after splitting: 0.07543412597553212 0.03242016473491258\n",
      "Recursively applying partitioning for the cut-point: 4.95\n",
      "\n",
      "Infogain and stopping criteria after splitting: 0.0 0.03242016473491258\n",
      "Reached stopping criteria\n",
      "\n",
      "Infogain and stopping criteria after splitting: 0.002819520208299786 0.052420164734912574\n",
      "Reached stopping criteria\n",
      "\n",
      "Infogain and stopping criteria after splitting: 0.0 0.052420164734912574\n",
      "Reached stopping criteria\n",
      "\n",
      "Infogain and stopping criteria after splitting: 0.15335961884469568 0.02575349806824591\n",
      "Recursively applying partitioning for the cut-point: 6.25\n",
      "\n",
      "Infogain and stopping criteria after splitting: 0.07995679205046297 0.01908683140157924\n",
      "Recursively applying partitioning for the cut-point: 5.85\n",
      "\n",
      "Infogain and stopping criteria after splitting: 0.07347734075763646 0.005753498068245905\n",
      "Recursively applying partitioning for the cut-point: 5.75\n",
      "\n",
      "Infogain and stopping criteria after splitting: 0.12808527889139443 0.02575349806824591\n",
      "Recursively applying partitioning for the cut-point: 5.65\n",
      "\n",
      "Infogain and stopping criteria after splitting: 0.0 0.05908683140157924\n",
      "Reached stopping criteria\n",
      "\n",
      "Infogain and stopping criteria after splitting: 0.0 0.03242016473491258\n",
      "Reached stopping criteria\n",
      "\n",
      "Infogain and stopping criteria after splitting: 0.0 0.02575349806824591\n",
      "Reached stopping criteria\n",
      "\n",
      "Infogain and stopping criteria after splitting: 0.013955304292298742 0.039086831401579245\n",
      "Reached stopping criteria\n",
      "\n",
      "Infogain and stopping criteria after splitting: 0.12763992394148171 0.052420164734912574\n",
      "Recursively applying partitioning for the cut-point: 7.05\n",
      "\n",
      "Infogain and stopping criteria after splitting: 0.0006231555934753663 0.039086831401579245\n",
      "Reached stopping criteria\n",
      "\n",
      "Infogain and stopping criteria after splitting: 0.0 0.07908683140157924\n",
      "Reached stopping criteria\n",
      "\n",
      "\n",
      "Result of the cut-points: (5.55, (5.45, (4.85, None, (4.95, None, None)), None), (6.25, (5.85, (5.75, (5.65, None, None), None), None), (7.05, None, None)))\n"
     ]
    }
   ],
   "source": [
    "nestedresult=entropybinning(sorteddata,verbose=True)\n",
    "print(\"\\nResult of the cut-points:\",nestedresult)"
   ]
  },
  {
   "cell_type": "markdown",
   "metadata": {},
   "source": [
    "We may want to have the result of the cut-points as a sorted array without all the None values."
   ]
  },
  {
   "cell_type": "code",
   "execution_count": 63,
   "metadata": {},
   "outputs": [
    {
     "data": {
      "text/plain": [
       "array([4.85, 4.95, 5.45, 5.55, 5.65, 5.75, 5.85, 6.25, 7.05])"
      ]
     },
     "execution_count": 63,
     "metadata": {},
     "output_type": "execute_result"
    }
   ],
   "source": [
    "def flattening(nestedresult):\n",
    "    flatlist=[]\n",
    "    for i in range(len(nestedresult)):\n",
    "        if nestedresult[i]!=None:\n",
    "            if type(nestedresult[i])==tuple:\n",
    "                flatlist.extend(flattening(nestedresult[i]))\n",
    "            else:\n",
    "                flatlist.append(nestedresult[i])\n",
    "    return flatlist\n",
    "np.sort(np.array(flattening(nestedresult)))"
   ]
  },
  {
   "cell_type": "markdown",
   "metadata": {},
   "source": [
    "We may obtain a slightly similar result with a decision tree classifier if we define the appropriate stopping criteria for the informtaion gain. However, the stopping criteria is set globally for the whole tree and not for each branch (partition)."
   ]
  },
  {
   "cell_type": "code",
   "execution_count": 64,
   "metadata": {},
   "outputs": [
    {
     "data": {
      "text/html": [
       "<style>div.sk-top-container {color: black;background-color: white;}div.sk-toggleable {background-color: white;}label.sk-toggleable__label {cursor: pointer;display: block;width: 100%;margin-bottom: 0;padding: 0.2em 0.3em;box-sizing: border-box;text-align: center;}div.sk-toggleable__content {max-height: 0;max-width: 0;overflow: hidden;text-align: left;background-color: #f0f8ff;}div.sk-toggleable__content pre {margin: 0.2em;color: black;border-radius: 0.25em;background-color: #f0f8ff;}input.sk-toggleable__control:checked~div.sk-toggleable__content {max-height: 200px;max-width: 100%;overflow: auto;}div.sk-estimator input.sk-toggleable__control:checked~label.sk-toggleable__label {background-color: #d4ebff;}div.sk-label input.sk-toggleable__control:checked~label.sk-toggleable__label {background-color: #d4ebff;}input.sk-hidden--visually {border: 0;clip: rect(1px 1px 1px 1px);clip: rect(1px, 1px, 1px, 1px);height: 1px;margin: -1px;overflow: hidden;padding: 0;position: absolute;width: 1px;}div.sk-estimator {font-family: monospace;background-color: #f0f8ff;margin: 0.25em 0.25em;border: 1px dotted black;border-radius: 0.25em;box-sizing: border-box;}div.sk-estimator:hover {background-color: #d4ebff;}div.sk-parallel-item::after {content: \"\";width: 100%;border-bottom: 1px solid gray;flex-grow: 1;}div.sk-label:hover label.sk-toggleable__label {background-color: #d4ebff;}div.sk-serial::before {content: \"\";position: absolute;border-left: 1px solid gray;box-sizing: border-box;top: 2em;bottom: 0;left: 50%;}div.sk-serial {display: flex;flex-direction: column;align-items: center;background-color: white;}div.sk-item {z-index: 1;}div.sk-parallel {display: flex;align-items: stretch;justify-content: center;background-color: white;}div.sk-parallel-item {display: flex;flex-direction: column;position: relative;background-color: white;}div.sk-parallel-item:first-child::after {align-self: flex-end;width: 50%;}div.sk-parallel-item:last-child::after {align-self: flex-start;width: 50%;}div.sk-parallel-item:only-child::after {width: 0;}div.sk-dashed-wrapped {border: 1px dashed gray;margin: 0.2em;box-sizing: border-box;padding-bottom: 0.1em;background-color: white;position: relative;}div.sk-label label {font-family: monospace;font-weight: bold;background-color: white;display: inline-block;line-height: 1.2em;}div.sk-label-container {position: relative;z-index: 2;text-align: center;}div.sk-container {display: inline-block;position: relative;}</style><div class=\"sk-top-container\"><div class=\"sk-container\"><div class=\"sk-item\"><div class=\"sk-estimator sk-toggleable\"><input class=\"sk-toggleable__control sk-hidden--visually\" id=\"20804d4b-0cfa-4e53-bcd5-4d59a240a4e5\" type=\"checkbox\" checked><label class=\"sk-toggleable__label\" for=\"20804d4b-0cfa-4e53-bcd5-4d59a240a4e5\">DecisionTreeClassifier</label><div class=\"sk-toggleable__content\"><pre>DecisionTreeClassifier(criterion='entropy', min_impurity_decrease=0.01)</pre></div></div></div></div></div>"
      ],
      "text/plain": [
       "DecisionTreeClassifier(criterion='entropy', min_impurity_decrease=0.01)"
      ]
     },
     "execution_count": 64,
     "metadata": {},
     "output_type": "execute_result"
    }
   ],
   "source": [
    "stop=0.01\n",
    "treeclassifier=DecisionTreeClassifier(criterion='entropy',min_impurity_decrease=stop)\n",
    "treeclassifier.fit(np.array(irisdata[feature]).reshape(-1, 1),iris.target)"
   ]
  },
  {
   "cell_type": "markdown",
   "metadata": {},
   "source": [
    "We may plot the decision tree"
   ]
  },
  {
   "cell_type": "code",
   "execution_count": 65,
   "metadata": {
    "scrolled": false
   },
   "outputs": [
    {
     "data": {
      "image/png": "[encoded data removed]",
      "text/plain": [
       "<Figure size 1296x1296 with 1 Axes>"
      ]
     },
     "metadata": {
      "needs_background": "light"
     },
     "output_type": "display_data"
    }
   ],
   "source": [
    "fig = plt.figure(figsize=(18,18))\n",
    "tree.plot_tree(treeclassifier, feature_names=iris.feature_names)\n",
    "plt.show()"
   ]
  },
  {
   "cell_type": "markdown",
   "metadata": {},
   "source": [
    "Now, using the interval edges with *pandas* 'cut' method, we can discretize the numerical feature"
   ]
  },
  {
   "cell_type": "code",
   "execution_count": 66,
   "metadata": {},
   "outputs": [
    {
     "data": {
      "text/plain": [
       "0      (4.95, 5.45]\n",
       "1      (4.85, 4.95]\n",
       "2      (4.29, 4.85]\n",
       "3      (4.29, 4.85]\n",
       "4      (4.95, 5.45]\n",
       "           ...     \n",
       "145    (6.25, 7.05]\n",
       "146    (6.25, 7.05]\n",
       "147    (6.25, 7.05]\n",
       "148    (5.85, 6.25]\n",
       "149    (5.85, 6.25]\n",
       "Name: sepal length (cm), Length: 150, dtype: category\n",
       "Categories (10, interval[float64]): [(4.29, 4.85] < (4.85, 4.95] < (4.95, 5.45] < (5.45, 5.55] ... (5.75, 5.85] < (5.85, 6.25] < (6.25, 7.05] < (7.05, 7.91]]"
      ]
     },
     "execution_count": 66,
     "metadata": {},
     "output_type": "execute_result"
    }
   ],
   "source": [
    "binedges=np.sort(np.array(flattening(nestedresult)))\n",
    "binedges=np.insert(binedges,0,irisdata['sepal length (cm)'].min()-0.01)\n",
    "binedges=np.append(binedges,irisdata['sepal length (cm)'].max()+0.01)\n",
    "pd.cut(irisdata['sepal length (cm)'],bins=binedges)"
   ]
  },
  {
   "cell_type": "markdown",
   "metadata": {},
   "source": [
    "We may print out the bin edges of the entropy-based discretization"
   ]
  },
  {
   "cell_type": "code",
   "execution_count": 67,
   "metadata": {},
   "outputs": [
    {
     "data": {
      "text/plain": [
       "array([4.29, 4.85, 4.95, 5.45, 5.55, 5.65, 5.75, 5.85, 6.25, 7.05, 7.91])"
      ]
     },
     "execution_count": 67,
     "metadata": {},
     "output_type": "execute_result"
    }
   ],
   "source": [
    "binedges"
   ]
  },
  {
   "cell_type": "markdown",
   "metadata": {},
   "source": [
    "Let's define our entropydiscretizer which returns the bin edges. X is one dimensional (only one feature)."
   ]
  },
  {
   "cell_type": "code",
   "execution_count": 68,
   "metadata": {},
   "outputs": [],
   "source": [
    "def entropyDiscretizer(X,y):\n",
    "    data=pd.DataFrame(columns=['feature','target'],data=np.vstack((np.array(X),np.array(y))).T)\n",
    "    feature='feature'\n",
    "    binedges=np.sort(np.array(flattening(entropybinning(data.iloc[data.feature.argsort(),:]))))\n",
    "    binedges=np.insert(binedges,0,data.feature.min()-0.01)\n",
    "    binedges=np.append(binedges,data.feature.max()+0.01)\n",
    "    return binedges"
   ]
  },
  {
   "cell_type": "markdown",
   "metadata": {},
   "source": [
    "and apply on the first feature the discretization using *pandas* 'cut' method "
   ]
  },
  {
   "cell_type": "code",
   "execution_count": 69,
   "metadata": {},
   "outputs": [
    {
     "data": {
      "text/plain": [
       "0       (0.09, 0.8]\n",
       "1       (0.09, 0.8]\n",
       "2       (0.09, 0.8]\n",
       "3       (0.09, 0.8]\n",
       "4       (0.09, 0.8]\n",
       "           ...     \n",
       "145    (1.75, 2.51]\n",
       "146    (1.75, 2.51]\n",
       "147    (1.75, 2.51]\n",
       "148    (1.75, 2.51]\n",
       "149    (1.75, 2.51]\n",
       "Name: petal width (cm), Length: 150, dtype: category\n",
       "Categories (4, interval[float64]): [(0.09, 0.8] < (0.8, 1.35] < (1.35, 1.75] < (1.75, 2.51]]"
      ]
     },
     "execution_count": 69,
     "metadata": {},
     "output_type": "execute_result"
    }
   ],
   "source": [
    "feature='petal width (cm)'\n",
    "X=irisdata[feature]\n",
    "y=irisdata['target']\n",
    "pd.cut(X,bins=entropyDiscretizer(X,y))#.isnull().sum()\n",
    "#entropyDiscretizer(X,y)"
   ]
  },
  {
   "cell_type": "markdown",
   "metadata": {},
   "source": [
    "We may now create our EntropyBinning class in the *scikit-learn* environment, which makes ordinal encoding. For simplicity, we will not implement checking for data inconsistencies."
   ]
  },
  {
   "cell_type": "code",
   "execution_count": 70,
   "metadata": {},
   "outputs": [],
   "source": [
    "from sklearn.base import TransformerMixin,BaseEstimator\n",
    "class EntropyBinning(BaseEstimator, TransformerMixin):\n",
    "    def __init__(self):\n",
    "            self.binedges_ = []\n",
    "            self.N=0\n",
    "            self.D=0\n",
    "    def fit(self, X, y):\n",
    "        self.N,self.D=X.shape\n",
    "        self.binedges_=[entropyDiscretizer(np.array(X)[:,i],y) for i in range(self.D)]\n",
    "        return self\n",
    "    def transform(self, X):\n",
    "        return np.array([pd.cut(np.array(X)[:,i],bins=self.binedges_[i],labels=False) for i in range(self.D)])"
   ]
  },
  {
   "cell_type": "markdown",
   "metadata": {},
   "source": [
    "Let's instantiate this class and fit the dataset"
   ]
  },
  {
   "cell_type": "code",
   "execution_count": 71,
   "metadata": {},
   "outputs": [
    {
     "data": {
      "text/html": [
       "<style>div.sk-top-container {color: black;background-color: white;}div.sk-toggleable {background-color: white;}label.sk-toggleable__label {cursor: pointer;display: block;width: 100%;margin-bottom: 0;padding: 0.2em 0.3em;box-sizing: border-box;text-align: center;}div.sk-toggleable__content {max-height: 0;max-width: 0;overflow: hidden;text-align: left;background-color: #f0f8ff;}div.sk-toggleable__content pre {margin: 0.2em;color: black;border-radius: 0.25em;background-color: #f0f8ff;}input.sk-toggleable__control:checked~div.sk-toggleable__content {max-height: 200px;max-width: 100%;overflow: auto;}div.sk-estimator input.sk-toggleable__control:checked~label.sk-toggleable__label {background-color: #d4ebff;}div.sk-label input.sk-toggleable__control:checked~label.sk-toggleable__label {background-color: #d4ebff;}input.sk-hidden--visually {border: 0;clip: rect(1px 1px 1px 1px);clip: rect(1px, 1px, 1px, 1px);height: 1px;margin: -1px;overflow: hidden;padding: 0;position: absolute;width: 1px;}div.sk-estimator {font-family: monospace;background-color: #f0f8ff;margin: 0.25em 0.25em;border: 1px dotted black;border-radius: 0.25em;box-sizing: border-box;}div.sk-estimator:hover {background-color: #d4ebff;}div.sk-parallel-item::after {content: \"\";width: 100%;border-bottom: 1px solid gray;flex-grow: 1;}div.sk-label:hover label.sk-toggleable__label {background-color: #d4ebff;}div.sk-serial::before {content: \"\";position: absolute;border-left: 1px solid gray;box-sizing: border-box;top: 2em;bottom: 0;left: 50%;}div.sk-serial {display: flex;flex-direction: column;align-items: center;background-color: white;}div.sk-item {z-index: 1;}div.sk-parallel {display: flex;align-items: stretch;justify-content: center;background-color: white;}div.sk-parallel-item {display: flex;flex-direction: column;position: relative;background-color: white;}div.sk-parallel-item:first-child::after {align-self: flex-end;width: 50%;}div.sk-parallel-item:last-child::after {align-self: flex-start;width: 50%;}div.sk-parallel-item:only-child::after {width: 0;}div.sk-dashed-wrapped {border: 1px dashed gray;margin: 0.2em;box-sizing: border-box;padding-bottom: 0.1em;background-color: white;position: relative;}div.sk-label label {font-family: monospace;font-weight: bold;background-color: white;display: inline-block;line-height: 1.2em;}div.sk-label-container {position: relative;z-index: 2;text-align: center;}div.sk-container {display: inline-block;position: relative;}</style><div class=\"sk-top-container\"><div class=\"sk-container\"><div class=\"sk-item\"><div class=\"sk-estimator sk-toggleable\"><input class=\"sk-toggleable__control sk-hidden--visually\" id=\"50547b61-1e8e-4460-a189-e0206d62046e\" type=\"checkbox\" checked><label class=\"sk-toggleable__label\" for=\"50547b61-1e8e-4460-a189-e0206d62046e\">EntropyBinning</label><div class=\"sk-toggleable__content\"><pre>EntropyBinning()</pre></div></div></div></div></div>"
      ],
      "text/plain": [
       "EntropyBinning()"
      ]
     },
     "execution_count": 71,
     "metadata": {},
     "output_type": "execute_result"
    }
   ],
   "source": [
    "myentropybinning=EntropyBinning()\n",
    "myentropybinning.fit(X=irisdata.drop('target',axis=1),y=irisdata['target'])"
   ]
  },
  {
   "cell_type": "markdown",
   "metadata": {},
   "source": [
    "We may check the bin edges"
   ]
  },
  {
   "cell_type": "code",
   "execution_count": 72,
   "metadata": {},
   "outputs": [
    {
     "data": {
      "text/plain": [
       "[array([4.29, 4.85, 4.95, 5.45, 5.55, 5.65, 5.75, 5.85, 6.25, 7.05, 7.91]),\n",
       " array([1.99, 2.1 , 2.25, 2.35, 2.45, 2.55, 2.85, 2.95, 3.05, 3.15, 3.25,\n",
       "        3.35, 3.45, 4.41]),\n",
       " array([0.99, 2.45, 4.75, 4.85, 4.95, 5.15, 6.91]),\n",
       " array([0.09, 0.8 , 1.35, 1.75, 2.51])]"
      ]
     },
     "execution_count": 72,
     "metadata": {},
     "output_type": "execute_result"
    }
   ],
   "source": [
    "myentropybinning.binedges_"
   ]
  },
  {
   "cell_type": "markdown",
   "metadata": {},
   "source": [
    "Then we can transform the dataset into categorical variable with ordinal encoding"
   ]
  },
  {
   "cell_type": "code",
   "execution_count": 73,
   "metadata": {},
   "outputs": [
    {
     "data": {
      "text/plain": [
       "array([[ 2,  1,  0,  0,  2,  2,  0,  2,  0,  1,  2,  0,  0,  0,  6,  5,\n",
       "         2,  2,  5,  2,  2,  2,  0,  2,  0,  2,  2,  2,  2,  0,  0,  2,\n",
       "         2,  3,  1,  2,  3,  1,  0,  2,  2,  0,  0,  2,  2,  0,  2,  0,\n",
       "         2,  2,  8,  8,  8,  3,  8,  5,  8,  1,  8,  2,  2,  7,  7,  7,\n",
       "         4,  8,  4,  6,  7,  4,  7,  7,  8,  7,  8,  8,  8,  8,  7,  5,\n",
       "         3,  3,  6,  7,  2,  7,  8,  8,  4,  3,  3,  7,  6,  2,  4,  5,\n",
       "         5,  7,  2,  5,  8,  6,  9,  8,  8,  9,  1,  9,  8,  9,  8,  8,\n",
       "         8,  5,  6,  8,  8,  9,  9,  7,  8,  4,  9,  8,  8,  9,  7,  7,\n",
       "         8,  9,  9,  9,  8,  8,  7,  9,  8,  8,  7,  8,  8,  8,  6,  8,\n",
       "         8,  8,  8,  8,  7,  7],\n",
       "       [12,  7,  9,  8, 12, 12, 11, 11,  6,  8, 12, 11,  7,  7, 12, 12,\n",
       "        12, 12, 12, 12, 11, 12, 12, 10, 11,  7, 11, 12, 11,  9,  8, 11,\n",
       "        12, 12,  8,  9, 12, 12,  7, 11, 12,  2,  9, 12, 12,  7, 12,  9,\n",
       "        12, 10,  9,  9,  8,  2,  5,  5, 10,  3,  6,  5,  0,  7,  1,  6,\n",
       "         6,  8,  7,  5,  1,  4,  9,  5,  4,  5,  6,  7,  5,  7,  6,  5,\n",
       "         3,  3,  5,  5,  7, 11,  8,  2,  7,  4,  5,  7,  5,  2,  5,  7,\n",
       "         6,  6,  4,  5, 10,  5,  7,  6,  7,  7,  4,  6,  4, 12,  9,  5,\n",
       "         7,  4,  5,  9,  7, 12,  5,  1,  9,  5,  5,  5, 10,  9,  5,  7,\n",
       "         5,  7,  5, 12,  5,  5,  5,  7, 11,  8,  7,  8,  8,  8,  5,  9,\n",
       "        10,  7,  4,  7, 11,  7],\n",
       "       [ 0,  0,  0,  0,  0,  0,  0,  0,  0,  0,  0,  0,  0,  0,  0,  0,\n",
       "         0,  0,  0,  0,  0,  0,  0,  0,  0,  0,  0,  0,  0,  0,  0,  0,\n",
       "         0,  0,  0,  0,  0,  0,  0,  0,  0,  0,  0,  0,  0,  0,  0,  0,\n",
       "         0,  0,  1,  1,  3,  1,  1,  1,  1,  1,  1,  1,  1,  1,  1,  1,\n",
       "         1,  1,  1,  1,  1,  1,  2,  1,  3,  1,  1,  1,  2,  4,  1,  1,\n",
       "         1,  1,  1,  4,  1,  1,  1,  1,  1,  1,  1,  1,  1,  1,  1,  1,\n",
       "         1,  1,  1,  1,  5,  4,  5,  5,  5,  5,  1,  5,  5,  5,  4,  5,\n",
       "         5,  4,  4,  5,  5,  5,  5,  4,  5,  3,  5,  3,  5,  5,  2,  3,\n",
       "         5,  5,  5,  5,  5,  4,  5,  5,  5,  5,  2,  5,  5,  4,  4,  5,\n",
       "         5,  5,  4,  5,  5,  4],\n",
       "       [ 0,  0,  0,  0,  0,  0,  0,  0,  0,  0,  0,  0,  0,  0,  0,  0,\n",
       "         0,  0,  0,  0,  0,  0,  0,  0,  0,  0,  0,  0,  0,  0,  0,  0,\n",
       "         0,  0,  0,  0,  0,  0,  0,  0,  0,  0,  0,  0,  0,  0,  0,  0,\n",
       "         0,  0,  2,  2,  2,  1,  2,  1,  2,  1,  1,  2,  1,  2,  1,  2,\n",
       "         1,  2,  2,  1,  2,  1,  3,  1,  2,  1,  1,  2,  2,  2,  2,  1,\n",
       "         1,  1,  1,  2,  2,  2,  2,  1,  1,  1,  1,  2,  1,  1,  1,  1,\n",
       "         1,  1,  1,  1,  3,  3,  3,  3,  3,  3,  2,  3,  3,  3,  3,  3,\n",
       "         3,  3,  3,  3,  3,  3,  3,  2,  3,  3,  3,  3,  3,  3,  3,  3,\n",
       "         3,  2,  3,  3,  3,  2,  2,  3,  3,  3,  3,  3,  3,  3,  3,  3,\n",
       "         3,  3,  3,  3,  3,  3]], dtype=int64)"
      ]
     },
     "execution_count": 73,
     "metadata": {},
     "output_type": "execute_result"
    }
   ],
   "source": [
    "myentropybinning.transform(X=irisdata.drop(['target'],axis=1))"
   ]
  },
  {
   "cell_type": "markdown",
   "metadata": {},
   "source": [
    "## 5. ChiMerge discretization <a name=\"ChiMerge\"></a>\n",
    "\n",
    "The ChiMerge discretization is another supervised discretization method based on $\\chi^2$ statistical test already discussed in lab exercise 3.7 at statistical independence test with contingency tables. The ChiMerge algorithm consists of an initialization step and a bottom-up merging process, where intervals are continuously merged until a termination condition is met. ChiMerge is initialized by first sorting the observations of a feature and placing each into a distinct interval (i.e., an interval boundary is created before and after each example). Then the interval merging process contains two steps, repeated continuously:\n",
    "- compute the $\\chi^2$ value for each pair of adjacent intervals;\n",
    "- merge (combine) the pair of adjacent intervals with the lowest $\\chi^2$ value;\n",
    "Merging continues until all pairs of intervals have $\\chi^2$ values exceeding the parameter $\\chi^2$-threshold; that is, all adjacent intervals are considered significantly different by the $\\chi^2$ independence test.\n",
    "\n",
    "As a first step, let's create an interval for each value of the first feature then make the contingency table between the first feature and the target value using the 'crosstab' method of *pandas* library."
   ]
  },
  {
   "cell_type": "code",
   "execution_count": 74,
   "metadata": {},
   "outputs": [
    {
     "data": {
      "text/html": [
       "<div>\n",
       "<style scoped>\n",
       "    .dataframe tbody tr th:only-of-type {\n",
       "        vertical-align: middle;\n",
       "    }\n",
       "\n",
       "    .dataframe tbody tr th {\n",
       "        vertical-align: top;\n",
       "    }\n",
       "\n",
       "    .dataframe thead th {\n",
       "        text-align: right;\n",
       "    }\n",
       "</style>\n",
       "<table border=\"1\" class=\"dataframe\">\n",
       "  <thead>\n",
       "    <tr style=\"text-align: right;\">\n",
       "      <th>target</th>\n",
       "      <th>setosa</th>\n",
       "      <th>versicolor</th>\n",
       "      <th>virginica</th>\n",
       "    </tr>\n",
       "    <tr>\n",
       "      <th>sepal length (cm)</th>\n",
       "      <th></th>\n",
       "      <th></th>\n",
       "      <th></th>\n",
       "    </tr>\n",
       "  </thead>\n",
       "  <tbody>\n",
       "    <tr>\n",
       "      <th>4.3</th>\n",
       "      <td>1</td>\n",
       "      <td>0</td>\n",
       "      <td>0</td>\n",
       "    </tr>\n",
       "    <tr>\n",
       "      <th>4.4</th>\n",
       "      <td>3</td>\n",
       "      <td>0</td>\n",
       "      <td>0</td>\n",
       "    </tr>\n",
       "    <tr>\n",
       "      <th>4.5</th>\n",
       "      <td>1</td>\n",
       "      <td>0</td>\n",
       "      <td>0</td>\n",
       "    </tr>\n",
       "    <tr>\n",
       "      <th>4.6</th>\n",
       "      <td>4</td>\n",
       "      <td>0</td>\n",
       "      <td>0</td>\n",
       "    </tr>\n",
       "    <tr>\n",
       "      <th>4.7</th>\n",
       "      <td>2</td>\n",
       "      <td>0</td>\n",
       "      <td>0</td>\n",
       "    </tr>\n",
       "    <tr>\n",
       "      <th>4.8</th>\n",
       "      <td>5</td>\n",
       "      <td>0</td>\n",
       "      <td>0</td>\n",
       "    </tr>\n",
       "    <tr>\n",
       "      <th>4.9</th>\n",
       "      <td>4</td>\n",
       "      <td>1</td>\n",
       "      <td>1</td>\n",
       "    </tr>\n",
       "    <tr>\n",
       "      <th>5.0</th>\n",
       "      <td>8</td>\n",
       "      <td>2</td>\n",
       "      <td>0</td>\n",
       "    </tr>\n",
       "    <tr>\n",
       "      <th>5.1</th>\n",
       "      <td>8</td>\n",
       "      <td>1</td>\n",
       "      <td>0</td>\n",
       "    </tr>\n",
       "    <tr>\n",
       "      <th>5.2</th>\n",
       "      <td>3</td>\n",
       "      <td>1</td>\n",
       "      <td>0</td>\n",
       "    </tr>\n",
       "    <tr>\n",
       "      <th>5.3</th>\n",
       "      <td>1</td>\n",
       "      <td>0</td>\n",
       "      <td>0</td>\n",
       "    </tr>\n",
       "    <tr>\n",
       "      <th>5.4</th>\n",
       "      <td>5</td>\n",
       "      <td>1</td>\n",
       "      <td>0</td>\n",
       "    </tr>\n",
       "    <tr>\n",
       "      <th>5.5</th>\n",
       "      <td>2</td>\n",
       "      <td>5</td>\n",
       "      <td>0</td>\n",
       "    </tr>\n",
       "    <tr>\n",
       "      <th>5.6</th>\n",
       "      <td>0</td>\n",
       "      <td>5</td>\n",
       "      <td>1</td>\n",
       "    </tr>\n",
       "    <tr>\n",
       "      <th>5.7</th>\n",
       "      <td>2</td>\n",
       "      <td>5</td>\n",
       "      <td>1</td>\n",
       "    </tr>\n",
       "    <tr>\n",
       "      <th>5.8</th>\n",
       "      <td>1</td>\n",
       "      <td>3</td>\n",
       "      <td>3</td>\n",
       "    </tr>\n",
       "    <tr>\n",
       "      <th>5.9</th>\n",
       "      <td>0</td>\n",
       "      <td>2</td>\n",
       "      <td>1</td>\n",
       "    </tr>\n",
       "    <tr>\n",
       "      <th>6.0</th>\n",
       "      <td>0</td>\n",
       "      <td>4</td>\n",
       "      <td>2</td>\n",
       "    </tr>\n",
       "    <tr>\n",
       "      <th>6.1</th>\n",
       "      <td>0</td>\n",
       "      <td>4</td>\n",
       "      <td>2</td>\n",
       "    </tr>\n",
       "    <tr>\n",
       "      <th>6.2</th>\n",
       "      <td>0</td>\n",
       "      <td>2</td>\n",
       "      <td>2</td>\n",
       "    </tr>\n",
       "    <tr>\n",
       "      <th>6.3</th>\n",
       "      <td>0</td>\n",
       "      <td>3</td>\n",
       "      <td>6</td>\n",
       "    </tr>\n",
       "    <tr>\n",
       "      <th>6.4</th>\n",
       "      <td>0</td>\n",
       "      <td>2</td>\n",
       "      <td>5</td>\n",
       "    </tr>\n",
       "    <tr>\n",
       "      <th>6.5</th>\n",
       "      <td>0</td>\n",
       "      <td>1</td>\n",
       "      <td>4</td>\n",
       "    </tr>\n",
       "    <tr>\n",
       "      <th>6.6</th>\n",
       "      <td>0</td>\n",
       "      <td>2</td>\n",
       "      <td>0</td>\n",
       "    </tr>\n",
       "    <tr>\n",
       "      <th>6.7</th>\n",
       "      <td>0</td>\n",
       "      <td>3</td>\n",
       "      <td>5</td>\n",
       "    </tr>\n",
       "    <tr>\n",
       "      <th>6.8</th>\n",
       "      <td>0</td>\n",
       "      <td>1</td>\n",
       "      <td>2</td>\n",
       "    </tr>\n",
       "    <tr>\n",
       "      <th>6.9</th>\n",
       "      <td>0</td>\n",
       "      <td>1</td>\n",
       "      <td>3</td>\n",
       "    </tr>\n",
       "    <tr>\n",
       "      <th>7.0</th>\n",
       "      <td>0</td>\n",
       "      <td>1</td>\n",
       "      <td>0</td>\n",
       "    </tr>\n",
       "    <tr>\n",
       "      <th>7.1</th>\n",
       "      <td>0</td>\n",
       "      <td>0</td>\n",
       "      <td>1</td>\n",
       "    </tr>\n",
       "    <tr>\n",
       "      <th>7.2</th>\n",
       "      <td>0</td>\n",
       "      <td>0</td>\n",
       "      <td>3</td>\n",
       "    </tr>\n",
       "    <tr>\n",
       "      <th>7.3</th>\n",
       "      <td>0</td>\n",
       "      <td>0</td>\n",
       "      <td>1</td>\n",
       "    </tr>\n",
       "    <tr>\n",
       "      <th>7.4</th>\n",
       "      <td>0</td>\n",
       "      <td>0</td>\n",
       "      <td>1</td>\n",
       "    </tr>\n",
       "    <tr>\n",
       "      <th>7.6</th>\n",
       "      <td>0</td>\n",
       "      <td>0</td>\n",
       "      <td>1</td>\n",
       "    </tr>\n",
       "    <tr>\n",
       "      <th>7.7</th>\n",
       "      <td>0</td>\n",
       "      <td>0</td>\n",
       "      <td>4</td>\n",
       "    </tr>\n",
       "    <tr>\n",
       "      <th>7.9</th>\n",
       "      <td>0</td>\n",
       "      <td>0</td>\n",
       "      <td>1</td>\n",
       "    </tr>\n",
       "  </tbody>\n",
       "</table>\n",
       "</div>"
      ],
      "text/plain": [
       "target             setosa  versicolor  virginica\n",
       "sepal length (cm)                               \n",
       "4.3                     1           0          0\n",
       "4.4                     3           0          0\n",
       "4.5                     1           0          0\n",
       "4.6                     4           0          0\n",
       "4.7                     2           0          0\n",
       "4.8                     5           0          0\n",
       "4.9                     4           1          1\n",
       "5.0                     8           2          0\n",
       "5.1                     8           1          0\n",
       "5.2                     3           1          0\n",
       "5.3                     1           0          0\n",
       "5.4                     5           1          0\n",
       "5.5                     2           5          0\n",
       "5.6                     0           5          1\n",
       "5.7                     2           5          1\n",
       "5.8                     1           3          3\n",
       "5.9                     0           2          1\n",
       "6.0                     0           4          2\n",
       "6.1                     0           4          2\n",
       "6.2                     0           2          2\n",
       "6.3                     0           3          6\n",
       "6.4                     0           2          5\n",
       "6.5                     0           1          4\n",
       "6.6                     0           2          0\n",
       "6.7                     0           3          5\n",
       "6.8                     0           1          2\n",
       "6.9                     0           1          3\n",
       "7.0                     0           1          0\n",
       "7.1                     0           0          1\n",
       "7.2                     0           0          3\n",
       "7.3                     0           0          1\n",
       "7.4                     0           0          1\n",
       "7.6                     0           0          1\n",
       "7.7                     0           0          4\n",
       "7.9                     0           0          1"
      ]
     },
     "execution_count": 74,
     "metadata": {},
     "output_type": "execute_result"
    }
   ],
   "source": [
    "pd.crosstab(irisdata['sepal length (cm)'],irisdata['target'])"
   ]
  },
  {
   "cell_type": "markdown",
   "metadata": {},
   "source": [
    "The next step would be to calculate the chi2 value between each adjacent interval (chi2 value between each adjacent row). First, create the intervals:"
   ]
  },
  {
   "cell_type": "code",
   "execution_count": 75,
   "metadata": {},
   "outputs": [
    {
     "data": {
      "text/plain": [
       "array([[4.3, 4.3],\n",
       "       [4.4, 4.4],\n",
       "       [4.5, 4.5],\n",
       "       [4.6, 4.6],\n",
       "       [4.7, 4.7],\n",
       "       [4.8, 4.8],\n",
       "       [4.9, 4.9],\n",
       "       [5. , 5. ],\n",
       "       [5.1, 5.1],\n",
       "       [5.2, 5.2],\n",
       "       [5.3, 5.3],\n",
       "       [5.4, 5.4],\n",
       "       [5.5, 5.5],\n",
       "       [5.6, 5.6],\n",
       "       [5.7, 5.7],\n",
       "       [5.8, 5.8],\n",
       "       [5.9, 5.9],\n",
       "       [6. , 6. ],\n",
       "       [6.1, 6.1],\n",
       "       [6.2, 6.2],\n",
       "       [6.3, 6.3],\n",
       "       [6.4, 6.4],\n",
       "       [6.5, 6.5],\n",
       "       [6.6, 6.6],\n",
       "       [6.7, 6.7],\n",
       "       [6.8, 6.8],\n",
       "       [6.9, 6.9],\n",
       "       [7. , 7. ],\n",
       "       [7.1, 7.1],\n",
       "       [7.2, 7.2],\n",
       "       [7.3, 7.3],\n",
       "       [7.4, 7.4],\n",
       "       [7.6, 7.6],\n",
       "       [7.7, 7.7],\n",
       "       [7.9, 7.9]])"
      ]
     },
     "execution_count": 75,
     "metadata": {},
     "output_type": "execute_result"
    }
   ],
   "source": [
    "distinct_vals=np.sort(irisdata['sepal length (cm)'].unique())\n",
    "intervals = np.array([[distinct_vals[i], distinct_vals[i]] for i in range(len(distinct_vals))])\n",
    "intervals"
   ]
  },
  {
   "cell_type": "markdown",
   "metadata": {},
   "source": [
    "Using the 'between' method from the *pandas* library, we can collect those values that are in a given interval. For example, the observations in the first interval are:"
   ]
  },
  {
   "cell_type": "code",
   "execution_count": 76,
   "metadata": {},
   "outputs": [
    {
     "data": {
      "text/html": [
       "<div>\n",
       "<style scoped>\n",
       "    .dataframe tbody tr th:only-of-type {\n",
       "        vertical-align: middle;\n",
       "    }\n",
       "\n",
       "    .dataframe tbody tr th {\n",
       "        vertical-align: top;\n",
       "    }\n",
       "\n",
       "    .dataframe thead th {\n",
       "        text-align: right;\n",
       "    }\n",
       "</style>\n",
       "<table border=\"1\" class=\"dataframe\">\n",
       "  <thead>\n",
       "    <tr style=\"text-align: right;\">\n",
       "      <th></th>\n",
       "      <th>sepal length (cm)</th>\n",
       "      <th>sepal width (cm)</th>\n",
       "      <th>petal length (cm)</th>\n",
       "      <th>petal width (cm)</th>\n",
       "      <th>target</th>\n",
       "    </tr>\n",
       "  </thead>\n",
       "  <tbody>\n",
       "    <tr>\n",
       "      <th>13</th>\n",
       "      <td>4.3</td>\n",
       "      <td>3.0</td>\n",
       "      <td>1.1</td>\n",
       "      <td>0.1</td>\n",
       "      <td>setosa</td>\n",
       "    </tr>\n",
       "  </tbody>\n",
       "</table>\n",
       "</div>"
      ],
      "text/plain": [
       "    sepal length (cm)  sepal width (cm)  petal length (cm)  petal width (cm)  \\\n",
       "13                4.3               3.0                1.1               0.1   \n",
       "\n",
       "    target  \n",
       "13  setosa  "
      ]
     },
     "execution_count": 76,
     "metadata": {},
     "output_type": "execute_result"
    }
   ],
   "source": [
    "i=0\n",
    "interval1=irisdata[irisdata['sepal length (cm)'].between(intervals[i][0], intervals[i][1])]\n",
    "interval1"
   ]
  },
  {
   "cell_type": "markdown",
   "metadata": {},
   "source": [
    "while in the second interval are:"
   ]
  },
  {
   "cell_type": "code",
   "execution_count": 77,
   "metadata": {},
   "outputs": [
    {
     "data": {
      "text/html": [
       "<div>\n",
       "<style scoped>\n",
       "    .dataframe tbody tr th:only-of-type {\n",
       "        vertical-align: middle;\n",
       "    }\n",
       "\n",
       "    .dataframe tbody tr th {\n",
       "        vertical-align: top;\n",
       "    }\n",
       "\n",
       "    .dataframe thead th {\n",
       "        text-align: right;\n",
       "    }\n",
       "</style>\n",
       "<table border=\"1\" class=\"dataframe\">\n",
       "  <thead>\n",
       "    <tr style=\"text-align: right;\">\n",
       "      <th></th>\n",
       "      <th>sepal length (cm)</th>\n",
       "      <th>sepal width (cm)</th>\n",
       "      <th>petal length (cm)</th>\n",
       "      <th>petal width (cm)</th>\n",
       "      <th>target</th>\n",
       "    </tr>\n",
       "  </thead>\n",
       "  <tbody>\n",
       "    <tr>\n",
       "      <th>8</th>\n",
       "      <td>4.4</td>\n",
       "      <td>2.9</td>\n",
       "      <td>1.4</td>\n",
       "      <td>0.2</td>\n",
       "      <td>setosa</td>\n",
       "    </tr>\n",
       "    <tr>\n",
       "      <th>38</th>\n",
       "      <td>4.4</td>\n",
       "      <td>3.0</td>\n",
       "      <td>1.3</td>\n",
       "      <td>0.2</td>\n",
       "      <td>setosa</td>\n",
       "    </tr>\n",
       "    <tr>\n",
       "      <th>42</th>\n",
       "      <td>4.4</td>\n",
       "      <td>3.2</td>\n",
       "      <td>1.3</td>\n",
       "      <td>0.2</td>\n",
       "      <td>setosa</td>\n",
       "    </tr>\n",
       "  </tbody>\n",
       "</table>\n",
       "</div>"
      ],
      "text/plain": [
       "    sepal length (cm)  sepal width (cm)  petal length (cm)  petal width (cm)  \\\n",
       "8                 4.4               2.9                1.4               0.2   \n",
       "38                4.4               3.0                1.3               0.2   \n",
       "42                4.4               3.2                1.3               0.2   \n",
       "\n",
       "    target  \n",
       "8   setosa  \n",
       "38  setosa  \n",
       "42  setosa  "
      ]
     },
     "execution_count": 77,
     "metadata": {},
     "output_type": "execute_result"
    }
   ],
   "source": [
    "interval2=irisdata[irisdata['sepal length (cm)'].between(intervals[i+1][0], intervals[i+1][1])]\n",
    "interval2"
   ]
  },
  {
   "cell_type": "markdown",
   "metadata": {},
   "source": [
    "Then we should create the crosstab between the two intervals. For this, first, we create a helper variable (a dictionary with target labels all with zero values attached):"
   ]
  },
  {
   "cell_type": "code",
   "execution_count": 78,
   "metadata": {},
   "outputs": [
    {
     "data": {
      "text/plain": [
       "{'setosa': 0, 'versicolor': 0, 'virginica': 0}"
      ]
     },
     "execution_count": 78,
     "metadata": {},
     "output_type": "execute_result"
    }
   ],
   "source": [
    "label='target'\n",
    "labels = irisdata[label].unique()\n",
    "empty_count = {l: 0 for l in labels}\n",
    "empty_count"
   ]
  },
  {
   "cell_type": "markdown",
   "metadata": {},
   "source": [
    "Then count the class labels occurrences for each interval"
   ]
  },
  {
   "cell_type": "code",
   "execution_count": 79,
   "metadata": {},
   "outputs": [
    {
     "data": {
      "text/plain": [
       "array([[1, 0, 0],\n",
       "       [3, 0, 0]])"
      ]
     },
     "execution_count": 79,
     "metadata": {},
     "output_type": "execute_result"
    }
   ],
   "source": [
    "from collections import Counter\n",
    "count1=np.array([v for i, v in {**empty_count, **Counter(interval1[label])}.items()])\n",
    "count2=np.array([v for i, v in {**empty_count, **Counter(interval2[label])}.items()])\n",
    "crosstab=np.vstack([count1,count2])\n",
    "crosstab"
   ]
  },
  {
   "cell_type": "markdown",
   "metadata": {},
   "source": [
    "Based on the result, we calculate the expected frequencies. Because there are zero values in the frequencies, we should add a very small value to avoid division by zero."
   ]
  },
  {
   "cell_type": "code",
   "execution_count": 80,
   "metadata": {},
   "outputs": [
    {
     "data": {
      "text/plain": [
       "array([[1.001e+00, 1.000e-03, 1.000e-03],\n",
       "       [3.001e+00, 1.000e-03, 1.000e-03]])"
      ]
     },
     "execution_count": 80,
     "metadata": {},
     "output_type": "execute_result"
    }
   ],
   "source": [
    "expected=crosstab.sum(axis=0,keepdims=True)*crosstab.sum(axis=1,keepdims=True)/crosstab.sum()+1e-3\n",
    "expected"
   ]
  },
  {
   "cell_type": "markdown",
   "metadata": {},
   "source": [
    "Finally, from the expected values, we can calculate the chi2 values:"
   ]
  },
  {
   "cell_type": "code",
   "execution_count": 81,
   "metadata": {},
   "outputs": [
    {
     "data": {
      "text/plain": [
       "0.0040013322232582485"
      ]
     },
     "execution_count": 81,
     "metadata": {},
     "output_type": "execute_result"
    }
   ],
   "source": [
    "chi2=np.sum((crosstab-expected)**2/expected)\n",
    "chi2"
   ]
  },
  {
   "cell_type": "markdown",
   "metadata": {},
   "source": [
    "Now, do the same chi2 calculation for all intervals and get back the index of the interval with the lowest chi2 value (this would represent one iteration of the ChiMerge binning)."
   ]
  },
  {
   "cell_type": "code",
   "execution_count": 82,
   "metadata": {},
   "outputs": [
    {
     "data": {
      "text/plain": [
       "17"
      ]
     },
     "execution_count": 82,
     "metadata": {},
     "output_type": "execute_result"
    }
   ],
   "source": [
    "data=irisdata\n",
    "feature='sepal length (cm)'\n",
    "label='target'\n",
    "\n",
    "labels = irisdata['target'].unique()\n",
    "empty_count = {l: 0 for l in labels}\n",
    "chi2vals = []\n",
    "for i in range(len(intervals)-1):\n",
    "    interval1=data[data[feature].between(intervals[i][0], intervals[i][1])]\n",
    "    interval2=data[data[feature].between(intervals[i+1][0], intervals[i+1][1])]\n",
    "    count1=np.array([v for i, v in {**empty_count, **Counter(interval1[label])}.items()])\n",
    "    count2=np.array([v for i, v in {**empty_count, **Counter(interval2[label])}.items()])\n",
    "    crosstab=np.vstack([count1,count2])\n",
    "    expected=crosstab.sum(axis=0,keepdims=True)*crosstab.sum(axis=1,keepdims=True)/crosstab.sum()+1e-15\n",
    "    chi2=np.sum((crosstab-expected)**2/expected)\n",
    "    chi2vals.append(chi2)\n",
    "idx=np.array(chi2vals).argmin()\n",
    "idx"
   ]
  },
  {
   "cell_type": "markdown",
   "metadata": {},
   "source": [
    "Then we can create the new set of intervals by merging the two adjacent intervals with the lowest chi2 value."
   ]
  },
  {
   "cell_type": "code",
   "execution_count": 83,
   "metadata": {},
   "outputs": [
    {
     "data": {
      "text/plain": [
       "array([[4.3, 4.3],\n",
       "       [4.4, 4.4],\n",
       "       [4.5, 4.5],\n",
       "       [4.6, 4.6],\n",
       "       [4.7, 4.7],\n",
       "       [4.8, 4.8],\n",
       "       [4.9, 4.9],\n",
       "       [5. , 5. ],\n",
       "       [5.1, 5.1],\n",
       "       [5.2, 5.2],\n",
       "       [5.3, 5.3],\n",
       "       [5.4, 5.4],\n",
       "       [5.5, 5.5],\n",
       "       [5.6, 5.6],\n",
       "       [5.7, 5.7],\n",
       "       [5.8, 5.8],\n",
       "       [5.9, 5.9],\n",
       "       [6. , 6.1],\n",
       "       [6.2, 6.2],\n",
       "       [6.3, 6.3],\n",
       "       [6.4, 6.4],\n",
       "       [6.5, 6.5],\n",
       "       [6.6, 6.6],\n",
       "       [6.7, 6.7],\n",
       "       [6.8, 6.8],\n",
       "       [6.9, 6.9],\n",
       "       [7. , 7. ],\n",
       "       [7.1, 7.1],\n",
       "       [7.2, 7.2],\n",
       "       [7.3, 7.3],\n",
       "       [7.4, 7.4],\n",
       "       [7.6, 7.6],\n",
       "       [7.7, 7.7],\n",
       "       [7.9, 7.9]])"
      ]
     },
     "execution_count": 83,
     "metadata": {},
     "output_type": "execute_result"
    }
   ],
   "source": [
    "intervals[idx][1]=intervals[idx+1][1]\n",
    "np.delete(intervals,idx+1,axis=0)"
   ]
  },
  {
   "cell_type": "markdown",
   "metadata": {},
   "source": [
    "So far, so good! Now, let's define the ChiMerge discretizer function based on the previous code examples. We may set for the stopping criteria both the confidence level (as the threshold for $\\chi^2$ value) and the maximum number of intervals. "
   ]
  },
  {
   "cell_type": "code",
   "execution_count": 84,
   "metadata": {},
   "outputs": [],
   "source": [
    "def chimerge(data, feature, label, max_intervals, percentile):\n",
    "    if max_intervals<3:\n",
    "        print(\"Number of max intervals shall be greater than 3!\")\n",
    "        return None\n",
    "    from scipy.stats import chi2\n",
    "    labels = sorted(set(data[label]))\n",
    "    df=len(labels)-1\n",
    "    threshold=chi2.ppf(percentile,df)\n",
    "    empty_count = {l: 0 for l in labels}\n",
    "    distinct_vals=np.sort(data[feature].unique())\n",
    "    intervals = np.array([[distinct_vals[i], distinct_vals[i]] for i in range(len(distinct_vals))])\n",
    "    while True:\n",
    "        chi2vals = []\n",
    "        for i in range(len(intervals)-1):\n",
    "            interval1=data[data[feature].between(intervals[i][0], intervals[i][1])]\n",
    "            interval2=data[data[feature].between(intervals[i+1][0], intervals[i+1][1])]\n",
    "            count1=np.array([v for i, v in {**empty_count, **Counter(interval1[label])}.items()])\n",
    "            count2=np.array([v for i, v in {**empty_count, **Counter(interval2[label])}.items()])\n",
    "            crosstab=np.vstack([count1,count2])\n",
    "            expected=crosstab.sum(axis=0,keepdims=True)*crosstab.sum(axis=1,keepdims=True)/crosstab.sum()+1e-15\n",
    "            chi2=np.sum((crosstab-expected)**2/expected)\n",
    "            chi2vals.append(chi2)\n",
    "        if np.array(chi2vals).min()>threshold and len(intervals) < max_intervals:\n",
    "            break #return intervals\n",
    "        idx=np.array(chi2vals).argmin()\n",
    "        intervals[idx][1]=intervals[idx+1][1]\n",
    "        intervals=np.delete(intervals,idx+1,axis=0)\n",
    "    return intervals"
   ]
  },
  {
   "cell_type": "markdown",
   "metadata": {},
   "source": [
    "Finally, apply the function just created to all the features of the iris dataset. We may set 10 for the max interval number, respective 0.9 for the confidence level."
   ]
  },
  {
   "cell_type": "code",
   "execution_count": 85,
   "metadata": {},
   "outputs": [
    {
     "name": "stdout",
     "output_type": "stream",
     "text": [
      "Intervals for sepal length (cm)\n",
      "[[4.3 4.8]\n",
      " [4.9 4.9]\n",
      " [5.  5.4]\n",
      " [5.5 5.7]\n",
      " [5.8 6.2]\n",
      " [6.3 7. ]\n",
      " [7.1 7.9]]\n",
      "Intervals for sepal width (cm)\n",
      "[[2.  2.4]\n",
      " [2.5 2.8]\n",
      " [2.9 2.9]\n",
      " [3.  3.3]\n",
      " [3.4 4.4]]\n",
      "Intervals for petal length (cm)\n",
      "[[1.  1.9]\n",
      " [3.  4.7]\n",
      " [4.8 5.1]\n",
      " [5.2 6.9]]\n",
      "Intervals for petal width (cm)\n",
      "[[0.1 0.6]\n",
      " [1.  1.3]\n",
      " [1.4 1.7]\n",
      " [1.8 2.5]]\n"
     ]
    }
   ],
   "source": [
    "features=list(irisdata.columns)\n",
    "features.remove('target')\n",
    "for attr in features:\n",
    "    print('Intervals for', attr)\n",
    "    print(chimerge(data=irisdata, feature=attr, label='target', max_intervals=10, percentile=0.90))"
   ]
  },
  {
   "cell_type": "markdown",
   "metadata": {},
   "source": [
    "That's all, folks!"
   ]
  },
  {
   "cell_type": "markdown",
   "metadata": {},
   "source": [
    "<img src = \"images/AML1-Cover.png\" width = 110, align = \"left\" style=\"margin:0px 20px\">\n",
    "\n",
    "<span style=\"color:blue\">**Note:**</span> This Jupyter Notebook is accompanying the book: <br> $\\qquad$ <b>Advanced Machine Learning Made Easy</b> <br> $\\qquad$ From Theory to Practice with NumPy and scikit-learn <br> $\\qquad$ <i> Volume 1: Generalized Linear Models</i><br>\n",
    "by Ferenc Farkas, Ph.D. \n",
    "\n",
    "If you find this Notebook useful, please support me by buying the book at [Leanpub](http://leanpub.com/AML1). <br>\n",
    "Copyright notice: This Jupyter Notebook is made available under the [MIT License](https://opensource.org/licenses/MIT)."
   ]
  },
  {
   "cell_type": "code",
   "execution_count": null,
   "metadata": {},
   "outputs": [],
   "source": []
  }
 ],
 "metadata": {
  "colab": {
   "collapsed_sections": [],
   "name": "Ch1-1-SimpleRegression.ipynb",
   "provenance": [
    {
     "file_id": "1CAvi5U76y6xIKJarmRS-iX0Jh70o2mGi",
     "timestamp": 1537170166740
    }
   ],
   "version": "0.3.2"
  },
  "kernelspec": {
   "display_name": "Python 3",
   "language": "python",
   "name": "python3"
  },
  "language_info": {
   "codemirror_mode": {
    "name": "ipython",
    "version": 3
   },
   "file_extension": ".py",
   "mimetype": "text/x-python",
   "name": "python",
   "nbconvert_exporter": "python",
   "pygments_lexer": "ipython3",
   "version": "3.8.5"
  }
 },
 "nbformat": 4,
 "nbformat_minor": 1
}
