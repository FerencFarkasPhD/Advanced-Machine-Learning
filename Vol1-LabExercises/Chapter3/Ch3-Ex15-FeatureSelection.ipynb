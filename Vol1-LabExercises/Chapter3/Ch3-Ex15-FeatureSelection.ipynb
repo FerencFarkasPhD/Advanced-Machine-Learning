{
 "cells": [
  {
   "cell_type": "markdown",
   "metadata": {
    "colab_type": "text",
    "id": "tr9o4rl9fUBh"
   },
   "source": [
    "<img src = \"images/Logo.png\" width = 220, align = \"left\">\n",
    "\n",
    "<h1 align=center><font size = 6><span style=\"color:blue\">Feature Selection</span></font></h1>\n",
    "<h2 align=center><font size = 5>Lab Exercise 3.15</font></h2>\n",
    "<h3 align=center><font size = 4><b>Advanced Machine Learning Made Easy<br></b><small>From Theory to Practice with NumPy and scikit-learn<br><i>Volume 1: Generalized Linear Models</i></font></h3>"
   ]
  },
  {
   "cell_type": "markdown",
   "metadata": {},
   "source": [
    "## Introduction\n",
    "\n",
    "In this lab exercise, we will analyze different methods for feature selection in order to decrease the complexity of the model, and by this, its variance providing a simpler and more interpretable model. \n",
    "\n",
    "The following feature selection methods will be discussed: \n",
    "- filter methods, also called univariate feature selection, based on techniques like feature importance, low variance threshold, Chi-squared, and F-test, respective the mutual information\n",
    "- wrapper methods, also called (feature) subset selection, like best subset selection, forward and backward stepwise selection \n",
    "- embedded methods, like shrinkage, will be discussed in a separate lab exercise, namely, Lab Exercise 3.16 Regularization\n",
    "\n",
    "**Note**: *The source of the \"Boston House-price\" dataset can be found at http://lib.stat.cmu.edu/datasets/boston. However, we will use the built-in method of the scikit-learn library to obtain this dataset.*\n",
    "\n",
    "**Note: This lab exercise requires scikit-learn version of at least 0.24!**"
   ]
  },
  {
   "cell_type": "markdown",
   "metadata": {},
   "source": [
    "### Table of contents\n",
    "1. [Feature selection based on feature importance](#FeatureImportance)\n",
    "2. [Filtering with a low variance threshold](#LowVariance)\n",
    "3. [Filtering with Chi-squared test](#Ch2)\n",
    "4. [Filtering based on F-test](#Ftest)\n",
    "5. [Filtering based on mutual information](#MI)\n",
    "6. [Best subset selection](#BestSubset)\n",
    "7. [Forward stepwise selection](#Forward)\n",
    "8. [Backward stepwise selection](#Backward)\n",
    "9. [Stepwise selection with cross-validation](#StepwiseCV)\n",
    "10. [Model selection with information criteria](#InfoCriteria)"
   ]
  },
  {
   "cell_type": "markdown",
   "metadata": {},
   "source": [
    "## 1. Feature selection based on feature importance <a name=\"FeatureImportance\"></a>\n",
    "\n",
    "In the case of the univariate feature selection method, the individual input variables are ranked according to specific criteria (a numeric scoring technique to quantify the strength of the relationship between the individual predictor and target).  Then the filtering (i.e., feature selection) can be done by either selecting the $M<D$ highest scored features or selecting a given percentile of the total features by picking the highest scored ones. \n",
    "\n",
    "As a first step, let's import the required libraries and set the matplotlib for making plots inline."
   ]
  },
  {
   "cell_type": "code",
   "execution_count": 1,
   "metadata": {},
   "outputs": [],
   "source": [
    "import numpy as np\n",
    "import pandas as pd\n",
    "import matplotlib.pyplot as plt\n",
    "from statsmodels.formula.api import ols, logit\n",
    "import seaborn as sns\n",
    "import os\n",
    "%matplotlib inline"
   ]
  },
  {
   "cell_type": "markdown",
   "metadata": {},
   "source": [
    "Let's load the King County House Sale dataset and create the necessary feature transformation implemented in Lab Exercise 3.14."
   ]
  },
  {
   "cell_type": "code",
   "execution_count": 2,
   "metadata": {
    "colab": {
     "base_uri": "https://localhost:8080/",
     "height": 544
    },
    "colab_type": "code",
    "executionInfo": {
     "elapsed": 624,
     "status": "ok",
     "timestamp": 1537254352311,
     "user": {
      "displayName": "Ferenc Dr. Farkas",
      "photoUrl": "https://lh3.googleusercontent.com/a/default-user=s128",
      "userId": "101091246114755693299"
     },
     "user_tz": -120
    },
    "id": "m_egJmIpSR3V",
    "outputId": "cdb3ae53-2311-44f1-8aaf-32c01c768d01"
   },
   "outputs": [],
   "source": [
    "data = pd.read_csv(os.path.join('data','HouseSalesKingCounty.csv'))\n",
    "data['date']=pd.to_datetime(data['date'])\n",
    "data['spring_summer']=data.date.dt.month.apply(lambda x: 1 if x in [3,4,5,6,7] else 0)\n",
    "data['renovated']=data['yr_renovated'].apply(lambda x: 1 if x>0 else 0)\n",
    "data['age']=2017-data['yr_built']"
   ]
  },
  {
   "cell_type": "markdown",
   "metadata": {},
   "source": [
    "Let's fit the OLS model again and print the results."
   ]
  },
  {
   "cell_type": "code",
   "execution_count": 3,
   "metadata": {},
   "outputs": [
    {
     "name": "stdout",
     "output_type": "stream",
     "text": [
      "                   OLS Regression Results (all predictors)                    \n",
      "==============================================================================\n",
      "Dep. Variable:                  price   R-squared:                       0.700\n",
      "Model:                            OLS   Adj. R-squared:                  0.700\n",
      "Method:                 Least Squares   F-statistic:                     2967.\n",
      "Date:                Mon, 15 Nov 2021   Prob (F-statistic):               0.00\n",
      "Time:                        21:00:59   Log-Likelihood:            -2.9459e+05\n",
      "No. Observations:               21613   AIC:                         5.892e+05\n",
      "Df Residuals:                   21595   BIC:                         5.894e+05\n",
      "Df Model:                          17                                         \n",
      "Covariance Type:            nonrobust                                         \n",
      "=================================================================================\n",
      "                    coef    std err          t      P>|t|      [0.025      0.975]\n",
      "---------------------------------------------------------------------------------\n",
      "Intercept      5.978e+05   2.84e+06      0.210      0.833   -4.97e+06    6.17e+06\n",
      "sqft_living     147.7299      4.172     35.410      0.000     139.553     155.907\n",
      "sqft_lot          0.1297      0.048      2.709      0.007       0.036       0.224\n",
      "sqft_above       34.9548      3.907      8.946      0.000      27.296      42.614\n",
      "sqft_living15    20.6327      3.424      6.026      0.000      13.921      27.344\n",
      "sqft_lot15       -0.3918      0.073     -5.355      0.000      -0.535      -0.248\n",
      "age            2589.6867     70.861     36.546      0.000    2450.794    2728.579\n",
      "bedrooms      -3.597e+04   1889.768    -19.036      0.000   -3.97e+04   -3.23e+04\n",
      "bathrooms      4.274e+04   3139.218     13.614      0.000    3.66e+04    4.89e+04\n",
      "lat            6.042e+05   1.07e+04     56.525      0.000    5.83e+05    6.25e+05\n",
      "long          -2.177e+05   1.31e+04    -16.645      0.000   -2.43e+05   -1.92e+05\n",
      "zipcode        -578.5563     32.818    -17.629      0.000    -642.881    -514.231\n",
      "view           5.305e+04   2137.838     24.815      0.000    4.89e+04    5.72e+04\n",
      "condition       2.61e+04   2345.682     11.128      0.000    2.15e+04    3.07e+04\n",
      "grade          9.606e+04   2142.959     44.828      0.000    9.19e+04       1e+05\n",
      "waterfront     5.833e+05   1.73e+04     33.628      0.000    5.49e+05    6.17e+05\n",
      "renovated      3.953e+04   7280.044      5.429      0.000    2.53e+04    5.38e+04\n",
      "spring_summer  1.679e+04   2737.390      6.134      0.000    1.14e+04    2.22e+04\n",
      "==============================================================================\n",
      "Omnibus:                    18365.679   Durbin-Watson:                   1.989\n",
      "Prob(Omnibus):                  0.000   Jarque-Bera (JB):          1865657.777\n",
      "Skew:                           3.560   Prob(JB):                         0.00\n",
      "Kurtosis:                      47.956   Cond. No.                     2.09e+08\n",
      "==============================================================================\n",
      "\n",
      "Notes:\n",
      "[1] Standard Errors assume that the covariance matrix of the errors is correctly specified.\n",
      "[2] The condition number is large, 2.09e+08. This might indicate that there are\n",
      "strong multicollinearity or other numerical problems.\n",
      "RMSE = 201092.25737227197\n"
     ]
    }
   ],
   "source": [
    "numvar_list=['sqft_living','sqft_lot','sqft_above','sqft_living15','sqft_lot15','age','bedrooms','bathrooms',\\\n",
    "             'lat','long','zipcode']\n",
    "catvar_list=['view','condition','grade','waterfront','renovated','spring_summer']\n",
    "formula='price ~ ' + ' + '.join(numvar_list) +' + ' + ' + '.join(catvar_list)\n",
    "model_ols = ols(formula = formula, data=data).fit()\n",
    "print(model_ols.summary(title=\"OLS Regression Results (all predictors)\"))\n",
    "print(\"RMSE =\",np.sqrt(model_ols.mse_resid))"
   ]
  },
  {
   "cell_type": "markdown",
   "metadata": {},
   "source": [
    "As a reminder, we found a model having almost the same goodness of fit but only half the features used in the model."
   ]
  },
  {
   "cell_type": "code",
   "execution_count": 4,
   "metadata": {},
   "outputs": [
    {
     "name": "stdout",
     "output_type": "stream",
     "text": [
      "            OLS Regression Results (reduced number of predictors)             \n",
      "==============================================================================\n",
      "Dep. Variable:                  price   R-squared:                       0.690\n",
      "Model:                            OLS   Adj. R-squared:                  0.690\n",
      "Method:                 Least Squares   F-statistic:                     6013.\n",
      "Date:                Mon, 15 Nov 2021   Prob (F-statistic):               0.00\n",
      "Time:                        21:00:59   Log-Likelihood:            -2.9495e+05\n",
      "No. Observations:               21613   AIC:                         5.899e+05\n",
      "Df Residuals:                   21604   BIC:                         5.900e+05\n",
      "Df Model:                           8                                         \n",
      "Covariance Type:            nonrobust                                         \n",
      "===============================================================================\n",
      "                  coef    std err          t      P>|t|      [0.025      0.975]\n",
      "-------------------------------------------------------------------------------\n",
      "Intercept   -2.705e+07   4.93e+05    -54.859      0.000    -2.8e+07   -2.61e+07\n",
      "sqft_living   172.9905      3.046     56.795      0.000     167.020     178.961\n",
      "age          2922.0653     60.318     48.445      0.000    2803.838    3040.292\n",
      "bedrooms    -3.311e+04   1905.904    -17.373      0.000   -3.68e+04   -2.94e+04\n",
      "bathrooms    4.587e+04   3123.698     14.684      0.000    3.97e+04     5.2e+04\n",
      "lat          5.522e+05   1.04e+04     52.957      0.000    5.32e+05    5.73e+05\n",
      "view         5.056e+04   2102.157     24.052      0.000    4.64e+04    5.47e+04\n",
      "grade         1.08e+05   2017.687     53.540      0.000    1.04e+05    1.12e+05\n",
      "waterfront   5.965e+05   1.76e+04     33.935      0.000    5.62e+05    6.31e+05\n",
      "==============================================================================\n",
      "Omnibus:                    18274.345   Durbin-Watson:                   1.990\n",
      "Prob(Omnibus):                  0.000   Jarque-Bera (JB):          1747603.269\n",
      "Skew:                           3.552   Prob(JB):                         0.00\n",
      "Kurtosis:                      46.476   Cond. No.                     8.07e+05\n",
      "==============================================================================\n",
      "\n",
      "Notes:\n",
      "[1] Standard Errors assume that the covariance matrix of the errors is correctly specified.\n",
      "[2] The condition number is large, 8.07e+05. This might indicate that there are\n",
      "strong multicollinearity or other numerical problems.\n",
      "RMSE = 204423.88741859546\n"
     ]
    }
   ],
   "source": [
    "numvar_shortlist=numvar_list.copy()\n",
    "numvar_shortlist.remove('sqft_above')\n",
    "numvar_shortlist.remove('sqft_living15')\n",
    "numvar_shortlist.remove('sqft_lot15')\n",
    "numvar_shortlist.remove('sqft_lot')\n",
    "numvar_shortlist.remove('zipcode')\n",
    "numvar_shortlist.remove('long')\n",
    "catvar_shortlist=catvar_list.copy()\n",
    "catvar_shortlist.remove('condition')\n",
    "catvar_shortlist.remove('renovated')\n",
    "catvar_shortlist.remove('spring_summer')\n",
    "\n",
    "formula='price ~ ' + ' + '.join(numvar_shortlist) +' + ' + ' + '.join(catvar_shortlist)\n",
    "\n",
    "model_ols1 = ols(formula = formula, data=data).fit()\n",
    "print(model_ols1.summary(title=\"OLS Regression Results (reduced number of predictors)\"))\n",
    "print(\"RMSE =\",np.sqrt(model_ols1.mse_resid))"
   ]
  },
  {
   "cell_type": "markdown",
   "metadata": {},
   "source": [
    "So far, so good! But we know from the lab exercise 3.14 Generalization Error that we should use cross-validation for estimating the future performance of the linear regression model. So let's define again the pipeline with preprocessing and linear regression."
   ]
  },
  {
   "cell_type": "code",
   "execution_count": 5,
   "metadata": {},
   "outputs": [],
   "source": [
    "from sklearn.compose import ColumnTransformer\n",
    "from sklearn.pipeline import Pipeline\n",
    "from sklearn.preprocessing import StandardScaler, OrdinalEncoder\n",
    "from sklearn.linear_model import LinearRegression\n",
    "\n",
    "from sklearn.compose import ColumnTransformer\n",
    "from sklearn.base import TransformerMixin,BaseEstimator\n",
    "\n",
    "class AgeTransf(BaseEstimator, TransformerMixin):\n",
    "    def __init__(self,baseyear=2017):\n",
    "        self.baseyear=baseyear\n",
    "        return\n",
    "    def fit(self, X, y = None):\n",
    "        return self\n",
    "    def transform(self, x, y = None):\n",
    "        return self.baseyear-x\n",
    "    def inverse_transform(self, x, y = None):\n",
    "        return self.baseyear-x\n",
    "\n",
    "myAgeTransf=AgeTransf(2017)\n",
    "ct = ColumnTransformer(transformers=[('agetransf',myAgeTransf,['yr_built'])],remainder='passthrough')\n",
    "ct.fit_transform(data[['yr_built']])\n",
    "\n",
    "numeric_features = ['sqft_living', 'yr_built','lat','bedrooms','bathrooms']\n",
    "yrbuilt_transformer = ColumnTransformer(transformers=[('agetransf',myAgeTransf,['yr_built'])],remainder='passthrough')\n",
    "numeric_transformer = Pipeline(steps=[\n",
    "    ('age_transf', yrbuilt_transformer),\n",
    "    ('scaler', StandardScaler())])\n",
    "categorical_features = ['waterfront','view','grade']\n",
    "categorical_transformer = 'passthrough'\n",
    "\n",
    "preprocessor = ColumnTransformer(\n",
    "    transformers=[\n",
    "        ('num', numeric_transformer, numeric_features),\n",
    "        ('cat', categorical_transformer, categorical_features)], remainder='drop')\n",
    "\n",
    "regr = Pipeline(steps=[('preprocessor', preprocessor),\n",
    "                      ('regressor', LinearRegression())])"
   ]
  },
  {
   "cell_type": "markdown",
   "metadata": {},
   "source": [
    "Then fit the model using the selected predictors."
   ]
  },
  {
   "cell_type": "code",
   "execution_count": 6,
   "metadata": {},
   "outputs": [
    {
     "data": {
      "text/html": [
       "<style>#sk-a9bd5556-8d57-40a3-9f74-4799049ea631 {color: black;background-color: white;}#sk-a9bd5556-8d57-40a3-9f74-4799049ea631 pre{padding: 0;}#sk-a9bd5556-8d57-40a3-9f74-4799049ea631 div.sk-toggleable {background-color: white;}#sk-a9bd5556-8d57-40a3-9f74-4799049ea631 label.sk-toggleable__label {cursor: pointer;display: block;width: 100%;margin-bottom: 0;padding: 0.2em 0.3em;box-sizing: border-box;text-align: center;}#sk-a9bd5556-8d57-40a3-9f74-4799049ea631 div.sk-toggleable__content {max-height: 0;max-width: 0;overflow: hidden;text-align: left;background-color: #f0f8ff;}#sk-a9bd5556-8d57-40a3-9f74-4799049ea631 div.sk-toggleable__content pre {margin: 0.2em;color: black;border-radius: 0.25em;background-color: #f0f8ff;}#sk-a9bd5556-8d57-40a3-9f74-4799049ea631 input.sk-toggleable__control:checked~div.sk-toggleable__content {max-height: 200px;max-width: 100%;overflow: auto;}#sk-a9bd5556-8d57-40a3-9f74-4799049ea631 div.sk-estimator input.sk-toggleable__control:checked~label.sk-toggleable__label {background-color: #d4ebff;}#sk-a9bd5556-8d57-40a3-9f74-4799049ea631 div.sk-label input.sk-toggleable__control:checked~label.sk-toggleable__label {background-color: #d4ebff;}#sk-a9bd5556-8d57-40a3-9f74-4799049ea631 input.sk-hidden--visually {border: 0;clip: rect(1px 1px 1px 1px);clip: rect(1px, 1px, 1px, 1px);height: 1px;margin: -1px;overflow: hidden;padding: 0;position: absolute;width: 1px;}#sk-a9bd5556-8d57-40a3-9f74-4799049ea631 div.sk-estimator {font-family: monospace;background-color: #f0f8ff;margin: 0.25em 0.25em;border: 1px dotted black;border-radius: 0.25em;box-sizing: border-box;}#sk-a9bd5556-8d57-40a3-9f74-4799049ea631 div.sk-estimator:hover {background-color: #d4ebff;}#sk-a9bd5556-8d57-40a3-9f74-4799049ea631 div.sk-parallel-item::after {content: \"\";width: 100%;border-bottom: 1px solid gray;flex-grow: 1;}#sk-a9bd5556-8d57-40a3-9f74-4799049ea631 div.sk-label:hover label.sk-toggleable__label {background-color: #d4ebff;}#sk-a9bd5556-8d57-40a3-9f74-4799049ea631 div.sk-serial::before {content: \"\";position: absolute;border-left: 1px solid gray;box-sizing: border-box;top: 2em;bottom: 0;left: 50%;}#sk-a9bd5556-8d57-40a3-9f74-4799049ea631 div.sk-serial {display: flex;flex-direction: column;align-items: center;background-color: white;}#sk-a9bd5556-8d57-40a3-9f74-4799049ea631 div.sk-item {z-index: 1;}#sk-a9bd5556-8d57-40a3-9f74-4799049ea631 div.sk-parallel {display: flex;align-items: stretch;justify-content: center;background-color: white;}#sk-a9bd5556-8d57-40a3-9f74-4799049ea631 div.sk-parallel-item {display: flex;flex-direction: column;position: relative;background-color: white;}#sk-a9bd5556-8d57-40a3-9f74-4799049ea631 div.sk-parallel-item:first-child::after {align-self: flex-end;width: 50%;}#sk-a9bd5556-8d57-40a3-9f74-4799049ea631 div.sk-parallel-item:last-child::after {align-self: flex-start;width: 50%;}#sk-a9bd5556-8d57-40a3-9f74-4799049ea631 div.sk-parallel-item:only-child::after {width: 0;}#sk-a9bd5556-8d57-40a3-9f74-4799049ea631 div.sk-dashed-wrapped {border: 1px dashed gray;margin: 0.2em;box-sizing: border-box;padding-bottom: 0.1em;background-color: white;position: relative;}#sk-a9bd5556-8d57-40a3-9f74-4799049ea631 div.sk-label label {font-family: monospace;font-weight: bold;background-color: white;display: inline-block;line-height: 1.2em;}#sk-a9bd5556-8d57-40a3-9f74-4799049ea631 div.sk-label-container {position: relative;z-index: 2;text-align: center;}#sk-a9bd5556-8d57-40a3-9f74-4799049ea631 div.sk-container {display: inline-block;position: relative;}</style><div id=\"sk-a9bd5556-8d57-40a3-9f74-4799049ea631\" class\"sk-top-container\"><div class=\"sk-container\"><div class=\"sk-item sk-dashed-wrapped\"><div class=\"sk-label-container\"><div class=\"sk-label sk-toggleable\"><input class=\"sk-toggleable__control sk-hidden--visually\" id=\"57002d7e-8ec4-4349-b422-e6d5e65476b4\" type=\"checkbox\" ><label class=\"sk-toggleable__label\" for=\"57002d7e-8ec4-4349-b422-e6d5e65476b4\">Pipeline</label><div class=\"sk-toggleable__content\"><pre>Pipeline(steps=[('preprocessor',\n",
       "                 ColumnTransformer(transformers=[('num',\n",
       "                                                  Pipeline(steps=[('age_transf',\n",
       "                                                                   ColumnTransformer(remainder='passthrough',\n",
       "                                                                                     transformers=[('agetransf',\n",
       "                                                                                                    AgeTransf(),\n",
       "                                                                                                    ['yr_built'])])),\n",
       "                                                                  ('scaler',\n",
       "                                                                   StandardScaler())]),\n",
       "                                                  ['sqft_living', 'yr_built',\n",
       "                                                   'lat', 'bedrooms',\n",
       "                                                   'bathrooms']),\n",
       "                                                 ('cat', 'passthrough',\n",
       "                                                  ['waterfront', 'view',\n",
       "                                                   'grade'])])),\n",
       "                ('regressor', LinearRegression())])</pre></div></div></div><div class=\"sk-serial\"><div class=\"sk-item sk-dashed-wrapped\"><div class=\"sk-label-container\"><div class=\"sk-label sk-toggleable\"><input class=\"sk-toggleable__control sk-hidden--visually\" id=\"bbe4250e-0ea8-4df4-94b4-9febc61eccb3\" type=\"checkbox\" ><label class=\"sk-toggleable__label\" for=\"bbe4250e-0ea8-4df4-94b4-9febc61eccb3\">preprocessor: ColumnTransformer</label><div class=\"sk-toggleable__content\"><pre>ColumnTransformer(transformers=[('num',\n",
       "                                 Pipeline(steps=[('age_transf',\n",
       "                                                  ColumnTransformer(remainder='passthrough',\n",
       "                                                                    transformers=[('agetransf',\n",
       "                                                                                   AgeTransf(),\n",
       "                                                                                   ['yr_built'])])),\n",
       "                                                 ('scaler', StandardScaler())]),\n",
       "                                 ['sqft_living', 'yr_built', 'lat', 'bedrooms',\n",
       "                                  'bathrooms']),\n",
       "                                ('cat', 'passthrough',\n",
       "                                 ['waterfront', 'view', 'grade'])])</pre></div></div></div><div class=\"sk-parallel\"><div class=\"sk-parallel-item\"><div class=\"sk-item\"><div class=\"sk-label-container\"><div class=\"sk-label sk-toggleable\"><input class=\"sk-toggleable__control sk-hidden--visually\" id=\"f4846366-f27d-42ad-aa08-88a279dac7bf\" type=\"checkbox\" ><label class=\"sk-toggleable__label\" for=\"f4846366-f27d-42ad-aa08-88a279dac7bf\">num</label><div class=\"sk-toggleable__content\"><pre>['sqft_living', 'yr_built', 'lat', 'bedrooms', 'bathrooms']</pre></div></div></div><div class=\"sk-serial\"><div class=\"sk-item\"><div class=\"sk-serial\"><div class=\"sk-item sk-dashed-wrapped\"><div class=\"sk-label-container\"><div class=\"sk-label sk-toggleable\"><input class=\"sk-toggleable__control sk-hidden--visually\" id=\"fd9dccce-683d-4057-91d2-78629bffe323\" type=\"checkbox\" ><label class=\"sk-toggleable__label\" for=\"fd9dccce-683d-4057-91d2-78629bffe323\">age_transf: ColumnTransformer</label><div class=\"sk-toggleable__content\"><pre>ColumnTransformer(remainder='passthrough',\n",
       "                  transformers=[('agetransf', AgeTransf(), ['yr_built'])])</pre></div></div></div><div class=\"sk-parallel\"><div class=\"sk-parallel-item\"><div class=\"sk-item\"><div class=\"sk-label-container\"><div class=\"sk-label sk-toggleable\"><input class=\"sk-toggleable__control sk-hidden--visually\" id=\"36cf51ce-2aba-4b95-b886-b1f57e56b853\" type=\"checkbox\" ><label class=\"sk-toggleable__label\" for=\"36cf51ce-2aba-4b95-b886-b1f57e56b853\">agetransf</label><div class=\"sk-toggleable__content\"><pre>['yr_built']</pre></div></div></div><div class=\"sk-serial\"><div class=\"sk-item\"><div class=\"sk-estimator sk-toggleable\"><input class=\"sk-toggleable__control sk-hidden--visually\" id=\"7a6bee02-2523-4b69-9796-efdcb0cbe410\" type=\"checkbox\" ><label class=\"sk-toggleable__label\" for=\"7a6bee02-2523-4b69-9796-efdcb0cbe410\">AgeTransf</label><div class=\"sk-toggleable__content\"><pre>AgeTransf()</pre></div></div></div></div></div></div><div class=\"sk-parallel-item\"><div class=\"sk-item\"><div class=\"sk-label-container\"><div class=\"sk-label sk-toggleable\"><input class=\"sk-toggleable__control sk-hidden--visually\" id=\"68c67236-2d8a-4388-bfa8-fcfe132aef7b\" type=\"checkbox\" ><label class=\"sk-toggleable__label\" for=\"68c67236-2d8a-4388-bfa8-fcfe132aef7b\">remainder</label><div class=\"sk-toggleable__content\"><pre></pre></div></div></div><div class=\"sk-serial\"><div class=\"sk-item\"><div class=\"sk-estimator sk-toggleable\"><input class=\"sk-toggleable__control sk-hidden--visually\" id=\"e5ae2fe6-d4a8-4acd-b6d9-1ade0bc23b63\" type=\"checkbox\" ><label class=\"sk-toggleable__label\" for=\"e5ae2fe6-d4a8-4acd-b6d9-1ade0bc23b63\">passthrough</label><div class=\"sk-toggleable__content\"><pre>passthrough</pre></div></div></div></div></div></div></div></div><div class=\"sk-item\"><div class=\"sk-estimator sk-toggleable\"><input class=\"sk-toggleable__control sk-hidden--visually\" id=\"73e59904-0e3b-4a60-be1f-0455db947a65\" type=\"checkbox\" ><label class=\"sk-toggleable__label\" for=\"73e59904-0e3b-4a60-be1f-0455db947a65\">StandardScaler</label><div class=\"sk-toggleable__content\"><pre>StandardScaler()</pre></div></div></div></div></div></div></div></div><div class=\"sk-parallel-item\"><div class=\"sk-item\"><div class=\"sk-label-container\"><div class=\"sk-label sk-toggleable\"><input class=\"sk-toggleable__control sk-hidden--visually\" id=\"0049f9e9-00ac-4127-a604-de07be86bcca\" type=\"checkbox\" ><label class=\"sk-toggleable__label\" for=\"0049f9e9-00ac-4127-a604-de07be86bcca\">cat</label><div class=\"sk-toggleable__content\"><pre>['waterfront', 'view', 'grade']</pre></div></div></div><div class=\"sk-serial\"><div class=\"sk-item\"><div class=\"sk-estimator sk-toggleable\"><input class=\"sk-toggleable__control sk-hidden--visually\" id=\"cb9e1012-d7a5-46a3-af7a-d5c1b38fdb28\" type=\"checkbox\" ><label class=\"sk-toggleable__label\" for=\"cb9e1012-d7a5-46a3-af7a-d5c1b38fdb28\">passthrough</label><div class=\"sk-toggleable__content\"><pre>passthrough</pre></div></div></div></div></div></div></div></div><div class=\"sk-item\"><div class=\"sk-estimator sk-toggleable\"><input class=\"sk-toggleable__control sk-hidden--visually\" id=\"cf66a410-6039-4ef3-83ac-5dd82ed0c06f\" type=\"checkbox\" ><label class=\"sk-toggleable__label\" for=\"cf66a410-6039-4ef3-83ac-5dd82ed0c06f\">LinearRegression</label><div class=\"sk-toggleable__content\"><pre>LinearRegression()</pre></div></div></div></div></div></div></div>"
      ],
      "text/plain": [
       "Pipeline(steps=[('preprocessor',\n",
       "                 ColumnTransformer(transformers=[('num',\n",
       "                                                  Pipeline(steps=[('age_transf',\n",
       "                                                                   ColumnTransformer(remainder='passthrough',\n",
       "                                                                                     transformers=[('agetransf',\n",
       "                                                                                                    AgeTransf(),\n",
       "                                                                                                    ['yr_built'])])),\n",
       "                                                                  ('scaler',\n",
       "                                                                   StandardScaler())]),\n",
       "                                                  ['sqft_living', 'yr_built',\n",
       "                                                   'lat', 'bedrooms',\n",
       "                                                   'bathrooms']),\n",
       "                                                 ('cat', 'passthrough',\n",
       "                                                  ['waterfront', 'view',\n",
       "                                                   'grade'])])),\n",
       "                ('regressor', LinearRegression())])"
      ]
     },
     "execution_count": 6,
     "metadata": {},
     "output_type": "execute_result"
    }
   ],
   "source": [
    "from sklearn import set_config\n",
    "set_config(display='diagram')\n",
    "\n",
    "regr.fit(data, data['price'])"
   ]
  },
  {
   "cell_type": "markdown",
   "metadata": {},
   "source": [
    "Finally, print out the mean of the score values using K-fold cross-validation (with K=5)."
   ]
  },
  {
   "cell_type": "code",
   "execution_count": 7,
   "metadata": {},
   "outputs": [
    {
     "name": "stdout",
     "output_type": "stream",
     "text": [
      "Mean R2 = 0.6863323059510114\n",
      "Mean RMSE = 205229.01412007437\n"
     ]
    }
   ],
   "source": [
    "from sklearn.model_selection import cross_validate\n",
    "from sklearn.metrics import mean_squared_error\n",
    "from sklearn.metrics import make_scorer, r2_score\n",
    "\n",
    "mse_scorer=make_scorer(score_func=mean_squared_error,greater_is_better=False)\n",
    "r2_scorer=make_scorer(score_func=r2_score,greater_is_better=True)\n",
    "\n",
    "cv_result=\\\n",
    "cross_validate(estimator=regr,X=data,y=data['price'],scoring={'MSE':mse_scorer,'R2':r2_scorer},cv=5, return_train_score=False)\n",
    "print('Mean R2 =',np.mean(cv_result['test_R2']))\n",
    "print('Mean RMSE =',np.mean(np.sqrt(-cv_result['test_MSE'])))"
   ]
  },
  {
   "cell_type": "markdown",
   "metadata": {},
   "source": [
    "Let's use the scikit-learn library to fit the linear regression model then select the features based on their respective regression coefficient value (i.e., feature importance). Set the threshold to the median, so half of the features will be selected (features with the highest regression coefficient will be chosen)."
   ]
  },
  {
   "cell_type": "code",
   "execution_count": 8,
   "metadata": {},
   "outputs": [
    {
     "data": {
      "text/html": [
       "<style>#sk-9139aa5c-9ffe-4cb9-8907-d892d68640c4 {color: black;background-color: white;}#sk-9139aa5c-9ffe-4cb9-8907-d892d68640c4 pre{padding: 0;}#sk-9139aa5c-9ffe-4cb9-8907-d892d68640c4 div.sk-toggleable {background-color: white;}#sk-9139aa5c-9ffe-4cb9-8907-d892d68640c4 label.sk-toggleable__label {cursor: pointer;display: block;width: 100%;margin-bottom: 0;padding: 0.2em 0.3em;box-sizing: border-box;text-align: center;}#sk-9139aa5c-9ffe-4cb9-8907-d892d68640c4 div.sk-toggleable__content {max-height: 0;max-width: 0;overflow: hidden;text-align: left;background-color: #f0f8ff;}#sk-9139aa5c-9ffe-4cb9-8907-d892d68640c4 div.sk-toggleable__content pre {margin: 0.2em;color: black;border-radius: 0.25em;background-color: #f0f8ff;}#sk-9139aa5c-9ffe-4cb9-8907-d892d68640c4 input.sk-toggleable__control:checked~div.sk-toggleable__content {max-height: 200px;max-width: 100%;overflow: auto;}#sk-9139aa5c-9ffe-4cb9-8907-d892d68640c4 div.sk-estimator input.sk-toggleable__control:checked~label.sk-toggleable__label {background-color: #d4ebff;}#sk-9139aa5c-9ffe-4cb9-8907-d892d68640c4 div.sk-label input.sk-toggleable__control:checked~label.sk-toggleable__label {background-color: #d4ebff;}#sk-9139aa5c-9ffe-4cb9-8907-d892d68640c4 input.sk-hidden--visually {border: 0;clip: rect(1px 1px 1px 1px);clip: rect(1px, 1px, 1px, 1px);height: 1px;margin: -1px;overflow: hidden;padding: 0;position: absolute;width: 1px;}#sk-9139aa5c-9ffe-4cb9-8907-d892d68640c4 div.sk-estimator {font-family: monospace;background-color: #f0f8ff;margin: 0.25em 0.25em;border: 1px dotted black;border-radius: 0.25em;box-sizing: border-box;}#sk-9139aa5c-9ffe-4cb9-8907-d892d68640c4 div.sk-estimator:hover {background-color: #d4ebff;}#sk-9139aa5c-9ffe-4cb9-8907-d892d68640c4 div.sk-parallel-item::after {content: \"\";width: 100%;border-bottom: 1px solid gray;flex-grow: 1;}#sk-9139aa5c-9ffe-4cb9-8907-d892d68640c4 div.sk-label:hover label.sk-toggleable__label {background-color: #d4ebff;}#sk-9139aa5c-9ffe-4cb9-8907-d892d68640c4 div.sk-serial::before {content: \"\";position: absolute;border-left: 1px solid gray;box-sizing: border-box;top: 2em;bottom: 0;left: 50%;}#sk-9139aa5c-9ffe-4cb9-8907-d892d68640c4 div.sk-serial {display: flex;flex-direction: column;align-items: center;background-color: white;}#sk-9139aa5c-9ffe-4cb9-8907-d892d68640c4 div.sk-item {z-index: 1;}#sk-9139aa5c-9ffe-4cb9-8907-d892d68640c4 div.sk-parallel {display: flex;align-items: stretch;justify-content: center;background-color: white;}#sk-9139aa5c-9ffe-4cb9-8907-d892d68640c4 div.sk-parallel-item {display: flex;flex-direction: column;position: relative;background-color: white;}#sk-9139aa5c-9ffe-4cb9-8907-d892d68640c4 div.sk-parallel-item:first-child::after {align-self: flex-end;width: 50%;}#sk-9139aa5c-9ffe-4cb9-8907-d892d68640c4 div.sk-parallel-item:last-child::after {align-self: flex-start;width: 50%;}#sk-9139aa5c-9ffe-4cb9-8907-d892d68640c4 div.sk-parallel-item:only-child::after {width: 0;}#sk-9139aa5c-9ffe-4cb9-8907-d892d68640c4 div.sk-dashed-wrapped {border: 1px dashed gray;margin: 0.2em;box-sizing: border-box;padding-bottom: 0.1em;background-color: white;position: relative;}#sk-9139aa5c-9ffe-4cb9-8907-d892d68640c4 div.sk-label label {font-family: monospace;font-weight: bold;background-color: white;display: inline-block;line-height: 1.2em;}#sk-9139aa5c-9ffe-4cb9-8907-d892d68640c4 div.sk-label-container {position: relative;z-index: 2;text-align: center;}#sk-9139aa5c-9ffe-4cb9-8907-d892d68640c4 div.sk-container {display: inline-block;position: relative;}</style><div id=\"sk-9139aa5c-9ffe-4cb9-8907-d892d68640c4\" class\"sk-top-container\"><div class=\"sk-container\"><div class=\"sk-item sk-dashed-wrapped\"><div class=\"sk-label-container\"><div class=\"sk-label sk-toggleable\"><input class=\"sk-toggleable__control sk-hidden--visually\" id=\"42fa6d73-eccf-4b3c-9524-07076d8bc374\" type=\"checkbox\" ><label class=\"sk-toggleable__label\" for=\"42fa6d73-eccf-4b3c-9524-07076d8bc374\">SelectFromModel</label><div class=\"sk-toggleable__content\"><pre>SelectFromModel(estimator=LinearRegression(), threshold='median')</pre></div></div></div><div class=\"sk-parallel\"><div class=\"sk-parallel-item\"><div class=\"sk-item\"><div class=\"sk-serial\"><div class=\"sk-item\"><div class=\"sk-estimator sk-toggleable\"><input class=\"sk-toggleable__control sk-hidden--visually\" id=\"9edad682-d0f5-4f7e-922b-c54ad79c47ed\" type=\"checkbox\" ><label class=\"sk-toggleable__label\" for=\"9edad682-d0f5-4f7e-922b-c54ad79c47ed\">LinearRegression</label><div class=\"sk-toggleable__content\"><pre>LinearRegression()</pre></div></div></div></div></div></div></div></div></div></div>"
      ],
      "text/plain": [
       "SelectFromModel(estimator=LinearRegression(), threshold='median')"
      ]
     },
     "execution_count": 8,
     "metadata": {},
     "output_type": "execute_result"
    }
   ],
   "source": [
    "from sklearn.feature_selection import SelectFromModel,RFE,RFECV\n",
    "from sklearn.linear_model import LinearRegression\n",
    "linregr=LinearRegression()\n",
    "sfm=SelectFromModel(estimator=linregr,threshold='median')\n",
    "sfm.fit(data[numvar_list+catvar_list],data[['price']])"
   ]
  },
  {
   "cell_type": "markdown",
   "metadata": {},
   "source": [
    "List out the selected features based on feature importance (i.e., regression coefficient value)."
   ]
  },
  {
   "cell_type": "code",
   "execution_count": 9,
   "metadata": {},
   "outputs": [
    {
     "data": {
      "text/plain": [
       "['bedrooms',\n",
       " 'bathrooms',\n",
       " 'lat',\n",
       " 'long',\n",
       " 'view',\n",
       " 'condition',\n",
       " 'grade',\n",
       " 'waterfront',\n",
       " 'renovated']"
      ]
     },
     "execution_count": 9,
     "metadata": {},
     "output_type": "execute_result"
    }
   ],
   "source": [
    "list(np.array(numvar_list+catvar_list)[sfm.get_support()])"
   ]
  },
  {
   "cell_type": "markdown",
   "metadata": {},
   "source": [
    "Let's check the threshold used in the selection (median value of the regression coefficients)."
   ]
  },
  {
   "cell_type": "code",
   "execution_count": 10,
   "metadata": {},
   "outputs": [
    {
     "data": {
      "text/plain": [
       "26103.809375663153"
      ]
     },
     "execution_count": 10,
     "metadata": {},
     "output_type": "execute_result"
    }
   ],
   "source": [
    "sfm.threshold_"
   ]
  },
  {
   "cell_type": "markdown",
   "metadata": {},
   "source": [
    "We can create a bar chart for all the regression coefficients arranged in descending order."
   ]
  },
  {
   "cell_type": "code",
   "execution_count": 11,
   "metadata": {},
   "outputs": [
    {
     "data": {
      "image/png": "[encoded data removed]",
      "text/plain": [
       "<Figure size 432x288 with 1 Axes>"
      ]
     },
     "metadata": {
      "needs_background": "light"
     },
     "output_type": "display_data"
    }
   ],
   "source": [
    "importance = np.abs(np.squeeze(sfm.estimator_.coef_))\n",
    "idx=np.argsort(importance)\n",
    "feature_names = np.array(numvar_list+catvar_list)\n",
    "plt.bar(height=importance[idx][::-1], x=feature_names[idx][::-1])\n",
    "plt.title(\"Feature importances (regression coefficients)\",fontsize=14)\n",
    "plt.xticks(rotation = 90)\n",
    "plt.show()"
   ]
  },
  {
   "cell_type": "markdown",
   "metadata": {},
   "source": [
    "Let's set a higher absolute threshold value to select only seven features and list out the names of those features."
   ]
  },
  {
   "cell_type": "code",
   "execution_count": 12,
   "metadata": {},
   "outputs": [
    {
     "data": {
      "text/plain": [
       "['bathrooms', 'lat', 'long', 'view', 'grade', 'waterfront', 'renovated']"
      ]
     },
     "execution_count": 12,
     "metadata": {},
     "output_type": "execute_result"
    }
   ],
   "source": [
    "sfm=SelectFromModel(estimator=linregr,threshold=38000)\n",
    "sfm.fit(data[numvar_list+catvar_list],data[['price']])\n",
    "list(np.array(numvar_list+catvar_list)[sfm.get_support()])"
   ]
  },
  {
   "cell_type": "markdown",
   "metadata": {},
   "source": [
    "Using k-fold cross-validation, check the estimated generalization error of a linear regression model with those predictors."
   ]
  },
  {
   "cell_type": "code",
   "execution_count": 13,
   "metadata": {},
   "outputs": [
    {
     "name": "stdout",
     "output_type": "stream",
     "text": [
      "Mean R2 = 0.5954342695003705\n",
      "Mean RMSE = 233130.9634056245\n"
     ]
    }
   ],
   "source": [
    "cv_result=\\\n",
    "cross_validate(estimator=linregr,X=data[list(np.array(numvar_list+catvar_list)[sfm.get_support()])],y=data['price'],\\\n",
    "               scoring={'MSE':mse_scorer,'R2':r2_scorer},cv=5, return_train_score=False)\n",
    "print('Mean R2 =',np.mean(cv_result['test_R2']))\n",
    "print('Mean RMSE =',np.mean(np.sqrt(-cv_result['test_MSE'])))"
   ]
  },
  {
   "cell_type": "markdown",
   "metadata": {},
   "source": [
    "We may choose a different strategy in selecting the features bases on the regression coefficients (feature importance). That is the so-called recursive feature elimination, which starts by fitting a model with all the features. Then removes the one with the lowest regression coefficient (feature importance). Next, a linear model using the remaining predictors is fitted, and the one with the lowest feature importance (regression coefficient) is discarded. The feature elimination stops when the desired number of features remains in the model. "
   ]
  },
  {
   "cell_type": "code",
   "execution_count": 14,
   "metadata": {},
   "outputs": [
    {
     "name": "stdout",
     "output_type": "stream",
     "text": [
      "Fitting estimator with 17 features.\n",
      "Fitting estimator with 16 features.\n",
      "Fitting estimator with 15 features.\n",
      "Fitting estimator with 14 features.\n",
      "Fitting estimator with 13 features.\n",
      "Fitting estimator with 12 features.\n",
      "Fitting estimator with 11 features.\n",
      "Fitting estimator with 10 features.\n",
      "Fitting estimator with 9 features.\n",
      "Fitting estimator with 8 features.\n"
     ]
    },
    {
     "data": {
      "text/html": [
       "<style>#sk-b9535f30-217d-4d0a-bcab-cc78285d13ed {color: black;background-color: white;}#sk-b9535f30-217d-4d0a-bcab-cc78285d13ed pre{padding: 0;}#sk-b9535f30-217d-4d0a-bcab-cc78285d13ed div.sk-toggleable {background-color: white;}#sk-b9535f30-217d-4d0a-bcab-cc78285d13ed label.sk-toggleable__label {cursor: pointer;display: block;width: 100%;margin-bottom: 0;padding: 0.2em 0.3em;box-sizing: border-box;text-align: center;}#sk-b9535f30-217d-4d0a-bcab-cc78285d13ed div.sk-toggleable__content {max-height: 0;max-width: 0;overflow: hidden;text-align: left;background-color: #f0f8ff;}#sk-b9535f30-217d-4d0a-bcab-cc78285d13ed div.sk-toggleable__content pre {margin: 0.2em;color: black;border-radius: 0.25em;background-color: #f0f8ff;}#sk-b9535f30-217d-4d0a-bcab-cc78285d13ed input.sk-toggleable__control:checked~div.sk-toggleable__content {max-height: 200px;max-width: 100%;overflow: auto;}#sk-b9535f30-217d-4d0a-bcab-cc78285d13ed div.sk-estimator input.sk-toggleable__control:checked~label.sk-toggleable__label {background-color: #d4ebff;}#sk-b9535f30-217d-4d0a-bcab-cc78285d13ed div.sk-label input.sk-toggleable__control:checked~label.sk-toggleable__label {background-color: #d4ebff;}#sk-b9535f30-217d-4d0a-bcab-cc78285d13ed input.sk-hidden--visually {border: 0;clip: rect(1px 1px 1px 1px);clip: rect(1px, 1px, 1px, 1px);height: 1px;margin: -1px;overflow: hidden;padding: 0;position: absolute;width: 1px;}#sk-b9535f30-217d-4d0a-bcab-cc78285d13ed div.sk-estimator {font-family: monospace;background-color: #f0f8ff;margin: 0.25em 0.25em;border: 1px dotted black;border-radius: 0.25em;box-sizing: border-box;}#sk-b9535f30-217d-4d0a-bcab-cc78285d13ed div.sk-estimator:hover {background-color: #d4ebff;}#sk-b9535f30-217d-4d0a-bcab-cc78285d13ed div.sk-parallel-item::after {content: \"\";width: 100%;border-bottom: 1px solid gray;flex-grow: 1;}#sk-b9535f30-217d-4d0a-bcab-cc78285d13ed div.sk-label:hover label.sk-toggleable__label {background-color: #d4ebff;}#sk-b9535f30-217d-4d0a-bcab-cc78285d13ed div.sk-serial::before {content: \"\";position: absolute;border-left: 1px solid gray;box-sizing: border-box;top: 2em;bottom: 0;left: 50%;}#sk-b9535f30-217d-4d0a-bcab-cc78285d13ed div.sk-serial {display: flex;flex-direction: column;align-items: center;background-color: white;}#sk-b9535f30-217d-4d0a-bcab-cc78285d13ed div.sk-item {z-index: 1;}#sk-b9535f30-217d-4d0a-bcab-cc78285d13ed div.sk-parallel {display: flex;align-items: stretch;justify-content: center;background-color: white;}#sk-b9535f30-217d-4d0a-bcab-cc78285d13ed div.sk-parallel-item {display: flex;flex-direction: column;position: relative;background-color: white;}#sk-b9535f30-217d-4d0a-bcab-cc78285d13ed div.sk-parallel-item:first-child::after {align-self: flex-end;width: 50%;}#sk-b9535f30-217d-4d0a-bcab-cc78285d13ed div.sk-parallel-item:last-child::after {align-self: flex-start;width: 50%;}#sk-b9535f30-217d-4d0a-bcab-cc78285d13ed div.sk-parallel-item:only-child::after {width: 0;}#sk-b9535f30-217d-4d0a-bcab-cc78285d13ed div.sk-dashed-wrapped {border: 1px dashed gray;margin: 0.2em;box-sizing: border-box;padding-bottom: 0.1em;background-color: white;position: relative;}#sk-b9535f30-217d-4d0a-bcab-cc78285d13ed div.sk-label label {font-family: monospace;font-weight: bold;background-color: white;display: inline-block;line-height: 1.2em;}#sk-b9535f30-217d-4d0a-bcab-cc78285d13ed div.sk-label-container {position: relative;z-index: 2;text-align: center;}#sk-b9535f30-217d-4d0a-bcab-cc78285d13ed div.sk-container {display: inline-block;position: relative;}</style><div id=\"sk-b9535f30-217d-4d0a-bcab-cc78285d13ed\" class\"sk-top-container\"><div class=\"sk-container\"><div class=\"sk-item sk-dashed-wrapped\"><div class=\"sk-label-container\"><div class=\"sk-label sk-toggleable\"><input class=\"sk-toggleable__control sk-hidden--visually\" id=\"ccbf1f8d-f8dd-4e58-b3d2-88d403e8650d\" type=\"checkbox\" ><label class=\"sk-toggleable__label\" for=\"ccbf1f8d-f8dd-4e58-b3d2-88d403e8650d\">RFE</label><div class=\"sk-toggleable__content\"><pre>RFE(estimator=LinearRegression(), n_features_to_select=7, verbose=1)</pre></div></div></div><div class=\"sk-parallel\"><div class=\"sk-parallel-item\"><div class=\"sk-item\"><div class=\"sk-serial\"><div class=\"sk-item\"><div class=\"sk-estimator sk-toggleable\"><input class=\"sk-toggleable__control sk-hidden--visually\" id=\"11e05f5e-205b-43c8-b41e-62b1be8bfca3\" type=\"checkbox\" ><label class=\"sk-toggleable__label\" for=\"11e05f5e-205b-43c8-b41e-62b1be8bfca3\">LinearRegression</label><div class=\"sk-toggleable__content\"><pre>LinearRegression()</pre></div></div></div></div></div></div></div></div></div></div>"
      ],
      "text/plain": [
       "RFE(estimator=LinearRegression(), n_features_to_select=7, verbose=1)"
      ]
     },
     "execution_count": 14,
     "metadata": {},
     "output_type": "execute_result"
    }
   ],
   "source": [
    "from sklearn.feature_selection import RFE\n",
    "from sklearn.linear_model import LinearRegression\n",
    "linregr=LinearRegression()\n",
    "rfe=RFE(estimator=linregr,n_features_to_select=7,verbose=1)\n",
    "rfe.fit(data[numvar_list+catvar_list],data[['price']])"
   ]
  },
  {
   "cell_type": "markdown",
   "metadata": {},
   "source": [
    "Let's print out the selected features."
   ]
  },
  {
   "cell_type": "code",
   "execution_count": 15,
   "metadata": {},
   "outputs": [
    {
     "data": {
      "text/plain": [
       "['bathrooms', 'lat', 'long', 'view', 'grade', 'waterfront', 'renovated']"
      ]
     },
     "execution_count": 15,
     "metadata": {},
     "output_type": "execute_result"
    }
   ],
   "source": [
    "list(np.array(numvar_list+catvar_list)[rfe.support_])"
   ]
  },
  {
   "cell_type": "markdown",
   "metadata": {},
   "source": [
    "As can be seen, the same result is obtained as before.\n",
    "\n",
    "We may use an automatic selection of the minimum number of features by using the K-fold cross-validation during recursive feature elimination based on the score value of the linear regression, namely the R-squared value."
   ]
  },
  {
   "cell_type": "code",
   "execution_count": 16,
   "metadata": {},
   "outputs": [
    {
     "name": "stdout",
     "output_type": "stream",
     "text": [
      "Fitting estimator with 17 features.\n",
      "Fitting estimator with 16 features.\n",
      "Fitting estimator with 15 features.\n",
      "Fitting estimator with 14 features.\n",
      "Fitting estimator with 13 features.\n",
      "Fitting estimator with 12 features.\n",
      "Fitting estimator with 11 features.\n",
      "Fitting estimator with 10 features.\n",
      "Fitting estimator with 9 features.\n",
      "Fitting estimator with 8 features.\n",
      "Fitting estimator with 7 features.\n",
      "Fitting estimator with 6 features.\n",
      "Fitting estimator with 5 features.\n",
      "Fitting estimator with 4 features.\n",
      "Fitting estimator with 3 features.\n",
      "Fitting estimator with 2 features.\n",
      "Fitting estimator with 17 features.\n",
      "Fitting estimator with 16 features.\n",
      "Fitting estimator with 15 features.\n",
      "Fitting estimator with 14 features.\n",
      "Fitting estimator with 13 features.\n",
      "Fitting estimator with 12 features.\n",
      "Fitting estimator with 11 features.\n",
      "Fitting estimator with 10 features.\n",
      "Fitting estimator with 9 features.\n",
      "Fitting estimator with 8 features.\n",
      "Fitting estimator with 7 features.\n",
      "Fitting estimator with 6 features.\n",
      "Fitting estimator with 5 features.\n",
      "Fitting estimator with 4 features.\n",
      "Fitting estimator with 3 features.\n",
      "Fitting estimator with 2 features.\n",
      "Fitting estimator with 17 features.\n",
      "Fitting estimator with 16 features.\n",
      "Fitting estimator with 15 features.\n",
      "Fitting estimator with 14 features.\n",
      "Fitting estimator with 13 features.\n",
      "Fitting estimator with 12 features.\n",
      "Fitting estimator with 11 features.\n",
      "Fitting estimator with 10 features.\n",
      "Fitting estimator with 9 features.\n",
      "Fitting estimator with 8 features.\n",
      "Fitting estimator with 7 features.\n",
      "Fitting estimator with 6 features.\n",
      "Fitting estimator with 5 features.\n",
      "Fitting estimator with 4 features.\n",
      "Fitting estimator with 3 features.\n",
      "Fitting estimator with 2 features.\n",
      "Fitting estimator with 17 features.\n",
      "Fitting estimator with 16 features.\n",
      "Fitting estimator with 15 features.\n",
      "Fitting estimator with 14 features.\n",
      "Fitting estimator with 13 features.\n",
      "Fitting estimator with 12 features.\n",
      "Fitting estimator with 11 features.\n",
      "Fitting estimator with 10 features.\n",
      "Fitting estimator with 9 features.\n",
      "Fitting estimator with 8 features.\n",
      "Fitting estimator with 7 features.\n",
      "Fitting estimator with 6 features.\n",
      "Fitting estimator with 5 features.\n",
      "Fitting estimator with 4 features.\n",
      "Fitting estimator with 3 features.\n",
      "Fitting estimator with 2 features.\n",
      "Fitting estimator with 17 features.\n",
      "Fitting estimator with 16 features.\n",
      "Fitting estimator with 15 features.\n",
      "Fitting estimator with 14 features.\n",
      "Fitting estimator with 13 features.\n",
      "Fitting estimator with 12 features.\n",
      "Fitting estimator with 11 features.\n",
      "Fitting estimator with 10 features.\n",
      "Fitting estimator with 9 features.\n",
      "Fitting estimator with 8 features.\n",
      "Fitting estimator with 7 features.\n",
      "Fitting estimator with 6 features.\n",
      "Fitting estimator with 5 features.\n",
      "Fitting estimator with 4 features.\n",
      "Fitting estimator with 3 features.\n",
      "Fitting estimator with 2 features.\n",
      "Fitting estimator with 17 features.\n",
      "Fitting estimator with 16 features.\n",
      "Fitting estimator with 15 features.\n"
     ]
    },
    {
     "data": {
      "text/html": [
       "<style>#sk-0abc3a35-8add-4104-9942-1bf1000eec15 {color: black;background-color: white;}#sk-0abc3a35-8add-4104-9942-1bf1000eec15 pre{padding: 0;}#sk-0abc3a35-8add-4104-9942-1bf1000eec15 div.sk-toggleable {background-color: white;}#sk-0abc3a35-8add-4104-9942-1bf1000eec15 label.sk-toggleable__label {cursor: pointer;display: block;width: 100%;margin-bottom: 0;padding: 0.2em 0.3em;box-sizing: border-box;text-align: center;}#sk-0abc3a35-8add-4104-9942-1bf1000eec15 div.sk-toggleable__content {max-height: 0;max-width: 0;overflow: hidden;text-align: left;background-color: #f0f8ff;}#sk-0abc3a35-8add-4104-9942-1bf1000eec15 div.sk-toggleable__content pre {margin: 0.2em;color: black;border-radius: 0.25em;background-color: #f0f8ff;}#sk-0abc3a35-8add-4104-9942-1bf1000eec15 input.sk-toggleable__control:checked~div.sk-toggleable__content {max-height: 200px;max-width: 100%;overflow: auto;}#sk-0abc3a35-8add-4104-9942-1bf1000eec15 div.sk-estimator input.sk-toggleable__control:checked~label.sk-toggleable__label {background-color: #d4ebff;}#sk-0abc3a35-8add-4104-9942-1bf1000eec15 div.sk-label input.sk-toggleable__control:checked~label.sk-toggleable__label {background-color: #d4ebff;}#sk-0abc3a35-8add-4104-9942-1bf1000eec15 input.sk-hidden--visually {border: 0;clip: rect(1px 1px 1px 1px);clip: rect(1px, 1px, 1px, 1px);height: 1px;margin: -1px;overflow: hidden;padding: 0;position: absolute;width: 1px;}#sk-0abc3a35-8add-4104-9942-1bf1000eec15 div.sk-estimator {font-family: monospace;background-color: #f0f8ff;margin: 0.25em 0.25em;border: 1px dotted black;border-radius: 0.25em;box-sizing: border-box;}#sk-0abc3a35-8add-4104-9942-1bf1000eec15 div.sk-estimator:hover {background-color: #d4ebff;}#sk-0abc3a35-8add-4104-9942-1bf1000eec15 div.sk-parallel-item::after {content: \"\";width: 100%;border-bottom: 1px solid gray;flex-grow: 1;}#sk-0abc3a35-8add-4104-9942-1bf1000eec15 div.sk-label:hover label.sk-toggleable__label {background-color: #d4ebff;}#sk-0abc3a35-8add-4104-9942-1bf1000eec15 div.sk-serial::before {content: \"\";position: absolute;border-left: 1px solid gray;box-sizing: border-box;top: 2em;bottom: 0;left: 50%;}#sk-0abc3a35-8add-4104-9942-1bf1000eec15 div.sk-serial {display: flex;flex-direction: column;align-items: center;background-color: white;}#sk-0abc3a35-8add-4104-9942-1bf1000eec15 div.sk-item {z-index: 1;}#sk-0abc3a35-8add-4104-9942-1bf1000eec15 div.sk-parallel {display: flex;align-items: stretch;justify-content: center;background-color: white;}#sk-0abc3a35-8add-4104-9942-1bf1000eec15 div.sk-parallel-item {display: flex;flex-direction: column;position: relative;background-color: white;}#sk-0abc3a35-8add-4104-9942-1bf1000eec15 div.sk-parallel-item:first-child::after {align-self: flex-end;width: 50%;}#sk-0abc3a35-8add-4104-9942-1bf1000eec15 div.sk-parallel-item:last-child::after {align-self: flex-start;width: 50%;}#sk-0abc3a35-8add-4104-9942-1bf1000eec15 div.sk-parallel-item:only-child::after {width: 0;}#sk-0abc3a35-8add-4104-9942-1bf1000eec15 div.sk-dashed-wrapped {border: 1px dashed gray;margin: 0.2em;box-sizing: border-box;padding-bottom: 0.1em;background-color: white;position: relative;}#sk-0abc3a35-8add-4104-9942-1bf1000eec15 div.sk-label label {font-family: monospace;font-weight: bold;background-color: white;display: inline-block;line-height: 1.2em;}#sk-0abc3a35-8add-4104-9942-1bf1000eec15 div.sk-label-container {position: relative;z-index: 2;text-align: center;}#sk-0abc3a35-8add-4104-9942-1bf1000eec15 div.sk-container {display: inline-block;position: relative;}</style><div id=\"sk-0abc3a35-8add-4104-9942-1bf1000eec15\" class\"sk-top-container\"><div class=\"sk-container\"><div class=\"sk-item sk-dashed-wrapped\"><div class=\"sk-label-container\"><div class=\"sk-label sk-toggleable\"><input class=\"sk-toggleable__control sk-hidden--visually\" id=\"bbc55b3b-6404-45f5-9b88-245682e4e275\" type=\"checkbox\" ><label class=\"sk-toggleable__label\" for=\"bbc55b3b-6404-45f5-9b88-245682e4e275\">RFECV</label><div class=\"sk-toggleable__content\"><pre>RFECV(cv=5, estimator=LinearRegression(), verbose=1)</pre></div></div></div><div class=\"sk-parallel\"><div class=\"sk-parallel-item\"><div class=\"sk-item\"><div class=\"sk-serial\"><div class=\"sk-item\"><div class=\"sk-estimator sk-toggleable\"><input class=\"sk-toggleable__control sk-hidden--visually\" id=\"d8c15bc4-00e7-4864-81ff-d88b4cb0dc4f\" type=\"checkbox\" ><label class=\"sk-toggleable__label\" for=\"d8c15bc4-00e7-4864-81ff-d88b4cb0dc4f\">LinearRegression</label><div class=\"sk-toggleable__content\"><pre>LinearRegression()</pre></div></div></div></div></div></div></div></div></div></div>"
      ],
      "text/plain": [
       "RFECV(cv=5, estimator=LinearRegression(), verbose=1)"
      ]
     },
     "execution_count": 16,
     "metadata": {},
     "output_type": "execute_result"
    }
   ],
   "source": [
    "min_features_to_select = 1\n",
    "rfe_cv=RFECV(estimator=linregr,min_features_to_select=min_features_to_select,cv=5,verbose=1)\n",
    "rfe_cv.fit(data[numvar_list+catvar_list],data[['price']])"
   ]
  },
  {
   "cell_type": "markdown",
   "metadata": {},
   "source": [
    "Let's print out the selected features."
   ]
  },
  {
   "cell_type": "code",
   "execution_count": 17,
   "metadata": {},
   "outputs": [
    {
     "data": {
      "text/plain": [
       "['sqft_living',\n",
       " 'sqft_above',\n",
       " 'age',\n",
       " 'bedrooms',\n",
       " 'bathrooms',\n",
       " 'lat',\n",
       " 'long',\n",
       " 'zipcode',\n",
       " 'view',\n",
       " 'condition',\n",
       " 'grade',\n",
       " 'waterfront',\n",
       " 'renovated',\n",
       " 'spring_summer']"
      ]
     },
     "execution_count": 17,
     "metadata": {},
     "output_type": "execute_result"
    }
   ],
   "source": [
    "list(np.array(numvar_list+catvar_list)[rfe_cv.support_])"
   ]
  },
  {
   "cell_type": "markdown",
   "metadata": {},
   "source": [
    "We can print out the optimal number of features."
   ]
  },
  {
   "cell_type": "code",
   "execution_count": 18,
   "metadata": {},
   "outputs": [
    {
     "data": {
      "text/plain": [
       "14"
      ]
     },
     "execution_count": 18,
     "metadata": {},
     "output_type": "execute_result"
    }
   ],
   "source": [
    "rfe_cv.n_features_"
   ]
  },
  {
   "cell_type": "markdown",
   "metadata": {},
   "source": [
    "Let's plot the cross-validation score (R-squared value) vs. the number of features selected."
   ]
  },
  {
   "cell_type": "code",
   "execution_count": 19,
   "metadata": {},
   "outputs": [
    {
     "data": {
      "image/png": "[encoded data removed]",
      "text/plain": [
       "<Figure size 432x288 with 1 Axes>"
      ]
     },
     "metadata": {
      "needs_background": "light"
     },
     "output_type": "display_data"
    }
   ],
   "source": [
    "plt.figure()\n",
    "plt.plot(range(min_features_to_select,len(rfe_cv.grid_scores_)+min_features_to_select),rfe_cv.grid_scores_)\n",
    "plt.xlabel(\"Number of features selected\",fontsize=12)\n",
    "plt.ylabel(\"Cross validation score (R-squared)\",fontsize=12)\n",
    "plt.title(\"Cross validation score vs. nr. of features\",fontsize=14)\n",
    "plt.show()"
   ]
  },
  {
   "cell_type": "markdown",
   "metadata": {},
   "source": [
    "Based on the cross-validation with R-squared scoring, the number of features is 14. That should not be a surprise, as the R-squared value always increases with at least a very small value with every addition of a new feature. "
   ]
  },
  {
   "cell_type": "markdown",
   "metadata": {},
   "source": [
    "## 2. Filtering with a low variance threshold <a name=\"LowVariance\"></a>\n",
    "\n",
    "In the case of the univariate feature selection method, the individual input variables are ranked according to a specific criterion (a numeric scoring technique to quantify the strength of the relationship between the individual predictor and target).  Then the filtering (feature selection) can be done by either selecting the $M<D$ highest scored features or selecting a given percentile of the total features by picking the highest scored ones. \n",
    "\n",
    "As a first step, let's import the required libraries and set the matplotlib for making plots inline."
   ]
  },
  {
   "cell_type": "markdown",
   "metadata": {
    "colab_type": "text",
    "id": "dUZRG9jlf0A4"
   },
   "source": [
    "### Low variance threshold for regression\n",
    "\n",
    "This technique is based on calculating the variance of each predictor.\n",
    "Then based on a low threshold, discard those features that have zero variance or quasi zero variance (i.e., those features that should not have any effect or only a very minor on the target).\n",
    "\n",
    "Let's see how the number of features is decreased if we use low variance thresholding. Because the threshold is range-dependent, we should apply min-max scaling first so the values of all features will be in the range of $[0,1]$. \n",
    "\n",
    "**Note:** *That can be done whether the variable is numerical or categorical with ordinal encoding - see the book for an explanation. * \n",
    "\n",
    "Then calculate the variance of each feature and arrange them in descending order. Finally, print out the first eight predictors. (respective the remaining ones)."
   ]
  },
  {
   "cell_type": "code",
   "execution_count": 20,
   "metadata": {},
   "outputs": [
    {
     "data": {
      "text/plain": [
       "spring_summer    0.249988\n",
       "zipcode          0.073023\n",
       "age              0.065240\n",
       "lat              0.049675\n",
       "renovated        0.040503\n",
       "view             0.036703\n",
       "condition        0.026467\n",
       "sqft_living15    0.013912\n",
       "long             0.013681\n",
       "grade            0.009595\n",
       "bathrooms        0.009268\n",
       "sqft_above       0.008245\n",
       "waterfront       0.007485\n",
       "sqft_living      0.004805\n",
       "sqft_lot15       0.000984\n",
       "bedrooms         0.000794\n",
       "sqft_lot         0.000630\n",
       "dtype: float64"
      ]
     },
     "execution_count": 20,
     "metadata": {},
     "output_type": "execute_result"
    }
   ],
   "source": [
    "variance=(((data[numvar_list+catvar_list]-data[numvar_list+catvar_list].min())/\\\n",
    "(data[numvar_list+catvar_list].max()-data[numvar_list+catvar_list].min())).var())\n",
    "variance.sort_values(ascending=False)"
   ]
  },
  {
   "cell_type": "markdown",
   "metadata": {},
   "source": [
    "As can be seen, the 'spring_summer' variable has the highest variance, although we know that the correlation with the target is very low. By setting the variance threshold to 0.01, in which case, nine predictors will be selected.<br>\n",
    "Let's create the bar chart of the variance of the scaled predictors arranged in descending order."
   ]
  },
  {
   "cell_type": "code",
   "execution_count": 21,
   "metadata": {},
   "outputs": [
    {
     "data": {
      "image/png": "[encoded data removed]",
      "text/plain": [
       "<Figure size 432x288 with 1 Axes>"
      ]
     },
     "metadata": {
      "needs_background": "light"
     },
     "output_type": "display_data"
    }
   ],
   "source": [
    "idx=np.argsort(np.array(variance))\n",
    "feature_names = np.array(numvar_list+catvar_list)\n",
    "plt.bar(height=np.array(variance)[idx][::-1], x=feature_names[idx][::-1])\n",
    "plt.title(\"Variance of the (scaled) predictors\",fontsize=14)\n",
    "plt.xticks(rotation = 90)\n",
    "plt.show()"
   ]
  },
  {
   "cell_type": "markdown",
   "metadata": {},
   "source": [
    "Based on the variance threshold, the input matrix will become:"
   ]
  },
  {
   "cell_type": "code",
   "execution_count": 22,
   "metadata": {},
   "outputs": [
    {
     "data": {
      "text/html": [
       "<div>\n",
       "<style scoped>\n",
       "    .dataframe tbody tr th:only-of-type {\n",
       "        vertical-align: middle;\n",
       "    }\n",
       "\n",
       "    .dataframe tbody tr th {\n",
       "        vertical-align: top;\n",
       "    }\n",
       "\n",
       "    .dataframe thead th {\n",
       "        text-align: right;\n",
       "    }\n",
       "</style>\n",
       "<table border=\"1\" class=\"dataframe\">\n",
       "  <thead>\n",
       "    <tr style=\"text-align: right;\">\n",
       "      <th></th>\n",
       "      <th>spring_summer</th>\n",
       "      <th>zipcode</th>\n",
       "      <th>age</th>\n",
       "      <th>lat</th>\n",
       "      <th>renovated</th>\n",
       "      <th>view</th>\n",
       "      <th>condition</th>\n",
       "      <th>sqft_living15</th>\n",
       "      <th>long</th>\n",
       "    </tr>\n",
       "  </thead>\n",
       "  <tbody>\n",
       "    <tr>\n",
       "      <th>0</th>\n",
       "      <td>0</td>\n",
       "      <td>98178</td>\n",
       "      <td>62</td>\n",
       "      <td>47.5112</td>\n",
       "      <td>0</td>\n",
       "      <td>0</td>\n",
       "      <td>3</td>\n",
       "      <td>1340</td>\n",
       "      <td>-122.257</td>\n",
       "    </tr>\n",
       "    <tr>\n",
       "      <th>1</th>\n",
       "      <td>0</td>\n",
       "      <td>98125</td>\n",
       "      <td>66</td>\n",
       "      <td>47.7210</td>\n",
       "      <td>1</td>\n",
       "      <td>0</td>\n",
       "      <td>3</td>\n",
       "      <td>1690</td>\n",
       "      <td>-122.319</td>\n",
       "    </tr>\n",
       "    <tr>\n",
       "      <th>2</th>\n",
       "      <td>0</td>\n",
       "      <td>98028</td>\n",
       "      <td>84</td>\n",
       "      <td>47.7379</td>\n",
       "      <td>0</td>\n",
       "      <td>0</td>\n",
       "      <td>3</td>\n",
       "      <td>2720</td>\n",
       "      <td>-122.233</td>\n",
       "    </tr>\n",
       "    <tr>\n",
       "      <th>3</th>\n",
       "      <td>0</td>\n",
       "      <td>98136</td>\n",
       "      <td>52</td>\n",
       "      <td>47.5208</td>\n",
       "      <td>0</td>\n",
       "      <td>0</td>\n",
       "      <td>5</td>\n",
       "      <td>1360</td>\n",
       "      <td>-122.393</td>\n",
       "    </tr>\n",
       "    <tr>\n",
       "      <th>4</th>\n",
       "      <td>0</td>\n",
       "      <td>98074</td>\n",
       "      <td>30</td>\n",
       "      <td>47.6168</td>\n",
       "      <td>0</td>\n",
       "      <td>0</td>\n",
       "      <td>3</td>\n",
       "      <td>1800</td>\n",
       "      <td>-122.045</td>\n",
       "    </tr>\n",
       "    <tr>\n",
       "      <th>...</th>\n",
       "      <td>...</td>\n",
       "      <td>...</td>\n",
       "      <td>...</td>\n",
       "      <td>...</td>\n",
       "      <td>...</td>\n",
       "      <td>...</td>\n",
       "      <td>...</td>\n",
       "      <td>...</td>\n",
       "      <td>...</td>\n",
       "    </tr>\n",
       "    <tr>\n",
       "      <th>21608</th>\n",
       "      <td>1</td>\n",
       "      <td>98103</td>\n",
       "      <td>8</td>\n",
       "      <td>47.6993</td>\n",
       "      <td>0</td>\n",
       "      <td>0</td>\n",
       "      <td>3</td>\n",
       "      <td>1530</td>\n",
       "      <td>-122.346</td>\n",
       "    </tr>\n",
       "    <tr>\n",
       "      <th>21609</th>\n",
       "      <td>0</td>\n",
       "      <td>98146</td>\n",
       "      <td>3</td>\n",
       "      <td>47.5107</td>\n",
       "      <td>0</td>\n",
       "      <td>0</td>\n",
       "      <td>3</td>\n",
       "      <td>1830</td>\n",
       "      <td>-122.362</td>\n",
       "    </tr>\n",
       "    <tr>\n",
       "      <th>21610</th>\n",
       "      <td>1</td>\n",
       "      <td>98144</td>\n",
       "      <td>8</td>\n",
       "      <td>47.5944</td>\n",
       "      <td>0</td>\n",
       "      <td>0</td>\n",
       "      <td>3</td>\n",
       "      <td>1020</td>\n",
       "      <td>-122.299</td>\n",
       "    </tr>\n",
       "    <tr>\n",
       "      <th>21611</th>\n",
       "      <td>0</td>\n",
       "      <td>98027</td>\n",
       "      <td>13</td>\n",
       "      <td>47.5345</td>\n",
       "      <td>0</td>\n",
       "      <td>0</td>\n",
       "      <td>3</td>\n",
       "      <td>1410</td>\n",
       "      <td>-122.069</td>\n",
       "    </tr>\n",
       "    <tr>\n",
       "      <th>21612</th>\n",
       "      <td>0</td>\n",
       "      <td>98144</td>\n",
       "      <td>9</td>\n",
       "      <td>47.5941</td>\n",
       "      <td>0</td>\n",
       "      <td>0</td>\n",
       "      <td>3</td>\n",
       "      <td>1020</td>\n",
       "      <td>-122.299</td>\n",
       "    </tr>\n",
       "  </tbody>\n",
       "</table>\n",
       "<p>21613 rows × 9 columns</p>\n",
       "</div>"
      ],
      "text/plain": [
       "       spring_summer  zipcode  age      lat  renovated  view  condition  \\\n",
       "0                  0    98178   62  47.5112          0     0          3   \n",
       "1                  0    98125   66  47.7210          1     0          3   \n",
       "2                  0    98028   84  47.7379          0     0          3   \n",
       "3                  0    98136   52  47.5208          0     0          5   \n",
       "4                  0    98074   30  47.6168          0     0          3   \n",
       "...              ...      ...  ...      ...        ...   ...        ...   \n",
       "21608              1    98103    8  47.6993          0     0          3   \n",
       "21609              0    98146    3  47.5107          0     0          3   \n",
       "21610              1    98144    8  47.5944          0     0          3   \n",
       "21611              0    98027   13  47.5345          0     0          3   \n",
       "21612              0    98144    9  47.5941          0     0          3   \n",
       "\n",
       "       sqft_living15     long  \n",
       "0               1340 -122.257  \n",
       "1               1690 -122.319  \n",
       "2               2720 -122.233  \n",
       "3               1360 -122.393  \n",
       "4               1800 -122.045  \n",
       "...              ...      ...  \n",
       "21608           1530 -122.346  \n",
       "21609           1830 -122.362  \n",
       "21610           1020 -122.299  \n",
       "21611           1410 -122.069  \n",
       "21612           1020 -122.299  \n",
       "\n",
       "[21613 rows x 9 columns]"
      ]
     },
     "execution_count": 22,
     "metadata": {},
     "output_type": "execute_result"
    }
   ],
   "source": [
    "varlist=(((data[numvar_list+catvar_list]-data[numvar_list+catvar_list].min())/\\\n",
    "(data[numvar_list+catvar_list].max()-data[numvar_list+catvar_list].min())).var()).sort_values(ascending=False)[:9]\n",
    "data[list(varlist.index)]"
   ]
  },
  {
   "cell_type": "markdown",
   "metadata": {},
   "source": [
    "These predictors are not the ones, which we selected earlier. Let's print out the OLS results using these features for comparison."
   ]
  },
  {
   "cell_type": "code",
   "execution_count": 23,
   "metadata": {},
   "outputs": [
    {
     "name": "stdout",
     "output_type": "stream",
     "text": [
      "            OLS Regression Results (reduced number of predictors)             \n",
      "==============================================================================\n",
      "Dep. Variable:                  price   R-squared:                       0.508\n",
      "Model:                            OLS   Adj. R-squared:                  0.507\n",
      "Method:                 Least Squares   F-statistic:                     2475.\n",
      "Date:                Mon, 15 Nov 2021   Prob (F-statistic):               0.00\n",
      "Time:                        21:01:05   Log-Likelihood:            -2.9995e+05\n",
      "No. Observations:               21613   AIC:                         5.999e+05\n",
      "Df Residuals:                   21603   BIC:                         6.000e+05\n",
      "Df Model:                           9                                         \n",
      "Covariance Type:            nonrobust                                         \n",
      "=================================================================================\n",
      "                    coef    std err          t      P>|t|      [0.025      0.975]\n",
      "---------------------------------------------------------------------------------\n",
      "Intercept     -2.655e+07   3.58e+06     -7.422      0.000   -3.36e+07   -1.95e+07\n",
      "spring_summer  1.544e+04   3506.494      4.403      0.000    8565.615    2.23e+04\n",
      "zipcode        -531.1305     41.965    -12.656      0.000    -613.386    -448.875\n",
      "age            -143.3501     75.808     -1.891      0.059    -291.940       5.239\n",
      "lat            7.463e+05   1.34e+04     55.856      0.000     7.2e+05    7.72e+05\n",
      "renovated      1.793e+05   9115.167     19.667      0.000    1.61e+05    1.97e+05\n",
      "view           1.096e+05   2465.058     44.445      0.000    1.05e+05    1.14e+05\n",
      "condition      4.264e+04   2962.851     14.391      0.000    3.68e+04    4.84e+04\n",
      "sqft_living15   286.0957      3.021     94.705      0.000     280.175     292.017\n",
      "long          -3.513e+05    1.6e+04    -21.994      0.000   -3.83e+05    -3.2e+05\n",
      "==============================================================================\n",
      "Omnibus:                    21744.619   Durbin-Watson:                   1.988\n",
      "Prob(Omnibus):                  0.000   Jarque-Bera (JB):          3117795.520\n",
      "Skew:                           4.638   Prob(JB):                         0.00\n",
      "Kurtosis:                      61.104   Cond. No.                     2.00e+08\n",
      "==============================================================================\n",
      "\n",
      "Notes:\n",
      "[1] Standard Errors assume that the covariance matrix of the errors is correctly specified.\n",
      "[2] The condition number is large,  2e+08. This might indicate that there are\n",
      "strong multicollinearity or other numerical problems.\n",
      "RMSE = 257659.05667342737\n"
     ]
    }
   ],
   "source": [
    "formula='price ~ '+' + '.join(list(varlist.index))\n",
    "model_ols = ols(formula = formula, data=data).fit()\n",
    "print(model_ols.summary(title=\"OLS Regression Results (reduced number of predictors)\"))\n",
    "print(\"RMSE =\",np.sqrt(model_ols.mse_resid))"
   ]
  },
  {
   "cell_type": "markdown",
   "metadata": {},
   "source": [
    "As can be seen, the variance threshold did not provide a good feature selection for this particular problem.\n",
    "\n",
    "The input matrix can be obtained easily using the *scikit-learn* library."
   ]
  },
  {
   "cell_type": "code",
   "execution_count": 24,
   "metadata": {},
   "outputs": [
    {
     "data": {
      "text/plain": [
       "array([[0.16193426, 0.52173913, 0.57149751, ..., 0.5       , 0.        ,\n",
       "        0.        ],\n",
       "       [0.22216486, 0.55652174, 0.90895931, ..., 0.5       , 1.        ,\n",
       "        0.        ],\n",
       "       [0.3994149 , 0.71304348, 0.93614283, ..., 0.5       , 0.        ,\n",
       "        0.        ],\n",
       "       ...,\n",
       "       [0.10686629, 0.05217391, 0.70532411, ..., 0.5       , 0.        ,\n",
       "        1.        ],\n",
       "       [0.17398038, 0.09565217, 0.60897539, ..., 0.5       , 0.        ,\n",
       "        0.        ],\n",
       "       [0.10686629, 0.06086957, 0.70484156, ..., 0.5       , 0.        ,\n",
       "        0.        ]])"
      ]
     },
     "execution_count": 24,
     "metadata": {},
     "output_type": "execute_result"
    }
   ],
   "source": [
    "from sklearn.preprocessing import MinMaxScaler\n",
    "from sklearn.feature_selection import VarianceThreshold\n",
    "scaler=MinMaxScaler()\n",
    "var_selector=VarianceThreshold(threshold=0.01)\n",
    "var_selector.fit_transform(scaler.fit_transform(data[numvar_list+catvar_list]))"
   ]
  },
  {
   "cell_type": "markdown",
   "metadata": {},
   "source": [
    "The calculated variances are the same as what we obtained earlier."
   ]
  },
  {
   "cell_type": "code",
   "execution_count": 25,
   "metadata": {},
   "outputs": [
    {
     "data": {
      "text/plain": [
       "array([[0.24997662],\n",
       "       [0.07301947],\n",
       "       [0.06523685],\n",
       "       [0.04967263],\n",
       "       [0.04050097],\n",
       "       [0.03670097],\n",
       "       [0.02646543],\n",
       "       [0.0139109 ],\n",
       "       [0.01368066],\n",
       "       [0.00959472],\n",
       "       [0.00926756],\n",
       "       [0.00824416],\n",
       "       [0.00748488],\n",
       "       [0.00480453],\n",
       "       [0.00098368],\n",
       "       [0.00079428],\n",
       "       [0.00062951]])"
      ]
     },
     "execution_count": 25,
     "metadata": {},
     "output_type": "execute_result"
    }
   ],
   "source": [
    "np.sort(var_selector.variances_)[::-1][:,np.newaxis]"
   ]
  },
  {
   "cell_type": "markdown",
   "metadata": {},
   "source": [
    "Now, let's see how does it perform in K-fold cross-validation. First, we create a new pipeline, which \n",
    "- scales all the features with a min-max scaler;\n",
    "- selects the (scaled) predictors with low-variance thresholding;\n",
    "- then fit a linear regression model."
   ]
  },
  {
   "cell_type": "code",
   "execution_count": 26,
   "metadata": {},
   "outputs": [],
   "source": [
    "regr1 = Pipeline(steps=[('postprocessor', scaler),\n",
    "                        ('filter', var_selector),\n",
    "                        ('regressor', LinearRegression())])"
   ]
  },
  {
   "cell_type": "markdown",
   "metadata": {},
   "source": [
    "Let's fit the defined pipeline on the data."
   ]
  },
  {
   "cell_type": "code",
   "execution_count": 27,
   "metadata": {},
   "outputs": [
    {
     "data": {
      "text/html": [
       "<style>#sk-cad2014a-c396-4905-884a-319c484745ab {color: black;background-color: white;}#sk-cad2014a-c396-4905-884a-319c484745ab pre{padding: 0;}#sk-cad2014a-c396-4905-884a-319c484745ab div.sk-toggleable {background-color: white;}#sk-cad2014a-c396-4905-884a-319c484745ab label.sk-toggleable__label {cursor: pointer;display: block;width: 100%;margin-bottom: 0;padding: 0.2em 0.3em;box-sizing: border-box;text-align: center;}#sk-cad2014a-c396-4905-884a-319c484745ab div.sk-toggleable__content {max-height: 0;max-width: 0;overflow: hidden;text-align: left;background-color: #f0f8ff;}#sk-cad2014a-c396-4905-884a-319c484745ab div.sk-toggleable__content pre {margin: 0.2em;color: black;border-radius: 0.25em;background-color: #f0f8ff;}#sk-cad2014a-c396-4905-884a-319c484745ab input.sk-toggleable__control:checked~div.sk-toggleable__content {max-height: 200px;max-width: 100%;overflow: auto;}#sk-cad2014a-c396-4905-884a-319c484745ab div.sk-estimator input.sk-toggleable__control:checked~label.sk-toggleable__label {background-color: #d4ebff;}#sk-cad2014a-c396-4905-884a-319c484745ab div.sk-label input.sk-toggleable__control:checked~label.sk-toggleable__label {background-color: #d4ebff;}#sk-cad2014a-c396-4905-884a-319c484745ab input.sk-hidden--visually {border: 0;clip: rect(1px 1px 1px 1px);clip: rect(1px, 1px, 1px, 1px);height: 1px;margin: -1px;overflow: hidden;padding: 0;position: absolute;width: 1px;}#sk-cad2014a-c396-4905-884a-319c484745ab div.sk-estimator {font-family: monospace;background-color: #f0f8ff;margin: 0.25em 0.25em;border: 1px dotted black;border-radius: 0.25em;box-sizing: border-box;}#sk-cad2014a-c396-4905-884a-319c484745ab div.sk-estimator:hover {background-color: #d4ebff;}#sk-cad2014a-c396-4905-884a-319c484745ab div.sk-parallel-item::after {content: \"\";width: 100%;border-bottom: 1px solid gray;flex-grow: 1;}#sk-cad2014a-c396-4905-884a-319c484745ab div.sk-label:hover label.sk-toggleable__label {background-color: #d4ebff;}#sk-cad2014a-c396-4905-884a-319c484745ab div.sk-serial::before {content: \"\";position: absolute;border-left: 1px solid gray;box-sizing: border-box;top: 2em;bottom: 0;left: 50%;}#sk-cad2014a-c396-4905-884a-319c484745ab div.sk-serial {display: flex;flex-direction: column;align-items: center;background-color: white;}#sk-cad2014a-c396-4905-884a-319c484745ab div.sk-item {z-index: 1;}#sk-cad2014a-c396-4905-884a-319c484745ab div.sk-parallel {display: flex;align-items: stretch;justify-content: center;background-color: white;}#sk-cad2014a-c396-4905-884a-319c484745ab div.sk-parallel-item {display: flex;flex-direction: column;position: relative;background-color: white;}#sk-cad2014a-c396-4905-884a-319c484745ab div.sk-parallel-item:first-child::after {align-self: flex-end;width: 50%;}#sk-cad2014a-c396-4905-884a-319c484745ab div.sk-parallel-item:last-child::after {align-self: flex-start;width: 50%;}#sk-cad2014a-c396-4905-884a-319c484745ab div.sk-parallel-item:only-child::after {width: 0;}#sk-cad2014a-c396-4905-884a-319c484745ab div.sk-dashed-wrapped {border: 1px dashed gray;margin: 0.2em;box-sizing: border-box;padding-bottom: 0.1em;background-color: white;position: relative;}#sk-cad2014a-c396-4905-884a-319c484745ab div.sk-label label {font-family: monospace;font-weight: bold;background-color: white;display: inline-block;line-height: 1.2em;}#sk-cad2014a-c396-4905-884a-319c484745ab div.sk-label-container {position: relative;z-index: 2;text-align: center;}#sk-cad2014a-c396-4905-884a-319c484745ab div.sk-container {display: inline-block;position: relative;}</style><div id=\"sk-cad2014a-c396-4905-884a-319c484745ab\" class\"sk-top-container\"><div class=\"sk-container\"><div class=\"sk-item sk-dashed-wrapped\"><div class=\"sk-label-container\"><div class=\"sk-label sk-toggleable\"><input class=\"sk-toggleable__control sk-hidden--visually\" id=\"30632466-aa9f-4077-a16c-538291bbe837\" type=\"checkbox\" ><label class=\"sk-toggleable__label\" for=\"30632466-aa9f-4077-a16c-538291bbe837\">Pipeline</label><div class=\"sk-toggleable__content\"><pre>Pipeline(steps=[('postprocessor', MinMaxScaler()),\n",
       "                ('filter', VarianceThreshold(threshold=0.01)),\n",
       "                ('regressor', LinearRegression())])</pre></div></div></div><div class=\"sk-serial\"><div class=\"sk-item\"><div class=\"sk-estimator sk-toggleable\"><input class=\"sk-toggleable__control sk-hidden--visually\" id=\"7f598008-5dc7-4494-99f4-d8d35d3c64b0\" type=\"checkbox\" ><label class=\"sk-toggleable__label\" for=\"7f598008-5dc7-4494-99f4-d8d35d3c64b0\">MinMaxScaler</label><div class=\"sk-toggleable__content\"><pre>MinMaxScaler()</pre></div></div></div><div class=\"sk-item\"><div class=\"sk-estimator sk-toggleable\"><input class=\"sk-toggleable__control sk-hidden--visually\" id=\"db8d550c-fb5b-4217-84df-51465a191205\" type=\"checkbox\" ><label class=\"sk-toggleable__label\" for=\"db8d550c-fb5b-4217-84df-51465a191205\">VarianceThreshold</label><div class=\"sk-toggleable__content\"><pre>VarianceThreshold(threshold=0.01)</pre></div></div></div><div class=\"sk-item\"><div class=\"sk-estimator sk-toggleable\"><input class=\"sk-toggleable__control sk-hidden--visually\" id=\"16203639-3599-486c-8f60-55f4faa71c91\" type=\"checkbox\" ><label class=\"sk-toggleable__label\" for=\"16203639-3599-486c-8f60-55f4faa71c91\">LinearRegression</label><div class=\"sk-toggleable__content\"><pre>LinearRegression()</pre></div></div></div></div></div></div></div>"
      ],
      "text/plain": [
       "Pipeline(steps=[('postprocessor', MinMaxScaler()),\n",
       "                ('filter', VarianceThreshold(threshold=0.01)),\n",
       "                ('regressor', LinearRegression())])"
      ]
     },
     "execution_count": 27,
     "metadata": {},
     "output_type": "execute_result"
    }
   ],
   "source": [
    "regr1.fit(data[numvar_list+catvar_list], data['price'])"
   ]
  },
  {
   "cell_type": "markdown",
   "metadata": {},
   "source": [
    "Finally, print out the mean of the scoring values (RMSE and R-squared) obtained with K-fold cross-validation."
   ]
  },
  {
   "cell_type": "code",
   "execution_count": 28,
   "metadata": {},
   "outputs": [
    {
     "name": "stdout",
     "output_type": "stream",
     "text": [
      "Mean R2 = 0.5537922458682285\n",
      "Mean RMSE = 244811.78659728583\n"
     ]
    }
   ],
   "source": [
    "cv_result=\\\n",
    "cross_validate(estimator=regr1,X=data[numvar_list+catvar_list],y=data['price'],scoring={'MSE':mse_scorer,'R2':r2_scorer},\\\n",
    "               cv=5, return_train_score=False)\n",
    "print('Mean R2 =',np.mean(cv_result['test_R2']))\n",
    "print('Mean RMSE =',np.mean(np.sqrt(-cv_result['test_MSE'])))"
   ]
  },
  {
   "cell_type": "markdown",
   "metadata": {},
   "source": [
    "As can be seen, the test score values are worse than what we have seen using the training set (whole dataset), even if we use one more predictor.\n",
    "\n",
    "**Note:** *When encoded as ordinal ones, the variance can be calculated on categorical variables, too. That applies even if the categorical variable is nominal. For an explanation, see the book.*"
   ]
  },
  {
   "cell_type": "markdown",
   "metadata": {},
   "source": [
    "### Low variance threshold for classification\n",
    "\n",
    "The variance threshold filtering is better performing in the case of classification (when the target is categorical).\n",
    "\n",
    "**Note:** *Even though the classification will be discussed in Chapter 6, we should discuss the feature selection here for completeness. *\n",
    "\n",
    "Let's take another example, the famous iris dataset."
   ]
  },
  {
   "cell_type": "code",
   "execution_count": 29,
   "metadata": {},
   "outputs": [
    {
     "data": {
      "text/html": [
       "<div>\n",
       "<style scoped>\n",
       "    .dataframe tbody tr th:only-of-type {\n",
       "        vertical-align: middle;\n",
       "    }\n",
       "\n",
       "    .dataframe tbody tr th {\n",
       "        vertical-align: top;\n",
       "    }\n",
       "\n",
       "    .dataframe thead th {\n",
       "        text-align: right;\n",
       "    }\n",
       "</style>\n",
       "<table border=\"1\" class=\"dataframe\">\n",
       "  <thead>\n",
       "    <tr style=\"text-align: right;\">\n",
       "      <th></th>\n",
       "      <th>sepal length (cm)</th>\n",
       "      <th>sepal width (cm)</th>\n",
       "      <th>petal length (cm)</th>\n",
       "      <th>petal width (cm)</th>\n",
       "      <th>species</th>\n",
       "    </tr>\n",
       "  </thead>\n",
       "  <tbody>\n",
       "    <tr>\n",
       "      <th>0</th>\n",
       "      <td>5.1</td>\n",
       "      <td>3.5</td>\n",
       "      <td>1.4</td>\n",
       "      <td>0.2</td>\n",
       "      <td>setosa</td>\n",
       "    </tr>\n",
       "    <tr>\n",
       "      <th>1</th>\n",
       "      <td>4.9</td>\n",
       "      <td>3.0</td>\n",
       "      <td>1.4</td>\n",
       "      <td>0.2</td>\n",
       "      <td>setosa</td>\n",
       "    </tr>\n",
       "    <tr>\n",
       "      <th>2</th>\n",
       "      <td>4.7</td>\n",
       "      <td>3.2</td>\n",
       "      <td>1.3</td>\n",
       "      <td>0.2</td>\n",
       "      <td>setosa</td>\n",
       "    </tr>\n",
       "    <tr>\n",
       "      <th>3</th>\n",
       "      <td>4.6</td>\n",
       "      <td>3.1</td>\n",
       "      <td>1.5</td>\n",
       "      <td>0.2</td>\n",
       "      <td>setosa</td>\n",
       "    </tr>\n",
       "    <tr>\n",
       "      <th>4</th>\n",
       "      <td>5.0</td>\n",
       "      <td>3.6</td>\n",
       "      <td>1.4</td>\n",
       "      <td>0.2</td>\n",
       "      <td>setosa</td>\n",
       "    </tr>\n",
       "    <tr>\n",
       "      <th>...</th>\n",
       "      <td>...</td>\n",
       "      <td>...</td>\n",
       "      <td>...</td>\n",
       "      <td>...</td>\n",
       "      <td>...</td>\n",
       "    </tr>\n",
       "    <tr>\n",
       "      <th>145</th>\n",
       "      <td>6.7</td>\n",
       "      <td>3.0</td>\n",
       "      <td>5.2</td>\n",
       "      <td>2.3</td>\n",
       "      <td>virginica</td>\n",
       "    </tr>\n",
       "    <tr>\n",
       "      <th>146</th>\n",
       "      <td>6.3</td>\n",
       "      <td>2.5</td>\n",
       "      <td>5.0</td>\n",
       "      <td>1.9</td>\n",
       "      <td>virginica</td>\n",
       "    </tr>\n",
       "    <tr>\n",
       "      <th>147</th>\n",
       "      <td>6.5</td>\n",
       "      <td>3.0</td>\n",
       "      <td>5.2</td>\n",
       "      <td>2.0</td>\n",
       "      <td>virginica</td>\n",
       "    </tr>\n",
       "    <tr>\n",
       "      <th>148</th>\n",
       "      <td>6.2</td>\n",
       "      <td>3.4</td>\n",
       "      <td>5.4</td>\n",
       "      <td>2.3</td>\n",
       "      <td>virginica</td>\n",
       "    </tr>\n",
       "    <tr>\n",
       "      <th>149</th>\n",
       "      <td>5.9</td>\n",
       "      <td>3.0</td>\n",
       "      <td>5.1</td>\n",
       "      <td>1.8</td>\n",
       "      <td>virginica</td>\n",
       "    </tr>\n",
       "  </tbody>\n",
       "</table>\n",
       "<p>150 rows × 5 columns</p>\n",
       "</div>"
      ],
      "text/plain": [
       "     sepal length (cm)  sepal width (cm)  petal length (cm)  petal width (cm)  \\\n",
       "0                  5.1               3.5                1.4               0.2   \n",
       "1                  4.9               3.0                1.4               0.2   \n",
       "2                  4.7               3.2                1.3               0.2   \n",
       "3                  4.6               3.1                1.5               0.2   \n",
       "4                  5.0               3.6                1.4               0.2   \n",
       "..                 ...               ...                ...               ...   \n",
       "145                6.7               3.0                5.2               2.3   \n",
       "146                6.3               2.5                5.0               1.9   \n",
       "147                6.5               3.0                5.2               2.0   \n",
       "148                6.2               3.4                5.4               2.3   \n",
       "149                5.9               3.0                5.1               1.8   \n",
       "\n",
       "       species  \n",
       "0       setosa  \n",
       "1       setosa  \n",
       "2       setosa  \n",
       "3       setosa  \n",
       "4       setosa  \n",
       "..         ...  \n",
       "145  virginica  \n",
       "146  virginica  \n",
       "147  virginica  \n",
       "148  virginica  \n",
       "149  virginica  \n",
       "\n",
       "[150 rows x 5 columns]"
      ]
     },
     "execution_count": 29,
     "metadata": {},
     "output_type": "execute_result"
    }
   ],
   "source": [
    "from sklearn import datasets\n",
    "iris = datasets.load_iris()\n",
    "iris_data=pd.DataFrame(data=iris.data,columns=iris.feature_names)\n",
    "iris_data['species']=iris.target\n",
    "iris_data['species']=\\\n",
    "iris_data['species'].apply(lambda x: iris.target_names[0] if x==0 else iris.target_names[1] if x==1 else iris.target_names[2])\n",
    "iris_data"
   ]
  },
  {
   "cell_type": "markdown",
   "metadata": {},
   "source": [
    "And apply logistic regression using the *scikit-learn* library. Then print out the score of the prediction.\n",
    "\n",
    "**Note:** *Logistic regression will be discussed in the lab exercises related to chapter 6. The below classification score values reach their best value at 1 and worst score at 0.*"
   ]
  },
  {
   "cell_type": "code",
   "execution_count": 30,
   "metadata": {},
   "outputs": [
    {
     "name": "stdout",
     "output_type": "stream",
     "text": [
      "F1-score = 0.9866666666666668\n",
      "ROC-AUC score = 0.9990666666666668\n"
     ]
    }
   ],
   "source": [
    "from sklearn.metrics import roc_auc_score, f1_score\n",
    "from sklearn.linear_model import LogisticRegression\n",
    "clf=LogisticRegression(penalty='none',multi_class='multinomial')\n",
    "clf.fit(iris.data,iris.target)\n",
    "y_score = clf.predict_proba(iris.data)\n",
    "y_pred = clf.predict(iris.data)\n",
    "y=iris.target\n",
    "print(\"F1-score =\",f1_score(y, y_pred,average='micro'))\n",
    "print(\"ROC-AUC score =\",roc_auc_score(y, y_score,multi_class='ovo'))"
   ]
  },
  {
   "cell_type": "markdown",
   "metadata": {},
   "source": [
    "Let's estimate the future prediction performance with K-fold cross-validation."
   ]
  },
  {
   "cell_type": "code",
   "execution_count": 31,
   "metadata": {},
   "outputs": [
    {
     "name": "stdout",
     "output_type": "stream",
     "text": [
      "Mean F1-score = 0.9733333333333334\n",
      "Mean ROC-AUC score = 0.9964999999999999\n"
     ]
    }
   ],
   "source": [
    "f1_scorer=make_scorer(score_func=f1_score,greater_is_better=True, average='micro')\n",
    "roc_auc_scorer=make_scorer(score_func=roc_auc_score,greater_is_better=True,needs_proba=True,multi_class='ovo')\n",
    "\n",
    "cv_result=\\\n",
    "cross_validate(estimator=clf,X=iris.data,y=iris.target,scoring={'F1-score':f1_scorer,'ROC-AUC-score':roc_auc_scorer},cv=5)\n",
    "print('Mean F1-score =',np.mean(cv_result['test_F1-score']))\n",
    "print('Mean ROC-AUC score =',np.mean(cv_result['test_ROC-AUC-score']))"
   ]
  },
  {
   "cell_type": "markdown",
   "metadata": {},
   "source": [
    "The score results are similar. Now, using the variance threshold filtering, let's print out the shape of the input matrix."
   ]
  },
  {
   "cell_type": "code",
   "execution_count": 32,
   "metadata": {},
   "outputs": [
    {
     "data": {
      "text/plain": [
       "(150, 3)"
      ]
     },
     "execution_count": 32,
     "metadata": {},
     "output_type": "execute_result"
    }
   ],
   "source": [
    "var_selector.set_params(threshold=0.05)\n",
    "X_reduced=var_selector.fit_transform(scaler.fit_transform(iris.data))\n",
    "X_reduced.shape"
   ]
  },
  {
   "cell_type": "markdown",
   "metadata": {},
   "source": [
    "As can be seen, one input feature is dropped out of the four. Let's print out the score values after fitting the logistic regression on the reduced feature set."
   ]
  },
  {
   "cell_type": "code",
   "execution_count": 33,
   "metadata": {},
   "outputs": [
    {
     "name": "stdout",
     "output_type": "stream",
     "text": [
      "F1-score = 0.98\n",
      "ROC-AUC score = 0.9982666666666665\n"
     ]
    }
   ],
   "source": [
    "clf.fit(X_reduced,iris.target)\n",
    "y_score = clf.predict_proba(X_reduced)\n",
    "y_pred = clf.predict(X_reduced)\n",
    "print(\"F1-score =\",f1_score(y, y_pred,average='micro'))\n",
    "print(\"ROC-AUC score =\",roc_auc_score(y, y_score,multi_class='ovo'))"
   ]
  },
  {
   "cell_type": "markdown",
   "metadata": {},
   "source": [
    "The scoring values are the same using the full dataset. Thus, in this case, the variance threshold filtering is working. Let's check this with the K-fold cross-validation."
   ]
  },
  {
   "cell_type": "code",
   "execution_count": 34,
   "metadata": {},
   "outputs": [
    {
     "name": "stdout",
     "output_type": "stream",
     "text": [
      "Mean F1-score = 0.9666666666666668\n",
      "Mean ROC-AUC score = 0.9973333333333333\n"
     ]
    }
   ],
   "source": [
    "cv_result=\\\n",
    "cross_validate(estimator=clf,X=X_reduced,y=iris.target,scoring={'F1-score':f1_scorer,'ROC-AUC-score':roc_auc_scorer},cv=5)\n",
    "print('Mean F1-score =',np.mean(cv_result['test_F1-score']))\n",
    "print('Mean ROC-AUC score =',np.mean(cv_result['test_ROC-AUC-score']))"
   ]
  },
  {
   "cell_type": "markdown",
   "metadata": {},
   "source": [
    "As can be observed, even with K-fold cross-validation, the score values are almost the same. So using a low variance threshold - which keeps only three quarters from the total number of predictors - will provide a model with almost the same performance."
   ]
  },
  {
   "cell_type": "markdown",
   "metadata": {},
   "source": [
    "## 3. Filtering with Chi-squared test <a name=\"Ch2\"></a>\n",
    "\n",
    "The Chi-squared test can only be used for feature selection when the output is categorical, i.e., for the classification task. From Lab Exercise 3.7 Encoding Categorical Features, we know that the Chi-squared test is used for testing statistical independence between categorical variables (that is, we test how the target is statistically dependent with each predictor).\n",
    "\n",
    "### Chi-squared test for categorical features\n",
    "\n",
    "For this purpose, let's consider a new dataset that has only categorical predictors, and the goal is to predict whether the breast cancer recurrence event happens or not based on the available predictors."
   ]
  },
  {
   "cell_type": "code",
   "execution_count": 35,
   "metadata": {},
   "outputs": [
    {
     "data": {
      "text/html": [
       "<div>\n",
       "<style scoped>\n",
       "    .dataframe tbody tr th:only-of-type {\n",
       "        vertical-align: middle;\n",
       "    }\n",
       "\n",
       "    .dataframe tbody tr th {\n",
       "        vertical-align: top;\n",
       "    }\n",
       "\n",
       "    .dataframe thead th {\n",
       "        text-align: right;\n",
       "    }\n",
       "</style>\n",
       "<table border=\"1\" class=\"dataframe\">\n",
       "  <thead>\n",
       "    <tr style=\"text-align: right;\">\n",
       "      <th></th>\n",
       "      <th>class</th>\n",
       "      <th>age</th>\n",
       "      <th>menopause</th>\n",
       "      <th>tumor</th>\n",
       "      <th>inv-nodes</th>\n",
       "      <th>node-caps</th>\n",
       "      <th>deg-malig</th>\n",
       "      <th>breast</th>\n",
       "      <th>breast-quad</th>\n",
       "      <th>irradiat</th>\n",
       "    </tr>\n",
       "  </thead>\n",
       "  <tbody>\n",
       "    <tr>\n",
       "      <th>0</th>\n",
       "      <td>no-recurrence-events</td>\n",
       "      <td>30-39</td>\n",
       "      <td>premeno</td>\n",
       "      <td>30-34</td>\n",
       "      <td>0-2</td>\n",
       "      <td>no</td>\n",
       "      <td>3</td>\n",
       "      <td>left</td>\n",
       "      <td>left_low</td>\n",
       "      <td>no</td>\n",
       "    </tr>\n",
       "    <tr>\n",
       "      <th>1</th>\n",
       "      <td>no-recurrence-events</td>\n",
       "      <td>40-49</td>\n",
       "      <td>premeno</td>\n",
       "      <td>20-24</td>\n",
       "      <td>0-2</td>\n",
       "      <td>no</td>\n",
       "      <td>2</td>\n",
       "      <td>right</td>\n",
       "      <td>right_up</td>\n",
       "      <td>no</td>\n",
       "    </tr>\n",
       "    <tr>\n",
       "      <th>2</th>\n",
       "      <td>no-recurrence-events</td>\n",
       "      <td>40-49</td>\n",
       "      <td>premeno</td>\n",
       "      <td>20-24</td>\n",
       "      <td>0-2</td>\n",
       "      <td>no</td>\n",
       "      <td>2</td>\n",
       "      <td>left</td>\n",
       "      <td>left_low</td>\n",
       "      <td>no</td>\n",
       "    </tr>\n",
       "    <tr>\n",
       "      <th>3</th>\n",
       "      <td>no-recurrence-events</td>\n",
       "      <td>60-69</td>\n",
       "      <td>ge40</td>\n",
       "      <td>15-19</td>\n",
       "      <td>0-2</td>\n",
       "      <td>no</td>\n",
       "      <td>2</td>\n",
       "      <td>right</td>\n",
       "      <td>left_up</td>\n",
       "      <td>no</td>\n",
       "    </tr>\n",
       "    <tr>\n",
       "      <th>4</th>\n",
       "      <td>no-recurrence-events</td>\n",
       "      <td>40-49</td>\n",
       "      <td>premeno</td>\n",
       "      <td>0-4</td>\n",
       "      <td>0-2</td>\n",
       "      <td>no</td>\n",
       "      <td>2</td>\n",
       "      <td>right</td>\n",
       "      <td>right_low</td>\n",
       "      <td>no</td>\n",
       "    </tr>\n",
       "    <tr>\n",
       "      <th>...</th>\n",
       "      <td>...</td>\n",
       "      <td>...</td>\n",
       "      <td>...</td>\n",
       "      <td>...</td>\n",
       "      <td>...</td>\n",
       "      <td>...</td>\n",
       "      <td>...</td>\n",
       "      <td>...</td>\n",
       "      <td>...</td>\n",
       "      <td>...</td>\n",
       "    </tr>\n",
       "    <tr>\n",
       "      <th>281</th>\n",
       "      <td>recurrence-events</td>\n",
       "      <td>30-39</td>\n",
       "      <td>premeno</td>\n",
       "      <td>30-34</td>\n",
       "      <td>0-2</td>\n",
       "      <td>no</td>\n",
       "      <td>2</td>\n",
       "      <td>left</td>\n",
       "      <td>left_up</td>\n",
       "      <td>no</td>\n",
       "    </tr>\n",
       "    <tr>\n",
       "      <th>282</th>\n",
       "      <td>recurrence-events</td>\n",
       "      <td>30-39</td>\n",
       "      <td>premeno</td>\n",
       "      <td>20-24</td>\n",
       "      <td>0-2</td>\n",
       "      <td>no</td>\n",
       "      <td>3</td>\n",
       "      <td>left</td>\n",
       "      <td>left_up</td>\n",
       "      <td>yes</td>\n",
       "    </tr>\n",
       "    <tr>\n",
       "      <th>283</th>\n",
       "      <td>recurrence-events</td>\n",
       "      <td>60-69</td>\n",
       "      <td>ge40</td>\n",
       "      <td>20-24</td>\n",
       "      <td>0-2</td>\n",
       "      <td>no</td>\n",
       "      <td>1</td>\n",
       "      <td>right</td>\n",
       "      <td>left_up</td>\n",
       "      <td>no</td>\n",
       "    </tr>\n",
       "    <tr>\n",
       "      <th>284</th>\n",
       "      <td>recurrence-events</td>\n",
       "      <td>40-49</td>\n",
       "      <td>ge40</td>\n",
       "      <td>30-34</td>\n",
       "      <td>3-5</td>\n",
       "      <td>no</td>\n",
       "      <td>3</td>\n",
       "      <td>left</td>\n",
       "      <td>left_low</td>\n",
       "      <td>no</td>\n",
       "    </tr>\n",
       "    <tr>\n",
       "      <th>285</th>\n",
       "      <td>recurrence-events</td>\n",
       "      <td>50-59</td>\n",
       "      <td>ge40</td>\n",
       "      <td>30-34</td>\n",
       "      <td>3-5</td>\n",
       "      <td>no</td>\n",
       "      <td>3</td>\n",
       "      <td>left</td>\n",
       "      <td>left_low</td>\n",
       "      <td>no</td>\n",
       "    </tr>\n",
       "  </tbody>\n",
       "</table>\n",
       "<p>286 rows × 10 columns</p>\n",
       "</div>"
      ],
      "text/plain": [
       "                    class    age menopause  tumor inv-nodes node-caps  \\\n",
       "0    no-recurrence-events  30-39   premeno  30-34       0-2        no   \n",
       "1    no-recurrence-events  40-49   premeno  20-24       0-2        no   \n",
       "2    no-recurrence-events  40-49   premeno  20-24       0-2        no   \n",
       "3    no-recurrence-events  60-69      ge40  15-19       0-2        no   \n",
       "4    no-recurrence-events  40-49   premeno    0-4       0-2        no   \n",
       "..                    ...    ...       ...    ...       ...       ...   \n",
       "281     recurrence-events  30-39   premeno  30-34       0-2        no   \n",
       "282     recurrence-events  30-39   premeno  20-24       0-2        no   \n",
       "283     recurrence-events  60-69      ge40  20-24       0-2        no   \n",
       "284     recurrence-events  40-49      ge40  30-34       3-5        no   \n",
       "285     recurrence-events  50-59      ge40  30-34       3-5        no   \n",
       "\n",
       "     deg-malig breast breast-quad irradiat  \n",
       "0            3   left    left_low       no  \n",
       "1            2  right    right_up       no  \n",
       "2            2   left    left_low       no  \n",
       "3            2  right     left_up       no  \n",
       "4            2  right   right_low       no  \n",
       "..         ...    ...         ...      ...  \n",
       "281          2   left     left_up       no  \n",
       "282          3   left     left_up      yes  \n",
       "283          1  right     left_up       no  \n",
       "284          3   left    left_low       no  \n",
       "285          3   left    left_low       no  \n",
       "\n",
       "[286 rows x 10 columns]"
      ]
     },
     "execution_count": 35,
     "metadata": {},
     "output_type": "execute_result"
    }
   ],
   "source": [
    "col_names=['class','age','menopause','tumor','inv-nodes','node-caps','deg-malig','breast','breast-quad','irradiat']\n",
    "breast=pd.read_csv(os.path.join('data','breast-cancer.data'),names=col_names)\n",
    "breast"
   ]
  },
  {
   "cell_type": "markdown",
   "metadata": {},
   "source": [
    "Let's check the unique values in each predictor, respective the target (the first variable in the list)."
   ]
  },
  {
   "cell_type": "code",
   "execution_count": 36,
   "metadata": {},
   "outputs": [
    {
     "name": "stdout",
     "output_type": "stream",
     "text": [
      "Unique values for ('class', array(['no-recurrence-events', 'recurrence-events'], dtype=object))\n",
      "Unique values for ('age', array(['20-29', '30-39', '40-49', '50-59', '60-69', '70-79'], dtype=object))\n",
      "Unique values for ('menopause', array(['ge40', 'lt40', 'premeno'], dtype=object))\n",
      "Unique values for ('tumor', array(['0-4', '10-14', '15-19', '20-24', '25-29', '30-34', '35-39',\n",
      "       '40-44', '45-49', '5-9', '50-54'], dtype=object))\n",
      "Unique values for ('inv-nodes', array(['0-2', '12-14', '15-17', '24-26', '3-5', '6-8', '9-11'],\n",
      "      dtype=object))\n",
      "Unique values for ('node-caps', array(['?', 'no', 'yes'], dtype=object))\n",
      "Unique values for ('deg-malig', array([1, 2, 3], dtype=int64))\n",
      "Unique values for ('breast', array(['left', 'right'], dtype=object))\n",
      "Unique values for ('breast-quad', array(['?', 'central', 'left_low', 'left_up', 'right_low', 'right_up'],\n",
      "      dtype=object))\n",
      "Unique values for ('irradiat', array(['no', 'yes'], dtype=object))\n"
     ]
    }
   ],
   "source": [
    "for name in col_names:\n",
    "    print('Unique values for',(name,np.sort(breast[name].unique())))"
   ]
  },
  {
   "cell_type": "markdown",
   "metadata": {},
   "source": [
    "As can be seen, there are two predictors that have '?' values, which are denoting missing values. Let's use the simple imputer with the most frequent imputation strategy."
   ]
  },
  {
   "cell_type": "code",
   "execution_count": 37,
   "metadata": {
    "scrolled": true
   },
   "outputs": [
    {
     "name": "stdout",
     "output_type": "stream",
     "text": [
      "Unique values for ('class', array(['no-recurrence-events', 'recurrence-events'], dtype=object))\n",
      "Unique values for ('age', array(['20-29', '30-39', '40-49', '50-59', '60-69', '70-79'], dtype=object))\n",
      "Unique values for ('menopause', array(['ge40', 'lt40', 'premeno'], dtype=object))\n",
      "Unique values for ('tumor', array(['0-4', '10-14', '15-19', '20-24', '25-29', '30-34', '35-39',\n",
      "       '40-44', '45-49', '5-9', '50-54'], dtype=object))\n",
      "Unique values for ('inv-nodes', array(['0-2', '12-14', '15-17', '24-26', '3-5', '6-8', '9-11'],\n",
      "      dtype=object))\n",
      "Unique values for ('node-caps', array(['no', 'yes'], dtype=object))\n",
      "Unique values for ('deg-malig', array([1, 2, 3], dtype=int64))\n",
      "Unique values for ('breast', array(['left', 'right'], dtype=object))\n",
      "Unique values for ('breast-quad', array(['central', 'left_low', 'left_up', 'right_low', 'right_up'],\n",
      "      dtype=object))\n",
      "Unique values for ('irradiat', array(['no', 'yes'], dtype=object))\n"
     ]
    }
   ],
   "source": [
    "from sklearn.impute import SimpleImputer\n",
    "imputer=SimpleImputer(missing_values='?',strategy='most_frequent')\n",
    "breast['node-caps']=imputer.fit_transform(np.array(breast['node-caps']).reshape(-1, 1))\n",
    "breast['breast-quad']=imputer.fit_transform(np.array(breast['breast-quad']).reshape(-1, 1))\n",
    "for name in col_names:\n",
    "    print('Unique values for',(name,np.sort(breast[name].unique())))"
   ]
  },
  {
   "cell_type": "markdown",
   "metadata": {},
   "source": [
    "Let's create a list with the feature names."
   ]
  },
  {
   "cell_type": "code",
   "execution_count": 38,
   "metadata": {},
   "outputs": [
    {
     "data": {
      "text/plain": [
       "['age',\n",
       " 'menopause',\n",
       " 'tumor',\n",
       " 'inv-nodes',\n",
       " 'node-caps',\n",
       " 'deg-malig',\n",
       " 'breast',\n",
       " 'breast-quad',\n",
       " 'irradiat']"
      ]
     },
     "execution_count": 38,
     "metadata": {},
     "output_type": "execute_result"
    }
   ],
   "source": [
    "feature_names=col_names.copy()\n",
    "feature_names.remove('class')\n",
    "feature_names"
   ]
  },
  {
   "cell_type": "markdown",
   "metadata": {},
   "source": [
    "Let's define the Chi-square function that will take as input only categorical features."
   ]
  },
  {
   "cell_type": "code",
   "execution_count": 39,
   "metadata": {},
   "outputs": [],
   "source": [
    "from scipy.stats import chi2_contingency\n",
    "def chi2_cat(X,y):\n",
    "    X=np.array(X)\n",
    "    chi2_val=[]\n",
    "    p_val=[]\n",
    "    _,D=X.shape\n",
    "    for j in range(D):\n",
    "        chi2_result=chi2_contingency(pd.crosstab(index=y,columns=X[:,j],margins=False))\n",
    "        chi2_val.append(chi2_result[0])\n",
    "        p_val.append(chi2_result[1])\n",
    "    return np.array(chi2_val),np.array(p_val)"
   ]
  },
  {
   "cell_type": "markdown",
   "metadata": {},
   "source": [
    "And print out the $\\chi^2$ score values and the associated $p$ values."
   ]
  },
  {
   "cell_type": "code",
   "execution_count": 40,
   "metadata": {},
   "outputs": [
    {
     "data": {
      "text/plain": [
       "(array([ 3.99773945,  0.79145992, 17.91574586, 28.79974965, 20.41189528,\n",
       "        31.69495607,  0.74329926,  3.6655091 ,  9.78061509]),\n",
       " array([5.49741462e-01, 6.73188460e-01, 5.64016297e-02, 6.63812796e-05,\n",
       "        6.24404706e-06, 1.31077376e-07, 3.88606054e-01, 4.53162285e-01,\n",
       "        1.76361307e-03]))"
      ]
     },
     "execution_count": 40,
     "metadata": {},
     "output_type": "execute_result"
    }
   ],
   "source": [
    "res=chi2_cat(X=breast[feature_names],y=breast['class'])\n",
    "res"
   ]
  },
  {
   "cell_type": "markdown",
   "metadata": {},
   "source": [
    "Let's create the bar chart with the $\\chi^2$ score values of the features arranged in descending order."
   ]
  },
  {
   "cell_type": "code",
   "execution_count": 41,
   "metadata": {},
   "outputs": [
    {
     "data": {
      "image/png": "[encoded data removed]",
      "text/plain": [
       "<Figure size 432x288 with 1 Axes>"
      ]
     },
     "metadata": {
      "needs_background": "light"
     },
     "output_type": "display_data"
    }
   ],
   "source": [
    "plt.bar(range(9),res[0][np.argsort(res[0])[::-1]])\n",
    "plt.xticks(range(9),np.array(feature_names)[np.argsort(res[0])][::-1],rotation=90)\n",
    "plt.title(\"Chi-squared statistic of the features\",fontsize=14)\n",
    "plt.show()"
   ]
  },
  {
   "cell_type": "markdown",
   "metadata": {},
   "source": [
    "Let's print out the logistic regression results using the *statsmodels* library. We may use the *scikit-learn* library for encoding ordinal variables."
   ]
  },
  {
   "cell_type": "code",
   "execution_count": 42,
   "metadata": {},
   "outputs": [
    {
     "name": "stdout",
     "output_type": "stream",
     "text": [
      "Optimization terminated successfully.\n",
      "         Current function value: 0.523894\n",
      "         Iterations 6\n",
      "                           Logit Regression Results                           \n",
      "==============================================================================\n",
      "Dep. Variable:         xx(Q(\"class\"))   No. Observations:                  286\n",
      "Model:                          Logit   Df Residuals:                      272\n",
      "Method:                           MLE   Df Model:                           13\n",
      "Date:                Mon, 15 Nov 2021   Pseudo R-squ.:                  0.1390\n",
      "Time:                        21:01:07   Log-Likelihood:                -149.83\n",
      "converged:                       True   LL-Null:                       -174.02\n",
      "Covariance Type:            nonrobust   LLR p-value:                 5.637e-06\n",
      "=================================================================================================\n",
      "                                    coef    std err          z      P>|z|      [0.025      0.975]\n",
      "-------------------------------------------------------------------------------------------------\n",
      "Intercept                        -3.5098      1.120     -3.133      0.002      -5.705      -1.314\n",
      "C(menopause)[T.lt40]              0.8394      0.912      0.921      0.357      -0.948       2.626\n",
      "C(menopause)[T.premeno]           0.3610      0.425      0.850      0.395      -0.471       1.194\n",
      "Q(\"node-caps\")[T.yes]             0.3670      0.418      0.878      0.380      -0.452       1.186\n",
      "breast[T.right]                  -0.3127      0.312     -1.003      0.316      -0.924       0.298\n",
      "Q(\"breast-quad\")[T.left_low]      0.3155      0.646      0.488      0.625      -0.950       1.581\n",
      "Q(\"breast-quad\")[T.left_up]       0.0872      0.660      0.132      0.895      -1.207       1.381\n",
      "Q(\"breast-quad\")[T.right_low]    -0.0718      0.806     -0.089      0.929      -1.652       1.508\n",
      "Q(\"breast-quad\")[T.right_up]      0.6878      0.730      0.942      0.346      -0.743       2.119\n",
      "irradiat[T.yes]                   0.3872      0.337      1.149      0.251      -0.273       1.048\n",
      "xx(age)                           0.0109      0.206      0.053      0.958      -0.393       0.414\n",
      "xx(tumor)                         0.0574      0.071      0.807      0.420      -0.082       0.197\n",
      "xx(Q(\"inv-nodes\"))                0.1719      0.088      1.950      0.051      -0.001       0.345\n",
      "Q(\"deg-malig\")                    0.7712      0.221      3.484      0.000       0.337       1.205\n",
      "=================================================================================================\n"
     ]
    }
   ],
   "source": [
    "from sklearn.preprocessing import OrdinalEncoder\n",
    "enc=OrdinalEncoder()\n",
    "def xx(x):\n",
    "    return enc.fit_transform(np.array(x).reshape(-1,1))\n",
    "\n",
    "logit_res=logit(formula = 'xx(Q(\"class\")) ~ xx(age) + C(menopause) + xx(tumor) + xx(Q(\"inv-nodes\")) + \\\n",
    "Q(\"node-caps\") + Q(\"deg-malig\")+breast + Q(\"breast-quad\") + irradiat', data = breast).fit()\n",
    "print(logit_res.summary())"
   ]
  },
  {
   "cell_type": "markdown",
   "metadata": {},
   "source": [
    "The prediction table, also called the confusion matrix, has the following values. The diagonal predictions are the good ones, while the off-diagonal elements are the erroneous predictions.\n",
    "\n",
    "**Note:** *Confusion matrix will be discussed in Chapter 6 of the book.*"
   ]
  },
  {
   "cell_type": "code",
   "execution_count": 43,
   "metadata": {},
   "outputs": [
    {
     "data": {
      "text/plain": [
       "array([[187.,  14.],\n",
       "       [ 53.,  32.]])"
      ]
     },
     "execution_count": 43,
     "metadata": {},
     "output_type": "execute_result"
    }
   ],
   "source": [
    "logit_res.pred_table()"
   ]
  },
  {
   "cell_type": "markdown",
   "metadata": {},
   "source": [
    "The accuracy of the prediction can be calculated as the sum of good predictions divided by the total sum of predictions."
   ]
  },
  {
   "cell_type": "code",
   "execution_count": 44,
   "metadata": {},
   "outputs": [
    {
     "name": "stdout",
     "output_type": "stream",
     "text": [
      "Accuracy = 0.7657342657342657\n"
     ]
    }
   ],
   "source": [
    "print('Accuracy =',np.sum(np.diag(logit_res.pred_table()))/np.sum(logit_res.pred_table()))"
   ]
  },
  {
   "cell_type": "markdown",
   "metadata": {},
   "source": [
    "Now, let's do the same, but at this time, use only the first four predictors, based on the highest $\\chi^2$ statistic."
   ]
  },
  {
   "cell_type": "code",
   "execution_count": 45,
   "metadata": {},
   "outputs": [
    {
     "name": "stdout",
     "output_type": "stream",
     "text": [
      "Optimization terminated successfully.\n",
      "         Current function value: 0.534918\n",
      "         Iterations 6\n",
      "                           Logit Regression Results                           \n",
      "==============================================================================\n",
      "Dep. Variable:         xx(Q(\"class\"))   No. Observations:                  286\n",
      "Model:                          Logit   Df Residuals:                      281\n",
      "Method:                           MLE   Df Model:                            4\n",
      "Date:                Mon, 15 Nov 2021   Pseudo R-squ.:                  0.1209\n",
      "Time:                        21:01:07   Log-Likelihood:                -152.99\n",
      "converged:                       True   LL-Null:                       -174.02\n",
      "Covariance Type:            nonrobust   LLR p-value:                 1.609e-08\n",
      "=========================================================================================\n",
      "                            coef    std err          z      P>|z|      [0.025      0.975]\n",
      "-----------------------------------------------------------------------------------------\n",
      "Intercept                -3.0995      0.540     -5.737      0.000      -4.158      -2.041\n",
      "Q(\"node-caps\")[T.yes]     0.4581      0.406      1.129      0.259      -0.337       1.253\n",
      "xx(tumor)                 0.0684      0.068      1.003      0.316      -0.065       0.202\n",
      "xx(Q(\"inv-nodes\"))        0.1798      0.084      2.145      0.032       0.016       0.344\n",
      "Q(\"deg-malig\")            0.7526      0.212      3.551      0.000       0.337       1.168\n",
      "=========================================================================================\n"
     ]
    }
   ],
   "source": [
    "logit_res=logit(formula = 'xx(Q(\"class\")) ~ xx(tumor) + xx(Q(\"inv-nodes\")) + Q(\"node-caps\") + Q(\"deg-malig\")'\\\n",
    "                , data = breast).fit()\n",
    "print(logit_res.summary())"
   ]
  },
  {
   "cell_type": "markdown",
   "metadata": {},
   "source": [
    "And print out again the prediction table."
   ]
  },
  {
   "cell_type": "code",
   "execution_count": 46,
   "metadata": {},
   "outputs": [
    {
     "data": {
      "text/plain": [
       "array([[184.,  17.],\n",
       "       [ 56.,  29.]])"
      ]
     },
     "execution_count": 46,
     "metadata": {},
     "output_type": "execute_result"
    }
   ],
   "source": [
    "logit_res.pred_table()"
   ]
  },
  {
   "cell_type": "markdown",
   "metadata": {},
   "source": [
    "A small decrease in good prediction can be seen. Let's see the prediction accuracy."
   ]
  },
  {
   "cell_type": "code",
   "execution_count": 47,
   "metadata": {},
   "outputs": [
    {
     "name": "stdout",
     "output_type": "stream",
     "text": [
      "Accuracy = 0.7447552447552448\n"
     ]
    }
   ],
   "source": [
    "print('Accuracy =',np.sum(np.diag(logit_res.pred_table()))/np.sum(logit_res.pred_table()))"
   ]
  },
  {
   "cell_type": "markdown",
   "metadata": {},
   "source": [
    "As can be observed, only a minor decrease in the accuracy can be seen.<br> \n",
    "In what follows, we will implement this feature selection using the *scikit-learn* library."
   ]
  },
  {
   "cell_type": "code",
   "execution_count": 48,
   "metadata": {},
   "outputs": [
    {
     "data": {
      "text/html": [
       "<style>#sk-63dc590d-3778-45e4-83b5-968cfe486ea2 {color: black;background-color: white;}#sk-63dc590d-3778-45e4-83b5-968cfe486ea2 pre{padding: 0;}#sk-63dc590d-3778-45e4-83b5-968cfe486ea2 div.sk-toggleable {background-color: white;}#sk-63dc590d-3778-45e4-83b5-968cfe486ea2 label.sk-toggleable__label {cursor: pointer;display: block;width: 100%;margin-bottom: 0;padding: 0.2em 0.3em;box-sizing: border-box;text-align: center;}#sk-63dc590d-3778-45e4-83b5-968cfe486ea2 div.sk-toggleable__content {max-height: 0;max-width: 0;overflow: hidden;text-align: left;background-color: #f0f8ff;}#sk-63dc590d-3778-45e4-83b5-968cfe486ea2 div.sk-toggleable__content pre {margin: 0.2em;color: black;border-radius: 0.25em;background-color: #f0f8ff;}#sk-63dc590d-3778-45e4-83b5-968cfe486ea2 input.sk-toggleable__control:checked~div.sk-toggleable__content {max-height: 200px;max-width: 100%;overflow: auto;}#sk-63dc590d-3778-45e4-83b5-968cfe486ea2 div.sk-estimator input.sk-toggleable__control:checked~label.sk-toggleable__label {background-color: #d4ebff;}#sk-63dc590d-3778-45e4-83b5-968cfe486ea2 div.sk-label input.sk-toggleable__control:checked~label.sk-toggleable__label {background-color: #d4ebff;}#sk-63dc590d-3778-45e4-83b5-968cfe486ea2 input.sk-hidden--visually {border: 0;clip: rect(1px 1px 1px 1px);clip: rect(1px, 1px, 1px, 1px);height: 1px;margin: -1px;overflow: hidden;padding: 0;position: absolute;width: 1px;}#sk-63dc590d-3778-45e4-83b5-968cfe486ea2 div.sk-estimator {font-family: monospace;background-color: #f0f8ff;margin: 0.25em 0.25em;border: 1px dotted black;border-radius: 0.25em;box-sizing: border-box;}#sk-63dc590d-3778-45e4-83b5-968cfe486ea2 div.sk-estimator:hover {background-color: #d4ebff;}#sk-63dc590d-3778-45e4-83b5-968cfe486ea2 div.sk-parallel-item::after {content: \"\";width: 100%;border-bottom: 1px solid gray;flex-grow: 1;}#sk-63dc590d-3778-45e4-83b5-968cfe486ea2 div.sk-label:hover label.sk-toggleable__label {background-color: #d4ebff;}#sk-63dc590d-3778-45e4-83b5-968cfe486ea2 div.sk-serial::before {content: \"\";position: absolute;border-left: 1px solid gray;box-sizing: border-box;top: 2em;bottom: 0;left: 50%;}#sk-63dc590d-3778-45e4-83b5-968cfe486ea2 div.sk-serial {display: flex;flex-direction: column;align-items: center;background-color: white;}#sk-63dc590d-3778-45e4-83b5-968cfe486ea2 div.sk-item {z-index: 1;}#sk-63dc590d-3778-45e4-83b5-968cfe486ea2 div.sk-parallel {display: flex;align-items: stretch;justify-content: center;background-color: white;}#sk-63dc590d-3778-45e4-83b5-968cfe486ea2 div.sk-parallel-item {display: flex;flex-direction: column;position: relative;background-color: white;}#sk-63dc590d-3778-45e4-83b5-968cfe486ea2 div.sk-parallel-item:first-child::after {align-self: flex-end;width: 50%;}#sk-63dc590d-3778-45e4-83b5-968cfe486ea2 div.sk-parallel-item:last-child::after {align-self: flex-start;width: 50%;}#sk-63dc590d-3778-45e4-83b5-968cfe486ea2 div.sk-parallel-item:only-child::after {width: 0;}#sk-63dc590d-3778-45e4-83b5-968cfe486ea2 div.sk-dashed-wrapped {border: 1px dashed gray;margin: 0.2em;box-sizing: border-box;padding-bottom: 0.1em;background-color: white;position: relative;}#sk-63dc590d-3778-45e4-83b5-968cfe486ea2 div.sk-label label {font-family: monospace;font-weight: bold;background-color: white;display: inline-block;line-height: 1.2em;}#sk-63dc590d-3778-45e4-83b5-968cfe486ea2 div.sk-label-container {position: relative;z-index: 2;text-align: center;}#sk-63dc590d-3778-45e4-83b5-968cfe486ea2 div.sk-container {display: inline-block;position: relative;}</style><div id=\"sk-63dc590d-3778-45e4-83b5-968cfe486ea2\" class\"sk-top-container\"><div class=\"sk-container\"><div class=\"sk-item sk-dashed-wrapped\"><div class=\"sk-label-container\"><div class=\"sk-label sk-toggleable\"><input class=\"sk-toggleable__control sk-hidden--visually\" id=\"0a6ac35d-f5ea-499c-ba0a-f7c162f08289\" type=\"checkbox\" ><label class=\"sk-toggleable__label\" for=\"0a6ac35d-f5ea-499c-ba0a-f7c162f08289\">Pipeline</label><div class=\"sk-toggleable__content\"><pre>Pipeline(steps=[('preprocessor',\n",
       "                 ColumnTransformer(transformers=[('binary', OrdinalEncoder(),\n",
       "                                                  ['node-caps', 'breast',\n",
       "                                                   'irradiat']),\n",
       "                                                 ('ordinal', OrdinalEncoder(),\n",
       "                                                  ['age', 'tumor',\n",
       "                                                   'inv-nodes']),\n",
       "                                                 ('nominal',\n",
       "                                                  OneHotEncoder(drop='first',\n",
       "                                                                sparse=False),\n",
       "                                                  ['menopause', 'breast-quad']),\n",
       "                                                 ('numerical', 'passthrough',\n",
       "                                                  ['deg-malig'])])),\n",
       "                ('regressor',\n",
       "                 LogisticRegression(penalty='none', solver='newton-cg'))])</pre></div></div></div><div class=\"sk-serial\"><div class=\"sk-item sk-dashed-wrapped\"><div class=\"sk-label-container\"><div class=\"sk-label sk-toggleable\"><input class=\"sk-toggleable__control sk-hidden--visually\" id=\"91a815ba-82ae-4c12-9579-b9dadc0a14bf\" type=\"checkbox\" ><label class=\"sk-toggleable__label\" for=\"91a815ba-82ae-4c12-9579-b9dadc0a14bf\">preprocessor: ColumnTransformer</label><div class=\"sk-toggleable__content\"><pre>ColumnTransformer(transformers=[('binary', OrdinalEncoder(),\n",
       "                                 ['node-caps', 'breast', 'irradiat']),\n",
       "                                ('ordinal', OrdinalEncoder(),\n",
       "                                 ['age', 'tumor', 'inv-nodes']),\n",
       "                                ('nominal',\n",
       "                                 OneHotEncoder(drop='first', sparse=False),\n",
       "                                 ['menopause', 'breast-quad']),\n",
       "                                ('numerical', 'passthrough', ['deg-malig'])])</pre></div></div></div><div class=\"sk-parallel\"><div class=\"sk-parallel-item\"><div class=\"sk-item\"><div class=\"sk-label-container\"><div class=\"sk-label sk-toggleable\"><input class=\"sk-toggleable__control sk-hidden--visually\" id=\"ebdebbce-e71c-4334-8af0-0b1a4bb95d76\" type=\"checkbox\" ><label class=\"sk-toggleable__label\" for=\"ebdebbce-e71c-4334-8af0-0b1a4bb95d76\">binary</label><div class=\"sk-toggleable__content\"><pre>['node-caps', 'breast', 'irradiat']</pre></div></div></div><div class=\"sk-serial\"><div class=\"sk-item\"><div class=\"sk-estimator sk-toggleable\"><input class=\"sk-toggleable__control sk-hidden--visually\" id=\"5c2887fe-edfe-4502-ba43-8d4b41988d87\" type=\"checkbox\" ><label class=\"sk-toggleable__label\" for=\"5c2887fe-edfe-4502-ba43-8d4b41988d87\">OrdinalEncoder</label><div class=\"sk-toggleable__content\"><pre>OrdinalEncoder()</pre></div></div></div></div></div></div><div class=\"sk-parallel-item\"><div class=\"sk-item\"><div class=\"sk-label-container\"><div class=\"sk-label sk-toggleable\"><input class=\"sk-toggleable__control sk-hidden--visually\" id=\"e820b253-f1b4-4550-994c-51053f9c66c7\" type=\"checkbox\" ><label class=\"sk-toggleable__label\" for=\"e820b253-f1b4-4550-994c-51053f9c66c7\">ordinal</label><div class=\"sk-toggleable__content\"><pre>['age', 'tumor', 'inv-nodes']</pre></div></div></div><div class=\"sk-serial\"><div class=\"sk-item\"><div class=\"sk-estimator sk-toggleable\"><input class=\"sk-toggleable__control sk-hidden--visually\" id=\"35550f96-e51c-4be0-9667-65ecfe568350\" type=\"checkbox\" ><label class=\"sk-toggleable__label\" for=\"35550f96-e51c-4be0-9667-65ecfe568350\">OrdinalEncoder</label><div class=\"sk-toggleable__content\"><pre>OrdinalEncoder()</pre></div></div></div></div></div></div><div class=\"sk-parallel-item\"><div class=\"sk-item\"><div class=\"sk-label-container\"><div class=\"sk-label sk-toggleable\"><input class=\"sk-toggleable__control sk-hidden--visually\" id=\"7d011788-851d-40d6-a544-040965e3f4ec\" type=\"checkbox\" ><label class=\"sk-toggleable__label\" for=\"7d011788-851d-40d6-a544-040965e3f4ec\">nominal</label><div class=\"sk-toggleable__content\"><pre>['menopause', 'breast-quad']</pre></div></div></div><div class=\"sk-serial\"><div class=\"sk-item\"><div class=\"sk-estimator sk-toggleable\"><input class=\"sk-toggleable__control sk-hidden--visually\" id=\"3b54d3cc-a2f1-4068-873a-1df8513c97bc\" type=\"checkbox\" ><label class=\"sk-toggleable__label\" for=\"3b54d3cc-a2f1-4068-873a-1df8513c97bc\">OneHotEncoder</label><div class=\"sk-toggleable__content\"><pre>OneHotEncoder(drop='first', sparse=False)</pre></div></div></div></div></div></div><div class=\"sk-parallel-item\"><div class=\"sk-item\"><div class=\"sk-label-container\"><div class=\"sk-label sk-toggleable\"><input class=\"sk-toggleable__control sk-hidden--visually\" id=\"b1d97ce9-977c-401e-83c4-c0d2b8c05b6f\" type=\"checkbox\" ><label class=\"sk-toggleable__label\" for=\"b1d97ce9-977c-401e-83c4-c0d2b8c05b6f\">numerical</label><div class=\"sk-toggleable__content\"><pre>['deg-malig']</pre></div></div></div><div class=\"sk-serial\"><div class=\"sk-item\"><div class=\"sk-estimator sk-toggleable\"><input class=\"sk-toggleable__control sk-hidden--visually\" id=\"98f2f464-7b27-40b7-854e-574bb43179b3\" type=\"checkbox\" ><label class=\"sk-toggleable__label\" for=\"98f2f464-7b27-40b7-854e-574bb43179b3\">passthrough</label><div class=\"sk-toggleable__content\"><pre>passthrough</pre></div></div></div></div></div></div></div></div><div class=\"sk-item\"><div class=\"sk-estimator sk-toggleable\"><input class=\"sk-toggleable__control sk-hidden--visually\" id=\"7c27a78e-5cf9-4b76-873e-57e5684c600b\" type=\"checkbox\" ><label class=\"sk-toggleable__label\" for=\"7c27a78e-5cf9-4b76-873e-57e5684c600b\">LogisticRegression</label><div class=\"sk-toggleable__content\"><pre>LogisticRegression(penalty='none', solver='newton-cg')</pre></div></div></div></div></div></div></div>"
      ],
      "text/plain": [
       "Pipeline(steps=[('preprocessor',\n",
       "                 ColumnTransformer(transformers=[('binary', OrdinalEncoder(),\n",
       "                                                  ['node-caps', 'breast',\n",
       "                                                   'irradiat']),\n",
       "                                                 ('ordinal', OrdinalEncoder(),\n",
       "                                                  ['age', 'tumor',\n",
       "                                                   'inv-nodes']),\n",
       "                                                 ('nominal',\n",
       "                                                  OneHotEncoder(drop='first',\n",
       "                                                                sparse=False),\n",
       "                                                  ['menopause', 'breast-quad']),\n",
       "                                                 ('numerical', 'passthrough',\n",
       "                                                  ['deg-malig'])])),\n",
       "                ('regressor',\n",
       "                 LogisticRegression(penalty='none', solver='newton-cg'))])"
      ]
     },
     "execution_count": 48,
     "metadata": {},
     "output_type": "execute_result"
    }
   ],
   "source": [
    "from sklearn.preprocessing import OneHotEncoder\n",
    "\n",
    "logregr=LogisticRegression(penalty='none',solver='newton-cg')\n",
    "enc=OrdinalEncoder()\n",
    "onehot=OneHotEncoder(drop='first',sparse=False)\n",
    "\n",
    "binary_features = ['node-caps','breast','irradiat']\n",
    "ordinal_features = ['age','tumor','inv-nodes']\n",
    "nominal_features = ['menopause','breast-quad']\n",
    "\n",
    "preprocessor = ColumnTransformer(\n",
    "    transformers=[\n",
    "        ('binary', enc, binary_features),\n",
    "        ('ordinal', enc, ordinal_features),\n",
    "        ('nominal', onehot, nominal_features),\n",
    "        ('numerical','passthrough',['deg-malig'])], remainder='drop')\n",
    "\n",
    "pipe = Pipeline(steps=[('preprocessor', preprocessor),\n",
    "                          ('regressor', logregr)])\n",
    "y=enc.fit_transform(np.array(breast['class']).reshape(-1,1)).ravel()\n",
    "pipe.fit(breast, y)"
   ]
  },
  {
   "cell_type": "markdown",
   "metadata": {},
   "source": [
    "We considered in the data preprocessing step the \"deg-malig\" predictor as a numerical one just because it is already encoded. <br>\n",
    "Now, let's print out the intercept."
   ]
  },
  {
   "cell_type": "code",
   "execution_count": 49,
   "metadata": {},
   "outputs": [
    {
     "data": {
      "text/plain": [
       "array([-3.50979529])"
      ]
     },
     "execution_count": 49,
     "metadata": {},
     "output_type": "execute_result"
    }
   ],
   "source": [
    "pipe['regressor'].intercept_"
   ]
  },
  {
   "cell_type": "markdown",
   "metadata": {},
   "source": [
    "respective the regression coefficients:"
   ]
  },
  {
   "cell_type": "code",
   "execution_count": 50,
   "metadata": {},
   "outputs": [
    {
     "name": "stdout",
     "output_type": "stream",
     "text": [
      "node-caps : 0.366995} \n",
      "breast : -0.312664} \n",
      "irradiat : 0.387170} \n",
      "age : 0.010861} \n",
      "tumor : 0.057372} \n",
      "inv-nodes : 0.171914} \n",
      "menopause:lt40 : 0.839373} \n",
      "menopause:premeno : 0.361043} \n",
      "breast-quad:left_low : 0.315476} \n",
      "breast-quad:left_up : 0.087199} \n",
      "breast-quad:right_low : -0.071833} \n",
      "breast-quad:right_up : 0.687758} \n",
      "deg-malig : 0.771192} \n"
     ]
    }
   ],
   "source": [
    "encoded_features=binary_features + ordinal_features + ['menopause:lt40','menopause:premeno',] + \\\n",
    "['breast-quad:left_low','breast-quad:left_up','breast-quad:right_low','breast-quad:right_up'] + ['deg-malig']\n",
    "for i in range(pipe['regressor'].coef_.shape[1]):\n",
    "    print('%s : %f} '%(encoded_features[i],pipe['regressor'].coef_[0,i]))"
   ]
  },
  {
   "cell_type": "markdown",
   "metadata": {},
   "source": [
    "Now, print out the confusion matrix."
   ]
  },
  {
   "cell_type": "code",
   "execution_count": 51,
   "metadata": {},
   "outputs": [
    {
     "data": {
      "text/plain": [
       "array([[187,  14],\n",
       "       [ 53,  32]], dtype=int64)"
      ]
     },
     "execution_count": 51,
     "metadata": {},
     "output_type": "execute_result"
    }
   ],
   "source": [
    "from sklearn.metrics import confusion_matrix\n",
    "confusion_matrix(y,pipe.predict(breast))"
   ]
  },
  {
   "cell_type": "markdown",
   "metadata": {},
   "source": [
    "respective, the accuracy score:"
   ]
  },
  {
   "cell_type": "code",
   "execution_count": 52,
   "metadata": {},
   "outputs": [
    {
     "data": {
      "text/plain": [
       "0.7657342657342657"
      ]
     },
     "execution_count": 52,
     "metadata": {},
     "output_type": "execute_result"
    }
   ],
   "source": [
    "from sklearn.metrics import accuracy_score\n",
    "accuracy_scorer=make_scorer(score_func=accuracy_score,greater_is_better=True)\n",
    "accuracy_score(y,pipe.predict(breast))"
   ]
  },
  {
   "cell_type": "markdown",
   "metadata": {},
   "source": [
    "So far, so good. The results from the *scikit-learn* library match with the ones obtained with the *statsmodels* library.\n",
    "\n",
    "Let's check the generalization performance with k-fold cross-validation (with K=10)."
   ]
  },
  {
   "cell_type": "code",
   "execution_count": 53,
   "metadata": {},
   "outputs": [
    {
     "name": "stdout",
     "output_type": "stream",
     "text": [
      "Mean Accuracy = 0.71564039408867\n",
      "Mean ROC-AUC score = 0.6745436507936506\n"
     ]
    }
   ],
   "source": [
    "X=preprocessor.fit_transform(breast)\n",
    "\n",
    "cv_result=\\\n",
    "cross_validate(estimator=logregr,X=X,y=y,scoring={'Accuracy':accuracy_scorer,'ROC-AUC-score':roc_auc_scorer},cv=10)\n",
    "print('Mean Accuracy =',np.mean(cv_result['test_Accuracy']))\n",
    "print('Mean ROC-AUC score =',np.mean(cv_result['test_ROC-AUC-score']))"
   ]
  },
  {
   "cell_type": "markdown",
   "metadata": {},
   "source": [
    "Now, let's see the classification result if we select only the first four features with the highest Chi-squared values."
   ]
  },
  {
   "cell_type": "code",
   "execution_count": 54,
   "metadata": {},
   "outputs": [
    {
     "data": {
      "text/plain": [
       "array([[0., 5., 0., 3.],\n",
       "       [0., 3., 0., 2.],\n",
       "       [0., 3., 0., 2.],\n",
       "       ...,\n",
       "       [0., 3., 0., 1.],\n",
       "       [0., 5., 4., 3.],\n",
       "       [0., 5., 4., 3.]])"
      ]
     },
     "execution_count": 54,
     "metadata": {},
     "output_type": "execute_result"
    }
   ],
   "source": [
    "from sklearn.feature_selection import SelectKBest\n",
    "\n",
    "ch2_scorer=make_scorer(score_func=chi2_cat,greater_is_better=True)\n",
    "\n",
    "kbest=SelectKBest(score_func=chi2_cat,k=4)\n",
    "kbest.fit_transform(X,y)"
   ]
  },
  {
   "cell_type": "markdown",
   "metadata": {},
   "source": [
    "The same result can be obtained when the percentile of the features to be selected is given (instead of setting the number of features)."
   ]
  },
  {
   "cell_type": "code",
   "execution_count": 55,
   "metadata": {},
   "outputs": [
    {
     "data": {
      "text/plain": [
       "array([[0., 5., 0., 3.],\n",
       "       [0., 3., 0., 2.],\n",
       "       [0., 3., 0., 2.],\n",
       "       ...,\n",
       "       [0., 3., 0., 1.],\n",
       "       [0., 5., 4., 3.],\n",
       "       [0., 5., 4., 3.]])"
      ]
     },
     "execution_count": 55,
     "metadata": {},
     "output_type": "execute_result"
    }
   ],
   "source": [
    "from sklearn.feature_selection import SelectPercentile\n",
    "percent=SelectPercentile(score_func=chi2_cat,percentile=30)\n",
    "percent.fit_transform(X,y)"
   ]
  },
  {
   "cell_type": "markdown",
   "metadata": {},
   "source": [
    "Print out the mean of the score values using the K-fold cross-validation."
   ]
  },
  {
   "cell_type": "code",
   "execution_count": 56,
   "metadata": {},
   "outputs": [
    {
     "name": "stdout",
     "output_type": "stream",
     "text": [
      "Mean Accuracy = 0.733743842364532\n",
      "Mean ROC-AUC score = 0.7179464285714285\n"
     ]
    }
   ],
   "source": [
    "cv_result=\\\n",
    "cross_validate(estimator=logregr,X=kbest.fit_transform(X,y),y=y,\\\n",
    "               scoring={'Accuracy':accuracy_scorer,'ROC-AUC-score':roc_auc_scorer},cv=10)\n",
    "print('Mean Accuracy =',np.mean(cv_result['test_Accuracy']))\n",
    "print('Mean ROC-AUC score =',np.mean(cv_result['test_ROC-AUC-score']))"
   ]
  },
  {
   "cell_type": "markdown",
   "metadata": {},
   "source": [
    "As can be seen, the overall generalization performance is slightly better with the reduced feature set.\n",
    "\n",
    "**Note:** *The \"chi2\" filter from the \"scikit-learn\" library is a one-way Chi-square test. Thus, it cannot be used for categorical variables only for numerical ones representing frequency values. For more explanation, see the book. We may take a try to see the result of such a feaure selection.*"
   ]
  },
  {
   "cell_type": "code",
   "execution_count": 57,
   "metadata": {},
   "outputs": [
    {
     "data": {
      "text/plain": [
       "(array([ 0.56328394,  0.71237775,  5.53435737, 84.84098477, 17.62117563,\n",
       "        13.27275466,  0.52277506,  0.42523187,  8.19724561]),\n",
       " array([4.52940113e-01, 3.98655583e-01, 1.86466122e-02, 3.23351785e-20,\n",
       "        2.69569985e-05, 2.69291222e-04, 4.69660314e-01, 5.14337922e-01,\n",
       "        4.19540337e-03]))"
      ]
     },
     "execution_count": 57,
     "metadata": {},
     "output_type": "execute_result"
    }
   ],
   "source": [
    "from sklearn.feature_selection import chi2\n",
    "\n",
    "enc=OrdinalEncoder()\n",
    "X=breast[feature_names]\n",
    "X=enc.fit_transform(X)\n",
    "y=enc.fit_transform(np.array(breast['class']).reshape(-1,1))\n",
    "\n",
    "res=chi2(X,y)\n",
    "res"
   ]
  },
  {
   "cell_type": "markdown",
   "metadata": {},
   "source": [
    "We need to encode all categorical variables, whether they are nominal or not, using ordinal encoding in order to use the chi2 function from the scikit-learn library. The first array contains the $\\chi^2$ statistics, while the second array the associated p-values.\n",
    "\n",
    "Again, create the bar chart of the features with the $\\chi^2$ scores arranged in descending order."
   ]
  },
  {
   "cell_type": "code",
   "execution_count": 58,
   "metadata": {},
   "outputs": [
    {
     "data": {
      "image/png": "[encoded data removed]",
      "text/plain": [
       "<Figure size 432x288 with 1 Axes>"
      ]
     },
     "metadata": {
      "needs_background": "light"
     },
     "output_type": "display_data"
    }
   ],
   "source": [
    "plt.bar(range(9),res[0][np.argsort(res[0])[::-1]])\n",
    "plt.xticks(range(9),np.array(feature_names)[np.argsort(res[0])][::-1],rotation=90)\n",
    "plt.show()"
   ]
  },
  {
   "cell_type": "markdown",
   "metadata": {},
   "source": [
    "As can be seen, the $\\chi^2$ score values are different in the two cases. The reason is straightforward. For each binary variable or nominal variable with one-hot encoding, you have a contingency table with two columns, one for zero values and the other one for ones. But with the one-way Chi-square test, the frequency values corresponding to zero values will not be counted. That leads to different results. In the case of categorical variables with more than two categories encoded as ordinal ones, it is even worst because, in addition, frequency values from the contingency table will be multiplied by the ordinal number of the category. "
   ]
  },
  {
   "cell_type": "markdown",
   "metadata": {},
   "source": [
    "### Chi-squared test for numerical features\n",
    "\n",
    "The *chi2* method from *scikit-learn* library can be used only for numerical values when these represent some meaningful frequency values. Let's use the \"iris\" dataset again, although the numerical values are not frequency values per se."
   ]
  },
  {
   "cell_type": "code",
   "execution_count": 59,
   "metadata": {},
   "outputs": [
    {
     "data": {
      "text/plain": [
       "(array([ 10.81782088,   3.7107283 , 116.31261309,  67.0483602 ]),\n",
       " array([4.47651499e-03, 1.56395980e-01, 5.53397228e-26, 2.75824965e-15]))"
      ]
     },
     "execution_count": 59,
     "metadata": {},
     "output_type": "execute_result"
    }
   ],
   "source": [
    "X, y = datasets.load_iris(return_X_y=True)\n",
    "chi2(X,y)"
   ]
  },
  {
   "cell_type": "markdown",
   "metadata": {},
   "source": [
    "If we encode the output in a one-vs-all fashion, this result can be obtained easily."
   ]
  },
  {
   "cell_type": "code",
   "execution_count": 60,
   "metadata": {},
   "outputs": [
    {
     "data": {
      "text/plain": [
       "array([[1, 0, 0],\n",
       "       [1, 0, 0],\n",
       "       [1, 0, 0],\n",
       "       [1, 0, 0],\n",
       "       [1, 0, 0],\n",
       "       [1, 0, 0],\n",
       "       [1, 0, 0],\n",
       "       [1, 0, 0],\n",
       "       [1, 0, 0],\n",
       "       [1, 0, 0],\n",
       "       [1, 0, 0],\n",
       "       [1, 0, 0],\n",
       "       [1, 0, 0],\n",
       "       [1, 0, 0],\n",
       "       [1, 0, 0],\n",
       "       [1, 0, 0],\n",
       "       [1, 0, 0],\n",
       "       [1, 0, 0],\n",
       "       [1, 0, 0],\n",
       "       [1, 0, 0],\n",
       "       [1, 0, 0],\n",
       "       [1, 0, 0],\n",
       "       [1, 0, 0],\n",
       "       [1, 0, 0],\n",
       "       [1, 0, 0],\n",
       "       [1, 0, 0],\n",
       "       [1, 0, 0],\n",
       "       [1, 0, 0],\n",
       "       [1, 0, 0],\n",
       "       [1, 0, 0],\n",
       "       [1, 0, 0],\n",
       "       [1, 0, 0],\n",
       "       [1, 0, 0],\n",
       "       [1, 0, 0],\n",
       "       [1, 0, 0],\n",
       "       [1, 0, 0],\n",
       "       [1, 0, 0],\n",
       "       [1, 0, 0],\n",
       "       [1, 0, 0],\n",
       "       [1, 0, 0],\n",
       "       [1, 0, 0],\n",
       "       [1, 0, 0],\n",
       "       [1, 0, 0],\n",
       "       [1, 0, 0],\n",
       "       [1, 0, 0],\n",
       "       [1, 0, 0],\n",
       "       [1, 0, 0],\n",
       "       [1, 0, 0],\n",
       "       [1, 0, 0],\n",
       "       [1, 0, 0],\n",
       "       [0, 1, 0],\n",
       "       [0, 1, 0],\n",
       "       [0, 1, 0],\n",
       "       [0, 1, 0],\n",
       "       [0, 1, 0],\n",
       "       [0, 1, 0],\n",
       "       [0, 1, 0],\n",
       "       [0, 1, 0],\n",
       "       [0, 1, 0],\n",
       "       [0, 1, 0],\n",
       "       [0, 1, 0],\n",
       "       [0, 1, 0],\n",
       "       [0, 1, 0],\n",
       "       [0, 1, 0],\n",
       "       [0, 1, 0],\n",
       "       [0, 1, 0],\n",
       "       [0, 1, 0],\n",
       "       [0, 1, 0],\n",
       "       [0, 1, 0],\n",
       "       [0, 1, 0],\n",
       "       [0, 1, 0],\n",
       "       [0, 1, 0],\n",
       "       [0, 1, 0],\n",
       "       [0, 1, 0],\n",
       "       [0, 1, 0],\n",
       "       [0, 1, 0],\n",
       "       [0, 1, 0],\n",
       "       [0, 1, 0],\n",
       "       [0, 1, 0],\n",
       "       [0, 1, 0],\n",
       "       [0, 1, 0],\n",
       "       [0, 1, 0],\n",
       "       [0, 1, 0],\n",
       "       [0, 1, 0],\n",
       "       [0, 1, 0],\n",
       "       [0, 1, 0],\n",
       "       [0, 1, 0],\n",
       "       [0, 1, 0],\n",
       "       [0, 1, 0],\n",
       "       [0, 1, 0],\n",
       "       [0, 1, 0],\n",
       "       [0, 1, 0],\n",
       "       [0, 1, 0],\n",
       "       [0, 1, 0],\n",
       "       [0, 1, 0],\n",
       "       [0, 1, 0],\n",
       "       [0, 1, 0],\n",
       "       [0, 1, 0],\n",
       "       [0, 1, 0],\n",
       "       [0, 1, 0],\n",
       "       [0, 0, 1],\n",
       "       [0, 0, 1],\n",
       "       [0, 0, 1],\n",
       "       [0, 0, 1],\n",
       "       [0, 0, 1],\n",
       "       [0, 0, 1],\n",
       "       [0, 0, 1],\n",
       "       [0, 0, 1],\n",
       "       [0, 0, 1],\n",
       "       [0, 0, 1],\n",
       "       [0, 0, 1],\n",
       "       [0, 0, 1],\n",
       "       [0, 0, 1],\n",
       "       [0, 0, 1],\n",
       "       [0, 0, 1],\n",
       "       [0, 0, 1],\n",
       "       [0, 0, 1],\n",
       "       [0, 0, 1],\n",
       "       [0, 0, 1],\n",
       "       [0, 0, 1],\n",
       "       [0, 0, 1],\n",
       "       [0, 0, 1],\n",
       "       [0, 0, 1],\n",
       "       [0, 0, 1],\n",
       "       [0, 0, 1],\n",
       "       [0, 0, 1],\n",
       "       [0, 0, 1],\n",
       "       [0, 0, 1],\n",
       "       [0, 0, 1],\n",
       "       [0, 0, 1],\n",
       "       [0, 0, 1],\n",
       "       [0, 0, 1],\n",
       "       [0, 0, 1],\n",
       "       [0, 0, 1],\n",
       "       [0, 0, 1],\n",
       "       [0, 0, 1],\n",
       "       [0, 0, 1],\n",
       "       [0, 0, 1],\n",
       "       [0, 0, 1],\n",
       "       [0, 0, 1],\n",
       "       [0, 0, 1],\n",
       "       [0, 0, 1],\n",
       "       [0, 0, 1],\n",
       "       [0, 0, 1],\n",
       "       [0, 0, 1],\n",
       "       [0, 0, 1],\n",
       "       [0, 0, 1],\n",
       "       [0, 0, 1],\n",
       "       [0, 0, 1],\n",
       "       [0, 0, 1]])"
      ]
     },
     "execution_count": 60,
     "metadata": {},
     "output_type": "execute_result"
    }
   ],
   "source": [
    "from sklearn.preprocessing import LabelBinarizer\n",
    "Y=LabelBinarizer().fit_transform(y)\n",
    "Y"
   ]
  },
  {
   "cell_type": "markdown",
   "metadata": {},
   "source": [
    "Next, calculate the observed values. That is not a contingency table but an input to the one-way chi-square test each time using only one column out of the four."
   ]
  },
  {
   "cell_type": "code",
   "execution_count": 61,
   "metadata": {},
   "outputs": [
    {
     "data": {
      "text/plain": [
       "array([[250.3, 171.4,  73.1,  12.3],\n",
       "       [296.8, 138.5, 213. ,  66.3],\n",
       "       [329.4, 148.7, 277.6, 101.3]])"
      ]
     },
     "execution_count": 61,
     "metadata": {},
     "output_type": "execute_result"
    }
   ],
   "source": [
    "observed = Y.T@X\n",
    "observed"
   ]
  },
  {
   "cell_type": "markdown",
   "metadata": {},
   "source": [
    "We may take the sum of each row"
   ]
  },
  {
   "cell_type": "code",
   "execution_count": 62,
   "metadata": {},
   "outputs": [
    {
     "data": {
      "text/plain": [
       "array([[507.1],\n",
       "       [714.6],\n",
       "       [857. ]])"
      ]
     },
     "execution_count": 62,
     "metadata": {},
     "output_type": "execute_result"
    }
   ],
   "source": [
    "np.sum(Y.T@X,axis=1,keepdims=True)"
   ]
  },
  {
   "cell_type": "markdown",
   "metadata": {},
   "source": [
    "respective the sum of each column:"
   ]
  },
  {
   "cell_type": "code",
   "execution_count": 63,
   "metadata": {},
   "outputs": [
    {
     "data": {
      "text/plain": [
       "array([[876.5, 458.6, 563.7, 179.9]])"
      ]
     },
     "execution_count": 63,
     "metadata": {},
     "output_type": "execute_result"
    }
   ],
   "source": [
    "feature_count = X.sum(axis=0).reshape(1, -1)\n",
    "feature_count"
   ]
  },
  {
   "cell_type": "markdown",
   "metadata": {},
   "source": [
    "Finally the total sum is"
   ]
  },
  {
   "cell_type": "code",
   "execution_count": 64,
   "metadata": {},
   "outputs": [
    {
     "data": {
      "text/plain": [
       "2078.7"
      ]
     },
     "execution_count": 64,
     "metadata": {},
     "output_type": "execute_result"
    }
   ],
   "source": [
    "np.sum(Y.T@X)"
   ]
  },
  {
   "cell_type": "markdown",
   "metadata": {},
   "source": [
    "Let's calculate the class probabilities (in the case of binary variables encoded as 0 and 1, this is equal to the mean value)."
   ]
  },
  {
   "cell_type": "code",
   "execution_count": 65,
   "metadata": {},
   "outputs": [
    {
     "data": {
      "text/plain": [
       "array([[0.33333333, 0.33333333, 0.33333333]])"
      ]
     },
     "execution_count": 65,
     "metadata": {},
     "output_type": "execute_result"
    }
   ],
   "source": [
    "class_prob = Y.mean(axis=0).reshape(1, -1)\n",
    "class_prob"
   ]
  },
  {
   "cell_type": "markdown",
   "metadata": {},
   "source": [
    "Based on the class probabilities, we can calculate the expected values."
   ]
  },
  {
   "cell_type": "code",
   "execution_count": 66,
   "metadata": {},
   "outputs": [
    {
     "data": {
      "text/plain": [
       "array([[292.16666667, 152.86666667, 187.9       ,  59.96666667],\n",
       "       [292.16666667, 152.86666667, 187.9       ,  59.96666667],\n",
       "       [292.16666667, 152.86666667, 187.9       ,  59.96666667]])"
      ]
     },
     "execution_count": 66,
     "metadata": {},
     "output_type": "execute_result"
    }
   ],
   "source": [
    "expected = class_prob.T@feature_count\n",
    "expected"
   ]
  },
  {
   "cell_type": "markdown",
   "metadata": {},
   "source": [
    "Then the $\\chi^2$ statistics are:"
   ]
  },
  {
   "cell_type": "code",
   "execution_count": 67,
   "metadata": {},
   "outputs": [
    {
     "data": {
      "text/plain": [
       "array([ 10.81782088,   3.7107283 , 116.31261309,  67.0483602 ])"
      ]
     },
     "execution_count": 67,
     "metadata": {},
     "output_type": "execute_result"
    }
   ],
   "source": [
    "np.sum((observed-expected)**2/expected,axis=0)"
   ]
  },
  {
   "cell_type": "markdown",
   "metadata": {},
   "source": [
    "Using the *scipy* library, we can easily get both the $\\chi^2$ scores, as well as the associated p-values."
   ]
  },
  {
   "cell_type": "code",
   "execution_count": 68,
   "metadata": {},
   "outputs": [
    {
     "data": {
      "text/plain": [
       "Power_divergenceResult(statistic=array([ 10.81782088,   3.7107283 , 116.31261309,  67.0483602 ]), pvalue=array([4.47651499e-03, 1.56395980e-01, 5.53397228e-26, 2.75824965e-15]))"
      ]
     },
     "execution_count": 68,
     "metadata": {},
     "output_type": "execute_result"
    }
   ],
   "source": [
    "from scipy.stats import chisquare\n",
    "chisquare(observed,expected)"
   ]
  },
  {
   "cell_type": "markdown",
   "metadata": {},
   "source": [
    "As a final step, use the K-fold cross-validation again and print out the mean of the score values."
   ]
  },
  {
   "cell_type": "code",
   "execution_count": 69,
   "metadata": {},
   "outputs": [
    {
     "name": "stdout",
     "output_type": "stream",
     "text": [
      "Mean F1-score = 0.9666666666666668\n",
      "Mean ROC-AUC score = 0.9973333333333333\n"
     ]
    }
   ],
   "source": [
    "kbest=SelectKBest(score_func=chi2,k=3)\n",
    "\n",
    "cv_result=\\\n",
    "cross_validate(estimator=clf,X=kbest.fit_transform(X,y),y=iris.target,\\\n",
    "               scoring={'F1-score':f1_scorer,'ROC-AUC-score':roc_auc_scorer},cv=5)\n",
    "print('Mean F1-score =',np.mean(cv_result['test_F1-score']))\n",
    "print('Mean ROC-AUC score =',np.mean(cv_result['test_ROC-AUC-score']))"
   ]
  },
  {
   "cell_type": "markdown",
   "metadata": {},
   "source": [
    "As can be observed, the Chi2-squared filtering provided a good job, similarly to the variance threshold technique."
   ]
  },
  {
   "cell_type": "markdown",
   "metadata": {},
   "source": [
    "## 4. Filtering based on F-test <a name=\"Ftest\"></a>\n",
    "\n",
    "In the case of regression (i.e., with numerical output variable), the F-test reduces to filtering based on the correlation coefficient between each feature and target.\n",
    "\n",
    "### F-test for regression\n",
    "\n",
    "Let's consider the King County House Sale dataset again. <br>\n",
    "Here is the correlation matrix."
   ]
  },
  {
   "cell_type": "code",
   "execution_count": 70,
   "metadata": {},
   "outputs": [
    {
     "data": {
      "text/html": [
       "<div>\n",
       "<style scoped>\n",
       "    .dataframe tbody tr th:only-of-type {\n",
       "        vertical-align: middle;\n",
       "    }\n",
       "\n",
       "    .dataframe tbody tr th {\n",
       "        vertical-align: top;\n",
       "    }\n",
       "\n",
       "    .dataframe thead th {\n",
       "        text-align: right;\n",
       "    }\n",
       "</style>\n",
       "<table border=\"1\" class=\"dataframe\">\n",
       "  <thead>\n",
       "    <tr style=\"text-align: right;\">\n",
       "      <th></th>\n",
       "      <th>price</th>\n",
       "      <th>bedrooms</th>\n",
       "      <th>bathrooms</th>\n",
       "      <th>sqft_living</th>\n",
       "      <th>sqft_lot</th>\n",
       "      <th>floors</th>\n",
       "      <th>waterfront</th>\n",
       "      <th>view</th>\n",
       "      <th>condition</th>\n",
       "      <th>grade</th>\n",
       "      <th>...</th>\n",
       "      <th>yr_built</th>\n",
       "      <th>yr_renovated</th>\n",
       "      <th>zipcode</th>\n",
       "      <th>lat</th>\n",
       "      <th>long</th>\n",
       "      <th>sqft_living15</th>\n",
       "      <th>sqft_lot15</th>\n",
       "      <th>spring_summer</th>\n",
       "      <th>renovated</th>\n",
       "      <th>age</th>\n",
       "    </tr>\n",
       "  </thead>\n",
       "  <tbody>\n",
       "    <tr>\n",
       "      <th>price</th>\n",
       "      <td>1.000000</td>\n",
       "      <td>0.308350</td>\n",
       "      <td>0.525138</td>\n",
       "      <td>0.702035</td>\n",
       "      <td>0.089661</td>\n",
       "      <td>0.256794</td>\n",
       "      <td>0.266369</td>\n",
       "      <td>0.397293</td>\n",
       "      <td>0.036362</td>\n",
       "      <td>0.667434</td>\n",
       "      <td>...</td>\n",
       "      <td>0.054012</td>\n",
       "      <td>0.126434</td>\n",
       "      <td>-0.053203</td>\n",
       "      <td>0.307003</td>\n",
       "      <td>0.021626</td>\n",
       "      <td>0.585379</td>\n",
       "      <td>0.082447</td>\n",
       "      <td>0.033033</td>\n",
       "      <td>0.126092</td>\n",
       "      <td>-0.054012</td>\n",
       "    </tr>\n",
       "    <tr>\n",
       "      <th>bedrooms</th>\n",
       "      <td>0.308350</td>\n",
       "      <td>1.000000</td>\n",
       "      <td>0.515884</td>\n",
       "      <td>0.576671</td>\n",
       "      <td>0.031703</td>\n",
       "      <td>0.175429</td>\n",
       "      <td>-0.006582</td>\n",
       "      <td>0.079532</td>\n",
       "      <td>0.028472</td>\n",
       "      <td>0.356967</td>\n",
       "      <td>...</td>\n",
       "      <td>0.154178</td>\n",
       "      <td>0.018841</td>\n",
       "      <td>-0.152668</td>\n",
       "      <td>-0.008931</td>\n",
       "      <td>0.129473</td>\n",
       "      <td>0.391638</td>\n",
       "      <td>0.029244</td>\n",
       "      <td>0.011219</td>\n",
       "      <td>0.018553</td>\n",
       "      <td>-0.154178</td>\n",
       "    </tr>\n",
       "    <tr>\n",
       "      <th>bathrooms</th>\n",
       "      <td>0.525138</td>\n",
       "      <td>0.515884</td>\n",
       "      <td>1.000000</td>\n",
       "      <td>0.754665</td>\n",
       "      <td>0.087740</td>\n",
       "      <td>0.500653</td>\n",
       "      <td>0.063744</td>\n",
       "      <td>0.187737</td>\n",
       "      <td>-0.124982</td>\n",
       "      <td>0.664983</td>\n",
       "      <td>...</td>\n",
       "      <td>0.506019</td>\n",
       "      <td>0.050739</td>\n",
       "      <td>-0.203866</td>\n",
       "      <td>0.024573</td>\n",
       "      <td>0.223042</td>\n",
       "      <td>0.568634</td>\n",
       "      <td>0.087175</td>\n",
       "      <td>0.008337</td>\n",
       "      <td>0.050260</td>\n",
       "      <td>-0.506019</td>\n",
       "    </tr>\n",
       "    <tr>\n",
       "      <th>sqft_living</th>\n",
       "      <td>0.702035</td>\n",
       "      <td>0.576671</td>\n",
       "      <td>0.754665</td>\n",
       "      <td>1.000000</td>\n",
       "      <td>0.172826</td>\n",
       "      <td>0.353949</td>\n",
       "      <td>0.103818</td>\n",
       "      <td>0.284611</td>\n",
       "      <td>-0.058753</td>\n",
       "      <td>0.762704</td>\n",
       "      <td>...</td>\n",
       "      <td>0.318049</td>\n",
       "      <td>0.055363</td>\n",
       "      <td>-0.199430</td>\n",
       "      <td>0.052529</td>\n",
       "      <td>0.240223</td>\n",
       "      <td>0.756420</td>\n",
       "      <td>0.183286</td>\n",
       "      <td>0.009644</td>\n",
       "      <td>0.055094</td>\n",
       "      <td>-0.318049</td>\n",
       "    </tr>\n",
       "    <tr>\n",
       "      <th>sqft_lot</th>\n",
       "      <td>0.089661</td>\n",
       "      <td>0.031703</td>\n",
       "      <td>0.087740</td>\n",
       "      <td>0.172826</td>\n",
       "      <td>1.000000</td>\n",
       "      <td>-0.005201</td>\n",
       "      <td>0.021604</td>\n",
       "      <td>0.074710</td>\n",
       "      <td>-0.008958</td>\n",
       "      <td>0.113621</td>\n",
       "      <td>...</td>\n",
       "      <td>0.053080</td>\n",
       "      <td>0.007644</td>\n",
       "      <td>-0.129574</td>\n",
       "      <td>-0.085683</td>\n",
       "      <td>0.229521</td>\n",
       "      <td>0.144608</td>\n",
       "      <td>0.718557</td>\n",
       "      <td>-0.003931</td>\n",
       "      <td>0.007745</td>\n",
       "      <td>-0.053080</td>\n",
       "    </tr>\n",
       "    <tr>\n",
       "      <th>floors</th>\n",
       "      <td>0.256794</td>\n",
       "      <td>0.175429</td>\n",
       "      <td>0.500653</td>\n",
       "      <td>0.353949</td>\n",
       "      <td>-0.005201</td>\n",
       "      <td>1.000000</td>\n",
       "      <td>0.023698</td>\n",
       "      <td>0.029444</td>\n",
       "      <td>-0.263768</td>\n",
       "      <td>0.458183</td>\n",
       "      <td>...</td>\n",
       "      <td>0.489319</td>\n",
       "      <td>0.006338</td>\n",
       "      <td>-0.059121</td>\n",
       "      <td>0.049614</td>\n",
       "      <td>0.125419</td>\n",
       "      <td>0.279885</td>\n",
       "      <td>-0.011269</td>\n",
       "      <td>0.004901</td>\n",
       "      <td>0.006260</td>\n",
       "      <td>-0.489319</td>\n",
       "    </tr>\n",
       "    <tr>\n",
       "      <th>waterfront</th>\n",
       "      <td>0.266369</td>\n",
       "      <td>-0.006582</td>\n",
       "      <td>0.063744</td>\n",
       "      <td>0.103818</td>\n",
       "      <td>0.021604</td>\n",
       "      <td>0.023698</td>\n",
       "      <td>1.000000</td>\n",
       "      <td>0.401857</td>\n",
       "      <td>0.016653</td>\n",
       "      <td>0.082775</td>\n",
       "      <td>...</td>\n",
       "      <td>-0.026161</td>\n",
       "      <td>0.092885</td>\n",
       "      <td>0.030285</td>\n",
       "      <td>-0.014274</td>\n",
       "      <td>-0.041910</td>\n",
       "      <td>0.086463</td>\n",
       "      <td>0.030703</td>\n",
       "      <td>-0.003517</td>\n",
       "      <td>0.093294</td>\n",
       "      <td>0.026161</td>\n",
       "    </tr>\n",
       "    <tr>\n",
       "      <th>view</th>\n",
       "      <td>0.397293</td>\n",
       "      <td>0.079532</td>\n",
       "      <td>0.187737</td>\n",
       "      <td>0.284611</td>\n",
       "      <td>0.074710</td>\n",
       "      <td>0.029444</td>\n",
       "      <td>0.401857</td>\n",
       "      <td>1.000000</td>\n",
       "      <td>0.045990</td>\n",
       "      <td>0.251321</td>\n",
       "      <td>...</td>\n",
       "      <td>-0.053440</td>\n",
       "      <td>0.103917</td>\n",
       "      <td>0.084827</td>\n",
       "      <td>0.006157</td>\n",
       "      <td>-0.078400</td>\n",
       "      <td>0.280439</td>\n",
       "      <td>0.072575</td>\n",
       "      <td>-0.000179</td>\n",
       "      <td>0.104062</td>\n",
       "      <td>0.053440</td>\n",
       "    </tr>\n",
       "    <tr>\n",
       "      <th>condition</th>\n",
       "      <td>0.036362</td>\n",
       "      <td>0.028472</td>\n",
       "      <td>-0.124982</td>\n",
       "      <td>-0.058753</td>\n",
       "      <td>-0.008958</td>\n",
       "      <td>-0.263768</td>\n",
       "      <td>0.016653</td>\n",
       "      <td>0.045990</td>\n",
       "      <td>1.000000</td>\n",
       "      <td>-0.144674</td>\n",
       "      <td>...</td>\n",
       "      <td>-0.361417</td>\n",
       "      <td>-0.060618</td>\n",
       "      <td>0.003026</td>\n",
       "      <td>-0.014941</td>\n",
       "      <td>-0.106500</td>\n",
       "      <td>-0.092824</td>\n",
       "      <td>-0.003406</td>\n",
       "      <td>-0.000325</td>\n",
       "      <td>-0.060139</td>\n",
       "      <td>0.361417</td>\n",
       "    </tr>\n",
       "    <tr>\n",
       "      <th>grade</th>\n",
       "      <td>0.667434</td>\n",
       "      <td>0.356967</td>\n",
       "      <td>0.664983</td>\n",
       "      <td>0.762704</td>\n",
       "      <td>0.113621</td>\n",
       "      <td>0.458183</td>\n",
       "      <td>0.082775</td>\n",
       "      <td>0.251321</td>\n",
       "      <td>-0.144674</td>\n",
       "      <td>1.000000</td>\n",
       "      <td>...</td>\n",
       "      <td>0.446963</td>\n",
       "      <td>0.014414</td>\n",
       "      <td>-0.184862</td>\n",
       "      <td>0.114084</td>\n",
       "      <td>0.198372</td>\n",
       "      <td>0.713202</td>\n",
       "      <td>0.119248</td>\n",
       "      <td>0.016679</td>\n",
       "      <td>0.014008</td>\n",
       "      <td>-0.446963</td>\n",
       "    </tr>\n",
       "    <tr>\n",
       "      <th>sqft_above</th>\n",
       "      <td>0.605567</td>\n",
       "      <td>0.477600</td>\n",
       "      <td>0.685342</td>\n",
       "      <td>0.876597</td>\n",
       "      <td>0.183512</td>\n",
       "      <td>0.523885</td>\n",
       "      <td>0.072075</td>\n",
       "      <td>0.167649</td>\n",
       "      <td>-0.158214</td>\n",
       "      <td>0.755923</td>\n",
       "      <td>...</td>\n",
       "      <td>0.423898</td>\n",
       "      <td>0.023285</td>\n",
       "      <td>-0.261190</td>\n",
       "      <td>-0.000816</td>\n",
       "      <td>0.343803</td>\n",
       "      <td>0.731870</td>\n",
       "      <td>0.194050</td>\n",
       "      <td>0.006671</td>\n",
       "      <td>0.023178</td>\n",
       "      <td>-0.423898</td>\n",
       "    </tr>\n",
       "    <tr>\n",
       "      <th>sqft_basement</th>\n",
       "      <td>0.323816</td>\n",
       "      <td>0.303093</td>\n",
       "      <td>0.283770</td>\n",
       "      <td>0.435043</td>\n",
       "      <td>0.015286</td>\n",
       "      <td>-0.245705</td>\n",
       "      <td>0.080588</td>\n",
       "      <td>0.276947</td>\n",
       "      <td>0.174105</td>\n",
       "      <td>0.168392</td>\n",
       "      <td>...</td>\n",
       "      <td>-0.133124</td>\n",
       "      <td>0.071323</td>\n",
       "      <td>0.074845</td>\n",
       "      <td>0.110538</td>\n",
       "      <td>-0.144765</td>\n",
       "      <td>0.200355</td>\n",
       "      <td>0.017276</td>\n",
       "      <td>0.007532</td>\n",
       "      <td>0.070963</td>\n",
       "      <td>0.133124</td>\n",
       "    </tr>\n",
       "    <tr>\n",
       "      <th>yr_built</th>\n",
       "      <td>0.054012</td>\n",
       "      <td>0.154178</td>\n",
       "      <td>0.506019</td>\n",
       "      <td>0.318049</td>\n",
       "      <td>0.053080</td>\n",
       "      <td>0.489319</td>\n",
       "      <td>-0.026161</td>\n",
       "      <td>-0.053440</td>\n",
       "      <td>-0.361417</td>\n",
       "      <td>0.446963</td>\n",
       "      <td>...</td>\n",
       "      <td>1.000000</td>\n",
       "      <td>-0.224874</td>\n",
       "      <td>-0.346869</td>\n",
       "      <td>-0.148122</td>\n",
       "      <td>0.409356</td>\n",
       "      <td>0.326229</td>\n",
       "      <td>0.070958</td>\n",
       "      <td>0.000135</td>\n",
       "      <td>-0.225195</td>\n",
       "      <td>-1.000000</td>\n",
       "    </tr>\n",
       "    <tr>\n",
       "      <th>yr_renovated</th>\n",
       "      <td>0.126434</td>\n",
       "      <td>0.018841</td>\n",
       "      <td>0.050739</td>\n",
       "      <td>0.055363</td>\n",
       "      <td>0.007644</td>\n",
       "      <td>0.006338</td>\n",
       "      <td>0.092885</td>\n",
       "      <td>0.103917</td>\n",
       "      <td>-0.060618</td>\n",
       "      <td>0.014414</td>\n",
       "      <td>...</td>\n",
       "      <td>-0.224874</td>\n",
       "      <td>1.000000</td>\n",
       "      <td>0.064357</td>\n",
       "      <td>0.029398</td>\n",
       "      <td>-0.068372</td>\n",
       "      <td>-0.002673</td>\n",
       "      <td>0.007854</td>\n",
       "      <td>0.005845</td>\n",
       "      <td>0.999968</td>\n",
       "      <td>0.224874</td>\n",
       "    </tr>\n",
       "    <tr>\n",
       "      <th>zipcode</th>\n",
       "      <td>-0.053203</td>\n",
       "      <td>-0.152668</td>\n",
       "      <td>-0.203866</td>\n",
       "      <td>-0.199430</td>\n",
       "      <td>-0.129574</td>\n",
       "      <td>-0.059121</td>\n",
       "      <td>0.030285</td>\n",
       "      <td>0.084827</td>\n",
       "      <td>0.003026</td>\n",
       "      <td>-0.184862</td>\n",
       "      <td>...</td>\n",
       "      <td>-0.346869</td>\n",
       "      <td>0.064357</td>\n",
       "      <td>1.000000</td>\n",
       "      <td>0.267048</td>\n",
       "      <td>-0.564072</td>\n",
       "      <td>-0.279033</td>\n",
       "      <td>-0.147221</td>\n",
       "      <td>0.001473</td>\n",
       "      <td>0.064335</td>\n",
       "      <td>0.346869</td>\n",
       "    </tr>\n",
       "    <tr>\n",
       "      <th>lat</th>\n",
       "      <td>0.307003</td>\n",
       "      <td>-0.008931</td>\n",
       "      <td>0.024573</td>\n",
       "      <td>0.052529</td>\n",
       "      <td>-0.085683</td>\n",
       "      <td>0.049614</td>\n",
       "      <td>-0.014274</td>\n",
       "      <td>0.006157</td>\n",
       "      <td>-0.014941</td>\n",
       "      <td>0.114084</td>\n",
       "      <td>...</td>\n",
       "      <td>-0.148122</td>\n",
       "      <td>0.029398</td>\n",
       "      <td>0.267048</td>\n",
       "      <td>1.000000</td>\n",
       "      <td>-0.135512</td>\n",
       "      <td>0.048858</td>\n",
       "      <td>-0.086419</td>\n",
       "      <td>0.008562</td>\n",
       "      <td>0.029350</td>\n",
       "      <td>0.148122</td>\n",
       "    </tr>\n",
       "    <tr>\n",
       "      <th>long</th>\n",
       "      <td>0.021626</td>\n",
       "      <td>0.129473</td>\n",
       "      <td>0.223042</td>\n",
       "      <td>0.240223</td>\n",
       "      <td>0.229521</td>\n",
       "      <td>0.125419</td>\n",
       "      <td>-0.041910</td>\n",
       "      <td>-0.078400</td>\n",
       "      <td>-0.106500</td>\n",
       "      <td>0.198372</td>\n",
       "      <td>...</td>\n",
       "      <td>0.409356</td>\n",
       "      <td>-0.068372</td>\n",
       "      <td>-0.564072</td>\n",
       "      <td>-0.135512</td>\n",
       "      <td>1.000000</td>\n",
       "      <td>0.334605</td>\n",
       "      <td>0.254451</td>\n",
       "      <td>0.008692</td>\n",
       "      <td>-0.068378</td>\n",
       "      <td>-0.409356</td>\n",
       "    </tr>\n",
       "    <tr>\n",
       "      <th>sqft_living15</th>\n",
       "      <td>0.585379</td>\n",
       "      <td>0.391638</td>\n",
       "      <td>0.568634</td>\n",
       "      <td>0.756420</td>\n",
       "      <td>0.144608</td>\n",
       "      <td>0.279885</td>\n",
       "      <td>0.086463</td>\n",
       "      <td>0.280439</td>\n",
       "      <td>-0.092824</td>\n",
       "      <td>0.713202</td>\n",
       "      <td>...</td>\n",
       "      <td>0.326229</td>\n",
       "      <td>-0.002673</td>\n",
       "      <td>-0.279033</td>\n",
       "      <td>0.048858</td>\n",
       "      <td>0.334605</td>\n",
       "      <td>1.000000</td>\n",
       "      <td>0.183192</td>\n",
       "      <td>0.019427</td>\n",
       "      <td>-0.002755</td>\n",
       "      <td>-0.326229</td>\n",
       "    </tr>\n",
       "    <tr>\n",
       "      <th>sqft_lot15</th>\n",
       "      <td>0.082447</td>\n",
       "      <td>0.029244</td>\n",
       "      <td>0.087175</td>\n",
       "      <td>0.183286</td>\n",
       "      <td>0.718557</td>\n",
       "      <td>-0.011269</td>\n",
       "      <td>0.030703</td>\n",
       "      <td>0.072575</td>\n",
       "      <td>-0.003406</td>\n",
       "      <td>0.119248</td>\n",
       "      <td>...</td>\n",
       "      <td>0.070958</td>\n",
       "      <td>0.007854</td>\n",
       "      <td>-0.147221</td>\n",
       "      <td>-0.086419</td>\n",
       "      <td>0.254451</td>\n",
       "      <td>0.183192</td>\n",
       "      <td>1.000000</td>\n",
       "      <td>0.005274</td>\n",
       "      <td>0.007920</td>\n",
       "      <td>-0.070958</td>\n",
       "    </tr>\n",
       "    <tr>\n",
       "      <th>spring_summer</th>\n",
       "      <td>0.033033</td>\n",
       "      <td>0.011219</td>\n",
       "      <td>0.008337</td>\n",
       "      <td>0.009644</td>\n",
       "      <td>-0.003931</td>\n",
       "      <td>0.004901</td>\n",
       "      <td>-0.003517</td>\n",
       "      <td>-0.000179</td>\n",
       "      <td>-0.000325</td>\n",
       "      <td>0.016679</td>\n",
       "      <td>...</td>\n",
       "      <td>0.000135</td>\n",
       "      <td>0.005845</td>\n",
       "      <td>0.001473</td>\n",
       "      <td>0.008562</td>\n",
       "      <td>0.008692</td>\n",
       "      <td>0.019427</td>\n",
       "      <td>0.005274</td>\n",
       "      <td>1.000000</td>\n",
       "      <td>0.005785</td>\n",
       "      <td>-0.000135</td>\n",
       "    </tr>\n",
       "    <tr>\n",
       "      <th>renovated</th>\n",
       "      <td>0.126092</td>\n",
       "      <td>0.018553</td>\n",
       "      <td>0.050260</td>\n",
       "      <td>0.055094</td>\n",
       "      <td>0.007745</td>\n",
       "      <td>0.006260</td>\n",
       "      <td>0.093294</td>\n",
       "      <td>0.104062</td>\n",
       "      <td>-0.060139</td>\n",
       "      <td>0.014008</td>\n",
       "      <td>...</td>\n",
       "      <td>-0.225195</td>\n",
       "      <td>0.999968</td>\n",
       "      <td>0.064335</td>\n",
       "      <td>0.029350</td>\n",
       "      <td>-0.068378</td>\n",
       "      <td>-0.002755</td>\n",
       "      <td>0.007920</td>\n",
       "      <td>0.005785</td>\n",
       "      <td>1.000000</td>\n",
       "      <td>0.225195</td>\n",
       "    </tr>\n",
       "    <tr>\n",
       "      <th>age</th>\n",
       "      <td>-0.054012</td>\n",
       "      <td>-0.154178</td>\n",
       "      <td>-0.506019</td>\n",
       "      <td>-0.318049</td>\n",
       "      <td>-0.053080</td>\n",
       "      <td>-0.489319</td>\n",
       "      <td>0.026161</td>\n",
       "      <td>0.053440</td>\n",
       "      <td>0.361417</td>\n",
       "      <td>-0.446963</td>\n",
       "      <td>...</td>\n",
       "      <td>-1.000000</td>\n",
       "      <td>0.224874</td>\n",
       "      <td>0.346869</td>\n",
       "      <td>0.148122</td>\n",
       "      <td>-0.409356</td>\n",
       "      <td>-0.326229</td>\n",
       "      <td>-0.070958</td>\n",
       "      <td>-0.000135</td>\n",
       "      <td>0.225195</td>\n",
       "      <td>1.000000</td>\n",
       "    </tr>\n",
       "  </tbody>\n",
       "</table>\n",
       "<p>22 rows × 22 columns</p>\n",
       "</div>"
      ],
      "text/plain": [
       "                  price  bedrooms  bathrooms  sqft_living  sqft_lot    floors  \\\n",
       "price          1.000000  0.308350   0.525138     0.702035  0.089661  0.256794   \n",
       "bedrooms       0.308350  1.000000   0.515884     0.576671  0.031703  0.175429   \n",
       "bathrooms      0.525138  0.515884   1.000000     0.754665  0.087740  0.500653   \n",
       "sqft_living    0.702035  0.576671   0.754665     1.000000  0.172826  0.353949   \n",
       "sqft_lot       0.089661  0.031703   0.087740     0.172826  1.000000 -0.005201   \n",
       "floors         0.256794  0.175429   0.500653     0.353949 -0.005201  1.000000   \n",
       "waterfront     0.266369 -0.006582   0.063744     0.103818  0.021604  0.023698   \n",
       "view           0.397293  0.079532   0.187737     0.284611  0.074710  0.029444   \n",
       "condition      0.036362  0.028472  -0.124982    -0.058753 -0.008958 -0.263768   \n",
       "grade          0.667434  0.356967   0.664983     0.762704  0.113621  0.458183   \n",
       "sqft_above     0.605567  0.477600   0.685342     0.876597  0.183512  0.523885   \n",
       "sqft_basement  0.323816  0.303093   0.283770     0.435043  0.015286 -0.245705   \n",
       "yr_built       0.054012  0.154178   0.506019     0.318049  0.053080  0.489319   \n",
       "yr_renovated   0.126434  0.018841   0.050739     0.055363  0.007644  0.006338   \n",
       "zipcode       -0.053203 -0.152668  -0.203866    -0.199430 -0.129574 -0.059121   \n",
       "lat            0.307003 -0.008931   0.024573     0.052529 -0.085683  0.049614   \n",
       "long           0.021626  0.129473   0.223042     0.240223  0.229521  0.125419   \n",
       "sqft_living15  0.585379  0.391638   0.568634     0.756420  0.144608  0.279885   \n",
       "sqft_lot15     0.082447  0.029244   0.087175     0.183286  0.718557 -0.011269   \n",
       "spring_summer  0.033033  0.011219   0.008337     0.009644 -0.003931  0.004901   \n",
       "renovated      0.126092  0.018553   0.050260     0.055094  0.007745  0.006260   \n",
       "age           -0.054012 -0.154178  -0.506019    -0.318049 -0.053080 -0.489319   \n",
       "\n",
       "               waterfront      view  condition     grade  ...  yr_built  \\\n",
       "price            0.266369  0.397293   0.036362  0.667434  ...  0.054012   \n",
       "bedrooms        -0.006582  0.079532   0.028472  0.356967  ...  0.154178   \n",
       "bathrooms        0.063744  0.187737  -0.124982  0.664983  ...  0.506019   \n",
       "sqft_living      0.103818  0.284611  -0.058753  0.762704  ...  0.318049   \n",
       "sqft_lot         0.021604  0.074710  -0.008958  0.113621  ...  0.053080   \n",
       "floors           0.023698  0.029444  -0.263768  0.458183  ...  0.489319   \n",
       "waterfront       1.000000  0.401857   0.016653  0.082775  ... -0.026161   \n",
       "view             0.401857  1.000000   0.045990  0.251321  ... -0.053440   \n",
       "condition        0.016653  0.045990   1.000000 -0.144674  ... -0.361417   \n",
       "grade            0.082775  0.251321  -0.144674  1.000000  ...  0.446963   \n",
       "sqft_above       0.072075  0.167649  -0.158214  0.755923  ...  0.423898   \n",
       "sqft_basement    0.080588  0.276947   0.174105  0.168392  ... -0.133124   \n",
       "yr_built        -0.026161 -0.053440  -0.361417  0.446963  ...  1.000000   \n",
       "yr_renovated     0.092885  0.103917  -0.060618  0.014414  ... -0.224874   \n",
       "zipcode          0.030285  0.084827   0.003026 -0.184862  ... -0.346869   \n",
       "lat             -0.014274  0.006157  -0.014941  0.114084  ... -0.148122   \n",
       "long            -0.041910 -0.078400  -0.106500  0.198372  ...  0.409356   \n",
       "sqft_living15    0.086463  0.280439  -0.092824  0.713202  ...  0.326229   \n",
       "sqft_lot15       0.030703  0.072575  -0.003406  0.119248  ...  0.070958   \n",
       "spring_summer   -0.003517 -0.000179  -0.000325  0.016679  ...  0.000135   \n",
       "renovated        0.093294  0.104062  -0.060139  0.014008  ... -0.225195   \n",
       "age              0.026161  0.053440   0.361417 -0.446963  ... -1.000000   \n",
       "\n",
       "               yr_renovated   zipcode       lat      long  sqft_living15  \\\n",
       "price              0.126434 -0.053203  0.307003  0.021626       0.585379   \n",
       "bedrooms           0.018841 -0.152668 -0.008931  0.129473       0.391638   \n",
       "bathrooms          0.050739 -0.203866  0.024573  0.223042       0.568634   \n",
       "sqft_living        0.055363 -0.199430  0.052529  0.240223       0.756420   \n",
       "sqft_lot           0.007644 -0.129574 -0.085683  0.229521       0.144608   \n",
       "floors             0.006338 -0.059121  0.049614  0.125419       0.279885   \n",
       "waterfront         0.092885  0.030285 -0.014274 -0.041910       0.086463   \n",
       "view               0.103917  0.084827  0.006157 -0.078400       0.280439   \n",
       "condition         -0.060618  0.003026 -0.014941 -0.106500      -0.092824   \n",
       "grade              0.014414 -0.184862  0.114084  0.198372       0.713202   \n",
       "sqft_above         0.023285 -0.261190 -0.000816  0.343803       0.731870   \n",
       "sqft_basement      0.071323  0.074845  0.110538 -0.144765       0.200355   \n",
       "yr_built          -0.224874 -0.346869 -0.148122  0.409356       0.326229   \n",
       "yr_renovated       1.000000  0.064357  0.029398 -0.068372      -0.002673   \n",
       "zipcode            0.064357  1.000000  0.267048 -0.564072      -0.279033   \n",
       "lat                0.029398  0.267048  1.000000 -0.135512       0.048858   \n",
       "long              -0.068372 -0.564072 -0.135512  1.000000       0.334605   \n",
       "sqft_living15     -0.002673 -0.279033  0.048858  0.334605       1.000000   \n",
       "sqft_lot15         0.007854 -0.147221 -0.086419  0.254451       0.183192   \n",
       "spring_summer      0.005845  0.001473  0.008562  0.008692       0.019427   \n",
       "renovated          0.999968  0.064335  0.029350 -0.068378      -0.002755   \n",
       "age                0.224874  0.346869  0.148122 -0.409356      -0.326229   \n",
       "\n",
       "               sqft_lot15  spring_summer  renovated       age  \n",
       "price            0.082447       0.033033   0.126092 -0.054012  \n",
       "bedrooms         0.029244       0.011219   0.018553 -0.154178  \n",
       "bathrooms        0.087175       0.008337   0.050260 -0.506019  \n",
       "sqft_living      0.183286       0.009644   0.055094 -0.318049  \n",
       "sqft_lot         0.718557      -0.003931   0.007745 -0.053080  \n",
       "floors          -0.011269       0.004901   0.006260 -0.489319  \n",
       "waterfront       0.030703      -0.003517   0.093294  0.026161  \n",
       "view             0.072575      -0.000179   0.104062  0.053440  \n",
       "condition       -0.003406      -0.000325  -0.060139  0.361417  \n",
       "grade            0.119248       0.016679   0.014008 -0.446963  \n",
       "sqft_above       0.194050       0.006671   0.023178 -0.423898  \n",
       "sqft_basement    0.017276       0.007532   0.070963  0.133124  \n",
       "yr_built         0.070958       0.000135  -0.225195 -1.000000  \n",
       "yr_renovated     0.007854       0.005845   0.999968  0.224874  \n",
       "zipcode         -0.147221       0.001473   0.064335  0.346869  \n",
       "lat             -0.086419       0.008562   0.029350  0.148122  \n",
       "long             0.254451       0.008692  -0.068378 -0.409356  \n",
       "sqft_living15    0.183192       0.019427  -0.002755 -0.326229  \n",
       "sqft_lot15       1.000000       0.005274   0.007920 -0.070958  \n",
       "spring_summer    0.005274       1.000000   0.005785 -0.000135  \n",
       "renovated        0.007920       0.005785   1.000000  0.225195  \n",
       "age             -0.070958      -0.000135   0.225195  1.000000  \n",
       "\n",
       "[22 rows x 22 columns]"
      ]
     },
     "execution_count": 70,
     "metadata": {},
     "output_type": "execute_result"
    }
   ],
   "source": [
    "data.drop(['id','date'],axis=1).corr()"
   ]
  },
  {
   "cell_type": "markdown",
   "metadata": {},
   "source": [
    "The correlation coefficients between the target and each feature arranged in descending order are provided here."
   ]
  },
  {
   "cell_type": "code",
   "execution_count": 71,
   "metadata": {},
   "outputs": [
    {
     "data": {
      "text/plain": [
       "sqft_living      0.702035\n",
       "grade            0.667434\n",
       "sqft_above       0.605567\n",
       "sqft_living15    0.585379\n",
       "bathrooms        0.525138\n",
       "view             0.397293\n",
       "sqft_basement    0.323816\n",
       "bedrooms         0.308350\n",
       "lat              0.307003\n",
       "waterfront       0.266369\n",
       "floors           0.256794\n",
       "yr_renovated     0.126434\n",
       "renovated        0.126092\n",
       "sqft_lot         0.089661\n",
       "sqft_lot15       0.082447\n",
       "yr_built         0.054012\n",
       "age              0.054012\n",
       "zipcode          0.053203\n",
       "condition        0.036362\n",
       "spring_summer    0.033033\n",
       "long             0.021626\n",
       "Name: price, dtype: float64"
      ]
     },
     "execution_count": 71,
     "metadata": {},
     "output_type": "execute_result"
    }
   ],
   "source": [
    "correlations=data.drop(['id','date'],axis=1).corr().loc['price'][1:]\n",
    "correlations.abs().sort_values()[::-1]"
   ]
  },
  {
   "cell_type": "markdown",
   "metadata": {},
   "source": [
    "Let's visualize this with a bar chart with features arranged in descending order based on the F-statistic."
   ]
  },
  {
   "cell_type": "code",
   "execution_count": 72,
   "metadata": {
    "scrolled": true
   },
   "outputs": [
    {
     "data": {
      "image/png": "[encoded data removed]",
      "text/plain": [
       "<Figure size 432x288 with 1 Axes>"
      ]
     },
     "metadata": {
      "needs_background": "light"
     },
     "output_type": "display_data"
    }
   ],
   "source": [
    "plt.bar(range(correlations.size),correlations.abs().sort_values()[::-1])\n",
    "plt.xticks(range(correlations.size),list((correlations.abs().sort_values()[::-1]).index),rotation=90)\n",
    "plt.title(\"Correlation ratio between features and target\",fontsize=14)\n",
    "plt.show()"
   ]
  },
  {
   "cell_type": "markdown",
   "metadata": {},
   "source": [
    "The same result can be obtained using the *scikit-learn* library."
   ]
  },
  {
   "cell_type": "code",
   "execution_count": 73,
   "metadata": {
    "scrolled": true
   },
   "outputs": [
    {
     "data": {
      "text/plain": [
       "(array([2.27065523e+03, 8.22894319e+03, 2.10019094e+04, 1.75140301e+02,\n",
       "        1.52570610e+03, 1.65046304e+03, 4.05045896e+03, 2.86114585e+01,\n",
       "        1.73606352e+04, 1.25140607e+04, 2.53150635e+03, 6.32290366e+01,\n",
       "        3.51074842e+02, 6.13445108e+01, 2.24881468e+03, 1.01120686e+01,\n",
       "        1.12658645e+04, 1.47906884e+02, 2.36070635e+01, 3.49150112e+02,\n",
       "        6.32290366e+01]),\n",
       " array([0.00000000e+000, 0.00000000e+000, 0.00000000e+000, 7.97252025e-040,\n",
       "        1.58101007e-322, 0.00000000e+000, 0.00000000e+000, 8.93563854e-008,\n",
       "        0.00000000e+000, 0.00000000e+000, 0.00000000e+000, 1.92988381e-015,\n",
       "        1.02134574e-077, 5.01106974e-015, 0.00000000e+000, 1.47509403e-003,\n",
       "        0.00000000e+000, 6.41756871e-034, 1.18980532e-006, 2.64014329e-077,\n",
       "        1.92988381e-015]))"
      ]
     },
     "execution_count": 73,
     "metadata": {},
     "output_type": "execute_result"
    }
   ],
   "source": [
    "from sklearn.feature_selection import f_regression\n",
    "res=f_regression(X=data.drop(['id','date','price'],axis=1),y=data['price'])\n",
    "res"
   ]
  },
  {
   "cell_type": "markdown",
   "metadata": {},
   "source": [
    "Again, the upper array contains the F-test values while the lower array the associated $p$ values. \n",
    "\n",
    "We can create the bar chart where features are arranged with F-statistic values in descending order."
   ]
  },
  {
   "cell_type": "code",
   "execution_count": 74,
   "metadata": {},
   "outputs": [
    {
     "data": {
      "image/png": "[encoded data removed]",
      "text/plain": [
       "<Figure size 432x288 with 1 Axes>"
      ]
     },
     "metadata": {
      "needs_background": "light"
     },
     "output_type": "display_data"
    }
   ],
   "source": [
    "feature_names=list(data.drop(['id','date','price'],axis=1).columns)\n",
    "plt.bar(range(len(feature_names)),res[0][np.argsort(res[0])[::-1]])\n",
    "plt.xticks(range(len(feature_names)),np.array(feature_names)[np.argsort(res[0])][::-1],rotation=90)\n",
    "plt.title(\"F-statistic (correlation w. target) of the features\",fontsize=14)\n",
    "plt.show()"
   ]
  },
  {
   "cell_type": "markdown",
   "metadata": {},
   "source": [
    "The F-test can be calculated easily from the correlation coefficients."
   ]
  },
  {
   "cell_type": "code",
   "execution_count": 75,
   "metadata": {},
   "outputs": [
    {
     "data": {
      "text/plain": [
       "sqft_living      21001.909384\n",
       "grade            17360.635177\n",
       "sqft_above       12514.060692\n",
       "sqft_living15    11265.864467\n",
       "bathrooms         8228.943192\n",
       "view              4050.458960\n",
       "sqft_basement     2531.506350\n",
       "bedrooms          2270.655230\n",
       "lat               2248.814682\n",
       "waterfront        1650.463040\n",
       "floors            1525.706098\n",
       "yr_renovated       351.074842\n",
       "renovated          349.150112\n",
       "sqft_lot           175.140301\n",
       "sqft_lot15         147.906884\n",
       "yr_built            63.229037\n",
       "age                 63.229037\n",
       "zipcode             61.344511\n",
       "condition           28.611459\n",
       "spring_summer       23.607064\n",
       "long                10.112069\n",
       "Name: price, dtype: float64"
      ]
     },
     "execution_count": 75,
     "metadata": {},
     "output_type": "execute_result"
    }
   ],
   "source": [
    "N=data.shape[0]\n",
    "r=correlations.abs().sort_values()[::-1]\n",
    "Ftest=r**2*(N-2)/(1-r**2)\n",
    "Ftest"
   ]
  },
  {
   "cell_type": "markdown",
   "metadata": {},
   "source": [
    "Now, let's take the first seven features with the highest F-scores and, using K-fold cross-validation, check the performance of the linear model using these predictors."
   ]
  },
  {
   "cell_type": "code",
   "execution_count": 76,
   "metadata": {},
   "outputs": [
    {
     "name": "stdout",
     "output_type": "stream",
     "text": [
      "Mean R2 = 0.6863323059510114\n",
      "Mean RMSE = 205229.01412007437\n"
     ]
    }
   ],
   "source": [
    "kbest=SelectKBest(score_func=f_regression,k=7)\n",
    "\n",
    "cv_result=\\\n",
    "cross_validate(estimator=regr,X=data.drop(['id','date','price'],axis=1),y=data['price'],\\\n",
    "                                          scoring={'MSE':mse_scorer,'R2':r2_scorer},cv=5, return_train_score=False)\n",
    "print('Mean R2 =',np.mean(cv_result['test_R2']))\n",
    "print('Mean RMSE =',np.mean(np.sqrt(-cv_result['test_MSE'])))"
   ]
  },
  {
   "cell_type": "markdown",
   "metadata": {},
   "source": [
    "The goodness-of-fit values are close to what we had with all the features. However, we also know that 'sqft_living' is highly correlated with 'sqft_above', 'sqft_basement', and 'sqft_living15'. Moreover \"sqft_living=sqft_basement+sqft_above\" by definition, so we have a serious multicollinearity issue.\n",
    "\n",
    "**Note:** *The correlation coefficient, thus the F-test, reflects the linear relationship between the target and the features. If this relation is not linear, the Pearson correlation coefficient might not be a good score. We also know that the Pearson correlation coefficient is lower than other types of correlation coefficients in the case of categorical features.*"
   ]
  },
  {
   "cell_type": "markdown",
   "metadata": {},
   "source": [
    "### F-test for classification\n",
    "\n",
    "The F-test for classification can be used only when all the predictors are numerical. It is based on the one-way ANOVA test, where the means of the numerical feature belonging to different output categories (groups) are compared."
   ]
  },
  {
   "cell_type": "code",
   "execution_count": 77,
   "metadata": {},
   "outputs": [
    {
     "data": {
      "image/png": "[encoded data removed]",
      "text/plain": [
       "<Figure size 1080x576 with 4 Axes>"
      ]
     },
     "metadata": {
      "needs_background": "light"
     },
     "output_type": "display_data"
    }
   ],
   "source": [
    "fig, ax = plt.subplots(2, 2, figsize=(15, 8))\n",
    "sns.boxplot(y='species',x='sepal length (cm)',data=iris_data,ax=ax[0,0])\n",
    "sns.boxplot(y='species',x='sepal width (cm)',data=iris_data,ax=ax[0,1])\n",
    "sns.boxplot(y='species',x='petal length (cm)',data=iris_data,ax=ax[1,0])\n",
    "sns.boxplot(y='species',x='petal width (cm)',data=iris_data,ax=ax[1,1])\n",
    "plt.suptitle(\"Differences between the mean of the groups (target categories)\",fontsize=14,y=0.92)\n",
    "plt.show()"
   ]
  },
  {
   "cell_type": "markdown",
   "metadata": {},
   "source": [
    "With the one-way ANOVA test, we test whether the means of the groups are all equal (H0 hypothesis) or at least two of them are different (H1 hypothesis). If we cannot reject H0, then the given feature does not provide any hint on the output categories. If H0 can be rejected, then the given predictor can (at least partly) explain the differences between the groups (i.e., the differences between output categories).\n",
    "\n",
    "Let's calculate the one-way ANOVA F-test for each feature. First, we group the *pandas* dataframe according to the iris species and take the mean of each feature belonging to a group."
   ]
  },
  {
   "cell_type": "code",
   "execution_count": 78,
   "metadata": {},
   "outputs": [
    {
     "data": {
      "text/html": [
       "<div>\n",
       "<style scoped>\n",
       "    .dataframe tbody tr th:only-of-type {\n",
       "        vertical-align: middle;\n",
       "    }\n",
       "\n",
       "    .dataframe tbody tr th {\n",
       "        vertical-align: top;\n",
       "    }\n",
       "\n",
       "    .dataframe thead th {\n",
       "        text-align: right;\n",
       "    }\n",
       "</style>\n",
       "<table border=\"1\" class=\"dataframe\">\n",
       "  <thead>\n",
       "    <tr style=\"text-align: right;\">\n",
       "      <th></th>\n",
       "      <th>sepal length (cm)</th>\n",
       "      <th>sepal width (cm)</th>\n",
       "      <th>petal length (cm)</th>\n",
       "      <th>petal width (cm)</th>\n",
       "    </tr>\n",
       "    <tr>\n",
       "      <th>species</th>\n",
       "      <th></th>\n",
       "      <th></th>\n",
       "      <th></th>\n",
       "      <th></th>\n",
       "    </tr>\n",
       "  </thead>\n",
       "  <tbody>\n",
       "    <tr>\n",
       "      <th>setosa</th>\n",
       "      <td>5.006</td>\n",
       "      <td>3.428</td>\n",
       "      <td>1.462</td>\n",
       "      <td>0.246</td>\n",
       "    </tr>\n",
       "    <tr>\n",
       "      <th>versicolor</th>\n",
       "      <td>5.936</td>\n",
       "      <td>2.770</td>\n",
       "      <td>4.260</td>\n",
       "      <td>1.326</td>\n",
       "    </tr>\n",
       "    <tr>\n",
       "      <th>virginica</th>\n",
       "      <td>6.588</td>\n",
       "      <td>2.974</td>\n",
       "      <td>5.552</td>\n",
       "      <td>2.026</td>\n",
       "    </tr>\n",
       "  </tbody>\n",
       "</table>\n",
       "</div>"
      ],
      "text/plain": [
       "            sepal length (cm)  sepal width (cm)  petal length (cm)  \\\n",
       "species                                                              \n",
       "setosa                  5.006             3.428              1.462   \n",
       "versicolor              5.936             2.770              4.260   \n",
       "virginica               6.588             2.974              5.552   \n",
       "\n",
       "            petal width (cm)  \n",
       "species                       \n",
       "setosa                 0.246  \n",
       "versicolor             1.326  \n",
       "virginica              2.026  "
      ]
     },
     "execution_count": 78,
     "metadata": {},
     "output_type": "execute_result"
    }
   ],
   "source": [
    "X_k=iris_data.groupby('species').mean()\n",
    "X_k"
   ]
  },
  {
   "cell_type": "markdown",
   "metadata": {},
   "source": [
    "The above table contains the mean of each feature belonging to a given output category (class). There are three output categories (classes) and four features, so we have a 3x4 matrix.<br> \n",
    "Let's also count the number of observations for each group."
   ]
  },
  {
   "cell_type": "code",
   "execution_count": 79,
   "metadata": {},
   "outputs": [
    {
     "data": {
      "text/html": [
       "<div>\n",
       "<style scoped>\n",
       "    .dataframe tbody tr th:only-of-type {\n",
       "        vertical-align: middle;\n",
       "    }\n",
       "\n",
       "    .dataframe tbody tr th {\n",
       "        vertical-align: top;\n",
       "    }\n",
       "\n",
       "    .dataframe thead th {\n",
       "        text-align: right;\n",
       "    }\n",
       "</style>\n",
       "<table border=\"1\" class=\"dataframe\">\n",
       "  <thead>\n",
       "    <tr style=\"text-align: right;\">\n",
       "      <th></th>\n",
       "      <th>sepal length (cm)</th>\n",
       "      <th>sepal width (cm)</th>\n",
       "      <th>petal length (cm)</th>\n",
       "      <th>petal width (cm)</th>\n",
       "    </tr>\n",
       "    <tr>\n",
       "      <th>species</th>\n",
       "      <th></th>\n",
       "      <th></th>\n",
       "      <th></th>\n",
       "      <th></th>\n",
       "    </tr>\n",
       "  </thead>\n",
       "  <tbody>\n",
       "    <tr>\n",
       "      <th>setosa</th>\n",
       "      <td>50</td>\n",
       "      <td>50</td>\n",
       "      <td>50</td>\n",
       "      <td>50</td>\n",
       "    </tr>\n",
       "    <tr>\n",
       "      <th>versicolor</th>\n",
       "      <td>50</td>\n",
       "      <td>50</td>\n",
       "      <td>50</td>\n",
       "      <td>50</td>\n",
       "    </tr>\n",
       "    <tr>\n",
       "      <th>virginica</th>\n",
       "      <td>50</td>\n",
       "      <td>50</td>\n",
       "      <td>50</td>\n",
       "      <td>50</td>\n",
       "    </tr>\n",
       "  </tbody>\n",
       "</table>\n",
       "</div>"
      ],
      "text/plain": [
       "            sepal length (cm)  sepal width (cm)  petal length (cm)  \\\n",
       "species                                                              \n",
       "setosa                     50                50                 50   \n",
       "versicolor                 50                50                 50   \n",
       "virginica                  50                50                 50   \n",
       "\n",
       "            petal width (cm)  \n",
       "species                       \n",
       "setosa                    50  \n",
       "versicolor                50  \n",
       "virginica                 50  "
      ]
     },
     "execution_count": 79,
     "metadata": {},
     "output_type": "execute_result"
    }
   ],
   "source": [
    "N_k=iris_data.groupby('species').count()\n",
    "N_k"
   ]
  },
  {
   "cell_type": "markdown",
   "metadata": {},
   "source": [
    "The above matrix contains the number of observations for each class and each feature. <br>\n",
    "Create the mean vector as the overall mean of each feature (so-called grand mean in ANOVA)."
   ]
  },
  {
   "cell_type": "code",
   "execution_count": 80,
   "metadata": {},
   "outputs": [
    {
     "data": {
      "text/plain": [
       "array([[5.84333333],\n",
       "       [3.05733333],\n",
       "       [3.758     ],\n",
       "       [1.19933333]])"
      ]
     },
     "execution_count": 80,
     "metadata": {},
     "output_type": "execute_result"
    }
   ],
   "source": [
    "mu_=X.mean(axis=0,keepdims=True).T\n",
    "mu_"
   ]
  },
  {
   "cell_type": "markdown",
   "metadata": {},
   "source": [
    "Let's calculate the Sum of Squares Between-groups using the formula from the book."
   ]
  },
  {
   "cell_type": "code",
   "execution_count": 81,
   "metadata": {},
   "outputs": [
    {
     "data": {
      "text/plain": [
       "sepal length (cm)     63.212133\n",
       "sepal width (cm)      11.344933\n",
       "petal length (cm)    437.102800\n",
       "petal width (cm)      80.413333\n",
       "dtype: float64"
      ]
     },
     "execution_count": 81,
     "metadata": {},
     "output_type": "execute_result"
    }
   ],
   "source": [
    "SSB=np.sum(N_k*(X_k-mu_.T)**2,axis=0)\n",
    "SSB"
   ]
  },
  {
   "cell_type": "markdown",
   "metadata": {},
   "source": [
    "The Mean Squares Between-group can be obtained by dividing the SSB by the degree of freedom (number of groups minus one)."
   ]
  },
  {
   "cell_type": "code",
   "execution_count": 82,
   "metadata": {},
   "outputs": [
    {
     "data": {
      "text/plain": [
       "array([ 31.60606667,   5.67246667, 218.5514    ,  40.20666667])"
      ]
     },
     "execution_count": 82,
     "metadata": {},
     "output_type": "execute_result"
    }
   ],
   "source": [
    "K=len(iris_data['species'].unique())\n",
    "MSB=np.array(SSB/(K-1))\n",
    "MSB"
   ]
  },
  {
   "cell_type": "markdown",
   "metadata": {},
   "source": [
    "Similarly, let's calculate the Sum of Squares Between-groups using the formula from the book. "
   ]
  },
  {
   "cell_type": "code",
   "execution_count": 83,
   "metadata": {},
   "outputs": [
    {
     "data": {
      "text/plain": [
       "array([38.9562, 16.962 , 27.2226,  6.1566])"
      ]
     },
     "execution_count": 83,
     "metadata": {},
     "output_type": "execute_result"
    }
   ],
   "source": [
    "SSW=np.array([(np.array((iris_data.groupby('species').get_group(types).drop(columns=['species'])-X_k.loc[types]))**2)\\\n",
    "              .sum(axis=0) for types in ['setosa','versicolor','virginica']]).sum(axis=0)\n",
    "SSW"
   ]
  },
  {
   "cell_type": "markdown",
   "metadata": {},
   "source": [
    "The Mean Squares Within-groups is obtained by dividing SSW by the degree of freedom (number of observations minus number of groups)."
   ]
  },
  {
   "cell_type": "code",
   "execution_count": 84,
   "metadata": {},
   "outputs": [
    {
     "data": {
      "text/plain": [
       "array([0.26500816, 0.11538776, 0.18518776, 0.04188163])"
      ]
     },
     "execution_count": 84,
     "metadata": {},
     "output_type": "execute_result"
    }
   ],
   "source": [
    "N,_=iris_data.shape\n",
    "MSW=SSW/(N-K)\n",
    "MSW"
   ]
  },
  {
   "cell_type": "markdown",
   "metadata": {},
   "source": [
    "Finally, the F-values can be obtained by dividing the Mean Square Between-groups with the Mean Square Within-groups."
   ]
  },
  {
   "cell_type": "code",
   "execution_count": 85,
   "metadata": {},
   "outputs": [
    {
     "data": {
      "text/plain": [
       "array([ 119.26450218,   49.16004009, 1180.16118225,  960.0071468 ])"
      ]
     },
     "execution_count": 85,
     "metadata": {},
     "output_type": "execute_result"
    }
   ],
   "source": [
    "MSB/MSW"
   ]
  },
  {
   "cell_type": "markdown",
   "metadata": {},
   "source": [
    "The same result can be obtained using the \"f-classif\" method from the *scikit-learn* library."
   ]
  },
  {
   "cell_type": "code",
   "execution_count": 86,
   "metadata": {},
   "outputs": [
    {
     "data": {
      "text/plain": [
       "(array([ 119.26450218,   49.16004009, 1180.16118225,  960.0071468 ]),\n",
       " array([1.66966919e-31, 4.49201713e-17, 2.85677661e-91, 4.16944584e-85]))"
      ]
     },
     "execution_count": 86,
     "metadata": {},
     "output_type": "execute_result"
    }
   ],
   "source": [
    "from sklearn.feature_selection import f_classif\n",
    "f_classif(iris.data,iris.target)"
   ]
  },
  {
   "cell_type": "markdown",
   "metadata": {},
   "source": [
    "Next, check the performance of the model using K-fold cross-validation with K=5."
   ]
  },
  {
   "cell_type": "code",
   "execution_count": 87,
   "metadata": {},
   "outputs": [
    {
     "name": "stdout",
     "output_type": "stream",
     "text": [
      "Mean F1-score = 0.9666666666666668\n",
      "Mean ROC-AUC score = 0.9973333333333333\n"
     ]
    }
   ],
   "source": [
    "kbest=SelectKBest(score_func=f_classif,k=3)\n",
    "\n",
    "cv_result=\\\n",
    "cross_validate(estimator=clf,X=kbest.fit_transform(X,y),y=iris.target,\\\n",
    "               scoring={'F1-score':f1_scorer,'ROC-AUC-score':roc_auc_scorer},cv=5)\n",
    "print('Mean F1-score =',np.mean(cv_result['test_F1-score']))\n",
    "print('Mean ROC-AUC score =',np.mean(cv_result['test_ROC-AUC-score']))"
   ]
  },
  {
   "cell_type": "markdown",
   "metadata": {},
   "source": [
    "As can be noticed, this technique performed the filtering well, just like the low variance threshold and Chi-square test."
   ]
  },
  {
   "cell_type": "markdown",
   "metadata": {},
   "source": [
    "## 5. Filtering based on mutual information <a name=\"MI\"></a>\n",
    "\n",
    "Mutual information is a measure of dependencies between two random variables. It captures the idea of the \"amount of information\" one random variable carries about the other.\n",
    "\n",
    "### Mutual information for regression\n",
    "\n",
    "The mutual information is estimated between the continuous target and features. Categorical features may also be present.\n",
    "\n",
    "Let's use again the King County House Sale dataset."
   ]
  },
  {
   "cell_type": "code",
   "execution_count": 88,
   "metadata": {},
   "outputs": [
    {
     "data": {
      "text/plain": [
       "array([0.08311682, 0.20684079, 0.35146889, 0.06174143, 0.07621025,\n",
       "       0.00570148, 0.05133083, 0.01251595, 0.34110365, 0.26406736,\n",
       "       0.0703103 , 0.07291694, 0.0051717 , 0.41663085, 0.34190181,\n",
       "       0.11628536, 0.26856049, 0.08254195, 0.00593782, 0.00821844,\n",
       "       0.07218049])"
      ]
     },
     "execution_count": 88,
     "metadata": {},
     "output_type": "execute_result"
    }
   ],
   "source": [
    "from sklearn.feature_selection import mutual_info_regression\n",
    "res=mutual_info_regression(X=data.drop(['id','date','price'],axis=1),y=data['price'])\n",
    "res"
   ]
  },
  {
   "cell_type": "markdown",
   "metadata": {},
   "source": [
    "Next, for visualizing the result, let's create the bar chart with features arranged in descending order based on the mutual information with the target."
   ]
  },
  {
   "cell_type": "code",
   "execution_count": 89,
   "metadata": {},
   "outputs": [
    {
     "data": {
      "image/png": "[encoded data removed]",
      "text/plain": [
       "<Figure size 432x288 with 1 Axes>"
      ]
     },
     "metadata": {
      "needs_background": "light"
     },
     "output_type": "display_data"
    }
   ],
   "source": [
    "feature_names=list(data.drop(['id','date','price'],axis=1).columns)\n",
    "plt.bar(range(len(feature_names)),res[np.argsort(res)[::-1]])\n",
    "plt.xticks(range(len(feature_names)),np.array(feature_names)[np.argsort(res)][::-1],rotation=90)\n",
    "plt.title(\"Mutual information of the features\",fontsize=14)\n",
    "plt.show()"
   ]
  },
  {
   "cell_type": "markdown",
   "metadata": {},
   "source": [
    "Finally, check the model performance with the reduced features using K-fold cross-validation with K=5."
   ]
  },
  {
   "cell_type": "code",
   "execution_count": 90,
   "metadata": {},
   "outputs": [
    {
     "name": "stdout",
     "output_type": "stream",
     "text": [
      "Mean R2 = 0.6863323059510114\n",
      "Mean RMSE = 205229.01412007437\n"
     ]
    }
   ],
   "source": [
    "kbest=SelectKBest(score_func=mutual_info_regression,k=7)\n",
    "\n",
    "cv_result=\\\n",
    "cross_validate(estimator=regr,X=data.drop(['id','date','price'],axis=1),y=data['price'],\\\n",
    "                                          scoring={'MSE':mse_scorer,'R2':r2_scorer},cv=5, return_train_score=False)\n",
    "print('Mean R2 =',np.mean(cv_result['test_R2']))\n",
    "print('Mean RMSE =',np.mean(np.sqrt(-cv_result['test_MSE'])))"
   ]
  },
  {
   "cell_type": "markdown",
   "metadata": {},
   "source": [
    "Although the goodness-of-fit scores are close to the values that we obtained using all features, we can observe that the correlation coefficient between 'sqft_living' and 'sqft_above', respective between 'sqft_living' and 'sqft_living15' is high. Thus, high multicollinearity issue arises using this filtering method."
   ]
  },
  {
   "cell_type": "markdown",
   "metadata": {},
   "source": [
    "### Mutual information for classification\n",
    "\n",
    "Similarly, we can define mutual information between categorical target and categorical features (although numerical features may also be present). \n",
    "\n",
    "For this, we consider the breast cancer recurrence dataset presented earlier and calculate the mutual information between the categorical target and each categorical feature (using ordinal encoding)."
   ]
  },
  {
   "cell_type": "code",
   "execution_count": 91,
   "metadata": {},
   "outputs": [
    {
     "data": {
      "text/plain": [
       "array([0.        , 0.        , 0.06326833, 0.03719059, 0.05449107,\n",
       "       0.01123851, 0.        , 0.        , 0.        ])"
      ]
     },
     "execution_count": 91,
     "metadata": {},
     "output_type": "execute_result"
    }
   ],
   "source": [
    "from sklearn.feature_selection import mutual_info_classif\n",
    "\n",
    "feature_names=col_names.copy()\n",
    "feature_names.remove('class')\n",
    "X=enc.fit_transform(breast[feature_names])\n",
    "y=enc.fit_transform(np.array(breast['class']).reshape(-1, 1))\n",
    "\n",
    "res=mutual_info_classif(X,np.squeeze(y))\n",
    "res"
   ]
  },
  {
   "cell_type": "markdown",
   "metadata": {},
   "source": [
    "For visualization purposes, create the bar chart of the features arranged in descending order based on the mutual information with the target."
   ]
  },
  {
   "cell_type": "code",
   "execution_count": 92,
   "metadata": {},
   "outputs": [
    {
     "data": {
      "image/png": "[encoded data removed]",
      "text/plain": [
       "<Figure size 432x288 with 1 Axes>"
      ]
     },
     "metadata": {
      "needs_background": "light"
     },
     "output_type": "display_data"
    }
   ],
   "source": [
    "plt.bar(range(len(feature_names)),res[np.argsort(res)[::-1]])\n",
    "plt.xticks(range(len(feature_names)),np.array(feature_names)[np.argsort(res)][::-1],rotation=90)\n",
    "plt.title(\"Mutual information of the features\",fontsize=14)\n",
    "plt.show()"
   ]
  },
  {
   "cell_type": "markdown",
   "metadata": {},
   "source": [
    "Finally, check the model performance using K-fold cross-validation with K=10."
   ]
  },
  {
   "cell_type": "code",
   "execution_count": 93,
   "metadata": {},
   "outputs": [
    {
     "name": "stdout",
     "output_type": "stream",
     "text": [
      "Mean Accuracy = 0.7300492610837439\n",
      "Mean ROC-AUC score = 0.7136359126984128\n"
     ]
    }
   ],
   "source": [
    "X=preprocessor.fit_transform(breast)\n",
    "kbest=SelectKBest(score_func=mutual_info_classif,k=4)\n",
    "\n",
    "cv_result=\\\n",
    "cross_validate(estimator=logregr,X=kbest.fit_transform(X,np.squeeze(y)),y=np.squeeze(y),\\\n",
    "               scoring={'Accuracy':accuracy_scorer,'ROC-AUC-score':roc_auc_scorer},cv=10)\n",
    "print('Mean Accuracy =',np.mean(cv_result['test_Accuracy']))\n",
    "print('Mean ROC-AUC score =',np.mean(cv_result['test_ROC-AUC-score']))"
   ]
  },
  {
   "cell_type": "markdown",
   "metadata": {},
   "source": [
    "## 6. Best subset selection <a name=\"BestSubset\"></a>\n",
    "\n",
    "As we have observed, univariate feature selection, while in the case of logistic regression (classification) works with some limitations, fails in the case of multiple linear regression. \n",
    "\n",
    "To overcome this problem, one option is to search for all possible combinations of the input variables (i.e., fit models using all combinations of the features) and choose the model which provides the highest adjusted R-squared value. This is the so-called wrapper method.\n",
    "\n",
    "**Note:** *it is important to use adjusted R-squared value because some offset is needed for increasing the number of features.*\n",
    "\n",
    "Let's load the Boston house price dataset from the *scikit-learn* library."
   ]
  },
  {
   "cell_type": "code",
   "execution_count": 94,
   "metadata": {},
   "outputs": [
    {
     "data": {
      "text/html": [
       "<div>\n",
       "<style scoped>\n",
       "    .dataframe tbody tr th:only-of-type {\n",
       "        vertical-align: middle;\n",
       "    }\n",
       "\n",
       "    .dataframe tbody tr th {\n",
       "        vertical-align: top;\n",
       "    }\n",
       "\n",
       "    .dataframe thead th {\n",
       "        text-align: right;\n",
       "    }\n",
       "</style>\n",
       "<table border=\"1\" class=\"dataframe\">\n",
       "  <thead>\n",
       "    <tr style=\"text-align: right;\">\n",
       "      <th></th>\n",
       "      <th>CRIM</th>\n",
       "      <th>ZN</th>\n",
       "      <th>INDUS</th>\n",
       "      <th>CHAS</th>\n",
       "      <th>NOX</th>\n",
       "      <th>RM</th>\n",
       "      <th>AGE</th>\n",
       "      <th>DIS</th>\n",
       "      <th>RAD</th>\n",
       "      <th>TAX</th>\n",
       "      <th>PTRATIO</th>\n",
       "      <th>B</th>\n",
       "      <th>LSTAT</th>\n",
       "      <th>PRICE</th>\n",
       "    </tr>\n",
       "  </thead>\n",
       "  <tbody>\n",
       "    <tr>\n",
       "      <th>0</th>\n",
       "      <td>0.00632</td>\n",
       "      <td>18.0</td>\n",
       "      <td>2.31</td>\n",
       "      <td>0.0</td>\n",
       "      <td>0.538</td>\n",
       "      <td>6.575</td>\n",
       "      <td>65.2</td>\n",
       "      <td>4.0900</td>\n",
       "      <td>1.0</td>\n",
       "      <td>296.0</td>\n",
       "      <td>15.3</td>\n",
       "      <td>396.90</td>\n",
       "      <td>4.98</td>\n",
       "      <td>24.0</td>\n",
       "    </tr>\n",
       "    <tr>\n",
       "      <th>1</th>\n",
       "      <td>0.02731</td>\n",
       "      <td>0.0</td>\n",
       "      <td>7.07</td>\n",
       "      <td>0.0</td>\n",
       "      <td>0.469</td>\n",
       "      <td>6.421</td>\n",
       "      <td>78.9</td>\n",
       "      <td>4.9671</td>\n",
       "      <td>2.0</td>\n",
       "      <td>242.0</td>\n",
       "      <td>17.8</td>\n",
       "      <td>396.90</td>\n",
       "      <td>9.14</td>\n",
       "      <td>21.6</td>\n",
       "    </tr>\n",
       "    <tr>\n",
       "      <th>2</th>\n",
       "      <td>0.02729</td>\n",
       "      <td>0.0</td>\n",
       "      <td>7.07</td>\n",
       "      <td>0.0</td>\n",
       "      <td>0.469</td>\n",
       "      <td>7.185</td>\n",
       "      <td>61.1</td>\n",
       "      <td>4.9671</td>\n",
       "      <td>2.0</td>\n",
       "      <td>242.0</td>\n",
       "      <td>17.8</td>\n",
       "      <td>392.83</td>\n",
       "      <td>4.03</td>\n",
       "      <td>34.7</td>\n",
       "    </tr>\n",
       "    <tr>\n",
       "      <th>3</th>\n",
       "      <td>0.03237</td>\n",
       "      <td>0.0</td>\n",
       "      <td>2.18</td>\n",
       "      <td>0.0</td>\n",
       "      <td>0.458</td>\n",
       "      <td>6.998</td>\n",
       "      <td>45.8</td>\n",
       "      <td>6.0622</td>\n",
       "      <td>3.0</td>\n",
       "      <td>222.0</td>\n",
       "      <td>18.7</td>\n",
       "      <td>394.63</td>\n",
       "      <td>2.94</td>\n",
       "      <td>33.4</td>\n",
       "    </tr>\n",
       "    <tr>\n",
       "      <th>4</th>\n",
       "      <td>0.06905</td>\n",
       "      <td>0.0</td>\n",
       "      <td>2.18</td>\n",
       "      <td>0.0</td>\n",
       "      <td>0.458</td>\n",
       "      <td>7.147</td>\n",
       "      <td>54.2</td>\n",
       "      <td>6.0622</td>\n",
       "      <td>3.0</td>\n",
       "      <td>222.0</td>\n",
       "      <td>18.7</td>\n",
       "      <td>396.90</td>\n",
       "      <td>5.33</td>\n",
       "      <td>36.2</td>\n",
       "    </tr>\n",
       "    <tr>\n",
       "      <th>...</th>\n",
       "      <td>...</td>\n",
       "      <td>...</td>\n",
       "      <td>...</td>\n",
       "      <td>...</td>\n",
       "      <td>...</td>\n",
       "      <td>...</td>\n",
       "      <td>...</td>\n",
       "      <td>...</td>\n",
       "      <td>...</td>\n",
       "      <td>...</td>\n",
       "      <td>...</td>\n",
       "      <td>...</td>\n",
       "      <td>...</td>\n",
       "      <td>...</td>\n",
       "    </tr>\n",
       "    <tr>\n",
       "      <th>501</th>\n",
       "      <td>0.06263</td>\n",
       "      <td>0.0</td>\n",
       "      <td>11.93</td>\n",
       "      <td>0.0</td>\n",
       "      <td>0.573</td>\n",
       "      <td>6.593</td>\n",
       "      <td>69.1</td>\n",
       "      <td>2.4786</td>\n",
       "      <td>1.0</td>\n",
       "      <td>273.0</td>\n",
       "      <td>21.0</td>\n",
       "      <td>391.99</td>\n",
       "      <td>9.67</td>\n",
       "      <td>22.4</td>\n",
       "    </tr>\n",
       "    <tr>\n",
       "      <th>502</th>\n",
       "      <td>0.04527</td>\n",
       "      <td>0.0</td>\n",
       "      <td>11.93</td>\n",
       "      <td>0.0</td>\n",
       "      <td>0.573</td>\n",
       "      <td>6.120</td>\n",
       "      <td>76.7</td>\n",
       "      <td>2.2875</td>\n",
       "      <td>1.0</td>\n",
       "      <td>273.0</td>\n",
       "      <td>21.0</td>\n",
       "      <td>396.90</td>\n",
       "      <td>9.08</td>\n",
       "      <td>20.6</td>\n",
       "    </tr>\n",
       "    <tr>\n",
       "      <th>503</th>\n",
       "      <td>0.06076</td>\n",
       "      <td>0.0</td>\n",
       "      <td>11.93</td>\n",
       "      <td>0.0</td>\n",
       "      <td>0.573</td>\n",
       "      <td>6.976</td>\n",
       "      <td>91.0</td>\n",
       "      <td>2.1675</td>\n",
       "      <td>1.0</td>\n",
       "      <td>273.0</td>\n",
       "      <td>21.0</td>\n",
       "      <td>396.90</td>\n",
       "      <td>5.64</td>\n",
       "      <td>23.9</td>\n",
       "    </tr>\n",
       "    <tr>\n",
       "      <th>504</th>\n",
       "      <td>0.10959</td>\n",
       "      <td>0.0</td>\n",
       "      <td>11.93</td>\n",
       "      <td>0.0</td>\n",
       "      <td>0.573</td>\n",
       "      <td>6.794</td>\n",
       "      <td>89.3</td>\n",
       "      <td>2.3889</td>\n",
       "      <td>1.0</td>\n",
       "      <td>273.0</td>\n",
       "      <td>21.0</td>\n",
       "      <td>393.45</td>\n",
       "      <td>6.48</td>\n",
       "      <td>22.0</td>\n",
       "    </tr>\n",
       "    <tr>\n",
       "      <th>505</th>\n",
       "      <td>0.04741</td>\n",
       "      <td>0.0</td>\n",
       "      <td>11.93</td>\n",
       "      <td>0.0</td>\n",
       "      <td>0.573</td>\n",
       "      <td>6.030</td>\n",
       "      <td>80.8</td>\n",
       "      <td>2.5050</td>\n",
       "      <td>1.0</td>\n",
       "      <td>273.0</td>\n",
       "      <td>21.0</td>\n",
       "      <td>396.90</td>\n",
       "      <td>7.88</td>\n",
       "      <td>11.9</td>\n",
       "    </tr>\n",
       "  </tbody>\n",
       "</table>\n",
       "<p>506 rows × 14 columns</p>\n",
       "</div>"
      ],
      "text/plain": [
       "        CRIM    ZN  INDUS  CHAS    NOX     RM   AGE     DIS  RAD    TAX  \\\n",
       "0    0.00632  18.0   2.31   0.0  0.538  6.575  65.2  4.0900  1.0  296.0   \n",
       "1    0.02731   0.0   7.07   0.0  0.469  6.421  78.9  4.9671  2.0  242.0   \n",
       "2    0.02729   0.0   7.07   0.0  0.469  7.185  61.1  4.9671  2.0  242.0   \n",
       "3    0.03237   0.0   2.18   0.0  0.458  6.998  45.8  6.0622  3.0  222.0   \n",
       "4    0.06905   0.0   2.18   0.0  0.458  7.147  54.2  6.0622  3.0  222.0   \n",
       "..       ...   ...    ...   ...    ...    ...   ...     ...  ...    ...   \n",
       "501  0.06263   0.0  11.93   0.0  0.573  6.593  69.1  2.4786  1.0  273.0   \n",
       "502  0.04527   0.0  11.93   0.0  0.573  6.120  76.7  2.2875  1.0  273.0   \n",
       "503  0.06076   0.0  11.93   0.0  0.573  6.976  91.0  2.1675  1.0  273.0   \n",
       "504  0.10959   0.0  11.93   0.0  0.573  6.794  89.3  2.3889  1.0  273.0   \n",
       "505  0.04741   0.0  11.93   0.0  0.573  6.030  80.8  2.5050  1.0  273.0   \n",
       "\n",
       "     PTRATIO       B  LSTAT  PRICE  \n",
       "0       15.3  396.90   4.98   24.0  \n",
       "1       17.8  396.90   9.14   21.6  \n",
       "2       17.8  392.83   4.03   34.7  \n",
       "3       18.7  394.63   2.94   33.4  \n",
       "4       18.7  396.90   5.33   36.2  \n",
       "..       ...     ...    ...    ...  \n",
       "501     21.0  391.99   9.67   22.4  \n",
       "502     21.0  396.90   9.08   20.6  \n",
       "503     21.0  396.90   5.64   23.9  \n",
       "504     21.0  393.45   6.48   22.0  \n",
       "505     21.0  396.90   7.88   11.9  \n",
       "\n",
       "[506 rows x 14 columns]"
      ]
     },
     "execution_count": 94,
     "metadata": {},
     "output_type": "execute_result"
    }
   ],
   "source": [
    "from sklearn.datasets import load_boston\n",
    "bostondict=load_boston()\n",
    "boston=pd.DataFrame(bostondict['data'],columns=bostondict['feature_names'])\n",
    "boston['PRICE']=bostondict['target']\n",
    "boston"
   ]
  },
  {
   "cell_type": "markdown",
   "metadata": {},
   "source": [
    "Let's create a function calculating the adjusted R-square. Make it compatible with the *scikit-learn* scorer method that can be used in cross-validation."
   ]
  },
  {
   "cell_type": "code",
   "execution_count": 95,
   "metadata": {},
   "outputs": [],
   "source": [
    "from sklearn.metrics import r2_score\n",
    "def R2_adj_scorer(estimator,X,y):\n",
    "    N,D=X.shape\n",
    "    estimator.fit(X,y)\n",
    "    r2=estimator.score(X,y)\n",
    "    r2_adj=1-(1-r2)*(N-1)/(N-D-1)\n",
    "    return r2_adj"
   ]
  },
  {
   "cell_type": "markdown",
   "metadata": {},
   "source": [
    "We can check the adjusted R-squared function by calculating for the full model containing all predictors."
   ]
  },
  {
   "cell_type": "code",
   "execution_count": 96,
   "metadata": {},
   "outputs": [
    {
     "data": {
      "text/plain": [
       "0.733789726372463"
      ]
     },
     "execution_count": 96,
     "metadata": {},
     "output_type": "execute_result"
    }
   ],
   "source": [
    "linregr=LinearRegression()\n",
    "R2_adj_scorer(linregr,boston.drop(['PRICE'],axis=1),boston['PRICE'])"
   ]
  },
  {
   "cell_type": "markdown",
   "metadata": {},
   "source": [
    "and compare the obtained value with the OLS result from the *statsmodels* library."
   ]
  },
  {
   "cell_type": "code",
   "execution_count": 97,
   "metadata": {},
   "outputs": [
    {
     "name": "stdout",
     "output_type": "stream",
     "text": [
      "                  Linear regression with all the predictors                   \n",
      "==============================================================================\n",
      "Dep. Variable:                  PRICE   R-squared:                       0.741\n",
      "Model:                            OLS   Adj. R-squared:                  0.734\n",
      "Method:                 Least Squares   F-statistic:                     108.1\n",
      "Date:                Mon, 15 Nov 2021   Prob (F-statistic):          6.72e-135\n",
      "Time:                        21:01:16   Log-Likelihood:                -1498.8\n",
      "No. Observations:                 506   AIC:                             3026.\n",
      "Df Residuals:                     492   BIC:                             3085.\n",
      "Df Model:                          13                                         \n",
      "Covariance Type:            nonrobust                                         \n",
      "==============================================================================\n",
      "                 coef    std err          t      P>|t|      [0.025      0.975]\n",
      "------------------------------------------------------------------------------\n",
      "Intercept     36.4595      5.103      7.144      0.000      26.432      46.487\n",
      "CRIM          -0.1080      0.033     -3.287      0.001      -0.173      -0.043\n",
      "ZN             0.0464      0.014      3.382      0.001       0.019       0.073\n",
      "INDUS          0.0206      0.061      0.334      0.738      -0.100       0.141\n",
      "CHAS           2.6867      0.862      3.118      0.002       0.994       4.380\n",
      "NOX          -17.7666      3.820     -4.651      0.000     -25.272     -10.262\n",
      "RM             3.8099      0.418      9.116      0.000       2.989       4.631\n",
      "AGE            0.0007      0.013      0.052      0.958      -0.025       0.027\n",
      "DIS           -1.4756      0.199     -7.398      0.000      -1.867      -1.084\n",
      "RAD            0.3060      0.066      4.613      0.000       0.176       0.436\n",
      "TAX           -0.0123      0.004     -3.280      0.001      -0.020      -0.005\n",
      "PTRATIO       -0.9527      0.131     -7.283      0.000      -1.210      -0.696\n",
      "B              0.0093      0.003      3.467      0.001       0.004       0.015\n",
      "LSTAT         -0.5248      0.051    -10.347      0.000      -0.624      -0.425\n",
      "==============================================================================\n",
      "Omnibus:                      178.041   Durbin-Watson:                   1.078\n",
      "Prob(Omnibus):                  0.000   Jarque-Bera (JB):              783.126\n",
      "Skew:                           1.521   Prob(JB):                    8.84e-171\n",
      "Kurtosis:                       8.281   Cond. No.                     1.51e+04\n",
      "==============================================================================\n",
      "\n",
      "Notes:\n",
      "[1] Standard Errors assume that the covariance matrix of the errors is correctly specified.\n",
      "[2] The condition number is large, 1.51e+04. This might indicate that there are\n",
      "strong multicollinearity or other numerical problems.\n",
      "\n",
      "RMSE = 4.745298181699631\n"
     ]
    }
   ],
   "source": [
    "model = ols(formula = 'PRICE ~ CRIM+ZN+INDUS+CHAS+NOX+RM+AGE+DIS+RAD+TAX+PTRATIO+B+LSTAT', data=boston).fit()\n",
    "print(model.summary(title='Linear regression with all the predictors'))\n",
    "print(\"\\nRMSE =\",np.sqrt(model.mse_resid))"
   ]
  },
  {
   "cell_type": "markdown",
   "metadata": {},
   "source": [
    "Let's calculate the adjusted R-square value of the models using all possible combinations of the features."
   ]
  },
  {
   "cell_type": "code",
   "execution_count": 98,
   "metadata": {},
   "outputs": [
    {
     "name": "stdout",
     "output_type": "stream",
     "text": [
      "For 0 variables the highest adj-R2 is = 0\n",
      "\n",
      "For 1 variables the lowest RMSE value is = 0.543241825954707\n",
      "\tfor variables ['LSTAT']\n",
      "\n",
      "For 2 variables the lowest RMSE value is = 0.6371244754701231\n",
      "\tfor variables ['RM', 'LSTAT']\n",
      "\n",
      "For 3 variables the lowest RMSE value is = 0.6767035874132712\n",
      "\tfor variables ['RM', 'PTRATIO', 'LSTAT']\n",
      "\n",
      "For 4 variables the lowest RMSE value is = 0.6878351084841281\n",
      "\tfor variables ['RM', 'DIS', 'PTRATIO', 'LSTAT']\n",
      "\n",
      "For 5 variables the lowest RMSE value is = 0.7051701822464959\n",
      "\tfor variables ['NOX', 'RM', 'DIS', 'PTRATIO', 'LSTAT']\n",
      "\n",
      "For 6 variables the lowest RMSE value is = 0.712356667191387\n",
      "\tfor variables ['CHAS', 'NOX', 'RM', 'DIS', 'PTRATIO', 'LSTAT']\n",
      "\n",
      "For 7 variables the lowest RMSE value is = 0.7182560407158509\n",
      "\tfor variables ['CHAS', 'NOX', 'RM', 'DIS', 'PTRATIO', 'B', 'LSTAT']\n",
      "\n",
      "For 8 variables the lowest RMSE value is = 0.7222071804094558\n",
      "\tfor variables ['ZN', 'CHAS', 'NOX', 'RM', 'DIS', 'PTRATIO', 'B', 'LSTAT']\n",
      "\n",
      "For 9 variables the lowest RMSE value is = 0.7252742616639567\n",
      "\tfor variables ['CRIM', 'CHAS', 'NOX', 'RM', 'DIS', 'RAD', 'PTRATIO', 'B', 'LSTAT']\n",
      "\n",
      "For 10 variables the lowest RMSE value is = 0.7299149280771853\n",
      "\tfor variables ['CRIM', 'ZN', 'NOX', 'RM', 'DIS', 'RAD', 'TAX', 'PTRATIO', 'B', 'LSTAT']\n",
      "\n",
      "For 11 variables the lowest RMSE value is = 0.7348057723274566\n",
      "\tfor variables ['CRIM', 'ZN', 'CHAS', 'NOX', 'RM', 'DIS', 'RAD', 'TAX', 'PTRATIO', 'B', 'LSTAT']\n",
      "\n",
      "For 12 variables the lowest RMSE value is = 0.7343282238499185\n",
      "\tfor variables ['CRIM', 'ZN', 'INDUS', 'CHAS', 'NOX', 'RM', 'DIS', 'RAD', 'TAX', 'PTRATIO', 'B', 'LSTAT']\n",
      "\n",
      "For 13 variables the lowest RMSE value is = 0.733789726372463\n",
      "\tfor variables ['CRIM', 'ZN', 'INDUS', 'CHAS', 'NOX', 'RM', 'AGE', 'DIS', 'RAD', 'TAX', 'PTRATIO', 'B', 'LSTAT']\n",
      "\n",
      "Total number of model fit: 8192\n"
     ]
    }
   ],
   "source": [
    "from itertools import combinations\n",
    "\n",
    "scorehist=[]\n",
    "N,_=boston.shape\n",
    "features=boston.drop(['PRICE'],axis=1).columns\n",
    "D=len(features)\n",
    "\n",
    "# Calculate the adjusted R-squared value for the model with zero features (mean of the output)\n",
    "y=boston['PRICE']\n",
    "y_mean=y.mean()*np.ones(N)\n",
    "r2=r2_score(y,y_mean)\n",
    "r2_adj=1-(1-r2)*(N-1)/(N-D-1) if 1-(1-r2)*(N-1)/(N-D-1)>=0 else 0 # if it is negative set to zero\n",
    "\n",
    "\n",
    "print('For %d variables '%0,end='')\n",
    "print(\"the highest adj-R2 is =\",r2_adj)\n",
    "print()\n",
    "scorehist.append([r2_adj])\n",
    "\n",
    "sum_models=1\n",
    "R2_maxvals=[r2_adj]\n",
    "\n",
    "for i in range(1,D+1):                    # loop for number of variables included\n",
    "    R2_max=0\n",
    "    index=0\n",
    "    scores=[]\n",
    "    for idx in combinations(range(D),i):  # loop for the combination of variables for a given number of features\n",
    "        sum_models+=1\n",
    "        score=R2_adj_scorer(linregr,boston[features[list(idx)]],y)\n",
    "        scores.append(score)              # Save all the scores\n",
    "        if score>R2_max:\n",
    "            R2_max=score\n",
    "            index=idx\n",
    "    R2_maxvals.append(R2_max)             # Save the maximum value\n",
    "    scorehist.append(scores)\n",
    "    print('For %d variables '%i,end='')\n",
    "    print(\"the lowest RMSE value is =\",R2_max)\n",
    "    print('\\tfor variables',list(boston.columns[list(index)]))\n",
    "    print()\n",
    "print(\"Total number of model fit:\",sum_models)"
   ]
  },
  {
   "cell_type": "markdown",
   "metadata": {},
   "source": [
    "As can be seen, the total number of model fitting is high, and with more available features, it is even much higher.\n",
    "That is because the total number of model fitting is always $2^D$. That is because we have:\n",
    "* $\\left[0, 0, 0, ..., 0, 0\\right]$ - no independent variable selected (prediction is the mean of the target)\n",
    "* $\\left[1, 0, 0, ..., 0, 0\\right]$ - first independent variable selected\n",
    "* $\\left[0, 1, 0, ..., 0, 0\\right]$ - second independent variable selected\n",
    "* $\\left[0, 0, 1, ..., 0, 0\\right]$ - third independent variable selected\n",
    "* ...\n",
    "* $\\left[0, 0, 0, ..., 0, 1\\right]$ - last independent variable selected\n",
    "* $\\left[1, 1, 0, ..., 0, 0\\right]$ - first two independent variables selected\n",
    "* $\\left[1, 0, 1, ..., 0, 0\\right]$ - first and third independent variables selected\n",
    "* ...\n",
    "* $\\left[0, 0, 0, ..., 1, 1\\right]$ - last two independent variables selected\n",
    "* $\\left[1, 1, 1, ..., 0, 0\\right]$ - first three independent variables selected\n",
    "* ...\n",
    "* $\\left[1, 1, 1, ..., 1, 1\\right]$ - all independent variables selected\n",
    "\n",
    "Let's create the scatter plot of the adjusted R-squared values as a function of the number of features used in the model."
   ]
  },
  {
   "cell_type": "code",
   "execution_count": 99,
   "metadata": {},
   "outputs": [
    {
     "data": {
      "image/png": "[encoded data removed]",
      "text/plain": [
       "<Figure size 432x288 with 1 Axes>"
      ]
     },
     "metadata": {
      "needs_background": "light"
     },
     "output_type": "display_data"
    }
   ],
   "source": [
    "scorevalues=[np.array([(nr_var,scorehist[nr_var][val_idx]) for val_idx in range(len(scorehist[nr_var]))]) \n",
    "             for nr_var in range(len(scorehist))]\n",
    "\n",
    "plt.scatter(np.vstack(scorevalues)[:,0],np.vstack(scorevalues)[:,1])\n",
    "plt.xlabel(\"Number of predictors\",fontsize=12)\n",
    "plt.ylabel(\"Model score (adj-$R^2$)\",fontsize=12)\n",
    "plt.title(\"Ajusted $R^2$ for all combinations of the features\",fontsize=14)\n",
    "plt.show()"
   ]
  },
  {
   "cell_type": "markdown",
   "metadata": {},
   "source": [
    "As can be observed, even if we are using an adjusted R-squared value, it still increases as the number of features increases."
   ]
  },
  {
   "cell_type": "markdown",
   "metadata": {},
   "source": [
    "## 7. Forward stepwise selection <a name=\"Forward\"></a>\n",
    "\n",
    "As we have seen, the problem with the best subset selection is that the number of model fitting is very high when the number of features is more than just a few. In order to decrease the number of model fitting drastically, the forward stepwise selection method is used. \n",
    "\n",
    "With this feature selection method, we start by fitting a model with none of the features (the model is the mean of the output). Then we use a simple linear regression model by using features one at a time and select the feature that provides the highest score. Next, we add a fit model by choosing a second feature from the available predictors not included in the model yet and choose the one which provides the highest score. We repeat this until the required number of features are selected."
   ]
  },
  {
   "cell_type": "code",
   "execution_count": 100,
   "metadata": {},
   "outputs": [
    {
     "name": "stdout",
     "output_type": "stream",
     "text": [
      "For 0 variables the highest R-squred value is = 0\n",
      "\n",
      "For 1 variables the highest R-squared value is = 0.543241825954707\n",
      "\tfor variables ['LSTAT']\n",
      "\n",
      "For 2 variables the highest R-squared value is = 0.6371244754701231\n",
      "\tfor variables ['LSTAT', 'RM']\n",
      "\n",
      "For 3 variables the highest R-squared value is = 0.6767035874132712\n",
      "\tfor variables ['LSTAT', 'RM', 'PTRATIO']\n",
      "\n",
      "For 4 variables the highest R-squared value is = 0.6878351084841281\n",
      "\tfor variables ['LSTAT', 'RM', 'PTRATIO', 'DIS']\n",
      "\n",
      "For 5 variables the highest R-squared value is = 0.7051701822464959\n",
      "\tfor variables ['LSTAT', 'RM', 'PTRATIO', 'DIS', 'NOX']\n",
      "\n",
      "For 6 variables the highest R-squared value is = 0.712356667191387\n",
      "\tfor variables ['LSTAT', 'RM', 'PTRATIO', 'DIS', 'NOX', 'CHAS']\n",
      "\n",
      "For 7 variables the highest R-squared value is = 0.7182560407158509\n",
      "\tfor variables ['LSTAT', 'RM', 'PTRATIO', 'DIS', 'NOX', 'CHAS', 'B']\n",
      "\n",
      "For 8 variables the highest R-squared value is = 0.7222071804094558\n",
      "\tfor variables ['LSTAT', 'RM', 'PTRATIO', 'DIS', 'NOX', 'CHAS', 'B', 'ZN']\n",
      "\n",
      "For 9 variables the highest R-squared value is = 0.7239045780042\n",
      "\tfor variables ['LSTAT', 'RM', 'PTRATIO', 'DIS', 'NOX', 'CHAS', 'B', 'ZN', 'CRIM']\n",
      "\n",
      "For 10 variables the highest R-squared value is = 0.7288066130386606\n",
      "\tfor variables ['LSTAT', 'RM', 'PTRATIO', 'DIS', 'NOX', 'CHAS', 'B', 'ZN', 'CRIM', 'RAD']\n",
      "\n",
      "For 11 variables the highest R-squared value is = 0.7348057723274566\n",
      "\tfor variables ['LSTAT', 'RM', 'PTRATIO', 'DIS', 'NOX', 'CHAS', 'B', 'ZN', 'CRIM', 'RAD', 'TAX']\n",
      "\n",
      "For 12 variables the highest R-squared value is = 0.7343282238499185\n",
      "\tfor variables ['LSTAT', 'RM', 'PTRATIO', 'DIS', 'NOX', 'CHAS', 'B', 'ZN', 'CRIM', 'RAD', 'TAX', 'INDUS']\n",
      "\n",
      "For 13 variables the highest R-squared value is = 0.7337897263724629\n",
      "\tfor variables ['LSTAT', 'RM', 'PTRATIO', 'DIS', 'NOX', 'CHAS', 'B', 'ZN', 'CRIM', 'RAD', 'TAX', 'INDUS', 'AGE']\n",
      "\n",
      "Total number of model fit: 92\n"
     ]
    }
   ],
   "source": [
    "# Calculate the adjusted R-squared value for the model with zero features (mean of the output)\n",
    "y=boston['PRICE']\n",
    "y_mean=y.mean()*np.ones(N)\n",
    "scorehist=[]\n",
    "\n",
    "r2=r2_score(y,y_mean)\n",
    "r2_adj=1-(1-r2)*(N-1)/(N-D-1) if 1-(1-r2)*(N-1)/(N-D-1)>=0 else 0 # if it is negative set to zero\n",
    "print('For %d variables '%0,end='')\n",
    "print(\"the highest R-squred value is =\",r2_adj)\n",
    "print()\n",
    "scorehist.append([r2_adj])\n",
    "\n",
    "sum_models=1\n",
    "R2_maxapprox=[r2_adj]\n",
    "varselected=[]\n",
    "for i in range(1,D+1):                    # loop for number of variables included\n",
    "    R2_max=0\n",
    "    idx=np.inf\n",
    "    scores=[]\n",
    "    var_notselected=[var for var in features if var not in varselected] \n",
    "    for var in var_notselected:           # loop for the variables not included yet in the selection\n",
    "        sum_models+=1\n",
    "        newvar=[]\n",
    "        newvar.append(var)\n",
    "        score=R2_adj_scorer(linregr,boston[varselected+newvar],y)\n",
    "        scores.append(score)              # Save all the scores\n",
    "        if score>R2_max:\n",
    "            R2_max=score\n",
    "            idx=list(features).index(var)\n",
    "    varselected.append(list(features)[idx])\n",
    "    R2_maxapprox.append(R2_max)\n",
    "    scorehist.append(scores)\n",
    "    print('For %d variables '%i,end='')\n",
    "    print(\"the highest R-squared value is =\",R2_max)\n",
    "    print('\\tfor variables',varselected)\n",
    "    print()\n",
    "print(\"Total number of model fit:\",sum_models)"
   ]
  },
  {
   "cell_type": "markdown",
   "metadata": {},
   "source": [
    "As can be seen, the number of the model fitting is only 92 compared to the 8192 observed with the best subset selection.<br>\n",
    "Let's create the scatter plot of the adjusted R-squared values on the top of the previous scatter plot for comparison."
   ]
  },
  {
   "cell_type": "code",
   "execution_count": 101,
   "metadata": {},
   "outputs": [
    {
     "data": {
      "image/png": "[encoded data removed]",
      "text/plain": [
       "<Figure size 432x288 with 1 Axes>"
      ]
     },
     "metadata": {
      "needs_background": "light"
     },
     "output_type": "display_data"
    }
   ],
   "source": [
    "scorevaluesfw=[np.array([(nr_var,scorehist[nr_var][val_idx]) for val_idx in range(len(scorehist[nr_var]))]) \n",
    "               for nr_var in range(len(scorehist))]\n",
    "\n",
    "plt.scatter(np.vstack(scorevalues)[:,0]-0.1,np.vstack(scorevalues)[:,1],s=15,label='best subset')\n",
    "plt.scatter(np.vstack(scorevaluesfw)[:,0]+0.1,np.vstack(scorevaluesfw)[:,1],c='r',s=15,label='forward stepwise')\n",
    "plt.xlabel(\"Number of predictors\",fontsize=12)\n",
    "plt.ylabel(\"Model score (adj $R^2$)\",fontsize=12)\n",
    "plt.title(\"Adj-$R^2$ vs. nr. of features (forward stepwise)\",fontsize=14)\n",
    "plt.arrow(x=4,y=0.16,dx=6,dy=0,head_width=0.1,head_length=1)\n",
    "plt.text(x=6, y=0.18, s=\"forward\",size=14)\n",
    "plt.legend()\n",
    "plt.show()"
   ]
  },
  {
   "cell_type": "markdown",
   "metadata": {},
   "source": [
    "Although it may seem from the scatter plot that the forward stepwise selection always finds the maximum adjusted R-squared values, this is not the case. Let's print out the maximum R-squared obtained from the best subset selection, respective the ones obtained from the forward stepwise selection."
   ]
  },
  {
   "cell_type": "code",
   "execution_count": 102,
   "metadata": {},
   "outputs": [
    {
     "data": {
      "text/html": [
       "<div>\n",
       "<style scoped>\n",
       "    .dataframe tbody tr th:only-of-type {\n",
       "        vertical-align: middle;\n",
       "    }\n",
       "\n",
       "    .dataframe tbody tr th {\n",
       "        vertical-align: top;\n",
       "    }\n",
       "\n",
       "    .dataframe thead th {\n",
       "        text-align: right;\n",
       "    }\n",
       "</style>\n",
       "<table border=\"1\" class=\"dataframe\">\n",
       "  <thead>\n",
       "    <tr style=\"text-align: right;\">\n",
       "      <th></th>\n",
       "      <th>Absolute maximum adj-R2</th>\n",
       "      <th>Forward stepwise adj-R2</th>\n",
       "    </tr>\n",
       "  </thead>\n",
       "  <tbody>\n",
       "    <tr>\n",
       "      <th>0</th>\n",
       "      <td>0.000000</td>\n",
       "      <td>0.000000</td>\n",
       "    </tr>\n",
       "    <tr>\n",
       "      <th>1</th>\n",
       "      <td>0.543242</td>\n",
       "      <td>0.543242</td>\n",
       "    </tr>\n",
       "    <tr>\n",
       "      <th>2</th>\n",
       "      <td>0.637124</td>\n",
       "      <td>0.637124</td>\n",
       "    </tr>\n",
       "    <tr>\n",
       "      <th>3</th>\n",
       "      <td>0.676704</td>\n",
       "      <td>0.676704</td>\n",
       "    </tr>\n",
       "    <tr>\n",
       "      <th>4</th>\n",
       "      <td>0.687835</td>\n",
       "      <td>0.687835</td>\n",
       "    </tr>\n",
       "    <tr>\n",
       "      <th>5</th>\n",
       "      <td>0.705170</td>\n",
       "      <td>0.705170</td>\n",
       "    </tr>\n",
       "    <tr>\n",
       "      <th>6</th>\n",
       "      <td>0.712357</td>\n",
       "      <td>0.712357</td>\n",
       "    </tr>\n",
       "    <tr>\n",
       "      <th>7</th>\n",
       "      <td>0.718256</td>\n",
       "      <td>0.718256</td>\n",
       "    </tr>\n",
       "    <tr>\n",
       "      <th>8</th>\n",
       "      <td>0.722207</td>\n",
       "      <td>0.722207</td>\n",
       "    </tr>\n",
       "    <tr>\n",
       "      <th>9</th>\n",
       "      <td>0.725274</td>\n",
       "      <td>0.723905</td>\n",
       "    </tr>\n",
       "    <tr>\n",
       "      <th>10</th>\n",
       "      <td>0.729915</td>\n",
       "      <td>0.728807</td>\n",
       "    </tr>\n",
       "    <tr>\n",
       "      <th>11</th>\n",
       "      <td>0.734806</td>\n",
       "      <td>0.734806</td>\n",
       "    </tr>\n",
       "    <tr>\n",
       "      <th>12</th>\n",
       "      <td>0.734328</td>\n",
       "      <td>0.734328</td>\n",
       "    </tr>\n",
       "    <tr>\n",
       "      <th>13</th>\n",
       "      <td>0.733790</td>\n",
       "      <td>0.733790</td>\n",
       "    </tr>\n",
       "  </tbody>\n",
       "</table>\n",
       "</div>"
      ],
      "text/plain": [
       "    Absolute maximum adj-R2  Forward stepwise adj-R2\n",
       "0                  0.000000                 0.000000\n",
       "1                  0.543242                 0.543242\n",
       "2                  0.637124                 0.637124\n",
       "3                  0.676704                 0.676704\n",
       "4                  0.687835                 0.687835\n",
       "5                  0.705170                 0.705170\n",
       "6                  0.712357                 0.712357\n",
       "7                  0.718256                 0.718256\n",
       "8                  0.722207                 0.722207\n",
       "9                  0.725274                 0.723905\n",
       "10                 0.729915                 0.728807\n",
       "11                 0.734806                 0.734806\n",
       "12                 0.734328                 0.734328\n",
       "13                 0.733790                 0.733790"
      ]
     },
     "execution_count": 102,
     "metadata": {},
     "output_type": "execute_result"
    }
   ],
   "source": [
    "pd.DataFrame(data=np.vstack((np.array(R2_maxvals),np.array(R2_maxapprox))).T,\\\n",
    "             columns=['Absolute maximum adj-R2','Forward stepwise adj-R2'])"
   ]
  },
  {
   "cell_type": "markdown",
   "metadata": {},
   "source": [
    "And indeed, they differ for index 9 and 10.\n",
    "\n",
    "However, the difference is minor, so we can state that the forward stepwise selection is a good approximation of the best subset selection method, while the required number of model fitting is much less."
   ]
  },
  {
   "cell_type": "markdown",
   "metadata": {},
   "source": [
    "## 8. Backward stepwise selection <a name=\"Backward\"></a>\n",
    "\n",
    "A similar approach is the backward stepwise selection method, but at this time, as the name suggests, you start from the full model with all the features selected. Then you drop features one by one, fitting a model each time with $D-1$ features, and chose the model with the highest adjusted R-squared value. Next, you drop predictors one by one again, fitting a model each time with $D-2$ features, and choose the model with the highest adjusted R-squared value. You keep doing this until you reach the predefined minimum number of features."
   ]
  },
  {
   "cell_type": "code",
   "execution_count": 103,
   "metadata": {},
   "outputs": [
    {
     "name": "stdout",
     "output_type": "stream",
     "text": [
      "For 13 variables the highest R2 value is = 0.7332475465891074\n",
      "\tfor variables ['CRIM', 'ZN', 'INDUS', 'CHAS', 'NOX', 'RM', 'AGE', 'DIS', 'RAD', 'TAX', 'PTRATIO', 'B', 'LSTAT']\n",
      "\n",
      "For 12 variables the highest R2 value is = 0.7343282238499185\n",
      "\tfor variables ['CRIM', 'ZN', 'INDUS', 'CHAS', 'NOX', 'RM', 'DIS', 'RAD', 'TAX', 'PTRATIO', 'B', 'LSTAT']\n",
      "\n",
      "For 11 variables the highest R2 value is = 0.7348057723274566\n",
      "\tfor variables ['CRIM', 'ZN', 'CHAS', 'NOX', 'RM', 'DIS', 'RAD', 'TAX', 'PTRATIO', 'B', 'LSTAT']\n",
      "\n",
      "For 10 variables the highest R2 value is = 0.7299149280771853\n",
      "\tfor variables ['CRIM', 'ZN', 'NOX', 'RM', 'DIS', 'RAD', 'TAX', 'PTRATIO', 'B', 'LSTAT']\n",
      "\n",
      "For 9 variables the highest R2 value is = 0.7243416235572313\n",
      "\tfor variables ['CRIM', 'NOX', 'RM', 'DIS', 'RAD', 'TAX', 'PTRATIO', 'B', 'LSTAT']\n",
      "\n",
      "For 8 variables the highest R2 value is = 0.7195335672031167\n",
      "\tfor variables ['CRIM', 'NOX', 'RM', 'DIS', 'RAD', 'PTRATIO', 'B', 'LSTAT']\n",
      "\n",
      "For 7 variables the highest R2 value is = 0.714786124980568\n",
      "\tfor variables ['NOX', 'RM', 'DIS', 'RAD', 'PTRATIO', 'B', 'LSTAT']\n",
      "\n",
      "For 6 variables the highest R2 value is = 0.7119672414204457\n",
      "\tfor variables ['NOX', 'RM', 'DIS', 'PTRATIO', 'B', 'LSTAT']\n",
      "\n",
      "For 5 variables the highest R2 value is = 0.7051701822464959\n",
      "\tfor variables ['NOX', 'RM', 'DIS', 'PTRATIO', 'LSTAT']\n",
      "\n",
      "For 4 variables the highest R2 value is = 0.6878351084841281\n",
      "\tfor variables ['RM', 'DIS', 'PTRATIO', 'LSTAT']\n",
      "\n",
      "For 3 variables the highest R2 value is = 0.6767035874132712\n",
      "\tfor variables ['RM', 'PTRATIO', 'LSTAT']\n",
      "\n",
      "For 2 variables the highest R2 value is = 0.6371244754701231\n",
      "\tfor variables ['RM', 'LSTAT']\n",
      "\n",
      "For 1 variables the highest R2 value is = 0.543241825954707\n",
      "\tfor variables ['LSTAT']\n",
      "\n",
      "For 0 variables the highest R-squred value is = 0\n",
      "\n",
      "Total number of model fit: 91\n"
     ]
    }
   ],
   "source": [
    "varselect=list(boston.columns[:-1])\n",
    "scorehist=[]\n",
    "\n",
    "score=R2_adj_scorer(linregr,boston[varselected+newvar],y)\n",
    "scorehist.append([score])\n",
    "print('For %d variables '%D,end='')\n",
    "print(\"the highest R2 value is =\",score)\n",
    "print('\\tfor variables',varselect)\n",
    "print()\n",
    "\n",
    "i=D-1\n",
    "sum_models=1\n",
    "R2_maxapprox=[score]\n",
    "while len(varselect)>1:                    # loop until the number of included variables is zero\n",
    "    R2_max=0\n",
    "    idx=np.inf\n",
    "    scores=[]\n",
    "    for var in varselect:                  # loop through the variables included in the selection\n",
    "        sum_models+=1\n",
    "        newvar=varselect.copy()\n",
    "        newvar.remove(var)\n",
    "        score=R2_adj_scorer(linregr,boston[newvar],y)\n",
    "        scores.append(score)              # Save all the scores\n",
    "        if score>R2_max:\n",
    "            R2_max=score\n",
    "            idx=list(boston.columns).index(var)\n",
    "    varselect.remove(list(boston.columns)[idx])\n",
    "    R2_maxapprox.append(R2_max)\n",
    "    print('For %d variables '%i,end='')\n",
    "    print(\"the highest R2 value is =\",R2_max)\n",
    "    print('\\tfor variables',varselect)\n",
    "    print()\n",
    "    scorehist.append(scores)\n",
    "    i-=1\n",
    "\n",
    "r2=r2_score(y,y_mean)\n",
    "r2_adj=1-(1-r2)*(N-1)/(N-D-1) if 1-(1-r2)*(N-1)/(N-D-1)>=0 else 0 # if it is negative set to zero\n",
    "scorehist.append([r2_adj])       \n",
    "R2_maxapprox.append(r2_adj)\n",
    "print('For %d variables '%0,end='')\n",
    "print(\"the highest R-squred value is =\",r2_adj)\n",
    "print()\n",
    "print(\"Total number of model fit:\",sum_models)"
   ]
  },
  {
   "cell_type": "markdown",
   "metadata": {},
   "source": [
    "As can be seen, the number of the model fitting is only 91 compared to the 8192 observed with the best subset selection.<br>\n",
    "Let's create the scatter plot of the adjusted R-squared values on the top of the scatter plot obtained for best subset selection for comparison."
   ]
  },
  {
   "cell_type": "code",
   "execution_count": 104,
   "metadata": {},
   "outputs": [
    {
     "data": {
      "image/png": "[encoded data removed]",
      "text/plain": [
       "<Figure size 432x288 with 1 Axes>"
      ]
     },
     "metadata": {
      "needs_background": "light"
     },
     "output_type": "display_data"
    }
   ],
   "source": [
    "scorevaluesbw=[np.array([(13-nr_var,scorehist[nr_var][val_idx]) for val_idx in range(len(scorehist[nr_var]))],dtype=object) \n",
    "               for nr_var in range(len(scorehist))]\n",
    "\n",
    "plt.scatter(np.vstack(scorevalues)[:,0]-0.1,np.vstack(scorevalues)[:,1],s=15,label='best subset')\n",
    "plt.scatter(np.vstack(scorevaluesbw)[:,0]+0.1,np.vstack(scorevaluesbw)[:,1],c='r',s=15,label='backward stepwise')\n",
    "plt.xlabel(\"Number of predictors\")\n",
    "plt.ylabel(\"Model score (adj $R^2$)\",fontsize=12)\n",
    "plt.title(\"Adj-$R^2$ vs. nr. of features (backward stepwise)\",fontsize=14)\n",
    "plt.arrow(x=11,y=0.16,dx=-6,dy=0,head_width=0.1,head_length=1)\n",
    "plt.text(x=6, y=0.18, s=\"backward\",size=14)\n",
    "plt.legend()\n",
    "plt.show()"
   ]
  },
  {
   "cell_type": "markdown",
   "metadata": {},
   "source": [
    "From the scatter plot, it may seem that backward stepwise selection finds the maximum R-squared value, but this is not the case. We can check this by listing the R-squared values from the best subset selection together with the maximum R-squared values found by backward stepwise selection."
   ]
  },
  {
   "cell_type": "code",
   "execution_count": 105,
   "metadata": {},
   "outputs": [
    {
     "data": {
      "text/html": [
       "<div>\n",
       "<style scoped>\n",
       "    .dataframe tbody tr th:only-of-type {\n",
       "        vertical-align: middle;\n",
       "    }\n",
       "\n",
       "    .dataframe tbody tr th {\n",
       "        vertical-align: top;\n",
       "    }\n",
       "\n",
       "    .dataframe thead th {\n",
       "        text-align: right;\n",
       "    }\n",
       "</style>\n",
       "<table border=\"1\" class=\"dataframe\">\n",
       "  <thead>\n",
       "    <tr style=\"text-align: right;\">\n",
       "      <th></th>\n",
       "      <th>Absolute maximum adj-R2</th>\n",
       "      <th>Backward stepwise adj-R2</th>\n",
       "    </tr>\n",
       "  </thead>\n",
       "  <tbody>\n",
       "    <tr>\n",
       "      <th>0</th>\n",
       "      <td>0.000000</td>\n",
       "      <td>0.000000</td>\n",
       "    </tr>\n",
       "    <tr>\n",
       "      <th>1</th>\n",
       "      <td>0.543242</td>\n",
       "      <td>0.543242</td>\n",
       "    </tr>\n",
       "    <tr>\n",
       "      <th>2</th>\n",
       "      <td>0.637124</td>\n",
       "      <td>0.637124</td>\n",
       "    </tr>\n",
       "    <tr>\n",
       "      <th>3</th>\n",
       "      <td>0.676704</td>\n",
       "      <td>0.676704</td>\n",
       "    </tr>\n",
       "    <tr>\n",
       "      <th>4</th>\n",
       "      <td>0.687835</td>\n",
       "      <td>0.687835</td>\n",
       "    </tr>\n",
       "    <tr>\n",
       "      <th>5</th>\n",
       "      <td>0.705170</td>\n",
       "      <td>0.705170</td>\n",
       "    </tr>\n",
       "    <tr>\n",
       "      <th>6</th>\n",
       "      <td>0.712357</td>\n",
       "      <td>0.711967</td>\n",
       "    </tr>\n",
       "    <tr>\n",
       "      <th>7</th>\n",
       "      <td>0.718256</td>\n",
       "      <td>0.714786</td>\n",
       "    </tr>\n",
       "    <tr>\n",
       "      <th>8</th>\n",
       "      <td>0.722207</td>\n",
       "      <td>0.719534</td>\n",
       "    </tr>\n",
       "    <tr>\n",
       "      <th>9</th>\n",
       "      <td>0.725274</td>\n",
       "      <td>0.724342</td>\n",
       "    </tr>\n",
       "    <tr>\n",
       "      <th>10</th>\n",
       "      <td>0.729915</td>\n",
       "      <td>0.729915</td>\n",
       "    </tr>\n",
       "    <tr>\n",
       "      <th>11</th>\n",
       "      <td>0.734806</td>\n",
       "      <td>0.734806</td>\n",
       "    </tr>\n",
       "    <tr>\n",
       "      <th>12</th>\n",
       "      <td>0.734328</td>\n",
       "      <td>0.734328</td>\n",
       "    </tr>\n",
       "    <tr>\n",
       "      <th>13</th>\n",
       "      <td>0.733790</td>\n",
       "      <td>0.733248</td>\n",
       "    </tr>\n",
       "  </tbody>\n",
       "</table>\n",
       "</div>"
      ],
      "text/plain": [
       "    Absolute maximum adj-R2  Backward stepwise adj-R2\n",
       "0                  0.000000                  0.000000\n",
       "1                  0.543242                  0.543242\n",
       "2                  0.637124                  0.637124\n",
       "3                  0.676704                  0.676704\n",
       "4                  0.687835                  0.687835\n",
       "5                  0.705170                  0.705170\n",
       "6                  0.712357                  0.711967\n",
       "7                  0.718256                  0.714786\n",
       "8                  0.722207                  0.719534\n",
       "9                  0.725274                  0.724342\n",
       "10                 0.729915                  0.729915\n",
       "11                 0.734806                  0.734806\n",
       "12                 0.734328                  0.734328\n",
       "13                 0.733790                  0.733248"
      ]
     },
     "execution_count": 105,
     "metadata": {},
     "output_type": "execute_result"
    }
   ],
   "source": [
    "pd.DataFrame(data=np.vstack((np.array(R2_maxvals),np.array(R2_maxapprox)[::-1])).T,\\\n",
    "             columns=['Absolute maximum adj-R2','Backward stepwise adj-R2'])"
   ]
  },
  {
   "cell_type": "markdown",
   "metadata": {},
   "source": [
    "And indeed they differ for 6,7,8,9 number of variables. Nevertheless, the difference is minor.\n",
    "\n",
    "You may also observe that the forward and backward stepwise selection methods may provide different results. For example, for six features we have:\n",
    "- forward stepwise selection 'LSTAT', 'RM', 'PTRATIO', 'DIS', 'NOX', 'CHAS'\n",
    "- backward stepwise selection: 'NOX', 'RM', 'DIS', 'PTRATIO', 'B', 'LSTAT'"
   ]
  },
  {
   "cell_type": "markdown",
   "metadata": {},
   "source": [
    "## 9. Stepwise selection with cross-validation <a name=\"StepwiseCV\"></a>\n",
    "\n",
    "Slightly similar results can be obtained using the *scikit-learn* library. However, the *scikit-learn* library will choose the best feature set based on the cross-validation result and not on the maximum value of the adjusted R-squared with a model fitted on the whole data. Moreover, the *scikit-learn* library requires to provide in advance the number of features to be selected (either as an absolute number or as a percentile of the total predictors)."
   ]
  },
  {
   "cell_type": "code",
   "execution_count": 106,
   "metadata": {},
   "outputs": [
    {
     "name": "stdout",
     "output_type": "stream",
     "text": [
      "For 1 variables the selected features are ['RM']:\n",
      "For 2 variables the selected features are ['RM', 'LSTAT']:\n",
      "For 3 variables the selected features are ['RM', 'AGE', 'LSTAT']:\n",
      "For 4 variables the selected features are ['RM', 'AGE', 'B', 'LSTAT']:\n",
      "For 5 variables the selected features are ['RM', 'AGE', 'TAX', 'B', 'LSTAT']:\n",
      "For 6 variables the selected features are ['NOX', 'RM', 'AGE', 'TAX', 'B', 'LSTAT']:\n",
      "For 7 variables the selected features are ['NOX', 'RM', 'AGE', 'RAD', 'TAX', 'B', 'LSTAT']:\n",
      "For 8 variables the selected features are ['CRIM', 'NOX', 'RM', 'AGE', 'RAD', 'TAX', 'B', 'LSTAT']:\n",
      "For 9 variables the selected features are ['CRIM', 'CHAS', 'NOX', 'RM', 'AGE', 'RAD', 'TAX', 'B', 'LSTAT']:\n",
      "For 10 variables the selected features are ['CRIM', 'CHAS', 'NOX', 'RM', 'AGE', 'DIS', 'RAD', 'TAX', 'B', 'LSTAT']:\n",
      "For 11 variables the selected features are ['CRIM', 'CHAS', 'NOX', 'RM', 'AGE', 'DIS', 'RAD', 'TAX', 'PTRATIO', 'B', 'LSTAT']:\n",
      "For 12 variables the selected features are ['CRIM', 'INDUS', 'CHAS', 'NOX', 'RM', 'AGE', 'DIS', 'RAD', 'TAX', 'PTRATIO', 'B', 'LSTAT']:\n"
     ]
    }
   ],
   "source": [
    "from sklearn.feature_selection import SequentialFeatureSelector\n",
    "\n",
    "for i in range(1,boston.shape[1]-1):\n",
    "    sfs = SequentialFeatureSelector(linregr,n_features_to_select=i,scoring=R2_adj_scorer,cv=5,direction='forward')\n",
    "    sfs.fit(boston[features],boston['PRICE'])\n",
    "    print('For %s variables the selected features are %s:'%(i,list(features[sfs.support_])))"
   ]
  },
  {
   "cell_type": "markdown",
   "metadata": {},
   "source": [
    "You may notice that even when only one feature is selected, the *scikit-learn* library chooses a different predictor. The reason is that while 'LSTAT' provides the maximum adjusted R-squared value with a model fitted on the whole dataset, that does not produce a better generalization score than using the 'RM' feature. Let's check this with K-fold cross-validation. "
   ]
  },
  {
   "cell_type": "code",
   "execution_count": 107,
   "metadata": {},
   "outputs": [
    {
     "name": "stdout",
     "output_type": "stream",
     "text": [
      "Cross validated mean adjusted R-squared for 'LSTAT' is: 0.48925727732555446\n",
      "Cross validated mean adjusted R-squared for 'RM' is: 0.4901464813714897\n"
     ]
    }
   ],
   "source": [
    "from sklearn.model_selection import cross_validate\n",
    "res=cross_validate(estimator=linregr,X=boston[['LSTAT']],y=boston['PRICE'],scoring={'R2-adj':R2_adj_scorer},cv=5)\n",
    "print(\"Cross validated mean adjusted R-squared for 'LSTAT' is:\",res['test_R2-adj'].mean())\n",
    "res=cross_validate(estimator=linregr,X=boston[['RM']],y=boston['PRICE'],scoring={'R2-adj':R2_adj_scorer},cv=5)\n",
    "print(\"Cross validated mean adjusted R-squared for 'RM' is:\",res['test_R2-adj'].mean())"
   ]
  },
  {
   "cell_type": "markdown",
   "metadata": {},
   "source": [
    "As can be seen, with K-fold cross-validation, the mean of the adjusted R-squared value is slightly better for 'RM' than for 'LSTAT'.\n",
    "\n",
    "Similarly we can use *scikit-learn* for backward stepwise selection."
   ]
  },
  {
   "cell_type": "code",
   "execution_count": 108,
   "metadata": {},
   "outputs": [
    {
     "name": "stdout",
     "output_type": "stream",
     "text": [
      "For 12 variables the selected features are ['CRIM', 'INDUS', 'CHAS', 'NOX', 'RM', 'AGE', 'DIS', 'RAD', 'TAX', 'PTRATIO', 'B', 'LSTAT']:\n",
      "For 11 variables the selected features are ['CRIM', 'CHAS', 'NOX', 'RM', 'AGE', 'DIS', 'RAD', 'TAX', 'PTRATIO', 'B', 'LSTAT']:\n",
      "For 10 variables the selected features are ['CRIM', 'CHAS', 'NOX', 'RM', 'AGE', 'DIS', 'RAD', 'TAX', 'B', 'LSTAT']:\n",
      "For 9 variables the selected features are ['CRIM', 'CHAS', 'NOX', 'RM', 'AGE', 'RAD', 'TAX', 'B', 'LSTAT']:\n",
      "For 8 variables the selected features are ['CRIM', 'NOX', 'RM', 'AGE', 'RAD', 'TAX', 'B', 'LSTAT']:\n",
      "For 7 variables the selected features are ['CRIM', 'NOX', 'RM', 'AGE', 'RAD', 'TAX', 'LSTAT']:\n",
      "For 6 variables the selected features are ['CRIM', 'NOX', 'RM', 'RAD', 'TAX', 'LSTAT']:\n",
      "For 5 variables the selected features are ['CRIM', 'NOX', 'RM', 'RAD', 'LSTAT']:\n",
      "For 4 variables the selected features are ['NOX', 'RM', 'RAD', 'LSTAT']:\n",
      "For 3 variables the selected features are ['NOX', 'RM', 'LSTAT']:\n",
      "For 2 variables the selected features are ['RM', 'LSTAT']:\n",
      "For 1 variables the selected features are ['RM']:\n"
     ]
    }
   ],
   "source": [
    "from sklearn.feature_selection import SequentialFeatureSelector\n",
    "SequentialFeatureSelector(estimator=LinearRegression())\n",
    "\n",
    "for i in range(boston.shape[1]-2,0,-1):\n",
    "    sfs = SequentialFeatureSelector(linregr,n_features_to_select=i,scoring=R2_adj_scorer,direction='backward')\n",
    "    sfs.fit(boston[features],boston['PRICE'])\n",
    "    print('For %s variables the selected features are %s:'%(i,list(features[sfs.support_])))"
   ]
  },
  {
   "cell_type": "markdown",
   "metadata": {},
   "source": [
    "## 10. Model selection with information criteria <a name=\"InfoCriteria\"></a>\n",
    "\n",
    "Even though we used adjusted R-square as a scoring function, which has some penalization on the number of features, we still ended up using all the predictors.\n",
    "\n",
    "Another option is to use the Akaike Information Criteria (AIC) or Bayesian Information Criteria (BIC) as a model selection criteria. Based on the formula derived in the book, let's create a scorer for AIC."
   ]
  },
  {
   "cell_type": "code",
   "execution_count": 109,
   "metadata": {},
   "outputs": [],
   "source": [
    "def AIC_scorer(estimator,X,y):\n",
    "    N,D=X.shape\n",
    "    estimator.fit(X,y)\n",
    "    SSE=N*mean_squared_error(y,estimator.predict(X))               # Error Sum of Squares\n",
    "    llf=-N/2*np.log(2*np.pi)-N/2*np.log(SSE/N)-N/2                 # log-likelihood function\n",
    "    return 2*(D+1)-2*llf                                           # AIC (assuming that X is an input matrix wo. const. term)"
   ]
  },
  {
   "cell_type": "markdown",
   "metadata": {},
   "source": [
    "Similarly, we can create a scoring function based on the BIC using the formula derived in the book."
   ]
  },
  {
   "cell_type": "code",
   "execution_count": 110,
   "metadata": {},
   "outputs": [],
   "source": [
    "def BIC_scorer(estimator,X,y):\n",
    "    N,D=X.shape\n",
    "    estimator.fit(X,y)\n",
    "    SSE=N*mean_squared_error(y,estimator.predict(X))               # Error Sum of Squares\n",
    "    llf=-N/2*np.log(2*np.pi)-N/2*np.log(SSE/N)-N/2                 # log-likelihood function\n",
    "    return np.log(N)*(D+1)-2*llf                                   # BIC (assuming that X is an input matrix wo. const. term)"
   ]
  },
  {
   "cell_type": "markdown",
   "metadata": {},
   "source": [
    "Let's calculate the AIC for the Boston House-price dataset when all the predictors are used in the OLS."
   ]
  },
  {
   "cell_type": "code",
   "execution_count": 111,
   "metadata": {},
   "outputs": [
    {
     "data": {
      "text/plain": [
       "3025.608594075548"
      ]
     },
     "execution_count": 111,
     "metadata": {},
     "output_type": "execute_result"
    }
   ],
   "source": [
    "AIC_scorer(linregr,boston[features],boston['PRICE'])"
   ]
  },
  {
   "cell_type": "markdown",
   "metadata": {},
   "source": [
    "And compare with the AIC value provided by the *statsmodels* library as a check."
   ]
  },
  {
   "cell_type": "code",
   "execution_count": 112,
   "metadata": {},
   "outputs": [
    {
     "data": {
      "text/plain": [
       "3025.608594075548"
      ]
     },
     "execution_count": 112,
     "metadata": {},
     "output_type": "execute_result"
    }
   ],
   "source": [
    "model.aic"
   ]
  },
  {
   "cell_type": "markdown",
   "metadata": {},
   "source": [
    "Similarly, we can calculate the BIC value of the OLS for the Boston House-price dataset with all the predictors included."
   ]
  },
  {
   "cell_type": "code",
   "execution_count": 113,
   "metadata": {},
   "outputs": [
    {
     "data": {
      "text/plain": [
       "3084.7801074455724"
      ]
     },
     "execution_count": 113,
     "metadata": {},
     "output_type": "execute_result"
    }
   ],
   "source": [
    "BIC_scorer(linregr,boston[features],boston['PRICE'])"
   ]
  },
  {
   "cell_type": "markdown",
   "metadata": {},
   "source": [
    "And compare the result with the BIC value provided by the *statsmodels* library."
   ]
  },
  {
   "cell_type": "code",
   "execution_count": 114,
   "metadata": {},
   "outputs": [
    {
     "data": {
      "text/plain": [
       "3084.7801074455724"
      ]
     },
     "execution_count": 114,
     "metadata": {},
     "output_type": "execute_result"
    }
   ],
   "source": [
    "model.bic"
   ]
  },
  {
   "cell_type": "markdown",
   "metadata": {},
   "source": [
    "Now,  let's create a forward stepwise selection function. Using AIC or BIC as a scoring function, the model for which the minimum score is achieved is the best among all. \n",
    "\n",
    "For each number of features, we may also print out the selected features. We may also plot the minimum value of the information criteria for each number of predictors."
   ]
  },
  {
   "cell_type": "code",
   "execution_count": 115,
   "metadata": {},
   "outputs": [],
   "source": [
    "def forward(estimator,X,y,scorer):\n",
    "    features=X.columns\n",
    "    D=len(features)\n",
    "    score_minapprox=[]\n",
    "    varselected=[]\n",
    "    for i in range(1,D+1):                    # loop for number of variables included\n",
    "        score_min=np.inf\n",
    "        idx=np.inf\n",
    "        var_notselected=[var for var in features if var not in varselected] \n",
    "        for var in var_notselected:           # loop for the variables not included yet in the selection\n",
    "            newvar=[]\n",
    "            newvar.append(var)\n",
    "            score=scorer(estimator,X[varselected+newvar],y)\n",
    "            if score<score_min:\n",
    "                score_min=score\n",
    "                idx=list(features).index(var)\n",
    "        varselected.append(list(features)[idx])\n",
    "        print(i,varselected)\n",
    "        score_minapprox.append(score_min)\n",
    "    return score_minapprox,varselected"
   ]
  },
  {
   "cell_type": "markdown",
   "metadata": {},
   "source": [
    "As an example, let's take the Boston House-price dataset using the AIC score for feature selection."
   ]
  },
  {
   "cell_type": "code",
   "execution_count": 116,
   "metadata": {},
   "outputs": [
    {
     "name": "stdout",
     "output_type": "stream",
     "text": [
      "1 ['LSTAT']\n",
      "2 ['LSTAT', 'RM']\n",
      "3 ['LSTAT', 'RM', 'PTRATIO']\n",
      "4 ['LSTAT', 'RM', 'PTRATIO', 'DIS']\n",
      "5 ['LSTAT', 'RM', 'PTRATIO', 'DIS', 'NOX']\n",
      "6 ['LSTAT', 'RM', 'PTRATIO', 'DIS', 'NOX', 'CHAS']\n",
      "7 ['LSTAT', 'RM', 'PTRATIO', 'DIS', 'NOX', 'CHAS', 'B']\n",
      "8 ['LSTAT', 'RM', 'PTRATIO', 'DIS', 'NOX', 'CHAS', 'B', 'ZN']\n",
      "9 ['LSTAT', 'RM', 'PTRATIO', 'DIS', 'NOX', 'CHAS', 'B', 'ZN', 'CRIM']\n",
      "10 ['LSTAT', 'RM', 'PTRATIO', 'DIS', 'NOX', 'CHAS', 'B', 'ZN', 'CRIM', 'RAD']\n",
      "11 ['LSTAT', 'RM', 'PTRATIO', 'DIS', 'NOX', 'CHAS', 'B', 'ZN', 'CRIM', 'RAD', 'TAX']\n",
      "12 ['LSTAT', 'RM', 'PTRATIO', 'DIS', 'NOX', 'CHAS', 'B', 'ZN', 'CRIM', 'RAD', 'TAX', 'INDUS']\n",
      "13 ['LSTAT', 'RM', 'PTRATIO', 'DIS', 'NOX', 'CHAS', 'B', 'ZN', 'CRIM', 'RAD', 'TAX', 'INDUS', 'AGE']\n"
     ]
    },
    {
     "data": {
      "image/png": "[encoded data removed]",
      "text/plain": [
       "<Figure size 432x288 with 1 Axes>"
      ]
     },
     "metadata": {
      "needs_background": "light"
     },
     "output_type": "display_data"
    }
   ],
   "source": [
    "from sklearn.model_selection import train_test_split\n",
    "features=boston.drop(['PRICE'],axis=1).columns\n",
    "#X,Xt,y,yt=train_test_split(boston[features],boston[['PRICE']],test_size=0.2)\n",
    "res,_=forward(estimator=linregr,X=boston[features],y=boston[['PRICE']],scorer=AIC_scorer)\n",
    "plt.plot(np.arange(1,len(res)+1),res)\n",
    "idx=np.argmin(res)\n",
    "plt.scatter(idx+1,res[idx],c='r')\n",
    "plt.show()"
   ]
  },
  {
   "cell_type": "markdown",
   "metadata": {},
   "source": [
    "As can be seen, the minimum of the AIC is with a model with 11 features.<br>\n",
    "The same result is obtained using the BIC."
   ]
  },
  {
   "cell_type": "code",
   "execution_count": 117,
   "metadata": {},
   "outputs": [
    {
     "name": "stdout",
     "output_type": "stream",
     "text": [
      "1 ['LSTAT']\n",
      "2 ['LSTAT', 'RM']\n",
      "3 ['LSTAT', 'RM', 'PTRATIO']\n",
      "4 ['LSTAT', 'RM', 'PTRATIO', 'DIS']\n",
      "5 ['LSTAT', 'RM', 'PTRATIO', 'DIS', 'NOX']\n",
      "6 ['LSTAT', 'RM', 'PTRATIO', 'DIS', 'NOX', 'CHAS']\n",
      "7 ['LSTAT', 'RM', 'PTRATIO', 'DIS', 'NOX', 'CHAS', 'B']\n",
      "8 ['LSTAT', 'RM', 'PTRATIO', 'DIS', 'NOX', 'CHAS', 'B', 'ZN']\n",
      "9 ['LSTAT', 'RM', 'PTRATIO', 'DIS', 'NOX', 'CHAS', 'B', 'ZN', 'CRIM']\n",
      "10 ['LSTAT', 'RM', 'PTRATIO', 'DIS', 'NOX', 'CHAS', 'B', 'ZN', 'CRIM', 'RAD']\n",
      "11 ['LSTAT', 'RM', 'PTRATIO', 'DIS', 'NOX', 'CHAS', 'B', 'ZN', 'CRIM', 'RAD', 'TAX']\n",
      "12 ['LSTAT', 'RM', 'PTRATIO', 'DIS', 'NOX', 'CHAS', 'B', 'ZN', 'CRIM', 'RAD', 'TAX', 'INDUS']\n",
      "13 ['LSTAT', 'RM', 'PTRATIO', 'DIS', 'NOX', 'CHAS', 'B', 'ZN', 'CRIM', 'RAD', 'TAX', 'INDUS', 'AGE']\n"
     ]
    },
    {
     "data": {
      "image/png": "[encoded data removed]",
      "text/plain": [
       "<Figure size 432x288 with 1 Axes>"
      ]
     },
     "metadata": {
      "needs_background": "light"
     },
     "output_type": "display_data"
    }
   ],
   "source": [
    "res,_=forward(estimator=linregr,X=boston[features],y=boston[['PRICE']],scorer=BIC_scorer)\n",
    "plt.plot(np.arange(1,len(res)+1),res)\n",
    "idx=np.argmin(res)\n",
    "plt.scatter(idx+1,res[idx],c='r')\n",
    "plt.show()"
   ]
  },
  {
   "cell_type": "markdown",
   "metadata": {},
   "source": [
    "So far, so good.\n",
    "\n",
    "If you remember, in Lab exercise 3.11, we realized that a polynomial regression of degree two with interaction term using only two from the original predictors provided a better model than the linear model with all the features included. Now, let's see what would be the outcome if we were to select from all possible combinations of the polynomial regression features."
   ]
  },
  {
   "cell_type": "code",
   "execution_count": 118,
   "metadata": {},
   "outputs": [
    {
     "data": {
      "text/plain": [
       "(506, 104)"
      ]
     },
     "execution_count": 118,
     "metadata": {},
     "output_type": "execute_result"
    }
   ],
   "source": [
    "from sklearn.preprocessing import PolynomialFeatures\n",
    "poly = PolynomialFeatures(degree=2,include_bias=False)\n",
    "\n",
    "Xp=poly.fit_transform(boston.drop(['PRICE'],axis=1))\n",
    "Xp.shape"
   ]
  },
  {
   "cell_type": "markdown",
   "metadata": {},
   "source": [
    "As can be seen, the number of features is 104 instead of the 13 original features. To avoid overfitting, we need to select only a small subset of these features. With the forward stepwise selection, let's check the minimum AIC scores for each number of predictors (from 1 to 104)."
   ]
  },
  {
   "cell_type": "code",
   "execution_count": 119,
   "metadata": {},
   "outputs": [
    {
     "name": "stdout",
     "output_type": "stream",
     "text": [
      "1 ['PTRATIO LSTAT']\n",
      "2 ['PTRATIO LSTAT', 'RM^2']\n",
      "3 ['PTRATIO LSTAT', 'RM^2', 'RM']\n",
      "4 ['PTRATIO LSTAT', 'RM^2', 'RM', 'LSTAT^2']\n",
      "5 ['PTRATIO LSTAT', 'RM^2', 'RM', 'LSTAT^2', 'NOX LSTAT']\n",
      "6 ['PTRATIO LSTAT', 'RM^2', 'RM', 'LSTAT^2', 'NOX LSTAT', 'DIS PTRATIO']\n",
      "7 ['PTRATIO LSTAT', 'RM^2', 'RM', 'LSTAT^2', 'NOX LSTAT', 'DIS PTRATIO', 'CRIM CHAS']\n",
      "8 ['PTRATIO LSTAT', 'RM^2', 'RM', 'LSTAT^2', 'NOX LSTAT', 'DIS PTRATIO', 'CRIM CHAS', 'CRIM LSTAT']\n",
      "9 ['PTRATIO LSTAT', 'RM^2', 'RM', 'LSTAT^2', 'NOX LSTAT', 'DIS PTRATIO', 'CRIM CHAS', 'CRIM LSTAT', 'RAD B']\n",
      "10 ['PTRATIO LSTAT', 'RM^2', 'RM', 'LSTAT^2', 'NOX LSTAT', 'DIS PTRATIO', 'CRIM CHAS', 'CRIM LSTAT', 'RAD B', 'RM TAX']\n",
      "11 ['PTRATIO LSTAT', 'RM^2', 'RM', 'LSTAT^2', 'NOX LSTAT', 'DIS PTRATIO', 'CRIM CHAS', 'CRIM LSTAT', 'RAD B', 'RM TAX', 'TAX']\n",
      "12 ['PTRATIO LSTAT', 'RM^2', 'RM', 'LSTAT^2', 'NOX LSTAT', 'DIS PTRATIO', 'CRIM CHAS', 'CRIM LSTAT', 'RAD B', 'RM TAX', 'TAX', 'TAX LSTAT']\n",
      "13 ['PTRATIO LSTAT', 'RM^2', 'RM', 'LSTAT^2', 'NOX LSTAT', 'DIS PTRATIO', 'CRIM CHAS', 'CRIM LSTAT', 'RAD B', 'RM TAX', 'TAX', 'TAX LSTAT', 'AGE B']\n",
      "14 ['PTRATIO LSTAT', 'RM^2', 'RM', 'LSTAT^2', 'NOX LSTAT', 'DIS PTRATIO', 'CRIM CHAS', 'CRIM LSTAT', 'RAD B', 'RM TAX', 'TAX', 'TAX LSTAT', 'AGE B', 'DIS^2']\n",
      "15 ['PTRATIO LSTAT', 'RM^2', 'RM', 'LSTAT^2', 'NOX LSTAT', 'DIS PTRATIO', 'CRIM CHAS', 'CRIM LSTAT', 'RAD B', 'RM TAX', 'TAX', 'TAX LSTAT', 'AGE B', 'DIS^2', 'DIS TAX']\n",
      "16 ['PTRATIO LSTAT', 'RM^2', 'RM', 'LSTAT^2', 'NOX LSTAT', 'DIS PTRATIO', 'CRIM CHAS', 'CRIM LSTAT', 'RAD B', 'RM TAX', 'TAX', 'TAX LSTAT', 'AGE B', 'DIS^2', 'DIS TAX', 'RM PTRATIO']\n",
      "17 ['PTRATIO LSTAT', 'RM^2', 'RM', 'LSTAT^2', 'NOX LSTAT', 'DIS PTRATIO', 'CRIM CHAS', 'CRIM LSTAT', 'RAD B', 'RM TAX', 'TAX', 'TAX LSTAT', 'AGE B', 'DIS^2', 'DIS TAX', 'RM PTRATIO', 'DIS']\n",
      "18 ['PTRATIO LSTAT', 'RM^2', 'RM', 'LSTAT^2', 'NOX LSTAT', 'DIS PTRATIO', 'CRIM CHAS', 'CRIM LSTAT', 'RAD B', 'RM TAX', 'TAX', 'TAX LSTAT', 'AGE B', 'DIS^2', 'DIS TAX', 'RM PTRATIO', 'DIS', 'NOX RM']\n",
      "19 ['PTRATIO LSTAT', 'RM^2', 'RM', 'LSTAT^2', 'NOX LSTAT', 'DIS PTRATIO', 'CRIM CHAS', 'CRIM LSTAT', 'RAD B', 'RM TAX', 'TAX', 'TAX LSTAT', 'AGE B', 'DIS^2', 'DIS TAX', 'RM PTRATIO', 'DIS', 'NOX RM', 'NOX PTRATIO']\n",
      "20 ['PTRATIO LSTAT', 'RM^2', 'RM', 'LSTAT^2', 'NOX LSTAT', 'DIS PTRATIO', 'CRIM CHAS', 'CRIM LSTAT', 'RAD B', 'RM TAX', 'TAX', 'TAX LSTAT', 'AGE B', 'DIS^2', 'DIS TAX', 'RM PTRATIO', 'DIS', 'NOX RM', 'NOX PTRATIO', 'CRIM NOX']\n",
      "21 ['PTRATIO LSTAT', 'RM^2', 'RM', 'LSTAT^2', 'NOX LSTAT', 'DIS PTRATIO', 'CRIM CHAS', 'CRIM LSTAT', 'RAD B', 'RM TAX', 'TAX', 'TAX LSTAT', 'AGE B', 'DIS^2', 'DIS TAX', 'RM PTRATIO', 'DIS', 'NOX RM', 'NOX PTRATIO', 'CRIM NOX', 'DIS LSTAT']\n",
      "22 ['PTRATIO LSTAT', 'RM^2', 'RM', 'LSTAT^2', 'NOX LSTAT', 'DIS PTRATIO', 'CRIM CHAS', 'CRIM LSTAT', 'RAD B', 'RM TAX', 'TAX', 'TAX LSTAT', 'AGE B', 'DIS^2', 'DIS TAX', 'RM PTRATIO', 'DIS', 'NOX RM', 'NOX PTRATIO', 'CRIM NOX', 'DIS LSTAT', 'CRIM RM']\n",
      "23 ['PTRATIO LSTAT', 'RM^2', 'RM', 'LSTAT^2', 'NOX LSTAT', 'DIS PTRATIO', 'CRIM CHAS', 'CRIM LSTAT', 'RAD B', 'RM TAX', 'TAX', 'TAX LSTAT', 'AGE B', 'DIS^2', 'DIS TAX', 'RM PTRATIO', 'DIS', 'NOX RM', 'NOX PTRATIO', 'CRIM NOX', 'DIS LSTAT', 'CRIM RM', 'RM LSTAT']\n",
      "24 ['PTRATIO LSTAT', 'RM^2', 'RM', 'LSTAT^2', 'NOX LSTAT', 'DIS PTRATIO', 'CRIM CHAS', 'CRIM LSTAT', 'RAD B', 'RM TAX', 'TAX', 'TAX LSTAT', 'AGE B', 'DIS^2', 'DIS TAX', 'RM PTRATIO', 'DIS', 'NOX RM', 'NOX PTRATIO', 'CRIM NOX', 'DIS LSTAT', 'CRIM RM', 'RM LSTAT', 'DIS B']\n",
      "25 ['PTRATIO LSTAT', 'RM^2', 'RM', 'LSTAT^2', 'NOX LSTAT', 'DIS PTRATIO', 'CRIM CHAS', 'CRIM LSTAT', 'RAD B', 'RM TAX', 'TAX', 'TAX LSTAT', 'AGE B', 'DIS^2', 'DIS TAX', 'RM PTRATIO', 'DIS', 'NOX RM', 'NOX PTRATIO', 'CRIM NOX', 'DIS LSTAT', 'CRIM RM', 'RM LSTAT', 'DIS B', 'AGE RAD']\n",
      "26 ['PTRATIO LSTAT', 'RM^2', 'RM', 'LSTAT^2', 'NOX LSTAT', 'DIS PTRATIO', 'CRIM CHAS', 'CRIM LSTAT', 'RAD B', 'RM TAX', 'TAX', 'TAX LSTAT', 'AGE B', 'DIS^2', 'DIS TAX', 'RM PTRATIO', 'DIS', 'NOX RM', 'NOX PTRATIO', 'CRIM NOX', 'DIS LSTAT', 'CRIM RM', 'RM LSTAT', 'DIS B', 'AGE RAD', 'RAD LSTAT']\n",
      "27 ['PTRATIO LSTAT', 'RM^2', 'RM', 'LSTAT^2', 'NOX LSTAT', 'DIS PTRATIO', 'CRIM CHAS', 'CRIM LSTAT', 'RAD B', 'RM TAX', 'TAX', 'TAX LSTAT', 'AGE B', 'DIS^2', 'DIS TAX', 'RM PTRATIO', 'DIS', 'NOX RM', 'NOX PTRATIO', 'CRIM NOX', 'DIS LSTAT', 'CRIM RM', 'RM LSTAT', 'DIS B', 'AGE RAD', 'RAD LSTAT', 'NOX DIS']\n",
      "28 ['PTRATIO LSTAT', 'RM^2', 'RM', 'LSTAT^2', 'NOX LSTAT', 'DIS PTRATIO', 'CRIM CHAS', 'CRIM LSTAT', 'RAD B', 'RM TAX', 'TAX', 'TAX LSTAT', 'AGE B', 'DIS^2', 'DIS TAX', 'RM PTRATIO', 'DIS', 'NOX RM', 'NOX PTRATIO', 'CRIM NOX', 'DIS LSTAT', 'CRIM RM', 'RM LSTAT', 'DIS B', 'AGE RAD', 'RAD LSTAT', 'NOX DIS', 'AGE LSTAT']\n",
      "29 ['PTRATIO LSTAT', 'RM^2', 'RM', 'LSTAT^2', 'NOX LSTAT', 'DIS PTRATIO', 'CRIM CHAS', 'CRIM LSTAT', 'RAD B', 'RM TAX', 'TAX', 'TAX LSTAT', 'AGE B', 'DIS^2', 'DIS TAX', 'RM PTRATIO', 'DIS', 'NOX RM', 'NOX PTRATIO', 'CRIM NOX', 'DIS LSTAT', 'CRIM RM', 'RM LSTAT', 'DIS B', 'AGE RAD', 'RAD LSTAT', 'NOX DIS', 'AGE LSTAT', 'RM DIS']\n",
      "30 ['PTRATIO LSTAT', 'RM^2', 'RM', 'LSTAT^2', 'NOX LSTAT', 'DIS PTRATIO', 'CRIM CHAS', 'CRIM LSTAT', 'RAD B', 'RM TAX', 'TAX', 'TAX LSTAT', 'AGE B', 'DIS^2', 'DIS TAX', 'RM PTRATIO', 'DIS', 'NOX RM', 'NOX PTRATIO', 'CRIM NOX', 'DIS LSTAT', 'CRIM RM', 'RM LSTAT', 'DIS B', 'AGE RAD', 'RAD LSTAT', 'NOX DIS', 'AGE LSTAT', 'RM DIS', 'PTRATIO']\n",
      "31 ['PTRATIO LSTAT', 'RM^2', 'RM', 'LSTAT^2', 'NOX LSTAT', 'DIS PTRATIO', 'CRIM CHAS', 'CRIM LSTAT', 'RAD B', 'RM TAX', 'TAX', 'TAX LSTAT', 'AGE B', 'DIS^2', 'DIS TAX', 'RM PTRATIO', 'DIS', 'NOX RM', 'NOX PTRATIO', 'CRIM NOX', 'DIS LSTAT', 'CRIM RM', 'RM LSTAT', 'DIS B', 'AGE RAD', 'RAD LSTAT', 'NOX DIS', 'AGE LSTAT', 'RM DIS', 'PTRATIO', 'CRIM PTRATIO']\n",
      "32 ['PTRATIO LSTAT', 'RM^2', 'RM', 'LSTAT^2', 'NOX LSTAT', 'DIS PTRATIO', 'CRIM CHAS', 'CRIM LSTAT', 'RAD B', 'RM TAX', 'TAX', 'TAX LSTAT', 'AGE B', 'DIS^2', 'DIS TAX', 'RM PTRATIO', 'DIS', 'NOX RM', 'NOX PTRATIO', 'CRIM NOX', 'DIS LSTAT', 'CRIM RM', 'RM LSTAT', 'DIS B', 'AGE RAD', 'RAD LSTAT', 'NOX DIS', 'AGE LSTAT', 'RM DIS', 'PTRATIO', 'CRIM PTRATIO', 'INDUS AGE']\n",
      "33 ['PTRATIO LSTAT', 'RM^2', 'RM', 'LSTAT^2', 'NOX LSTAT', 'DIS PTRATIO', 'CRIM CHAS', 'CRIM LSTAT', 'RAD B', 'RM TAX', 'TAX', 'TAX LSTAT', 'AGE B', 'DIS^2', 'DIS TAX', 'RM PTRATIO', 'DIS', 'NOX RM', 'NOX PTRATIO', 'CRIM NOX', 'DIS LSTAT', 'CRIM RM', 'RM LSTAT', 'DIS B', 'AGE RAD', 'RAD LSTAT', 'NOX DIS', 'AGE LSTAT', 'RM DIS', 'PTRATIO', 'CRIM PTRATIO', 'INDUS AGE', 'INDUS LSTAT']\n",
      "34 ['PTRATIO LSTAT', 'RM^2', 'RM', 'LSTAT^2', 'NOX LSTAT', 'DIS PTRATIO', 'CRIM CHAS', 'CRIM LSTAT', 'RAD B', 'RM TAX', 'TAX', 'TAX LSTAT', 'AGE B', 'DIS^2', 'DIS TAX', 'RM PTRATIO', 'DIS', 'NOX RM', 'NOX PTRATIO', 'CRIM NOX', 'DIS LSTAT', 'CRIM RM', 'RM LSTAT', 'DIS B', 'AGE RAD', 'RAD LSTAT', 'NOX DIS', 'AGE LSTAT', 'RM DIS', 'PTRATIO', 'CRIM PTRATIO', 'INDUS AGE', 'INDUS LSTAT', 'TAX PTRATIO']\n",
      "35 ['PTRATIO LSTAT', 'RM^2', 'RM', 'LSTAT^2', 'NOX LSTAT', 'DIS PTRATIO', 'CRIM CHAS', 'CRIM LSTAT', 'RAD B', 'RM TAX', 'TAX', 'TAX LSTAT', 'AGE B', 'DIS^2', 'DIS TAX', 'RM PTRATIO', 'DIS', 'NOX RM', 'NOX PTRATIO', 'CRIM NOX', 'DIS LSTAT', 'CRIM RM', 'RM LSTAT', 'DIS B', 'AGE RAD', 'RAD LSTAT', 'NOX DIS', 'AGE LSTAT', 'RM DIS', 'PTRATIO', 'CRIM PTRATIO', 'INDUS AGE', 'INDUS LSTAT', 'TAX PTRATIO', 'INDUS PTRATIO']\n",
      "36 ['PTRATIO LSTAT', 'RM^2', 'RM', 'LSTAT^2', 'NOX LSTAT', 'DIS PTRATIO', 'CRIM CHAS', 'CRIM LSTAT', 'RAD B', 'RM TAX', 'TAX', 'TAX LSTAT', 'AGE B', 'DIS^2', 'DIS TAX', 'RM PTRATIO', 'DIS', 'NOX RM', 'NOX PTRATIO', 'CRIM NOX', 'DIS LSTAT', 'CRIM RM', 'RM LSTAT', 'DIS B', 'AGE RAD', 'RAD LSTAT', 'NOX DIS', 'AGE LSTAT', 'RM DIS', 'PTRATIO', 'CRIM PTRATIO', 'INDUS AGE', 'INDUS LSTAT', 'TAX PTRATIO', 'INDUS PTRATIO', 'AGE TAX']\n",
      "37 ['PTRATIO LSTAT', 'RM^2', 'RM', 'LSTAT^2', 'NOX LSTAT', 'DIS PTRATIO', 'CRIM CHAS', 'CRIM LSTAT', 'RAD B', 'RM TAX', 'TAX', 'TAX LSTAT', 'AGE B', 'DIS^2', 'DIS TAX', 'RM PTRATIO', 'DIS', 'NOX RM', 'NOX PTRATIO', 'CRIM NOX', 'DIS LSTAT', 'CRIM RM', 'RM LSTAT', 'DIS B', 'AGE RAD', 'RAD LSTAT', 'NOX DIS', 'AGE LSTAT', 'RM DIS', 'PTRATIO', 'CRIM PTRATIO', 'INDUS AGE', 'INDUS LSTAT', 'TAX PTRATIO', 'INDUS PTRATIO', 'AGE TAX', 'INDUS NOX']\n",
      "38 ['PTRATIO LSTAT', 'RM^2', 'RM', 'LSTAT^2', 'NOX LSTAT', 'DIS PTRATIO', 'CRIM CHAS', 'CRIM LSTAT', 'RAD B', 'RM TAX', 'TAX', 'TAX LSTAT', 'AGE B', 'DIS^2', 'DIS TAX', 'RM PTRATIO', 'DIS', 'NOX RM', 'NOX PTRATIO', 'CRIM NOX', 'DIS LSTAT', 'CRIM RM', 'RM LSTAT', 'DIS B', 'AGE RAD', 'RAD LSTAT', 'NOX DIS', 'AGE LSTAT', 'RM DIS', 'PTRATIO', 'CRIM PTRATIO', 'INDUS AGE', 'INDUS LSTAT', 'TAX PTRATIO', 'INDUS PTRATIO', 'AGE TAX', 'INDUS NOX', 'CHAS NOX']\n"
     ]
    },
    {
     "name": "stdout",
     "output_type": "stream",
     "text": [
      "39 ['PTRATIO LSTAT', 'RM^2', 'RM', 'LSTAT^2', 'NOX LSTAT', 'DIS PTRATIO', 'CRIM CHAS', 'CRIM LSTAT', 'RAD B', 'RM TAX', 'TAX', 'TAX LSTAT', 'AGE B', 'DIS^2', 'DIS TAX', 'RM PTRATIO', 'DIS', 'NOX RM', 'NOX PTRATIO', 'CRIM NOX', 'DIS LSTAT', 'CRIM RM', 'RM LSTAT', 'DIS B', 'AGE RAD', 'RAD LSTAT', 'NOX DIS', 'AGE LSTAT', 'RM DIS', 'PTRATIO', 'CRIM PTRATIO', 'INDUS AGE', 'INDUS LSTAT', 'TAX PTRATIO', 'INDUS PTRATIO', 'AGE TAX', 'INDUS NOX', 'CHAS NOX', 'CHAS']\n",
      "40 ['PTRATIO LSTAT', 'RM^2', 'RM', 'LSTAT^2', 'NOX LSTAT', 'DIS PTRATIO', 'CRIM CHAS', 'CRIM LSTAT', 'RAD B', 'RM TAX', 'TAX', 'TAX LSTAT', 'AGE B', 'DIS^2', 'DIS TAX', 'RM PTRATIO', 'DIS', 'NOX RM', 'NOX PTRATIO', 'CRIM NOX', 'DIS LSTAT', 'CRIM RM', 'RM LSTAT', 'DIS B', 'AGE RAD', 'RAD LSTAT', 'NOX DIS', 'AGE LSTAT', 'RM DIS', 'PTRATIO', 'CRIM PTRATIO', 'INDUS AGE', 'INDUS LSTAT', 'TAX PTRATIO', 'INDUS PTRATIO', 'AGE TAX', 'INDUS NOX', 'CHAS NOX', 'CHAS', 'CHAS RM']\n",
      "41 ['PTRATIO LSTAT', 'RM^2', 'RM', 'LSTAT^2', 'NOX LSTAT', 'DIS PTRATIO', 'CRIM CHAS', 'CRIM LSTAT', 'RAD B', 'RM TAX', 'TAX', 'TAX LSTAT', 'AGE B', 'DIS^2', 'DIS TAX', 'RM PTRATIO', 'DIS', 'NOX RM', 'NOX PTRATIO', 'CRIM NOX', 'DIS LSTAT', 'CRIM RM', 'RM LSTAT', 'DIS B', 'AGE RAD', 'RAD LSTAT', 'NOX DIS', 'AGE LSTAT', 'RM DIS', 'PTRATIO', 'CRIM PTRATIO', 'INDUS AGE', 'INDUS LSTAT', 'TAX PTRATIO', 'INDUS PTRATIO', 'AGE TAX', 'INDUS NOX', 'CHAS NOX', 'CHAS', 'CHAS RM', 'CRIM^2']\n",
      "42 ['PTRATIO LSTAT', 'RM^2', 'RM', 'LSTAT^2', 'NOX LSTAT', 'DIS PTRATIO', 'CRIM CHAS', 'CRIM LSTAT', 'RAD B', 'RM TAX', 'TAX', 'TAX LSTAT', 'AGE B', 'DIS^2', 'DIS TAX', 'RM PTRATIO', 'DIS', 'NOX RM', 'NOX PTRATIO', 'CRIM NOX', 'DIS LSTAT', 'CRIM RM', 'RM LSTAT', 'DIS B', 'AGE RAD', 'RAD LSTAT', 'NOX DIS', 'AGE LSTAT', 'RM DIS', 'PTRATIO', 'CRIM PTRATIO', 'INDUS AGE', 'INDUS LSTAT', 'TAX PTRATIO', 'INDUS PTRATIO', 'AGE TAX', 'INDUS NOX', 'CHAS NOX', 'CHAS', 'CHAS RM', 'CRIM^2', 'CHAS PTRATIO']\n",
      "43 ['PTRATIO LSTAT', 'RM^2', 'RM', 'LSTAT^2', 'NOX LSTAT', 'DIS PTRATIO', 'CRIM CHAS', 'CRIM LSTAT', 'RAD B', 'RM TAX', 'TAX', 'TAX LSTAT', 'AGE B', 'DIS^2', 'DIS TAX', 'RM PTRATIO', 'DIS', 'NOX RM', 'NOX PTRATIO', 'CRIM NOX', 'DIS LSTAT', 'CRIM RM', 'RM LSTAT', 'DIS B', 'AGE RAD', 'RAD LSTAT', 'NOX DIS', 'AGE LSTAT', 'RM DIS', 'PTRATIO', 'CRIM PTRATIO', 'INDUS AGE', 'INDUS LSTAT', 'TAX PTRATIO', 'INDUS PTRATIO', 'AGE TAX', 'INDUS NOX', 'CHAS NOX', 'CHAS', 'CHAS RM', 'CRIM^2', 'CHAS PTRATIO', 'ZN LSTAT']\n",
      "44 ['PTRATIO LSTAT', 'RM^2', 'RM', 'LSTAT^2', 'NOX LSTAT', 'DIS PTRATIO', 'CRIM CHAS', 'CRIM LSTAT', 'RAD B', 'RM TAX', 'TAX', 'TAX LSTAT', 'AGE B', 'DIS^2', 'DIS TAX', 'RM PTRATIO', 'DIS', 'NOX RM', 'NOX PTRATIO', 'CRIM NOX', 'DIS LSTAT', 'CRIM RM', 'RM LSTAT', 'DIS B', 'AGE RAD', 'RAD LSTAT', 'NOX DIS', 'AGE LSTAT', 'RM DIS', 'PTRATIO', 'CRIM PTRATIO', 'INDUS AGE', 'INDUS LSTAT', 'TAX PTRATIO', 'INDUS PTRATIO', 'AGE TAX', 'INDUS NOX', 'CHAS NOX', 'CHAS', 'CHAS RM', 'CRIM^2', 'CHAS PTRATIO', 'ZN LSTAT', 'ZN TAX']\n",
      "45 ['PTRATIO LSTAT', 'RM^2', 'RM', 'LSTAT^2', 'NOX LSTAT', 'DIS PTRATIO', 'CRIM CHAS', 'CRIM LSTAT', 'RAD B', 'RM TAX', 'TAX', 'TAX LSTAT', 'AGE B', 'DIS^2', 'DIS TAX', 'RM PTRATIO', 'DIS', 'NOX RM', 'NOX PTRATIO', 'CRIM NOX', 'DIS LSTAT', 'CRIM RM', 'RM LSTAT', 'DIS B', 'AGE RAD', 'RAD LSTAT', 'NOX DIS', 'AGE LSTAT', 'RM DIS', 'PTRATIO', 'CRIM PTRATIO', 'INDUS AGE', 'INDUS LSTAT', 'TAX PTRATIO', 'INDUS PTRATIO', 'AGE TAX', 'INDUS NOX', 'CHAS NOX', 'CHAS', 'CHAS RM', 'CRIM^2', 'CHAS PTRATIO', 'ZN LSTAT', 'ZN TAX', 'ZN PTRATIO']\n",
      "46 ['PTRATIO LSTAT', 'RM^2', 'RM', 'LSTAT^2', 'NOX LSTAT', 'DIS PTRATIO', 'CRIM CHAS', 'CRIM LSTAT', 'RAD B', 'RM TAX', 'TAX', 'TAX LSTAT', 'AGE B', 'DIS^2', 'DIS TAX', 'RM PTRATIO', 'DIS', 'NOX RM', 'NOX PTRATIO', 'CRIM NOX', 'DIS LSTAT', 'CRIM RM', 'RM LSTAT', 'DIS B', 'AGE RAD', 'RAD LSTAT', 'NOX DIS', 'AGE LSTAT', 'RM DIS', 'PTRATIO', 'CRIM PTRATIO', 'INDUS AGE', 'INDUS LSTAT', 'TAX PTRATIO', 'INDUS PTRATIO', 'AGE TAX', 'INDUS NOX', 'CHAS NOX', 'CHAS', 'CHAS RM', 'CRIM^2', 'CHAS PTRATIO', 'ZN LSTAT', 'ZN TAX', 'ZN PTRATIO', 'ZN DIS']\n",
      "47 ['PTRATIO LSTAT', 'RM^2', 'RM', 'LSTAT^2', 'NOX LSTAT', 'DIS PTRATIO', 'CRIM CHAS', 'CRIM LSTAT', 'RAD B', 'RM TAX', 'TAX', 'TAX LSTAT', 'AGE B', 'DIS^2', 'DIS TAX', 'RM PTRATIO', 'DIS', 'NOX RM', 'NOX PTRATIO', 'CRIM NOX', 'DIS LSTAT', 'CRIM RM', 'RM LSTAT', 'DIS B', 'AGE RAD', 'RAD LSTAT', 'NOX DIS', 'AGE LSTAT', 'RM DIS', 'PTRATIO', 'CRIM PTRATIO', 'INDUS AGE', 'INDUS LSTAT', 'TAX PTRATIO', 'INDUS PTRATIO', 'AGE TAX', 'INDUS NOX', 'CHAS NOX', 'CHAS', 'CHAS RM', 'CRIM^2', 'CHAS PTRATIO', 'ZN LSTAT', 'ZN TAX', 'ZN PTRATIO', 'ZN DIS', 'CRIM B']\n",
      "48 ['PTRATIO LSTAT', 'RM^2', 'RM', 'LSTAT^2', 'NOX LSTAT', 'DIS PTRATIO', 'CRIM CHAS', 'CRIM LSTAT', 'RAD B', 'RM TAX', 'TAX', 'TAX LSTAT', 'AGE B', 'DIS^2', 'DIS TAX', 'RM PTRATIO', 'DIS', 'NOX RM', 'NOX PTRATIO', 'CRIM NOX', 'DIS LSTAT', 'CRIM RM', 'RM LSTAT', 'DIS B', 'AGE RAD', 'RAD LSTAT', 'NOX DIS', 'AGE LSTAT', 'RM DIS', 'PTRATIO', 'CRIM PTRATIO', 'INDUS AGE', 'INDUS LSTAT', 'TAX PTRATIO', 'INDUS PTRATIO', 'AGE TAX', 'INDUS NOX', 'CHAS NOX', 'CHAS', 'CHAS RM', 'CRIM^2', 'CHAS PTRATIO', 'ZN LSTAT', 'ZN TAX', 'ZN PTRATIO', 'ZN DIS', 'CRIM B', 'B']\n",
      "49 ['PTRATIO LSTAT', 'RM^2', 'RM', 'LSTAT^2', 'NOX LSTAT', 'DIS PTRATIO', 'CRIM CHAS', 'CRIM LSTAT', 'RAD B', 'RM TAX', 'TAX', 'TAX LSTAT', 'AGE B', 'DIS^2', 'DIS TAX', 'RM PTRATIO', 'DIS', 'NOX RM', 'NOX PTRATIO', 'CRIM NOX', 'DIS LSTAT', 'CRIM RM', 'RM LSTAT', 'DIS B', 'AGE RAD', 'RAD LSTAT', 'NOX DIS', 'AGE LSTAT', 'RM DIS', 'PTRATIO', 'CRIM PTRATIO', 'INDUS AGE', 'INDUS LSTAT', 'TAX PTRATIO', 'INDUS PTRATIO', 'AGE TAX', 'INDUS NOX', 'CHAS NOX', 'CHAS', 'CHAS RM', 'CRIM^2', 'CHAS PTRATIO', 'ZN LSTAT', 'ZN TAX', 'ZN PTRATIO', 'ZN DIS', 'CRIM B', 'B', 'AGE']\n",
      "50 ['PTRATIO LSTAT', 'RM^2', 'RM', 'LSTAT^2', 'NOX LSTAT', 'DIS PTRATIO', 'CRIM CHAS', 'CRIM LSTAT', 'RAD B', 'RM TAX', 'TAX', 'TAX LSTAT', 'AGE B', 'DIS^2', 'DIS TAX', 'RM PTRATIO', 'DIS', 'NOX RM', 'NOX PTRATIO', 'CRIM NOX', 'DIS LSTAT', 'CRIM RM', 'RM LSTAT', 'DIS B', 'AGE RAD', 'RAD LSTAT', 'NOX DIS', 'AGE LSTAT', 'RM DIS', 'PTRATIO', 'CRIM PTRATIO', 'INDUS AGE', 'INDUS LSTAT', 'TAX PTRATIO', 'INDUS PTRATIO', 'AGE TAX', 'INDUS NOX', 'CHAS NOX', 'CHAS', 'CHAS RM', 'CRIM^2', 'CHAS PTRATIO', 'ZN LSTAT', 'ZN TAX', 'ZN PTRATIO', 'ZN DIS', 'CRIM B', 'B', 'AGE', 'RM AGE']\n",
      "51 ['PTRATIO LSTAT', 'RM^2', 'RM', 'LSTAT^2', 'NOX LSTAT', 'DIS PTRATIO', 'CRIM CHAS', 'CRIM LSTAT', 'RAD B', 'RM TAX', 'TAX', 'TAX LSTAT', 'AGE B', 'DIS^2', 'DIS TAX', 'RM PTRATIO', 'DIS', 'NOX RM', 'NOX PTRATIO', 'CRIM NOX', 'DIS LSTAT', 'CRIM RM', 'RM LSTAT', 'DIS B', 'AGE RAD', 'RAD LSTAT', 'NOX DIS', 'AGE LSTAT', 'RM DIS', 'PTRATIO', 'CRIM PTRATIO', 'INDUS AGE', 'INDUS LSTAT', 'TAX PTRATIO', 'INDUS PTRATIO', 'AGE TAX', 'INDUS NOX', 'CHAS NOX', 'CHAS', 'CHAS RM', 'CRIM^2', 'CHAS PTRATIO', 'ZN LSTAT', 'ZN TAX', 'ZN PTRATIO', 'ZN DIS', 'CRIM B', 'B', 'AGE', 'RM AGE', 'NOX AGE']\n",
      "52 ['PTRATIO LSTAT', 'RM^2', 'RM', 'LSTAT^2', 'NOX LSTAT', 'DIS PTRATIO', 'CRIM CHAS', 'CRIM LSTAT', 'RAD B', 'RM TAX', 'TAX', 'TAX LSTAT', 'AGE B', 'DIS^2', 'DIS TAX', 'RM PTRATIO', 'DIS', 'NOX RM', 'NOX PTRATIO', 'CRIM NOX', 'DIS LSTAT', 'CRIM RM', 'RM LSTAT', 'DIS B', 'AGE RAD', 'RAD LSTAT', 'NOX DIS', 'AGE LSTAT', 'RM DIS', 'PTRATIO', 'CRIM PTRATIO', 'INDUS AGE', 'INDUS LSTAT', 'TAX PTRATIO', 'INDUS PTRATIO', 'AGE TAX', 'INDUS NOX', 'CHAS NOX', 'CHAS', 'CHAS RM', 'CRIM^2', 'CHAS PTRATIO', 'ZN LSTAT', 'ZN TAX', 'ZN PTRATIO', 'ZN DIS', 'CRIM B', 'B', 'AGE', 'RM AGE', 'NOX AGE', 'B^2']\n",
      "53 ['PTRATIO LSTAT', 'RM^2', 'RM', 'LSTAT^2', 'NOX LSTAT', 'DIS PTRATIO', 'CRIM CHAS', 'CRIM LSTAT', 'RAD B', 'RM TAX', 'TAX', 'TAX LSTAT', 'AGE B', 'DIS^2', 'DIS TAX', 'RM PTRATIO', 'DIS', 'NOX RM', 'NOX PTRATIO', 'CRIM NOX', 'DIS LSTAT', 'CRIM RM', 'RM LSTAT', 'DIS B', 'AGE RAD', 'RAD LSTAT', 'NOX DIS', 'AGE LSTAT', 'RM DIS', 'PTRATIO', 'CRIM PTRATIO', 'INDUS AGE', 'INDUS LSTAT', 'TAX PTRATIO', 'INDUS PTRATIO', 'AGE TAX', 'INDUS NOX', 'CHAS NOX', 'CHAS', 'CHAS RM', 'CRIM^2', 'CHAS PTRATIO', 'ZN LSTAT', 'ZN TAX', 'ZN PTRATIO', 'ZN DIS', 'CRIM B', 'B', 'AGE', 'RM AGE', 'NOX AGE', 'B^2', 'ZN^2']\n",
      "54 ['PTRATIO LSTAT', 'RM^2', 'RM', 'LSTAT^2', 'NOX LSTAT', 'DIS PTRATIO', 'CRIM CHAS', 'CRIM LSTAT', 'RAD B', 'RM TAX', 'TAX', 'TAX LSTAT', 'AGE B', 'DIS^2', 'DIS TAX', 'RM PTRATIO', 'DIS', 'NOX RM', 'NOX PTRATIO', 'CRIM NOX', 'DIS LSTAT', 'CRIM RM', 'RM LSTAT', 'DIS B', 'AGE RAD', 'RAD LSTAT', 'NOX DIS', 'AGE LSTAT', 'RM DIS', 'PTRATIO', 'CRIM PTRATIO', 'INDUS AGE', 'INDUS LSTAT', 'TAX PTRATIO', 'INDUS PTRATIO', 'AGE TAX', 'INDUS NOX', 'CHAS NOX', 'CHAS', 'CHAS RM', 'CRIM^2', 'CHAS PTRATIO', 'ZN LSTAT', 'ZN TAX', 'ZN PTRATIO', 'ZN DIS', 'CRIM B', 'B', 'AGE', 'RM AGE', 'NOX AGE', 'B^2', 'ZN^2', 'CRIM ZN']\n"
     ]
    },
    {
     "name": "stdout",
     "output_type": "stream",
     "text": [
      "55 ['PTRATIO LSTAT', 'RM^2', 'RM', 'LSTAT^2', 'NOX LSTAT', 'DIS PTRATIO', 'CRIM CHAS', 'CRIM LSTAT', 'RAD B', 'RM TAX', 'TAX', 'TAX LSTAT', 'AGE B', 'DIS^2', 'DIS TAX', 'RM PTRATIO', 'DIS', 'NOX RM', 'NOX PTRATIO', 'CRIM NOX', 'DIS LSTAT', 'CRIM RM', 'RM LSTAT', 'DIS B', 'AGE RAD', 'RAD LSTAT', 'NOX DIS', 'AGE LSTAT', 'RM DIS', 'PTRATIO', 'CRIM PTRATIO', 'INDUS AGE', 'INDUS LSTAT', 'TAX PTRATIO', 'INDUS PTRATIO', 'AGE TAX', 'INDUS NOX', 'CHAS NOX', 'CHAS', 'CHAS RM', 'CRIM^2', 'CHAS PTRATIO', 'ZN LSTAT', 'ZN TAX', 'ZN PTRATIO', 'ZN DIS', 'CRIM B', 'B', 'AGE', 'RM AGE', 'NOX AGE', 'B^2', 'ZN^2', 'CRIM ZN', 'RAD^2']\n",
      "56 ['PTRATIO LSTAT', 'RM^2', 'RM', 'LSTAT^2', 'NOX LSTAT', 'DIS PTRATIO', 'CRIM CHAS', 'CRIM LSTAT', 'RAD B', 'RM TAX', 'TAX', 'TAX LSTAT', 'AGE B', 'DIS^2', 'DIS TAX', 'RM PTRATIO', 'DIS', 'NOX RM', 'NOX PTRATIO', 'CRIM NOX', 'DIS LSTAT', 'CRIM RM', 'RM LSTAT', 'DIS B', 'AGE RAD', 'RAD LSTAT', 'NOX DIS', 'AGE LSTAT', 'RM DIS', 'PTRATIO', 'CRIM PTRATIO', 'INDUS AGE', 'INDUS LSTAT', 'TAX PTRATIO', 'INDUS PTRATIO', 'AGE TAX', 'INDUS NOX', 'CHAS NOX', 'CHAS', 'CHAS RM', 'CRIM^2', 'CHAS PTRATIO', 'ZN LSTAT', 'ZN TAX', 'ZN PTRATIO', 'ZN DIS', 'CRIM B', 'B', 'AGE', 'RM AGE', 'NOX AGE', 'B^2', 'ZN^2', 'CRIM ZN', 'RAD^2', 'RAD TAX']\n",
      "57 ['PTRATIO LSTAT', 'RM^2', 'RM', 'LSTAT^2', 'NOX LSTAT', 'DIS PTRATIO', 'CRIM CHAS', 'CRIM LSTAT', 'RAD B', 'RM TAX', 'TAX', 'TAX LSTAT', 'AGE B', 'DIS^2', 'DIS TAX', 'RM PTRATIO', 'DIS', 'NOX RM', 'NOX PTRATIO', 'CRIM NOX', 'DIS LSTAT', 'CRIM RM', 'RM LSTAT', 'DIS B', 'AGE RAD', 'RAD LSTAT', 'NOX DIS', 'AGE LSTAT', 'RM DIS', 'PTRATIO', 'CRIM PTRATIO', 'INDUS AGE', 'INDUS LSTAT', 'TAX PTRATIO', 'INDUS PTRATIO', 'AGE TAX', 'INDUS NOX', 'CHAS NOX', 'CHAS', 'CHAS RM', 'CRIM^2', 'CHAS PTRATIO', 'ZN LSTAT', 'ZN TAX', 'ZN PTRATIO', 'ZN DIS', 'CRIM B', 'B', 'AGE', 'RM AGE', 'NOX AGE', 'B^2', 'ZN^2', 'CRIM ZN', 'RAD^2', 'RAD TAX', 'ZN RAD']\n",
      "58 ['PTRATIO LSTAT', 'RM^2', 'RM', 'LSTAT^2', 'NOX LSTAT', 'DIS PTRATIO', 'CRIM CHAS', 'CRIM LSTAT', 'RAD B', 'RM TAX', 'TAX', 'TAX LSTAT', 'AGE B', 'DIS^2', 'DIS TAX', 'RM PTRATIO', 'DIS', 'NOX RM', 'NOX PTRATIO', 'CRIM NOX', 'DIS LSTAT', 'CRIM RM', 'RM LSTAT', 'DIS B', 'AGE RAD', 'RAD LSTAT', 'NOX DIS', 'AGE LSTAT', 'RM DIS', 'PTRATIO', 'CRIM PTRATIO', 'INDUS AGE', 'INDUS LSTAT', 'TAX PTRATIO', 'INDUS PTRATIO', 'AGE TAX', 'INDUS NOX', 'CHAS NOX', 'CHAS', 'CHAS RM', 'CRIM^2', 'CHAS PTRATIO', 'ZN LSTAT', 'ZN TAX', 'ZN PTRATIO', 'ZN DIS', 'CRIM B', 'B', 'AGE', 'RM AGE', 'NOX AGE', 'B^2', 'ZN^2', 'CRIM ZN', 'RAD^2', 'RAD TAX', 'ZN RAD', 'INDUS']\n",
      "59 ['PTRATIO LSTAT', 'RM^2', 'RM', 'LSTAT^2', 'NOX LSTAT', 'DIS PTRATIO', 'CRIM CHAS', 'CRIM LSTAT', 'RAD B', 'RM TAX', 'TAX', 'TAX LSTAT', 'AGE B', 'DIS^2', 'DIS TAX', 'RM PTRATIO', 'DIS', 'NOX RM', 'NOX PTRATIO', 'CRIM NOX', 'DIS LSTAT', 'CRIM RM', 'RM LSTAT', 'DIS B', 'AGE RAD', 'RAD LSTAT', 'NOX DIS', 'AGE LSTAT', 'RM DIS', 'PTRATIO', 'CRIM PTRATIO', 'INDUS AGE', 'INDUS LSTAT', 'TAX PTRATIO', 'INDUS PTRATIO', 'AGE TAX', 'INDUS NOX', 'CHAS NOX', 'CHAS', 'CHAS RM', 'CRIM^2', 'CHAS PTRATIO', 'ZN LSTAT', 'ZN TAX', 'ZN PTRATIO', 'ZN DIS', 'CRIM B', 'B', 'AGE', 'RM AGE', 'NOX AGE', 'B^2', 'ZN^2', 'CRIM ZN', 'RAD^2', 'RAD TAX', 'ZN RAD', 'INDUS', 'INDUS RM']\n",
      "60 ['PTRATIO LSTAT', 'RM^2', 'RM', 'LSTAT^2', 'NOX LSTAT', 'DIS PTRATIO', 'CRIM CHAS', 'CRIM LSTAT', 'RAD B', 'RM TAX', 'TAX', 'TAX LSTAT', 'AGE B', 'DIS^2', 'DIS TAX', 'RM PTRATIO', 'DIS', 'NOX RM', 'NOX PTRATIO', 'CRIM NOX', 'DIS LSTAT', 'CRIM RM', 'RM LSTAT', 'DIS B', 'AGE RAD', 'RAD LSTAT', 'NOX DIS', 'AGE LSTAT', 'RM DIS', 'PTRATIO', 'CRIM PTRATIO', 'INDUS AGE', 'INDUS LSTAT', 'TAX PTRATIO', 'INDUS PTRATIO', 'AGE TAX', 'INDUS NOX', 'CHAS NOX', 'CHAS', 'CHAS RM', 'CRIM^2', 'CHAS PTRATIO', 'ZN LSTAT', 'ZN TAX', 'ZN PTRATIO', 'ZN DIS', 'CRIM B', 'B', 'AGE', 'RM AGE', 'NOX AGE', 'B^2', 'ZN^2', 'CRIM ZN', 'RAD^2', 'RAD TAX', 'ZN RAD', 'INDUS', 'INDUS RM', 'CRIM RAD']\n",
      "61 ['PTRATIO LSTAT', 'RM^2', 'RM', 'LSTAT^2', 'NOX LSTAT', 'DIS PTRATIO', 'CRIM CHAS', 'CRIM LSTAT', 'RAD B', 'RM TAX', 'TAX', 'TAX LSTAT', 'AGE B', 'DIS^2', 'DIS TAX', 'RM PTRATIO', 'DIS', 'NOX RM', 'NOX PTRATIO', 'CRIM NOX', 'DIS LSTAT', 'CRIM RM', 'RM LSTAT', 'DIS B', 'AGE RAD', 'RAD LSTAT', 'NOX DIS', 'AGE LSTAT', 'RM DIS', 'PTRATIO', 'CRIM PTRATIO', 'INDUS AGE', 'INDUS LSTAT', 'TAX PTRATIO', 'INDUS PTRATIO', 'AGE TAX', 'INDUS NOX', 'CHAS NOX', 'CHAS', 'CHAS RM', 'CRIM^2', 'CHAS PTRATIO', 'ZN LSTAT', 'ZN TAX', 'ZN PTRATIO', 'ZN DIS', 'CRIM B', 'B', 'AGE', 'RM AGE', 'NOX AGE', 'B^2', 'ZN^2', 'CRIM ZN', 'RAD^2', 'RAD TAX', 'ZN RAD', 'INDUS', 'INDUS RM', 'CRIM RAD', 'INDUS^2']\n",
      "62 ['PTRATIO LSTAT', 'RM^2', 'RM', 'LSTAT^2', 'NOX LSTAT', 'DIS PTRATIO', 'CRIM CHAS', 'CRIM LSTAT', 'RAD B', 'RM TAX', 'TAX', 'TAX LSTAT', 'AGE B', 'DIS^2', 'DIS TAX', 'RM PTRATIO', 'DIS', 'NOX RM', 'NOX PTRATIO', 'CRIM NOX', 'DIS LSTAT', 'CRIM RM', 'RM LSTAT', 'DIS B', 'AGE RAD', 'RAD LSTAT', 'NOX DIS', 'AGE LSTAT', 'RM DIS', 'PTRATIO', 'CRIM PTRATIO', 'INDUS AGE', 'INDUS LSTAT', 'TAX PTRATIO', 'INDUS PTRATIO', 'AGE TAX', 'INDUS NOX', 'CHAS NOX', 'CHAS', 'CHAS RM', 'CRIM^2', 'CHAS PTRATIO', 'ZN LSTAT', 'ZN TAX', 'ZN PTRATIO', 'ZN DIS', 'CRIM B', 'B', 'AGE', 'RM AGE', 'NOX AGE', 'B^2', 'ZN^2', 'CRIM ZN', 'RAD^2', 'RAD TAX', 'ZN RAD', 'INDUS', 'INDUS RM', 'CRIM RAD', 'INDUS^2', 'TAX^2']\n",
      "63 ['PTRATIO LSTAT', 'RM^2', 'RM', 'LSTAT^2', 'NOX LSTAT', 'DIS PTRATIO', 'CRIM CHAS', 'CRIM LSTAT', 'RAD B', 'RM TAX', 'TAX', 'TAX LSTAT', 'AGE B', 'DIS^2', 'DIS TAX', 'RM PTRATIO', 'DIS', 'NOX RM', 'NOX PTRATIO', 'CRIM NOX', 'DIS LSTAT', 'CRIM RM', 'RM LSTAT', 'DIS B', 'AGE RAD', 'RAD LSTAT', 'NOX DIS', 'AGE LSTAT', 'RM DIS', 'PTRATIO', 'CRIM PTRATIO', 'INDUS AGE', 'INDUS LSTAT', 'TAX PTRATIO', 'INDUS PTRATIO', 'AGE TAX', 'INDUS NOX', 'CHAS NOX', 'CHAS', 'CHAS RM', 'CRIM^2', 'CHAS PTRATIO', 'ZN LSTAT', 'ZN TAX', 'ZN PTRATIO', 'ZN DIS', 'CRIM B', 'B', 'AGE', 'RM AGE', 'NOX AGE', 'B^2', 'ZN^2', 'CRIM ZN', 'RAD^2', 'RAD TAX', 'ZN RAD', 'INDUS', 'INDUS RM', 'CRIM RAD', 'INDUS^2', 'TAX^2', 'DIS RAD']\n",
      "64 ['PTRATIO LSTAT', 'RM^2', 'RM', 'LSTAT^2', 'NOX LSTAT', 'DIS PTRATIO', 'CRIM CHAS', 'CRIM LSTAT', 'RAD B', 'RM TAX', 'TAX', 'TAX LSTAT', 'AGE B', 'DIS^2', 'DIS TAX', 'RM PTRATIO', 'DIS', 'NOX RM', 'NOX PTRATIO', 'CRIM NOX', 'DIS LSTAT', 'CRIM RM', 'RM LSTAT', 'DIS B', 'AGE RAD', 'RAD LSTAT', 'NOX DIS', 'AGE LSTAT', 'RM DIS', 'PTRATIO', 'CRIM PTRATIO', 'INDUS AGE', 'INDUS LSTAT', 'TAX PTRATIO', 'INDUS PTRATIO', 'AGE TAX', 'INDUS NOX', 'CHAS NOX', 'CHAS', 'CHAS RM', 'CRIM^2', 'CHAS PTRATIO', 'ZN LSTAT', 'ZN TAX', 'ZN PTRATIO', 'ZN DIS', 'CRIM B', 'B', 'AGE', 'RM AGE', 'NOX AGE', 'B^2', 'ZN^2', 'CRIM ZN', 'RAD^2', 'RAD TAX', 'ZN RAD', 'INDUS', 'INDUS RM', 'CRIM RAD', 'INDUS^2', 'TAX^2', 'DIS RAD', 'INDUS TAX']\n",
      "65 ['PTRATIO LSTAT', 'RM^2', 'RM', 'LSTAT^2', 'NOX LSTAT', 'DIS PTRATIO', 'CRIM CHAS', 'CRIM LSTAT', 'RAD B', 'RM TAX', 'TAX', 'TAX LSTAT', 'AGE B', 'DIS^2', 'DIS TAX', 'RM PTRATIO', 'DIS', 'NOX RM', 'NOX PTRATIO', 'CRIM NOX', 'DIS LSTAT', 'CRIM RM', 'RM LSTAT', 'DIS B', 'AGE RAD', 'RAD LSTAT', 'NOX DIS', 'AGE LSTAT', 'RM DIS', 'PTRATIO', 'CRIM PTRATIO', 'INDUS AGE', 'INDUS LSTAT', 'TAX PTRATIO', 'INDUS PTRATIO', 'AGE TAX', 'INDUS NOX', 'CHAS NOX', 'CHAS', 'CHAS RM', 'CRIM^2', 'CHAS PTRATIO', 'ZN LSTAT', 'ZN TAX', 'ZN PTRATIO', 'ZN DIS', 'CRIM B', 'B', 'AGE', 'RM AGE', 'NOX AGE', 'B^2', 'ZN^2', 'CRIM ZN', 'RAD^2', 'RAD TAX', 'ZN RAD', 'INDUS', 'INDUS RM', 'CRIM RAD', 'INDUS^2', 'TAX^2', 'DIS RAD', 'INDUS TAX', 'INDUS DIS']\n",
      "66 ['PTRATIO LSTAT', 'RM^2', 'RM', 'LSTAT^2', 'NOX LSTAT', 'DIS PTRATIO', 'CRIM CHAS', 'CRIM LSTAT', 'RAD B', 'RM TAX', 'TAX', 'TAX LSTAT', 'AGE B', 'DIS^2', 'DIS TAX', 'RM PTRATIO', 'DIS', 'NOX RM', 'NOX PTRATIO', 'CRIM NOX', 'DIS LSTAT', 'CRIM RM', 'RM LSTAT', 'DIS B', 'AGE RAD', 'RAD LSTAT', 'NOX DIS', 'AGE LSTAT', 'RM DIS', 'PTRATIO', 'CRIM PTRATIO', 'INDUS AGE', 'INDUS LSTAT', 'TAX PTRATIO', 'INDUS PTRATIO', 'AGE TAX', 'INDUS NOX', 'CHAS NOX', 'CHAS', 'CHAS RM', 'CRIM^2', 'CHAS PTRATIO', 'ZN LSTAT', 'ZN TAX', 'ZN PTRATIO', 'ZN DIS', 'CRIM B', 'B', 'AGE', 'RM AGE', 'NOX AGE', 'B^2', 'ZN^2', 'CRIM ZN', 'RAD^2', 'RAD TAX', 'ZN RAD', 'INDUS', 'INDUS RM', 'CRIM RAD', 'INDUS^2', 'TAX^2', 'DIS RAD', 'INDUS TAX', 'INDUS DIS', 'CHAS LSTAT']\n",
      "67 ['PTRATIO LSTAT', 'RM^2', 'RM', 'LSTAT^2', 'NOX LSTAT', 'DIS PTRATIO', 'CRIM CHAS', 'CRIM LSTAT', 'RAD B', 'RM TAX', 'TAX', 'TAX LSTAT', 'AGE B', 'DIS^2', 'DIS TAX', 'RM PTRATIO', 'DIS', 'NOX RM', 'NOX PTRATIO', 'CRIM NOX', 'DIS LSTAT', 'CRIM RM', 'RM LSTAT', 'DIS B', 'AGE RAD', 'RAD LSTAT', 'NOX DIS', 'AGE LSTAT', 'RM DIS', 'PTRATIO', 'CRIM PTRATIO', 'INDUS AGE', 'INDUS LSTAT', 'TAX PTRATIO', 'INDUS PTRATIO', 'AGE TAX', 'INDUS NOX', 'CHAS NOX', 'CHAS', 'CHAS RM', 'CRIM^2', 'CHAS PTRATIO', 'ZN LSTAT', 'ZN TAX', 'ZN PTRATIO', 'ZN DIS', 'CRIM B', 'B', 'AGE', 'RM AGE', 'NOX AGE', 'B^2', 'ZN^2', 'CRIM ZN', 'RAD^2', 'RAD TAX', 'ZN RAD', 'INDUS', 'INDUS RM', 'CRIM RAD', 'INDUS^2', 'TAX^2', 'DIS RAD', 'INDUS TAX', 'INDUS DIS', 'CHAS LSTAT', 'CHAS AGE']\n"
     ]
    },
    {
     "name": "stdout",
     "output_type": "stream",
     "text": [
      "68 ['PTRATIO LSTAT', 'RM^2', 'RM', 'LSTAT^2', 'NOX LSTAT', 'DIS PTRATIO', 'CRIM CHAS', 'CRIM LSTAT', 'RAD B', 'RM TAX', 'TAX', 'TAX LSTAT', 'AGE B', 'DIS^2', 'DIS TAX', 'RM PTRATIO', 'DIS', 'NOX RM', 'NOX PTRATIO', 'CRIM NOX', 'DIS LSTAT', 'CRIM RM', 'RM LSTAT', 'DIS B', 'AGE RAD', 'RAD LSTAT', 'NOX DIS', 'AGE LSTAT', 'RM DIS', 'PTRATIO', 'CRIM PTRATIO', 'INDUS AGE', 'INDUS LSTAT', 'TAX PTRATIO', 'INDUS PTRATIO', 'AGE TAX', 'INDUS NOX', 'CHAS NOX', 'CHAS', 'CHAS RM', 'CRIM^2', 'CHAS PTRATIO', 'ZN LSTAT', 'ZN TAX', 'ZN PTRATIO', 'ZN DIS', 'CRIM B', 'B', 'AGE', 'RM AGE', 'NOX AGE', 'B^2', 'ZN^2', 'CRIM ZN', 'RAD^2', 'RAD TAX', 'ZN RAD', 'INDUS', 'INDUS RM', 'CRIM RAD', 'INDUS^2', 'TAX^2', 'DIS RAD', 'INDUS TAX', 'INDUS DIS', 'CHAS LSTAT', 'CHAS AGE', 'CHAS B']\n",
      "69 ['PTRATIO LSTAT', 'RM^2', 'RM', 'LSTAT^2', 'NOX LSTAT', 'DIS PTRATIO', 'CRIM CHAS', 'CRIM LSTAT', 'RAD B', 'RM TAX', 'TAX', 'TAX LSTAT', 'AGE B', 'DIS^2', 'DIS TAX', 'RM PTRATIO', 'DIS', 'NOX RM', 'NOX PTRATIO', 'CRIM NOX', 'DIS LSTAT', 'CRIM RM', 'RM LSTAT', 'DIS B', 'AGE RAD', 'RAD LSTAT', 'NOX DIS', 'AGE LSTAT', 'RM DIS', 'PTRATIO', 'CRIM PTRATIO', 'INDUS AGE', 'INDUS LSTAT', 'TAX PTRATIO', 'INDUS PTRATIO', 'AGE TAX', 'INDUS NOX', 'CHAS NOX', 'CHAS', 'CHAS RM', 'CRIM^2', 'CHAS PTRATIO', 'ZN LSTAT', 'ZN TAX', 'ZN PTRATIO', 'ZN DIS', 'CRIM B', 'B', 'AGE', 'RM AGE', 'NOX AGE', 'B^2', 'ZN^2', 'CRIM ZN', 'RAD^2', 'RAD TAX', 'ZN RAD', 'INDUS', 'INDUS RM', 'CRIM RAD', 'INDUS^2', 'TAX^2', 'DIS RAD', 'INDUS TAX', 'INDUS DIS', 'CHAS LSTAT', 'CHAS AGE', 'CHAS B', 'AGE DIS']\n",
      "70 ['PTRATIO LSTAT', 'RM^2', 'RM', 'LSTAT^2', 'NOX LSTAT', 'DIS PTRATIO', 'CRIM CHAS', 'CRIM LSTAT', 'RAD B', 'RM TAX', 'TAX', 'TAX LSTAT', 'AGE B', 'DIS^2', 'DIS TAX', 'RM PTRATIO', 'DIS', 'NOX RM', 'NOX PTRATIO', 'CRIM NOX', 'DIS LSTAT', 'CRIM RM', 'RM LSTAT', 'DIS B', 'AGE RAD', 'RAD LSTAT', 'NOX DIS', 'AGE LSTAT', 'RM DIS', 'PTRATIO', 'CRIM PTRATIO', 'INDUS AGE', 'INDUS LSTAT', 'TAX PTRATIO', 'INDUS PTRATIO', 'AGE TAX', 'INDUS NOX', 'CHAS NOX', 'CHAS', 'CHAS RM', 'CRIM^2', 'CHAS PTRATIO', 'ZN LSTAT', 'ZN TAX', 'ZN PTRATIO', 'ZN DIS', 'CRIM B', 'B', 'AGE', 'RM AGE', 'NOX AGE', 'B^2', 'ZN^2', 'CRIM ZN', 'RAD^2', 'RAD TAX', 'ZN RAD', 'INDUS', 'INDUS RM', 'CRIM RAD', 'INDUS^2', 'TAX^2', 'DIS RAD', 'INDUS TAX', 'INDUS DIS', 'CHAS LSTAT', 'CHAS AGE', 'CHAS B', 'AGE DIS', 'NOX RAD']\n",
      "71 ['PTRATIO LSTAT', 'RM^2', 'RM', 'LSTAT^2', 'NOX LSTAT', 'DIS PTRATIO', 'CRIM CHAS', 'CRIM LSTAT', 'RAD B', 'RM TAX', 'TAX', 'TAX LSTAT', 'AGE B', 'DIS^2', 'DIS TAX', 'RM PTRATIO', 'DIS', 'NOX RM', 'NOX PTRATIO', 'CRIM NOX', 'DIS LSTAT', 'CRIM RM', 'RM LSTAT', 'DIS B', 'AGE RAD', 'RAD LSTAT', 'NOX DIS', 'AGE LSTAT', 'RM DIS', 'PTRATIO', 'CRIM PTRATIO', 'INDUS AGE', 'INDUS LSTAT', 'TAX PTRATIO', 'INDUS PTRATIO', 'AGE TAX', 'INDUS NOX', 'CHAS NOX', 'CHAS', 'CHAS RM', 'CRIM^2', 'CHAS PTRATIO', 'ZN LSTAT', 'ZN TAX', 'ZN PTRATIO', 'ZN DIS', 'CRIM B', 'B', 'AGE', 'RM AGE', 'NOX AGE', 'B^2', 'ZN^2', 'CRIM ZN', 'RAD^2', 'RAD TAX', 'ZN RAD', 'INDUS', 'INDUS RM', 'CRIM RAD', 'INDUS^2', 'TAX^2', 'DIS RAD', 'INDUS TAX', 'INDUS DIS', 'CHAS LSTAT', 'CHAS AGE', 'CHAS B', 'AGE DIS', 'NOX RAD', 'RM B']\n",
      "72 ['PTRATIO LSTAT', 'RM^2', 'RM', 'LSTAT^2', 'NOX LSTAT', 'DIS PTRATIO', 'CRIM CHAS', 'CRIM LSTAT', 'RAD B', 'RM TAX', 'TAX', 'TAX LSTAT', 'AGE B', 'DIS^2', 'DIS TAX', 'RM PTRATIO', 'DIS', 'NOX RM', 'NOX PTRATIO', 'CRIM NOX', 'DIS LSTAT', 'CRIM RM', 'RM LSTAT', 'DIS B', 'AGE RAD', 'RAD LSTAT', 'NOX DIS', 'AGE LSTAT', 'RM DIS', 'PTRATIO', 'CRIM PTRATIO', 'INDUS AGE', 'INDUS LSTAT', 'TAX PTRATIO', 'INDUS PTRATIO', 'AGE TAX', 'INDUS NOX', 'CHAS NOX', 'CHAS', 'CHAS RM', 'CRIM^2', 'CHAS PTRATIO', 'ZN LSTAT', 'ZN TAX', 'ZN PTRATIO', 'ZN DIS', 'CRIM B', 'B', 'AGE', 'RM AGE', 'NOX AGE', 'B^2', 'ZN^2', 'CRIM ZN', 'RAD^2', 'RAD TAX', 'ZN RAD', 'INDUS', 'INDUS RM', 'CRIM RAD', 'INDUS^2', 'TAX^2', 'DIS RAD', 'INDUS TAX', 'INDUS DIS', 'CHAS LSTAT', 'CHAS AGE', 'CHAS B', 'AGE DIS', 'NOX RAD', 'RM B', 'ZN NOX']\n",
      "73 ['PTRATIO LSTAT', 'RM^2', 'RM', 'LSTAT^2', 'NOX LSTAT', 'DIS PTRATIO', 'CRIM CHAS', 'CRIM LSTAT', 'RAD B', 'RM TAX', 'TAX', 'TAX LSTAT', 'AGE B', 'DIS^2', 'DIS TAX', 'RM PTRATIO', 'DIS', 'NOX RM', 'NOX PTRATIO', 'CRIM NOX', 'DIS LSTAT', 'CRIM RM', 'RM LSTAT', 'DIS B', 'AGE RAD', 'RAD LSTAT', 'NOX DIS', 'AGE LSTAT', 'RM DIS', 'PTRATIO', 'CRIM PTRATIO', 'INDUS AGE', 'INDUS LSTAT', 'TAX PTRATIO', 'INDUS PTRATIO', 'AGE TAX', 'INDUS NOX', 'CHAS NOX', 'CHAS', 'CHAS RM', 'CRIM^2', 'CHAS PTRATIO', 'ZN LSTAT', 'ZN TAX', 'ZN PTRATIO', 'ZN DIS', 'CRIM B', 'B', 'AGE', 'RM AGE', 'NOX AGE', 'B^2', 'ZN^2', 'CRIM ZN', 'RAD^2', 'RAD TAX', 'ZN RAD', 'INDUS', 'INDUS RM', 'CRIM RAD', 'INDUS^2', 'TAX^2', 'DIS RAD', 'INDUS TAX', 'INDUS DIS', 'CHAS LSTAT', 'CHAS AGE', 'CHAS B', 'AGE DIS', 'NOX RAD', 'RM B', 'ZN NOX', 'ZN RM']\n",
      "74 ['PTRATIO LSTAT', 'RM^2', 'RM', 'LSTAT^2', 'NOX LSTAT', 'DIS PTRATIO', 'CRIM CHAS', 'CRIM LSTAT', 'RAD B', 'RM TAX', 'TAX', 'TAX LSTAT', 'AGE B', 'DIS^2', 'DIS TAX', 'RM PTRATIO', 'DIS', 'NOX RM', 'NOX PTRATIO', 'CRIM NOX', 'DIS LSTAT', 'CRIM RM', 'RM LSTAT', 'DIS B', 'AGE RAD', 'RAD LSTAT', 'NOX DIS', 'AGE LSTAT', 'RM DIS', 'PTRATIO', 'CRIM PTRATIO', 'INDUS AGE', 'INDUS LSTAT', 'TAX PTRATIO', 'INDUS PTRATIO', 'AGE TAX', 'INDUS NOX', 'CHAS NOX', 'CHAS', 'CHAS RM', 'CRIM^2', 'CHAS PTRATIO', 'ZN LSTAT', 'ZN TAX', 'ZN PTRATIO', 'ZN DIS', 'CRIM B', 'B', 'AGE', 'RM AGE', 'NOX AGE', 'B^2', 'ZN^2', 'CRIM ZN', 'RAD^2', 'RAD TAX', 'ZN RAD', 'INDUS', 'INDUS RM', 'CRIM RAD', 'INDUS^2', 'TAX^2', 'DIS RAD', 'INDUS TAX', 'INDUS DIS', 'CHAS LSTAT', 'CHAS AGE', 'CHAS B', 'AGE DIS', 'NOX RAD', 'RM B', 'ZN NOX', 'ZN RM', 'B LSTAT']\n",
      "75 ['PTRATIO LSTAT', 'RM^2', 'RM', 'LSTAT^2', 'NOX LSTAT', 'DIS PTRATIO', 'CRIM CHAS', 'CRIM LSTAT', 'RAD B', 'RM TAX', 'TAX', 'TAX LSTAT', 'AGE B', 'DIS^2', 'DIS TAX', 'RM PTRATIO', 'DIS', 'NOX RM', 'NOX PTRATIO', 'CRIM NOX', 'DIS LSTAT', 'CRIM RM', 'RM LSTAT', 'DIS B', 'AGE RAD', 'RAD LSTAT', 'NOX DIS', 'AGE LSTAT', 'RM DIS', 'PTRATIO', 'CRIM PTRATIO', 'INDUS AGE', 'INDUS LSTAT', 'TAX PTRATIO', 'INDUS PTRATIO', 'AGE TAX', 'INDUS NOX', 'CHAS NOX', 'CHAS', 'CHAS RM', 'CRIM^2', 'CHAS PTRATIO', 'ZN LSTAT', 'ZN TAX', 'ZN PTRATIO', 'ZN DIS', 'CRIM B', 'B', 'AGE', 'RM AGE', 'NOX AGE', 'B^2', 'ZN^2', 'CRIM ZN', 'RAD^2', 'RAD TAX', 'ZN RAD', 'INDUS', 'INDUS RM', 'CRIM RAD', 'INDUS^2', 'TAX^2', 'DIS RAD', 'INDUS TAX', 'INDUS DIS', 'CHAS LSTAT', 'CHAS AGE', 'CHAS B', 'AGE DIS', 'NOX RAD', 'RM B', 'ZN NOX', 'ZN RM', 'B LSTAT', 'LSTAT']\n",
      "76 ['PTRATIO LSTAT', 'RM^2', 'RM', 'LSTAT^2', 'NOX LSTAT', 'DIS PTRATIO', 'CRIM CHAS', 'CRIM LSTAT', 'RAD B', 'RM TAX', 'TAX', 'TAX LSTAT', 'AGE B', 'DIS^2', 'DIS TAX', 'RM PTRATIO', 'DIS', 'NOX RM', 'NOX PTRATIO', 'CRIM NOX', 'DIS LSTAT', 'CRIM RM', 'RM LSTAT', 'DIS B', 'AGE RAD', 'RAD LSTAT', 'NOX DIS', 'AGE LSTAT', 'RM DIS', 'PTRATIO', 'CRIM PTRATIO', 'INDUS AGE', 'INDUS LSTAT', 'TAX PTRATIO', 'INDUS PTRATIO', 'AGE TAX', 'INDUS NOX', 'CHAS NOX', 'CHAS', 'CHAS RM', 'CRIM^2', 'CHAS PTRATIO', 'ZN LSTAT', 'ZN TAX', 'ZN PTRATIO', 'ZN DIS', 'CRIM B', 'B', 'AGE', 'RM AGE', 'NOX AGE', 'B^2', 'ZN^2', 'CRIM ZN', 'RAD^2', 'RAD TAX', 'ZN RAD', 'INDUS', 'INDUS RM', 'CRIM RAD', 'INDUS^2', 'TAX^2', 'DIS RAD', 'INDUS TAX', 'INDUS DIS', 'CHAS LSTAT', 'CHAS AGE', 'CHAS B', 'AGE DIS', 'NOX RAD', 'RM B', 'ZN NOX', 'ZN RM', 'B LSTAT', 'LSTAT', 'NOX']\n",
      "77 ['PTRATIO LSTAT', 'RM^2', 'RM', 'LSTAT^2', 'NOX LSTAT', 'DIS PTRATIO', 'CRIM CHAS', 'CRIM LSTAT', 'RAD B', 'RM TAX', 'TAX', 'TAX LSTAT', 'AGE B', 'DIS^2', 'DIS TAX', 'RM PTRATIO', 'DIS', 'NOX RM', 'NOX PTRATIO', 'CRIM NOX', 'DIS LSTAT', 'CRIM RM', 'RM LSTAT', 'DIS B', 'AGE RAD', 'RAD LSTAT', 'NOX DIS', 'AGE LSTAT', 'RM DIS', 'PTRATIO', 'CRIM PTRATIO', 'INDUS AGE', 'INDUS LSTAT', 'TAX PTRATIO', 'INDUS PTRATIO', 'AGE TAX', 'INDUS NOX', 'CHAS NOX', 'CHAS', 'CHAS RM', 'CRIM^2', 'CHAS PTRATIO', 'ZN LSTAT', 'ZN TAX', 'ZN PTRATIO', 'ZN DIS', 'CRIM B', 'B', 'AGE', 'RM AGE', 'NOX AGE', 'B^2', 'ZN^2', 'CRIM ZN', 'RAD^2', 'RAD TAX', 'ZN RAD', 'INDUS', 'INDUS RM', 'CRIM RAD', 'INDUS^2', 'TAX^2', 'DIS RAD', 'INDUS TAX', 'INDUS DIS', 'CHAS LSTAT', 'CHAS AGE', 'CHAS B', 'AGE DIS', 'NOX RAD', 'RM B', 'ZN NOX', 'ZN RM', 'B LSTAT', 'LSTAT', 'NOX', 'ZN INDUS']\n",
      "78 ['PTRATIO LSTAT', 'RM^2', 'RM', 'LSTAT^2', 'NOX LSTAT', 'DIS PTRATIO', 'CRIM CHAS', 'CRIM LSTAT', 'RAD B', 'RM TAX', 'TAX', 'TAX LSTAT', 'AGE B', 'DIS^2', 'DIS TAX', 'RM PTRATIO', 'DIS', 'NOX RM', 'NOX PTRATIO', 'CRIM NOX', 'DIS LSTAT', 'CRIM RM', 'RM LSTAT', 'DIS B', 'AGE RAD', 'RAD LSTAT', 'NOX DIS', 'AGE LSTAT', 'RM DIS', 'PTRATIO', 'CRIM PTRATIO', 'INDUS AGE', 'INDUS LSTAT', 'TAX PTRATIO', 'INDUS PTRATIO', 'AGE TAX', 'INDUS NOX', 'CHAS NOX', 'CHAS', 'CHAS RM', 'CRIM^2', 'CHAS PTRATIO', 'ZN LSTAT', 'ZN TAX', 'ZN PTRATIO', 'ZN DIS', 'CRIM B', 'B', 'AGE', 'RM AGE', 'NOX AGE', 'B^2', 'ZN^2', 'CRIM ZN', 'RAD^2', 'RAD TAX', 'ZN RAD', 'INDUS', 'INDUS RM', 'CRIM RAD', 'INDUS^2', 'TAX^2', 'DIS RAD', 'INDUS TAX', 'INDUS DIS', 'CHAS LSTAT', 'CHAS AGE', 'CHAS B', 'AGE DIS', 'NOX RAD', 'RM B', 'ZN NOX', 'ZN RM', 'B LSTAT', 'LSTAT', 'NOX', 'ZN INDUS', 'NOX TAX']\n"
     ]
    },
    {
     "name": "stdout",
     "output_type": "stream",
     "text": [
      "79 ['PTRATIO LSTAT', 'RM^2', 'RM', 'LSTAT^2', 'NOX LSTAT', 'DIS PTRATIO', 'CRIM CHAS', 'CRIM LSTAT', 'RAD B', 'RM TAX', 'TAX', 'TAX LSTAT', 'AGE B', 'DIS^2', 'DIS TAX', 'RM PTRATIO', 'DIS', 'NOX RM', 'NOX PTRATIO', 'CRIM NOX', 'DIS LSTAT', 'CRIM RM', 'RM LSTAT', 'DIS B', 'AGE RAD', 'RAD LSTAT', 'NOX DIS', 'AGE LSTAT', 'RM DIS', 'PTRATIO', 'CRIM PTRATIO', 'INDUS AGE', 'INDUS LSTAT', 'TAX PTRATIO', 'INDUS PTRATIO', 'AGE TAX', 'INDUS NOX', 'CHAS NOX', 'CHAS', 'CHAS RM', 'CRIM^2', 'CHAS PTRATIO', 'ZN LSTAT', 'ZN TAX', 'ZN PTRATIO', 'ZN DIS', 'CRIM B', 'B', 'AGE', 'RM AGE', 'NOX AGE', 'B^2', 'ZN^2', 'CRIM ZN', 'RAD^2', 'RAD TAX', 'ZN RAD', 'INDUS', 'INDUS RM', 'CRIM RAD', 'INDUS^2', 'TAX^2', 'DIS RAD', 'INDUS TAX', 'INDUS DIS', 'CHAS LSTAT', 'CHAS AGE', 'CHAS B', 'AGE DIS', 'NOX RAD', 'RM B', 'ZN NOX', 'ZN RM', 'B LSTAT', 'LSTAT', 'NOX', 'ZN INDUS', 'NOX TAX', 'ZN CHAS']\n",
      "80 ['PTRATIO LSTAT', 'RM^2', 'RM', 'LSTAT^2', 'NOX LSTAT', 'DIS PTRATIO', 'CRIM CHAS', 'CRIM LSTAT', 'RAD B', 'RM TAX', 'TAX', 'TAX LSTAT', 'AGE B', 'DIS^2', 'DIS TAX', 'RM PTRATIO', 'DIS', 'NOX RM', 'NOX PTRATIO', 'CRIM NOX', 'DIS LSTAT', 'CRIM RM', 'RM LSTAT', 'DIS B', 'AGE RAD', 'RAD LSTAT', 'NOX DIS', 'AGE LSTAT', 'RM DIS', 'PTRATIO', 'CRIM PTRATIO', 'INDUS AGE', 'INDUS LSTAT', 'TAX PTRATIO', 'INDUS PTRATIO', 'AGE TAX', 'INDUS NOX', 'CHAS NOX', 'CHAS', 'CHAS RM', 'CRIM^2', 'CHAS PTRATIO', 'ZN LSTAT', 'ZN TAX', 'ZN PTRATIO', 'ZN DIS', 'CRIM B', 'B', 'AGE', 'RM AGE', 'NOX AGE', 'B^2', 'ZN^2', 'CRIM ZN', 'RAD^2', 'RAD TAX', 'ZN RAD', 'INDUS', 'INDUS RM', 'CRIM RAD', 'INDUS^2', 'TAX^2', 'DIS RAD', 'INDUS TAX', 'INDUS DIS', 'CHAS LSTAT', 'CHAS AGE', 'CHAS B', 'AGE DIS', 'NOX RAD', 'RM B', 'ZN NOX', 'ZN RM', 'B LSTAT', 'LSTAT', 'NOX', 'ZN INDUS', 'NOX TAX', 'ZN CHAS', 'CHAS DIS']\n",
      "81 ['PTRATIO LSTAT', 'RM^2', 'RM', 'LSTAT^2', 'NOX LSTAT', 'DIS PTRATIO', 'CRIM CHAS', 'CRIM LSTAT', 'RAD B', 'RM TAX', 'TAX', 'TAX LSTAT', 'AGE B', 'DIS^2', 'DIS TAX', 'RM PTRATIO', 'DIS', 'NOX RM', 'NOX PTRATIO', 'CRIM NOX', 'DIS LSTAT', 'CRIM RM', 'RM LSTAT', 'DIS B', 'AGE RAD', 'RAD LSTAT', 'NOX DIS', 'AGE LSTAT', 'RM DIS', 'PTRATIO', 'CRIM PTRATIO', 'INDUS AGE', 'INDUS LSTAT', 'TAX PTRATIO', 'INDUS PTRATIO', 'AGE TAX', 'INDUS NOX', 'CHAS NOX', 'CHAS', 'CHAS RM', 'CRIM^2', 'CHAS PTRATIO', 'ZN LSTAT', 'ZN TAX', 'ZN PTRATIO', 'ZN DIS', 'CRIM B', 'B', 'AGE', 'RM AGE', 'NOX AGE', 'B^2', 'ZN^2', 'CRIM ZN', 'RAD^2', 'RAD TAX', 'ZN RAD', 'INDUS', 'INDUS RM', 'CRIM RAD', 'INDUS^2', 'TAX^2', 'DIS RAD', 'INDUS TAX', 'INDUS DIS', 'CHAS LSTAT', 'CHAS AGE', 'CHAS B', 'AGE DIS', 'NOX RAD', 'RM B', 'ZN NOX', 'ZN RM', 'B LSTAT', 'LSTAT', 'NOX', 'ZN INDUS', 'NOX TAX', 'ZN CHAS', 'CHAS DIS', 'ZN B']\n",
      "82 ['PTRATIO LSTAT', 'RM^2', 'RM', 'LSTAT^2', 'NOX LSTAT', 'DIS PTRATIO', 'CRIM CHAS', 'CRIM LSTAT', 'RAD B', 'RM TAX', 'TAX', 'TAX LSTAT', 'AGE B', 'DIS^2', 'DIS TAX', 'RM PTRATIO', 'DIS', 'NOX RM', 'NOX PTRATIO', 'CRIM NOX', 'DIS LSTAT', 'CRIM RM', 'RM LSTAT', 'DIS B', 'AGE RAD', 'RAD LSTAT', 'NOX DIS', 'AGE LSTAT', 'RM DIS', 'PTRATIO', 'CRIM PTRATIO', 'INDUS AGE', 'INDUS LSTAT', 'TAX PTRATIO', 'INDUS PTRATIO', 'AGE TAX', 'INDUS NOX', 'CHAS NOX', 'CHAS', 'CHAS RM', 'CRIM^2', 'CHAS PTRATIO', 'ZN LSTAT', 'ZN TAX', 'ZN PTRATIO', 'ZN DIS', 'CRIM B', 'B', 'AGE', 'RM AGE', 'NOX AGE', 'B^2', 'ZN^2', 'CRIM ZN', 'RAD^2', 'RAD TAX', 'ZN RAD', 'INDUS', 'INDUS RM', 'CRIM RAD', 'INDUS^2', 'TAX^2', 'DIS RAD', 'INDUS TAX', 'INDUS DIS', 'CHAS LSTAT', 'CHAS AGE', 'CHAS B', 'AGE DIS', 'NOX RAD', 'RM B', 'ZN NOX', 'ZN RM', 'B LSTAT', 'LSTAT', 'NOX', 'ZN INDUS', 'NOX TAX', 'ZN CHAS', 'CHAS DIS', 'ZN B', 'NOX^2']\n",
      "83 ['PTRATIO LSTAT', 'RM^2', 'RM', 'LSTAT^2', 'NOX LSTAT', 'DIS PTRATIO', 'CRIM CHAS', 'CRIM LSTAT', 'RAD B', 'RM TAX', 'TAX', 'TAX LSTAT', 'AGE B', 'DIS^2', 'DIS TAX', 'RM PTRATIO', 'DIS', 'NOX RM', 'NOX PTRATIO', 'CRIM NOX', 'DIS LSTAT', 'CRIM RM', 'RM LSTAT', 'DIS B', 'AGE RAD', 'RAD LSTAT', 'NOX DIS', 'AGE LSTAT', 'RM DIS', 'PTRATIO', 'CRIM PTRATIO', 'INDUS AGE', 'INDUS LSTAT', 'TAX PTRATIO', 'INDUS PTRATIO', 'AGE TAX', 'INDUS NOX', 'CHAS NOX', 'CHAS', 'CHAS RM', 'CRIM^2', 'CHAS PTRATIO', 'ZN LSTAT', 'ZN TAX', 'ZN PTRATIO', 'ZN DIS', 'CRIM B', 'B', 'AGE', 'RM AGE', 'NOX AGE', 'B^2', 'ZN^2', 'CRIM ZN', 'RAD^2', 'RAD TAX', 'ZN RAD', 'INDUS', 'INDUS RM', 'CRIM RAD', 'INDUS^2', 'TAX^2', 'DIS RAD', 'INDUS TAX', 'INDUS DIS', 'CHAS LSTAT', 'CHAS AGE', 'CHAS B', 'AGE DIS', 'NOX RAD', 'RM B', 'ZN NOX', 'ZN RM', 'B LSTAT', 'LSTAT', 'NOX', 'ZN INDUS', 'NOX TAX', 'ZN CHAS', 'CHAS DIS', 'ZN B', 'NOX^2', 'CRIM AGE']\n",
      "84 ['PTRATIO LSTAT', 'RM^2', 'RM', 'LSTAT^2', 'NOX LSTAT', 'DIS PTRATIO', 'CRIM CHAS', 'CRIM LSTAT', 'RAD B', 'RM TAX', 'TAX', 'TAX LSTAT', 'AGE B', 'DIS^2', 'DIS TAX', 'RM PTRATIO', 'DIS', 'NOX RM', 'NOX PTRATIO', 'CRIM NOX', 'DIS LSTAT', 'CRIM RM', 'RM LSTAT', 'DIS B', 'AGE RAD', 'RAD LSTAT', 'NOX DIS', 'AGE LSTAT', 'RM DIS', 'PTRATIO', 'CRIM PTRATIO', 'INDUS AGE', 'INDUS LSTAT', 'TAX PTRATIO', 'INDUS PTRATIO', 'AGE TAX', 'INDUS NOX', 'CHAS NOX', 'CHAS', 'CHAS RM', 'CRIM^2', 'CHAS PTRATIO', 'ZN LSTAT', 'ZN TAX', 'ZN PTRATIO', 'ZN DIS', 'CRIM B', 'B', 'AGE', 'RM AGE', 'NOX AGE', 'B^2', 'ZN^2', 'CRIM ZN', 'RAD^2', 'RAD TAX', 'ZN RAD', 'INDUS', 'INDUS RM', 'CRIM RAD', 'INDUS^2', 'TAX^2', 'DIS RAD', 'INDUS TAX', 'INDUS DIS', 'CHAS LSTAT', 'CHAS AGE', 'CHAS B', 'AGE DIS', 'NOX RAD', 'RM B', 'ZN NOX', 'ZN RM', 'B LSTAT', 'LSTAT', 'NOX', 'ZN INDUS', 'NOX TAX', 'ZN CHAS', 'CHAS DIS', 'ZN B', 'NOX^2', 'CRIM AGE', 'CRIM DIS']\n",
      "85 ['PTRATIO LSTAT', 'RM^2', 'RM', 'LSTAT^2', 'NOX LSTAT', 'DIS PTRATIO', 'CRIM CHAS', 'CRIM LSTAT', 'RAD B', 'RM TAX', 'TAX', 'TAX LSTAT', 'AGE B', 'DIS^2', 'DIS TAX', 'RM PTRATIO', 'DIS', 'NOX RM', 'NOX PTRATIO', 'CRIM NOX', 'DIS LSTAT', 'CRIM RM', 'RM LSTAT', 'DIS B', 'AGE RAD', 'RAD LSTAT', 'NOX DIS', 'AGE LSTAT', 'RM DIS', 'PTRATIO', 'CRIM PTRATIO', 'INDUS AGE', 'INDUS LSTAT', 'TAX PTRATIO', 'INDUS PTRATIO', 'AGE TAX', 'INDUS NOX', 'CHAS NOX', 'CHAS', 'CHAS RM', 'CRIM^2', 'CHAS PTRATIO', 'ZN LSTAT', 'ZN TAX', 'ZN PTRATIO', 'ZN DIS', 'CRIM B', 'B', 'AGE', 'RM AGE', 'NOX AGE', 'B^2', 'ZN^2', 'CRIM ZN', 'RAD^2', 'RAD TAX', 'ZN RAD', 'INDUS', 'INDUS RM', 'CRIM RAD', 'INDUS^2', 'TAX^2', 'DIS RAD', 'INDUS TAX', 'INDUS DIS', 'CHAS LSTAT', 'CHAS AGE', 'CHAS B', 'AGE DIS', 'NOX RAD', 'RM B', 'ZN NOX', 'ZN RM', 'B LSTAT', 'LSTAT', 'NOX', 'ZN INDUS', 'NOX TAX', 'ZN CHAS', 'CHAS DIS', 'ZN B', 'NOX^2', 'CRIM AGE', 'CRIM DIS', 'NOX B']\n",
      "86 ['PTRATIO LSTAT', 'RM^2', 'RM', 'LSTAT^2', 'NOX LSTAT', 'DIS PTRATIO', 'CRIM CHAS', 'CRIM LSTAT', 'RAD B', 'RM TAX', 'TAX', 'TAX LSTAT', 'AGE B', 'DIS^2', 'DIS TAX', 'RM PTRATIO', 'DIS', 'NOX RM', 'NOX PTRATIO', 'CRIM NOX', 'DIS LSTAT', 'CRIM RM', 'RM LSTAT', 'DIS B', 'AGE RAD', 'RAD LSTAT', 'NOX DIS', 'AGE LSTAT', 'RM DIS', 'PTRATIO', 'CRIM PTRATIO', 'INDUS AGE', 'INDUS LSTAT', 'TAX PTRATIO', 'INDUS PTRATIO', 'AGE TAX', 'INDUS NOX', 'CHAS NOX', 'CHAS', 'CHAS RM', 'CRIM^2', 'CHAS PTRATIO', 'ZN LSTAT', 'ZN TAX', 'ZN PTRATIO', 'ZN DIS', 'CRIM B', 'B', 'AGE', 'RM AGE', 'NOX AGE', 'B^2', 'ZN^2', 'CRIM ZN', 'RAD^2', 'RAD TAX', 'ZN RAD', 'INDUS', 'INDUS RM', 'CRIM RAD', 'INDUS^2', 'TAX^2', 'DIS RAD', 'INDUS TAX', 'INDUS DIS', 'CHAS LSTAT', 'CHAS AGE', 'CHAS B', 'AGE DIS', 'NOX RAD', 'RM B', 'ZN NOX', 'ZN RM', 'B LSTAT', 'LSTAT', 'NOX', 'ZN INDUS', 'NOX TAX', 'ZN CHAS', 'CHAS DIS', 'ZN B', 'NOX^2', 'CRIM AGE', 'CRIM DIS', 'NOX B', 'INDUS B']\n",
      "87 ['PTRATIO LSTAT', 'RM^2', 'RM', 'LSTAT^2', 'NOX LSTAT', 'DIS PTRATIO', 'CRIM CHAS', 'CRIM LSTAT', 'RAD B', 'RM TAX', 'TAX', 'TAX LSTAT', 'AGE B', 'DIS^2', 'DIS TAX', 'RM PTRATIO', 'DIS', 'NOX RM', 'NOX PTRATIO', 'CRIM NOX', 'DIS LSTAT', 'CRIM RM', 'RM LSTAT', 'DIS B', 'AGE RAD', 'RAD LSTAT', 'NOX DIS', 'AGE LSTAT', 'RM DIS', 'PTRATIO', 'CRIM PTRATIO', 'INDUS AGE', 'INDUS LSTAT', 'TAX PTRATIO', 'INDUS PTRATIO', 'AGE TAX', 'INDUS NOX', 'CHAS NOX', 'CHAS', 'CHAS RM', 'CRIM^2', 'CHAS PTRATIO', 'ZN LSTAT', 'ZN TAX', 'ZN PTRATIO', 'ZN DIS', 'CRIM B', 'B', 'AGE', 'RM AGE', 'NOX AGE', 'B^2', 'ZN^2', 'CRIM ZN', 'RAD^2', 'RAD TAX', 'ZN RAD', 'INDUS', 'INDUS RM', 'CRIM RAD', 'INDUS^2', 'TAX^2', 'DIS RAD', 'INDUS TAX', 'INDUS DIS', 'CHAS LSTAT', 'CHAS AGE', 'CHAS B', 'AGE DIS', 'NOX RAD', 'RM B', 'ZN NOX', 'ZN RM', 'B LSTAT', 'LSTAT', 'NOX', 'ZN INDUS', 'NOX TAX', 'ZN CHAS', 'CHAS DIS', 'ZN B', 'NOX^2', 'CRIM AGE', 'CRIM DIS', 'NOX B', 'INDUS B', 'CRIM INDUS']\n"
     ]
    },
    {
     "name": "stdout",
     "output_type": "stream",
     "text": [
      "88 ['PTRATIO LSTAT', 'RM^2', 'RM', 'LSTAT^2', 'NOX LSTAT', 'DIS PTRATIO', 'CRIM CHAS', 'CRIM LSTAT', 'RAD B', 'RM TAX', 'TAX', 'TAX LSTAT', 'AGE B', 'DIS^2', 'DIS TAX', 'RM PTRATIO', 'DIS', 'NOX RM', 'NOX PTRATIO', 'CRIM NOX', 'DIS LSTAT', 'CRIM RM', 'RM LSTAT', 'DIS B', 'AGE RAD', 'RAD LSTAT', 'NOX DIS', 'AGE LSTAT', 'RM DIS', 'PTRATIO', 'CRIM PTRATIO', 'INDUS AGE', 'INDUS LSTAT', 'TAX PTRATIO', 'INDUS PTRATIO', 'AGE TAX', 'INDUS NOX', 'CHAS NOX', 'CHAS', 'CHAS RM', 'CRIM^2', 'CHAS PTRATIO', 'ZN LSTAT', 'ZN TAX', 'ZN PTRATIO', 'ZN DIS', 'CRIM B', 'B', 'AGE', 'RM AGE', 'NOX AGE', 'B^2', 'ZN^2', 'CRIM ZN', 'RAD^2', 'RAD TAX', 'ZN RAD', 'INDUS', 'INDUS RM', 'CRIM RAD', 'INDUS^2', 'TAX^2', 'DIS RAD', 'INDUS TAX', 'INDUS DIS', 'CHAS LSTAT', 'CHAS AGE', 'CHAS B', 'AGE DIS', 'NOX RAD', 'RM B', 'ZN NOX', 'ZN RM', 'B LSTAT', 'LSTAT', 'NOX', 'ZN INDUS', 'NOX TAX', 'ZN CHAS', 'CHAS DIS', 'ZN B', 'NOX^2', 'CRIM AGE', 'CRIM DIS', 'NOX B', 'INDUS B', 'CRIM INDUS', 'CRIM']\n",
      "89 ['PTRATIO LSTAT', 'RM^2', 'RM', 'LSTAT^2', 'NOX LSTAT', 'DIS PTRATIO', 'CRIM CHAS', 'CRIM LSTAT', 'RAD B', 'RM TAX', 'TAX', 'TAX LSTAT', 'AGE B', 'DIS^2', 'DIS TAX', 'RM PTRATIO', 'DIS', 'NOX RM', 'NOX PTRATIO', 'CRIM NOX', 'DIS LSTAT', 'CRIM RM', 'RM LSTAT', 'DIS B', 'AGE RAD', 'RAD LSTAT', 'NOX DIS', 'AGE LSTAT', 'RM DIS', 'PTRATIO', 'CRIM PTRATIO', 'INDUS AGE', 'INDUS LSTAT', 'TAX PTRATIO', 'INDUS PTRATIO', 'AGE TAX', 'INDUS NOX', 'CHAS NOX', 'CHAS', 'CHAS RM', 'CRIM^2', 'CHAS PTRATIO', 'ZN LSTAT', 'ZN TAX', 'ZN PTRATIO', 'ZN DIS', 'CRIM B', 'B', 'AGE', 'RM AGE', 'NOX AGE', 'B^2', 'ZN^2', 'CRIM ZN', 'RAD^2', 'RAD TAX', 'ZN RAD', 'INDUS', 'INDUS RM', 'CRIM RAD', 'INDUS^2', 'TAX^2', 'DIS RAD', 'INDUS TAX', 'INDUS DIS', 'CHAS LSTAT', 'CHAS AGE', 'CHAS B', 'AGE DIS', 'NOX RAD', 'RM B', 'ZN NOX', 'ZN RM', 'B LSTAT', 'LSTAT', 'NOX', 'ZN INDUS', 'NOX TAX', 'ZN CHAS', 'CHAS DIS', 'ZN B', 'NOX^2', 'CRIM AGE', 'CRIM DIS', 'NOX B', 'INDUS B', 'CRIM INDUS', 'CRIM', 'INDUS RAD']\n",
      "90 ['PTRATIO LSTAT', 'RM^2', 'RM', 'LSTAT^2', 'NOX LSTAT', 'DIS PTRATIO', 'CRIM CHAS', 'CRIM LSTAT', 'RAD B', 'RM TAX', 'TAX', 'TAX LSTAT', 'AGE B', 'DIS^2', 'DIS TAX', 'RM PTRATIO', 'DIS', 'NOX RM', 'NOX PTRATIO', 'CRIM NOX', 'DIS LSTAT', 'CRIM RM', 'RM LSTAT', 'DIS B', 'AGE RAD', 'RAD LSTAT', 'NOX DIS', 'AGE LSTAT', 'RM DIS', 'PTRATIO', 'CRIM PTRATIO', 'INDUS AGE', 'INDUS LSTAT', 'TAX PTRATIO', 'INDUS PTRATIO', 'AGE TAX', 'INDUS NOX', 'CHAS NOX', 'CHAS', 'CHAS RM', 'CRIM^2', 'CHAS PTRATIO', 'ZN LSTAT', 'ZN TAX', 'ZN PTRATIO', 'ZN DIS', 'CRIM B', 'B', 'AGE', 'RM AGE', 'NOX AGE', 'B^2', 'ZN^2', 'CRIM ZN', 'RAD^2', 'RAD TAX', 'ZN RAD', 'INDUS', 'INDUS RM', 'CRIM RAD', 'INDUS^2', 'TAX^2', 'DIS RAD', 'INDUS TAX', 'INDUS DIS', 'CHAS LSTAT', 'CHAS AGE', 'CHAS B', 'AGE DIS', 'NOX RAD', 'RM B', 'ZN NOX', 'ZN RM', 'B LSTAT', 'LSTAT', 'NOX', 'ZN INDUS', 'NOX TAX', 'ZN CHAS', 'CHAS DIS', 'ZN B', 'NOX^2', 'CRIM AGE', 'CRIM DIS', 'NOX B', 'INDUS B', 'CRIM INDUS', 'CRIM', 'INDUS RAD', 'PTRATIO B']\n",
      "91 ['PTRATIO LSTAT', 'RM^2', 'RM', 'LSTAT^2', 'NOX LSTAT', 'DIS PTRATIO', 'CRIM CHAS', 'CRIM LSTAT', 'RAD B', 'RM TAX', 'TAX', 'TAX LSTAT', 'AGE B', 'DIS^2', 'DIS TAX', 'RM PTRATIO', 'DIS', 'NOX RM', 'NOX PTRATIO', 'CRIM NOX', 'DIS LSTAT', 'CRIM RM', 'RM LSTAT', 'DIS B', 'AGE RAD', 'RAD LSTAT', 'NOX DIS', 'AGE LSTAT', 'RM DIS', 'PTRATIO', 'CRIM PTRATIO', 'INDUS AGE', 'INDUS LSTAT', 'TAX PTRATIO', 'INDUS PTRATIO', 'AGE TAX', 'INDUS NOX', 'CHAS NOX', 'CHAS', 'CHAS RM', 'CRIM^2', 'CHAS PTRATIO', 'ZN LSTAT', 'ZN TAX', 'ZN PTRATIO', 'ZN DIS', 'CRIM B', 'B', 'AGE', 'RM AGE', 'NOX AGE', 'B^2', 'ZN^2', 'CRIM ZN', 'RAD^2', 'RAD TAX', 'ZN RAD', 'INDUS', 'INDUS RM', 'CRIM RAD', 'INDUS^2', 'TAX^2', 'DIS RAD', 'INDUS TAX', 'INDUS DIS', 'CHAS LSTAT', 'CHAS AGE', 'CHAS B', 'AGE DIS', 'NOX RAD', 'RM B', 'ZN NOX', 'ZN RM', 'B LSTAT', 'LSTAT', 'NOX', 'ZN INDUS', 'NOX TAX', 'ZN CHAS', 'CHAS DIS', 'ZN B', 'NOX^2', 'CRIM AGE', 'CRIM DIS', 'NOX B', 'INDUS B', 'CRIM INDUS', 'CRIM', 'INDUS RAD', 'PTRATIO B', 'TAX B']\n",
      "92 ['PTRATIO LSTAT', 'RM^2', 'RM', 'LSTAT^2', 'NOX LSTAT', 'DIS PTRATIO', 'CRIM CHAS', 'CRIM LSTAT', 'RAD B', 'RM TAX', 'TAX', 'TAX LSTAT', 'AGE B', 'DIS^2', 'DIS TAX', 'RM PTRATIO', 'DIS', 'NOX RM', 'NOX PTRATIO', 'CRIM NOX', 'DIS LSTAT', 'CRIM RM', 'RM LSTAT', 'DIS B', 'AGE RAD', 'RAD LSTAT', 'NOX DIS', 'AGE LSTAT', 'RM DIS', 'PTRATIO', 'CRIM PTRATIO', 'INDUS AGE', 'INDUS LSTAT', 'TAX PTRATIO', 'INDUS PTRATIO', 'AGE TAX', 'INDUS NOX', 'CHAS NOX', 'CHAS', 'CHAS RM', 'CRIM^2', 'CHAS PTRATIO', 'ZN LSTAT', 'ZN TAX', 'ZN PTRATIO', 'ZN DIS', 'CRIM B', 'B', 'AGE', 'RM AGE', 'NOX AGE', 'B^2', 'ZN^2', 'CRIM ZN', 'RAD^2', 'RAD TAX', 'ZN RAD', 'INDUS', 'INDUS RM', 'CRIM RAD', 'INDUS^2', 'TAX^2', 'DIS RAD', 'INDUS TAX', 'INDUS DIS', 'CHAS LSTAT', 'CHAS AGE', 'CHAS B', 'AGE DIS', 'NOX RAD', 'RM B', 'ZN NOX', 'ZN RM', 'B LSTAT', 'LSTAT', 'NOX', 'ZN INDUS', 'NOX TAX', 'ZN CHAS', 'CHAS DIS', 'ZN B', 'NOX^2', 'CRIM AGE', 'CRIM DIS', 'NOX B', 'INDUS B', 'CRIM INDUS', 'CRIM', 'INDUS RAD', 'PTRATIO B', 'TAX B', 'RAD PTRATIO']\n",
      "93 ['PTRATIO LSTAT', 'RM^2', 'RM', 'LSTAT^2', 'NOX LSTAT', 'DIS PTRATIO', 'CRIM CHAS', 'CRIM LSTAT', 'RAD B', 'RM TAX', 'TAX', 'TAX LSTAT', 'AGE B', 'DIS^2', 'DIS TAX', 'RM PTRATIO', 'DIS', 'NOX RM', 'NOX PTRATIO', 'CRIM NOX', 'DIS LSTAT', 'CRIM RM', 'RM LSTAT', 'DIS B', 'AGE RAD', 'RAD LSTAT', 'NOX DIS', 'AGE LSTAT', 'RM DIS', 'PTRATIO', 'CRIM PTRATIO', 'INDUS AGE', 'INDUS LSTAT', 'TAX PTRATIO', 'INDUS PTRATIO', 'AGE TAX', 'INDUS NOX', 'CHAS NOX', 'CHAS', 'CHAS RM', 'CRIM^2', 'CHAS PTRATIO', 'ZN LSTAT', 'ZN TAX', 'ZN PTRATIO', 'ZN DIS', 'CRIM B', 'B', 'AGE', 'RM AGE', 'NOX AGE', 'B^2', 'ZN^2', 'CRIM ZN', 'RAD^2', 'RAD TAX', 'ZN RAD', 'INDUS', 'INDUS RM', 'CRIM RAD', 'INDUS^2', 'TAX^2', 'DIS RAD', 'INDUS TAX', 'INDUS DIS', 'CHAS LSTAT', 'CHAS AGE', 'CHAS B', 'AGE DIS', 'NOX RAD', 'RM B', 'ZN NOX', 'ZN RM', 'B LSTAT', 'LSTAT', 'NOX', 'ZN INDUS', 'NOX TAX', 'ZN CHAS', 'CHAS DIS', 'ZN B', 'NOX^2', 'CRIM AGE', 'CRIM DIS', 'NOX B', 'INDUS B', 'CRIM INDUS', 'CRIM', 'INDUS RAD', 'PTRATIO B', 'TAX B', 'RAD PTRATIO', 'RAD']\n",
      "94 ['PTRATIO LSTAT', 'RM^2', 'RM', 'LSTAT^2', 'NOX LSTAT', 'DIS PTRATIO', 'CRIM CHAS', 'CRIM LSTAT', 'RAD B', 'RM TAX', 'TAX', 'TAX LSTAT', 'AGE B', 'DIS^2', 'DIS TAX', 'RM PTRATIO', 'DIS', 'NOX RM', 'NOX PTRATIO', 'CRIM NOX', 'DIS LSTAT', 'CRIM RM', 'RM LSTAT', 'DIS B', 'AGE RAD', 'RAD LSTAT', 'NOX DIS', 'AGE LSTAT', 'RM DIS', 'PTRATIO', 'CRIM PTRATIO', 'INDUS AGE', 'INDUS LSTAT', 'TAX PTRATIO', 'INDUS PTRATIO', 'AGE TAX', 'INDUS NOX', 'CHAS NOX', 'CHAS', 'CHAS RM', 'CRIM^2', 'CHAS PTRATIO', 'ZN LSTAT', 'ZN TAX', 'ZN PTRATIO', 'ZN DIS', 'CRIM B', 'B', 'AGE', 'RM AGE', 'NOX AGE', 'B^2', 'ZN^2', 'CRIM ZN', 'RAD^2', 'RAD TAX', 'ZN RAD', 'INDUS', 'INDUS RM', 'CRIM RAD', 'INDUS^2', 'TAX^2', 'DIS RAD', 'INDUS TAX', 'INDUS DIS', 'CHAS LSTAT', 'CHAS AGE', 'CHAS B', 'AGE DIS', 'NOX RAD', 'RM B', 'ZN NOX', 'ZN RM', 'B LSTAT', 'LSTAT', 'NOX', 'ZN INDUS', 'NOX TAX', 'ZN CHAS', 'CHAS DIS', 'ZN B', 'NOX^2', 'CRIM AGE', 'CRIM DIS', 'NOX B', 'INDUS B', 'CRIM INDUS', 'CRIM', 'INDUS RAD', 'PTRATIO B', 'TAX B', 'RAD PTRATIO', 'RAD', 'CRIM TAX']\n",
      "95 ['PTRATIO LSTAT', 'RM^2', 'RM', 'LSTAT^2', 'NOX LSTAT', 'DIS PTRATIO', 'CRIM CHAS', 'CRIM LSTAT', 'RAD B', 'RM TAX', 'TAX', 'TAX LSTAT', 'AGE B', 'DIS^2', 'DIS TAX', 'RM PTRATIO', 'DIS', 'NOX RM', 'NOX PTRATIO', 'CRIM NOX', 'DIS LSTAT', 'CRIM RM', 'RM LSTAT', 'DIS B', 'AGE RAD', 'RAD LSTAT', 'NOX DIS', 'AGE LSTAT', 'RM DIS', 'PTRATIO', 'CRIM PTRATIO', 'INDUS AGE', 'INDUS LSTAT', 'TAX PTRATIO', 'INDUS PTRATIO', 'AGE TAX', 'INDUS NOX', 'CHAS NOX', 'CHAS', 'CHAS RM', 'CRIM^2', 'CHAS PTRATIO', 'ZN LSTAT', 'ZN TAX', 'ZN PTRATIO', 'ZN DIS', 'CRIM B', 'B', 'AGE', 'RM AGE', 'NOX AGE', 'B^2', 'ZN^2', 'CRIM ZN', 'RAD^2', 'RAD TAX', 'ZN RAD', 'INDUS', 'INDUS RM', 'CRIM RAD', 'INDUS^2', 'TAX^2', 'DIS RAD', 'INDUS TAX', 'INDUS DIS', 'CHAS LSTAT', 'CHAS AGE', 'CHAS B', 'AGE DIS', 'NOX RAD', 'RM B', 'ZN NOX', 'ZN RM', 'B LSTAT', 'LSTAT', 'NOX', 'ZN INDUS', 'NOX TAX', 'ZN CHAS', 'CHAS DIS', 'ZN B', 'NOX^2', 'CRIM AGE', 'CRIM DIS', 'NOX B', 'INDUS B', 'CRIM INDUS', 'CRIM', 'INDUS RAD', 'PTRATIO B', 'TAX B', 'RAD PTRATIO', 'RAD', 'CRIM TAX', 'AGE^2']\n",
      "96 ['PTRATIO LSTAT', 'RM^2', 'RM', 'LSTAT^2', 'NOX LSTAT', 'DIS PTRATIO', 'CRIM CHAS', 'CRIM LSTAT', 'RAD B', 'RM TAX', 'TAX', 'TAX LSTAT', 'AGE B', 'DIS^2', 'DIS TAX', 'RM PTRATIO', 'DIS', 'NOX RM', 'NOX PTRATIO', 'CRIM NOX', 'DIS LSTAT', 'CRIM RM', 'RM LSTAT', 'DIS B', 'AGE RAD', 'RAD LSTAT', 'NOX DIS', 'AGE LSTAT', 'RM DIS', 'PTRATIO', 'CRIM PTRATIO', 'INDUS AGE', 'INDUS LSTAT', 'TAX PTRATIO', 'INDUS PTRATIO', 'AGE TAX', 'INDUS NOX', 'CHAS NOX', 'CHAS', 'CHAS RM', 'CRIM^2', 'CHAS PTRATIO', 'ZN LSTAT', 'ZN TAX', 'ZN PTRATIO', 'ZN DIS', 'CRIM B', 'B', 'AGE', 'RM AGE', 'NOX AGE', 'B^2', 'ZN^2', 'CRIM ZN', 'RAD^2', 'RAD TAX', 'ZN RAD', 'INDUS', 'INDUS RM', 'CRIM RAD', 'INDUS^2', 'TAX^2', 'DIS RAD', 'INDUS TAX', 'INDUS DIS', 'CHAS LSTAT', 'CHAS AGE', 'CHAS B', 'AGE DIS', 'NOX RAD', 'RM B', 'ZN NOX', 'ZN RM', 'B LSTAT', 'LSTAT', 'NOX', 'ZN INDUS', 'NOX TAX', 'ZN CHAS', 'CHAS DIS', 'ZN B', 'NOX^2', 'CRIM AGE', 'CRIM DIS', 'NOX B', 'INDUS B', 'CRIM INDUS', 'CRIM', 'INDUS RAD', 'PTRATIO B', 'TAX B', 'RAD PTRATIO', 'RAD', 'CRIM TAX', 'AGE^2', 'ZN']\n"
     ]
    },
    {
     "name": "stdout",
     "output_type": "stream",
     "text": [
      "97 ['PTRATIO LSTAT', 'RM^2', 'RM', 'LSTAT^2', 'NOX LSTAT', 'DIS PTRATIO', 'CRIM CHAS', 'CRIM LSTAT', 'RAD B', 'RM TAX', 'TAX', 'TAX LSTAT', 'AGE B', 'DIS^2', 'DIS TAX', 'RM PTRATIO', 'DIS', 'NOX RM', 'NOX PTRATIO', 'CRIM NOX', 'DIS LSTAT', 'CRIM RM', 'RM LSTAT', 'DIS B', 'AGE RAD', 'RAD LSTAT', 'NOX DIS', 'AGE LSTAT', 'RM DIS', 'PTRATIO', 'CRIM PTRATIO', 'INDUS AGE', 'INDUS LSTAT', 'TAX PTRATIO', 'INDUS PTRATIO', 'AGE TAX', 'INDUS NOX', 'CHAS NOX', 'CHAS', 'CHAS RM', 'CRIM^2', 'CHAS PTRATIO', 'ZN LSTAT', 'ZN TAX', 'ZN PTRATIO', 'ZN DIS', 'CRIM B', 'B', 'AGE', 'RM AGE', 'NOX AGE', 'B^2', 'ZN^2', 'CRIM ZN', 'RAD^2', 'RAD TAX', 'ZN RAD', 'INDUS', 'INDUS RM', 'CRIM RAD', 'INDUS^2', 'TAX^2', 'DIS RAD', 'INDUS TAX', 'INDUS DIS', 'CHAS LSTAT', 'CHAS AGE', 'CHAS B', 'AGE DIS', 'NOX RAD', 'RM B', 'ZN NOX', 'ZN RM', 'B LSTAT', 'LSTAT', 'NOX', 'ZN INDUS', 'NOX TAX', 'ZN CHAS', 'CHAS DIS', 'ZN B', 'NOX^2', 'CRIM AGE', 'CRIM DIS', 'NOX B', 'INDUS B', 'CRIM INDUS', 'CRIM', 'INDUS RAD', 'PTRATIO B', 'TAX B', 'RAD PTRATIO', 'RAD', 'CRIM TAX', 'AGE^2', 'ZN', 'RM RAD']\n",
      "98 ['PTRATIO LSTAT', 'RM^2', 'RM', 'LSTAT^2', 'NOX LSTAT', 'DIS PTRATIO', 'CRIM CHAS', 'CRIM LSTAT', 'RAD B', 'RM TAX', 'TAX', 'TAX LSTAT', 'AGE B', 'DIS^2', 'DIS TAX', 'RM PTRATIO', 'DIS', 'NOX RM', 'NOX PTRATIO', 'CRIM NOX', 'DIS LSTAT', 'CRIM RM', 'RM LSTAT', 'DIS B', 'AGE RAD', 'RAD LSTAT', 'NOX DIS', 'AGE LSTAT', 'RM DIS', 'PTRATIO', 'CRIM PTRATIO', 'INDUS AGE', 'INDUS LSTAT', 'TAX PTRATIO', 'INDUS PTRATIO', 'AGE TAX', 'INDUS NOX', 'CHAS NOX', 'CHAS', 'CHAS RM', 'CRIM^2', 'CHAS PTRATIO', 'ZN LSTAT', 'ZN TAX', 'ZN PTRATIO', 'ZN DIS', 'CRIM B', 'B', 'AGE', 'RM AGE', 'NOX AGE', 'B^2', 'ZN^2', 'CRIM ZN', 'RAD^2', 'RAD TAX', 'ZN RAD', 'INDUS', 'INDUS RM', 'CRIM RAD', 'INDUS^2', 'TAX^2', 'DIS RAD', 'INDUS TAX', 'INDUS DIS', 'CHAS LSTAT', 'CHAS AGE', 'CHAS B', 'AGE DIS', 'NOX RAD', 'RM B', 'ZN NOX', 'ZN RM', 'B LSTAT', 'LSTAT', 'NOX', 'ZN INDUS', 'NOX TAX', 'ZN CHAS', 'CHAS DIS', 'ZN B', 'NOX^2', 'CRIM AGE', 'CRIM DIS', 'NOX B', 'INDUS B', 'CRIM INDUS', 'CRIM', 'INDUS RAD', 'PTRATIO B', 'TAX B', 'RAD PTRATIO', 'RAD', 'CRIM TAX', 'AGE^2', 'ZN', 'RM RAD', 'PTRATIO^2']\n",
      "99 ['PTRATIO LSTAT', 'RM^2', 'RM', 'LSTAT^2', 'NOX LSTAT', 'DIS PTRATIO', 'CRIM CHAS', 'CRIM LSTAT', 'RAD B', 'RM TAX', 'TAX', 'TAX LSTAT', 'AGE B', 'DIS^2', 'DIS TAX', 'RM PTRATIO', 'DIS', 'NOX RM', 'NOX PTRATIO', 'CRIM NOX', 'DIS LSTAT', 'CRIM RM', 'RM LSTAT', 'DIS B', 'AGE RAD', 'RAD LSTAT', 'NOX DIS', 'AGE LSTAT', 'RM DIS', 'PTRATIO', 'CRIM PTRATIO', 'INDUS AGE', 'INDUS LSTAT', 'TAX PTRATIO', 'INDUS PTRATIO', 'AGE TAX', 'INDUS NOX', 'CHAS NOX', 'CHAS', 'CHAS RM', 'CRIM^2', 'CHAS PTRATIO', 'ZN LSTAT', 'ZN TAX', 'ZN PTRATIO', 'ZN DIS', 'CRIM B', 'B', 'AGE', 'RM AGE', 'NOX AGE', 'B^2', 'ZN^2', 'CRIM ZN', 'RAD^2', 'RAD TAX', 'ZN RAD', 'INDUS', 'INDUS RM', 'CRIM RAD', 'INDUS^2', 'TAX^2', 'DIS RAD', 'INDUS TAX', 'INDUS DIS', 'CHAS LSTAT', 'CHAS AGE', 'CHAS B', 'AGE DIS', 'NOX RAD', 'RM B', 'ZN NOX', 'ZN RM', 'B LSTAT', 'LSTAT', 'NOX', 'ZN INDUS', 'NOX TAX', 'ZN CHAS', 'CHAS DIS', 'ZN B', 'NOX^2', 'CRIM AGE', 'CRIM DIS', 'NOX B', 'INDUS B', 'CRIM INDUS', 'CRIM', 'INDUS RAD', 'PTRATIO B', 'TAX B', 'RAD PTRATIO', 'RAD', 'CRIM TAX', 'AGE^2', 'ZN', 'RM RAD', 'PTRATIO^2', 'INDUS CHAS']\n",
      "100 ['PTRATIO LSTAT', 'RM^2', 'RM', 'LSTAT^2', 'NOX LSTAT', 'DIS PTRATIO', 'CRIM CHAS', 'CRIM LSTAT', 'RAD B', 'RM TAX', 'TAX', 'TAX LSTAT', 'AGE B', 'DIS^2', 'DIS TAX', 'RM PTRATIO', 'DIS', 'NOX RM', 'NOX PTRATIO', 'CRIM NOX', 'DIS LSTAT', 'CRIM RM', 'RM LSTAT', 'DIS B', 'AGE RAD', 'RAD LSTAT', 'NOX DIS', 'AGE LSTAT', 'RM DIS', 'PTRATIO', 'CRIM PTRATIO', 'INDUS AGE', 'INDUS LSTAT', 'TAX PTRATIO', 'INDUS PTRATIO', 'AGE TAX', 'INDUS NOX', 'CHAS NOX', 'CHAS', 'CHAS RM', 'CRIM^2', 'CHAS PTRATIO', 'ZN LSTAT', 'ZN TAX', 'ZN PTRATIO', 'ZN DIS', 'CRIM B', 'B', 'AGE', 'RM AGE', 'NOX AGE', 'B^2', 'ZN^2', 'CRIM ZN', 'RAD^2', 'RAD TAX', 'ZN RAD', 'INDUS', 'INDUS RM', 'CRIM RAD', 'INDUS^2', 'TAX^2', 'DIS RAD', 'INDUS TAX', 'INDUS DIS', 'CHAS LSTAT', 'CHAS AGE', 'CHAS B', 'AGE DIS', 'NOX RAD', 'RM B', 'ZN NOX', 'ZN RM', 'B LSTAT', 'LSTAT', 'NOX', 'ZN INDUS', 'NOX TAX', 'ZN CHAS', 'CHAS DIS', 'ZN B', 'NOX^2', 'CRIM AGE', 'CRIM DIS', 'NOX B', 'INDUS B', 'CRIM INDUS', 'CRIM', 'INDUS RAD', 'PTRATIO B', 'TAX B', 'RAD PTRATIO', 'RAD', 'CRIM TAX', 'AGE^2', 'ZN', 'RM RAD', 'PTRATIO^2', 'INDUS CHAS', 'ZN AGE']\n",
      "101 ['PTRATIO LSTAT', 'RM^2', 'RM', 'LSTAT^2', 'NOX LSTAT', 'DIS PTRATIO', 'CRIM CHAS', 'CRIM LSTAT', 'RAD B', 'RM TAX', 'TAX', 'TAX LSTAT', 'AGE B', 'DIS^2', 'DIS TAX', 'RM PTRATIO', 'DIS', 'NOX RM', 'NOX PTRATIO', 'CRIM NOX', 'DIS LSTAT', 'CRIM RM', 'RM LSTAT', 'DIS B', 'AGE RAD', 'RAD LSTAT', 'NOX DIS', 'AGE LSTAT', 'RM DIS', 'PTRATIO', 'CRIM PTRATIO', 'INDUS AGE', 'INDUS LSTAT', 'TAX PTRATIO', 'INDUS PTRATIO', 'AGE TAX', 'INDUS NOX', 'CHAS NOX', 'CHAS', 'CHAS RM', 'CRIM^2', 'CHAS PTRATIO', 'ZN LSTAT', 'ZN TAX', 'ZN PTRATIO', 'ZN DIS', 'CRIM B', 'B', 'AGE', 'RM AGE', 'NOX AGE', 'B^2', 'ZN^2', 'CRIM ZN', 'RAD^2', 'RAD TAX', 'ZN RAD', 'INDUS', 'INDUS RM', 'CRIM RAD', 'INDUS^2', 'TAX^2', 'DIS RAD', 'INDUS TAX', 'INDUS DIS', 'CHAS LSTAT', 'CHAS AGE', 'CHAS B', 'AGE DIS', 'NOX RAD', 'RM B', 'ZN NOX', 'ZN RM', 'B LSTAT', 'LSTAT', 'NOX', 'ZN INDUS', 'NOX TAX', 'ZN CHAS', 'CHAS DIS', 'ZN B', 'NOX^2', 'CRIM AGE', 'CRIM DIS', 'NOX B', 'INDUS B', 'CRIM INDUS', 'CRIM', 'INDUS RAD', 'PTRATIO B', 'TAX B', 'RAD PTRATIO', 'RAD', 'CRIM TAX', 'AGE^2', 'ZN', 'RM RAD', 'PTRATIO^2', 'INDUS CHAS', 'ZN AGE', 'CHAS RAD']\n",
      "102 ['PTRATIO LSTAT', 'RM^2', 'RM', 'LSTAT^2', 'NOX LSTAT', 'DIS PTRATIO', 'CRIM CHAS', 'CRIM LSTAT', 'RAD B', 'RM TAX', 'TAX', 'TAX LSTAT', 'AGE B', 'DIS^2', 'DIS TAX', 'RM PTRATIO', 'DIS', 'NOX RM', 'NOX PTRATIO', 'CRIM NOX', 'DIS LSTAT', 'CRIM RM', 'RM LSTAT', 'DIS B', 'AGE RAD', 'RAD LSTAT', 'NOX DIS', 'AGE LSTAT', 'RM DIS', 'PTRATIO', 'CRIM PTRATIO', 'INDUS AGE', 'INDUS LSTAT', 'TAX PTRATIO', 'INDUS PTRATIO', 'AGE TAX', 'INDUS NOX', 'CHAS NOX', 'CHAS', 'CHAS RM', 'CRIM^2', 'CHAS PTRATIO', 'ZN LSTAT', 'ZN TAX', 'ZN PTRATIO', 'ZN DIS', 'CRIM B', 'B', 'AGE', 'RM AGE', 'NOX AGE', 'B^2', 'ZN^2', 'CRIM ZN', 'RAD^2', 'RAD TAX', 'ZN RAD', 'INDUS', 'INDUS RM', 'CRIM RAD', 'INDUS^2', 'TAX^2', 'DIS RAD', 'INDUS TAX', 'INDUS DIS', 'CHAS LSTAT', 'CHAS AGE', 'CHAS B', 'AGE DIS', 'NOX RAD', 'RM B', 'ZN NOX', 'ZN RM', 'B LSTAT', 'LSTAT', 'NOX', 'ZN INDUS', 'NOX TAX', 'ZN CHAS', 'CHAS DIS', 'ZN B', 'NOX^2', 'CRIM AGE', 'CRIM DIS', 'NOX B', 'INDUS B', 'CRIM INDUS', 'CRIM', 'INDUS RAD', 'PTRATIO B', 'TAX B', 'RAD PTRATIO', 'RAD', 'CRIM TAX', 'AGE^2', 'ZN', 'RM RAD', 'PTRATIO^2', 'INDUS CHAS', 'ZN AGE', 'CHAS RAD', 'CHAS TAX']\n",
      "103 ['PTRATIO LSTAT', 'RM^2', 'RM', 'LSTAT^2', 'NOX LSTAT', 'DIS PTRATIO', 'CRIM CHAS', 'CRIM LSTAT', 'RAD B', 'RM TAX', 'TAX', 'TAX LSTAT', 'AGE B', 'DIS^2', 'DIS TAX', 'RM PTRATIO', 'DIS', 'NOX RM', 'NOX PTRATIO', 'CRIM NOX', 'DIS LSTAT', 'CRIM RM', 'RM LSTAT', 'DIS B', 'AGE RAD', 'RAD LSTAT', 'NOX DIS', 'AGE LSTAT', 'RM DIS', 'PTRATIO', 'CRIM PTRATIO', 'INDUS AGE', 'INDUS LSTAT', 'TAX PTRATIO', 'INDUS PTRATIO', 'AGE TAX', 'INDUS NOX', 'CHAS NOX', 'CHAS', 'CHAS RM', 'CRIM^2', 'CHAS PTRATIO', 'ZN LSTAT', 'ZN TAX', 'ZN PTRATIO', 'ZN DIS', 'CRIM B', 'B', 'AGE', 'RM AGE', 'NOX AGE', 'B^2', 'ZN^2', 'CRIM ZN', 'RAD^2', 'RAD TAX', 'ZN RAD', 'INDUS', 'INDUS RM', 'CRIM RAD', 'INDUS^2', 'TAX^2', 'DIS RAD', 'INDUS TAX', 'INDUS DIS', 'CHAS LSTAT', 'CHAS AGE', 'CHAS B', 'AGE DIS', 'NOX RAD', 'RM B', 'ZN NOX', 'ZN RM', 'B LSTAT', 'LSTAT', 'NOX', 'ZN INDUS', 'NOX TAX', 'ZN CHAS', 'CHAS DIS', 'ZN B', 'NOX^2', 'CRIM AGE', 'CRIM DIS', 'NOX B', 'INDUS B', 'CRIM INDUS', 'CRIM', 'INDUS RAD', 'PTRATIO B', 'TAX B', 'RAD PTRATIO', 'RAD', 'CRIM TAX', 'AGE^2', 'ZN', 'RM RAD', 'PTRATIO^2', 'INDUS CHAS', 'ZN AGE', 'CHAS RAD', 'CHAS TAX', 'AGE PTRATIO']\n",
      "104 ['PTRATIO LSTAT', 'RM^2', 'RM', 'LSTAT^2', 'NOX LSTAT', 'DIS PTRATIO', 'CRIM CHAS', 'CRIM LSTAT', 'RAD B', 'RM TAX', 'TAX', 'TAX LSTAT', 'AGE B', 'DIS^2', 'DIS TAX', 'RM PTRATIO', 'DIS', 'NOX RM', 'NOX PTRATIO', 'CRIM NOX', 'DIS LSTAT', 'CRIM RM', 'RM LSTAT', 'DIS B', 'AGE RAD', 'RAD LSTAT', 'NOX DIS', 'AGE LSTAT', 'RM DIS', 'PTRATIO', 'CRIM PTRATIO', 'INDUS AGE', 'INDUS LSTAT', 'TAX PTRATIO', 'INDUS PTRATIO', 'AGE TAX', 'INDUS NOX', 'CHAS NOX', 'CHAS', 'CHAS RM', 'CRIM^2', 'CHAS PTRATIO', 'ZN LSTAT', 'ZN TAX', 'ZN PTRATIO', 'ZN DIS', 'CRIM B', 'B', 'AGE', 'RM AGE', 'NOX AGE', 'B^2', 'ZN^2', 'CRIM ZN', 'RAD^2', 'RAD TAX', 'ZN RAD', 'INDUS', 'INDUS RM', 'CRIM RAD', 'INDUS^2', 'TAX^2', 'DIS RAD', 'INDUS TAX', 'INDUS DIS', 'CHAS LSTAT', 'CHAS AGE', 'CHAS B', 'AGE DIS', 'NOX RAD', 'RM B', 'ZN NOX', 'ZN RM', 'B LSTAT', 'LSTAT', 'NOX', 'ZN INDUS', 'NOX TAX', 'ZN CHAS', 'CHAS DIS', 'ZN B', 'NOX^2', 'CRIM AGE', 'CRIM DIS', 'NOX B', 'INDUS B', 'CRIM INDUS', 'CRIM', 'INDUS RAD', 'PTRATIO B', 'TAX B', 'RAD PTRATIO', 'RAD', 'CRIM TAX', 'AGE^2', 'ZN', 'RM RAD', 'PTRATIO^2', 'INDUS CHAS', 'ZN AGE', 'CHAS RAD', 'CHAS TAX', 'AGE PTRATIO', 'CHAS^2']\n"
     ]
    }
   ],
   "source": [
    "df=pd.DataFrame(data=Xp,columns=poly.get_feature_names(features))\n",
    "resAIC,_=forward(estimator=linregr,X=df,y=boston[['PRICE']],scorer=AIC_scorer)"
   ]
  },
  {
   "cell_type": "markdown",
   "metadata": {},
   "source": [
    "Let's plot the minimum AIC values for each number of predictors, respective the overall minimum value of the AIC."
   ]
  },
  {
   "cell_type": "code",
   "execution_count": 120,
   "metadata": {},
   "outputs": [
    {
     "name": "stdout",
     "output_type": "stream",
     "text": [
      "Number of features with minimum AIC:  64\n"
     ]
    },
    {
     "data": {
      "image/png": "[encoded data removed]",
      "text/plain": [
       "<Figure size 432x288 with 1 Axes>"
      ]
     },
     "metadata": {
      "needs_background": "light"
     },
     "output_type": "display_data"
    }
   ],
   "source": [
    "plt.plot(np.arange(1,len(resAIC)+1),resAIC)\n",
    "idxAIC=np.argmin(resAIC)\n",
    "print(\"Number of features with minimum AIC: \", idxAIC)\n",
    "plt.scatter(idxAIC+1,resAIC[idxAIC],c='r')\n",
    "plt.xlabel(\"Number of predictors\",fontsize=12)\n",
    "plt.ylabel(\"AIC\",fontsize=12)\n",
    "plt.show()"
   ]
  },
  {
   "cell_type": "markdown",
   "metadata": {},
   "source": [
    "As can be seen, the automatically selected feature number is 64, which is almost two-thirds of the total number of features.\n",
    "\n",
    "Let's do the same with BIC."
   ]
  },
  {
   "cell_type": "code",
   "execution_count": 121,
   "metadata": {},
   "outputs": [
    {
     "name": "stdout",
     "output_type": "stream",
     "text": [
      "1 ['PTRATIO LSTAT']\n",
      "2 ['PTRATIO LSTAT', 'RM^2']\n",
      "3 ['PTRATIO LSTAT', 'RM^2', 'RM']\n",
      "4 ['PTRATIO LSTAT', 'RM^2', 'RM', 'LSTAT^2']\n",
      "5 ['PTRATIO LSTAT', 'RM^2', 'RM', 'LSTAT^2', 'NOX LSTAT']\n",
      "6 ['PTRATIO LSTAT', 'RM^2', 'RM', 'LSTAT^2', 'NOX LSTAT', 'DIS PTRATIO']\n",
      "7 ['PTRATIO LSTAT', 'RM^2', 'RM', 'LSTAT^2', 'NOX LSTAT', 'DIS PTRATIO', 'CRIM CHAS']\n",
      "8 ['PTRATIO LSTAT', 'RM^2', 'RM', 'LSTAT^2', 'NOX LSTAT', 'DIS PTRATIO', 'CRIM CHAS', 'CRIM LSTAT']\n",
      "9 ['PTRATIO LSTAT', 'RM^2', 'RM', 'LSTAT^2', 'NOX LSTAT', 'DIS PTRATIO', 'CRIM CHAS', 'CRIM LSTAT', 'RAD B']\n",
      "10 ['PTRATIO LSTAT', 'RM^2', 'RM', 'LSTAT^2', 'NOX LSTAT', 'DIS PTRATIO', 'CRIM CHAS', 'CRIM LSTAT', 'RAD B', 'RM TAX']\n",
      "11 ['PTRATIO LSTAT', 'RM^2', 'RM', 'LSTAT^2', 'NOX LSTAT', 'DIS PTRATIO', 'CRIM CHAS', 'CRIM LSTAT', 'RAD B', 'RM TAX', 'TAX']\n",
      "12 ['PTRATIO LSTAT', 'RM^2', 'RM', 'LSTAT^2', 'NOX LSTAT', 'DIS PTRATIO', 'CRIM CHAS', 'CRIM LSTAT', 'RAD B', 'RM TAX', 'TAX', 'TAX LSTAT']\n",
      "13 ['PTRATIO LSTAT', 'RM^2', 'RM', 'LSTAT^2', 'NOX LSTAT', 'DIS PTRATIO', 'CRIM CHAS', 'CRIM LSTAT', 'RAD B', 'RM TAX', 'TAX', 'TAX LSTAT', 'AGE B']\n",
      "14 ['PTRATIO LSTAT', 'RM^2', 'RM', 'LSTAT^2', 'NOX LSTAT', 'DIS PTRATIO', 'CRIM CHAS', 'CRIM LSTAT', 'RAD B', 'RM TAX', 'TAX', 'TAX LSTAT', 'AGE B', 'DIS^2']\n",
      "15 ['PTRATIO LSTAT', 'RM^2', 'RM', 'LSTAT^2', 'NOX LSTAT', 'DIS PTRATIO', 'CRIM CHAS', 'CRIM LSTAT', 'RAD B', 'RM TAX', 'TAX', 'TAX LSTAT', 'AGE B', 'DIS^2', 'DIS TAX']\n",
      "16 ['PTRATIO LSTAT', 'RM^2', 'RM', 'LSTAT^2', 'NOX LSTAT', 'DIS PTRATIO', 'CRIM CHAS', 'CRIM LSTAT', 'RAD B', 'RM TAX', 'TAX', 'TAX LSTAT', 'AGE B', 'DIS^2', 'DIS TAX', 'RM PTRATIO']\n",
      "17 ['PTRATIO LSTAT', 'RM^2', 'RM', 'LSTAT^2', 'NOX LSTAT', 'DIS PTRATIO', 'CRIM CHAS', 'CRIM LSTAT', 'RAD B', 'RM TAX', 'TAX', 'TAX LSTAT', 'AGE B', 'DIS^2', 'DIS TAX', 'RM PTRATIO', 'DIS']\n",
      "18 ['PTRATIO LSTAT', 'RM^2', 'RM', 'LSTAT^2', 'NOX LSTAT', 'DIS PTRATIO', 'CRIM CHAS', 'CRIM LSTAT', 'RAD B', 'RM TAX', 'TAX', 'TAX LSTAT', 'AGE B', 'DIS^2', 'DIS TAX', 'RM PTRATIO', 'DIS', 'NOX RM']\n",
      "19 ['PTRATIO LSTAT', 'RM^2', 'RM', 'LSTAT^2', 'NOX LSTAT', 'DIS PTRATIO', 'CRIM CHAS', 'CRIM LSTAT', 'RAD B', 'RM TAX', 'TAX', 'TAX LSTAT', 'AGE B', 'DIS^2', 'DIS TAX', 'RM PTRATIO', 'DIS', 'NOX RM', 'NOX PTRATIO']\n",
      "20 ['PTRATIO LSTAT', 'RM^2', 'RM', 'LSTAT^2', 'NOX LSTAT', 'DIS PTRATIO', 'CRIM CHAS', 'CRIM LSTAT', 'RAD B', 'RM TAX', 'TAX', 'TAX LSTAT', 'AGE B', 'DIS^2', 'DIS TAX', 'RM PTRATIO', 'DIS', 'NOX RM', 'NOX PTRATIO', 'CRIM NOX']\n",
      "21 ['PTRATIO LSTAT', 'RM^2', 'RM', 'LSTAT^2', 'NOX LSTAT', 'DIS PTRATIO', 'CRIM CHAS', 'CRIM LSTAT', 'RAD B', 'RM TAX', 'TAX', 'TAX LSTAT', 'AGE B', 'DIS^2', 'DIS TAX', 'RM PTRATIO', 'DIS', 'NOX RM', 'NOX PTRATIO', 'CRIM NOX', 'DIS LSTAT']\n",
      "22 ['PTRATIO LSTAT', 'RM^2', 'RM', 'LSTAT^2', 'NOX LSTAT', 'DIS PTRATIO', 'CRIM CHAS', 'CRIM LSTAT', 'RAD B', 'RM TAX', 'TAX', 'TAX LSTAT', 'AGE B', 'DIS^2', 'DIS TAX', 'RM PTRATIO', 'DIS', 'NOX RM', 'NOX PTRATIO', 'CRIM NOX', 'DIS LSTAT', 'CRIM RM']\n",
      "23 ['PTRATIO LSTAT', 'RM^2', 'RM', 'LSTAT^2', 'NOX LSTAT', 'DIS PTRATIO', 'CRIM CHAS', 'CRIM LSTAT', 'RAD B', 'RM TAX', 'TAX', 'TAX LSTAT', 'AGE B', 'DIS^2', 'DIS TAX', 'RM PTRATIO', 'DIS', 'NOX RM', 'NOX PTRATIO', 'CRIM NOX', 'DIS LSTAT', 'CRIM RM', 'RM LSTAT']\n",
      "24 ['PTRATIO LSTAT', 'RM^2', 'RM', 'LSTAT^2', 'NOX LSTAT', 'DIS PTRATIO', 'CRIM CHAS', 'CRIM LSTAT', 'RAD B', 'RM TAX', 'TAX', 'TAX LSTAT', 'AGE B', 'DIS^2', 'DIS TAX', 'RM PTRATIO', 'DIS', 'NOX RM', 'NOX PTRATIO', 'CRIM NOX', 'DIS LSTAT', 'CRIM RM', 'RM LSTAT', 'DIS B']\n",
      "25 ['PTRATIO LSTAT', 'RM^2', 'RM', 'LSTAT^2', 'NOX LSTAT', 'DIS PTRATIO', 'CRIM CHAS', 'CRIM LSTAT', 'RAD B', 'RM TAX', 'TAX', 'TAX LSTAT', 'AGE B', 'DIS^2', 'DIS TAX', 'RM PTRATIO', 'DIS', 'NOX RM', 'NOX PTRATIO', 'CRIM NOX', 'DIS LSTAT', 'CRIM RM', 'RM LSTAT', 'DIS B', 'AGE RAD']\n",
      "26 ['PTRATIO LSTAT', 'RM^2', 'RM', 'LSTAT^2', 'NOX LSTAT', 'DIS PTRATIO', 'CRIM CHAS', 'CRIM LSTAT', 'RAD B', 'RM TAX', 'TAX', 'TAX LSTAT', 'AGE B', 'DIS^2', 'DIS TAX', 'RM PTRATIO', 'DIS', 'NOX RM', 'NOX PTRATIO', 'CRIM NOX', 'DIS LSTAT', 'CRIM RM', 'RM LSTAT', 'DIS B', 'AGE RAD', 'RAD LSTAT']\n",
      "27 ['PTRATIO LSTAT', 'RM^2', 'RM', 'LSTAT^2', 'NOX LSTAT', 'DIS PTRATIO', 'CRIM CHAS', 'CRIM LSTAT', 'RAD B', 'RM TAX', 'TAX', 'TAX LSTAT', 'AGE B', 'DIS^2', 'DIS TAX', 'RM PTRATIO', 'DIS', 'NOX RM', 'NOX PTRATIO', 'CRIM NOX', 'DIS LSTAT', 'CRIM RM', 'RM LSTAT', 'DIS B', 'AGE RAD', 'RAD LSTAT', 'NOX DIS']\n",
      "28 ['PTRATIO LSTAT', 'RM^2', 'RM', 'LSTAT^2', 'NOX LSTAT', 'DIS PTRATIO', 'CRIM CHAS', 'CRIM LSTAT', 'RAD B', 'RM TAX', 'TAX', 'TAX LSTAT', 'AGE B', 'DIS^2', 'DIS TAX', 'RM PTRATIO', 'DIS', 'NOX RM', 'NOX PTRATIO', 'CRIM NOX', 'DIS LSTAT', 'CRIM RM', 'RM LSTAT', 'DIS B', 'AGE RAD', 'RAD LSTAT', 'NOX DIS', 'AGE LSTAT']\n",
      "29 ['PTRATIO LSTAT', 'RM^2', 'RM', 'LSTAT^2', 'NOX LSTAT', 'DIS PTRATIO', 'CRIM CHAS', 'CRIM LSTAT', 'RAD B', 'RM TAX', 'TAX', 'TAX LSTAT', 'AGE B', 'DIS^2', 'DIS TAX', 'RM PTRATIO', 'DIS', 'NOX RM', 'NOX PTRATIO', 'CRIM NOX', 'DIS LSTAT', 'CRIM RM', 'RM LSTAT', 'DIS B', 'AGE RAD', 'RAD LSTAT', 'NOX DIS', 'AGE LSTAT', 'RM DIS']\n",
      "30 ['PTRATIO LSTAT', 'RM^2', 'RM', 'LSTAT^2', 'NOX LSTAT', 'DIS PTRATIO', 'CRIM CHAS', 'CRIM LSTAT', 'RAD B', 'RM TAX', 'TAX', 'TAX LSTAT', 'AGE B', 'DIS^2', 'DIS TAX', 'RM PTRATIO', 'DIS', 'NOX RM', 'NOX PTRATIO', 'CRIM NOX', 'DIS LSTAT', 'CRIM RM', 'RM LSTAT', 'DIS B', 'AGE RAD', 'RAD LSTAT', 'NOX DIS', 'AGE LSTAT', 'RM DIS', 'PTRATIO']\n",
      "31 ['PTRATIO LSTAT', 'RM^2', 'RM', 'LSTAT^2', 'NOX LSTAT', 'DIS PTRATIO', 'CRIM CHAS', 'CRIM LSTAT', 'RAD B', 'RM TAX', 'TAX', 'TAX LSTAT', 'AGE B', 'DIS^2', 'DIS TAX', 'RM PTRATIO', 'DIS', 'NOX RM', 'NOX PTRATIO', 'CRIM NOX', 'DIS LSTAT', 'CRIM RM', 'RM LSTAT', 'DIS B', 'AGE RAD', 'RAD LSTAT', 'NOX DIS', 'AGE LSTAT', 'RM DIS', 'PTRATIO', 'CRIM PTRATIO']\n",
      "32 ['PTRATIO LSTAT', 'RM^2', 'RM', 'LSTAT^2', 'NOX LSTAT', 'DIS PTRATIO', 'CRIM CHAS', 'CRIM LSTAT', 'RAD B', 'RM TAX', 'TAX', 'TAX LSTAT', 'AGE B', 'DIS^2', 'DIS TAX', 'RM PTRATIO', 'DIS', 'NOX RM', 'NOX PTRATIO', 'CRIM NOX', 'DIS LSTAT', 'CRIM RM', 'RM LSTAT', 'DIS B', 'AGE RAD', 'RAD LSTAT', 'NOX DIS', 'AGE LSTAT', 'RM DIS', 'PTRATIO', 'CRIM PTRATIO', 'INDUS AGE']\n",
      "33 ['PTRATIO LSTAT', 'RM^2', 'RM', 'LSTAT^2', 'NOX LSTAT', 'DIS PTRATIO', 'CRIM CHAS', 'CRIM LSTAT', 'RAD B', 'RM TAX', 'TAX', 'TAX LSTAT', 'AGE B', 'DIS^2', 'DIS TAX', 'RM PTRATIO', 'DIS', 'NOX RM', 'NOX PTRATIO', 'CRIM NOX', 'DIS LSTAT', 'CRIM RM', 'RM LSTAT', 'DIS B', 'AGE RAD', 'RAD LSTAT', 'NOX DIS', 'AGE LSTAT', 'RM DIS', 'PTRATIO', 'CRIM PTRATIO', 'INDUS AGE', 'INDUS LSTAT']\n",
      "34 ['PTRATIO LSTAT', 'RM^2', 'RM', 'LSTAT^2', 'NOX LSTAT', 'DIS PTRATIO', 'CRIM CHAS', 'CRIM LSTAT', 'RAD B', 'RM TAX', 'TAX', 'TAX LSTAT', 'AGE B', 'DIS^2', 'DIS TAX', 'RM PTRATIO', 'DIS', 'NOX RM', 'NOX PTRATIO', 'CRIM NOX', 'DIS LSTAT', 'CRIM RM', 'RM LSTAT', 'DIS B', 'AGE RAD', 'RAD LSTAT', 'NOX DIS', 'AGE LSTAT', 'RM DIS', 'PTRATIO', 'CRIM PTRATIO', 'INDUS AGE', 'INDUS LSTAT', 'TAX PTRATIO']\n",
      "35 ['PTRATIO LSTAT', 'RM^2', 'RM', 'LSTAT^2', 'NOX LSTAT', 'DIS PTRATIO', 'CRIM CHAS', 'CRIM LSTAT', 'RAD B', 'RM TAX', 'TAX', 'TAX LSTAT', 'AGE B', 'DIS^2', 'DIS TAX', 'RM PTRATIO', 'DIS', 'NOX RM', 'NOX PTRATIO', 'CRIM NOX', 'DIS LSTAT', 'CRIM RM', 'RM LSTAT', 'DIS B', 'AGE RAD', 'RAD LSTAT', 'NOX DIS', 'AGE LSTAT', 'RM DIS', 'PTRATIO', 'CRIM PTRATIO', 'INDUS AGE', 'INDUS LSTAT', 'TAX PTRATIO', 'INDUS PTRATIO']\n",
      "36 ['PTRATIO LSTAT', 'RM^2', 'RM', 'LSTAT^2', 'NOX LSTAT', 'DIS PTRATIO', 'CRIM CHAS', 'CRIM LSTAT', 'RAD B', 'RM TAX', 'TAX', 'TAX LSTAT', 'AGE B', 'DIS^2', 'DIS TAX', 'RM PTRATIO', 'DIS', 'NOX RM', 'NOX PTRATIO', 'CRIM NOX', 'DIS LSTAT', 'CRIM RM', 'RM LSTAT', 'DIS B', 'AGE RAD', 'RAD LSTAT', 'NOX DIS', 'AGE LSTAT', 'RM DIS', 'PTRATIO', 'CRIM PTRATIO', 'INDUS AGE', 'INDUS LSTAT', 'TAX PTRATIO', 'INDUS PTRATIO', 'AGE TAX']\n",
      "37 ['PTRATIO LSTAT', 'RM^2', 'RM', 'LSTAT^2', 'NOX LSTAT', 'DIS PTRATIO', 'CRIM CHAS', 'CRIM LSTAT', 'RAD B', 'RM TAX', 'TAX', 'TAX LSTAT', 'AGE B', 'DIS^2', 'DIS TAX', 'RM PTRATIO', 'DIS', 'NOX RM', 'NOX PTRATIO', 'CRIM NOX', 'DIS LSTAT', 'CRIM RM', 'RM LSTAT', 'DIS B', 'AGE RAD', 'RAD LSTAT', 'NOX DIS', 'AGE LSTAT', 'RM DIS', 'PTRATIO', 'CRIM PTRATIO', 'INDUS AGE', 'INDUS LSTAT', 'TAX PTRATIO', 'INDUS PTRATIO', 'AGE TAX', 'INDUS NOX']\n",
      "38 ['PTRATIO LSTAT', 'RM^2', 'RM', 'LSTAT^2', 'NOX LSTAT', 'DIS PTRATIO', 'CRIM CHAS', 'CRIM LSTAT', 'RAD B', 'RM TAX', 'TAX', 'TAX LSTAT', 'AGE B', 'DIS^2', 'DIS TAX', 'RM PTRATIO', 'DIS', 'NOX RM', 'NOX PTRATIO', 'CRIM NOX', 'DIS LSTAT', 'CRIM RM', 'RM LSTAT', 'DIS B', 'AGE RAD', 'RAD LSTAT', 'NOX DIS', 'AGE LSTAT', 'RM DIS', 'PTRATIO', 'CRIM PTRATIO', 'INDUS AGE', 'INDUS LSTAT', 'TAX PTRATIO', 'INDUS PTRATIO', 'AGE TAX', 'INDUS NOX', 'CHAS NOX']\n"
     ]
    },
    {
     "name": "stdout",
     "output_type": "stream",
     "text": [
      "39 ['PTRATIO LSTAT', 'RM^2', 'RM', 'LSTAT^2', 'NOX LSTAT', 'DIS PTRATIO', 'CRIM CHAS', 'CRIM LSTAT', 'RAD B', 'RM TAX', 'TAX', 'TAX LSTAT', 'AGE B', 'DIS^2', 'DIS TAX', 'RM PTRATIO', 'DIS', 'NOX RM', 'NOX PTRATIO', 'CRIM NOX', 'DIS LSTAT', 'CRIM RM', 'RM LSTAT', 'DIS B', 'AGE RAD', 'RAD LSTAT', 'NOX DIS', 'AGE LSTAT', 'RM DIS', 'PTRATIO', 'CRIM PTRATIO', 'INDUS AGE', 'INDUS LSTAT', 'TAX PTRATIO', 'INDUS PTRATIO', 'AGE TAX', 'INDUS NOX', 'CHAS NOX', 'CHAS']\n",
      "40 ['PTRATIO LSTAT', 'RM^2', 'RM', 'LSTAT^2', 'NOX LSTAT', 'DIS PTRATIO', 'CRIM CHAS', 'CRIM LSTAT', 'RAD B', 'RM TAX', 'TAX', 'TAX LSTAT', 'AGE B', 'DIS^2', 'DIS TAX', 'RM PTRATIO', 'DIS', 'NOX RM', 'NOX PTRATIO', 'CRIM NOX', 'DIS LSTAT', 'CRIM RM', 'RM LSTAT', 'DIS B', 'AGE RAD', 'RAD LSTAT', 'NOX DIS', 'AGE LSTAT', 'RM DIS', 'PTRATIO', 'CRIM PTRATIO', 'INDUS AGE', 'INDUS LSTAT', 'TAX PTRATIO', 'INDUS PTRATIO', 'AGE TAX', 'INDUS NOX', 'CHAS NOX', 'CHAS', 'CHAS RM']\n",
      "41 ['PTRATIO LSTAT', 'RM^2', 'RM', 'LSTAT^2', 'NOX LSTAT', 'DIS PTRATIO', 'CRIM CHAS', 'CRIM LSTAT', 'RAD B', 'RM TAX', 'TAX', 'TAX LSTAT', 'AGE B', 'DIS^2', 'DIS TAX', 'RM PTRATIO', 'DIS', 'NOX RM', 'NOX PTRATIO', 'CRIM NOX', 'DIS LSTAT', 'CRIM RM', 'RM LSTAT', 'DIS B', 'AGE RAD', 'RAD LSTAT', 'NOX DIS', 'AGE LSTAT', 'RM DIS', 'PTRATIO', 'CRIM PTRATIO', 'INDUS AGE', 'INDUS LSTAT', 'TAX PTRATIO', 'INDUS PTRATIO', 'AGE TAX', 'INDUS NOX', 'CHAS NOX', 'CHAS', 'CHAS RM', 'CRIM^2']\n",
      "42 ['PTRATIO LSTAT', 'RM^2', 'RM', 'LSTAT^2', 'NOX LSTAT', 'DIS PTRATIO', 'CRIM CHAS', 'CRIM LSTAT', 'RAD B', 'RM TAX', 'TAX', 'TAX LSTAT', 'AGE B', 'DIS^2', 'DIS TAX', 'RM PTRATIO', 'DIS', 'NOX RM', 'NOX PTRATIO', 'CRIM NOX', 'DIS LSTAT', 'CRIM RM', 'RM LSTAT', 'DIS B', 'AGE RAD', 'RAD LSTAT', 'NOX DIS', 'AGE LSTAT', 'RM DIS', 'PTRATIO', 'CRIM PTRATIO', 'INDUS AGE', 'INDUS LSTAT', 'TAX PTRATIO', 'INDUS PTRATIO', 'AGE TAX', 'INDUS NOX', 'CHAS NOX', 'CHAS', 'CHAS RM', 'CRIM^2', 'CHAS PTRATIO']\n",
      "43 ['PTRATIO LSTAT', 'RM^2', 'RM', 'LSTAT^2', 'NOX LSTAT', 'DIS PTRATIO', 'CRIM CHAS', 'CRIM LSTAT', 'RAD B', 'RM TAX', 'TAX', 'TAX LSTAT', 'AGE B', 'DIS^2', 'DIS TAX', 'RM PTRATIO', 'DIS', 'NOX RM', 'NOX PTRATIO', 'CRIM NOX', 'DIS LSTAT', 'CRIM RM', 'RM LSTAT', 'DIS B', 'AGE RAD', 'RAD LSTAT', 'NOX DIS', 'AGE LSTAT', 'RM DIS', 'PTRATIO', 'CRIM PTRATIO', 'INDUS AGE', 'INDUS LSTAT', 'TAX PTRATIO', 'INDUS PTRATIO', 'AGE TAX', 'INDUS NOX', 'CHAS NOX', 'CHAS', 'CHAS RM', 'CRIM^2', 'CHAS PTRATIO', 'ZN LSTAT']\n",
      "44 ['PTRATIO LSTAT', 'RM^2', 'RM', 'LSTAT^2', 'NOX LSTAT', 'DIS PTRATIO', 'CRIM CHAS', 'CRIM LSTAT', 'RAD B', 'RM TAX', 'TAX', 'TAX LSTAT', 'AGE B', 'DIS^2', 'DIS TAX', 'RM PTRATIO', 'DIS', 'NOX RM', 'NOX PTRATIO', 'CRIM NOX', 'DIS LSTAT', 'CRIM RM', 'RM LSTAT', 'DIS B', 'AGE RAD', 'RAD LSTAT', 'NOX DIS', 'AGE LSTAT', 'RM DIS', 'PTRATIO', 'CRIM PTRATIO', 'INDUS AGE', 'INDUS LSTAT', 'TAX PTRATIO', 'INDUS PTRATIO', 'AGE TAX', 'INDUS NOX', 'CHAS NOX', 'CHAS', 'CHAS RM', 'CRIM^2', 'CHAS PTRATIO', 'ZN LSTAT', 'ZN TAX']\n",
      "45 ['PTRATIO LSTAT', 'RM^2', 'RM', 'LSTAT^2', 'NOX LSTAT', 'DIS PTRATIO', 'CRIM CHAS', 'CRIM LSTAT', 'RAD B', 'RM TAX', 'TAX', 'TAX LSTAT', 'AGE B', 'DIS^2', 'DIS TAX', 'RM PTRATIO', 'DIS', 'NOX RM', 'NOX PTRATIO', 'CRIM NOX', 'DIS LSTAT', 'CRIM RM', 'RM LSTAT', 'DIS B', 'AGE RAD', 'RAD LSTAT', 'NOX DIS', 'AGE LSTAT', 'RM DIS', 'PTRATIO', 'CRIM PTRATIO', 'INDUS AGE', 'INDUS LSTAT', 'TAX PTRATIO', 'INDUS PTRATIO', 'AGE TAX', 'INDUS NOX', 'CHAS NOX', 'CHAS', 'CHAS RM', 'CRIM^2', 'CHAS PTRATIO', 'ZN LSTAT', 'ZN TAX', 'ZN PTRATIO']\n",
      "46 ['PTRATIO LSTAT', 'RM^2', 'RM', 'LSTAT^2', 'NOX LSTAT', 'DIS PTRATIO', 'CRIM CHAS', 'CRIM LSTAT', 'RAD B', 'RM TAX', 'TAX', 'TAX LSTAT', 'AGE B', 'DIS^2', 'DIS TAX', 'RM PTRATIO', 'DIS', 'NOX RM', 'NOX PTRATIO', 'CRIM NOX', 'DIS LSTAT', 'CRIM RM', 'RM LSTAT', 'DIS B', 'AGE RAD', 'RAD LSTAT', 'NOX DIS', 'AGE LSTAT', 'RM DIS', 'PTRATIO', 'CRIM PTRATIO', 'INDUS AGE', 'INDUS LSTAT', 'TAX PTRATIO', 'INDUS PTRATIO', 'AGE TAX', 'INDUS NOX', 'CHAS NOX', 'CHAS', 'CHAS RM', 'CRIM^2', 'CHAS PTRATIO', 'ZN LSTAT', 'ZN TAX', 'ZN PTRATIO', 'ZN DIS']\n",
      "47 ['PTRATIO LSTAT', 'RM^2', 'RM', 'LSTAT^2', 'NOX LSTAT', 'DIS PTRATIO', 'CRIM CHAS', 'CRIM LSTAT', 'RAD B', 'RM TAX', 'TAX', 'TAX LSTAT', 'AGE B', 'DIS^2', 'DIS TAX', 'RM PTRATIO', 'DIS', 'NOX RM', 'NOX PTRATIO', 'CRIM NOX', 'DIS LSTAT', 'CRIM RM', 'RM LSTAT', 'DIS B', 'AGE RAD', 'RAD LSTAT', 'NOX DIS', 'AGE LSTAT', 'RM DIS', 'PTRATIO', 'CRIM PTRATIO', 'INDUS AGE', 'INDUS LSTAT', 'TAX PTRATIO', 'INDUS PTRATIO', 'AGE TAX', 'INDUS NOX', 'CHAS NOX', 'CHAS', 'CHAS RM', 'CRIM^2', 'CHAS PTRATIO', 'ZN LSTAT', 'ZN TAX', 'ZN PTRATIO', 'ZN DIS', 'CRIM B']\n",
      "48 ['PTRATIO LSTAT', 'RM^2', 'RM', 'LSTAT^2', 'NOX LSTAT', 'DIS PTRATIO', 'CRIM CHAS', 'CRIM LSTAT', 'RAD B', 'RM TAX', 'TAX', 'TAX LSTAT', 'AGE B', 'DIS^2', 'DIS TAX', 'RM PTRATIO', 'DIS', 'NOX RM', 'NOX PTRATIO', 'CRIM NOX', 'DIS LSTAT', 'CRIM RM', 'RM LSTAT', 'DIS B', 'AGE RAD', 'RAD LSTAT', 'NOX DIS', 'AGE LSTAT', 'RM DIS', 'PTRATIO', 'CRIM PTRATIO', 'INDUS AGE', 'INDUS LSTAT', 'TAX PTRATIO', 'INDUS PTRATIO', 'AGE TAX', 'INDUS NOX', 'CHAS NOX', 'CHAS', 'CHAS RM', 'CRIM^2', 'CHAS PTRATIO', 'ZN LSTAT', 'ZN TAX', 'ZN PTRATIO', 'ZN DIS', 'CRIM B', 'B']\n",
      "49 ['PTRATIO LSTAT', 'RM^2', 'RM', 'LSTAT^2', 'NOX LSTAT', 'DIS PTRATIO', 'CRIM CHAS', 'CRIM LSTAT', 'RAD B', 'RM TAX', 'TAX', 'TAX LSTAT', 'AGE B', 'DIS^2', 'DIS TAX', 'RM PTRATIO', 'DIS', 'NOX RM', 'NOX PTRATIO', 'CRIM NOX', 'DIS LSTAT', 'CRIM RM', 'RM LSTAT', 'DIS B', 'AGE RAD', 'RAD LSTAT', 'NOX DIS', 'AGE LSTAT', 'RM DIS', 'PTRATIO', 'CRIM PTRATIO', 'INDUS AGE', 'INDUS LSTAT', 'TAX PTRATIO', 'INDUS PTRATIO', 'AGE TAX', 'INDUS NOX', 'CHAS NOX', 'CHAS', 'CHAS RM', 'CRIM^2', 'CHAS PTRATIO', 'ZN LSTAT', 'ZN TAX', 'ZN PTRATIO', 'ZN DIS', 'CRIM B', 'B', 'AGE']\n",
      "50 ['PTRATIO LSTAT', 'RM^2', 'RM', 'LSTAT^2', 'NOX LSTAT', 'DIS PTRATIO', 'CRIM CHAS', 'CRIM LSTAT', 'RAD B', 'RM TAX', 'TAX', 'TAX LSTAT', 'AGE B', 'DIS^2', 'DIS TAX', 'RM PTRATIO', 'DIS', 'NOX RM', 'NOX PTRATIO', 'CRIM NOX', 'DIS LSTAT', 'CRIM RM', 'RM LSTAT', 'DIS B', 'AGE RAD', 'RAD LSTAT', 'NOX DIS', 'AGE LSTAT', 'RM DIS', 'PTRATIO', 'CRIM PTRATIO', 'INDUS AGE', 'INDUS LSTAT', 'TAX PTRATIO', 'INDUS PTRATIO', 'AGE TAX', 'INDUS NOX', 'CHAS NOX', 'CHAS', 'CHAS RM', 'CRIM^2', 'CHAS PTRATIO', 'ZN LSTAT', 'ZN TAX', 'ZN PTRATIO', 'ZN DIS', 'CRIM B', 'B', 'AGE', 'RM AGE']\n",
      "51 ['PTRATIO LSTAT', 'RM^2', 'RM', 'LSTAT^2', 'NOX LSTAT', 'DIS PTRATIO', 'CRIM CHAS', 'CRIM LSTAT', 'RAD B', 'RM TAX', 'TAX', 'TAX LSTAT', 'AGE B', 'DIS^2', 'DIS TAX', 'RM PTRATIO', 'DIS', 'NOX RM', 'NOX PTRATIO', 'CRIM NOX', 'DIS LSTAT', 'CRIM RM', 'RM LSTAT', 'DIS B', 'AGE RAD', 'RAD LSTAT', 'NOX DIS', 'AGE LSTAT', 'RM DIS', 'PTRATIO', 'CRIM PTRATIO', 'INDUS AGE', 'INDUS LSTAT', 'TAX PTRATIO', 'INDUS PTRATIO', 'AGE TAX', 'INDUS NOX', 'CHAS NOX', 'CHAS', 'CHAS RM', 'CRIM^2', 'CHAS PTRATIO', 'ZN LSTAT', 'ZN TAX', 'ZN PTRATIO', 'ZN DIS', 'CRIM B', 'B', 'AGE', 'RM AGE', 'NOX AGE']\n",
      "52 ['PTRATIO LSTAT', 'RM^2', 'RM', 'LSTAT^2', 'NOX LSTAT', 'DIS PTRATIO', 'CRIM CHAS', 'CRIM LSTAT', 'RAD B', 'RM TAX', 'TAX', 'TAX LSTAT', 'AGE B', 'DIS^2', 'DIS TAX', 'RM PTRATIO', 'DIS', 'NOX RM', 'NOX PTRATIO', 'CRIM NOX', 'DIS LSTAT', 'CRIM RM', 'RM LSTAT', 'DIS B', 'AGE RAD', 'RAD LSTAT', 'NOX DIS', 'AGE LSTAT', 'RM DIS', 'PTRATIO', 'CRIM PTRATIO', 'INDUS AGE', 'INDUS LSTAT', 'TAX PTRATIO', 'INDUS PTRATIO', 'AGE TAX', 'INDUS NOX', 'CHAS NOX', 'CHAS', 'CHAS RM', 'CRIM^2', 'CHAS PTRATIO', 'ZN LSTAT', 'ZN TAX', 'ZN PTRATIO', 'ZN DIS', 'CRIM B', 'B', 'AGE', 'RM AGE', 'NOX AGE', 'B^2']\n",
      "53 ['PTRATIO LSTAT', 'RM^2', 'RM', 'LSTAT^2', 'NOX LSTAT', 'DIS PTRATIO', 'CRIM CHAS', 'CRIM LSTAT', 'RAD B', 'RM TAX', 'TAX', 'TAX LSTAT', 'AGE B', 'DIS^2', 'DIS TAX', 'RM PTRATIO', 'DIS', 'NOX RM', 'NOX PTRATIO', 'CRIM NOX', 'DIS LSTAT', 'CRIM RM', 'RM LSTAT', 'DIS B', 'AGE RAD', 'RAD LSTAT', 'NOX DIS', 'AGE LSTAT', 'RM DIS', 'PTRATIO', 'CRIM PTRATIO', 'INDUS AGE', 'INDUS LSTAT', 'TAX PTRATIO', 'INDUS PTRATIO', 'AGE TAX', 'INDUS NOX', 'CHAS NOX', 'CHAS', 'CHAS RM', 'CRIM^2', 'CHAS PTRATIO', 'ZN LSTAT', 'ZN TAX', 'ZN PTRATIO', 'ZN DIS', 'CRIM B', 'B', 'AGE', 'RM AGE', 'NOX AGE', 'B^2', 'ZN^2']\n",
      "54 ['PTRATIO LSTAT', 'RM^2', 'RM', 'LSTAT^2', 'NOX LSTAT', 'DIS PTRATIO', 'CRIM CHAS', 'CRIM LSTAT', 'RAD B', 'RM TAX', 'TAX', 'TAX LSTAT', 'AGE B', 'DIS^2', 'DIS TAX', 'RM PTRATIO', 'DIS', 'NOX RM', 'NOX PTRATIO', 'CRIM NOX', 'DIS LSTAT', 'CRIM RM', 'RM LSTAT', 'DIS B', 'AGE RAD', 'RAD LSTAT', 'NOX DIS', 'AGE LSTAT', 'RM DIS', 'PTRATIO', 'CRIM PTRATIO', 'INDUS AGE', 'INDUS LSTAT', 'TAX PTRATIO', 'INDUS PTRATIO', 'AGE TAX', 'INDUS NOX', 'CHAS NOX', 'CHAS', 'CHAS RM', 'CRIM^2', 'CHAS PTRATIO', 'ZN LSTAT', 'ZN TAX', 'ZN PTRATIO', 'ZN DIS', 'CRIM B', 'B', 'AGE', 'RM AGE', 'NOX AGE', 'B^2', 'ZN^2', 'CRIM ZN']\n"
     ]
    },
    {
     "name": "stdout",
     "output_type": "stream",
     "text": [
      "55 ['PTRATIO LSTAT', 'RM^2', 'RM', 'LSTAT^2', 'NOX LSTAT', 'DIS PTRATIO', 'CRIM CHAS', 'CRIM LSTAT', 'RAD B', 'RM TAX', 'TAX', 'TAX LSTAT', 'AGE B', 'DIS^2', 'DIS TAX', 'RM PTRATIO', 'DIS', 'NOX RM', 'NOX PTRATIO', 'CRIM NOX', 'DIS LSTAT', 'CRIM RM', 'RM LSTAT', 'DIS B', 'AGE RAD', 'RAD LSTAT', 'NOX DIS', 'AGE LSTAT', 'RM DIS', 'PTRATIO', 'CRIM PTRATIO', 'INDUS AGE', 'INDUS LSTAT', 'TAX PTRATIO', 'INDUS PTRATIO', 'AGE TAX', 'INDUS NOX', 'CHAS NOX', 'CHAS', 'CHAS RM', 'CRIM^2', 'CHAS PTRATIO', 'ZN LSTAT', 'ZN TAX', 'ZN PTRATIO', 'ZN DIS', 'CRIM B', 'B', 'AGE', 'RM AGE', 'NOX AGE', 'B^2', 'ZN^2', 'CRIM ZN', 'RAD^2']\n",
      "56 ['PTRATIO LSTAT', 'RM^2', 'RM', 'LSTAT^2', 'NOX LSTAT', 'DIS PTRATIO', 'CRIM CHAS', 'CRIM LSTAT', 'RAD B', 'RM TAX', 'TAX', 'TAX LSTAT', 'AGE B', 'DIS^2', 'DIS TAX', 'RM PTRATIO', 'DIS', 'NOX RM', 'NOX PTRATIO', 'CRIM NOX', 'DIS LSTAT', 'CRIM RM', 'RM LSTAT', 'DIS B', 'AGE RAD', 'RAD LSTAT', 'NOX DIS', 'AGE LSTAT', 'RM DIS', 'PTRATIO', 'CRIM PTRATIO', 'INDUS AGE', 'INDUS LSTAT', 'TAX PTRATIO', 'INDUS PTRATIO', 'AGE TAX', 'INDUS NOX', 'CHAS NOX', 'CHAS', 'CHAS RM', 'CRIM^2', 'CHAS PTRATIO', 'ZN LSTAT', 'ZN TAX', 'ZN PTRATIO', 'ZN DIS', 'CRIM B', 'B', 'AGE', 'RM AGE', 'NOX AGE', 'B^2', 'ZN^2', 'CRIM ZN', 'RAD^2', 'RAD TAX']\n",
      "57 ['PTRATIO LSTAT', 'RM^2', 'RM', 'LSTAT^2', 'NOX LSTAT', 'DIS PTRATIO', 'CRIM CHAS', 'CRIM LSTAT', 'RAD B', 'RM TAX', 'TAX', 'TAX LSTAT', 'AGE B', 'DIS^2', 'DIS TAX', 'RM PTRATIO', 'DIS', 'NOX RM', 'NOX PTRATIO', 'CRIM NOX', 'DIS LSTAT', 'CRIM RM', 'RM LSTAT', 'DIS B', 'AGE RAD', 'RAD LSTAT', 'NOX DIS', 'AGE LSTAT', 'RM DIS', 'PTRATIO', 'CRIM PTRATIO', 'INDUS AGE', 'INDUS LSTAT', 'TAX PTRATIO', 'INDUS PTRATIO', 'AGE TAX', 'INDUS NOX', 'CHAS NOX', 'CHAS', 'CHAS RM', 'CRIM^2', 'CHAS PTRATIO', 'ZN LSTAT', 'ZN TAX', 'ZN PTRATIO', 'ZN DIS', 'CRIM B', 'B', 'AGE', 'RM AGE', 'NOX AGE', 'B^2', 'ZN^2', 'CRIM ZN', 'RAD^2', 'RAD TAX', 'ZN RAD']\n",
      "58 ['PTRATIO LSTAT', 'RM^2', 'RM', 'LSTAT^2', 'NOX LSTAT', 'DIS PTRATIO', 'CRIM CHAS', 'CRIM LSTAT', 'RAD B', 'RM TAX', 'TAX', 'TAX LSTAT', 'AGE B', 'DIS^2', 'DIS TAX', 'RM PTRATIO', 'DIS', 'NOX RM', 'NOX PTRATIO', 'CRIM NOX', 'DIS LSTAT', 'CRIM RM', 'RM LSTAT', 'DIS B', 'AGE RAD', 'RAD LSTAT', 'NOX DIS', 'AGE LSTAT', 'RM DIS', 'PTRATIO', 'CRIM PTRATIO', 'INDUS AGE', 'INDUS LSTAT', 'TAX PTRATIO', 'INDUS PTRATIO', 'AGE TAX', 'INDUS NOX', 'CHAS NOX', 'CHAS', 'CHAS RM', 'CRIM^2', 'CHAS PTRATIO', 'ZN LSTAT', 'ZN TAX', 'ZN PTRATIO', 'ZN DIS', 'CRIM B', 'B', 'AGE', 'RM AGE', 'NOX AGE', 'B^2', 'ZN^2', 'CRIM ZN', 'RAD^2', 'RAD TAX', 'ZN RAD', 'INDUS']\n",
      "59 ['PTRATIO LSTAT', 'RM^2', 'RM', 'LSTAT^2', 'NOX LSTAT', 'DIS PTRATIO', 'CRIM CHAS', 'CRIM LSTAT', 'RAD B', 'RM TAX', 'TAX', 'TAX LSTAT', 'AGE B', 'DIS^2', 'DIS TAX', 'RM PTRATIO', 'DIS', 'NOX RM', 'NOX PTRATIO', 'CRIM NOX', 'DIS LSTAT', 'CRIM RM', 'RM LSTAT', 'DIS B', 'AGE RAD', 'RAD LSTAT', 'NOX DIS', 'AGE LSTAT', 'RM DIS', 'PTRATIO', 'CRIM PTRATIO', 'INDUS AGE', 'INDUS LSTAT', 'TAX PTRATIO', 'INDUS PTRATIO', 'AGE TAX', 'INDUS NOX', 'CHAS NOX', 'CHAS', 'CHAS RM', 'CRIM^2', 'CHAS PTRATIO', 'ZN LSTAT', 'ZN TAX', 'ZN PTRATIO', 'ZN DIS', 'CRIM B', 'B', 'AGE', 'RM AGE', 'NOX AGE', 'B^2', 'ZN^2', 'CRIM ZN', 'RAD^2', 'RAD TAX', 'ZN RAD', 'INDUS', 'INDUS RM']\n",
      "60 ['PTRATIO LSTAT', 'RM^2', 'RM', 'LSTAT^2', 'NOX LSTAT', 'DIS PTRATIO', 'CRIM CHAS', 'CRIM LSTAT', 'RAD B', 'RM TAX', 'TAX', 'TAX LSTAT', 'AGE B', 'DIS^2', 'DIS TAX', 'RM PTRATIO', 'DIS', 'NOX RM', 'NOX PTRATIO', 'CRIM NOX', 'DIS LSTAT', 'CRIM RM', 'RM LSTAT', 'DIS B', 'AGE RAD', 'RAD LSTAT', 'NOX DIS', 'AGE LSTAT', 'RM DIS', 'PTRATIO', 'CRIM PTRATIO', 'INDUS AGE', 'INDUS LSTAT', 'TAX PTRATIO', 'INDUS PTRATIO', 'AGE TAX', 'INDUS NOX', 'CHAS NOX', 'CHAS', 'CHAS RM', 'CRIM^2', 'CHAS PTRATIO', 'ZN LSTAT', 'ZN TAX', 'ZN PTRATIO', 'ZN DIS', 'CRIM B', 'B', 'AGE', 'RM AGE', 'NOX AGE', 'B^2', 'ZN^2', 'CRIM ZN', 'RAD^2', 'RAD TAX', 'ZN RAD', 'INDUS', 'INDUS RM', 'CRIM RAD']\n",
      "61 ['PTRATIO LSTAT', 'RM^2', 'RM', 'LSTAT^2', 'NOX LSTAT', 'DIS PTRATIO', 'CRIM CHAS', 'CRIM LSTAT', 'RAD B', 'RM TAX', 'TAX', 'TAX LSTAT', 'AGE B', 'DIS^2', 'DIS TAX', 'RM PTRATIO', 'DIS', 'NOX RM', 'NOX PTRATIO', 'CRIM NOX', 'DIS LSTAT', 'CRIM RM', 'RM LSTAT', 'DIS B', 'AGE RAD', 'RAD LSTAT', 'NOX DIS', 'AGE LSTAT', 'RM DIS', 'PTRATIO', 'CRIM PTRATIO', 'INDUS AGE', 'INDUS LSTAT', 'TAX PTRATIO', 'INDUS PTRATIO', 'AGE TAX', 'INDUS NOX', 'CHAS NOX', 'CHAS', 'CHAS RM', 'CRIM^2', 'CHAS PTRATIO', 'ZN LSTAT', 'ZN TAX', 'ZN PTRATIO', 'ZN DIS', 'CRIM B', 'B', 'AGE', 'RM AGE', 'NOX AGE', 'B^2', 'ZN^2', 'CRIM ZN', 'RAD^2', 'RAD TAX', 'ZN RAD', 'INDUS', 'INDUS RM', 'CRIM RAD', 'INDUS^2']\n",
      "62 ['PTRATIO LSTAT', 'RM^2', 'RM', 'LSTAT^2', 'NOX LSTAT', 'DIS PTRATIO', 'CRIM CHAS', 'CRIM LSTAT', 'RAD B', 'RM TAX', 'TAX', 'TAX LSTAT', 'AGE B', 'DIS^2', 'DIS TAX', 'RM PTRATIO', 'DIS', 'NOX RM', 'NOX PTRATIO', 'CRIM NOX', 'DIS LSTAT', 'CRIM RM', 'RM LSTAT', 'DIS B', 'AGE RAD', 'RAD LSTAT', 'NOX DIS', 'AGE LSTAT', 'RM DIS', 'PTRATIO', 'CRIM PTRATIO', 'INDUS AGE', 'INDUS LSTAT', 'TAX PTRATIO', 'INDUS PTRATIO', 'AGE TAX', 'INDUS NOX', 'CHAS NOX', 'CHAS', 'CHAS RM', 'CRIM^2', 'CHAS PTRATIO', 'ZN LSTAT', 'ZN TAX', 'ZN PTRATIO', 'ZN DIS', 'CRIM B', 'B', 'AGE', 'RM AGE', 'NOX AGE', 'B^2', 'ZN^2', 'CRIM ZN', 'RAD^2', 'RAD TAX', 'ZN RAD', 'INDUS', 'INDUS RM', 'CRIM RAD', 'INDUS^2', 'TAX^2']\n",
      "63 ['PTRATIO LSTAT', 'RM^2', 'RM', 'LSTAT^2', 'NOX LSTAT', 'DIS PTRATIO', 'CRIM CHAS', 'CRIM LSTAT', 'RAD B', 'RM TAX', 'TAX', 'TAX LSTAT', 'AGE B', 'DIS^2', 'DIS TAX', 'RM PTRATIO', 'DIS', 'NOX RM', 'NOX PTRATIO', 'CRIM NOX', 'DIS LSTAT', 'CRIM RM', 'RM LSTAT', 'DIS B', 'AGE RAD', 'RAD LSTAT', 'NOX DIS', 'AGE LSTAT', 'RM DIS', 'PTRATIO', 'CRIM PTRATIO', 'INDUS AGE', 'INDUS LSTAT', 'TAX PTRATIO', 'INDUS PTRATIO', 'AGE TAX', 'INDUS NOX', 'CHAS NOX', 'CHAS', 'CHAS RM', 'CRIM^2', 'CHAS PTRATIO', 'ZN LSTAT', 'ZN TAX', 'ZN PTRATIO', 'ZN DIS', 'CRIM B', 'B', 'AGE', 'RM AGE', 'NOX AGE', 'B^2', 'ZN^2', 'CRIM ZN', 'RAD^2', 'RAD TAX', 'ZN RAD', 'INDUS', 'INDUS RM', 'CRIM RAD', 'INDUS^2', 'TAX^2', 'DIS RAD']\n",
      "64 ['PTRATIO LSTAT', 'RM^2', 'RM', 'LSTAT^2', 'NOX LSTAT', 'DIS PTRATIO', 'CRIM CHAS', 'CRIM LSTAT', 'RAD B', 'RM TAX', 'TAX', 'TAX LSTAT', 'AGE B', 'DIS^2', 'DIS TAX', 'RM PTRATIO', 'DIS', 'NOX RM', 'NOX PTRATIO', 'CRIM NOX', 'DIS LSTAT', 'CRIM RM', 'RM LSTAT', 'DIS B', 'AGE RAD', 'RAD LSTAT', 'NOX DIS', 'AGE LSTAT', 'RM DIS', 'PTRATIO', 'CRIM PTRATIO', 'INDUS AGE', 'INDUS LSTAT', 'TAX PTRATIO', 'INDUS PTRATIO', 'AGE TAX', 'INDUS NOX', 'CHAS NOX', 'CHAS', 'CHAS RM', 'CRIM^2', 'CHAS PTRATIO', 'ZN LSTAT', 'ZN TAX', 'ZN PTRATIO', 'ZN DIS', 'CRIM B', 'B', 'AGE', 'RM AGE', 'NOX AGE', 'B^2', 'ZN^2', 'CRIM ZN', 'RAD^2', 'RAD TAX', 'ZN RAD', 'INDUS', 'INDUS RM', 'CRIM RAD', 'INDUS^2', 'TAX^2', 'DIS RAD', 'INDUS TAX']\n",
      "65 ['PTRATIO LSTAT', 'RM^2', 'RM', 'LSTAT^2', 'NOX LSTAT', 'DIS PTRATIO', 'CRIM CHAS', 'CRIM LSTAT', 'RAD B', 'RM TAX', 'TAX', 'TAX LSTAT', 'AGE B', 'DIS^2', 'DIS TAX', 'RM PTRATIO', 'DIS', 'NOX RM', 'NOX PTRATIO', 'CRIM NOX', 'DIS LSTAT', 'CRIM RM', 'RM LSTAT', 'DIS B', 'AGE RAD', 'RAD LSTAT', 'NOX DIS', 'AGE LSTAT', 'RM DIS', 'PTRATIO', 'CRIM PTRATIO', 'INDUS AGE', 'INDUS LSTAT', 'TAX PTRATIO', 'INDUS PTRATIO', 'AGE TAX', 'INDUS NOX', 'CHAS NOX', 'CHAS', 'CHAS RM', 'CRIM^2', 'CHAS PTRATIO', 'ZN LSTAT', 'ZN TAX', 'ZN PTRATIO', 'ZN DIS', 'CRIM B', 'B', 'AGE', 'RM AGE', 'NOX AGE', 'B^2', 'ZN^2', 'CRIM ZN', 'RAD^2', 'RAD TAX', 'ZN RAD', 'INDUS', 'INDUS RM', 'CRIM RAD', 'INDUS^2', 'TAX^2', 'DIS RAD', 'INDUS TAX', 'INDUS DIS']\n",
      "66 ['PTRATIO LSTAT', 'RM^2', 'RM', 'LSTAT^2', 'NOX LSTAT', 'DIS PTRATIO', 'CRIM CHAS', 'CRIM LSTAT', 'RAD B', 'RM TAX', 'TAX', 'TAX LSTAT', 'AGE B', 'DIS^2', 'DIS TAX', 'RM PTRATIO', 'DIS', 'NOX RM', 'NOX PTRATIO', 'CRIM NOX', 'DIS LSTAT', 'CRIM RM', 'RM LSTAT', 'DIS B', 'AGE RAD', 'RAD LSTAT', 'NOX DIS', 'AGE LSTAT', 'RM DIS', 'PTRATIO', 'CRIM PTRATIO', 'INDUS AGE', 'INDUS LSTAT', 'TAX PTRATIO', 'INDUS PTRATIO', 'AGE TAX', 'INDUS NOX', 'CHAS NOX', 'CHAS', 'CHAS RM', 'CRIM^2', 'CHAS PTRATIO', 'ZN LSTAT', 'ZN TAX', 'ZN PTRATIO', 'ZN DIS', 'CRIM B', 'B', 'AGE', 'RM AGE', 'NOX AGE', 'B^2', 'ZN^2', 'CRIM ZN', 'RAD^2', 'RAD TAX', 'ZN RAD', 'INDUS', 'INDUS RM', 'CRIM RAD', 'INDUS^2', 'TAX^2', 'DIS RAD', 'INDUS TAX', 'INDUS DIS', 'CHAS LSTAT']\n",
      "67 ['PTRATIO LSTAT', 'RM^2', 'RM', 'LSTAT^2', 'NOX LSTAT', 'DIS PTRATIO', 'CRIM CHAS', 'CRIM LSTAT', 'RAD B', 'RM TAX', 'TAX', 'TAX LSTAT', 'AGE B', 'DIS^2', 'DIS TAX', 'RM PTRATIO', 'DIS', 'NOX RM', 'NOX PTRATIO', 'CRIM NOX', 'DIS LSTAT', 'CRIM RM', 'RM LSTAT', 'DIS B', 'AGE RAD', 'RAD LSTAT', 'NOX DIS', 'AGE LSTAT', 'RM DIS', 'PTRATIO', 'CRIM PTRATIO', 'INDUS AGE', 'INDUS LSTAT', 'TAX PTRATIO', 'INDUS PTRATIO', 'AGE TAX', 'INDUS NOX', 'CHAS NOX', 'CHAS', 'CHAS RM', 'CRIM^2', 'CHAS PTRATIO', 'ZN LSTAT', 'ZN TAX', 'ZN PTRATIO', 'ZN DIS', 'CRIM B', 'B', 'AGE', 'RM AGE', 'NOX AGE', 'B^2', 'ZN^2', 'CRIM ZN', 'RAD^2', 'RAD TAX', 'ZN RAD', 'INDUS', 'INDUS RM', 'CRIM RAD', 'INDUS^2', 'TAX^2', 'DIS RAD', 'INDUS TAX', 'INDUS DIS', 'CHAS LSTAT', 'CHAS AGE']\n"
     ]
    },
    {
     "name": "stdout",
     "output_type": "stream",
     "text": [
      "68 ['PTRATIO LSTAT', 'RM^2', 'RM', 'LSTAT^2', 'NOX LSTAT', 'DIS PTRATIO', 'CRIM CHAS', 'CRIM LSTAT', 'RAD B', 'RM TAX', 'TAX', 'TAX LSTAT', 'AGE B', 'DIS^2', 'DIS TAX', 'RM PTRATIO', 'DIS', 'NOX RM', 'NOX PTRATIO', 'CRIM NOX', 'DIS LSTAT', 'CRIM RM', 'RM LSTAT', 'DIS B', 'AGE RAD', 'RAD LSTAT', 'NOX DIS', 'AGE LSTAT', 'RM DIS', 'PTRATIO', 'CRIM PTRATIO', 'INDUS AGE', 'INDUS LSTAT', 'TAX PTRATIO', 'INDUS PTRATIO', 'AGE TAX', 'INDUS NOX', 'CHAS NOX', 'CHAS', 'CHAS RM', 'CRIM^2', 'CHAS PTRATIO', 'ZN LSTAT', 'ZN TAX', 'ZN PTRATIO', 'ZN DIS', 'CRIM B', 'B', 'AGE', 'RM AGE', 'NOX AGE', 'B^2', 'ZN^2', 'CRIM ZN', 'RAD^2', 'RAD TAX', 'ZN RAD', 'INDUS', 'INDUS RM', 'CRIM RAD', 'INDUS^2', 'TAX^2', 'DIS RAD', 'INDUS TAX', 'INDUS DIS', 'CHAS LSTAT', 'CHAS AGE', 'CHAS B']\n",
      "69 ['PTRATIO LSTAT', 'RM^2', 'RM', 'LSTAT^2', 'NOX LSTAT', 'DIS PTRATIO', 'CRIM CHAS', 'CRIM LSTAT', 'RAD B', 'RM TAX', 'TAX', 'TAX LSTAT', 'AGE B', 'DIS^2', 'DIS TAX', 'RM PTRATIO', 'DIS', 'NOX RM', 'NOX PTRATIO', 'CRIM NOX', 'DIS LSTAT', 'CRIM RM', 'RM LSTAT', 'DIS B', 'AGE RAD', 'RAD LSTAT', 'NOX DIS', 'AGE LSTAT', 'RM DIS', 'PTRATIO', 'CRIM PTRATIO', 'INDUS AGE', 'INDUS LSTAT', 'TAX PTRATIO', 'INDUS PTRATIO', 'AGE TAX', 'INDUS NOX', 'CHAS NOX', 'CHAS', 'CHAS RM', 'CRIM^2', 'CHAS PTRATIO', 'ZN LSTAT', 'ZN TAX', 'ZN PTRATIO', 'ZN DIS', 'CRIM B', 'B', 'AGE', 'RM AGE', 'NOX AGE', 'B^2', 'ZN^2', 'CRIM ZN', 'RAD^2', 'RAD TAX', 'ZN RAD', 'INDUS', 'INDUS RM', 'CRIM RAD', 'INDUS^2', 'TAX^2', 'DIS RAD', 'INDUS TAX', 'INDUS DIS', 'CHAS LSTAT', 'CHAS AGE', 'CHAS B', 'AGE DIS']\n",
      "70 ['PTRATIO LSTAT', 'RM^2', 'RM', 'LSTAT^2', 'NOX LSTAT', 'DIS PTRATIO', 'CRIM CHAS', 'CRIM LSTAT', 'RAD B', 'RM TAX', 'TAX', 'TAX LSTAT', 'AGE B', 'DIS^2', 'DIS TAX', 'RM PTRATIO', 'DIS', 'NOX RM', 'NOX PTRATIO', 'CRIM NOX', 'DIS LSTAT', 'CRIM RM', 'RM LSTAT', 'DIS B', 'AGE RAD', 'RAD LSTAT', 'NOX DIS', 'AGE LSTAT', 'RM DIS', 'PTRATIO', 'CRIM PTRATIO', 'INDUS AGE', 'INDUS LSTAT', 'TAX PTRATIO', 'INDUS PTRATIO', 'AGE TAX', 'INDUS NOX', 'CHAS NOX', 'CHAS', 'CHAS RM', 'CRIM^2', 'CHAS PTRATIO', 'ZN LSTAT', 'ZN TAX', 'ZN PTRATIO', 'ZN DIS', 'CRIM B', 'B', 'AGE', 'RM AGE', 'NOX AGE', 'B^2', 'ZN^2', 'CRIM ZN', 'RAD^2', 'RAD TAX', 'ZN RAD', 'INDUS', 'INDUS RM', 'CRIM RAD', 'INDUS^2', 'TAX^2', 'DIS RAD', 'INDUS TAX', 'INDUS DIS', 'CHAS LSTAT', 'CHAS AGE', 'CHAS B', 'AGE DIS', 'NOX RAD']\n",
      "71 ['PTRATIO LSTAT', 'RM^2', 'RM', 'LSTAT^2', 'NOX LSTAT', 'DIS PTRATIO', 'CRIM CHAS', 'CRIM LSTAT', 'RAD B', 'RM TAX', 'TAX', 'TAX LSTAT', 'AGE B', 'DIS^2', 'DIS TAX', 'RM PTRATIO', 'DIS', 'NOX RM', 'NOX PTRATIO', 'CRIM NOX', 'DIS LSTAT', 'CRIM RM', 'RM LSTAT', 'DIS B', 'AGE RAD', 'RAD LSTAT', 'NOX DIS', 'AGE LSTAT', 'RM DIS', 'PTRATIO', 'CRIM PTRATIO', 'INDUS AGE', 'INDUS LSTAT', 'TAX PTRATIO', 'INDUS PTRATIO', 'AGE TAX', 'INDUS NOX', 'CHAS NOX', 'CHAS', 'CHAS RM', 'CRIM^2', 'CHAS PTRATIO', 'ZN LSTAT', 'ZN TAX', 'ZN PTRATIO', 'ZN DIS', 'CRIM B', 'B', 'AGE', 'RM AGE', 'NOX AGE', 'B^2', 'ZN^2', 'CRIM ZN', 'RAD^2', 'RAD TAX', 'ZN RAD', 'INDUS', 'INDUS RM', 'CRIM RAD', 'INDUS^2', 'TAX^2', 'DIS RAD', 'INDUS TAX', 'INDUS DIS', 'CHAS LSTAT', 'CHAS AGE', 'CHAS B', 'AGE DIS', 'NOX RAD', 'RM B']\n",
      "72 ['PTRATIO LSTAT', 'RM^2', 'RM', 'LSTAT^2', 'NOX LSTAT', 'DIS PTRATIO', 'CRIM CHAS', 'CRIM LSTAT', 'RAD B', 'RM TAX', 'TAX', 'TAX LSTAT', 'AGE B', 'DIS^2', 'DIS TAX', 'RM PTRATIO', 'DIS', 'NOX RM', 'NOX PTRATIO', 'CRIM NOX', 'DIS LSTAT', 'CRIM RM', 'RM LSTAT', 'DIS B', 'AGE RAD', 'RAD LSTAT', 'NOX DIS', 'AGE LSTAT', 'RM DIS', 'PTRATIO', 'CRIM PTRATIO', 'INDUS AGE', 'INDUS LSTAT', 'TAX PTRATIO', 'INDUS PTRATIO', 'AGE TAX', 'INDUS NOX', 'CHAS NOX', 'CHAS', 'CHAS RM', 'CRIM^2', 'CHAS PTRATIO', 'ZN LSTAT', 'ZN TAX', 'ZN PTRATIO', 'ZN DIS', 'CRIM B', 'B', 'AGE', 'RM AGE', 'NOX AGE', 'B^2', 'ZN^2', 'CRIM ZN', 'RAD^2', 'RAD TAX', 'ZN RAD', 'INDUS', 'INDUS RM', 'CRIM RAD', 'INDUS^2', 'TAX^2', 'DIS RAD', 'INDUS TAX', 'INDUS DIS', 'CHAS LSTAT', 'CHAS AGE', 'CHAS B', 'AGE DIS', 'NOX RAD', 'RM B', 'ZN NOX']\n",
      "73 ['PTRATIO LSTAT', 'RM^2', 'RM', 'LSTAT^2', 'NOX LSTAT', 'DIS PTRATIO', 'CRIM CHAS', 'CRIM LSTAT', 'RAD B', 'RM TAX', 'TAX', 'TAX LSTAT', 'AGE B', 'DIS^2', 'DIS TAX', 'RM PTRATIO', 'DIS', 'NOX RM', 'NOX PTRATIO', 'CRIM NOX', 'DIS LSTAT', 'CRIM RM', 'RM LSTAT', 'DIS B', 'AGE RAD', 'RAD LSTAT', 'NOX DIS', 'AGE LSTAT', 'RM DIS', 'PTRATIO', 'CRIM PTRATIO', 'INDUS AGE', 'INDUS LSTAT', 'TAX PTRATIO', 'INDUS PTRATIO', 'AGE TAX', 'INDUS NOX', 'CHAS NOX', 'CHAS', 'CHAS RM', 'CRIM^2', 'CHAS PTRATIO', 'ZN LSTAT', 'ZN TAX', 'ZN PTRATIO', 'ZN DIS', 'CRIM B', 'B', 'AGE', 'RM AGE', 'NOX AGE', 'B^2', 'ZN^2', 'CRIM ZN', 'RAD^2', 'RAD TAX', 'ZN RAD', 'INDUS', 'INDUS RM', 'CRIM RAD', 'INDUS^2', 'TAX^2', 'DIS RAD', 'INDUS TAX', 'INDUS DIS', 'CHAS LSTAT', 'CHAS AGE', 'CHAS B', 'AGE DIS', 'NOX RAD', 'RM B', 'ZN NOX', 'ZN RM']\n",
      "74 ['PTRATIO LSTAT', 'RM^2', 'RM', 'LSTAT^2', 'NOX LSTAT', 'DIS PTRATIO', 'CRIM CHAS', 'CRIM LSTAT', 'RAD B', 'RM TAX', 'TAX', 'TAX LSTAT', 'AGE B', 'DIS^2', 'DIS TAX', 'RM PTRATIO', 'DIS', 'NOX RM', 'NOX PTRATIO', 'CRIM NOX', 'DIS LSTAT', 'CRIM RM', 'RM LSTAT', 'DIS B', 'AGE RAD', 'RAD LSTAT', 'NOX DIS', 'AGE LSTAT', 'RM DIS', 'PTRATIO', 'CRIM PTRATIO', 'INDUS AGE', 'INDUS LSTAT', 'TAX PTRATIO', 'INDUS PTRATIO', 'AGE TAX', 'INDUS NOX', 'CHAS NOX', 'CHAS', 'CHAS RM', 'CRIM^2', 'CHAS PTRATIO', 'ZN LSTAT', 'ZN TAX', 'ZN PTRATIO', 'ZN DIS', 'CRIM B', 'B', 'AGE', 'RM AGE', 'NOX AGE', 'B^2', 'ZN^2', 'CRIM ZN', 'RAD^2', 'RAD TAX', 'ZN RAD', 'INDUS', 'INDUS RM', 'CRIM RAD', 'INDUS^2', 'TAX^2', 'DIS RAD', 'INDUS TAX', 'INDUS DIS', 'CHAS LSTAT', 'CHAS AGE', 'CHAS B', 'AGE DIS', 'NOX RAD', 'RM B', 'ZN NOX', 'ZN RM', 'B LSTAT']\n",
      "75 ['PTRATIO LSTAT', 'RM^2', 'RM', 'LSTAT^2', 'NOX LSTAT', 'DIS PTRATIO', 'CRIM CHAS', 'CRIM LSTAT', 'RAD B', 'RM TAX', 'TAX', 'TAX LSTAT', 'AGE B', 'DIS^2', 'DIS TAX', 'RM PTRATIO', 'DIS', 'NOX RM', 'NOX PTRATIO', 'CRIM NOX', 'DIS LSTAT', 'CRIM RM', 'RM LSTAT', 'DIS B', 'AGE RAD', 'RAD LSTAT', 'NOX DIS', 'AGE LSTAT', 'RM DIS', 'PTRATIO', 'CRIM PTRATIO', 'INDUS AGE', 'INDUS LSTAT', 'TAX PTRATIO', 'INDUS PTRATIO', 'AGE TAX', 'INDUS NOX', 'CHAS NOX', 'CHAS', 'CHAS RM', 'CRIM^2', 'CHAS PTRATIO', 'ZN LSTAT', 'ZN TAX', 'ZN PTRATIO', 'ZN DIS', 'CRIM B', 'B', 'AGE', 'RM AGE', 'NOX AGE', 'B^2', 'ZN^2', 'CRIM ZN', 'RAD^2', 'RAD TAX', 'ZN RAD', 'INDUS', 'INDUS RM', 'CRIM RAD', 'INDUS^2', 'TAX^2', 'DIS RAD', 'INDUS TAX', 'INDUS DIS', 'CHAS LSTAT', 'CHAS AGE', 'CHAS B', 'AGE DIS', 'NOX RAD', 'RM B', 'ZN NOX', 'ZN RM', 'B LSTAT', 'LSTAT']\n",
      "76 ['PTRATIO LSTAT', 'RM^2', 'RM', 'LSTAT^2', 'NOX LSTAT', 'DIS PTRATIO', 'CRIM CHAS', 'CRIM LSTAT', 'RAD B', 'RM TAX', 'TAX', 'TAX LSTAT', 'AGE B', 'DIS^2', 'DIS TAX', 'RM PTRATIO', 'DIS', 'NOX RM', 'NOX PTRATIO', 'CRIM NOX', 'DIS LSTAT', 'CRIM RM', 'RM LSTAT', 'DIS B', 'AGE RAD', 'RAD LSTAT', 'NOX DIS', 'AGE LSTAT', 'RM DIS', 'PTRATIO', 'CRIM PTRATIO', 'INDUS AGE', 'INDUS LSTAT', 'TAX PTRATIO', 'INDUS PTRATIO', 'AGE TAX', 'INDUS NOX', 'CHAS NOX', 'CHAS', 'CHAS RM', 'CRIM^2', 'CHAS PTRATIO', 'ZN LSTAT', 'ZN TAX', 'ZN PTRATIO', 'ZN DIS', 'CRIM B', 'B', 'AGE', 'RM AGE', 'NOX AGE', 'B^2', 'ZN^2', 'CRIM ZN', 'RAD^2', 'RAD TAX', 'ZN RAD', 'INDUS', 'INDUS RM', 'CRIM RAD', 'INDUS^2', 'TAX^2', 'DIS RAD', 'INDUS TAX', 'INDUS DIS', 'CHAS LSTAT', 'CHAS AGE', 'CHAS B', 'AGE DIS', 'NOX RAD', 'RM B', 'ZN NOX', 'ZN RM', 'B LSTAT', 'LSTAT', 'NOX']\n",
      "77 ['PTRATIO LSTAT', 'RM^2', 'RM', 'LSTAT^2', 'NOX LSTAT', 'DIS PTRATIO', 'CRIM CHAS', 'CRIM LSTAT', 'RAD B', 'RM TAX', 'TAX', 'TAX LSTAT', 'AGE B', 'DIS^2', 'DIS TAX', 'RM PTRATIO', 'DIS', 'NOX RM', 'NOX PTRATIO', 'CRIM NOX', 'DIS LSTAT', 'CRIM RM', 'RM LSTAT', 'DIS B', 'AGE RAD', 'RAD LSTAT', 'NOX DIS', 'AGE LSTAT', 'RM DIS', 'PTRATIO', 'CRIM PTRATIO', 'INDUS AGE', 'INDUS LSTAT', 'TAX PTRATIO', 'INDUS PTRATIO', 'AGE TAX', 'INDUS NOX', 'CHAS NOX', 'CHAS', 'CHAS RM', 'CRIM^2', 'CHAS PTRATIO', 'ZN LSTAT', 'ZN TAX', 'ZN PTRATIO', 'ZN DIS', 'CRIM B', 'B', 'AGE', 'RM AGE', 'NOX AGE', 'B^2', 'ZN^2', 'CRIM ZN', 'RAD^2', 'RAD TAX', 'ZN RAD', 'INDUS', 'INDUS RM', 'CRIM RAD', 'INDUS^2', 'TAX^2', 'DIS RAD', 'INDUS TAX', 'INDUS DIS', 'CHAS LSTAT', 'CHAS AGE', 'CHAS B', 'AGE DIS', 'NOX RAD', 'RM B', 'ZN NOX', 'ZN RM', 'B LSTAT', 'LSTAT', 'NOX', 'ZN INDUS']\n",
      "78 ['PTRATIO LSTAT', 'RM^2', 'RM', 'LSTAT^2', 'NOX LSTAT', 'DIS PTRATIO', 'CRIM CHAS', 'CRIM LSTAT', 'RAD B', 'RM TAX', 'TAX', 'TAX LSTAT', 'AGE B', 'DIS^2', 'DIS TAX', 'RM PTRATIO', 'DIS', 'NOX RM', 'NOX PTRATIO', 'CRIM NOX', 'DIS LSTAT', 'CRIM RM', 'RM LSTAT', 'DIS B', 'AGE RAD', 'RAD LSTAT', 'NOX DIS', 'AGE LSTAT', 'RM DIS', 'PTRATIO', 'CRIM PTRATIO', 'INDUS AGE', 'INDUS LSTAT', 'TAX PTRATIO', 'INDUS PTRATIO', 'AGE TAX', 'INDUS NOX', 'CHAS NOX', 'CHAS', 'CHAS RM', 'CRIM^2', 'CHAS PTRATIO', 'ZN LSTAT', 'ZN TAX', 'ZN PTRATIO', 'ZN DIS', 'CRIM B', 'B', 'AGE', 'RM AGE', 'NOX AGE', 'B^2', 'ZN^2', 'CRIM ZN', 'RAD^2', 'RAD TAX', 'ZN RAD', 'INDUS', 'INDUS RM', 'CRIM RAD', 'INDUS^2', 'TAX^2', 'DIS RAD', 'INDUS TAX', 'INDUS DIS', 'CHAS LSTAT', 'CHAS AGE', 'CHAS B', 'AGE DIS', 'NOX RAD', 'RM B', 'ZN NOX', 'ZN RM', 'B LSTAT', 'LSTAT', 'NOX', 'ZN INDUS', 'NOX TAX']\n"
     ]
    },
    {
     "name": "stdout",
     "output_type": "stream",
     "text": [
      "79 ['PTRATIO LSTAT', 'RM^2', 'RM', 'LSTAT^2', 'NOX LSTAT', 'DIS PTRATIO', 'CRIM CHAS', 'CRIM LSTAT', 'RAD B', 'RM TAX', 'TAX', 'TAX LSTAT', 'AGE B', 'DIS^2', 'DIS TAX', 'RM PTRATIO', 'DIS', 'NOX RM', 'NOX PTRATIO', 'CRIM NOX', 'DIS LSTAT', 'CRIM RM', 'RM LSTAT', 'DIS B', 'AGE RAD', 'RAD LSTAT', 'NOX DIS', 'AGE LSTAT', 'RM DIS', 'PTRATIO', 'CRIM PTRATIO', 'INDUS AGE', 'INDUS LSTAT', 'TAX PTRATIO', 'INDUS PTRATIO', 'AGE TAX', 'INDUS NOX', 'CHAS NOX', 'CHAS', 'CHAS RM', 'CRIM^2', 'CHAS PTRATIO', 'ZN LSTAT', 'ZN TAX', 'ZN PTRATIO', 'ZN DIS', 'CRIM B', 'B', 'AGE', 'RM AGE', 'NOX AGE', 'B^2', 'ZN^2', 'CRIM ZN', 'RAD^2', 'RAD TAX', 'ZN RAD', 'INDUS', 'INDUS RM', 'CRIM RAD', 'INDUS^2', 'TAX^2', 'DIS RAD', 'INDUS TAX', 'INDUS DIS', 'CHAS LSTAT', 'CHAS AGE', 'CHAS B', 'AGE DIS', 'NOX RAD', 'RM B', 'ZN NOX', 'ZN RM', 'B LSTAT', 'LSTAT', 'NOX', 'ZN INDUS', 'NOX TAX', 'ZN CHAS']\n",
      "80 ['PTRATIO LSTAT', 'RM^2', 'RM', 'LSTAT^2', 'NOX LSTAT', 'DIS PTRATIO', 'CRIM CHAS', 'CRIM LSTAT', 'RAD B', 'RM TAX', 'TAX', 'TAX LSTAT', 'AGE B', 'DIS^2', 'DIS TAX', 'RM PTRATIO', 'DIS', 'NOX RM', 'NOX PTRATIO', 'CRIM NOX', 'DIS LSTAT', 'CRIM RM', 'RM LSTAT', 'DIS B', 'AGE RAD', 'RAD LSTAT', 'NOX DIS', 'AGE LSTAT', 'RM DIS', 'PTRATIO', 'CRIM PTRATIO', 'INDUS AGE', 'INDUS LSTAT', 'TAX PTRATIO', 'INDUS PTRATIO', 'AGE TAX', 'INDUS NOX', 'CHAS NOX', 'CHAS', 'CHAS RM', 'CRIM^2', 'CHAS PTRATIO', 'ZN LSTAT', 'ZN TAX', 'ZN PTRATIO', 'ZN DIS', 'CRIM B', 'B', 'AGE', 'RM AGE', 'NOX AGE', 'B^2', 'ZN^2', 'CRIM ZN', 'RAD^2', 'RAD TAX', 'ZN RAD', 'INDUS', 'INDUS RM', 'CRIM RAD', 'INDUS^2', 'TAX^2', 'DIS RAD', 'INDUS TAX', 'INDUS DIS', 'CHAS LSTAT', 'CHAS AGE', 'CHAS B', 'AGE DIS', 'NOX RAD', 'RM B', 'ZN NOX', 'ZN RM', 'B LSTAT', 'LSTAT', 'NOX', 'ZN INDUS', 'NOX TAX', 'ZN CHAS', 'CHAS DIS']\n",
      "81 ['PTRATIO LSTAT', 'RM^2', 'RM', 'LSTAT^2', 'NOX LSTAT', 'DIS PTRATIO', 'CRIM CHAS', 'CRIM LSTAT', 'RAD B', 'RM TAX', 'TAX', 'TAX LSTAT', 'AGE B', 'DIS^2', 'DIS TAX', 'RM PTRATIO', 'DIS', 'NOX RM', 'NOX PTRATIO', 'CRIM NOX', 'DIS LSTAT', 'CRIM RM', 'RM LSTAT', 'DIS B', 'AGE RAD', 'RAD LSTAT', 'NOX DIS', 'AGE LSTAT', 'RM DIS', 'PTRATIO', 'CRIM PTRATIO', 'INDUS AGE', 'INDUS LSTAT', 'TAX PTRATIO', 'INDUS PTRATIO', 'AGE TAX', 'INDUS NOX', 'CHAS NOX', 'CHAS', 'CHAS RM', 'CRIM^2', 'CHAS PTRATIO', 'ZN LSTAT', 'ZN TAX', 'ZN PTRATIO', 'ZN DIS', 'CRIM B', 'B', 'AGE', 'RM AGE', 'NOX AGE', 'B^2', 'ZN^2', 'CRIM ZN', 'RAD^2', 'RAD TAX', 'ZN RAD', 'INDUS', 'INDUS RM', 'CRIM RAD', 'INDUS^2', 'TAX^2', 'DIS RAD', 'INDUS TAX', 'INDUS DIS', 'CHAS LSTAT', 'CHAS AGE', 'CHAS B', 'AGE DIS', 'NOX RAD', 'RM B', 'ZN NOX', 'ZN RM', 'B LSTAT', 'LSTAT', 'NOX', 'ZN INDUS', 'NOX TAX', 'ZN CHAS', 'CHAS DIS', 'ZN B']\n",
      "82 ['PTRATIO LSTAT', 'RM^2', 'RM', 'LSTAT^2', 'NOX LSTAT', 'DIS PTRATIO', 'CRIM CHAS', 'CRIM LSTAT', 'RAD B', 'RM TAX', 'TAX', 'TAX LSTAT', 'AGE B', 'DIS^2', 'DIS TAX', 'RM PTRATIO', 'DIS', 'NOX RM', 'NOX PTRATIO', 'CRIM NOX', 'DIS LSTAT', 'CRIM RM', 'RM LSTAT', 'DIS B', 'AGE RAD', 'RAD LSTAT', 'NOX DIS', 'AGE LSTAT', 'RM DIS', 'PTRATIO', 'CRIM PTRATIO', 'INDUS AGE', 'INDUS LSTAT', 'TAX PTRATIO', 'INDUS PTRATIO', 'AGE TAX', 'INDUS NOX', 'CHAS NOX', 'CHAS', 'CHAS RM', 'CRIM^2', 'CHAS PTRATIO', 'ZN LSTAT', 'ZN TAX', 'ZN PTRATIO', 'ZN DIS', 'CRIM B', 'B', 'AGE', 'RM AGE', 'NOX AGE', 'B^2', 'ZN^2', 'CRIM ZN', 'RAD^2', 'RAD TAX', 'ZN RAD', 'INDUS', 'INDUS RM', 'CRIM RAD', 'INDUS^2', 'TAX^2', 'DIS RAD', 'INDUS TAX', 'INDUS DIS', 'CHAS LSTAT', 'CHAS AGE', 'CHAS B', 'AGE DIS', 'NOX RAD', 'RM B', 'ZN NOX', 'ZN RM', 'B LSTAT', 'LSTAT', 'NOX', 'ZN INDUS', 'NOX TAX', 'ZN CHAS', 'CHAS DIS', 'ZN B', 'NOX^2']\n",
      "83 ['PTRATIO LSTAT', 'RM^2', 'RM', 'LSTAT^2', 'NOX LSTAT', 'DIS PTRATIO', 'CRIM CHAS', 'CRIM LSTAT', 'RAD B', 'RM TAX', 'TAX', 'TAX LSTAT', 'AGE B', 'DIS^2', 'DIS TAX', 'RM PTRATIO', 'DIS', 'NOX RM', 'NOX PTRATIO', 'CRIM NOX', 'DIS LSTAT', 'CRIM RM', 'RM LSTAT', 'DIS B', 'AGE RAD', 'RAD LSTAT', 'NOX DIS', 'AGE LSTAT', 'RM DIS', 'PTRATIO', 'CRIM PTRATIO', 'INDUS AGE', 'INDUS LSTAT', 'TAX PTRATIO', 'INDUS PTRATIO', 'AGE TAX', 'INDUS NOX', 'CHAS NOX', 'CHAS', 'CHAS RM', 'CRIM^2', 'CHAS PTRATIO', 'ZN LSTAT', 'ZN TAX', 'ZN PTRATIO', 'ZN DIS', 'CRIM B', 'B', 'AGE', 'RM AGE', 'NOX AGE', 'B^2', 'ZN^2', 'CRIM ZN', 'RAD^2', 'RAD TAX', 'ZN RAD', 'INDUS', 'INDUS RM', 'CRIM RAD', 'INDUS^2', 'TAX^2', 'DIS RAD', 'INDUS TAX', 'INDUS DIS', 'CHAS LSTAT', 'CHAS AGE', 'CHAS B', 'AGE DIS', 'NOX RAD', 'RM B', 'ZN NOX', 'ZN RM', 'B LSTAT', 'LSTAT', 'NOX', 'ZN INDUS', 'NOX TAX', 'ZN CHAS', 'CHAS DIS', 'ZN B', 'NOX^2', 'CRIM AGE']\n",
      "84 ['PTRATIO LSTAT', 'RM^2', 'RM', 'LSTAT^2', 'NOX LSTAT', 'DIS PTRATIO', 'CRIM CHAS', 'CRIM LSTAT', 'RAD B', 'RM TAX', 'TAX', 'TAX LSTAT', 'AGE B', 'DIS^2', 'DIS TAX', 'RM PTRATIO', 'DIS', 'NOX RM', 'NOX PTRATIO', 'CRIM NOX', 'DIS LSTAT', 'CRIM RM', 'RM LSTAT', 'DIS B', 'AGE RAD', 'RAD LSTAT', 'NOX DIS', 'AGE LSTAT', 'RM DIS', 'PTRATIO', 'CRIM PTRATIO', 'INDUS AGE', 'INDUS LSTAT', 'TAX PTRATIO', 'INDUS PTRATIO', 'AGE TAX', 'INDUS NOX', 'CHAS NOX', 'CHAS', 'CHAS RM', 'CRIM^2', 'CHAS PTRATIO', 'ZN LSTAT', 'ZN TAX', 'ZN PTRATIO', 'ZN DIS', 'CRIM B', 'B', 'AGE', 'RM AGE', 'NOX AGE', 'B^2', 'ZN^2', 'CRIM ZN', 'RAD^2', 'RAD TAX', 'ZN RAD', 'INDUS', 'INDUS RM', 'CRIM RAD', 'INDUS^2', 'TAX^2', 'DIS RAD', 'INDUS TAX', 'INDUS DIS', 'CHAS LSTAT', 'CHAS AGE', 'CHAS B', 'AGE DIS', 'NOX RAD', 'RM B', 'ZN NOX', 'ZN RM', 'B LSTAT', 'LSTAT', 'NOX', 'ZN INDUS', 'NOX TAX', 'ZN CHAS', 'CHAS DIS', 'ZN B', 'NOX^2', 'CRIM AGE', 'CRIM DIS']\n",
      "85 ['PTRATIO LSTAT', 'RM^2', 'RM', 'LSTAT^2', 'NOX LSTAT', 'DIS PTRATIO', 'CRIM CHAS', 'CRIM LSTAT', 'RAD B', 'RM TAX', 'TAX', 'TAX LSTAT', 'AGE B', 'DIS^2', 'DIS TAX', 'RM PTRATIO', 'DIS', 'NOX RM', 'NOX PTRATIO', 'CRIM NOX', 'DIS LSTAT', 'CRIM RM', 'RM LSTAT', 'DIS B', 'AGE RAD', 'RAD LSTAT', 'NOX DIS', 'AGE LSTAT', 'RM DIS', 'PTRATIO', 'CRIM PTRATIO', 'INDUS AGE', 'INDUS LSTAT', 'TAX PTRATIO', 'INDUS PTRATIO', 'AGE TAX', 'INDUS NOX', 'CHAS NOX', 'CHAS', 'CHAS RM', 'CRIM^2', 'CHAS PTRATIO', 'ZN LSTAT', 'ZN TAX', 'ZN PTRATIO', 'ZN DIS', 'CRIM B', 'B', 'AGE', 'RM AGE', 'NOX AGE', 'B^2', 'ZN^2', 'CRIM ZN', 'RAD^2', 'RAD TAX', 'ZN RAD', 'INDUS', 'INDUS RM', 'CRIM RAD', 'INDUS^2', 'TAX^2', 'DIS RAD', 'INDUS TAX', 'INDUS DIS', 'CHAS LSTAT', 'CHAS AGE', 'CHAS B', 'AGE DIS', 'NOX RAD', 'RM B', 'ZN NOX', 'ZN RM', 'B LSTAT', 'LSTAT', 'NOX', 'ZN INDUS', 'NOX TAX', 'ZN CHAS', 'CHAS DIS', 'ZN B', 'NOX^2', 'CRIM AGE', 'CRIM DIS', 'NOX B']\n",
      "86 ['PTRATIO LSTAT', 'RM^2', 'RM', 'LSTAT^2', 'NOX LSTAT', 'DIS PTRATIO', 'CRIM CHAS', 'CRIM LSTAT', 'RAD B', 'RM TAX', 'TAX', 'TAX LSTAT', 'AGE B', 'DIS^2', 'DIS TAX', 'RM PTRATIO', 'DIS', 'NOX RM', 'NOX PTRATIO', 'CRIM NOX', 'DIS LSTAT', 'CRIM RM', 'RM LSTAT', 'DIS B', 'AGE RAD', 'RAD LSTAT', 'NOX DIS', 'AGE LSTAT', 'RM DIS', 'PTRATIO', 'CRIM PTRATIO', 'INDUS AGE', 'INDUS LSTAT', 'TAX PTRATIO', 'INDUS PTRATIO', 'AGE TAX', 'INDUS NOX', 'CHAS NOX', 'CHAS', 'CHAS RM', 'CRIM^2', 'CHAS PTRATIO', 'ZN LSTAT', 'ZN TAX', 'ZN PTRATIO', 'ZN DIS', 'CRIM B', 'B', 'AGE', 'RM AGE', 'NOX AGE', 'B^2', 'ZN^2', 'CRIM ZN', 'RAD^2', 'RAD TAX', 'ZN RAD', 'INDUS', 'INDUS RM', 'CRIM RAD', 'INDUS^2', 'TAX^2', 'DIS RAD', 'INDUS TAX', 'INDUS DIS', 'CHAS LSTAT', 'CHAS AGE', 'CHAS B', 'AGE DIS', 'NOX RAD', 'RM B', 'ZN NOX', 'ZN RM', 'B LSTAT', 'LSTAT', 'NOX', 'ZN INDUS', 'NOX TAX', 'ZN CHAS', 'CHAS DIS', 'ZN B', 'NOX^2', 'CRIM AGE', 'CRIM DIS', 'NOX B', 'INDUS B']\n",
      "87 ['PTRATIO LSTAT', 'RM^2', 'RM', 'LSTAT^2', 'NOX LSTAT', 'DIS PTRATIO', 'CRIM CHAS', 'CRIM LSTAT', 'RAD B', 'RM TAX', 'TAX', 'TAX LSTAT', 'AGE B', 'DIS^2', 'DIS TAX', 'RM PTRATIO', 'DIS', 'NOX RM', 'NOX PTRATIO', 'CRIM NOX', 'DIS LSTAT', 'CRIM RM', 'RM LSTAT', 'DIS B', 'AGE RAD', 'RAD LSTAT', 'NOX DIS', 'AGE LSTAT', 'RM DIS', 'PTRATIO', 'CRIM PTRATIO', 'INDUS AGE', 'INDUS LSTAT', 'TAX PTRATIO', 'INDUS PTRATIO', 'AGE TAX', 'INDUS NOX', 'CHAS NOX', 'CHAS', 'CHAS RM', 'CRIM^2', 'CHAS PTRATIO', 'ZN LSTAT', 'ZN TAX', 'ZN PTRATIO', 'ZN DIS', 'CRIM B', 'B', 'AGE', 'RM AGE', 'NOX AGE', 'B^2', 'ZN^2', 'CRIM ZN', 'RAD^2', 'RAD TAX', 'ZN RAD', 'INDUS', 'INDUS RM', 'CRIM RAD', 'INDUS^2', 'TAX^2', 'DIS RAD', 'INDUS TAX', 'INDUS DIS', 'CHAS LSTAT', 'CHAS AGE', 'CHAS B', 'AGE DIS', 'NOX RAD', 'RM B', 'ZN NOX', 'ZN RM', 'B LSTAT', 'LSTAT', 'NOX', 'ZN INDUS', 'NOX TAX', 'ZN CHAS', 'CHAS DIS', 'ZN B', 'NOX^2', 'CRIM AGE', 'CRIM DIS', 'NOX B', 'INDUS B', 'CRIM INDUS']\n"
     ]
    },
    {
     "name": "stdout",
     "output_type": "stream",
     "text": [
      "88 ['PTRATIO LSTAT', 'RM^2', 'RM', 'LSTAT^2', 'NOX LSTAT', 'DIS PTRATIO', 'CRIM CHAS', 'CRIM LSTAT', 'RAD B', 'RM TAX', 'TAX', 'TAX LSTAT', 'AGE B', 'DIS^2', 'DIS TAX', 'RM PTRATIO', 'DIS', 'NOX RM', 'NOX PTRATIO', 'CRIM NOX', 'DIS LSTAT', 'CRIM RM', 'RM LSTAT', 'DIS B', 'AGE RAD', 'RAD LSTAT', 'NOX DIS', 'AGE LSTAT', 'RM DIS', 'PTRATIO', 'CRIM PTRATIO', 'INDUS AGE', 'INDUS LSTAT', 'TAX PTRATIO', 'INDUS PTRATIO', 'AGE TAX', 'INDUS NOX', 'CHAS NOX', 'CHAS', 'CHAS RM', 'CRIM^2', 'CHAS PTRATIO', 'ZN LSTAT', 'ZN TAX', 'ZN PTRATIO', 'ZN DIS', 'CRIM B', 'B', 'AGE', 'RM AGE', 'NOX AGE', 'B^2', 'ZN^2', 'CRIM ZN', 'RAD^2', 'RAD TAX', 'ZN RAD', 'INDUS', 'INDUS RM', 'CRIM RAD', 'INDUS^2', 'TAX^2', 'DIS RAD', 'INDUS TAX', 'INDUS DIS', 'CHAS LSTAT', 'CHAS AGE', 'CHAS B', 'AGE DIS', 'NOX RAD', 'RM B', 'ZN NOX', 'ZN RM', 'B LSTAT', 'LSTAT', 'NOX', 'ZN INDUS', 'NOX TAX', 'ZN CHAS', 'CHAS DIS', 'ZN B', 'NOX^2', 'CRIM AGE', 'CRIM DIS', 'NOX B', 'INDUS B', 'CRIM INDUS', 'CRIM']\n",
      "89 ['PTRATIO LSTAT', 'RM^2', 'RM', 'LSTAT^2', 'NOX LSTAT', 'DIS PTRATIO', 'CRIM CHAS', 'CRIM LSTAT', 'RAD B', 'RM TAX', 'TAX', 'TAX LSTAT', 'AGE B', 'DIS^2', 'DIS TAX', 'RM PTRATIO', 'DIS', 'NOX RM', 'NOX PTRATIO', 'CRIM NOX', 'DIS LSTAT', 'CRIM RM', 'RM LSTAT', 'DIS B', 'AGE RAD', 'RAD LSTAT', 'NOX DIS', 'AGE LSTAT', 'RM DIS', 'PTRATIO', 'CRIM PTRATIO', 'INDUS AGE', 'INDUS LSTAT', 'TAX PTRATIO', 'INDUS PTRATIO', 'AGE TAX', 'INDUS NOX', 'CHAS NOX', 'CHAS', 'CHAS RM', 'CRIM^2', 'CHAS PTRATIO', 'ZN LSTAT', 'ZN TAX', 'ZN PTRATIO', 'ZN DIS', 'CRIM B', 'B', 'AGE', 'RM AGE', 'NOX AGE', 'B^2', 'ZN^2', 'CRIM ZN', 'RAD^2', 'RAD TAX', 'ZN RAD', 'INDUS', 'INDUS RM', 'CRIM RAD', 'INDUS^2', 'TAX^2', 'DIS RAD', 'INDUS TAX', 'INDUS DIS', 'CHAS LSTAT', 'CHAS AGE', 'CHAS B', 'AGE DIS', 'NOX RAD', 'RM B', 'ZN NOX', 'ZN RM', 'B LSTAT', 'LSTAT', 'NOX', 'ZN INDUS', 'NOX TAX', 'ZN CHAS', 'CHAS DIS', 'ZN B', 'NOX^2', 'CRIM AGE', 'CRIM DIS', 'NOX B', 'INDUS B', 'CRIM INDUS', 'CRIM', 'INDUS RAD']\n",
      "90 ['PTRATIO LSTAT', 'RM^2', 'RM', 'LSTAT^2', 'NOX LSTAT', 'DIS PTRATIO', 'CRIM CHAS', 'CRIM LSTAT', 'RAD B', 'RM TAX', 'TAX', 'TAX LSTAT', 'AGE B', 'DIS^2', 'DIS TAX', 'RM PTRATIO', 'DIS', 'NOX RM', 'NOX PTRATIO', 'CRIM NOX', 'DIS LSTAT', 'CRIM RM', 'RM LSTAT', 'DIS B', 'AGE RAD', 'RAD LSTAT', 'NOX DIS', 'AGE LSTAT', 'RM DIS', 'PTRATIO', 'CRIM PTRATIO', 'INDUS AGE', 'INDUS LSTAT', 'TAX PTRATIO', 'INDUS PTRATIO', 'AGE TAX', 'INDUS NOX', 'CHAS NOX', 'CHAS', 'CHAS RM', 'CRIM^2', 'CHAS PTRATIO', 'ZN LSTAT', 'ZN TAX', 'ZN PTRATIO', 'ZN DIS', 'CRIM B', 'B', 'AGE', 'RM AGE', 'NOX AGE', 'B^2', 'ZN^2', 'CRIM ZN', 'RAD^2', 'RAD TAX', 'ZN RAD', 'INDUS', 'INDUS RM', 'CRIM RAD', 'INDUS^2', 'TAX^2', 'DIS RAD', 'INDUS TAX', 'INDUS DIS', 'CHAS LSTAT', 'CHAS AGE', 'CHAS B', 'AGE DIS', 'NOX RAD', 'RM B', 'ZN NOX', 'ZN RM', 'B LSTAT', 'LSTAT', 'NOX', 'ZN INDUS', 'NOX TAX', 'ZN CHAS', 'CHAS DIS', 'ZN B', 'NOX^2', 'CRIM AGE', 'CRIM DIS', 'NOX B', 'INDUS B', 'CRIM INDUS', 'CRIM', 'INDUS RAD', 'PTRATIO B']\n",
      "91 ['PTRATIO LSTAT', 'RM^2', 'RM', 'LSTAT^2', 'NOX LSTAT', 'DIS PTRATIO', 'CRIM CHAS', 'CRIM LSTAT', 'RAD B', 'RM TAX', 'TAX', 'TAX LSTAT', 'AGE B', 'DIS^2', 'DIS TAX', 'RM PTRATIO', 'DIS', 'NOX RM', 'NOX PTRATIO', 'CRIM NOX', 'DIS LSTAT', 'CRIM RM', 'RM LSTAT', 'DIS B', 'AGE RAD', 'RAD LSTAT', 'NOX DIS', 'AGE LSTAT', 'RM DIS', 'PTRATIO', 'CRIM PTRATIO', 'INDUS AGE', 'INDUS LSTAT', 'TAX PTRATIO', 'INDUS PTRATIO', 'AGE TAX', 'INDUS NOX', 'CHAS NOX', 'CHAS', 'CHAS RM', 'CRIM^2', 'CHAS PTRATIO', 'ZN LSTAT', 'ZN TAX', 'ZN PTRATIO', 'ZN DIS', 'CRIM B', 'B', 'AGE', 'RM AGE', 'NOX AGE', 'B^2', 'ZN^2', 'CRIM ZN', 'RAD^2', 'RAD TAX', 'ZN RAD', 'INDUS', 'INDUS RM', 'CRIM RAD', 'INDUS^2', 'TAX^2', 'DIS RAD', 'INDUS TAX', 'INDUS DIS', 'CHAS LSTAT', 'CHAS AGE', 'CHAS B', 'AGE DIS', 'NOX RAD', 'RM B', 'ZN NOX', 'ZN RM', 'B LSTAT', 'LSTAT', 'NOX', 'ZN INDUS', 'NOX TAX', 'ZN CHAS', 'CHAS DIS', 'ZN B', 'NOX^2', 'CRIM AGE', 'CRIM DIS', 'NOX B', 'INDUS B', 'CRIM INDUS', 'CRIM', 'INDUS RAD', 'PTRATIO B', 'TAX B']\n",
      "92 ['PTRATIO LSTAT', 'RM^2', 'RM', 'LSTAT^2', 'NOX LSTAT', 'DIS PTRATIO', 'CRIM CHAS', 'CRIM LSTAT', 'RAD B', 'RM TAX', 'TAX', 'TAX LSTAT', 'AGE B', 'DIS^2', 'DIS TAX', 'RM PTRATIO', 'DIS', 'NOX RM', 'NOX PTRATIO', 'CRIM NOX', 'DIS LSTAT', 'CRIM RM', 'RM LSTAT', 'DIS B', 'AGE RAD', 'RAD LSTAT', 'NOX DIS', 'AGE LSTAT', 'RM DIS', 'PTRATIO', 'CRIM PTRATIO', 'INDUS AGE', 'INDUS LSTAT', 'TAX PTRATIO', 'INDUS PTRATIO', 'AGE TAX', 'INDUS NOX', 'CHAS NOX', 'CHAS', 'CHAS RM', 'CRIM^2', 'CHAS PTRATIO', 'ZN LSTAT', 'ZN TAX', 'ZN PTRATIO', 'ZN DIS', 'CRIM B', 'B', 'AGE', 'RM AGE', 'NOX AGE', 'B^2', 'ZN^2', 'CRIM ZN', 'RAD^2', 'RAD TAX', 'ZN RAD', 'INDUS', 'INDUS RM', 'CRIM RAD', 'INDUS^2', 'TAX^2', 'DIS RAD', 'INDUS TAX', 'INDUS DIS', 'CHAS LSTAT', 'CHAS AGE', 'CHAS B', 'AGE DIS', 'NOX RAD', 'RM B', 'ZN NOX', 'ZN RM', 'B LSTAT', 'LSTAT', 'NOX', 'ZN INDUS', 'NOX TAX', 'ZN CHAS', 'CHAS DIS', 'ZN B', 'NOX^2', 'CRIM AGE', 'CRIM DIS', 'NOX B', 'INDUS B', 'CRIM INDUS', 'CRIM', 'INDUS RAD', 'PTRATIO B', 'TAX B', 'RAD PTRATIO']\n",
      "93 ['PTRATIO LSTAT', 'RM^2', 'RM', 'LSTAT^2', 'NOX LSTAT', 'DIS PTRATIO', 'CRIM CHAS', 'CRIM LSTAT', 'RAD B', 'RM TAX', 'TAX', 'TAX LSTAT', 'AGE B', 'DIS^2', 'DIS TAX', 'RM PTRATIO', 'DIS', 'NOX RM', 'NOX PTRATIO', 'CRIM NOX', 'DIS LSTAT', 'CRIM RM', 'RM LSTAT', 'DIS B', 'AGE RAD', 'RAD LSTAT', 'NOX DIS', 'AGE LSTAT', 'RM DIS', 'PTRATIO', 'CRIM PTRATIO', 'INDUS AGE', 'INDUS LSTAT', 'TAX PTRATIO', 'INDUS PTRATIO', 'AGE TAX', 'INDUS NOX', 'CHAS NOX', 'CHAS', 'CHAS RM', 'CRIM^2', 'CHAS PTRATIO', 'ZN LSTAT', 'ZN TAX', 'ZN PTRATIO', 'ZN DIS', 'CRIM B', 'B', 'AGE', 'RM AGE', 'NOX AGE', 'B^2', 'ZN^2', 'CRIM ZN', 'RAD^2', 'RAD TAX', 'ZN RAD', 'INDUS', 'INDUS RM', 'CRIM RAD', 'INDUS^2', 'TAX^2', 'DIS RAD', 'INDUS TAX', 'INDUS DIS', 'CHAS LSTAT', 'CHAS AGE', 'CHAS B', 'AGE DIS', 'NOX RAD', 'RM B', 'ZN NOX', 'ZN RM', 'B LSTAT', 'LSTAT', 'NOX', 'ZN INDUS', 'NOX TAX', 'ZN CHAS', 'CHAS DIS', 'ZN B', 'NOX^2', 'CRIM AGE', 'CRIM DIS', 'NOX B', 'INDUS B', 'CRIM INDUS', 'CRIM', 'INDUS RAD', 'PTRATIO B', 'TAX B', 'RAD PTRATIO', 'RAD']\n",
      "94 ['PTRATIO LSTAT', 'RM^2', 'RM', 'LSTAT^2', 'NOX LSTAT', 'DIS PTRATIO', 'CRIM CHAS', 'CRIM LSTAT', 'RAD B', 'RM TAX', 'TAX', 'TAX LSTAT', 'AGE B', 'DIS^2', 'DIS TAX', 'RM PTRATIO', 'DIS', 'NOX RM', 'NOX PTRATIO', 'CRIM NOX', 'DIS LSTAT', 'CRIM RM', 'RM LSTAT', 'DIS B', 'AGE RAD', 'RAD LSTAT', 'NOX DIS', 'AGE LSTAT', 'RM DIS', 'PTRATIO', 'CRIM PTRATIO', 'INDUS AGE', 'INDUS LSTAT', 'TAX PTRATIO', 'INDUS PTRATIO', 'AGE TAX', 'INDUS NOX', 'CHAS NOX', 'CHAS', 'CHAS RM', 'CRIM^2', 'CHAS PTRATIO', 'ZN LSTAT', 'ZN TAX', 'ZN PTRATIO', 'ZN DIS', 'CRIM B', 'B', 'AGE', 'RM AGE', 'NOX AGE', 'B^2', 'ZN^2', 'CRIM ZN', 'RAD^2', 'RAD TAX', 'ZN RAD', 'INDUS', 'INDUS RM', 'CRIM RAD', 'INDUS^2', 'TAX^2', 'DIS RAD', 'INDUS TAX', 'INDUS DIS', 'CHAS LSTAT', 'CHAS AGE', 'CHAS B', 'AGE DIS', 'NOX RAD', 'RM B', 'ZN NOX', 'ZN RM', 'B LSTAT', 'LSTAT', 'NOX', 'ZN INDUS', 'NOX TAX', 'ZN CHAS', 'CHAS DIS', 'ZN B', 'NOX^2', 'CRIM AGE', 'CRIM DIS', 'NOX B', 'INDUS B', 'CRIM INDUS', 'CRIM', 'INDUS RAD', 'PTRATIO B', 'TAX B', 'RAD PTRATIO', 'RAD', 'CRIM TAX']\n",
      "95 ['PTRATIO LSTAT', 'RM^2', 'RM', 'LSTAT^2', 'NOX LSTAT', 'DIS PTRATIO', 'CRIM CHAS', 'CRIM LSTAT', 'RAD B', 'RM TAX', 'TAX', 'TAX LSTAT', 'AGE B', 'DIS^2', 'DIS TAX', 'RM PTRATIO', 'DIS', 'NOX RM', 'NOX PTRATIO', 'CRIM NOX', 'DIS LSTAT', 'CRIM RM', 'RM LSTAT', 'DIS B', 'AGE RAD', 'RAD LSTAT', 'NOX DIS', 'AGE LSTAT', 'RM DIS', 'PTRATIO', 'CRIM PTRATIO', 'INDUS AGE', 'INDUS LSTAT', 'TAX PTRATIO', 'INDUS PTRATIO', 'AGE TAX', 'INDUS NOX', 'CHAS NOX', 'CHAS', 'CHAS RM', 'CRIM^2', 'CHAS PTRATIO', 'ZN LSTAT', 'ZN TAX', 'ZN PTRATIO', 'ZN DIS', 'CRIM B', 'B', 'AGE', 'RM AGE', 'NOX AGE', 'B^2', 'ZN^2', 'CRIM ZN', 'RAD^2', 'RAD TAX', 'ZN RAD', 'INDUS', 'INDUS RM', 'CRIM RAD', 'INDUS^2', 'TAX^2', 'DIS RAD', 'INDUS TAX', 'INDUS DIS', 'CHAS LSTAT', 'CHAS AGE', 'CHAS B', 'AGE DIS', 'NOX RAD', 'RM B', 'ZN NOX', 'ZN RM', 'B LSTAT', 'LSTAT', 'NOX', 'ZN INDUS', 'NOX TAX', 'ZN CHAS', 'CHAS DIS', 'ZN B', 'NOX^2', 'CRIM AGE', 'CRIM DIS', 'NOX B', 'INDUS B', 'CRIM INDUS', 'CRIM', 'INDUS RAD', 'PTRATIO B', 'TAX B', 'RAD PTRATIO', 'RAD', 'CRIM TAX', 'AGE^2']\n",
      "96 ['PTRATIO LSTAT', 'RM^2', 'RM', 'LSTAT^2', 'NOX LSTAT', 'DIS PTRATIO', 'CRIM CHAS', 'CRIM LSTAT', 'RAD B', 'RM TAX', 'TAX', 'TAX LSTAT', 'AGE B', 'DIS^2', 'DIS TAX', 'RM PTRATIO', 'DIS', 'NOX RM', 'NOX PTRATIO', 'CRIM NOX', 'DIS LSTAT', 'CRIM RM', 'RM LSTAT', 'DIS B', 'AGE RAD', 'RAD LSTAT', 'NOX DIS', 'AGE LSTAT', 'RM DIS', 'PTRATIO', 'CRIM PTRATIO', 'INDUS AGE', 'INDUS LSTAT', 'TAX PTRATIO', 'INDUS PTRATIO', 'AGE TAX', 'INDUS NOX', 'CHAS NOX', 'CHAS', 'CHAS RM', 'CRIM^2', 'CHAS PTRATIO', 'ZN LSTAT', 'ZN TAX', 'ZN PTRATIO', 'ZN DIS', 'CRIM B', 'B', 'AGE', 'RM AGE', 'NOX AGE', 'B^2', 'ZN^2', 'CRIM ZN', 'RAD^2', 'RAD TAX', 'ZN RAD', 'INDUS', 'INDUS RM', 'CRIM RAD', 'INDUS^2', 'TAX^2', 'DIS RAD', 'INDUS TAX', 'INDUS DIS', 'CHAS LSTAT', 'CHAS AGE', 'CHAS B', 'AGE DIS', 'NOX RAD', 'RM B', 'ZN NOX', 'ZN RM', 'B LSTAT', 'LSTAT', 'NOX', 'ZN INDUS', 'NOX TAX', 'ZN CHAS', 'CHAS DIS', 'ZN B', 'NOX^2', 'CRIM AGE', 'CRIM DIS', 'NOX B', 'INDUS B', 'CRIM INDUS', 'CRIM', 'INDUS RAD', 'PTRATIO B', 'TAX B', 'RAD PTRATIO', 'RAD', 'CRIM TAX', 'AGE^2', 'ZN']\n",
      "97 ['PTRATIO LSTAT', 'RM^2', 'RM', 'LSTAT^2', 'NOX LSTAT', 'DIS PTRATIO', 'CRIM CHAS', 'CRIM LSTAT', 'RAD B', 'RM TAX', 'TAX', 'TAX LSTAT', 'AGE B', 'DIS^2', 'DIS TAX', 'RM PTRATIO', 'DIS', 'NOX RM', 'NOX PTRATIO', 'CRIM NOX', 'DIS LSTAT', 'CRIM RM', 'RM LSTAT', 'DIS B', 'AGE RAD', 'RAD LSTAT', 'NOX DIS', 'AGE LSTAT', 'RM DIS', 'PTRATIO', 'CRIM PTRATIO', 'INDUS AGE', 'INDUS LSTAT', 'TAX PTRATIO', 'INDUS PTRATIO', 'AGE TAX', 'INDUS NOX', 'CHAS NOX', 'CHAS', 'CHAS RM', 'CRIM^2', 'CHAS PTRATIO', 'ZN LSTAT', 'ZN TAX', 'ZN PTRATIO', 'ZN DIS', 'CRIM B', 'B', 'AGE', 'RM AGE', 'NOX AGE', 'B^2', 'ZN^2', 'CRIM ZN', 'RAD^2', 'RAD TAX', 'ZN RAD', 'INDUS', 'INDUS RM', 'CRIM RAD', 'INDUS^2', 'TAX^2', 'DIS RAD', 'INDUS TAX', 'INDUS DIS', 'CHAS LSTAT', 'CHAS AGE', 'CHAS B', 'AGE DIS', 'NOX RAD', 'RM B', 'ZN NOX', 'ZN RM', 'B LSTAT', 'LSTAT', 'NOX', 'ZN INDUS', 'NOX TAX', 'ZN CHAS', 'CHAS DIS', 'ZN B', 'NOX^2', 'CRIM AGE', 'CRIM DIS', 'NOX B', 'INDUS B', 'CRIM INDUS', 'CRIM', 'INDUS RAD', 'PTRATIO B', 'TAX B', 'RAD PTRATIO', 'RAD', 'CRIM TAX', 'AGE^2', 'ZN', 'RM RAD']\n"
     ]
    },
    {
     "name": "stdout",
     "output_type": "stream",
     "text": [
      "98 ['PTRATIO LSTAT', 'RM^2', 'RM', 'LSTAT^2', 'NOX LSTAT', 'DIS PTRATIO', 'CRIM CHAS', 'CRIM LSTAT', 'RAD B', 'RM TAX', 'TAX', 'TAX LSTAT', 'AGE B', 'DIS^2', 'DIS TAX', 'RM PTRATIO', 'DIS', 'NOX RM', 'NOX PTRATIO', 'CRIM NOX', 'DIS LSTAT', 'CRIM RM', 'RM LSTAT', 'DIS B', 'AGE RAD', 'RAD LSTAT', 'NOX DIS', 'AGE LSTAT', 'RM DIS', 'PTRATIO', 'CRIM PTRATIO', 'INDUS AGE', 'INDUS LSTAT', 'TAX PTRATIO', 'INDUS PTRATIO', 'AGE TAX', 'INDUS NOX', 'CHAS NOX', 'CHAS', 'CHAS RM', 'CRIM^2', 'CHAS PTRATIO', 'ZN LSTAT', 'ZN TAX', 'ZN PTRATIO', 'ZN DIS', 'CRIM B', 'B', 'AGE', 'RM AGE', 'NOX AGE', 'B^2', 'ZN^2', 'CRIM ZN', 'RAD^2', 'RAD TAX', 'ZN RAD', 'INDUS', 'INDUS RM', 'CRIM RAD', 'INDUS^2', 'TAX^2', 'DIS RAD', 'INDUS TAX', 'INDUS DIS', 'CHAS LSTAT', 'CHAS AGE', 'CHAS B', 'AGE DIS', 'NOX RAD', 'RM B', 'ZN NOX', 'ZN RM', 'B LSTAT', 'LSTAT', 'NOX', 'ZN INDUS', 'NOX TAX', 'ZN CHAS', 'CHAS DIS', 'ZN B', 'NOX^2', 'CRIM AGE', 'CRIM DIS', 'NOX B', 'INDUS B', 'CRIM INDUS', 'CRIM', 'INDUS RAD', 'PTRATIO B', 'TAX B', 'RAD PTRATIO', 'RAD', 'CRIM TAX', 'AGE^2', 'ZN', 'RM RAD', 'PTRATIO^2']\n",
      "99 ['PTRATIO LSTAT', 'RM^2', 'RM', 'LSTAT^2', 'NOX LSTAT', 'DIS PTRATIO', 'CRIM CHAS', 'CRIM LSTAT', 'RAD B', 'RM TAX', 'TAX', 'TAX LSTAT', 'AGE B', 'DIS^2', 'DIS TAX', 'RM PTRATIO', 'DIS', 'NOX RM', 'NOX PTRATIO', 'CRIM NOX', 'DIS LSTAT', 'CRIM RM', 'RM LSTAT', 'DIS B', 'AGE RAD', 'RAD LSTAT', 'NOX DIS', 'AGE LSTAT', 'RM DIS', 'PTRATIO', 'CRIM PTRATIO', 'INDUS AGE', 'INDUS LSTAT', 'TAX PTRATIO', 'INDUS PTRATIO', 'AGE TAX', 'INDUS NOX', 'CHAS NOX', 'CHAS', 'CHAS RM', 'CRIM^2', 'CHAS PTRATIO', 'ZN LSTAT', 'ZN TAX', 'ZN PTRATIO', 'ZN DIS', 'CRIM B', 'B', 'AGE', 'RM AGE', 'NOX AGE', 'B^2', 'ZN^2', 'CRIM ZN', 'RAD^2', 'RAD TAX', 'ZN RAD', 'INDUS', 'INDUS RM', 'CRIM RAD', 'INDUS^2', 'TAX^2', 'DIS RAD', 'INDUS TAX', 'INDUS DIS', 'CHAS LSTAT', 'CHAS AGE', 'CHAS B', 'AGE DIS', 'NOX RAD', 'RM B', 'ZN NOX', 'ZN RM', 'B LSTAT', 'LSTAT', 'NOX', 'ZN INDUS', 'NOX TAX', 'ZN CHAS', 'CHAS DIS', 'ZN B', 'NOX^2', 'CRIM AGE', 'CRIM DIS', 'NOX B', 'INDUS B', 'CRIM INDUS', 'CRIM', 'INDUS RAD', 'PTRATIO B', 'TAX B', 'RAD PTRATIO', 'RAD', 'CRIM TAX', 'AGE^2', 'ZN', 'RM RAD', 'PTRATIO^2', 'INDUS CHAS']\n",
      "100 ['PTRATIO LSTAT', 'RM^2', 'RM', 'LSTAT^2', 'NOX LSTAT', 'DIS PTRATIO', 'CRIM CHAS', 'CRIM LSTAT', 'RAD B', 'RM TAX', 'TAX', 'TAX LSTAT', 'AGE B', 'DIS^2', 'DIS TAX', 'RM PTRATIO', 'DIS', 'NOX RM', 'NOX PTRATIO', 'CRIM NOX', 'DIS LSTAT', 'CRIM RM', 'RM LSTAT', 'DIS B', 'AGE RAD', 'RAD LSTAT', 'NOX DIS', 'AGE LSTAT', 'RM DIS', 'PTRATIO', 'CRIM PTRATIO', 'INDUS AGE', 'INDUS LSTAT', 'TAX PTRATIO', 'INDUS PTRATIO', 'AGE TAX', 'INDUS NOX', 'CHAS NOX', 'CHAS', 'CHAS RM', 'CRIM^2', 'CHAS PTRATIO', 'ZN LSTAT', 'ZN TAX', 'ZN PTRATIO', 'ZN DIS', 'CRIM B', 'B', 'AGE', 'RM AGE', 'NOX AGE', 'B^2', 'ZN^2', 'CRIM ZN', 'RAD^2', 'RAD TAX', 'ZN RAD', 'INDUS', 'INDUS RM', 'CRIM RAD', 'INDUS^2', 'TAX^2', 'DIS RAD', 'INDUS TAX', 'INDUS DIS', 'CHAS LSTAT', 'CHAS AGE', 'CHAS B', 'AGE DIS', 'NOX RAD', 'RM B', 'ZN NOX', 'ZN RM', 'B LSTAT', 'LSTAT', 'NOX', 'ZN INDUS', 'NOX TAX', 'ZN CHAS', 'CHAS DIS', 'ZN B', 'NOX^2', 'CRIM AGE', 'CRIM DIS', 'NOX B', 'INDUS B', 'CRIM INDUS', 'CRIM', 'INDUS RAD', 'PTRATIO B', 'TAX B', 'RAD PTRATIO', 'RAD', 'CRIM TAX', 'AGE^2', 'ZN', 'RM RAD', 'PTRATIO^2', 'INDUS CHAS', 'ZN AGE']\n",
      "101 ['PTRATIO LSTAT', 'RM^2', 'RM', 'LSTAT^2', 'NOX LSTAT', 'DIS PTRATIO', 'CRIM CHAS', 'CRIM LSTAT', 'RAD B', 'RM TAX', 'TAX', 'TAX LSTAT', 'AGE B', 'DIS^2', 'DIS TAX', 'RM PTRATIO', 'DIS', 'NOX RM', 'NOX PTRATIO', 'CRIM NOX', 'DIS LSTAT', 'CRIM RM', 'RM LSTAT', 'DIS B', 'AGE RAD', 'RAD LSTAT', 'NOX DIS', 'AGE LSTAT', 'RM DIS', 'PTRATIO', 'CRIM PTRATIO', 'INDUS AGE', 'INDUS LSTAT', 'TAX PTRATIO', 'INDUS PTRATIO', 'AGE TAX', 'INDUS NOX', 'CHAS NOX', 'CHAS', 'CHAS RM', 'CRIM^2', 'CHAS PTRATIO', 'ZN LSTAT', 'ZN TAX', 'ZN PTRATIO', 'ZN DIS', 'CRIM B', 'B', 'AGE', 'RM AGE', 'NOX AGE', 'B^2', 'ZN^2', 'CRIM ZN', 'RAD^2', 'RAD TAX', 'ZN RAD', 'INDUS', 'INDUS RM', 'CRIM RAD', 'INDUS^2', 'TAX^2', 'DIS RAD', 'INDUS TAX', 'INDUS DIS', 'CHAS LSTAT', 'CHAS AGE', 'CHAS B', 'AGE DIS', 'NOX RAD', 'RM B', 'ZN NOX', 'ZN RM', 'B LSTAT', 'LSTAT', 'NOX', 'ZN INDUS', 'NOX TAX', 'ZN CHAS', 'CHAS DIS', 'ZN B', 'NOX^2', 'CRIM AGE', 'CRIM DIS', 'NOX B', 'INDUS B', 'CRIM INDUS', 'CRIM', 'INDUS RAD', 'PTRATIO B', 'TAX B', 'RAD PTRATIO', 'RAD', 'CRIM TAX', 'AGE^2', 'ZN', 'RM RAD', 'PTRATIO^2', 'INDUS CHAS', 'ZN AGE', 'CHAS RAD']\n",
      "102 ['PTRATIO LSTAT', 'RM^2', 'RM', 'LSTAT^2', 'NOX LSTAT', 'DIS PTRATIO', 'CRIM CHAS', 'CRIM LSTAT', 'RAD B', 'RM TAX', 'TAX', 'TAX LSTAT', 'AGE B', 'DIS^2', 'DIS TAX', 'RM PTRATIO', 'DIS', 'NOX RM', 'NOX PTRATIO', 'CRIM NOX', 'DIS LSTAT', 'CRIM RM', 'RM LSTAT', 'DIS B', 'AGE RAD', 'RAD LSTAT', 'NOX DIS', 'AGE LSTAT', 'RM DIS', 'PTRATIO', 'CRIM PTRATIO', 'INDUS AGE', 'INDUS LSTAT', 'TAX PTRATIO', 'INDUS PTRATIO', 'AGE TAX', 'INDUS NOX', 'CHAS NOX', 'CHAS', 'CHAS RM', 'CRIM^2', 'CHAS PTRATIO', 'ZN LSTAT', 'ZN TAX', 'ZN PTRATIO', 'ZN DIS', 'CRIM B', 'B', 'AGE', 'RM AGE', 'NOX AGE', 'B^2', 'ZN^2', 'CRIM ZN', 'RAD^2', 'RAD TAX', 'ZN RAD', 'INDUS', 'INDUS RM', 'CRIM RAD', 'INDUS^2', 'TAX^2', 'DIS RAD', 'INDUS TAX', 'INDUS DIS', 'CHAS LSTAT', 'CHAS AGE', 'CHAS B', 'AGE DIS', 'NOX RAD', 'RM B', 'ZN NOX', 'ZN RM', 'B LSTAT', 'LSTAT', 'NOX', 'ZN INDUS', 'NOX TAX', 'ZN CHAS', 'CHAS DIS', 'ZN B', 'NOX^2', 'CRIM AGE', 'CRIM DIS', 'NOX B', 'INDUS B', 'CRIM INDUS', 'CRIM', 'INDUS RAD', 'PTRATIO B', 'TAX B', 'RAD PTRATIO', 'RAD', 'CRIM TAX', 'AGE^2', 'ZN', 'RM RAD', 'PTRATIO^2', 'INDUS CHAS', 'ZN AGE', 'CHAS RAD', 'CHAS TAX']\n",
      "103 ['PTRATIO LSTAT', 'RM^2', 'RM', 'LSTAT^2', 'NOX LSTAT', 'DIS PTRATIO', 'CRIM CHAS', 'CRIM LSTAT', 'RAD B', 'RM TAX', 'TAX', 'TAX LSTAT', 'AGE B', 'DIS^2', 'DIS TAX', 'RM PTRATIO', 'DIS', 'NOX RM', 'NOX PTRATIO', 'CRIM NOX', 'DIS LSTAT', 'CRIM RM', 'RM LSTAT', 'DIS B', 'AGE RAD', 'RAD LSTAT', 'NOX DIS', 'AGE LSTAT', 'RM DIS', 'PTRATIO', 'CRIM PTRATIO', 'INDUS AGE', 'INDUS LSTAT', 'TAX PTRATIO', 'INDUS PTRATIO', 'AGE TAX', 'INDUS NOX', 'CHAS NOX', 'CHAS', 'CHAS RM', 'CRIM^2', 'CHAS PTRATIO', 'ZN LSTAT', 'ZN TAX', 'ZN PTRATIO', 'ZN DIS', 'CRIM B', 'B', 'AGE', 'RM AGE', 'NOX AGE', 'B^2', 'ZN^2', 'CRIM ZN', 'RAD^2', 'RAD TAX', 'ZN RAD', 'INDUS', 'INDUS RM', 'CRIM RAD', 'INDUS^2', 'TAX^2', 'DIS RAD', 'INDUS TAX', 'INDUS DIS', 'CHAS LSTAT', 'CHAS AGE', 'CHAS B', 'AGE DIS', 'NOX RAD', 'RM B', 'ZN NOX', 'ZN RM', 'B LSTAT', 'LSTAT', 'NOX', 'ZN INDUS', 'NOX TAX', 'ZN CHAS', 'CHAS DIS', 'ZN B', 'NOX^2', 'CRIM AGE', 'CRIM DIS', 'NOX B', 'INDUS B', 'CRIM INDUS', 'CRIM', 'INDUS RAD', 'PTRATIO B', 'TAX B', 'RAD PTRATIO', 'RAD', 'CRIM TAX', 'AGE^2', 'ZN', 'RM RAD', 'PTRATIO^2', 'INDUS CHAS', 'ZN AGE', 'CHAS RAD', 'CHAS TAX', 'AGE PTRATIO']\n",
      "104 ['PTRATIO LSTAT', 'RM^2', 'RM', 'LSTAT^2', 'NOX LSTAT', 'DIS PTRATIO', 'CRIM CHAS', 'CRIM LSTAT', 'RAD B', 'RM TAX', 'TAX', 'TAX LSTAT', 'AGE B', 'DIS^2', 'DIS TAX', 'RM PTRATIO', 'DIS', 'NOX RM', 'NOX PTRATIO', 'CRIM NOX', 'DIS LSTAT', 'CRIM RM', 'RM LSTAT', 'DIS B', 'AGE RAD', 'RAD LSTAT', 'NOX DIS', 'AGE LSTAT', 'RM DIS', 'PTRATIO', 'CRIM PTRATIO', 'INDUS AGE', 'INDUS LSTAT', 'TAX PTRATIO', 'INDUS PTRATIO', 'AGE TAX', 'INDUS NOX', 'CHAS NOX', 'CHAS', 'CHAS RM', 'CRIM^2', 'CHAS PTRATIO', 'ZN LSTAT', 'ZN TAX', 'ZN PTRATIO', 'ZN DIS', 'CRIM B', 'B', 'AGE', 'RM AGE', 'NOX AGE', 'B^2', 'ZN^2', 'CRIM ZN', 'RAD^2', 'RAD TAX', 'ZN RAD', 'INDUS', 'INDUS RM', 'CRIM RAD', 'INDUS^2', 'TAX^2', 'DIS RAD', 'INDUS TAX', 'INDUS DIS', 'CHAS LSTAT', 'CHAS AGE', 'CHAS B', 'AGE DIS', 'NOX RAD', 'RM B', 'ZN NOX', 'ZN RM', 'B LSTAT', 'LSTAT', 'NOX', 'ZN INDUS', 'NOX TAX', 'ZN CHAS', 'CHAS DIS', 'ZN B', 'NOX^2', 'CRIM AGE', 'CRIM DIS', 'NOX B', 'INDUS B', 'CRIM INDUS', 'CRIM', 'INDUS RAD', 'PTRATIO B', 'TAX B', 'RAD PTRATIO', 'RAD', 'CRIM TAX', 'AGE^2', 'ZN', 'RM RAD', 'PTRATIO^2', 'INDUS CHAS', 'ZN AGE', 'CHAS RAD', 'CHAS TAX', 'AGE PTRATIO', 'CHAS^2']\n"
     ]
    }
   ],
   "source": [
    "resBIC,_=forward(estimator=linregr,X=df,y=boston[['PRICE']],scorer=BIC_scorer)"
   ]
  },
  {
   "cell_type": "markdown",
   "metadata": {},
   "source": [
    "Let's plot the minimum BIC values for each number of predictors, respective the overall minimum value of the BIC."
   ]
  },
  {
   "cell_type": "code",
   "execution_count": 122,
   "metadata": {},
   "outputs": [
    {
     "name": "stdout",
     "output_type": "stream",
     "text": [
      "Number of features with minimum BIC:  39\n"
     ]
    },
    {
     "data": {
      "image/png": "[encoded data removed]",
      "text/plain": [
       "<Figure size 432x288 with 1 Axes>"
      ]
     },
     "metadata": {
      "needs_background": "light"
     },
     "output_type": "display_data"
    }
   ],
   "source": [
    "plt.plot(np.arange(1,len(resBIC)+1),resBIC)\n",
    "idxBIC=np.argmin(resBIC)\n",
    "print(\"Number of features with minimum BIC: \", idxBIC)\n",
    "plt.scatter(idxBIC+1,resBIC[idxBIC],c='r')\n",
    "plt.xlabel(\"Number of predictors\",fontsize=12)\n",
    "plt.ylabel(\"BIC\",fontsize=12)\n",
    "plt.show()"
   ]
  },
  {
   "cell_type": "markdown",
   "metadata": {},
   "source": [
    "As can be seen, the BIC provides a less complex model with only 39 features. Moreover, the BIC value is almost the same for around 25 predictors, which is only 25% of the total number of features.\n",
    "\n",
    "As a reminder, let's print out the OLS result from Lab exercise 3.11 Polynomial Regression using only two from the original features. "
   ]
  },
  {
   "cell_type": "code",
   "execution_count": 123,
   "metadata": {},
   "outputs": [
    {
     "name": "stdout",
     "output_type": "stream",
     "text": [
      "               Polynomial regression with two original features               \n",
      "==============================================================================\n",
      "Dep. Variable:                  PRICE   R-squared:                       0.757\n",
      "Model:                            OLS   Adj. R-squared:                  0.755\n",
      "Method:                 Least Squares   F-statistic:                     312.0\n",
      "Date:                Mon, 15 Nov 2021   Prob (F-statistic):          3.79e-151\n",
      "Time:                        21:04:38   Log-Likelihood:                -1482.0\n",
      "No. Observations:                 506   AIC:                             2976.\n",
      "Df Residuals:                     500   BIC:                             3001.\n",
      "Df Model:                           5                                         \n",
      "Covariance Type:            nonrobust                                         \n",
      "====================================================================================\n",
      "                       coef    std err          t      P>|t|      [0.025      0.975]\n",
      "------------------------------------------------------------------------------------\n",
      "Intercept           61.0081     15.696      3.887      0.000      30.170      91.847\n",
      "RM                 -15.3604      4.261     -3.605      0.000     -23.732      -6.989\n",
      "LSTAT                0.3710      0.510      0.727      0.468      -0.632       1.374\n",
      "np.square(RM)        1.7283      0.294      5.871      0.000       1.150       2.307\n",
      "RM:LSTAT            -0.2312      0.064     -3.600      0.000      -0.357      -0.105\n",
      "np.square(LSTAT)     0.0091      0.005      1.844      0.066      -0.001       0.019\n",
      "==============================================================================\n",
      "Omnibus:                      169.606   Durbin-Watson:                   0.947\n",
      "Prob(Omnibus):                  0.000   Jarque-Bera (JB):             2154.012\n",
      "Skew:                           1.079   Prob(JB):                         0.00\n",
      "Kurtosis:                      12.875   Cond. No.                     2.63e+04\n",
      "==============================================================================\n",
      "\n",
      "Notes:\n",
      "[1] Standard Errors assume that the covariance matrix of the errors is correctly specified.\n",
      "[2] The condition number is large, 2.63e+04. This might indicate that there are\n",
      "strong multicollinearity or other numerical problems.\n",
      "\n",
      "RMSE = 4.553834332221605\n"
     ]
    }
   ],
   "source": [
    "model = ols(formula = 'PRICE ~ RM + LSTAT + np.square(RM) + RM:LSTAT + np.square(LSTAT)', data=boston).fit()\n",
    "print(model.summary(title='Polynomial regression with two original features'))\n",
    "print(\"\\nRMSE =\",np.sqrt(model.mse_resid))"
   ]
  },
  {
   "cell_type": "markdown",
   "metadata": {},
   "source": [
    "We may observe that for five features, both AIC and BIC selected the same feature set. Let's fit the OLS using these predictors for comparison."
   ]
  },
  {
   "cell_type": "code",
   "execution_count": 124,
   "metadata": {},
   "outputs": [
    {
     "name": "stdout",
     "output_type": "stream",
     "text": [
      "             Linear regression with 5 predictors selected by BIC              \n",
      "==============================================================================\n",
      "Dep. Variable:                  PRICE   R-squared:                       0.775\n",
      "Model:                            OLS   Adj. R-squared:                  0.773\n",
      "Method:                 Least Squares   F-statistic:                     345.4\n",
      "Date:                Mon, 15 Nov 2021   Prob (F-statistic):          1.35e-159\n",
      "Time:                        21:04:38   Log-Likelihood:                -1462.3\n",
      "No. Observations:                 506   AIC:                             2937.\n",
      "Df Residuals:                     500   BIC:                             2962.\n",
      "Df Model:                           5                                         \n",
      "Covariance Type:            nonrobust                                         \n",
      "====================================================================================\n",
      "                       coef    std err          t      P>|t|      [0.025      0.975]\n",
      "------------------------------------------------------------------------------------\n",
      "Intercept          104.3084      9.430     11.061      0.000      85.781     122.835\n",
      "PTRATIO:LSTAT       -0.0482      0.005     -9.975      0.000      -0.058      -0.039\n",
      "np.square(RM)        2.4208      0.224     10.821      0.000       1.981       2.860\n",
      "RM                 -26.5823      2.909     -9.137      0.000     -32.298     -20.866\n",
      "np.square(LSTAT)     0.0223      0.003      7.539      0.000       0.016       0.028\n",
      "NOX:LSTAT           -0.6240      0.116     -5.386      0.000      -0.852      -0.396\n",
      "==============================================================================\n",
      "Omnibus:                      199.966   Durbin-Watson:                   0.946\n",
      "Prob(Omnibus):                  0.000   Jarque-Bera (JB):             3278.693\n",
      "Skew:                           1.269   Prob(JB):                         0.00\n",
      "Kurtosis:                      15.210   Cond. No.                     2.11e+04\n",
      "==============================================================================\n",
      "\n",
      "Notes:\n",
      "[1] Standard Errors assume that the covariance matrix of the errors is correctly specified.\n",
      "[2] The condition number is large, 2.11e+04. This might indicate that there are\n",
      "strong multicollinearity or other numerical problems.\n",
      "\n",
      "RMSE = 4.379735383115522\n"
     ]
    }
   ],
   "source": [
    "model = ols(formula = 'PRICE ~ PTRATIO:LSTAT + np.square(RM) + RM + np.square(LSTAT) + NOX:LSTAT', data=boston).fit()\n",
    "print(model.summary(title='Linear regression with 5 predictors selected by BIC'))\n",
    "print(\"\\nRMSE =\",np.sqrt(model.mse_resid))"
   ]
  },
  {
   "cell_type": "markdown",
   "metadata": {},
   "source": [
    "As can be seen, although the selected polynomial features are different, the goodness of fit scores are around the same. But with automatic selection, the model is slightly better, and all the selected predictors have regression coefficients statistically different from zero.\n",
    "\n",
    "A better model can be obtained if we use nine predictors. As a comparison, here is polynomial regression from Lab exercise 3.11 using three from the original predictors."
   ]
  },
  {
   "cell_type": "code",
   "execution_count": 125,
   "metadata": {},
   "outputs": [
    {
     "name": "stdout",
     "output_type": "stream",
     "text": [
      "              Polynomial regression with three original features              \n",
      "==============================================================================\n",
      "Dep. Variable:                  PRICE   R-squared:                       0.797\n",
      "Model:                            OLS   Adj. R-squared:                  0.793\n",
      "Method:                 Least Squares   F-statistic:                     215.8\n",
      "Date:                Mon, 15 Nov 2021   Prob (F-statistic):          2.99e-165\n",
      "Time:                        21:04:39   Log-Likelihood:                -1437.4\n",
      "No. Observations:                 506   AIC:                             2895.\n",
      "Df Residuals:                     496   BIC:                             2937.\n",
      "Df Model:                           9                                         \n",
      "Covariance Type:            nonrobust                                         \n",
      "======================================================================================\n",
      "                         coef    std err          t      P>|t|      [0.025      0.975]\n",
      "--------------------------------------------------------------------------------------\n",
      "Intercept           -155.8150     37.260     -4.182      0.000    -229.021     -82.609\n",
      "RM                    17.0426      5.967      2.856      0.004       5.319      28.766\n",
      "PTRATIO               12.3622      2.384      5.186      0.000       7.678      17.046\n",
      "LSTAT                  1.5746      0.566      2.783      0.006       0.463       2.686\n",
      "np.square(RM)          0.9713      0.292      3.327      0.001       0.398       1.545\n",
      "RM:PTRATIO            -1.3045      0.176     -7.396      0.000      -1.651      -0.958\n",
      "RM:LSTAT              -0.1373      0.060     -2.285      0.023      -0.255      -0.019\n",
      "np.square(PTRATIO)    -0.1004      0.046     -2.204      0.028      -0.190      -0.011\n",
      "PTRATIO:LSTAT         -0.0945      0.018     -5.212      0.000      -0.130      -0.059\n",
      "np.square(LSTAT)       0.0128      0.005      2.763      0.006       0.004       0.022\n",
      "==============================================================================\n",
      "Omnibus:                      249.327   Durbin-Watson:                   0.929\n",
      "Prob(Omnibus):                  0.000   Jarque-Bera (JB):             2587.976\n",
      "Skew:                           1.891   Prob(JB):                         0.00\n",
      "Kurtosis:                      13.414   Cond. No.                     1.09e+05\n",
      "==============================================================================\n",
      "\n",
      "Notes:\n",
      "[1] Standard Errors assume that the covariance matrix of the errors is correctly specified.\n",
      "[2] The condition number is large, 1.09e+05. This might indicate that there are\n",
      "strong multicollinearity or other numerical problems.\n",
      "\n",
      "RMSE = 4.185737239163715\n"
     ]
    }
   ],
   "source": [
    "model = ols(formula = 'PRICE ~ RM+PTRATIO+LSTAT+np.square(RM)+RM:PTRATIO+RM:LSTAT+np.square(PTRATIO)+PTRATIO:LSTAT+\\\n",
    "np.square(LSTAT)', data=boston).fit()\n",
    "print(model.summary(title='Polynomial regression with three original features'))\n",
    "print(\"\\nRMSE =\",np.sqrt(model.mse_resid))"
   ]
  },
  {
   "cell_type": "markdown",
   "metadata": {},
   "source": [
    "While the OLS result using nine predictors selected with information criteria is:"
   ]
  },
  {
   "cell_type": "code",
   "execution_count": 126,
   "metadata": {},
   "outputs": [
    {
     "name": "stdout",
     "output_type": "stream",
     "text": [
      "             Linear regression with 9 predictors selected by BIC              \n",
      "==============================================================================\n",
      "Dep. Variable:                  PRICE   R-squared:                       0.825\n",
      "Model:                            OLS   Adj. R-squared:                  0.822\n",
      "Method:                 Least Squares   F-statistic:                     259.9\n",
      "Date:                Mon, 15 Nov 2021   Prob (F-statistic):          1.98e-181\n",
      "Time:                        21:04:39   Log-Likelihood:                -1399.2\n",
      "No. Observations:                 506   AIC:                             2818.\n",
      "Df Residuals:                     496   BIC:                             2861.\n",
      "Df Model:                           9                                         \n",
      "Covariance Type:            nonrobust                                         \n",
      "====================================================================================\n",
      "                       coef    std err          t      P>|t|      [0.025      0.975]\n",
      "------------------------------------------------------------------------------------\n",
      "Intercept           94.0154      8.519     11.037      0.000      77.278     110.752\n",
      "PTRATIO:LSTAT       -0.0480      0.004    -10.809      0.000      -0.057      -0.039\n",
      "np.square(RM)        1.9679      0.208      9.456      0.000       1.559       2.377\n",
      "RM                 -21.2264      2.684     -7.908      0.000     -26.500     -15.952\n",
      "np.square(LSTAT)     0.0346      0.003     11.873      0.000       0.029       0.040\n",
      "NOX:LSTAT           -1.2771      0.123    -10.407      0.000      -1.518      -1.036\n",
      "DIS:PTRATIO         -0.0499      0.006     -8.011      0.000      -0.062      -0.038\n",
      "CRIM:CHAS            1.0872      0.226      4.811      0.000       0.643       1.531\n",
      "CRIM:LSTAT          -0.0062      0.001     -5.430      0.000      -0.008      -0.004\n",
      "RAD:B                0.0003   7.07e-05      3.553      0.000       0.000       0.000\n",
      "==============================================================================\n",
      "Omnibus:                      121.581   Durbin-Watson:                   1.247\n",
      "Prob(Omnibus):                  0.000   Jarque-Bera (JB):             4073.593\n",
      "Skew:                          -0.150   Prob(JB):                         0.00\n",
      "Kurtosis:                      16.897   Cond. No.                     2.20e+05\n",
      "==============================================================================\n",
      "\n",
      "Notes:\n",
      "[1] Standard Errors assume that the covariance matrix of the errors is correctly specified.\n",
      "[2] The condition number is large, 2.2e+05. This might indicate that there are\n",
      "strong multicollinearity or other numerical problems.\n",
      "\n",
      "RMSE = 3.8819064072755167\n"
     ]
    }
   ],
   "source": [
    "model = ols(formula = 'PRICE ~ PTRATIO:LSTAT+np.square(RM)+RM+np.square(LSTAT)+NOX:LSTAT+DIS:PTRATIO+CRIM:CHAS+CRIM:LSTAT+\\\n",
    "RAD:B', data=boston).fit()\n",
    "print(model.summary(title='Linear regression with 9 predictors selected by BIC'))\n",
    "print(\"\\nRMSE =\",np.sqrt(model.mse_resid))"
   ]
  },
  {
   "cell_type": "markdown",
   "metadata": {},
   "source": [
    "In this case, the difference is more prominent.\n",
    "\n",
    "Finally, let's check the automatic feature selection with information criteria for the KC-HouseSale dataset. Here, again print out the OLS results with reduced predictors obtained earlier for comparison."
   ]
  },
  {
   "cell_type": "code",
   "execution_count": 127,
   "metadata": {},
   "outputs": [
    {
     "name": "stdout",
     "output_type": "stream",
     "text": [
      "            OLS Regression Results (reduced number of predictors)             \n",
      "==============================================================================\n",
      "Dep. Variable:                  price   R-squared:                       0.690\n",
      "Model:                            OLS   Adj. R-squared:                  0.690\n",
      "Method:                 Least Squares   F-statistic:                     6013.\n",
      "Date:                Mon, 15 Nov 2021   Prob (F-statistic):               0.00\n",
      "Time:                        21:04:39   Log-Likelihood:            -2.9495e+05\n",
      "No. Observations:               21613   AIC:                         5.899e+05\n",
      "Df Residuals:                   21604   BIC:                         5.900e+05\n",
      "Df Model:                           8                                         \n",
      "Covariance Type:            nonrobust                                         \n",
      "===============================================================================\n",
      "                  coef    std err          t      P>|t|      [0.025      0.975]\n",
      "-------------------------------------------------------------------------------\n",
      "Intercept   -2.705e+07   4.93e+05    -54.859      0.000    -2.8e+07   -2.61e+07\n",
      "sqft_living   172.9905      3.046     56.795      0.000     167.020     178.961\n",
      "age          2922.0653     60.318     48.445      0.000    2803.838    3040.292\n",
      "bedrooms    -3.311e+04   1905.904    -17.373      0.000   -3.68e+04   -2.94e+04\n",
      "bathrooms    4.587e+04   3123.698     14.684      0.000    3.97e+04     5.2e+04\n",
      "lat          5.522e+05   1.04e+04     52.957      0.000    5.32e+05    5.73e+05\n",
      "view         5.056e+04   2102.157     24.052      0.000    4.64e+04    5.47e+04\n",
      "grade         1.08e+05   2017.687     53.540      0.000    1.04e+05    1.12e+05\n",
      "waterfront   5.965e+05   1.76e+04     33.935      0.000    5.62e+05    6.31e+05\n",
      "==============================================================================\n",
      "Omnibus:                    18274.345   Durbin-Watson:                   1.990\n",
      "Prob(Omnibus):                  0.000   Jarque-Bera (JB):          1747603.269\n",
      "Skew:                           3.552   Prob(JB):                         0.00\n",
      "Kurtosis:                      46.476   Cond. No.                     8.07e+05\n",
      "==============================================================================\n",
      "\n",
      "Notes:\n",
      "[1] Standard Errors assume that the covariance matrix of the errors is correctly specified.\n",
      "[2] The condition number is large, 8.07e+05. This might indicate that there are\n",
      "strong multicollinearity or other numerical problems.\n",
      "RMSE = 204423.88741859546\n"
     ]
    }
   ],
   "source": [
    "formula='price ~ ' + ' + '.join(numvar_shortlist) +' + ' + ' + '.join(catvar_shortlist)\n",
    "model_ols1 = ols(formula = formula, data=data).fit()\n",
    "print(model_ols1.summary(title=\"OLS Regression Results (reduced number of predictors)\"))\n",
    "print(\"RMSE =\",np.sqrt(model_ols1.mse_resid))"
   ]
  },
  {
   "cell_type": "markdown",
   "metadata": {},
   "source": [
    "Then using the forward stepwise regression with BIC scoring, let's see what would be the feature selection result."
   ]
  },
  {
   "cell_type": "code",
   "execution_count": 128,
   "metadata": {},
   "outputs": [
    {
     "name": "stdout",
     "output_type": "stream",
     "text": [
      "1 ['sqft_living']\n",
      "2 ['sqft_living', 'lat']\n",
      "3 ['sqft_living', 'lat', 'view']\n",
      "4 ['sqft_living', 'lat', 'view', 'grade']\n",
      "5 ['sqft_living', 'lat', 'view', 'grade', 'age']\n",
      "6 ['sqft_living', 'lat', 'view', 'grade', 'age', 'waterfront']\n",
      "7 ['sqft_living', 'lat', 'view', 'grade', 'age', 'waterfront', 'bedrooms']\n",
      "8 ['sqft_living', 'lat', 'view', 'grade', 'age', 'waterfront', 'bedrooms', 'bathrooms']\n",
      "9 ['sqft_living', 'lat', 'view', 'grade', 'age', 'waterfront', 'bedrooms', 'bathrooms', 'zipcode']\n",
      "10 ['sqft_living', 'lat', 'view', 'grade', 'age', 'waterfront', 'bedrooms', 'bathrooms', 'zipcode', 'long']\n",
      "11 ['sqft_living', 'lat', 'view', 'grade', 'age', 'waterfront', 'bedrooms', 'bathrooms', 'zipcode', 'long', 'condition']\n",
      "12 ['sqft_living', 'lat', 'view', 'grade', 'age', 'waterfront', 'bedrooms', 'bathrooms', 'zipcode', 'long', 'condition', 'sqft_above']\n",
      "13 ['sqft_living', 'lat', 'view', 'grade', 'age', 'waterfront', 'bedrooms', 'bathrooms', 'zipcode', 'long', 'condition', 'sqft_above', 'spring_summer']\n",
      "14 ['sqft_living', 'lat', 'view', 'grade', 'age', 'waterfront', 'bedrooms', 'bathrooms', 'zipcode', 'long', 'condition', 'sqft_above', 'spring_summer', 'sqft_living15']\n",
      "15 ['sqft_living', 'lat', 'view', 'grade', 'age', 'waterfront', 'bedrooms', 'bathrooms', 'zipcode', 'long', 'condition', 'sqft_above', 'spring_summer', 'sqft_living15', 'renovated']\n",
      "16 ['sqft_living', 'lat', 'view', 'grade', 'age', 'waterfront', 'bedrooms', 'bathrooms', 'zipcode', 'long', 'condition', 'sqft_above', 'spring_summer', 'sqft_living15', 'renovated', 'sqft_lot15']\n",
      "17 ['sqft_living', 'lat', 'view', 'grade', 'age', 'waterfront', 'bedrooms', 'bathrooms', 'zipcode', 'long', 'condition', 'sqft_above', 'spring_summer', 'sqft_living15', 'renovated', 'sqft_lot15', 'sqft_lot']\n"
     ]
    },
    {
     "data": {
      "image/png": "[encoded data removed]",
      "text/plain": [
       "<Figure size 432x288 with 1 Axes>"
      ]
     },
     "metadata": {
      "needs_background": "light"
     },
     "output_type": "display_data"
    }
   ],
   "source": [
    "res,_=forward(estimator=linregr,X=data[numvar_list+catvar_list],y=data[['price']],scorer=BIC_scorer)\n",
    "plt.plot(np.arange(1,len(res)+1),res)\n",
    "idx=np.argmin(res)\n",
    "plt.scatter(idx+1,res[idx],c='r')\n",
    "plt.show()"
   ]
  },
  {
   "cell_type": "markdown",
   "metadata": {},
   "source": [
    "As can be seen, the automatic selection for the number of features is 16. However, above ten predictors, the BIC does not decrease significantly. If we check the set of features selected for eight predictors, we realize it is the same as what we intuitively obtained earlier. "
   ]
  },
  {
   "cell_type": "markdown",
   "metadata": {},
   "source": [
    "<img src = \"images/AML1-Cover.png\" width = 110, align = \"left\" style=\"margin:0px 20px\">\n",
    "\n",
    "<span style=\"color:blue\">**Note:**</span> This Jupyter Notebook is accompanying the book: <br> $\\qquad$ <b>Advanced Machine Learning Made Easy</b> <br> $\\qquad$ From Theory to Practice with NumPy and scikit-learn <br> $\\qquad$ <i> Volume 1: Generalized Linear Models</i><br>\n",
    "by Ferenc Farkas, Ph.D. \n",
    "\n",
    "If you find this Notebook useful, please support me by buying the book at [Leanpub](http://leanpub.com/AML1). <br>\n",
    "Copyright notice: This Jupyter Notebook is made available under the [MIT License](https://opensource.org/licenses/MIT)."
   ]
  },
  {
   "cell_type": "code",
   "execution_count": null,
   "metadata": {},
   "outputs": [],
   "source": []
  }
 ],
 "metadata": {
  "colab": {
   "collapsed_sections": [],
   "name": "Ch1-1-SimpleRegression.ipynb",
   "provenance": [
    {
     "file_id": "1CAvi5U76y6xIKJarmRS-iX0Jh70o2mGi",
     "timestamp": 1537170166740
    }
   ],
   "version": "0.3.2"
  },
  "kernelspec": {
   "display_name": "Python 3",
   "language": "python",
   "name": "python3"
  },
  "language_info": {
   "codemirror_mode": {
    "name": "ipython",
    "version": 3
   },
   "file_extension": ".py",
   "mimetype": "text/x-python",
   "name": "python",
   "nbconvert_exporter": "python",
   "pygments_lexer": "ipython3",
   "version": "3.8.5"
  }
 },
 "nbformat": 4,
 "nbformat_minor": 1
}
