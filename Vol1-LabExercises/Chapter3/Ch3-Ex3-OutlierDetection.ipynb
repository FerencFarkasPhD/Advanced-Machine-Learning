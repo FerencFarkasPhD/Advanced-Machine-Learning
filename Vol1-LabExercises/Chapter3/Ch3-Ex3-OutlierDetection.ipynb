{
 "cells": [
  {
   "cell_type": "markdown",
   "metadata": {
    "colab_type": "text",
    "id": "tr9o4rl9fUBh"
   },
   "source": [
    "<img src = \"images/Logo.png\" width = 220, align = \"left\">\n",
    "\n",
    "<h1 align=center><font size = 6>Outlier Detection</font></h1>\n",
    "<h2 align=center><font size = 5>Lab Exercise 3.3</font></h2>\n",
    "<h3 align=center><font size = 4><b>Advanced Machine Learning<br></b><small>From Theory to Practice with NumPy and scikit-learn<br><i>Volume 1: Generalized Linear Models</i></font></h3>"
   ]
  },
  {
   "cell_type": "markdown",
   "metadata": {},
   "source": [
    "## Introduction\n",
    "\n",
    "In this exercise we check the outliers, leverages, and influential points in case of multiple linear regression. For this purpuse, first we use a small dataset with 67 observations containing 3 independent variables: number of employees, profit margin and information processing cost. The dependent variable is the salary. <br>\n",
    "**Note**: *The original dataset can be found at http://pages.stern.nyu.edu/~rdeo/f97/ex1233.mtp. The following article was also used in creating this exercise: http://people.stern.nyu.edu/gsimon/Pamphlets/MultipleRegressionDiagnosticsCOLLECTION.pdf*"
   ]
  },
  {
   "cell_type": "markdown",
   "metadata": {},
   "source": [
    "### Table of contents\n",
    "1. [Reading the data](#ReadingData)\n",
    "2. [Fitting the linear regression model on the whole dataset](#FittingModel)\n",
    "3. [Properties of the leverages](#Leverages)\n",
    "4. [Check for unusual observations](#UnusualObservations)\n",
    "5. [Conclusion of the outlier analysis](#OutlierConclusion)\n",
    "6. [Graphical analysis](#GraphicAnalysis)\n",
    "7. [Outlier Masking and Swamping](#OutlierMask)\n",
    "8. [Modified z-score](#ModZscore)"
   ]
  },
  {
   "cell_type": "markdown",
   "metadata": {},
   "source": [
    "## 1. Reading the data <a name=\"ReadingData\"></a>\n",
    "\n",
    "As a first step, we import all the required libraries."
   ]
  },
  {
   "cell_type": "code",
   "execution_count": 1,
   "metadata": {},
   "outputs": [],
   "source": [
    "import numpy as np\n",
    "import pandas as pd\n",
    "from numpy.linalg import inv, matrix_rank, eigh\n",
    "import matplotlib.pyplot as plt\n",
    "from sklearn.linear_model import LinearRegression\n",
    "from statsmodels.formula.api import ols\n",
    "import statsmodels.api as sm\n",
    "import os\n",
    "%matplotlib inline"
   ]
  },
  {
   "cell_type": "markdown",
   "metadata": {
    "colab_type": "text",
    "id": "dUZRG9jlf0A4"
   },
   "source": [
    "Next, read the Salary.csv file into a pandas dataframe, which contains the Salary based on the number of employees, profit margin, and information processing cost. We will print out the dataset to have the first glimpse of it. The dataset contains five columns: *Index*, *Salary*, *NumExpl* (number of employees), *Margin* (profit margin), and *IPCost* (information processing cost). There are 67 unordered data points (observations)."
   ]
  },
  {
   "cell_type": "code",
   "execution_count": 2,
   "metadata": {},
   "outputs": [
    {
     "data": {
      "text/html": [
       "<div>\n",
       "<style scoped>\n",
       "    .dataframe tbody tr th:only-of-type {\n",
       "        vertical-align: middle;\n",
       "    }\n",
       "\n",
       "    .dataframe tbody tr th {\n",
       "        vertical-align: top;\n",
       "    }\n",
       "\n",
       "    .dataframe thead th {\n",
       "        text-align: right;\n",
       "    }\n",
       "</style>\n",
       "<table border=\"1\" class=\"dataframe\">\n",
       "  <thead>\n",
       "    <tr style=\"text-align: right;\">\n",
       "      <th></th>\n",
       "      <th>Index</th>\n",
       "      <th>Salary</th>\n",
       "      <th>NumExpl</th>\n",
       "      <th>Margin</th>\n",
       "      <th>IPCost</th>\n",
       "    </tr>\n",
       "  </thead>\n",
       "  <tbody>\n",
       "    <tr>\n",
       "      <th>0</th>\n",
       "      <td>1</td>\n",
       "      <td>29.5</td>\n",
       "      <td>58</td>\n",
       "      <td>19.4</td>\n",
       "      <td>10.14</td>\n",
       "    </tr>\n",
       "    <tr>\n",
       "      <th>1</th>\n",
       "      <td>2</td>\n",
       "      <td>29.3</td>\n",
       "      <td>37</td>\n",
       "      <td>17.7</td>\n",
       "      <td>9.18</td>\n",
       "    </tr>\n",
       "    <tr>\n",
       "      <th>2</th>\n",
       "      <td>3</td>\n",
       "      <td>29.8</td>\n",
       "      <td>135</td>\n",
       "      <td>20.4</td>\n",
       "      <td>6.84</td>\n",
       "    </tr>\n",
       "    <tr>\n",
       "      <th>3</th>\n",
       "      <td>4</td>\n",
       "      <td>29.2</td>\n",
       "      <td>69</td>\n",
       "      <td>20.5</td>\n",
       "      <td>7.59</td>\n",
       "    </tr>\n",
       "    <tr>\n",
       "      <th>4</th>\n",
       "      <td>5</td>\n",
       "      <td>28.9</td>\n",
       "      <td>48</td>\n",
       "      <td>19.1</td>\n",
       "      <td>4.96</td>\n",
       "    </tr>\n",
       "    <tr>\n",
       "      <th>5</th>\n",
       "      <td>6</td>\n",
       "      <td>31.7</td>\n",
       "      <td>159</td>\n",
       "      <td>23.3</td>\n",
       "      <td>10.52</td>\n",
       "    </tr>\n",
       "    <tr>\n",
       "      <th>6</th>\n",
       "      <td>7</td>\n",
       "      <td>27.5</td>\n",
       "      <td>42</td>\n",
       "      <td>23.4</td>\n",
       "      <td>8.61</td>\n",
       "    </tr>\n",
       "    <tr>\n",
       "      <th>7</th>\n",
       "      <td>8</td>\n",
       "      <td>29.4</td>\n",
       "      <td>37</td>\n",
       "      <td>23.1</td>\n",
       "      <td>10.72</td>\n",
       "    </tr>\n",
       "    <tr>\n",
       "      <th>8</th>\n",
       "      <td>9</td>\n",
       "      <td>30.4</td>\n",
       "      <td>71</td>\n",
       "      <td>18.5</td>\n",
       "      <td>5.65</td>\n",
       "    </tr>\n",
       "    <tr>\n",
       "      <th>9</th>\n",
       "      <td>10</td>\n",
       "      <td>27.7</td>\n",
       "      <td>69</td>\n",
       "      <td>16.4</td>\n",
       "      <td>5.46</td>\n",
       "    </tr>\n",
       "    <tr>\n",
       "      <th>10</th>\n",
       "      <td>11</td>\n",
       "      <td>30.9</td>\n",
       "      <td>121</td>\n",
       "      <td>24.6</td>\n",
       "      <td>7.37</td>\n",
       "    </tr>\n",
       "    <tr>\n",
       "      <th>11</th>\n",
       "      <td>12</td>\n",
       "      <td>28.9</td>\n",
       "      <td>389</td>\n",
       "      <td>11.0</td>\n",
       "      <td>7.40</td>\n",
       "    </tr>\n",
       "    <tr>\n",
       "      <th>12</th>\n",
       "      <td>13</td>\n",
       "      <td>29.7</td>\n",
       "      <td>99</td>\n",
       "      <td>20.9</td>\n",
       "      <td>9.05</td>\n",
       "    </tr>\n",
       "    <tr>\n",
       "      <th>13</th>\n",
       "      <td>14</td>\n",
       "      <td>30.3</td>\n",
       "      <td>62</td>\n",
       "      <td>23.0</td>\n",
       "      <td>8.81</td>\n",
       "    </tr>\n",
       "    <tr>\n",
       "      <th>14</th>\n",
       "      <td>15</td>\n",
       "      <td>31.3</td>\n",
       "      <td>107</td>\n",
       "      <td>15.3</td>\n",
       "      <td>10.94</td>\n",
       "    </tr>\n",
       "    <tr>\n",
       "      <th>15</th>\n",
       "      <td>16</td>\n",
       "      <td>30.0</td>\n",
       "      <td>42</td>\n",
       "      <td>18.8</td>\n",
       "      <td>6.84</td>\n",
       "    </tr>\n",
       "    <tr>\n",
       "      <th>16</th>\n",
       "      <td>17</td>\n",
       "      <td>30.0</td>\n",
       "      <td>35</td>\n",
       "      <td>21.0</td>\n",
       "      <td>6.45</td>\n",
       "    </tr>\n",
       "    <tr>\n",
       "      <th>17</th>\n",
       "      <td>18</td>\n",
       "      <td>28.5</td>\n",
       "      <td>42</td>\n",
       "      <td>10.5</td>\n",
       "      <td>6.06</td>\n",
       "    </tr>\n",
       "    <tr>\n",
       "      <th>18</th>\n",
       "      <td>19</td>\n",
       "      <td>29.9</td>\n",
       "      <td>31</td>\n",
       "      <td>19.3</td>\n",
       "      <td>10.20</td>\n",
       "    </tr>\n",
       "    <tr>\n",
       "      <th>19</th>\n",
       "      <td>20</td>\n",
       "      <td>29.7</td>\n",
       "      <td>78</td>\n",
       "      <td>18.0</td>\n",
       "      <td>9.60</td>\n",
       "    </tr>\n",
       "    <tr>\n",
       "      <th>20</th>\n",
       "      <td>21</td>\n",
       "      <td>30.2</td>\n",
       "      <td>132</td>\n",
       "      <td>23.5</td>\n",
       "      <td>7.88</td>\n",
       "    </tr>\n",
       "    <tr>\n",
       "      <th>21</th>\n",
       "      <td>22</td>\n",
       "      <td>29.7</td>\n",
       "      <td>37</td>\n",
       "      <td>22.4</td>\n",
       "      <td>6.71</td>\n",
       "    </tr>\n",
       "    <tr>\n",
       "      <th>22</th>\n",
       "      <td>23</td>\n",
       "      <td>29.9</td>\n",
       "      <td>89</td>\n",
       "      <td>22.8</td>\n",
       "      <td>10.04</td>\n",
       "    </tr>\n",
       "    <tr>\n",
       "      <th>23</th>\n",
       "      <td>24</td>\n",
       "      <td>29.0</td>\n",
       "      <td>101</td>\n",
       "      <td>21.7</td>\n",
       "      <td>8.39</td>\n",
       "    </tr>\n",
       "    <tr>\n",
       "      <th>24</th>\n",
       "      <td>25</td>\n",
       "      <td>29.4</td>\n",
       "      <td>60</td>\n",
       "      <td>18.0</td>\n",
       "      <td>5.24</td>\n",
       "    </tr>\n",
       "    <tr>\n",
       "      <th>25</th>\n",
       "      <td>26</td>\n",
       "      <td>30.3</td>\n",
       "      <td>48</td>\n",
       "      <td>21.9</td>\n",
       "      <td>9.60</td>\n",
       "    </tr>\n",
       "    <tr>\n",
       "      <th>26</th>\n",
       "      <td>27</td>\n",
       "      <td>30.4</td>\n",
       "      <td>75</td>\n",
       "      <td>22.6</td>\n",
       "      <td>11.63</td>\n",
       "    </tr>\n",
       "    <tr>\n",
       "      <th>27</th>\n",
       "      <td>28</td>\n",
       "      <td>31.1</td>\n",
       "      <td>71</td>\n",
       "      <td>24.5</td>\n",
       "      <td>9.65</td>\n",
       "    </tr>\n",
       "    <tr>\n",
       "      <th>28</th>\n",
       "      <td>29</td>\n",
       "      <td>29.4</td>\n",
       "      <td>47</td>\n",
       "      <td>24.2</td>\n",
       "      <td>7.94</td>\n",
       "    </tr>\n",
       "    <tr>\n",
       "      <th>29</th>\n",
       "      <td>30</td>\n",
       "      <td>30.7</td>\n",
       "      <td>39</td>\n",
       "      <td>22.7</td>\n",
       "      <td>9.67</td>\n",
       "    </tr>\n",
       "    <tr>\n",
       "      <th>...</th>\n",
       "      <td>...</td>\n",
       "      <td>...</td>\n",
       "      <td>...</td>\n",
       "      <td>...</td>\n",
       "      <td>...</td>\n",
       "    </tr>\n",
       "    <tr>\n",
       "      <th>37</th>\n",
       "      <td>38</td>\n",
       "      <td>27.3</td>\n",
       "      <td>30</td>\n",
       "      <td>6.7</td>\n",
       "      <td>3.16</td>\n",
       "    </tr>\n",
       "    <tr>\n",
       "      <th>38</th>\n",
       "      <td>39</td>\n",
       "      <td>31.3</td>\n",
       "      <td>34</td>\n",
       "      <td>21.4</td>\n",
       "      <td>10.91</td>\n",
       "    </tr>\n",
       "    <tr>\n",
       "      <th>39</th>\n",
       "      <td>40</td>\n",
       "      <td>27.4</td>\n",
       "      <td>28</td>\n",
       "      <td>16.0</td>\n",
       "      <td>8.19</td>\n",
       "    </tr>\n",
       "    <tr>\n",
       "      <th>40</th>\n",
       "      <td>41</td>\n",
       "      <td>29.3</td>\n",
       "      <td>230</td>\n",
       "      <td>14.9</td>\n",
       "      <td>5.70</td>\n",
       "    </tr>\n",
       "    <tr>\n",
       "      <th>41</th>\n",
       "      <td>42</td>\n",
       "      <td>28.7</td>\n",
       "      <td>121</td>\n",
       "      <td>19.3</td>\n",
       "      <td>6.42</td>\n",
       "    </tr>\n",
       "    <tr>\n",
       "      <th>42</th>\n",
       "      <td>43</td>\n",
       "      <td>29.7</td>\n",
       "      <td>146</td>\n",
       "      <td>20.9</td>\n",
       "      <td>5.74</td>\n",
       "    </tr>\n",
       "    <tr>\n",
       "      <th>43</th>\n",
       "      <td>44</td>\n",
       "      <td>29.3</td>\n",
       "      <td>124</td>\n",
       "      <td>17.6</td>\n",
       "      <td>6.13</td>\n",
       "    </tr>\n",
       "    <tr>\n",
       "      <th>44</th>\n",
       "      <td>45</td>\n",
       "      <td>28.3</td>\n",
       "      <td>40</td>\n",
       "      <td>16.3</td>\n",
       "      <td>8.86</td>\n",
       "    </tr>\n",
       "    <tr>\n",
       "      <th>45</th>\n",
       "      <td>46</td>\n",
       "      <td>25.7</td>\n",
       "      <td>130</td>\n",
       "      <td>15.6</td>\n",
       "      <td>4.11</td>\n",
       "    </tr>\n",
       "    <tr>\n",
       "      <th>46</th>\n",
       "      <td>47</td>\n",
       "      <td>27.2</td>\n",
       "      <td>60</td>\n",
       "      <td>15.9</td>\n",
       "      <td>6.13</td>\n",
       "    </tr>\n",
       "    <tr>\n",
       "      <th>47</th>\n",
       "      <td>48</td>\n",
       "      <td>29.2</td>\n",
       "      <td>94</td>\n",
       "      <td>22.6</td>\n",
       "      <td>9.95</td>\n",
       "    </tr>\n",
       "    <tr>\n",
       "      <th>48</th>\n",
       "      <td>49</td>\n",
       "      <td>30.2</td>\n",
       "      <td>43</td>\n",
       "      <td>19.6</td>\n",
       "      <td>7.83</td>\n",
       "    </tr>\n",
       "    <tr>\n",
       "      <th>49</th>\n",
       "      <td>50</td>\n",
       "      <td>30.7</td>\n",
       "      <td>111</td>\n",
       "      <td>18.2</td>\n",
       "      <td>6.70</td>\n",
       "    </tr>\n",
       "    <tr>\n",
       "      <th>50</th>\n",
       "      <td>51</td>\n",
       "      <td>29.4</td>\n",
       "      <td>37</td>\n",
       "      <td>23.0</td>\n",
       "      <td>11.25</td>\n",
       "    </tr>\n",
       "    <tr>\n",
       "      <th>51</th>\n",
       "      <td>52</td>\n",
       "      <td>28.4</td>\n",
       "      <td>76</td>\n",
       "      <td>15.5</td>\n",
       "      <td>4.77</td>\n",
       "    </tr>\n",
       "    <tr>\n",
       "      <th>52</th>\n",
       "      <td>53</td>\n",
       "      <td>30.1</td>\n",
       "      <td>188</td>\n",
       "      <td>18.9</td>\n",
       "      <td>5.94</td>\n",
       "    </tr>\n",
       "    <tr>\n",
       "      <th>53</th>\n",
       "      <td>54</td>\n",
       "      <td>28.5</td>\n",
       "      <td>64</td>\n",
       "      <td>12.6</td>\n",
       "      <td>4.81</td>\n",
       "    </tr>\n",
       "    <tr>\n",
       "      <th>54</th>\n",
       "      <td>55</td>\n",
       "      <td>28.8</td>\n",
       "      <td>185</td>\n",
       "      <td>17.7</td>\n",
       "      <td>8.66</td>\n",
       "    </tr>\n",
       "    <tr>\n",
       "      <th>55</th>\n",
       "      <td>56</td>\n",
       "      <td>32.4</td>\n",
       "      <td>371</td>\n",
       "      <td>22.3</td>\n",
       "      <td>7.45</td>\n",
       "    </tr>\n",
       "    <tr>\n",
       "      <th>56</th>\n",
       "      <td>57</td>\n",
       "      <td>28.4</td>\n",
       "      <td>81</td>\n",
       "      <td>23.1</td>\n",
       "      <td>5.14</td>\n",
       "    </tr>\n",
       "    <tr>\n",
       "      <th>57</th>\n",
       "      <td>58</td>\n",
       "      <td>29.7</td>\n",
       "      <td>62</td>\n",
       "      <td>20.9</td>\n",
       "      <td>9.26</td>\n",
       "    </tr>\n",
       "    <tr>\n",
       "      <th>58</th>\n",
       "      <td>59</td>\n",
       "      <td>27.0</td>\n",
       "      <td>30</td>\n",
       "      <td>9.8</td>\n",
       "      <td>1.44</td>\n",
       "    </tr>\n",
       "    <tr>\n",
       "      <th>59</th>\n",
       "      <td>60</td>\n",
       "      <td>28.2</td>\n",
       "      <td>103</td>\n",
       "      <td>22.1</td>\n",
       "      <td>7.98</td>\n",
       "    </tr>\n",
       "    <tr>\n",
       "      <th>60</th>\n",
       "      <td>61</td>\n",
       "      <td>27.6</td>\n",
       "      <td>29</td>\n",
       "      <td>9.7</td>\n",
       "      <td>6.09</td>\n",
       "    </tr>\n",
       "    <tr>\n",
       "      <th>61</th>\n",
       "      <td>62</td>\n",
       "      <td>30.7</td>\n",
       "      <td>28</td>\n",
       "      <td>17.1</td>\n",
       "      <td>8.71</td>\n",
       "    </tr>\n",
       "    <tr>\n",
       "      <th>62</th>\n",
       "      <td>63</td>\n",
       "      <td>28.7</td>\n",
       "      <td>34</td>\n",
       "      <td>16.8</td>\n",
       "      <td>5.11</td>\n",
       "    </tr>\n",
       "    <tr>\n",
       "      <th>63</th>\n",
       "      <td>64</td>\n",
       "      <td>29.4</td>\n",
       "      <td>279</td>\n",
       "      <td>23.2</td>\n",
       "      <td>6.20</td>\n",
       "    </tr>\n",
       "    <tr>\n",
       "      <th>64</th>\n",
       "      <td>65</td>\n",
       "      <td>29.9</td>\n",
       "      <td>35</td>\n",
       "      <td>23.4</td>\n",
       "      <td>8.42</td>\n",
       "    </tr>\n",
       "    <tr>\n",
       "      <th>65</th>\n",
       "      <td>66</td>\n",
       "      <td>31.3</td>\n",
       "      <td>43</td>\n",
       "      <td>18.3</td>\n",
       "      <td>7.52</td>\n",
       "    </tr>\n",
       "    <tr>\n",
       "      <th>66</th>\n",
       "      <td>67</td>\n",
       "      <td>28.5</td>\n",
       "      <td>77</td>\n",
       "      <td>19.0</td>\n",
       "      <td>7.85</td>\n",
       "    </tr>\n",
       "  </tbody>\n",
       "</table>\n",
       "<p>67 rows × 5 columns</p>\n",
       "</div>"
      ],
      "text/plain": [
       "    Index  Salary  NumExpl  Margin  IPCost\n",
       "0       1    29.5       58    19.4   10.14\n",
       "1       2    29.3       37    17.7    9.18\n",
       "2       3    29.8      135    20.4    6.84\n",
       "3       4    29.2       69    20.5    7.59\n",
       "4       5    28.9       48    19.1    4.96\n",
       "5       6    31.7      159    23.3   10.52\n",
       "6       7    27.5       42    23.4    8.61\n",
       "7       8    29.4       37    23.1   10.72\n",
       "8       9    30.4       71    18.5    5.65\n",
       "9      10    27.7       69    16.4    5.46\n",
       "10     11    30.9      121    24.6    7.37\n",
       "11     12    28.9      389    11.0    7.40\n",
       "12     13    29.7       99    20.9    9.05\n",
       "13     14    30.3       62    23.0    8.81\n",
       "14     15    31.3      107    15.3   10.94\n",
       "15     16    30.0       42    18.8    6.84\n",
       "16     17    30.0       35    21.0    6.45\n",
       "17     18    28.5       42    10.5    6.06\n",
       "18     19    29.9       31    19.3   10.20\n",
       "19     20    29.7       78    18.0    9.60\n",
       "20     21    30.2      132    23.5    7.88\n",
       "21     22    29.7       37    22.4    6.71\n",
       "22     23    29.9       89    22.8   10.04\n",
       "23     24    29.0      101    21.7    8.39\n",
       "24     25    29.4       60    18.0    5.24\n",
       "25     26    30.3       48    21.9    9.60\n",
       "26     27    30.4       75    22.6   11.63\n",
       "27     28    31.1       71    24.5    9.65\n",
       "28     29    29.4       47    24.2    7.94\n",
       "29     30    30.7       39    22.7    9.67\n",
       "..    ...     ...      ...     ...     ...\n",
       "37     38    27.3       30     6.7    3.16\n",
       "38     39    31.3       34    21.4   10.91\n",
       "39     40    27.4       28    16.0    8.19\n",
       "40     41    29.3      230    14.9    5.70\n",
       "41     42    28.7      121    19.3    6.42\n",
       "42     43    29.7      146    20.9    5.74\n",
       "43     44    29.3      124    17.6    6.13\n",
       "44     45    28.3       40    16.3    8.86\n",
       "45     46    25.7      130    15.6    4.11\n",
       "46     47    27.2       60    15.9    6.13\n",
       "47     48    29.2       94    22.6    9.95\n",
       "48     49    30.2       43    19.6    7.83\n",
       "49     50    30.7      111    18.2    6.70\n",
       "50     51    29.4       37    23.0   11.25\n",
       "51     52    28.4       76    15.5    4.77\n",
       "52     53    30.1      188    18.9    5.94\n",
       "53     54    28.5       64    12.6    4.81\n",
       "54     55    28.8      185    17.7    8.66\n",
       "55     56    32.4      371    22.3    7.45\n",
       "56     57    28.4       81    23.1    5.14\n",
       "57     58    29.7       62    20.9    9.26\n",
       "58     59    27.0       30     9.8    1.44\n",
       "59     60    28.2      103    22.1    7.98\n",
       "60     61    27.6       29     9.7    6.09\n",
       "61     62    30.7       28    17.1    8.71\n",
       "62     63    28.7       34    16.8    5.11\n",
       "63     64    29.4      279    23.2    6.20\n",
       "64     65    29.9       35    23.4    8.42\n",
       "65     66    31.3       43    18.3    7.52\n",
       "66     67    28.5       77    19.0    7.85\n",
       "\n",
       "[67 rows x 5 columns]"
      ]
     },
     "execution_count": 2,
     "metadata": {},
     "output_type": "execute_result"
    }
   ],
   "source": [
    "data = pd.read_csv(os.path.join('data','Salary.csv'))\n",
    "data"
   ]
  },
  {
   "cell_type": "markdown",
   "metadata": {
    "colab_type": "text",
    "id": "xtaDU15mTiBI"
   },
   "source": [
    "Extract the input and output values from the pandas dataframe into input matrix $\\mathbf X$ and vector $\\mathbf{y}$. Also, extract the number of observations available in the dataset. Finally, create the design matrix $\\mathbf{\\dot X}$."
   ]
  },
  {
   "cell_type": "code",
   "execution_count": 3,
   "metadata": {
    "colab": {
     "base_uri": "https://localhost:8080/",
     "height": 34
    },
    "colab_type": "code",
    "executionInfo": {
     "elapsed": 597,
     "status": "ok",
     "timestamp": 1537254356525,
     "user": {
      "displayName": "Ferenc Dr. Farkas",
      "photoUrl": "https://lh3.googleusercontent.com/a/default-user=s128",
      "userId": "101091246114755693299"
     },
     "user_tz": -120
    },
    "id": "ZmwkmKZ6SsJw",
    "outputId": "fc70203f-7e2d-4e31-9526-4ab48894b76e"
   },
   "outputs": [
    {
     "name": "stdout",
     "output_type": "stream",
     "text": [
      "Number of observations: 67\n",
      "Number of independent variables: 3\n",
      "Design matrix:\n",
      "[[  1.    58.    19.4   10.14]\n",
      " [  1.    37.    17.7    9.18]\n",
      " [  1.   135.    20.4    6.84]\n",
      " [  1.    69.    20.5    7.59]\n",
      " [  1.    48.    19.1    4.96]\n",
      " [  1.   159.    23.3   10.52]\n",
      " [  1.    42.    23.4    8.61]\n",
      " [  1.    37.    23.1   10.72]\n",
      " [  1.    71.    18.5    5.65]\n",
      " [  1.    69.    16.4    5.46]\n",
      " [  1.   121.    24.6    7.37]\n",
      " [  1.   389.    11.     7.4 ]\n",
      " [  1.    99.    20.9    9.05]\n",
      " [  1.    62.    23.     8.81]\n",
      " [  1.   107.    15.3   10.94]\n",
      " [  1.    42.    18.8    6.84]\n",
      " [  1.    35.    21.     6.45]\n",
      " [  1.    42.    10.5    6.06]\n",
      " [  1.    31.    19.3   10.2 ]\n",
      " [  1.    78.    18.     9.6 ]\n",
      " [  1.   132.    23.5    7.88]\n",
      " [  1.    37.    22.4    6.71]\n",
      " [  1.    89.    22.8   10.04]\n",
      " [  1.   101.    21.7    8.39]\n",
      " [  1.    60.    18.     5.24]\n",
      " [  1.    48.    21.9    9.6 ]\n",
      " [  1.    75.    22.6   11.63]\n",
      " [  1.    71.    24.5    9.65]\n",
      " [  1.    47.    24.2    7.94]\n",
      " [  1.    39.    22.7    9.67]\n",
      " [  1.    50.    23.1    9.66]\n",
      " [  1.    40.    16.1   10.31]\n",
      " [  1.   102.    16.2    6.67]\n",
      " [  1.    38.    21.9    6.45]\n",
      " [  1.    80.    20.9   10.07]\n",
      " [  1.    77.    14.     7.06]\n",
      " [  1.    28.    19.8    9.7 ]\n",
      " [  1.    30.     6.7    3.16]\n",
      " [  1.    34.    21.4   10.91]\n",
      " [  1.    28.    16.     8.19]\n",
      " [  1.   230.    14.9    5.7 ]\n",
      " [  1.   121.    19.3    6.42]\n",
      " [  1.   146.    20.9    5.74]\n",
      " [  1.   124.    17.6    6.13]\n",
      " [  1.    40.    16.3    8.86]\n",
      " [  1.   130.    15.6    4.11]\n",
      " [  1.    60.    15.9    6.13]\n",
      " [  1.    94.    22.6    9.95]\n",
      " [  1.    43.    19.6    7.83]\n",
      " [  1.   111.    18.2    6.7 ]\n",
      " [  1.    37.    23.    11.25]\n",
      " [  1.    76.    15.5    4.77]\n",
      " [  1.   188.    18.9    5.94]\n",
      " [  1.    64.    12.6    4.81]\n",
      " [  1.   185.    17.7    8.66]\n",
      " [  1.   371.    22.3    7.45]\n",
      " [  1.    81.    23.1    5.14]\n",
      " [  1.    62.    20.9    9.26]\n",
      " [  1.    30.     9.8    1.44]\n",
      " [  1.   103.    22.1    7.98]\n",
      " [  1.    29.     9.7    6.09]\n",
      " [  1.    28.    17.1    8.71]\n",
      " [  1.    34.    16.8    5.11]\n",
      " [  1.   279.    23.2    6.2 ]\n",
      " [  1.    35.    23.4    8.42]\n",
      " [  1.    43.    18.3    7.52]\n",
      " [  1.    77.    19.     7.85]]\n"
     ]
    }
   ],
   "source": [
    "X=np.array(data[[\"NumExpl\",\"Margin\",\"IPCost\"]])\n",
    "y_=np.array(data[\"Salary\"])[:,np.newaxis]\n",
    "N,D=X.shape\n",
    "print(\"Number of observations:\",N)\n",
    "print(\"Number of independent variables:\",D)\n",
    "Xdot=(np.insert(X,0,np.ones(N),axis=1))\n",
    "print(\"Design matrix:\")\n",
    "print(Xdot)"
   ]
  },
  {
   "cell_type": "markdown",
   "metadata": {},
   "source": [
    "Again, this dataset is fairly small, so we can print out the design matrix to \"see and feel\" the data. Next, let's create the summary of the OLS."
   ]
  },
  {
   "cell_type": "markdown",
   "metadata": {},
   "source": [
    "## 2. Fitting the linear regression model on the whole dataset <a name=\"FittingModel\"></a>\n",
    "\n",
    "Because we already learned in previous lab exercises, how to use the linear model of the scikit-learn library let's fit a linear regression model on the dataset using the statsmodels library, which provides a good summary at once."
   ]
  },
  {
   "cell_type": "code",
   "execution_count": 4,
   "metadata": {},
   "outputs": [
    {
     "name": "stdout",
     "output_type": "stream",
     "text": [
      "                            OLS Regression Results                            \n",
      "==============================================================================\n",
      "Dep. Variable:                 Salary   R-squared:                       0.384\n",
      "Model:                            OLS   Adj. R-squared:                  0.355\n",
      "Method:                 Least Squares   F-statistic:                     13.10\n",
      "Date:                Wed, 01 Apr 2020   Prob (F-statistic):           9.49e-07\n",
      "Time:                        00:03:28   Log-Likelihood:                -92.998\n",
      "No. Observations:                  67   AIC:                             194.0\n",
      "Df Residuals:                      63   BIC:                             202.8\n",
      "Df Model:                           3                                         \n",
      "Covariance Type:            nonrobust                                         \n",
      "==============================================================================\n",
      "                 coef    std err          t      P>|t|      [0.025      0.975]\n",
      "------------------------------------------------------------------------------\n",
      "Intercept     25.5378      0.643     39.718      0.000      24.253      26.823\n",
      "NumExpl        0.0039      0.002      2.266      0.027       0.000       0.007\n",
      "Margin         0.0957      0.037      2.621      0.011       0.023       0.169\n",
      "IPCost         0.2163      0.069      3.126      0.003       0.078       0.355\n",
      "==============================================================================\n",
      "Omnibus:                        1.512   Durbin-Watson:                   2.011\n",
      "Prob(Omnibus):                  0.470   Jarque-Bera (JB):                1.017\n",
      "Skew:                          -0.292   Prob(JB):                        0.601\n",
      "Kurtosis:                       3.151   Cond. No.                         596.\n",
      "==============================================================================\n",
      "\n",
      "Warnings:\n",
      "[1] Standard Errors assume that the covariance matrix of the errors is correctly specified.\n",
      "\n",
      "RMSE = 0.9998655467216203\n"
     ]
    }
   ],
   "source": [
    "result = ols(formula = 'Salary ~ NumExpl + Margin + IPCost', data=data).fit()\n",
    "print(result.summary())\n",
    "print(\"\\nRMSE =\",np.sqrt(result.mse_resid))"
   ]
  },
  {
   "cell_type": "markdown",
   "metadata": {},
   "source": [
    "We might mimic the scikit-learn library by creating a multiple linear regression class with only two methods: fit and predict and an attribute holding the model parameters (regression coefficients)."
   ]
  },
  {
   "cell_type": "code",
   "execution_count": 5,
   "metadata": {},
   "outputs": [],
   "source": [
    "class LinRegr():\n",
    "    def fit(self,X,y_):\n",
    "        self.w_=inv(X.T@X)@X.T@y_\n",
    "        return\n",
    "    def predict(self,X):\n",
    "        return X@self.w_"
   ]
  },
  {
   "cell_type": "markdown",
   "metadata": {},
   "source": [
    "Then create an instance of this class and fit a linear regression model on the data using the \"fit\" method. Print out the parameters (regression coefficients) of the model.\n",
    "\n",
    "*Note:** *If you want to make predictions then you can do this with the \"predict\" method.*"
   ]
  },
  {
   "cell_type": "code",
   "execution_count": 6,
   "metadata": {},
   "outputs": [
    {
     "name": "stdout",
     "output_type": "stream",
     "text": [
      "  Coeff. name  Coeff. value\n",
      "0   Intercept     25.537806\n",
      "1     NumExpl      0.003894\n",
      "2      Margin      0.095724\n",
      "3      IPCost      0.216348\n"
     ]
    }
   ],
   "source": [
    "linmodel=LinRegr()\n",
    "linmodel.fit(Xdot,y_)\n",
    "coeff_list=[\"Intercept\",\"NumExpl\",\"Margin\",\"IPCost\"]\n",
    "table=pd.DataFrame(columns=[\"Coeff. name\",\"Coeff. value\"])\n",
    "for i in range(4):\n",
    "    table=table.append({\"Coeff. name\":coeff_list[i],\"Coeff. value\":float(linmodel.w_[i])},ignore_index=True)\n",
    "print(table)"
   ]
  },
  {
   "cell_type": "markdown",
   "metadata": {},
   "source": [
    "Based on the outcome of the multiple linear regression, we might draw the following conclusions: \n",
    "- For each additional employee, expect an increase of 0.00389 unit in salary (the other variables held constant).\n",
    "- For each additional unit increase in profit margin, expect an increase of 0.0957 unit in salary (the other variables held constant).\n",
    "- For each additional unit increase in information processing cost, expect an increase of 0.216 unit in salary (the other variables held constant).\n",
    "\n",
    "(The intercept term is 25.537.)\n",
    "\n",
    "Before sitting back with satisfaction, let's check for outliers."
   ]
  },
  {
   "cell_type": "markdown",
   "metadata": {},
   "source": [
    "## 3. Properties of the leverages <a name=\"Leverages\"></a>\n",
    "\n",
    "Let's begin our exploration by checking the properties of the leverages.\n",
    "\n",
    "First, calculate the hat matrix as defined in the book<br>\n",
    "$\\mathbf{H}=\\mathbf{\\dot X}(\\mathbf{\\dot X}^\\top\\mathbf{\\dot X})^{-1}\\mathbf{\\dot X}^\\top$ <br>\n",
    "and then extract the leverages as the diagonal elements of the hat matrix.\n",
    "\n",
    "**Note:** *Again, you can see how easily can the mathematical formula transformed into a single line of code using Python/NumPy.*"
   ]
  },
  {
   "cell_type": "code",
   "execution_count": 7,
   "metadata": {},
   "outputs": [
    {
     "name": "stdout",
     "output_type": "stream",
     "text": [
      "Shape of the hat matrix is: (67, 67)\n",
      "Leverages:\n",
      "[[0.04188917]\n",
      " [0.03777756]\n",
      " [0.02890477]\n",
      " [0.01917272]\n",
      " [0.05833553]\n",
      " [0.06386221]\n",
      " [0.03935773]\n",
      " [0.05173299]\n",
      " [0.03367611]\n",
      " [0.03380164]\n",
      " [0.06218134]\n",
      " [0.38871639]\n",
      " [0.02229045]\n",
      " [0.03126344]\n",
      " [0.12209413]\n",
      " [0.0246209 ]\n",
      " [0.04427038]\n",
      " [0.09239715]\n",
      " [0.04832463]\n",
      " [0.03914992]\n",
      " [0.04338279]\n",
      " [0.05320706]\n",
      " [0.03623773]\n",
      " [0.02204059]\n",
      " [0.0418317 ]\n",
      " [0.03138904]\n",
      " [0.06753806]\n",
      " [0.04420728]\n",
      " [0.05281551]\n",
      " [0.03696523]\n",
      " [0.03656846]\n",
      " [0.08189284]\n",
      " [0.02377036]\n",
      " [0.05235004]\n",
      " [0.03445741]\n",
      " [0.04263294]\n",
      " [0.03767132]\n",
      " [0.17651148]\n",
      " [0.05535613]\n",
      " [0.04023005]\n",
      " [0.09293535]\n",
      " [0.02564033]\n",
      " [0.05306908]\n",
      " [0.02625395]\n",
      " [0.04390443]\n",
      " [0.06110537]\n",
      " [0.02915441]\n",
      " [0.03479627]\n",
      " [0.0206523 ]\n",
      " [0.01960836]\n",
      " [0.06172596]\n",
      " [0.04550285]\n",
      " [0.05412706]\n",
      " [0.06228587]\n",
      " [0.05894141]\n",
      " [0.25987716]\n",
      " [0.09605832]\n",
      " [0.02430931]\n",
      " [0.17524523]\n",
      " [0.02559875]\n",
      " [0.11128988]\n",
      " [0.03754444]\n",
      " [0.04890598]\n",
      " [0.15800066]\n",
      " [0.04244252]\n",
      " [0.02087551]\n",
      " [0.01527406]]\n"
     ]
    }
   ],
   "source": [
    "H=Xdot@inv(Xdot.T@Xdot)@Xdot.T\n",
    "yhat_=H@y_\n",
    "print(\"Shape of the hat matrix is:\",H.shape)\n",
    "h_=np.diag(H)[:,np.newaxis]\n",
    "print(\"Leverages:\")\n",
    "print(h_)"
   ]
  },
  {
   "cell_type": "markdown",
   "metadata": {},
   "source": [
    "As we proved in the book, all the diagonal elements of the hat matrix lying between 0 and 1. Now, calculate the sum of the leverages and compare with the rank of the hat matrix $\\mathbf H$:"
   ]
  },
  {
   "cell_type": "code",
   "execution_count": 8,
   "metadata": {},
   "outputs": [
    {
     "name": "stdout",
     "output_type": "stream",
     "text": [
      "Rank of matrix H is 4.000000 and the sum of leverages is 4.000000\n"
     ]
    }
   ],
   "source": [
    "rankH=np.linalg.matrix_rank(H) \n",
    "Sum_h=np.sum(h_)            \n",
    "print(\"Rank of matrix H is {0:f} and the sum of leverages is {1:f}\".format(rankH,Sum_h))"
   ]
  },
  {
   "cell_type": "markdown",
   "metadata": {},
   "source": [
    "And indeed, the sum of leverages is equal to the rank of the hat matrix, which in turn is equal to the number of regression coefficients, including the intercept term. We also proved in the book that the average of leverages is equal to the rank of matrix $\\mathbf H$ divided by the number of observations. As a reminder, the average value of the leverages can be used to identify potential influential points."
   ]
  },
  {
   "cell_type": "code",
   "execution_count": 9,
   "metadata": {},
   "outputs": [
    {
     "name": "stdout",
     "output_type": "stream",
     "text": [
      "Number of model parameters divided by the number of observations is 0.059701 while the average of leverages is 0.059701\n"
     ]
    }
   ],
   "source": [
    "rankHperObs=matrix_rank(H)/N  # rank of H divided by the number of observations including the intercept\n",
    "levAvg=np.sum(h_)/len(h_)  # Average value of the leverages\n",
    "print(\"Number of model parameters divided by the number of observations is {0:f} while the average of leverages is {1:f}\".\\\n",
    "      format(rankHperObs,levAvg))"
   ]
  },
  {
   "cell_type": "markdown",
   "metadata": {},
   "source": [
    "As we expected, the average of leverages is equal to the ratio of the number of model parameters to the number of observations. \n",
    "\n",
    "The third property of the leverages is that leverages are proportional to the Mahalanobis distances of the observations from the centroid of the data. To check this for this particular dataset, let's create the vector of mean values of the observations (centroid) and the centered input matrix:\n",
    "\n",
    "**Note:** *When using the \"mean\" method, we should set the axis=0 to calculate the mean of the features and not the mean of each observation! We should also be careful to append the additional dimension, so we end up in a mean (column) vector. This is important for the NumPy broadcasting to work properly when centering the data.*"
   ]
  },
  {
   "cell_type": "code",
   "execution_count": 10,
   "metadata": {},
   "outputs": [
    {
     "name": "stdout",
     "output_type": "stream",
     "text": [
      "Mean vector (centroid of the data) is:\n",
      " [[85.94029851]\n",
      " [19.0880597 ]\n",
      " [ 7.6938806 ]]\n",
      "\n",
      "Checking if the sum of the centered input values for each independent variable is zero:\n",
      " [ 2.98427949e-13 -1.77635684e-13 -1.15463195e-14]\n"
     ]
    }
   ],
   "source": [
    "mu_=X.mean(axis=0)[:,np.newaxis]\n",
    "print(\"Mean vector (centroid of the data) is:\\n\",mu_)\n",
    "Xcenter=X-mu_.T\n",
    "\n",
    "print(\"\\nChecking if the sum of the centered input values for each independent variable is zero:\\n\",np.sum(Xcenter,axis=0))"
   ]
  },
  {
   "cell_type": "markdown",
   "metadata": {},
   "source": [
    "Calculating the sample covariance matrix using the formula derived in the book:<br>\n",
    "$\\mathbf S=\\frac{1}{N-1}(\\mathbf {X}-\\boldsymbol\\mu^\\top)^\\top(\\mathbf {X}-\\boldsymbol\\mu^\\top)$"
   ]
  },
  {
   "cell_type": "code",
   "execution_count": 11,
   "metadata": {},
   "outputs": [
    {
     "name": "stdout",
     "output_type": "stream",
     "text": [
      "[[ 5.22263275e+03  2.54776119e+00 -1.64423406e+01]\n",
      " [ 2.54776119e+00  1.59198553e+01  4.49178946e+00]\n",
      " [-1.64423406e+01  4.49178946e+00  4.48691805e+00]]\n"
     ]
    }
   ],
   "source": [
    "S=1/(N-1)*(X-mu_.T).T@(X-mu_.T)\n",
    "print(S)"
   ]
  },
  {
   "cell_type": "markdown",
   "metadata": {},
   "source": [
    "The covariance matrix can be calculated also using the \"cov\" method of the NumPy library.\n",
    "\n",
    "**Note:** *Setting ddof parameter to one we ask for the unbiased version of the covariance matrix.*"
   ]
  },
  {
   "cell_type": "code",
   "execution_count": 12,
   "metadata": {},
   "outputs": [
    {
     "data": {
      "text/plain": [
       "array([[ 5.22263275e+03,  2.54776119e+00, -1.64423406e+01],\n",
       "       [ 2.54776119e+00,  1.59198553e+01,  4.49178946e+00],\n",
       "       [-1.64423406e+01,  4.49178946e+00,  4.48691805e+00]])"
      ]
     },
     "execution_count": 12,
     "metadata": {},
     "output_type": "execute_result"
    }
   ],
   "source": [
    "np.cov(X,rowvar=False,ddof=1)"
   ]
  },
  {
   "cell_type": "markdown",
   "metadata": {},
   "source": [
    "Now calculate the square of the Mahalanobis distance of the observations from the centroid of the input as defined in the book."
   ]
  },
  {
   "cell_type": "code",
   "execution_count": 13,
   "metadata": {},
   "outputs": [
    {
     "name": "stdout",
     "output_type": "stream",
     "text": [
      "Mahalanobis distance of the observations from the centroid (mean of the input):\n",
      "[[1.77961059e+00]\n",
      " [1.50824459e+00]\n",
      " [9.22640072e-01]\n",
      " [2.80325190e-01]\n",
      " [2.86507037e+00]\n",
      " [3.22983098e+00]\n",
      " [1.61253587e+00]\n",
      " [2.42930281e+00]\n",
      " [1.23754833e+00]\n",
      " [1.24583378e+00]\n",
      " [3.11889352e+00]\n",
      " [2.46702069e+01]\n",
      " [4.86094756e-01]\n",
      " [1.07831225e+00]\n",
      " [7.07313765e+00]\n",
      " [6.39905075e-01]\n",
      " [1.93677016e+00]\n",
      " [5.11313707e+00]\n",
      " [2.20435105e+00]\n",
      " [1.59881993e+00]\n",
      " [1.87818967e+00]\n",
      " [2.52659103e+00]\n",
      " [1.40661541e+00]\n",
      " [4.69604119e-01]\n",
      " [1.77581757e+00]\n",
      " [1.08660201e+00]\n",
      " [3.47243747e+00]\n",
      " [1.93260582e+00]\n",
      " [2.50074929e+00]\n",
      " [1.45463048e+00]\n",
      " [1.42844398e+00]\n",
      " [4.41985302e+00]\n",
      " [5.83769196e-01]\n",
      " [2.47002774e+00]\n",
      " [1.28911453e+00]\n",
      " [1.82869922e+00]\n",
      " [1.50123263e+00]\n",
      " [1.06646833e+01]\n",
      " [2.66842993e+00]\n",
      " [1.67010853e+00]\n",
      " [5.14865848e+00]\n",
      " [7.07187182e-01]\n",
      " [2.51748450e+00]\n",
      " [7.47686281e-01]\n",
      " [1.91261802e+00]\n",
      " [3.04787953e+00]\n",
      " [9.39116171e-01]\n",
      " [1.31147897e+00]\n",
      " [3.77977470e-01]\n",
      " [3.09077228e-01]\n",
      " [3.08883862e+00]\n",
      " [2.01811366e+00]\n",
      " [2.58731155e+00]\n",
      " [3.12579250e+00]\n",
      " [2.90505838e+00]\n",
      " [1.61668182e+01]\n",
      " [5.35477453e+00]\n",
      " [6.19340045e-01]\n",
      " [1.05811107e+01]\n",
      " [7.04443188e-01]\n",
      " [6.36005713e+00]\n",
      " [1.49285850e+00]\n",
      " [2.24272000e+00]\n",
      " [9.44296913e+00]\n",
      " [1.81613167e+00]\n",
      " [3.92709329e-01]\n",
      " [2.30131988e-02]]\n"
     ]
    }
   ],
   "source": [
    "dM2_=np.array([(X-mu_.T)[i,:].T@inv(S)@(X-mu_.T)[i,:] for i in range(N)])[:,np.newaxis]\n",
    "print(\"Mahalanobis distance of the observations from the centroid (mean of the input):\")\n",
    "print(dM2_)"
   ]
  },
  {
   "cell_type": "markdown",
   "metadata": {},
   "source": [
    "Check if Mahalanobis distances are proportional with the leverages as derived in the book<br>\n",
    "$(d_M^{(i)})^2=(N-1)\\left(h_i -\\frac{1}{N}\\right);\\quad i=\\overline{1,N}$<br>\n",
    "This can be done by checking whether the difference between the left and right-hand side of the equation is zero. If we sum up the absolute value of the differences, then this should be equal to zero."
   ]
  },
  {
   "cell_type": "code",
   "execution_count": 14,
   "metadata": {},
   "outputs": [
    {
     "name": "stdout",
     "output_type": "stream",
     "text": [
      "Checking the relation between Mahalanobis distance and leverage by taking the sum of absolute differences: 1.1440327851719445e-12\n"
     ]
    }
   ],
   "source": [
    "print(\"Checking the relation between Mahalanobis distance and leverage by taking the sum of absolute differences:\"\\\n",
    "      ,np.sum(np.abs((N-1)*(h_-1/N)-dM2_)))"
   ]
  },
  {
   "cell_type": "markdown",
   "metadata": {},
   "source": [
    "Indeed, the sum of the differences is zero (except for the rounding error), so the relation above holds for this dataset. \n",
    "\n",
    "You can get the leverages using *statsmodels* library."
   ]
  },
  {
   "cell_type": "code",
   "execution_count": 15,
   "metadata": {},
   "outputs": [
    {
     "data": {
      "text/plain": [
       "array([0.04188917, 0.03777756, 0.02890477, 0.01917272, 0.05833553,\n",
       "       0.06386221, 0.03935773, 0.05173299, 0.03367611, 0.03380164,\n",
       "       0.06218134, 0.38871639, 0.02229045, 0.03126344, 0.12209413,\n",
       "       0.0246209 , 0.04427038, 0.09239715, 0.04832463, 0.03914992,\n",
       "       0.04338279, 0.05320706, 0.03623773, 0.02204059, 0.0418317 ,\n",
       "       0.03138904, 0.06753806, 0.04420728, 0.05281551, 0.03696523,\n",
       "       0.03656846, 0.08189284, 0.02377036, 0.05235004, 0.03445741,\n",
       "       0.04263294, 0.03767132, 0.17651148, 0.05535613, 0.04023005,\n",
       "       0.09293535, 0.02564033, 0.05306908, 0.02625395, 0.04390443,\n",
       "       0.06110537, 0.02915441, 0.03479627, 0.0206523 , 0.01960836,\n",
       "       0.06172596, 0.04550285, 0.05412706, 0.06228587, 0.05894141,\n",
       "       0.25987716, 0.09605832, 0.02430931, 0.17524523, 0.02559875,\n",
       "       0.11128988, 0.03754444, 0.04890598, 0.15800066, 0.04244252,\n",
       "       0.02087551, 0.01527406])"
      ]
     },
     "execution_count": 15,
     "metadata": {},
     "output_type": "execute_result"
    }
   ],
   "source": [
    "result.get_influence().hat_matrix_diag"
   ]
  },
  {
   "cell_type": "markdown",
   "metadata": {},
   "source": [
    "If you wish, you may check if the values calculated previously match the ones provided by statsmodels."
   ]
  },
  {
   "cell_type": "code",
   "execution_count": 16,
   "metadata": {},
   "outputs": [
    {
     "data": {
      "text/plain": [
       "1.5917822615563182e-14"
      ]
     },
     "execution_count": 16,
     "metadata": {},
     "output_type": "execute_result"
    }
   ],
   "source": [
    "np.sum(np.abs(h_-result.get_influence().hat_matrix_diag[:,np.newaxis]))"
   ]
  },
  {
   "cell_type": "markdown",
   "metadata": {},
   "source": [
    "Now, that we checked the properties of the leverages, let's start our analysis of potential outliers and influential points."
   ]
  },
  {
   "cell_type": "markdown",
   "metadata": {},
   "source": [
    "## 4. Check for unusual observations <a name=\"UnusualObservations\"></a>\n",
    "\n",
    "We should check whether there is no outlier in the dataset that might be also an influential point. Remember, an influential point is an observation that affects greatly the regression model.\n",
    "\n",
    "### Analysing the leverages\n",
    "\n",
    "Check for high leverage points ($h_{ii}>3\\cdot h_{avg}$):"
   ]
  },
  {
   "cell_type": "code",
   "execution_count": 17,
   "metadata": {},
   "outputs": [
    {
     "name": "stdout",
     "output_type": "stream",
     "text": [
      "Index of observations with high leverages: [12 56]\n"
     ]
    }
   ],
   "source": [
    "idx_X=np.argwhere(h_>3*levAvg)[:,0]\n",
    "print(\"Index of observations with high leverages:\",idx_X+1)"
   ]
  },
  {
   "cell_type": "markdown",
   "metadata": {},
   "source": [
    "Thus, there are 2 observations with high leverage."
   ]
  },
  {
   "cell_type": "markdown",
   "metadata": {},
   "source": [
    "### Analysing the residuals\n",
    "\n",
    "Calculate the residuals, the standard residuals, and the studentized residuals to identify potential outliers. We can use the derived formulas from the book:\n",
    "1. residuals: $\\mathbf r=(\\mathbf I-\\mathbf H)\\mathbf y$\n",
    "2. standardized residuals (internally studentized residuals): $\\mathbf r_\\text{std}=\\frac{\\mathbf r}{\\hat\\sigma\\sqrt{\\mathbf{diag}(\\mathbf I-\\mathbf H)}}$\n",
    "3. studentized residuals (externally studentized residuals): $d_*^{(i)}=r^{(i)}\\left[\\frac{(N-D-2)}{(1-h_i)\\mathsf{SSE}-(r^{(i)})^2} \\right]^\\frac{1}{2}$ where $\\mathsf{SSE}=\\mathbf r^\\top\\mathbf r$\n",
    "\n",
    "Again, converting the mathematical formulas to Python/NumPy is straightforward."
   ]
  },
  {
   "cell_type": "code",
   "execution_count": 18,
   "metadata": {},
   "outputs": [
    {
     "name": "stdout",
     "output_type": "stream",
     "text": [
      "MSE = 0.9997311115209232\n"
     ]
    }
   ],
   "source": [
    "I=np.eye(N)\n",
    "r_=(I-H)@y_                                                                                                       # (1.)\n",
    "MSE=np.squeeze(r_.T@r_/(N-D-1))\n",
    "print(\"MSE =\",MSE)\n",
    "rstd_=r_/np.sqrt(MSE*np.diag(I-H)[:,np.newaxis])                                                                  # (2.)\n",
    "SSE=r_.T@r_\n",
    "rstud_=np.array([float(r_[i,0]*np.sqrt((N-D-2)/((1-h_[i,0])*SSE-r_[i,0]**2))) for i in range(N)])[:,np.newaxis]   # (3.)"
   ]
  },
  {
   "cell_type": "markdown",
   "metadata": {},
   "source": [
    "Check for high studentized residuals ($|r_{stud}|>2$) and save the index of the observations."
   ]
  },
  {
   "cell_type": "code",
   "execution_count": 19,
   "metadata": {},
   "outputs": [
    {
     "name": "stdout",
     "output_type": "stream",
     "text": [
      "Index of high studentized residuals: [ 7 37 46 66]\n"
     ]
    }
   ],
   "source": [
    "idx_R=np.where(np.abs(rstud_)>2.0)[0]\n",
    "print(\"Index of high studentized residuals:\",idx_R+1)"
   ]
  },
  {
   "cell_type": "markdown",
   "metadata": {},
   "source": [
    "Print out the obtained residuals, standardized residuals, and studentized residuals for each observation and compare them visually."
   ]
  },
  {
   "cell_type": "code",
   "execution_count": 20,
   "metadata": {},
   "outputs": [
    {
     "name": "stdout",
     "output_type": "stream",
     "text": [
      "Index  Residual  Std. resid.  Student. resid.           Note\n",
      "    1 -0.314460    -0.321304        -0.319005               \n",
      "    2 -0.062267    -0.063486        -0.062982               \n",
      "    3  0.303947     0.308479         0.306252               \n",
      "    4 -0.210901    -0.212981        -0.211360               \n",
      "    5  0.273876     0.282269         0.280198               \n",
      "    6  1.036737     1.071660         1.072946               \n",
      "    7 -2.304046    -2.351087        -2.441940  High Residual\n",
      "    8 -0.812354    -0.834331        -0.832294               \n",
      "    9  1.592475     1.620204         1.641864               \n",
      "   10 -0.857611    -0.872600        -0.870926               \n",
      "   11  0.941752     0.972603         0.972180               \n",
      "   12 -0.806403    -1.031548        -1.032081               \n",
      "   13 -0.181870    -0.183956        -0.182540               \n",
      "   14  0.413100     0.419769         0.417008               \n",
      "   15  1.514139     1.616219         1.637651               \n",
      "   16  1.019221     1.032144         1.032688               \n",
      "   17  0.920260     0.941459         0.940597               \n",
      "   18  0.482485     0.506517         0.503507               \n",
      "   19  0.187262     0.191983         0.190509               \n",
      "   20  0.058507     0.059695         0.059221               \n",
      "   21  0.193881     0.198255         0.196737               \n",
      "   22  0.422208     0.433967         0.431154               \n",
      "   23 -0.338993    -0.345354        -0.342927               \n",
      "   24 -0.823447    -0.832787        -0.830736               \n",
      "   25  0.771871     0.788646         0.786252               \n",
      "   26  0.401994     0.408510         0.405793               \n",
      "   27 -0.109330    -0.113235        -0.112344               \n",
      "   28  0.852738     0.872353         0.870676               \n",
      "   29 -0.355141    -0.364957        -0.362432               \n",
      "   30  0.745313     0.759585         0.757007               \n",
      "   31  0.166356     0.169507         0.168195               \n",
      "   32  1.234738     1.288803         1.295728               \n",
      "   33 -0.428739    -0.433986        -0.431173               \n",
      "   34 -0.177573    -0.182437        -0.181031               \n",
      "   35 -0.828564    -0.843333        -0.841375               \n",
      "   36 -0.605178    -0.618590        -0.615533               \n",
      "   37 -1.940746    -1.978633        -2.026854  High Residual\n",
      "   38  0.320370     0.353087         0.350621               \n",
      "   39  1.220952     1.256386         1.262289               \n",
      "   40 -1.550308    -1.582679        -1.602243               \n",
      "   41  0.207164     0.217547         0.215895               \n",
      "   42 -0.545378    -0.552582        -0.549512               \n",
      "   43  0.351236     0.360993         0.358488               \n",
      "   44  0.268413     0.272044         0.270035               \n",
      "   45 -0.870703    -0.890590        -0.889108               \n",
      "   46 -2.726478    -2.814181        -2.985722  High Residual\n",
      "   47 -1.419658    -1.441010        -1.453686               \n",
      "   48 -1.019846    -1.038206        -1.038858               \n",
      "   49  0.924564     0.934387         0.933432               \n",
      "   50  1.538278     1.553794         1.571825               \n",
      "   51 -0.917446    -0.947271        -0.946487               \n",
      "   52  0.050565     0.051764         0.051352               \n",
      "   53  0.735879     0.756743         0.754149               \n",
      "   54  0.466237     0.481537         0.478581               \n",
      "   55 -1.026036    -1.057822        -1.058839               \n",
      "   56  1.671181     1.942809         1.987795               \n",
      "   57 -0.776457    -0.816781        -0.814597               \n",
      "   58 -0.083236    -0.084277        -0.083611               \n",
      "   59  0.095743     0.105440         0.104609               \n",
      "   60 -1.580822    -1.601668        -1.622278               \n",
      "   61 -0.296808    -0.314886        -0.312623               \n",
      "   62  1.531894     1.561697         1.580141               \n",
      "   63  0.316102     0.324170         0.321856               \n",
      "   64 -0.786314    -0.857035        -0.855206               \n",
      "   65  0.164316     0.167941         0.166640               \n",
      "   66  2.216073     2.239874         2.316164  High Residual\n",
      "   67 -0.854715    -0.861434        -0.859648               \n"
     ]
    }
   ],
   "source": [
    "table=pd.DataFrame(columns=['Index','Residual','Std. resid.','Student. resid.','Note'])\n",
    "for i in range(N):\n",
    "    table=table.append({'Index':i+1,'Residual':r_[i,0],'Std. resid.':rstd_[i,0],'Student. resid.':rstud_[i,0],\\\n",
    "                       'Note': 'High Residual' if i in idx_R else ' '}, ignore_index=True)\n",
    "print(table.to_string(index=False))"
   ]
  },
  {
   "cell_type": "markdown",
   "metadata": {},
   "source": [
    "What we can observe that for residuals with an absolute value much lower than the threshold of 2, the standardized and studentized residuals are around the same as the residuals. However, for residuals with higher absolute values, the standardized, and especially the studentized residuals become even higher in absolute value. For instance, the observation with index 37 has a residual of -1.94, and a standardized residual of -1.98, which still bellows the threshold of 2, however, the studentized residual is pushed just above the threshold, being -2.03.\n",
    "\n",
    "We can get the internally and externally studentized residuals of the model using the statsmodels library. Below, we compare the values provided by the statsmodels library against our calculation."
   ]
  },
  {
   "cell_type": "code",
   "execution_count": 21,
   "metadata": {},
   "outputs": [
    {
     "name": "stdout",
     "output_type": "stream",
     "text": [
      "Sum of absolute differences of residuals = 4.562017430487231e-12\n",
      "Sum of absolute differences for internally studentized residuals = 4.764993954964325e-12\n",
      "Sum of absolute differences for externally studentized residuals = 4.8550122255797135e-12\n"
     ]
    }
   ],
   "source": [
    "# result.resid provides the residuals\n",
    "resid_=np.array(result.resid)[:,np.newaxis]\n",
    "print(\"Sum of absolute differences of residuals =\",np.sum(np.abs(r_-resid_)))\n",
    "\n",
    "# result.get_influence().resid_studentized_internal provides the internally studentized residuals\n",
    "rstd2_=result.get_influence().resid_studentized_internal[:,np.newaxis]\n",
    "print(\"Sum of absolute differences for internally studentized residuals =\",np.sum(np.abs(rstd2_-rstd_)))\n",
    "\n",
    "# result.get_influence().resid_studentized_external provides the externally studentized residuals\n",
    "rstud2_=result.get_influence().resid_studentized_external[:,np.newaxis]\n",
    "print(\"Sum of absolute differences for externally studentized residuals =\",np.sum(np.abs(rstud2_-rstud_)))"
   ]
  },
  {
   "cell_type": "markdown",
   "metadata": {},
   "source": [
    "We identified 4 observations with high residuals (outlier in 'y' direction) and two observations with high leverage (outlier in 'x' direction). Next, we check the techniques discussed in the book."
   ]
  },
  {
   "cell_type": "markdown",
   "metadata": {},
   "source": [
    "### DFBETAS\n",
    "\n",
    "The difference in betas (DFBETAS) is a measure of the influence of the $i$-th observation on all the regression coefficients (a measure of the influence of the i-th observation on each regression coefficient is the difference between the estimated regression coefficient based on all $N$ observations and the regression coefficient obtained when the $i$-th\n",
    "observation is omitted). In the book, a formula is derived, which does not require to calculate the regression model $N$ times. DFBETAS for the $i$-th observation omitted can be calculated as:\n",
    "\n",
    "$\\text{DFBETAS}^{(i)}=\\frac{(\\mathbf {\\dot X}^\\top\\mathbf {\\dot X}^{-1}\\mathbf {\\dot x}^{(i)}d_*^{(i)}}{\\sqrt{(1-h_i)\\mathsf{diag}((\\mathbf {\\dot X}^\\top\\mathbf {\\dot X})^{-1})}}$\n",
    "\n",
    "where $d_*^{(i)}$ represents the studentized residuals. For influential observations, let's build the DFBETAS matrix, where each row represents the DFBETAS for an observation, thus, the matrix will have $N$ rows and $D+1$ columns:"
   ]
  },
  {
   "cell_type": "code",
   "execution_count": 22,
   "metadata": {},
   "outputs": [
    {
     "name": "stdout",
     "output_type": "stream",
     "text": [
      "[[ 6.09264044e-03  8.63645465e-03  2.46088784e-02 -5.11141487e-02]\n",
      " [-3.05787450e-03  4.27102151e-03  6.36975262e-03 -7.63283638e-03]\n",
      " [-3.62934396e-03  2.26039832e-02  2.26794319e-02 -2.28748950e-02]\n",
      " [-1.02453335e-04  7.27748660e-03 -1.23160874e-02  8.25182670e-03]\n",
      " [ 2.65858869e-02 -2.60664722e-02  3.08578995e-02 -5.71930261e-02]\n",
      " [-1.76212743e-01  1.54577935e-01  4.35745624e-02  1.43950609e-01]\n",
      " [ 1.82673077e-01  1.97940748e-01 -3.22587678e-01  7.71050791e-02]\n",
      " [ 8.96277683e-02  5.79951749e-02 -3.50296451e-02 -1.02406858e-01]\n",
      " [ 1.37644749e-01 -7.13426325e-02  9.40031439e-02 -2.22724281e-01]\n",
      " [-1.19372359e-01  3.71128557e-02  1.16278539e-02  9.38040337e-02]\n",
      " [-1.11759623e-01  4.16821162e-02  2.09460676e-01 -1.22753020e-01]\n",
      " [-1.06190698e-01 -7.14453421e-01  4.29469783e-01 -2.73016109e-01]\n",
      " [ 9.19364779e-03 -5.47976627e-03 -2.61645476e-03 -1.13309523e-02]\n",
      " [-3.25404849e-02 -1.78382811e-02  4.43857706e-02 -2.00465831e-03]\n",
      " [ 6.60904097e-02  1.34155729e-01 -4.57110530e-01  5.30572696e-01]\n",
      " [ 6.83705062e-02 -8.62727158e-02  2.82694270e-02 -6.63509840e-02]\n",
      " [ 2.48970657e-02 -1.00446314e-01  1.18151783e-01 -1.29964593e-01]\n",
      " [ 1.42310205e-01 -3.48387548e-02 -1.30684345e-01  2.37526454e-02]\n",
      " [-1.12673380e-03 -1.40728191e-02 -1.51844059e-02  3.06220149e-02]\n",
      " [ 8.94319099e-04  4.18440733e-04 -6.60520677e-03  9.14710914e-03]\n",
      " [-2.02968770e-02  1.37264485e-02  2.97863352e-02 -1.26638971e-02]\n",
      " [-5.25305211e-03 -4.54554165e-02  7.26868021e-02 -6.38155409e-02]\n",
      " [ 3.76204337e-02 -5.63580322e-03 -1.68490543e-02 -3.15955241e-02]\n",
      " [ 4.72057298e-02 -2.08221806e-02 -5.67800217e-02 -4.22985236e-04]\n",
      " [ 8.55271659e-02 -5.13611440e-02  4.39301632e-02 -1.24055538e-01]\n",
      " [-2.50838020e-02 -2.29987625e-02  1.53296096e-02  2.81530912e-02]\n",
      " [ 1.48439536e-02 -8.39009985e-04  1.87550059e-03 -2.34104967e-02]\n",
      " [-1.16684399e-01 -2.06897761e-02  1.13295195e-01  2.32493052e-02]\n",
      " [ 3.01019800e-02  2.95239111e-02 -6.80982272e-02  3.41983313e-02]\n",
      " [-5.89761259e-02 -5.62287439e-02  5.01568608e-02  4.27563265e-02]\n",
      " [-1.54516937e-02 -9.46307337e-03  1.34556897e-02  8.46694027e-03]\n",
      " [ 8.24956372e-02 -6.27981981e-02 -2.70380082e-01  3.09768123e-01]\n",
      " [-4.43350416e-02 -1.15545547e-02  3.04235597e-02  4.67293029e-03]\n",
      " [-7.59483242e-04  1.89343909e-02 -2.88758405e-02  2.82673694e-02]\n",
      " [ 5.23187132e-02 -5.45915084e-03  1.80471581e-02 -1.09301928e-01]\n",
      " [-9.75668500e-02  4.16493147e-03  1.01395373e-01 -3.37433148e-02]\n",
      " [ 1.28636011e-02  1.71960409e-01  8.37890200e-02 -2.30864669e-01]\n",
      " [ 1.61014188e-01 -3.95018657e-02 -1.07020685e-01 -3.25143354e-02]\n",
      " [-8.89885153e-02 -8.62480957e-02 -3.60499286e-02  2.14998567e-01]\n",
      " [-1.78719463e-01  1.40966907e-01  2.01828724e-01 -1.33411191e-01]\n",
      " [ 2.12793870e-02  5.46927600e-02 -2.23222620e-02 -5.28101260e-03]\n",
      " [-1.53356319e-02 -2.67068053e-02 -2.79694773e-02  4.69502736e-02]\n",
      " [-2.47605942e-03  2.95200491e-02  4.80880087e-02 -5.78442478e-02]\n",
      " [ 1.92917881e-02  1.51421782e-02 -4.15036423e-04 -1.92834392e-02]\n",
      " [-7.66762508e-02  5.48234226e-02  1.26295476e-01 -1.13483166e-01]\n",
      " [-4.69036053e-01 -1.62882233e-01  1.59395345e-03  5.23146823e-01]\n",
      " [-2.02361134e-01  7.34517355e-02  8.11616846e-02  7.63708489e-02]\n",
      " [ 1.09550723e-01 -2.58788930e-02 -4.60944565e-02 -9.43969202e-02]\n",
      " [ 2.61401393e-02 -6.98059684e-02  1.83294131e-02 -9.77268144e-03]\n",
      " [ 8.18651175e-02  5.79416932e-02  1.62611361e-03 -7.25675000e-02]\n",
      " [ 1.10197230e-01  6.12794964e-02 -1.72831489e-02 -1.54829604e-01]\n",
      " [ 8.69437754e-03 -1.76630816e-03 -1.12321127e-03 -7.06565218e-03]\n",
      " [ 1.28638263e-02  1.23957541e-01  3.44351407e-02 -7.32734530e-02]\n",
      " [ 1.16578899e-01 -2.25200758e-02 -6.28546408e-02 -3.83765208e-02]\n",
      " [ 7.72158446e-03 -1.99795942e-01  1.08975916e-01 -1.27214247e-01]\n",
      " [-3.92346679e-01  1.10547799e+00  2.03407231e-01 -3.43912297e-02]\n",
      " [ 1.44286369e-02  3.71458618e-02 -2.07243503e-01  2.19651177e-01]\n",
      " [ 3.18806207e-03  2.70663723e-03 -9.62115323e-04 -5.71335049e-03]\n",
      " [ 4.36842655e-02 -1.46122739e-02 -1.15173953e-02 -3.03912018e-02]\n",
      " [ 9.57973239e-02 -3.83327154e-02 -1.59630801e-01  5.79203589e-02]\n",
      " [-9.70241552e-02  2.84184400e-02  9.14793304e-02 -1.98020484e-02]\n",
      " [ 1.19589120e-01 -1.36222659e-01 -1.65085427e-01  1.54691460e-01]\n",
      " [ 4.87290452e-02 -3.51090420e-02  6.32642555e-03 -4.81441398e-02]\n",
      " [ 1.17471792e-01 -2.85491538e-01 -1.67402428e-01  1.30412618e-01]\n",
      " [-1.13427970e-02 -1.58742249e-02  2.34086419e-02 -7.78061939e-03]\n",
      " [ 1.48066690e-01 -1.71177539e-01 -3.87821832e-02 -1.49404859e-02]\n",
      " [-2.26284204e-02  1.18522557e-02  6.75778339e-03 -9.09120861e-03]]\n",
      "Shape: (67, 4)\n"
     ]
    }
   ],
   "source": [
    "DFBETAS=np.squeeze(np.array([inv(Xdot.T@Xdot)@(Xdot[i][:,np.newaxis])*float(rstud_[i])/\\\n",
    "                             np.sqrt((1-h_[i])*np.diag(inv(Xdot.T@Xdot))[:,np.newaxis]) for i in range(N)]))\n",
    "print(DFBETAS)\n",
    "print(\"Shape:\",DFBETAS.shape)"
   ]
  },
  {
   "cell_type": "markdown",
   "metadata": {},
   "source": [
    "The DFBETAS value by its sign indicates whether the inclusion of a case leads to an increase or a decrease in the estimated regression coefficient, and its absolute magnitude shows the size of the difference relative to the estimated standard deviation of the regression coefficient.\n",
    "\n",
    "We can calculate the DFBETAS with *statsmodels* library. You may compare the calculated results with the values provided by the statsmodels library."
   ]
  },
  {
   "cell_type": "code",
   "execution_count": 23,
   "metadata": {},
   "outputs": [
    {
     "name": "stdout",
     "output_type": "stream",
     "text": [
      "Sum of absolute differences between DFBETAS = 8.625266990978757e-12\n"
     ]
    }
   ],
   "source": [
    "print(\"Sum of absolute differences between DFBETAS =\",np.sum(np.abs(result.get_influence().dfbetas-DFBETAS)))"
   ]
  },
  {
   "cell_type": "markdown",
   "metadata": {},
   "source": [
    "Check how many regression coefficients exceed the threshold imposed in the book ($\\frac{2}{\\sqrt N}$), so we can find out which observations are influencing the regression coefficients (indexes start from one):"
   ]
  },
  {
   "cell_type": "code",
   "execution_count": 24,
   "metadata": {},
   "outputs": [
    {
     "name": "stdout",
     "output_type": "stream",
     "text": [
      "Threshold for DFBETAS = 0.24433888871261045\n",
      "DFBETAS exceeding the threshold (first index - observation number, second index - index of regression coefficient):\n",
      "7 3\n",
      "12 2\n",
      "12 3\n",
      "12 4\n",
      "15 3\n",
      "15 4\n",
      "32 3\n",
      "32 4\n",
      "46 1\n",
      "46 4\n",
      "56 1\n",
      "56 2\n",
      "64 2\n"
     ]
    }
   ],
   "source": [
    "dfbetas_threshold=2/np.sqrt(N)\n",
    "print(\"Threshold for DFBETAS =\",dfbetas_threshold)\n",
    "idx_B,idx_w=np.nonzero(np.abs(DFBETAS)>dfbetas_threshold)\n",
    "print(\"DFBETAS exceeding the threshold (first index - observation number, second index - index of regression coefficient):\")\n",
    "for i,j in zip(idx_B,idx_w):\n",
    "    print(i+1,j+1)"
   ]
  },
  {
   "cell_type": "markdown",
   "metadata": {},
   "source": [
    "As you can see, there are many observations, which have an influence on the regression coefficients. "
   ]
  },
  {
   "cell_type": "markdown",
   "metadata": {},
   "source": [
    "### DFFITS\n",
    "\n",
    "Another useful measure of the influence that $i$-th observation has on the fitted value is if we calculate the difference in the predicted responses obtained when the $i$-th data point is included and excluded from the analysis. Again, there is no need to create a regression model $N$ times, we can use the formula derived in the book for the difference in fits (DFFITS):\n",
    "\n",
    "$\\mathsf{DFFITS}^{(i)}=d_*^{(i)}\\left[\\frac{h_i}{1-h_i} \\right ]^\\frac{1}{2}$\n",
    "\n",
    "where $d_*^{(i)}$ represents the studentized residuals."
   ]
  },
  {
   "cell_type": "code",
   "execution_count": 25,
   "metadata": {},
   "outputs": [
    {
     "name": "stdout",
     "output_type": "stream",
     "text": [
      "[[-0.06670234]\n",
      " [-0.01247951]\n",
      " [ 0.05283636]\n",
      " [-0.02955075]\n",
      " [ 0.06974013]\n",
      " [ 0.28023982]\n",
      " [-0.49427554]\n",
      " [-0.1943995 ]\n",
      " [ 0.30650438]\n",
      " [-0.16289852]\n",
      " [ 0.25033243]\n",
      " [-0.82301729]\n",
      " [-0.02756205]\n",
      " [ 0.07491346]\n",
      " [ 0.61072357]\n",
      " [ 0.16407198]\n",
      " [ 0.20243828]\n",
      " [ 0.16065232]\n",
      " [ 0.04292943]\n",
      " [ 0.01195406]\n",
      " [ 0.04189625]\n",
      " [ 0.10220917]\n",
      " [-0.06649628]\n",
      " [-0.12471374]\n",
      " [ 0.16428345]\n",
      " [ 0.07304979]\n",
      " [-0.03023494]\n",
      " [ 0.1872499 ]\n",
      " [-0.0855836 ]\n",
      " [ 0.14831174]\n",
      " [ 0.03276838]\n",
      " [ 0.38698154]\n",
      " [-0.06728111]\n",
      " [-0.04254878]\n",
      " [-0.15894445]\n",
      " [-0.12989261]\n",
      " [-0.40102013]\n",
      " [ 0.1623287 ]\n",
      " [ 0.30556776]\n",
      " [-0.32803496]\n",
      " [ 0.06910569]\n",
      " [-0.08914137]\n",
      " [ 0.08486638]\n",
      " [ 0.04433984]\n",
      " [-0.19052764]\n",
      " [-0.76169413]\n",
      " [-0.25191122]\n",
      " [-0.19724826]\n",
      " [ 0.13554973]\n",
      " [ 0.22229263]\n",
      " [-0.24276371]\n",
      " [ 0.0112122 ]\n",
      " [ 0.18040473]\n",
      " [ 0.12334322]\n",
      " [-0.26499144]\n",
      " [ 1.17788729]\n",
      " [-0.26554617]\n",
      " [-0.01319751]\n",
      " [ 0.04822012]\n",
      " [-0.26294551]\n",
      " [-0.11062908]\n",
      " [ 0.31208892]\n",
      " [ 0.07298451]\n",
      " [-0.37046241]\n",
      " [ 0.03508302]\n",
      " [ 0.33819631]\n",
      " [-0.10706313]]\n"
     ]
    }
   ],
   "source": [
    "dffits_=np.array([float(rstud_[i]*np.sqrt(h_[i]/(1-h_[i]))) for i in range(N)])[:,np.newaxis]\n",
    "print(dffits_)"
   ]
  },
  {
   "cell_type": "markdown",
   "metadata": {},
   "source": [
    "You can also calculate the DFFITS value with *statsmodels* library (the threshold for DFFITS is also provided by the statsmodels library which is equal to $2\\sqrt{(D+1)/N}$, as set in the book)."
   ]
  },
  {
   "cell_type": "code",
   "execution_count": 26,
   "metadata": {},
   "outputs": [
    {
     "name": "stdout",
     "output_type": "stream",
     "text": [
      "Threshold for DFFITS (book): 0.4886777774252209\n",
      "Threshold for DFFITS (statsmodels)= 0.4886777774252209\n",
      "Sum of absolute difference between the DFFITS values = 1.3633903034326877e-12\n"
     ]
    }
   ],
   "source": [
    "dffits_threshold=2*np.sqrt((D+1)/N)\n",
    "print(\"Threshold for DFFITS (book):\",dffits_threshold)\n",
    "dffits2_,dffits_threshold2=result.get_influence().dffits\n",
    "print(\"Threshold for DFFITS (statsmodels)=\",dffits_threshold2)\n",
    "print(\"Sum of absolute difference between the DFFITS values =\",np.sum(np.abs(dffits2_[:,np.newaxis]-dffits_)))"
   ]
  },
  {
   "cell_type": "markdown",
   "metadata": {},
   "source": [
    "Again, check how many of the DFFITS value exceed the threshold:"
   ]
  },
  {
   "cell_type": "code",
   "execution_count": 27,
   "metadata": {},
   "outputs": [
    {
     "name": "stdout",
     "output_type": "stream",
     "text": [
      "Threshold for DFFITS = 0.4886777774252209\n",
      "Observation indexes which DFFITS value exceeding the threshold:\n",
      " [ 7 12 15 46 56]\n"
     ]
    }
   ],
   "source": [
    "print(\"Threshold for DFFITS =\", dffits_threshold)\n",
    "idx_F=np.nonzero(np.abs(dffits_)>dffits_threshold)[0]\n",
    "print(\"Observation indexes which DFFITS value exceeding the threshold:\\n\",idx_F+1)"
   ]
  },
  {
   "cell_type": "markdown",
   "metadata": {},
   "source": [
    "Again, there are many observations, which have an influence on the fitted values. "
   ]
  },
  {
   "cell_type": "markdown",
   "metadata": {},
   "source": [
    "### Cook's distances\n",
    "\n",
    "Cook's distance measure is, in essence, a way to evaluate the overall distance between the point $\\mathbf w$ and point $\\mathbf w_{(-i)}$ (the coefficients when the $i$-th observation is omitted), but normalized by the inverse of the cross product matrix $\\mathbf {\\dot X}^\\top\\mathbf {\\dot X}$, the $(D+1)$ degrees of freedom, and the estimated standard deviation of the error. Again, using the formula derived in the book, there is no need to create a regression model $N$ times.\n",
    "\n",
    "$D_i=\\frac{(r_{std}^{(i)})^2}{D+1}\\cdot\\frac{h_i}{1-h_i}$\n",
    "\n",
    "The $D_i$ distances are monotonic increasing in the leverages, since $\\frac{h_i}{1-h_i}$ is monotonic increasing in $h_i$, over $[0, 1]$. Similarly, the $D_i$ distances are also monotonic increasing in the values of the standardized residuals, since we are here taking the square of each $r^{(i)}$. We saw in the case of simple linear regression that an influential point has both high leverage and high residuals, and as we can see, Cook's distance takes both values into account, providing higher values for larger leverage and standardized residuals.\n",
    "\n",
    "Let's calculate Cook's distance in order to have a grasp of the influential points."
   ]
  },
  {
   "cell_type": "code",
   "execution_count": 28,
   "metadata": {},
   "outputs": [
    {
     "name": "stdout",
     "output_type": "stream",
     "text": [
      "[[1.12838892e-03]\n",
      " [3.95599988e-05]\n",
      " [7.08105738e-04]\n",
      " [2.21673162e-04]\n",
      " [1.23397062e-03]\n",
      " [1.95865775e-02]\n",
      " [5.66168640e-02]\n",
      " [9.49409914e-03]\n",
      " [2.28706449e-02]\n",
      " [6.65950901e-03]\n",
      " [1.56802371e-02]\n",
      " [1.69164315e-01]\n",
      " [1.92876111e-04]\n",
      " [1.42164827e-03]\n",
      " [9.08211830e-02]\n",
      " [6.72281351e-03]\n",
      " [1.02640951e-02]\n",
      " [6.52966142e-03]\n",
      " [4.67891394e-04]\n",
      " [3.62990183e-05]\n",
      " [4.45623589e-04]\n",
      " [2.64586918e-03]\n",
      " [1.12114193e-03]\n",
      " [3.90759966e-03]\n",
      " [6.78840349e-03]\n",
      " [1.35199435e-03]\n",
      " [2.32176685e-04]\n",
      " [8.79942126e-03]\n",
      " [1.85673888e-03]\n",
      " [5.53661377e-03]\n",
      " [2.72646913e-04]\n",
      " [3.70395260e-02]\n",
      " [1.14650221e-03]\n",
      " [4.59656779e-04]\n",
      " [6.34525321e-03]\n",
      " [4.26002245e-03]\n",
      " [3.83140440e-02]\n",
      " [6.68065776e-03]\n",
      " [2.31251080e-02]\n",
      " [2.62487713e-02]\n",
      " [1.21224436e-03]\n",
      " [2.00880325e-03]\n",
      " [1.82583240e-03]\n",
      " [4.98846199e-04]\n",
      " [9.10547283e-03]\n",
      " [1.28856553e-01]\n",
      " [1.55893533e-02]\n",
      " [9.71450256e-03]\n",
      " [4.60283552e-03]\n",
      " [1.20717086e-02]\n",
      " [1.47579549e-02]\n",
      " [3.19339092e-05]\n",
      " [8.19254791e-03]\n",
      " [3.85050812e-03]\n",
      " [1.75214248e-02]\n",
      " [3.31332835e-01]\n",
      " [1.77233386e-02]\n",
      " [4.42408624e-05]\n",
      " [5.90566499e-04]\n",
      " [1.68486816e-02]\n",
      " [3.10415518e-03]\n",
      " [2.37847601e-02]\n",
      " [1.35090617e-03]\n",
      " [3.44575208e-02]\n",
      " [3.12527652e-04]\n",
      " [2.67415427e-02]\n",
      " [2.87754997e-03]]\n"
     ]
    }
   ],
   "source": [
    "cook_=np.array([float(rstd_[i]**2/(D+1)*h_[i]/(1-h_[i])) for i in range(N)])[:,np.newaxis]\n",
    "print(cook_)"
   ]
  },
  {
   "cell_type": "markdown",
   "metadata": {},
   "source": [
    "We can obtain the Cook's distances with *statsmodels* library."
   ]
  },
  {
   "cell_type": "code",
   "execution_count": 29,
   "metadata": {},
   "outputs": [
    {
     "name": "stdout",
     "output_type": "stream",
     "text": [
      "Sum of absolute difference between the Cook's distances = 2.2170615088809922e-13\n"
     ]
    }
   ],
   "source": [
    "cook2_,_=result.get_influence().cooks_distance\n",
    "print(\"Sum of absolute difference between the Cook's distances =\",np.sum(np.abs(cook2_[:,np.newaxis]-cook_)))"
   ]
  },
  {
   "cell_type": "markdown",
   "metadata": {},
   "source": [
    "Check how many of the observations has a Cook's distance exceeding the threshold for an F-statistic of 0.5."
   ]
  },
  {
   "cell_type": "code",
   "execution_count": 30,
   "metadata": {},
   "outputs": [
    {
     "name": "stdout",
     "output_type": "stream",
     "text": [
      "Threshold for Cook's distance = 0.7357888232506257\n",
      "Observation indexes which Cook's distance exceeding the threshold:\n",
      " []\n"
     ]
    }
   ],
   "source": [
    "from scipy import stats\n",
    "cook_threshold=stats.f.sf(0.5,D+1,N-D-1)\n",
    "print(\"Threshold for Cook's distance =\",cook_threshold)\n",
    "idx_C=np.nonzero(cook_>cook_threshold)[0]\n",
    "print(\"Observation indexes which Cook's distance exceeding the threshold:\\n\",idx_C+1)"
   ]
  },
  {
   "cell_type": "markdown",
   "metadata": {},
   "source": [
    "As we can observe, none of the observations exceeds the threshold.\n",
    "\n",
    "We can obtain the DFBETAS, DFFIT values, leverages, and standardized, respective studentized residuals at once in a dataframe using the *statsmodels* library."
   ]
  },
  {
   "cell_type": "code",
   "execution_count": 31,
   "metadata": {},
   "outputs": [
    {
     "data": {
      "text/html": [
       "<div>\n",
       "<style scoped>\n",
       "    .dataframe tbody tr th:only-of-type {\n",
       "        vertical-align: middle;\n",
       "    }\n",
       "\n",
       "    .dataframe tbody tr th {\n",
       "        vertical-align: top;\n",
       "    }\n",
       "\n",
       "    .dataframe thead th {\n",
       "        text-align: right;\n",
       "    }\n",
       "</style>\n",
       "<table border=\"1\" class=\"dataframe\">\n",
       "  <thead>\n",
       "    <tr style=\"text-align: right;\">\n",
       "      <th></th>\n",
       "      <th>dfb_Intercept</th>\n",
       "      <th>dfb_NumExpl</th>\n",
       "      <th>dfb_Margin</th>\n",
       "      <th>dfb_IPCost</th>\n",
       "      <th>cooks_d</th>\n",
       "      <th>standard_resid</th>\n",
       "      <th>hat_diag</th>\n",
       "      <th>dffits_internal</th>\n",
       "      <th>student_resid</th>\n",
       "      <th>dffits</th>\n",
       "    </tr>\n",
       "  </thead>\n",
       "  <tbody>\n",
       "    <tr>\n",
       "      <th>0</th>\n",
       "      <td>0.006093</td>\n",
       "      <td>0.008636</td>\n",
       "      <td>0.024609</td>\n",
       "      <td>-0.051114</td>\n",
       "      <td>0.001128</td>\n",
       "      <td>-0.321304</td>\n",
       "      <td>0.041889</td>\n",
       "      <td>-0.067183</td>\n",
       "      <td>-0.319005</td>\n",
       "      <td>-0.066702</td>\n",
       "    </tr>\n",
       "    <tr>\n",
       "      <th>1</th>\n",
       "      <td>-0.003058</td>\n",
       "      <td>0.004271</td>\n",
       "      <td>0.006370</td>\n",
       "      <td>-0.007633</td>\n",
       "      <td>0.000040</td>\n",
       "      <td>-0.063486</td>\n",
       "      <td>0.037778</td>\n",
       "      <td>-0.012579</td>\n",
       "      <td>-0.062982</td>\n",
       "      <td>-0.012480</td>\n",
       "    </tr>\n",
       "    <tr>\n",
       "      <th>2</th>\n",
       "      <td>-0.003629</td>\n",
       "      <td>0.022604</td>\n",
       "      <td>0.022679</td>\n",
       "      <td>-0.022875</td>\n",
       "      <td>0.000708</td>\n",
       "      <td>0.308479</td>\n",
       "      <td>0.028905</td>\n",
       "      <td>0.053221</td>\n",
       "      <td>0.306252</td>\n",
       "      <td>0.052836</td>\n",
       "    </tr>\n",
       "    <tr>\n",
       "      <th>3</th>\n",
       "      <td>-0.000102</td>\n",
       "      <td>0.007277</td>\n",
       "      <td>-0.012316</td>\n",
       "      <td>0.008252</td>\n",
       "      <td>0.000222</td>\n",
       "      <td>-0.212981</td>\n",
       "      <td>0.019173</td>\n",
       "      <td>-0.029777</td>\n",
       "      <td>-0.211360</td>\n",
       "      <td>-0.029551</td>\n",
       "    </tr>\n",
       "    <tr>\n",
       "      <th>4</th>\n",
       "      <td>0.026586</td>\n",
       "      <td>-0.026066</td>\n",
       "      <td>0.030858</td>\n",
       "      <td>-0.057193</td>\n",
       "      <td>0.001234</td>\n",
       "      <td>0.282269</td>\n",
       "      <td>0.058336</td>\n",
       "      <td>0.070256</td>\n",
       "      <td>0.280198</td>\n",
       "      <td>0.069740</td>\n",
       "    </tr>\n",
       "    <tr>\n",
       "      <th>5</th>\n",
       "      <td>-0.176213</td>\n",
       "      <td>0.154578</td>\n",
       "      <td>0.043575</td>\n",
       "      <td>0.143951</td>\n",
       "      <td>0.019587</td>\n",
       "      <td>1.071660</td>\n",
       "      <td>0.063862</td>\n",
       "      <td>0.279904</td>\n",
       "      <td>1.072946</td>\n",
       "      <td>0.280240</td>\n",
       "    </tr>\n",
       "    <tr>\n",
       "      <th>6</th>\n",
       "      <td>0.182673</td>\n",
       "      <td>0.197941</td>\n",
       "      <td>-0.322588</td>\n",
       "      <td>0.077105</td>\n",
       "      <td>0.056617</td>\n",
       "      <td>-2.351087</td>\n",
       "      <td>0.039358</td>\n",
       "      <td>-0.475886</td>\n",
       "      <td>-2.441940</td>\n",
       "      <td>-0.494276</td>\n",
       "    </tr>\n",
       "    <tr>\n",
       "      <th>7</th>\n",
       "      <td>0.089628</td>\n",
       "      <td>0.057995</td>\n",
       "      <td>-0.035030</td>\n",
       "      <td>-0.102407</td>\n",
       "      <td>0.009494</td>\n",
       "      <td>-0.834331</td>\n",
       "      <td>0.051733</td>\n",
       "      <td>-0.194875</td>\n",
       "      <td>-0.832294</td>\n",
       "      <td>-0.194399</td>\n",
       "    </tr>\n",
       "    <tr>\n",
       "      <th>8</th>\n",
       "      <td>0.137645</td>\n",
       "      <td>-0.071343</td>\n",
       "      <td>0.094003</td>\n",
       "      <td>-0.222724</td>\n",
       "      <td>0.022871</td>\n",
       "      <td>1.620204</td>\n",
       "      <td>0.033676</td>\n",
       "      <td>0.302461</td>\n",
       "      <td>1.641864</td>\n",
       "      <td>0.306504</td>\n",
       "    </tr>\n",
       "    <tr>\n",
       "      <th>9</th>\n",
       "      <td>-0.119372</td>\n",
       "      <td>0.037113</td>\n",
       "      <td>0.011628</td>\n",
       "      <td>0.093804</td>\n",
       "      <td>0.006660</td>\n",
       "      <td>-0.872600</td>\n",
       "      <td>0.033802</td>\n",
       "      <td>-0.163212</td>\n",
       "      <td>-0.870926</td>\n",
       "      <td>-0.162899</td>\n",
       "    </tr>\n",
       "    <tr>\n",
       "      <th>10</th>\n",
       "      <td>-0.111760</td>\n",
       "      <td>0.041682</td>\n",
       "      <td>0.209461</td>\n",
       "      <td>-0.122753</td>\n",
       "      <td>0.015680</td>\n",
       "      <td>0.972603</td>\n",
       "      <td>0.062181</td>\n",
       "      <td>0.250442</td>\n",
       "      <td>0.972180</td>\n",
       "      <td>0.250332</td>\n",
       "    </tr>\n",
       "    <tr>\n",
       "      <th>11</th>\n",
       "      <td>-0.106191</td>\n",
       "      <td>-0.714453</td>\n",
       "      <td>0.429470</td>\n",
       "      <td>-0.273016</td>\n",
       "      <td>0.169164</td>\n",
       "      <td>-1.031548</td>\n",
       "      <td>0.388716</td>\n",
       "      <td>-0.822592</td>\n",
       "      <td>-1.032081</td>\n",
       "      <td>-0.823017</td>\n",
       "    </tr>\n",
       "    <tr>\n",
       "      <th>12</th>\n",
       "      <td>0.009194</td>\n",
       "      <td>-0.005480</td>\n",
       "      <td>-0.002616</td>\n",
       "      <td>-0.011331</td>\n",
       "      <td>0.000193</td>\n",
       "      <td>-0.183956</td>\n",
       "      <td>0.022290</td>\n",
       "      <td>-0.027776</td>\n",
       "      <td>-0.182540</td>\n",
       "      <td>-0.027562</td>\n",
       "    </tr>\n",
       "    <tr>\n",
       "      <th>13</th>\n",
       "      <td>-0.032540</td>\n",
       "      <td>-0.017838</td>\n",
       "      <td>0.044386</td>\n",
       "      <td>-0.002005</td>\n",
       "      <td>0.001422</td>\n",
       "      <td>0.419769</td>\n",
       "      <td>0.031263</td>\n",
       "      <td>0.075410</td>\n",
       "      <td>0.417008</td>\n",
       "      <td>0.074913</td>\n",
       "    </tr>\n",
       "    <tr>\n",
       "      <th>14</th>\n",
       "      <td>0.066090</td>\n",
       "      <td>0.134156</td>\n",
       "      <td>-0.457111</td>\n",
       "      <td>0.530573</td>\n",
       "      <td>0.090821</td>\n",
       "      <td>1.616219</td>\n",
       "      <td>0.122094</td>\n",
       "      <td>0.602731</td>\n",
       "      <td>1.637651</td>\n",
       "      <td>0.610724</td>\n",
       "    </tr>\n",
       "    <tr>\n",
       "      <th>15</th>\n",
       "      <td>0.068371</td>\n",
       "      <td>-0.086273</td>\n",
       "      <td>0.028269</td>\n",
       "      <td>-0.066351</td>\n",
       "      <td>0.006723</td>\n",
       "      <td>1.032144</td>\n",
       "      <td>0.024621</td>\n",
       "      <td>0.163986</td>\n",
       "      <td>1.032688</td>\n",
       "      <td>0.164072</td>\n",
       "    </tr>\n",
       "    <tr>\n",
       "      <th>16</th>\n",
       "      <td>0.024897</td>\n",
       "      <td>-0.100446</td>\n",
       "      <td>0.118152</td>\n",
       "      <td>-0.129965</td>\n",
       "      <td>0.010264</td>\n",
       "      <td>0.941459</td>\n",
       "      <td>0.044270</td>\n",
       "      <td>0.202624</td>\n",
       "      <td>0.940597</td>\n",
       "      <td>0.202438</td>\n",
       "    </tr>\n",
       "    <tr>\n",
       "      <th>17</th>\n",
       "      <td>0.142310</td>\n",
       "      <td>-0.034839</td>\n",
       "      <td>-0.130684</td>\n",
       "      <td>0.023753</td>\n",
       "      <td>0.006530</td>\n",
       "      <td>0.506517</td>\n",
       "      <td>0.092397</td>\n",
       "      <td>0.161613</td>\n",
       "      <td>0.503507</td>\n",
       "      <td>0.160652</td>\n",
       "    </tr>\n",
       "    <tr>\n",
       "      <th>18</th>\n",
       "      <td>-0.001127</td>\n",
       "      <td>-0.014073</td>\n",
       "      <td>-0.015184</td>\n",
       "      <td>0.030622</td>\n",
       "      <td>0.000468</td>\n",
       "      <td>0.191983</td>\n",
       "      <td>0.048325</td>\n",
       "      <td>0.043262</td>\n",
       "      <td>0.190509</td>\n",
       "      <td>0.042929</td>\n",
       "    </tr>\n",
       "    <tr>\n",
       "      <th>19</th>\n",
       "      <td>0.000894</td>\n",
       "      <td>0.000418</td>\n",
       "      <td>-0.006605</td>\n",
       "      <td>0.009147</td>\n",
       "      <td>0.000036</td>\n",
       "      <td>0.059695</td>\n",
       "      <td>0.039150</td>\n",
       "      <td>0.012050</td>\n",
       "      <td>0.059221</td>\n",
       "      <td>0.011954</td>\n",
       "    </tr>\n",
       "    <tr>\n",
       "      <th>20</th>\n",
       "      <td>-0.020297</td>\n",
       "      <td>0.013726</td>\n",
       "      <td>0.029786</td>\n",
       "      <td>-0.012664</td>\n",
       "      <td>0.000446</td>\n",
       "      <td>0.198255</td>\n",
       "      <td>0.043383</td>\n",
       "      <td>0.042220</td>\n",
       "      <td>0.196737</td>\n",
       "      <td>0.041896</td>\n",
       "    </tr>\n",
       "    <tr>\n",
       "      <th>21</th>\n",
       "      <td>-0.005253</td>\n",
       "      <td>-0.045455</td>\n",
       "      <td>0.072687</td>\n",
       "      <td>-0.063816</td>\n",
       "      <td>0.002646</td>\n",
       "      <td>0.433967</td>\n",
       "      <td>0.053207</td>\n",
       "      <td>0.102876</td>\n",
       "      <td>0.431154</td>\n",
       "      <td>0.102209</td>\n",
       "    </tr>\n",
       "    <tr>\n",
       "      <th>22</th>\n",
       "      <td>0.037620</td>\n",
       "      <td>-0.005636</td>\n",
       "      <td>-0.016849</td>\n",
       "      <td>-0.031596</td>\n",
       "      <td>0.001121</td>\n",
       "      <td>-0.345354</td>\n",
       "      <td>0.036238</td>\n",
       "      <td>-0.066967</td>\n",
       "      <td>-0.342927</td>\n",
       "      <td>-0.066496</td>\n",
       "    </tr>\n",
       "    <tr>\n",
       "      <th>23</th>\n",
       "      <td>0.047206</td>\n",
       "      <td>-0.020822</td>\n",
       "      <td>-0.056780</td>\n",
       "      <td>-0.000423</td>\n",
       "      <td>0.003908</td>\n",
       "      <td>-0.832787</td>\n",
       "      <td>0.022041</td>\n",
       "      <td>-0.125022</td>\n",
       "      <td>-0.830736</td>\n",
       "      <td>-0.124714</td>\n",
       "    </tr>\n",
       "    <tr>\n",
       "      <th>24</th>\n",
       "      <td>0.085527</td>\n",
       "      <td>-0.051361</td>\n",
       "      <td>0.043930</td>\n",
       "      <td>-0.124056</td>\n",
       "      <td>0.006788</td>\n",
       "      <td>0.788646</td>\n",
       "      <td>0.041832</td>\n",
       "      <td>0.164784</td>\n",
       "      <td>0.786252</td>\n",
       "      <td>0.164283</td>\n",
       "    </tr>\n",
       "    <tr>\n",
       "      <th>25</th>\n",
       "      <td>-0.025084</td>\n",
       "      <td>-0.022999</td>\n",
       "      <td>0.015330</td>\n",
       "      <td>0.028153</td>\n",
       "      <td>0.001352</td>\n",
       "      <td>0.408510</td>\n",
       "      <td>0.031389</td>\n",
       "      <td>0.073539</td>\n",
       "      <td>0.405793</td>\n",
       "      <td>0.073050</td>\n",
       "    </tr>\n",
       "    <tr>\n",
       "      <th>26</th>\n",
       "      <td>0.014844</td>\n",
       "      <td>-0.000839</td>\n",
       "      <td>0.001876</td>\n",
       "      <td>-0.023410</td>\n",
       "      <td>0.000232</td>\n",
       "      <td>-0.113235</td>\n",
       "      <td>0.067538</td>\n",
       "      <td>-0.030475</td>\n",
       "      <td>-0.112344</td>\n",
       "      <td>-0.030235</td>\n",
       "    </tr>\n",
       "    <tr>\n",
       "      <th>27</th>\n",
       "      <td>-0.116684</td>\n",
       "      <td>-0.020690</td>\n",
       "      <td>0.113295</td>\n",
       "      <td>0.023249</td>\n",
       "      <td>0.008799</td>\n",
       "      <td>0.872353</td>\n",
       "      <td>0.044207</td>\n",
       "      <td>0.187610</td>\n",
       "      <td>0.870676</td>\n",
       "      <td>0.187250</td>\n",
       "    </tr>\n",
       "    <tr>\n",
       "      <th>28</th>\n",
       "      <td>0.030102</td>\n",
       "      <td>0.029524</td>\n",
       "      <td>-0.068098</td>\n",
       "      <td>0.034198</td>\n",
       "      <td>0.001857</td>\n",
       "      <td>-0.364957</td>\n",
       "      <td>0.052816</td>\n",
       "      <td>-0.086180</td>\n",
       "      <td>-0.362432</td>\n",
       "      <td>-0.085584</td>\n",
       "    </tr>\n",
       "    <tr>\n",
       "      <th>29</th>\n",
       "      <td>-0.058976</td>\n",
       "      <td>-0.056229</td>\n",
       "      <td>0.050157</td>\n",
       "      <td>0.042756</td>\n",
       "      <td>0.005537</td>\n",
       "      <td>0.759585</td>\n",
       "      <td>0.036965</td>\n",
       "      <td>0.148817</td>\n",
       "      <td>0.757007</td>\n",
       "      <td>0.148312</td>\n",
       "    </tr>\n",
       "    <tr>\n",
       "      <th>...</th>\n",
       "      <td>...</td>\n",
       "      <td>...</td>\n",
       "      <td>...</td>\n",
       "      <td>...</td>\n",
       "      <td>...</td>\n",
       "      <td>...</td>\n",
       "      <td>...</td>\n",
       "      <td>...</td>\n",
       "      <td>...</td>\n",
       "      <td>...</td>\n",
       "    </tr>\n",
       "    <tr>\n",
       "      <th>37</th>\n",
       "      <td>0.161014</td>\n",
       "      <td>-0.039502</td>\n",
       "      <td>-0.107021</td>\n",
       "      <td>-0.032514</td>\n",
       "      <td>0.006681</td>\n",
       "      <td>0.353087</td>\n",
       "      <td>0.176511</td>\n",
       "      <td>0.163471</td>\n",
       "      <td>0.350621</td>\n",
       "      <td>0.162329</td>\n",
       "    </tr>\n",
       "    <tr>\n",
       "      <th>38</th>\n",
       "      <td>-0.088989</td>\n",
       "      <td>-0.086248</td>\n",
       "      <td>-0.036050</td>\n",
       "      <td>0.214999</td>\n",
       "      <td>0.023125</td>\n",
       "      <td>1.256386</td>\n",
       "      <td>0.055356</td>\n",
       "      <td>0.304139</td>\n",
       "      <td>1.262289</td>\n",
       "      <td>0.305568</td>\n",
       "    </tr>\n",
       "    <tr>\n",
       "      <th>39</th>\n",
       "      <td>-0.178719</td>\n",
       "      <td>0.140967</td>\n",
       "      <td>0.201829</td>\n",
       "      <td>-0.133411</td>\n",
       "      <td>0.026249</td>\n",
       "      <td>-1.582679</td>\n",
       "      <td>0.040230</td>\n",
       "      <td>-0.324029</td>\n",
       "      <td>-1.602243</td>\n",
       "      <td>-0.328035</td>\n",
       "    </tr>\n",
       "    <tr>\n",
       "      <th>40</th>\n",
       "      <td>0.021279</td>\n",
       "      <td>0.054693</td>\n",
       "      <td>-0.022322</td>\n",
       "      <td>-0.005281</td>\n",
       "      <td>0.001212</td>\n",
       "      <td>0.217547</td>\n",
       "      <td>0.092935</td>\n",
       "      <td>0.069635</td>\n",
       "      <td>0.215895</td>\n",
       "      <td>0.069106</td>\n",
       "    </tr>\n",
       "    <tr>\n",
       "      <th>41</th>\n",
       "      <td>-0.015336</td>\n",
       "      <td>-0.026707</td>\n",
       "      <td>-0.027969</td>\n",
       "      <td>0.046950</td>\n",
       "      <td>0.002009</td>\n",
       "      <td>-0.552582</td>\n",
       "      <td>0.025640</td>\n",
       "      <td>-0.089639</td>\n",
       "      <td>-0.549512</td>\n",
       "      <td>-0.089141</td>\n",
       "    </tr>\n",
       "    <tr>\n",
       "      <th>42</th>\n",
       "      <td>-0.002476</td>\n",
       "      <td>0.029520</td>\n",
       "      <td>0.048088</td>\n",
       "      <td>-0.057844</td>\n",
       "      <td>0.001826</td>\n",
       "      <td>0.360993</td>\n",
       "      <td>0.053069</td>\n",
       "      <td>0.085460</td>\n",
       "      <td>0.358488</td>\n",
       "      <td>0.084866</td>\n",
       "    </tr>\n",
       "    <tr>\n",
       "      <th>43</th>\n",
       "      <td>0.019292</td>\n",
       "      <td>0.015142</td>\n",
       "      <td>-0.000415</td>\n",
       "      <td>-0.019283</td>\n",
       "      <td>0.000499</td>\n",
       "      <td>0.272044</td>\n",
       "      <td>0.026254</td>\n",
       "      <td>0.044670</td>\n",
       "      <td>0.270035</td>\n",
       "      <td>0.044340</td>\n",
       "    </tr>\n",
       "    <tr>\n",
       "      <th>44</th>\n",
       "      <td>-0.076676</td>\n",
       "      <td>0.054823</td>\n",
       "      <td>0.126295</td>\n",
       "      <td>-0.113483</td>\n",
       "      <td>0.009105</td>\n",
       "      <td>-0.890590</td>\n",
       "      <td>0.043904</td>\n",
       "      <td>-0.190845</td>\n",
       "      <td>-0.889108</td>\n",
       "      <td>-0.190528</td>\n",
       "    </tr>\n",
       "    <tr>\n",
       "      <th>45</th>\n",
       "      <td>-0.469036</td>\n",
       "      <td>-0.162882</td>\n",
       "      <td>0.001594</td>\n",
       "      <td>0.523147</td>\n",
       "      <td>0.128857</td>\n",
       "      <td>-2.814181</td>\n",
       "      <td>0.061105</td>\n",
       "      <td>-0.717932</td>\n",
       "      <td>-2.985722</td>\n",
       "      <td>-0.761694</td>\n",
       "    </tr>\n",
       "    <tr>\n",
       "      <th>46</th>\n",
       "      <td>-0.202361</td>\n",
       "      <td>0.073452</td>\n",
       "      <td>0.081162</td>\n",
       "      <td>0.076371</td>\n",
       "      <td>0.015589</td>\n",
       "      <td>-1.441010</td>\n",
       "      <td>0.029154</td>\n",
       "      <td>-0.249715</td>\n",
       "      <td>-1.453686</td>\n",
       "      <td>-0.251911</td>\n",
       "    </tr>\n",
       "    <tr>\n",
       "      <th>47</th>\n",
       "      <td>0.109551</td>\n",
       "      <td>-0.025879</td>\n",
       "      <td>-0.046094</td>\n",
       "      <td>-0.094397</td>\n",
       "      <td>0.009715</td>\n",
       "      <td>-1.038206</td>\n",
       "      <td>0.034796</td>\n",
       "      <td>-0.197124</td>\n",
       "      <td>-1.038858</td>\n",
       "      <td>-0.197248</td>\n",
       "    </tr>\n",
       "    <tr>\n",
       "      <th>48</th>\n",
       "      <td>0.026140</td>\n",
       "      <td>-0.069806</td>\n",
       "      <td>0.018329</td>\n",
       "      <td>-0.009773</td>\n",
       "      <td>0.004603</td>\n",
       "      <td>0.934387</td>\n",
       "      <td>0.020652</td>\n",
       "      <td>0.135688</td>\n",
       "      <td>0.933432</td>\n",
       "      <td>0.135550</td>\n",
       "    </tr>\n",
       "    <tr>\n",
       "      <th>49</th>\n",
       "      <td>0.081865</td>\n",
       "      <td>0.057942</td>\n",
       "      <td>0.001626</td>\n",
       "      <td>-0.072568</td>\n",
       "      <td>0.012072</td>\n",
       "      <td>1.553794</td>\n",
       "      <td>0.019608</td>\n",
       "      <td>0.219743</td>\n",
       "      <td>1.571825</td>\n",
       "      <td>0.222293</td>\n",
       "    </tr>\n",
       "    <tr>\n",
       "      <th>50</th>\n",
       "      <td>0.110197</td>\n",
       "      <td>0.061279</td>\n",
       "      <td>-0.017283</td>\n",
       "      <td>-0.154830</td>\n",
       "      <td>0.014758</td>\n",
       "      <td>-0.947271</td>\n",
       "      <td>0.061726</td>\n",
       "      <td>-0.242965</td>\n",
       "      <td>-0.946487</td>\n",
       "      <td>-0.242764</td>\n",
       "    </tr>\n",
       "    <tr>\n",
       "      <th>51</th>\n",
       "      <td>0.008694</td>\n",
       "      <td>-0.001766</td>\n",
       "      <td>-0.001123</td>\n",
       "      <td>-0.007066</td>\n",
       "      <td>0.000032</td>\n",
       "      <td>0.051764</td>\n",
       "      <td>0.045503</td>\n",
       "      <td>0.011302</td>\n",
       "      <td>0.051352</td>\n",
       "      <td>0.011212</td>\n",
       "    </tr>\n",
       "    <tr>\n",
       "      <th>52</th>\n",
       "      <td>0.012864</td>\n",
       "      <td>0.123958</td>\n",
       "      <td>0.034435</td>\n",
       "      <td>-0.073273</td>\n",
       "      <td>0.008193</td>\n",
       "      <td>0.756743</td>\n",
       "      <td>0.054127</td>\n",
       "      <td>0.181025</td>\n",
       "      <td>0.754149</td>\n",
       "      <td>0.180405</td>\n",
       "    </tr>\n",
       "    <tr>\n",
       "      <th>53</th>\n",
       "      <td>0.116579</td>\n",
       "      <td>-0.022520</td>\n",
       "      <td>-0.062855</td>\n",
       "      <td>-0.038377</td>\n",
       "      <td>0.003851</td>\n",
       "      <td>0.481537</td>\n",
       "      <td>0.062286</td>\n",
       "      <td>0.124105</td>\n",
       "      <td>0.478581</td>\n",
       "      <td>0.123343</td>\n",
       "    </tr>\n",
       "    <tr>\n",
       "      <th>54</th>\n",
       "      <td>0.007722</td>\n",
       "      <td>-0.199796</td>\n",
       "      <td>0.108976</td>\n",
       "      <td>-0.127214</td>\n",
       "      <td>0.017521</td>\n",
       "      <td>-1.057822</td>\n",
       "      <td>0.058941</td>\n",
       "      <td>-0.264737</td>\n",
       "      <td>-1.058839</td>\n",
       "      <td>-0.264991</td>\n",
       "    </tr>\n",
       "    <tr>\n",
       "      <th>55</th>\n",
       "      <td>-0.392347</td>\n",
       "      <td>1.105478</td>\n",
       "      <td>0.203407</td>\n",
       "      <td>-0.034391</td>\n",
       "      <td>0.331333</td>\n",
       "      <td>1.942809</td>\n",
       "      <td>0.259877</td>\n",
       "      <td>1.151230</td>\n",
       "      <td>1.987795</td>\n",
       "      <td>1.177887</td>\n",
       "    </tr>\n",
       "    <tr>\n",
       "      <th>56</th>\n",
       "      <td>0.014429</td>\n",
       "      <td>0.037146</td>\n",
       "      <td>-0.207244</td>\n",
       "      <td>0.219651</td>\n",
       "      <td>0.017723</td>\n",
       "      <td>-0.816781</td>\n",
       "      <td>0.096058</td>\n",
       "      <td>-0.266258</td>\n",
       "      <td>-0.814597</td>\n",
       "      <td>-0.265546</td>\n",
       "    </tr>\n",
       "    <tr>\n",
       "      <th>57</th>\n",
       "      <td>0.003188</td>\n",
       "      <td>0.002707</td>\n",
       "      <td>-0.000962</td>\n",
       "      <td>-0.005713</td>\n",
       "      <td>0.000044</td>\n",
       "      <td>-0.084277</td>\n",
       "      <td>0.024309</td>\n",
       "      <td>-0.013303</td>\n",
       "      <td>-0.083611</td>\n",
       "      <td>-0.013198</td>\n",
       "    </tr>\n",
       "    <tr>\n",
       "      <th>58</th>\n",
       "      <td>0.043684</td>\n",
       "      <td>-0.014612</td>\n",
       "      <td>-0.011517</td>\n",
       "      <td>-0.030391</td>\n",
       "      <td>0.000591</td>\n",
       "      <td>0.105440</td>\n",
       "      <td>0.175245</td>\n",
       "      <td>0.048603</td>\n",
       "      <td>0.104609</td>\n",
       "      <td>0.048220</td>\n",
       "    </tr>\n",
       "    <tr>\n",
       "      <th>59</th>\n",
       "      <td>0.095797</td>\n",
       "      <td>-0.038333</td>\n",
       "      <td>-0.159631</td>\n",
       "      <td>0.057920</td>\n",
       "      <td>0.016849</td>\n",
       "      <td>-1.601668</td>\n",
       "      <td>0.025599</td>\n",
       "      <td>-0.259605</td>\n",
       "      <td>-1.622278</td>\n",
       "      <td>-0.262946</td>\n",
       "    </tr>\n",
       "    <tr>\n",
       "      <th>60</th>\n",
       "      <td>-0.097024</td>\n",
       "      <td>0.028418</td>\n",
       "      <td>0.091479</td>\n",
       "      <td>-0.019802</td>\n",
       "      <td>0.003104</td>\n",
       "      <td>-0.314886</td>\n",
       "      <td>0.111290</td>\n",
       "      <td>-0.111430</td>\n",
       "      <td>-0.312623</td>\n",
       "      <td>-0.110629</td>\n",
       "    </tr>\n",
       "    <tr>\n",
       "      <th>61</th>\n",
       "      <td>0.119589</td>\n",
       "      <td>-0.136223</td>\n",
       "      <td>-0.165085</td>\n",
       "      <td>0.154691</td>\n",
       "      <td>0.023785</td>\n",
       "      <td>1.561697</td>\n",
       "      <td>0.037544</td>\n",
       "      <td>0.308446</td>\n",
       "      <td>1.580141</td>\n",
       "      <td>0.312089</td>\n",
       "    </tr>\n",
       "    <tr>\n",
       "      <th>62</th>\n",
       "      <td>0.048729</td>\n",
       "      <td>-0.035109</td>\n",
       "      <td>0.006326</td>\n",
       "      <td>-0.048144</td>\n",
       "      <td>0.001351</td>\n",
       "      <td>0.324170</td>\n",
       "      <td>0.048906</td>\n",
       "      <td>0.073509</td>\n",
       "      <td>0.321856</td>\n",
       "      <td>0.072985</td>\n",
       "    </tr>\n",
       "    <tr>\n",
       "      <th>63</th>\n",
       "      <td>0.117472</td>\n",
       "      <td>-0.285492</td>\n",
       "      <td>-0.167402</td>\n",
       "      <td>0.130413</td>\n",
       "      <td>0.034458</td>\n",
       "      <td>-0.857035</td>\n",
       "      <td>0.158001</td>\n",
       "      <td>-0.371255</td>\n",
       "      <td>-0.855206</td>\n",
       "      <td>-0.370462</td>\n",
       "    </tr>\n",
       "    <tr>\n",
       "      <th>64</th>\n",
       "      <td>-0.011343</td>\n",
       "      <td>-0.015874</td>\n",
       "      <td>0.023409</td>\n",
       "      <td>-0.007781</td>\n",
       "      <td>0.000313</td>\n",
       "      <td>0.167941</td>\n",
       "      <td>0.042443</td>\n",
       "      <td>0.035357</td>\n",
       "      <td>0.166640</td>\n",
       "      <td>0.035083</td>\n",
       "    </tr>\n",
       "    <tr>\n",
       "      <th>65</th>\n",
       "      <td>0.148067</td>\n",
       "      <td>-0.171178</td>\n",
       "      <td>-0.038782</td>\n",
       "      <td>-0.014940</td>\n",
       "      <td>0.026742</td>\n",
       "      <td>2.239874</td>\n",
       "      <td>0.020876</td>\n",
       "      <td>0.327057</td>\n",
       "      <td>2.316164</td>\n",
       "      <td>0.338196</td>\n",
       "    </tr>\n",
       "    <tr>\n",
       "      <th>66</th>\n",
       "      <td>-0.022628</td>\n",
       "      <td>0.011852</td>\n",
       "      <td>0.006758</td>\n",
       "      <td>-0.009091</td>\n",
       "      <td>0.002878</td>\n",
       "      <td>-0.861434</td>\n",
       "      <td>0.015274</td>\n",
       "      <td>-0.107286</td>\n",
       "      <td>-0.859648</td>\n",
       "      <td>-0.107063</td>\n",
       "    </tr>\n",
       "  </tbody>\n",
       "</table>\n",
       "<p>67 rows × 10 columns</p>\n",
       "</div>"
      ],
      "text/plain": [
       "    dfb_Intercept  dfb_NumExpl  dfb_Margin  dfb_IPCost   cooks_d  \\\n",
       "0        0.006093     0.008636    0.024609   -0.051114  0.001128   \n",
       "1       -0.003058     0.004271    0.006370   -0.007633  0.000040   \n",
       "2       -0.003629     0.022604    0.022679   -0.022875  0.000708   \n",
       "3       -0.000102     0.007277   -0.012316    0.008252  0.000222   \n",
       "4        0.026586    -0.026066    0.030858   -0.057193  0.001234   \n",
       "5       -0.176213     0.154578    0.043575    0.143951  0.019587   \n",
       "6        0.182673     0.197941   -0.322588    0.077105  0.056617   \n",
       "7        0.089628     0.057995   -0.035030   -0.102407  0.009494   \n",
       "8        0.137645    -0.071343    0.094003   -0.222724  0.022871   \n",
       "9       -0.119372     0.037113    0.011628    0.093804  0.006660   \n",
       "10      -0.111760     0.041682    0.209461   -0.122753  0.015680   \n",
       "11      -0.106191    -0.714453    0.429470   -0.273016  0.169164   \n",
       "12       0.009194    -0.005480   -0.002616   -0.011331  0.000193   \n",
       "13      -0.032540    -0.017838    0.044386   -0.002005  0.001422   \n",
       "14       0.066090     0.134156   -0.457111    0.530573  0.090821   \n",
       "15       0.068371    -0.086273    0.028269   -0.066351  0.006723   \n",
       "16       0.024897    -0.100446    0.118152   -0.129965  0.010264   \n",
       "17       0.142310    -0.034839   -0.130684    0.023753  0.006530   \n",
       "18      -0.001127    -0.014073   -0.015184    0.030622  0.000468   \n",
       "19       0.000894     0.000418   -0.006605    0.009147  0.000036   \n",
       "20      -0.020297     0.013726    0.029786   -0.012664  0.000446   \n",
       "21      -0.005253    -0.045455    0.072687   -0.063816  0.002646   \n",
       "22       0.037620    -0.005636   -0.016849   -0.031596  0.001121   \n",
       "23       0.047206    -0.020822   -0.056780   -0.000423  0.003908   \n",
       "24       0.085527    -0.051361    0.043930   -0.124056  0.006788   \n",
       "25      -0.025084    -0.022999    0.015330    0.028153  0.001352   \n",
       "26       0.014844    -0.000839    0.001876   -0.023410  0.000232   \n",
       "27      -0.116684    -0.020690    0.113295    0.023249  0.008799   \n",
       "28       0.030102     0.029524   -0.068098    0.034198  0.001857   \n",
       "29      -0.058976    -0.056229    0.050157    0.042756  0.005537   \n",
       "..            ...          ...         ...         ...       ...   \n",
       "37       0.161014    -0.039502   -0.107021   -0.032514  0.006681   \n",
       "38      -0.088989    -0.086248   -0.036050    0.214999  0.023125   \n",
       "39      -0.178719     0.140967    0.201829   -0.133411  0.026249   \n",
       "40       0.021279     0.054693   -0.022322   -0.005281  0.001212   \n",
       "41      -0.015336    -0.026707   -0.027969    0.046950  0.002009   \n",
       "42      -0.002476     0.029520    0.048088   -0.057844  0.001826   \n",
       "43       0.019292     0.015142   -0.000415   -0.019283  0.000499   \n",
       "44      -0.076676     0.054823    0.126295   -0.113483  0.009105   \n",
       "45      -0.469036    -0.162882    0.001594    0.523147  0.128857   \n",
       "46      -0.202361     0.073452    0.081162    0.076371  0.015589   \n",
       "47       0.109551    -0.025879   -0.046094   -0.094397  0.009715   \n",
       "48       0.026140    -0.069806    0.018329   -0.009773  0.004603   \n",
       "49       0.081865     0.057942    0.001626   -0.072568  0.012072   \n",
       "50       0.110197     0.061279   -0.017283   -0.154830  0.014758   \n",
       "51       0.008694    -0.001766   -0.001123   -0.007066  0.000032   \n",
       "52       0.012864     0.123958    0.034435   -0.073273  0.008193   \n",
       "53       0.116579    -0.022520   -0.062855   -0.038377  0.003851   \n",
       "54       0.007722    -0.199796    0.108976   -0.127214  0.017521   \n",
       "55      -0.392347     1.105478    0.203407   -0.034391  0.331333   \n",
       "56       0.014429     0.037146   -0.207244    0.219651  0.017723   \n",
       "57       0.003188     0.002707   -0.000962   -0.005713  0.000044   \n",
       "58       0.043684    -0.014612   -0.011517   -0.030391  0.000591   \n",
       "59       0.095797    -0.038333   -0.159631    0.057920  0.016849   \n",
       "60      -0.097024     0.028418    0.091479   -0.019802  0.003104   \n",
       "61       0.119589    -0.136223   -0.165085    0.154691  0.023785   \n",
       "62       0.048729    -0.035109    0.006326   -0.048144  0.001351   \n",
       "63       0.117472    -0.285492   -0.167402    0.130413  0.034458   \n",
       "64      -0.011343    -0.015874    0.023409   -0.007781  0.000313   \n",
       "65       0.148067    -0.171178   -0.038782   -0.014940  0.026742   \n",
       "66      -0.022628     0.011852    0.006758   -0.009091  0.002878   \n",
       "\n",
       "    standard_resid  hat_diag  dffits_internal  student_resid    dffits  \n",
       "0        -0.321304  0.041889        -0.067183      -0.319005 -0.066702  \n",
       "1        -0.063486  0.037778        -0.012579      -0.062982 -0.012480  \n",
       "2         0.308479  0.028905         0.053221       0.306252  0.052836  \n",
       "3        -0.212981  0.019173        -0.029777      -0.211360 -0.029551  \n",
       "4         0.282269  0.058336         0.070256       0.280198  0.069740  \n",
       "5         1.071660  0.063862         0.279904       1.072946  0.280240  \n",
       "6        -2.351087  0.039358        -0.475886      -2.441940 -0.494276  \n",
       "7        -0.834331  0.051733        -0.194875      -0.832294 -0.194399  \n",
       "8         1.620204  0.033676         0.302461       1.641864  0.306504  \n",
       "9        -0.872600  0.033802        -0.163212      -0.870926 -0.162899  \n",
       "10        0.972603  0.062181         0.250442       0.972180  0.250332  \n",
       "11       -1.031548  0.388716        -0.822592      -1.032081 -0.823017  \n",
       "12       -0.183956  0.022290        -0.027776      -0.182540 -0.027562  \n",
       "13        0.419769  0.031263         0.075410       0.417008  0.074913  \n",
       "14        1.616219  0.122094         0.602731       1.637651  0.610724  \n",
       "15        1.032144  0.024621         0.163986       1.032688  0.164072  \n",
       "16        0.941459  0.044270         0.202624       0.940597  0.202438  \n",
       "17        0.506517  0.092397         0.161613       0.503507  0.160652  \n",
       "18        0.191983  0.048325         0.043262       0.190509  0.042929  \n",
       "19        0.059695  0.039150         0.012050       0.059221  0.011954  \n",
       "20        0.198255  0.043383         0.042220       0.196737  0.041896  \n",
       "21        0.433967  0.053207         0.102876       0.431154  0.102209  \n",
       "22       -0.345354  0.036238        -0.066967      -0.342927 -0.066496  \n",
       "23       -0.832787  0.022041        -0.125022      -0.830736 -0.124714  \n",
       "24        0.788646  0.041832         0.164784       0.786252  0.164283  \n",
       "25        0.408510  0.031389         0.073539       0.405793  0.073050  \n",
       "26       -0.113235  0.067538        -0.030475      -0.112344 -0.030235  \n",
       "27        0.872353  0.044207         0.187610       0.870676  0.187250  \n",
       "28       -0.364957  0.052816        -0.086180      -0.362432 -0.085584  \n",
       "29        0.759585  0.036965         0.148817       0.757007  0.148312  \n",
       "..             ...       ...              ...            ...       ...  \n",
       "37        0.353087  0.176511         0.163471       0.350621  0.162329  \n",
       "38        1.256386  0.055356         0.304139       1.262289  0.305568  \n",
       "39       -1.582679  0.040230        -0.324029      -1.602243 -0.328035  \n",
       "40        0.217547  0.092935         0.069635       0.215895  0.069106  \n",
       "41       -0.552582  0.025640        -0.089639      -0.549512 -0.089141  \n",
       "42        0.360993  0.053069         0.085460       0.358488  0.084866  \n",
       "43        0.272044  0.026254         0.044670       0.270035  0.044340  \n",
       "44       -0.890590  0.043904        -0.190845      -0.889108 -0.190528  \n",
       "45       -2.814181  0.061105        -0.717932      -2.985722 -0.761694  \n",
       "46       -1.441010  0.029154        -0.249715      -1.453686 -0.251911  \n",
       "47       -1.038206  0.034796        -0.197124      -1.038858 -0.197248  \n",
       "48        0.934387  0.020652         0.135688       0.933432  0.135550  \n",
       "49        1.553794  0.019608         0.219743       1.571825  0.222293  \n",
       "50       -0.947271  0.061726        -0.242965      -0.946487 -0.242764  \n",
       "51        0.051764  0.045503         0.011302       0.051352  0.011212  \n",
       "52        0.756743  0.054127         0.181025       0.754149  0.180405  \n",
       "53        0.481537  0.062286         0.124105       0.478581  0.123343  \n",
       "54       -1.057822  0.058941        -0.264737      -1.058839 -0.264991  \n",
       "55        1.942809  0.259877         1.151230       1.987795  1.177887  \n",
       "56       -0.816781  0.096058        -0.266258      -0.814597 -0.265546  \n",
       "57       -0.084277  0.024309        -0.013303      -0.083611 -0.013198  \n",
       "58        0.105440  0.175245         0.048603       0.104609  0.048220  \n",
       "59       -1.601668  0.025599        -0.259605      -1.622278 -0.262946  \n",
       "60       -0.314886  0.111290        -0.111430      -0.312623 -0.110629  \n",
       "61        1.561697  0.037544         0.308446       1.580141  0.312089  \n",
       "62        0.324170  0.048906         0.073509       0.321856  0.072985  \n",
       "63       -0.857035  0.158001        -0.371255      -0.855206 -0.370462  \n",
       "64        0.167941  0.042443         0.035357       0.166640  0.035083  \n",
       "65        2.239874  0.020876         0.327057       2.316164  0.338196  \n",
       "66       -0.861434  0.015274        -0.107286      -0.859648 -0.107063  \n",
       "\n",
       "[67 rows x 10 columns]"
      ]
     },
     "execution_count": 31,
     "metadata": {},
     "output_type": "execute_result"
    }
   ],
   "source": [
    "result.get_influence().summary_frame()"
   ]
  },
  {
   "cell_type": "markdown",
   "metadata": {},
   "source": [
    "Now that we checked all the techniques discussed in the book, let's draw our conclusion about the outlier analysis."
   ]
  },
  {
   "cell_type": "markdown",
   "metadata": {},
   "source": [
    "## 4. Conclusion of the outlier analysis <a name=\"OutlierConclusion\"></a>\n",
    "\n",
    "Let's, make a summary of our findings (X - high leverage, R - high studentized residual, B - high DFBETAS, F - high DFFITS, C - high Cook's distance):"
   ]
  },
  {
   "cell_type": "code",
   "execution_count": 32,
   "metadata": {},
   "outputs": [
    {
     "name": "stdout",
     "output_type": "stream",
     "text": [
      "Unusual observations:\n",
      "===============================================================================\n",
      " Index  Salary  NumExpl  Margin  IPCost  Cook's dist.       Type             Note\n",
      "     7    27.5     42.0    23.4    8.61      0.056617  [R, B, F]            [w_2]\n",
      "    12    28.9    389.0    11.0    7.40      0.169164  [X, B, F]  [w_1, w_2, w_3]\n",
      "    15    31.3    107.0    15.3   10.94      0.090821     [B, F]       [w_2, w_3]\n",
      "    32    30.7     40.0    16.1   10.31      0.037040        [B]       [w_2, w_3]\n",
      "    37    27.7     28.0    19.8    9.70      0.038314        [R]               []\n",
      "    46    25.7    130.0    15.6    4.11      0.128857  [R, B, F]       [w_0, w_3]\n",
      "    56    32.4    371.0    22.3    7.45      0.331333  [X, B, F]       [w_0, w_1]\n",
      "    64    29.4    279.0    23.2    6.20      0.034458        [B]            [w_1]\n",
      "    66    31.3     43.0    18.3    7.52      0.026742        [R]               []\n",
      "_______________________________________________________________________________\n",
      "Means:    29.4     85.9    19.1    7.69      0.019186\n"
     ]
    }
   ],
   "source": [
    "print(\"Unusual observations:\")\n",
    "print(\"===============================================================================\")\n",
    "df=pd.DataFrame(columns=['Index','Salary','NumExpl','Margin','IPCost',\"Cook's dist.\",'Type','Note'])\n",
    "idx=np.sort(np.append(idx_X,idx_R))\n",
    "idx=np.sort(np.append(idx,idx_B))\n",
    "idx=np.sort(np.append(idx,idx_F))\n",
    "idx=np.sort(np.append(idx,idx_C))\n",
    "idx=np.unique(idx)\n",
    "\n",
    "def outliertype(idx):\n",
    "    outlier=[]\n",
    "    if idx in idx_X:\n",
    "        outlier.append('X')\n",
    "    if idx in idx_R:\n",
    "        outlier.append('R')\n",
    "    if idx in idx_B:\n",
    "        outlier.append('B')\n",
    "    if idx in idx_F:\n",
    "        outlier.append('F')\n",
    "    if idx in idx_C:\n",
    "        outlier.append('C')\n",
    "    return outlier\n",
    "\n",
    "for i in idx:\n",
    "    df.loc[i]=[i+1,y_[i,0],Xdot[i,1],Xdot[i,2],Xdot[i,3],cook2_[i],outliertype(i),\\\n",
    "               ['w_'+str(idx_w[i]) for i in list(np.ravel(np.argwhere(i==idx_B)))]]\n",
    "df['Index']=df['Index'].astype(int)\n",
    "print(df.to_string(index=False))\n",
    "print('_______________________________________________________________________________')\n",
    "print(\"Means:    %3.1f     %3.1f    %3.1f    %3.2f      %1.6f\"%\\\n",
    "      (y_.mean(),Xdot[:,1].mean(),Xdot[:,2].mean(),Xdot[:,3].mean(),cook2_.mean()))"
   ]
  },
  {
   "cell_type": "markdown",
   "metadata": {},
   "source": [
    "We can observe from above that high leverage observations are those where the 'NumExpl' has extremely high values compared to the rest of the values. Observation with index 12 also has extreme value for 'Margin'. In this sense, it should be expected that these observations will have high leverage as the distance from the centroid is larger.\n",
    "\n",
    "As can be observed, some are overlapping in these sets, there some observations with high residuals, high DFBETAS, respective high DFFITS values or observations with high leverage, high DFBETAS, and high DFFITS. What is interesting to observe that there is no observation with high leverage and high residual, which we considered in simple linear regression as an influential point.\n",
    "\n",
    "The dataset is very small, thus, it does not make sense to drop all observations listed in the table above. Although none of the observations has Cook's distance exceeding the threshold, we can observe that observation 56 has extremely high Cook's distance relative to the mean of all observations. Let's remove that observation and build a new model."
   ]
  },
  {
   "cell_type": "code",
   "execution_count": 33,
   "metadata": {},
   "outputs": [
    {
     "name": "stdout",
     "output_type": "stream",
     "text": [
      "                            OLS Regression Results                            \n",
      "==============================================================================\n",
      "Dep. Variable:                 Salary   R-squared:                       0.363\n",
      "Model:                            OLS   Adj. R-squared:                  0.332\n",
      "Method:                 Least Squares   F-statistic:                     11.77\n",
      "Date:                Wed, 01 Apr 2020   Prob (F-statistic):           3.37e-06\n",
      "Time:                        00:03:29   Log-Likelihood:                -90.067\n",
      "No. Observations:                  66   AIC:                             188.1\n",
      "Df Residuals:                      62   BIC:                             196.9\n",
      "Df Model:                           3                                         \n",
      "Covariance Type:            nonrobust                                         \n",
      "==============================================================================\n",
      "                 coef    std err          t      P>|t|      [0.025      0.975]\n",
      "------------------------------------------------------------------------------\n",
      "Intercept     25.7844      0.641     40.254      0.000      24.504      27.065\n",
      "NumExpl        0.0020      0.002      1.060      0.293      -0.002       0.006\n",
      "Margin         0.0885      0.036      2.465      0.016       0.017       0.160\n",
      "IPCost         0.2187      0.068      3.233      0.002       0.083       0.354\n",
      "==============================================================================\n",
      "Omnibus:                        2.221   Durbin-Watson:                   1.900\n",
      "Prob(Omnibus):                  0.329   Jarque-Bera (JB):                1.551\n",
      "Skew:                          -0.353   Prob(JB):                        0.461\n",
      "Kurtosis:                       3.258   Cond. No.                         556.\n",
      "==============================================================================\n",
      "\n",
      "Warnings:\n",
      "[1] Standard Errors assume that the covariance matrix of the errors is correctly specified.\n",
      "\n",
      "RMSE = 0.9772374546411747\n"
     ]
    }
   ],
   "source": [
    "result1 = ols(formula = 'Salary ~ NumExpl + Margin + IPCost', data=data.drop(data.index[55])).fit()\n",
    "print(result1.summary())\n",
    "print(\"\\nRMSE =\",np.sqrt(result1.mse_resid))"
   ]
  },
  {
   "cell_type": "markdown",
   "metadata": {},
   "source": [
    "We can observe from the above OLS summary that the p-value for the coefficient of 'NumExpl' shows that we cannot reject the null hypothesis that its coefficient is nonzero. That is, removing a single observation from the dataset, we end up in a reduced model (instead of 3, we will have only two predictors)."
   ]
  },
  {
   "cell_type": "code",
   "execution_count": 34,
   "metadata": {},
   "outputs": [
    {
     "name": "stdout",
     "output_type": "stream",
     "text": [
      "                            OLS Regression Results                            \n",
      "==============================================================================\n",
      "Dep. Variable:                 Salary   R-squared:                       0.351\n",
      "Model:                            OLS   Adj. R-squared:                  0.331\n",
      "Method:                 Least Squares   F-statistic:                     17.05\n",
      "Date:                Wed, 01 Apr 2020   Prob (F-statistic):           1.20e-06\n",
      "Time:                        00:03:30   Log-Likelihood:                -90.660\n",
      "No. Observations:                  66   AIC:                             187.3\n",
      "Df Residuals:                      63   BIC:                             193.9\n",
      "Df Model:                           2                                         \n",
      "Covariance Type:            nonrobust                                         \n",
      "==============================================================================\n",
      "                 coef    std err          t      P>|t|      [0.025      0.975]\n",
      "------------------------------------------------------------------------------\n",
      "Intercept     25.9964      0.609     42.678      0.000      24.779      27.214\n",
      "Margin         0.0892      0.036      2.483      0.016       0.017       0.161\n",
      "IPCost         0.2110      0.067      3.134      0.003       0.076       0.346\n",
      "==============================================================================\n",
      "Omnibus:                        2.357   Durbin-Watson:                   1.924\n",
      "Prob(Omnibus):                  0.308   Jarque-Bera (JB):                1.714\n",
      "Skew:                          -0.380   Prob(JB):                        0.424\n",
      "Kurtosis:                       3.217   Cond. No.                         106.\n",
      "==============================================================================\n",
      "\n",
      "Warnings:\n",
      "[1] Standard Errors assume that the covariance matrix of the errors is correctly specified.\n",
      "\n",
      "RMSE = 0.9781989519390469\n"
     ]
    }
   ],
   "source": [
    "result2 = ols(formula = 'Salary ~ Margin + IPCost', data=data.drop(data.index[55])).fit()\n",
    "print(result2.summary())\n",
    "print(\"\\nRMSE =\",np.sqrt(result2.mse_resid))"
   ]
  },
  {
   "cell_type": "markdown",
   "metadata": {},
   "source": [
    "We can observe from the new OLS result that the reduced model produces almost the same results for the R-squared and RMSE as with the full model using all three predictors. Thus, we can conclude that this particular observation shall be seen as an outlier or influential point and, by removing from the data, we end up in a different model (regression coefficients are changed significantly). That is, by omitting this single observation, we realize that the number of employees does not affect the salary.\n",
    "\n",
    "Now let's check the reduced dataset for outliers and potential influential points."
   ]
  },
  {
   "cell_type": "code",
   "execution_count": 35,
   "metadata": {},
   "outputs": [
    {
     "name": "stdout",
     "output_type": "stream",
     "text": [
      "Unusual observations:\n",
      "===============================================================================\n",
      " Index  Salary  NumExpl  Margin  IPCost  Cook's dist.       Type        Note\n",
      "     7    27.5     42.0    23.4    8.61      0.056617  [R, B, F]  [w_0, w_1]\n",
      "    11    30.9    121.0    24.6    7.37      0.015680        [B]       [w_1]\n",
      "    15    31.3    107.0    15.3   10.94      0.090821     [B, F]  [w_1, w_2]\n",
      "    32    30.7     40.0    16.1   10.31      0.037040        [B]  [w_1, w_2]\n",
      "    37    27.7     28.0    19.8    9.70      0.038314     [R, B]       [w_2]\n",
      "    38    27.3     30.0     6.7    3.16      0.006681        [X]          []\n",
      "    46    25.7    130.0    15.6    4.11      0.128857  [R, B, F]  [w_0, w_2]\n",
      "    58    29.7     62.0    20.9    9.26      0.000044        [X]          []\n",
      "    65    29.9     35.0    23.4    8.42      0.000313        [R]          []\n",
      "_______________________________________________________________________________\n",
      "Means:    29.4     85.9    19.1    7.69      0.019186\n"
     ]
    }
   ],
   "source": [
    "N,D=66,2\n",
    "dffits_threshold=2*np.sqrt((D+1)/N)\n",
    "idx_R=np.nonzero(abs(result2.get_influence().resid_studentized_external[:,np.newaxis])>2.0)[0]\n",
    "idx_X=np.nonzero(result2.get_influence().hat_matrix_diag>3.0*(D+1)/N)[0]\n",
    "idx_F=np.nonzero(abs(result2.get_influence().dffits[0])>dffits_threshold)[0]\n",
    "idx_B,idx_w=np.nonzero(abs(result2.get_influence().dfbetas)>2/np.sqrt(N))\n",
    "idx_C=np.nonzero(result2.get_influence().cooks_distance[0]>stats.f.sf(0.5,D+1,N-D-1))[0]\n",
    "print(\"Unusual observations:\")\n",
    "print(\"===============================================================================\")\n",
    "df=pd.DataFrame(columns=['Index','Salary','NumExpl','Margin','IPCost',\"Cook's dist.\",'Type','Note'])\n",
    "idx=np.sort(np.append(idx_X,idx_R))\n",
    "idx=np.sort(np.append(idx,idx_B))\n",
    "idx=np.sort(np.append(idx,idx_F))\n",
    "idx=np.sort(np.append(idx,idx_C))\n",
    "idx=np.unique(idx)\n",
    "\n",
    "for i in idx:\n",
    "    df.loc[i]=[i+1,y_[i,0],Xdot[i,1],Xdot[i,2],Xdot[i,3],cook2_[i],outliertype(i),\\\n",
    "               ['w_'+str(idx_w[i]) for i in list(np.ravel(np.argwhere(i==idx_B)))]]\n",
    "df['Index']=df['Index'].astype(int)\n",
    "print(df.to_string(index=False))\n",
    "print('_______________________________________________________________________________')\n",
    "print(\"Means:    %3.1f     %3.1f    %3.1f    %3.2f      %1.6f\"%\\\n",
    "      (y_.mean(),Xdot[:,1].mean(),Xdot[:,2].mean(),Xdot[:,3].mean(),cook2_.mean()))"
   ]
  },
  {
   "cell_type": "markdown",
   "metadata": {},
   "source": [
    "Although there are still observations marked with high residual, high leverage, high DFFITS, and high DFBETAS, the Cook's distances seem to be small for all these marked observations."
   ]
  },
  {
   "cell_type": "markdown",
   "metadata": {
    "colab_type": "text",
    "id": "DqBkeXGDVLjH"
   },
   "source": [
    "## 6. Graphical analysis <a name=\"GraphicAnalysis\"></a>\n",
    "\n",
    "As we could see, there is no \"silver bullet\", which pin-point the influential point, and different techniques may provide different results. For this reason, the graphical analysis shall be carried out, to be able to localize better the influential points. \n",
    "\n",
    "First, we shall recreate the indexes of the observation with high leverage, high residual, high DFFITS, high DFBETAS, and high Cook's distance."
   ]
  },
  {
   "cell_type": "code",
   "execution_count": 36,
   "metadata": {},
   "outputs": [],
   "source": [
    "N,D=67,3\n",
    "idx_R=np.nonzero(abs(result.get_influence().resid_studentized_external[:,np.newaxis])>2.0)[0]\n",
    "idx_X=np.nonzero(result.get_influence().hat_matrix_diag>3.0*(D+1)/N)[0]\n",
    "idx_F=np.nonzero(abs(result.get_influence().dffits[0])>dffits_threshold)[0]\n",
    "idx_B=np.unique(np.nonzero(abs(result.get_influence().dfbetas)>2/np.sqrt(N))[0])\n",
    "idx_C=np.nonzero(result.get_influence().cooks_distance[0]>stats.f.sf(0.5,D+1,N-D-1))[0]"
   ]
  },
  {
   "cell_type": "markdown",
   "metadata": {},
   "source": [
    "As a first start, we can make the probability plot of the standardized and studentized residuals similarly with the residuals of the simple linear regression."
   ]
  },
  {
   "cell_type": "code",
   "execution_count": 37,
   "metadata": {},
   "outputs": [
    {
     "data": {
      "image/png": "[encoded data removed]",
      "text/plain": [
       "<Figure size 1080x360 with 2 Axes>"
      ]
     },
     "metadata": {
      "needs_background": "light"
     },
     "output_type": "display_data"
    }
   ],
   "source": [
    "from scipy import stats\n",
    "fig, ax = plt.subplots(1, 2, figsize=(15, 5))\n",
    "stats.probplot(np.ravel(rstd_), plot=ax[0])\n",
    "stats.probplot(np.ravel(rstud_), plot=ax[1])\n",
    "plt.show()"
   ]
  },
  {
   "cell_type": "markdown",
   "metadata": {},
   "source": [
    "As can be seen above, both the standardized and studentized residuals seem to follow the normal distribution.\n",
    "\n",
    "Make a scatterplot of the observations from the dataset in order to have a grasp of your data. Because there are 3 independent variables the forward response plot and the residuals vs. fitted plot will be used. For completeness, we also highlight the \"unusual observations\" according to the legend in the figure."
   ]
  },
  {
   "cell_type": "code",
   "execution_count": 38,
   "metadata": {},
   "outputs": [
    {
     "data": {
      "image/png": "[encoded data removed]",
      "text/plain": [
       "<Figure size 1080x360 with 2 Axes>"
      ]
     },
     "metadata": {
      "needs_background": "light"
     },
     "output_type": "display_data"
    }
   ],
   "source": [
    "fig, ax = plt.subplots(1, 2, figsize=(15, 5))\n",
    "ax[0].scatter(yhat_,y_,s=15)\n",
    "ax[0].scatter(yhat_[idx_R],y_[idx_R],s=200,marker='o',linewidths=2,facecolors='none', edgecolors='k',label='High residuals')\n",
    "ax[0].scatter(yhat_[idx_X],y_[idx_X],s=160,marker='s',linewidths=2,facecolors='none', edgecolors='g',label='High leverages')\n",
    "ax[0].scatter(yhat_[idx_B],y_[idx_B],s=200,marker='+',c='r',label='High DFBETAS')\n",
    "ax[0].scatter(yhat_[idx_F],y_[idx_F],s=100,marker='x',c='b',label='High DFFITS')\n",
    "ax[0].plot([yhat_.min(),yhat_.max()],[yhat_.min(),yhat_.max()],'m--')\n",
    "ax[0].set_xlabel('Predicted value',fontsize=12)\n",
    "ax[0].set_ylabel('Observed value',fontsize=12)\n",
    "ax[0].set_title('Forward response plot (observed vs. predicted value)',fontsize=14)\n",
    "ax[0].legend()\n",
    "ax[1].scatter(yhat_,rstud_,s=15)\n",
    "ax[1].scatter(yhat_[idx_R],rstud_[idx_R],s=200,marker='o',linewidths=2,facecolors='none', edgecolors='k',label='High residuals')\n",
    "ax[1].scatter(yhat_[idx_X],rstud_[idx_X],s=160,marker='s',linewidths=2,facecolors='none', edgecolors='g',label='High leverages')\n",
    "ax[1].scatter(yhat_[idx_B],rstud_[idx_B],s=150,marker='+',c='r',label='High DFBETAS')\n",
    "ax[1].scatter(yhat_[idx_F],rstud_[idx_F],s=100,marker='x',c='b',label='High DFFITS')\n",
    "ax[1].plot([yhat_.min(),yhat_.max()],[0,0],'m--')\n",
    "ax[1].plot([yhat_.min(),yhat_.max()],[-2.0,-2.0],'r:')\n",
    "ax[1].plot([yhat_.min(),yhat_.max()],[+2.0,+2.0],'r:')\n",
    "ax[1].set_xlabel('Predicted value',fontsize=12)\n",
    "ax[1].set_ylabel('Studentized residual',fontsize=12)\n",
    "ax[1].set_title('(Studentized) residual plot',fontsize=14)\n",
    "ax[1].legend()\n",
    "plt.show()"
   ]
  },
  {
   "cell_type": "markdown",
   "metadata": {},
   "source": [
    "The forward response plot (fitted versus the response scatter plot) shows that the data points are residing along a line so the linear model seems to be a good choice. However, none of the unusual observations can be localized visually, except for the observations with high residuals.\n",
    "\n",
    "The residual-versus-fitted plot shows that the residuals are scattered randomly around zero, which is again a good sign that the linear model is appropriate. This plot may help to localize visually the observations with high studentized residuals (dotted red lines show the thresholds). From these plots, the high leverage observations cannot be observed with a visual inspection.\n",
    "\n",
    "To find out observations with both high leverage and high studentized residual, we can create a scatter plot with leverages on the horizontal axis and squared studentized residuals on the vertical axis. Using squared values for the studentized residuals, we limit the observations for the first quadrant. Here we use the orange bubble for the observations with high squared studentized residual and the red rectangle the observations with high leverage. Besides, we can plot the thresholds for leverages and squared studentized residuals as vertical and horizontal dotted red lines to make it more visible the observations passing the thresholds. "
   ]
  },
  {
   "cell_type": "code",
   "execution_count": 39,
   "metadata": {},
   "outputs": [
    {
     "data": {
      "image/png": "[encoded data removed]",
      "text/plain": [
       "<Figure size 432x288 with 1 Axes>"
      ]
     },
     "metadata": {
      "needs_background": "light"
     },
     "output_type": "display_data"
    }
   ],
   "source": [
    "plt.scatter(h_,rstud_**2)\n",
    "plt.scatter(h_[idx_R],rstud_[idx_R]**2,s=100)\n",
    "for i in idx_R:\n",
    "    plt.annotate(i+1, (float(h_[i]),float(rstud_[i]**2)+0.2))\n",
    "plt.scatter(h_[idx_X],rstud_[idx_X]**2,s=100,c='r',marker='s')\n",
    "for i in idx_X:\n",
    "    plt.annotate(i+1, (float(h_[i]),float(rstud_[i]**2)+0.2))\n",
    "plt.plot([3*levAvg,3*levAvg],[0,(rstud_**2).max()],'r--')\n",
    "plt.plot([0,h_.max()],[4,4],'r--')\n",
    "plt.xlabel('Leverages',fontsize=12)\n",
    "plt.ylabel('Squared studentized residuals',fontsize=12)\n",
    "plt.title(\"Squared studentized residuals vs. leverages\",fontsize=14)\n",
    "plt.show()"
   ]
  },
  {
   "cell_type": "markdown",
   "metadata": {},
   "source": [
    "From this plot, observations with both high leverage and high studentized residuals can be easily picked out. We can observe that observation with index 56 has both high leverage and high studentized residual (squared residual is near the threshold). Thus, it is most probably an influential point. This plot is useful, as the first quadrant is divided further into 4 quadrants, and influential points (observations with both high leverage and high residual) are in the first quadrant. \n",
    "\n",
    "We can do a similar plot using graphics of *statsmodels* library. There are two differences however, squared normalized residuals are used instead of studentized residuals, and the axis are interchanged, squared normalized residuals are on the horizontal axis, while leverages are on the vertical axis (indexing starts from zero).  "
   ]
  },
  {
   "cell_type": "code",
   "execution_count": 40,
   "metadata": {},
   "outputs": [
    {
     "data": {
      "image/png": "[encoded data removed]",
      "text/plain": [
       "<Figure size 432x288 with 1 Axes>"
      ]
     },
     "metadata": {
      "needs_background": "light"
     },
     "output_type": "display_data"
    }
   ],
   "source": [
    "lm = sm.OLS(y_, X).fit()\n",
    "sm.graphics.plot_leverage_resid2(lm)\n",
    "plt.show()"
   ]
  },
  {
   "cell_type": "markdown",
   "metadata": {},
   "source": [
    "As we have seen, it may happen that even in the presence of an outlier, Cook's distance is well below the threshold. Then we can create a plot of Cook's distances vs. the index of the observation, and those observations which have Cook's distance much bigger than the rest of the observation might be outliers."
   ]
  },
  {
   "cell_type": "code",
   "execution_count": 41,
   "metadata": {},
   "outputs": [
    {
     "data": {
      "image/png": "[encoded data removed]",
      "text/plain": [
       "<Figure size 432x288 with 1 Axes>"
      ]
     },
     "metadata": {
      "needs_background": "light"
     },
     "output_type": "display_data"
    }
   ],
   "source": [
    "plt.stem(cook_,use_line_collection=True)\n",
    "plt.xlabel('Index of the observation',fontsize=12)\n",
    "plt.ylabel(\"Cook's distance\",fontsize=12)\n",
    "plt.title(\"Cook's distances for each observation\",fontsize=14)\n",
    "for idx in np.nonzero(cook_>0.05)[0]:\n",
    "    plt.annotate(str(idx+1),xy=(idx+1,cook_[idx]),color='red',fontsize=12)\n",
    "plt.show()"
   ]
  },
  {
   "cell_type": "markdown",
   "metadata": {},
   "source": [
    "We can observe that none of the observations has Cook's distance greater than the threshold, but the highest value has the observation with index 56, and it sticks out from the rest of the distances.\n",
    "\n",
    "We can also create a so-called influence plot. This kind of scatter plot represents a 2D plot with 3 dimensions, where the 3rd dimension is represented by the size of the bubbles. So, with the leverages on the horizontal axis and studentized residuals on the vertical axis, the bubble size of each observation is proportional to its Cook's distance. The 10 biggest bubbles can be annotated with the index of the observation."
   ]
  },
  {
   "cell_type": "code",
   "execution_count": 42,
   "metadata": {},
   "outputs": [
    {
     "data": {
      "image/png": "[encoded data removed]",
      "text/plain": [
       "<Figure size 432x288 with 1 Axes>"
      ]
     },
     "metadata": {
      "needs_background": "light"
     },
     "output_type": "display_data"
    }
   ],
   "source": [
    "idx=np.argsort(cook_,axis=0)[-10:,0]\n",
    "for i in range(N):\n",
    "    plt.scatter(h_[i],rstud_[i],c='b',s=cook_[i]*5000)\n",
    "    if i in idx:\n",
    "        plt.annotate(i+1, (float(h_[i])+0.01,float(rstud_[i])+0.1+cook_[i]*1.5),color='red',fontsize=12)\n",
    "plt.xlabel('Leverages',fontsize=12)\n",
    "plt.ylabel('Studentized residuals',fontsize=12)\n",
    "plt.title(\"Influence plot with Cook's distances\",fontsize=14)\n",
    "plt.show()"
   ]
  },
  {
   "cell_type": "markdown",
   "metadata": {},
   "source": [
    "As we can see, the observation with the highest bubble, and thus with the highest Cook's distance, is the one having index 56.\n",
    "\n",
    "We can also do this using the graphics of the *statsmodels* library. Be careful, the indexes start from zero in this case."
   ]
  },
  {
   "cell_type": "code",
   "execution_count": 43,
   "metadata": {},
   "outputs": [
    {
     "data": {
      "image/png": "[encoded data removed]",
      "text/plain": [
       "<Figure size 864x576 with 1 Axes>"
      ]
     },
     "metadata": {
      "needs_background": "light"
     },
     "output_type": "display_data"
    }
   ],
   "source": [
    "fig, ax = plt.subplots(figsize=(12,8))\n",
    "fig = sm.graphics.influence_plot(lm, alpha  = 0.05, ax = ax, criterion=\"cooks\")"
   ]
  },
  {
   "cell_type": "markdown",
   "metadata": {},
   "source": [
    "Based on the Cook's distance, only observation with index 56 shall be considered an influential point."
   ]
  },
  {
   "cell_type": "markdown",
   "metadata": {
    "colab_type": "text",
    "id": "yBT2V8MUV9Ur"
   },
   "source": [
    "## 7. Outlier Masking and Swamping <a name=\"OutlierMask\"></a>\n",
    "\n",
    "Masking can occur when we are testing for a single outlier when there are, in fact, two (or more) outliers, and these additional outliers may influence our test results in the way that no outlier is found. On the other hand, swamping can occur when we specify too many outliers in the test, and observations that may not be outliers are also considered as outliers.\n",
    "\n",
    "Let's check the Star cluster dataset again, which we analyzed in Chapter 2, Exercise 4. With graphical analysis, we concluded that there are 4 outliers. Let's see if we can identify all 4 outliers using the techniques defined for MLR."
   ]
  },
  {
   "cell_type": "code",
   "execution_count": 44,
   "metadata": {},
   "outputs": [
    {
     "data": {
      "text/html": [
       "<div>\n",
       "<style scoped>\n",
       "    .dataframe tbody tr th:only-of-type {\n",
       "        vertical-align: middle;\n",
       "    }\n",
       "\n",
       "    .dataframe tbody tr th {\n",
       "        vertical-align: top;\n",
       "    }\n",
       "\n",
       "    .dataframe thead th {\n",
       "        text-align: right;\n",
       "    }\n",
       "</style>\n",
       "<table border=\"1\" class=\"dataframe\">\n",
       "  <thead>\n",
       "    <tr style=\"text-align: right;\">\n",
       "      <th></th>\n",
       "      <th>Index</th>\n",
       "      <th>LogSurfTemp</th>\n",
       "      <th>LogLightIntense</th>\n",
       "    </tr>\n",
       "  </thead>\n",
       "  <tbody>\n",
       "    <tr>\n",
       "      <th>0</th>\n",
       "      <td>1</td>\n",
       "      <td>4.37</td>\n",
       "      <td>5.23</td>\n",
       "    </tr>\n",
       "    <tr>\n",
       "      <th>1</th>\n",
       "      <td>2</td>\n",
       "      <td>4.56</td>\n",
       "      <td>5.74</td>\n",
       "    </tr>\n",
       "    <tr>\n",
       "      <th>2</th>\n",
       "      <td>3</td>\n",
       "      <td>4.26</td>\n",
       "      <td>4.93</td>\n",
       "    </tr>\n",
       "    <tr>\n",
       "      <th>3</th>\n",
       "      <td>4</td>\n",
       "      <td>4.56</td>\n",
       "      <td>5.74</td>\n",
       "    </tr>\n",
       "    <tr>\n",
       "      <th>4</th>\n",
       "      <td>5</td>\n",
       "      <td>4.30</td>\n",
       "      <td>5.19</td>\n",
       "    </tr>\n",
       "    <tr>\n",
       "      <th>5</th>\n",
       "      <td>6</td>\n",
       "      <td>4.46</td>\n",
       "      <td>5.46</td>\n",
       "    </tr>\n",
       "    <tr>\n",
       "      <th>6</th>\n",
       "      <td>7</td>\n",
       "      <td>3.84</td>\n",
       "      <td>4.65</td>\n",
       "    </tr>\n",
       "    <tr>\n",
       "      <th>7</th>\n",
       "      <td>8</td>\n",
       "      <td>4.57</td>\n",
       "      <td>5.27</td>\n",
       "    </tr>\n",
       "    <tr>\n",
       "      <th>8</th>\n",
       "      <td>9</td>\n",
       "      <td>4.26</td>\n",
       "      <td>5.57</td>\n",
       "    </tr>\n",
       "    <tr>\n",
       "      <th>9</th>\n",
       "      <td>10</td>\n",
       "      <td>4.37</td>\n",
       "      <td>5.12</td>\n",
       "    </tr>\n",
       "    <tr>\n",
       "      <th>10</th>\n",
       "      <td>11</td>\n",
       "      <td>3.49</td>\n",
       "      <td>5.73</td>\n",
       "    </tr>\n",
       "    <tr>\n",
       "      <th>11</th>\n",
       "      <td>12</td>\n",
       "      <td>4.43</td>\n",
       "      <td>5.45</td>\n",
       "    </tr>\n",
       "    <tr>\n",
       "      <th>12</th>\n",
       "      <td>13</td>\n",
       "      <td>4.48</td>\n",
       "      <td>5.42</td>\n",
       "    </tr>\n",
       "    <tr>\n",
       "      <th>13</th>\n",
       "      <td>14</td>\n",
       "      <td>4.01</td>\n",
       "      <td>4.05</td>\n",
       "    </tr>\n",
       "    <tr>\n",
       "      <th>14</th>\n",
       "      <td>15</td>\n",
       "      <td>4.29</td>\n",
       "      <td>4.26</td>\n",
       "    </tr>\n",
       "    <tr>\n",
       "      <th>15</th>\n",
       "      <td>16</td>\n",
       "      <td>4.42</td>\n",
       "      <td>4.58</td>\n",
       "    </tr>\n",
       "    <tr>\n",
       "      <th>16</th>\n",
       "      <td>17</td>\n",
       "      <td>4.23</td>\n",
       "      <td>3.94</td>\n",
       "    </tr>\n",
       "    <tr>\n",
       "      <th>17</th>\n",
       "      <td>18</td>\n",
       "      <td>4.42</td>\n",
       "      <td>4.18</td>\n",
       "    </tr>\n",
       "    <tr>\n",
       "      <th>18</th>\n",
       "      <td>19</td>\n",
       "      <td>4.23</td>\n",
       "      <td>4.18</td>\n",
       "    </tr>\n",
       "    <tr>\n",
       "      <th>19</th>\n",
       "      <td>20</td>\n",
       "      <td>3.49</td>\n",
       "      <td>5.89</td>\n",
       "    </tr>\n",
       "    <tr>\n",
       "      <th>20</th>\n",
       "      <td>21</td>\n",
       "      <td>4.29</td>\n",
       "      <td>4.38</td>\n",
       "    </tr>\n",
       "    <tr>\n",
       "      <th>21</th>\n",
       "      <td>22</td>\n",
       "      <td>4.29</td>\n",
       "      <td>4.22</td>\n",
       "    </tr>\n",
       "    <tr>\n",
       "      <th>22</th>\n",
       "      <td>23</td>\n",
       "      <td>4.42</td>\n",
       "      <td>4.42</td>\n",
       "    </tr>\n",
       "    <tr>\n",
       "      <th>23</th>\n",
       "      <td>24</td>\n",
       "      <td>4.49</td>\n",
       "      <td>4.85</td>\n",
       "    </tr>\n",
       "    <tr>\n",
       "      <th>24</th>\n",
       "      <td>25</td>\n",
       "      <td>4.38</td>\n",
       "      <td>5.02</td>\n",
       "    </tr>\n",
       "    <tr>\n",
       "      <th>25</th>\n",
       "      <td>26</td>\n",
       "      <td>4.42</td>\n",
       "      <td>4.66</td>\n",
       "    </tr>\n",
       "    <tr>\n",
       "      <th>26</th>\n",
       "      <td>27</td>\n",
       "      <td>4.29</td>\n",
       "      <td>4.66</td>\n",
       "    </tr>\n",
       "    <tr>\n",
       "      <th>27</th>\n",
       "      <td>28</td>\n",
       "      <td>4.38</td>\n",
       "      <td>4.90</td>\n",
       "    </tr>\n",
       "    <tr>\n",
       "      <th>28</th>\n",
       "      <td>29</td>\n",
       "      <td>4.22</td>\n",
       "      <td>4.39</td>\n",
       "    </tr>\n",
       "    <tr>\n",
       "      <th>29</th>\n",
       "      <td>30</td>\n",
       "      <td>3.48</td>\n",
       "      <td>6.05</td>\n",
       "    </tr>\n",
       "    <tr>\n",
       "      <th>30</th>\n",
       "      <td>31</td>\n",
       "      <td>4.38</td>\n",
       "      <td>4.42</td>\n",
       "    </tr>\n",
       "    <tr>\n",
       "      <th>31</th>\n",
       "      <td>32</td>\n",
       "      <td>4.56</td>\n",
       "      <td>5.10</td>\n",
       "    </tr>\n",
       "    <tr>\n",
       "      <th>32</th>\n",
       "      <td>33</td>\n",
       "      <td>4.45</td>\n",
       "      <td>5.22</td>\n",
       "    </tr>\n",
       "    <tr>\n",
       "      <th>33</th>\n",
       "      <td>34</td>\n",
       "      <td>3.49</td>\n",
       "      <td>6.29</td>\n",
       "    </tr>\n",
       "    <tr>\n",
       "      <th>34</th>\n",
       "      <td>35</td>\n",
       "      <td>4.23</td>\n",
       "      <td>4.34</td>\n",
       "    </tr>\n",
       "    <tr>\n",
       "      <th>35</th>\n",
       "      <td>36</td>\n",
       "      <td>4.62</td>\n",
       "      <td>5.62</td>\n",
       "    </tr>\n",
       "    <tr>\n",
       "      <th>36</th>\n",
       "      <td>37</td>\n",
       "      <td>4.53</td>\n",
       "      <td>5.10</td>\n",
       "    </tr>\n",
       "    <tr>\n",
       "      <th>37</th>\n",
       "      <td>38</td>\n",
       "      <td>4.45</td>\n",
       "      <td>5.22</td>\n",
       "    </tr>\n",
       "    <tr>\n",
       "      <th>38</th>\n",
       "      <td>39</td>\n",
       "      <td>4.53</td>\n",
       "      <td>5.18</td>\n",
       "    </tr>\n",
       "    <tr>\n",
       "      <th>39</th>\n",
       "      <td>40</td>\n",
       "      <td>4.43</td>\n",
       "      <td>5.57</td>\n",
       "    </tr>\n",
       "    <tr>\n",
       "      <th>40</th>\n",
       "      <td>41</td>\n",
       "      <td>4.38</td>\n",
       "      <td>4.62</td>\n",
       "    </tr>\n",
       "    <tr>\n",
       "      <th>41</th>\n",
       "      <td>42</td>\n",
       "      <td>4.45</td>\n",
       "      <td>5.06</td>\n",
       "    </tr>\n",
       "    <tr>\n",
       "      <th>42</th>\n",
       "      <td>43</td>\n",
       "      <td>4.50</td>\n",
       "      <td>5.34</td>\n",
       "    </tr>\n",
       "    <tr>\n",
       "      <th>43</th>\n",
       "      <td>44</td>\n",
       "      <td>4.45</td>\n",
       "      <td>5.34</td>\n",
       "    </tr>\n",
       "    <tr>\n",
       "      <th>44</th>\n",
       "      <td>45</td>\n",
       "      <td>4.55</td>\n",
       "      <td>5.54</td>\n",
       "    </tr>\n",
       "    <tr>\n",
       "      <th>45</th>\n",
       "      <td>46</td>\n",
       "      <td>4.45</td>\n",
       "      <td>4.98</td>\n",
       "    </tr>\n",
       "    <tr>\n",
       "      <th>46</th>\n",
       "      <td>47</td>\n",
       "      <td>4.42</td>\n",
       "      <td>4.50</td>\n",
       "    </tr>\n",
       "  </tbody>\n",
       "</table>\n",
       "</div>"
      ],
      "text/plain": [
       "    Index  LogSurfTemp  LogLightIntense\n",
       "0       1         4.37             5.23\n",
       "1       2         4.56             5.74\n",
       "2       3         4.26             4.93\n",
       "3       4         4.56             5.74\n",
       "4       5         4.30             5.19\n",
       "5       6         4.46             5.46\n",
       "6       7         3.84             4.65\n",
       "7       8         4.57             5.27\n",
       "8       9         4.26             5.57\n",
       "9      10         4.37             5.12\n",
       "10     11         3.49             5.73\n",
       "11     12         4.43             5.45\n",
       "12     13         4.48             5.42\n",
       "13     14         4.01             4.05\n",
       "14     15         4.29             4.26\n",
       "15     16         4.42             4.58\n",
       "16     17         4.23             3.94\n",
       "17     18         4.42             4.18\n",
       "18     19         4.23             4.18\n",
       "19     20         3.49             5.89\n",
       "20     21         4.29             4.38\n",
       "21     22         4.29             4.22\n",
       "22     23         4.42             4.42\n",
       "23     24         4.49             4.85\n",
       "24     25         4.38             5.02\n",
       "25     26         4.42             4.66\n",
       "26     27         4.29             4.66\n",
       "27     28         4.38             4.90\n",
       "28     29         4.22             4.39\n",
       "29     30         3.48             6.05\n",
       "30     31         4.38             4.42\n",
       "31     32         4.56             5.10\n",
       "32     33         4.45             5.22\n",
       "33     34         3.49             6.29\n",
       "34     35         4.23             4.34\n",
       "35     36         4.62             5.62\n",
       "36     37         4.53             5.10\n",
       "37     38         4.45             5.22\n",
       "38     39         4.53             5.18\n",
       "39     40         4.43             5.57\n",
       "40     41         4.38             4.62\n",
       "41     42         4.45             5.06\n",
       "42     43         4.50             5.34\n",
       "43     44         4.45             5.34\n",
       "44     45         4.55             5.54\n",
       "45     46         4.45             4.98\n",
       "46     47         4.42             4.50"
      ]
     },
     "execution_count": 44,
     "metadata": {},
     "output_type": "execute_result"
    }
   ],
   "source": [
    "dataStar = pd.read_csv(os.path.join('data','StarClusterCYGOB1.csv'))\n",
    "dataStar=dataStar.rename(columns={\"Log surface termperature of the star\": \"LogSurfTemp\",\\\n",
    "                                  \"Log light intensity of the star\":\"LogLightIntense\"})\n",
    "dataStar"
   ]
  },
  {
   "cell_type": "markdown",
   "metadata": {},
   "source": [
    "In Chapter 2, Exercise 4, we localized the influential points, and they are residing on the top left of the scatter plot. "
   ]
  },
  {
   "cell_type": "code",
   "execution_count": 45,
   "metadata": {},
   "outputs": [
    {
     "data": {
      "image/png": "[encoded data removed]",
      "text/plain": [
       "<Figure size 432x288 with 1 Axes>"
      ]
     },
     "metadata": {
      "needs_background": "light"
     },
     "output_type": "display_data"
    }
   ],
   "source": [
    "from matplotlib.patches import Ellipse\n",
    "dataStar.plot.scatter(y='LogLightIntense',x='LogSurfTemp')\n",
    "plt.gca().add_artist(Ellipse(xy=(3.52,6.0), width=0.18, height=0.83, edgecolor='r', fc='None', lw=2))\n",
    "for i in dataStar[dataStar['LogSurfTemp']<3.5].index:\n",
    "    plt.annotate(str(i+1),(dataStar.iloc[i]['LogSurfTemp'],dataStar.iloc[i]['LogLightIntense']),\\\n",
    "                 (dataStar.iloc[i]['LogSurfTemp']+0.02,dataStar.iloc[i]['LogLightIntense']))\n",
    "for i in [6,13]:\n",
    "    plt.annotate(str(i+1),(dataStar.iloc[i]['LogSurfTemp'],dataStar.iloc[i]['LogLightIntense']),\\\n",
    "                 (dataStar.iloc[i]['LogSurfTemp']+0.02,dataStar.iloc[i]['LogLightIntense']))\n",
    "plt.show()"
   ]
  },
  {
   "cell_type": "markdown",
   "metadata": {},
   "source": [
    "From the visual inspection of the dataset, we know that the influential points are those for which have $x<3.5$. So let's print them out."
   ]
  },
  {
   "cell_type": "code",
   "execution_count": 46,
   "metadata": {},
   "outputs": [
    {
     "name": "stdout",
     "output_type": "stream",
     "text": [
      "Shape of the data:\n",
      " (47, 3)\n",
      "Outliers in Star Cluster data:\n",
      "\n",
      "    Index  LogSurfTemp  LogLightIntense\n",
      "10     11         3.49             5.73\n",
      "19     20         3.49             5.89\n",
      "29     30         3.48             6.05\n",
      "33     34         3.49             6.29\n"
     ]
    }
   ],
   "source": [
    "N,D=dataStar.shape\n",
    "print(\"Shape of the data:\\n\",(N,D))\n",
    "print('Outliers in Star Cluster data:\\n')\n",
    "print(dataStar[dataStar['LogSurfTemp']<3.5])"
   ]
  },
  {
   "cell_type": "markdown",
   "metadata": {},
   "source": [
    "Fit the regression model using all observations."
   ]
  },
  {
   "cell_type": "code",
   "execution_count": 47,
   "metadata": {},
   "outputs": [
    {
     "name": "stdout",
     "output_type": "stream",
     "text": [
      "                            OLS Regression Results                            \n",
      "==============================================================================\n",
      "Dep. Variable:            LogSurfTemp   R-squared:                       0.044\n",
      "Model:                            OLS   Adj. R-squared:                  0.023\n",
      "Method:                 Least Squares   F-statistic:                     2.085\n",
      "Date:                Wed, 01 Apr 2020   Prob (F-statistic):              0.156\n",
      "Time:                        00:03:33   Log-Likelihood:                -7.0737\n",
      "No. Observations:                  47   AIC:                             18.15\n",
      "Df Residuals:                      45   BIC:                             21.85\n",
      "Df Model:                           1                                         \n",
      "Covariance Type:            nonrobust                                         \n",
      "===================================================================================\n",
      "                      coef    std err          t      P>|t|      [0.025      0.975]\n",
      "-----------------------------------------------------------------------------------\n",
      "Intercept           4.8469      0.374     12.952      0.000       4.093       5.601\n",
      "LogLightIntense    -0.1071      0.074     -1.444      0.156      -0.257       0.042\n",
      "==============================================================================\n",
      "Omnibus:                       15.615   Durbin-Watson:                   1.885\n",
      "Prob(Omnibus):                  0.000   Jarque-Bera (JB):               17.432\n",
      "Skew:                          -1.359   Prob(JB):                     0.000164\n",
      "Kurtosis:                       4.231   Cond. No.                         46.8\n",
      "==============================================================================\n",
      "\n",
      "Warnings:\n",
      "[1] Standard Errors assume that the covariance matrix of the errors is correctly specified.\n",
      "\n",
      "RMSE = 0.28745428896966685\n"
     ]
    }
   ],
   "source": [
    "resultStar = ols(formula = 'LogSurfTemp ~ LogLightIntense', data=dataStar).fit()\n",
    "print(resultStar.summary())\n",
    "print(\"\\nRMSE =\",np.sqrt(resultStar.mse_resid))"
   ]
  },
  {
   "cell_type": "markdown",
   "metadata": {},
   "source": [
    "The adjusted R-squared is nearly zero. The p-value of the F-statistic also shows that we cannot reject the null hypothesis that at least one regression coefficient is not zero, i.e., all are zero. So our model is not different from a model taking the average of the response variable. Thus, the linear model is not useful, even if the RMSE value is small.\n",
    "\n",
    "Let's find the observations with both high leverage and high studentized residuals:"
   ]
  },
  {
   "cell_type": "code",
   "execution_count": 48,
   "metadata": {
    "scrolled": true
   },
   "outputs": [
    {
     "name": "stdout",
     "output_type": "stream",
     "text": [
      "Index of observations with high leverages: [34]\n",
      "Index of observations with high studentized residuals: [11 20 30 34]\n"
     ]
    }
   ],
   "source": [
    "h_=resultStar.get_influence().summary_frame()['hat_diag'].to_numpy()\n",
    "levAvg=h_.mean()\n",
    "idx_X=np.nonzero(h_>3*levAvg)[0]\n",
    "print(\"Index of observations with high leverages:\",idx_X+1)\n",
    "rstud_=resultStar.get_influence().resid_studentized_external\n",
    "idx_R=np.nonzero(np.abs(rstud_)>2.0)[0]\n",
    "print(\"Index of observations with high studentized residuals:\",idx_R+1)"
   ]
  },
  {
   "cell_type": "markdown",
   "metadata": {},
   "source": [
    "We can observe, that only one observation is found, as having both high leverage and high studentized residual. This is the outlier masking effect.\n",
    "\n",
    "Let's check influential points graphically."
   ]
  },
  {
   "cell_type": "code",
   "execution_count": 49,
   "metadata": {},
   "outputs": [
    {
     "data": {
      "image/png": "[encoded data removed]",
      "text/plain": [
       "<Figure size 432x288 with 1 Axes>"
      ]
     },
     "metadata": {
      "needs_background": "light"
     },
     "output_type": "display_data"
    }
   ],
   "source": [
    "plt.scatter(h_,rstud_**2)\n",
    "plt.scatter(h_[idx_R],rstud_[idx_R]**2,s=100)\n",
    "for i in idx_R:\n",
    "    plt.annotate(i+1, (float(h_[i]),float(rstud_[i]**2)),(float(h_[i])+0.005,float(rstud_[i]**2)+0.1),fontsize=12)\n",
    "plt.scatter(h_[idx_X],rstud_[idx_X]**2,s=100,c='r',marker='s')\n",
    "for i in idx_X:\n",
    "    plt.annotate(i+1, (float(h_[i]),float(rstud_[i]**2)),(float(h_[i])+0.005,float(rstud_[i]**2)+0.1),fontsize=12)\n",
    "plt.plot([3*levAvg,3*levAvg],[0,(rstud_**2).max()],'r--')\n",
    "plt.plot([0,2*h_.max()],[4,4],'r--')\n",
    "plt.xlabel('Leverages',fontsize=12)\n",
    "plt.ylabel('Squared studentized residuals',fontsize=12)\n",
    "plt.title(\"Squared studentized residuals vs. leverages\",fontsize=14)\n",
    "plt.show()"
   ]
  },
  {
   "cell_type": "markdown",
   "metadata": {},
   "source": [
    "It can be observed that, although the 4 influential points have extremely high studentized residuals, the leverages are below the threshold for all, except for one (observation 34). But even that one is close to the threshold. The reason is that the outliers \"pull\" the centroid of the data toward themselves, which results in lower Mahalanobis distances - and thus lower leverages - between the outliers and data center. \n",
    "\n",
    "Now check the DFFITS, DFBETAS:"
   ]
  },
  {
   "cell_type": "code",
   "execution_count": 50,
   "metadata": {},
   "outputs": [
    {
     "name": "stdout",
     "output_type": "stream",
     "text": [
      "Threshold for DFFITS = 0.41256849850351734\n",
      "Observation indexes which DFFITS value exceeding the threshold:\n",
      " [11 14 20 30 34]\n",
      "\n",
      "Threshold for DFBETAS = 0.2917299829957891\n",
      "DFBETAS exceeding the threshold (first index - observation number, second index - index of regression coefficient):\n",
      "11 1\n",
      "11 2\n",
      "14 1\n",
      "14 2\n",
      "20 1\n",
      "20 2\n",
      "30 1\n",
      "30 2\n",
      "34 1\n",
      "34 2\n"
     ]
    }
   ],
   "source": [
    "dffits_,dffits_threshold=resultStar.get_influence().dffits\n",
    "print(\"Threshold for DFFITS =\", dffits_threshold)\n",
    "idx_F=np.nonzero(np.abs(dffits_)>dffits_threshold)[0]\n",
    "print(\"Observation indexes which DFFITS value exceeding the threshold:\\n\",idx_F+1)\n",
    "print()\n",
    "DFBETAS=resultStar.get_influence().dfbetas\n",
    "dfbetas_threshold=2/np.sqrt(N)\n",
    "print(\"Threshold for DFBETAS =\",dfbetas_threshold)\n",
    "idx_B,idx_w=np.nonzero(np.abs(DFBETAS)>dfbetas_threshold)\n",
    "print(\"DFBETAS exceeding the threshold (first index - observation number, second index - index of regression coefficient):\")\n",
    "for i,j in zip(idx_B,idx_w):\n",
    "    print(i+1,j+1)"
   ]
  },
  {
   "cell_type": "markdown",
   "metadata": {},
   "source": [
    "It can be observed that both DFFITS and DFBETAS found 5 outliers, instead of 4. This is the outlier swamping effect.\n",
    "\n",
    "Finally, check the Cook's distances:"
   ]
  },
  {
   "cell_type": "code",
   "execution_count": 51,
   "metadata": {},
   "outputs": [
    {
     "name": "stdout",
     "output_type": "stream",
     "text": [
      "Threshold for Cook's distance = 0.7358222350119112\n",
      "Observation indexes which Cook's distance exceeding the threshold:\n",
      " []\n"
     ]
    }
   ],
   "source": [
    "cook_,pval_=resultStar.get_influence().cooks_distance\n",
    "cook_threshold=stats.f.sf(0.5,D+1,N-D-1)\n",
    "print(\"Threshold for Cook's distance =\",cook_threshold)\n",
    "idx_C=np.nonzero(cook_>cook_threshold)[0]\n",
    "print(\"Observation indexes which Cook's distance exceeding the threshold:\\n\",idx_C+1)"
   ]
  },
  {
   "cell_type": "markdown",
   "metadata": {},
   "source": [
    "None of the Cook's distances exceed the threshold. Let's make a summary of our findings:"
   ]
  },
  {
   "cell_type": "code",
   "execution_count": 52,
   "metadata": {},
   "outputs": [
    {
     "name": "stdout",
     "output_type": "stream",
     "text": [
      "Unusual observations:\n",
      "===============================================================================\n",
      " Index  LogSurfTemp  LogLightIntense  Cook's dist.          Type        Note\n",
      "    11         3.49             5.73      0.208332     [R, B, F]  [w_0, w_1]\n",
      "    14         4.01             4.05      0.096956        [B, F]  [w_0, w_1]\n",
      "    20         3.49             5.89      0.269261     [R, B, F]  [w_0, w_1]\n",
      "    30         3.48             6.05      0.353627     [R, B, F]  [w_0, w_1]\n",
      "    34         3.49             6.29      0.485272  [X, R, B, F]  [w_0, w_1]\n",
      "_______________________________________________________________________________\n",
      "Means:         4.3              5.01      0.038125\n"
     ]
    }
   ],
   "source": [
    "print(\"Unusual observations:\")\n",
    "print(\"===============================================================================\")\n",
    "df=pd.DataFrame(columns=['Index','LogSurfTemp','LogLightIntense',\"Cook's dist.\",'Type','Note'])\n",
    "idx=np.sort(np.append(idx_X,idx_R))\n",
    "idx=np.sort(np.append(idx,idx_B))\n",
    "idx=np.sort(np.append(idx,idx_F))\n",
    "idx=np.sort(np.append(idx,idx_C))\n",
    "idx=np.unique(idx)\n",
    "\n",
    "for i in idx:\n",
    "    df.loc[i]=[i+1,dataStar.iloc[i]['LogSurfTemp'],dataStar.iloc[i]['LogLightIntense'],cook_[i],outliertype(i),\\\n",
    "               ['w_'+str(idx_w[i]) for i in list(np.ravel(np.argwhere(i==idx_B)))]]\n",
    "df['Index']=df['Index'].astype(int)\n",
    "print(df.to_string(index=False))\n",
    "print('_______________________________________________________________________________')\n",
    "print(\"Means:         %3.1f              %3.2f      %1.6f\"%\\\n",
    "      (dataStar['LogSurfTemp'].mean(),dataStar['LogLightIntense'].mean(),cook_.mean()))"
   ]
  },
  {
   "cell_type": "markdown",
   "metadata": {},
   "source": [
    "As we can observe, none of the tests are 'silver bullet'. In this particular dataset, DFFITS and DFBETAS create the swamping effect, while high leverages create the masking effect, and only the studentized residuals show the correct answer. So, we have to rely on graphical analysis, as well.\n",
    "\n",
    "Let's analyze graphically the Cook's distances:"
   ]
  },
  {
   "cell_type": "code",
   "execution_count": 53,
   "metadata": {},
   "outputs": [
    {
     "data": {
      "image/png": "[encoded data removed]",
      "text/plain": [
       "<Figure size 1080x360 with 2 Axes>"
      ]
     },
     "metadata": {
      "needs_background": "light"
     },
     "output_type": "display_data"
    }
   ],
   "source": [
    "fig, ax = plt.subplots(1, 2, figsize=(15, 5))\n",
    "idx=np.argsort(cook_)[::-1][:5]\n",
    "(markerLines, stemLines, baseLines) = ax[0].stem(cook_,use_line_collection=True)\n",
    "plt.setp(baseLines, color = 'blue', linewidth = 2, linestyle  = 'dashed')\n",
    "for i in idx:\n",
    "    ax[0].annotate(i+1,(i,cook_[i]),(i+0.8,cook_[i]),color='red',fontsize=12)\n",
    "ax[0].set_xlabel('Index of the observations',fontsize=12)\n",
    "ax[0].set_ylabel(\"Cook's distance\",fontsize=12)\n",
    "ax[0].set_title(\"Cook's distances for each observation\",fontsize=14)\n",
    "\n",
    "for i in range(N):\n",
    "    ax[1].scatter(h_[i],rstud_[i],c='b',s=cook_[i]*5000)\n",
    "    if i in idx:\n",
    "        ax[1].annotate(i+1, (float(h_[i])+0.001,float(rstud_[i])+0.1+cook_[i]),color='red',fontsize=12)\n",
    "ax[1].set_xlabel('Leverages',fontsize=12)\n",
    "ax[1].set_ylabel('Studentized residuals',fontsize=12)\n",
    "ax[1].set_title(\"Influence plot with Cook's distances\",fontsize=14)\n",
    "plt.show()"
   ]
  },
  {
   "cell_type": "markdown",
   "metadata": {},
   "source": [
    "From the Cook's distances, whether we are looking at the Cook's distance vs. index or Influence plot with Cook's distances, we can conclude that observation 11, 20, 30, 34 might be outliers having large Cook's distance, while observation 14 is somewhere in between.\n",
    "\n",
    "We can conclude that the graphical analysis is more an art than a science, and you should use both your common sense, as well as, the domain knowledge to make the right decision."
   ]
  },
  {
   "cell_type": "markdown",
   "metadata": {},
   "source": [
    "## 8. Modified z-score <a name=\"ModZscore\"></a>\n",
    "\n",
    "As we have seen before, the leverages are proportional to the Mahalanobis distances. On the other hand, when D=1, the Mahalanobis distance is the z-score. So let's check for which observation we have z-score above 3 (3 sigma distance from the center)."
   ]
  },
  {
   "cell_type": "code",
   "execution_count": 54,
   "metadata": {
    "scrolled": true
   },
   "outputs": [
    {
     "data": {
      "text/plain": [
       "array([], dtype=int64)"
      ]
     },
     "execution_count": 54,
     "metadata": {},
     "output_type": "execute_result"
    }
   ],
   "source": [
    "np.nonzero(np.array(abs((dataStar['LogSurfTemp']-dataStar['LogSurfTemp'].mean())/dataStar['LogSurfTemp'].std()))>3)[0]"
   ]
  },
  {
   "cell_type": "markdown",
   "metadata": {},
   "source": [
    "None of the outliers can be found because the center of the data and the spread of the data is greatly influenced by the 4 outliers, so the z-score is not able to catch them (masking effect).\n",
    "\n",
    "Because the multiple outliers pull the regression line toward them and thus, decrease their distance from the center, we might try to use a different test, which is more robust to outliers. As we saw earlier, the median is more robust to extreme values than the mean. So we can use the modified z-score where the center of the input is estimated with the median and the spread of the input with MAD (median absolute deviation)."
   ]
  },
  {
   "cell_type": "code",
   "execution_count": 55,
   "metadata": {},
   "outputs": [
    {
     "name": "stdout",
     "output_type": "stream",
     "text": [
      "[ 7 11 20 30 34]\n"
     ]
    }
   ],
   "source": [
    "mad=np.median(abs(dataStar['LogSurfTemp']-dataStar['LogSurfTemp'].median()))\n",
    "if mad == 0:\n",
    "    mad = 1e-308\n",
    "z_=np.array(abs(0.6745*(dataStar['LogSurfTemp']-dataStar['LogSurfTemp'].median())/mad))[:,np.newaxis]\n",
    "idx_X=np.nonzero(z_>3.5)[0]\n",
    "print(idx_X+1)"
   ]
  },
  {
   "cell_type": "markdown",
   "metadata": {},
   "source": [
    "Now, influential points can be declared those observations, which has both high studentized residuals and high modified z-scores:"
   ]
  },
  {
   "cell_type": "code",
   "execution_count": 56,
   "metadata": {},
   "outputs": [
    {
     "name": "stdout",
     "output_type": "stream",
     "text": [
      "Data points with both high studentized residuals and high modified z-scores: [11, 20, 30, 34]\n"
     ]
    }
   ],
   "source": [
    "print(\"Data points with both high studentized residuals and high modified z-scores:\",\\\n",
    "      list(np.intersect1d(idx_X,idx_R,assume_unique=True)+1))"
   ]
  },
  {
   "cell_type": "markdown",
   "metadata": {},
   "source": [
    "To be able to use this modified z-score for multiple input variables, you may create a modified design matrix $\\mathbf {\\dot Z}_m$ from the modified z-score. The hat matrix $\\mathbf H_m$ will be different from the original one, thus, the leverages and Mahalanobis distances will be different. For this reason, you should use this modified design matrix only to find a group of observations with high leverage."
   ]
  },
  {
   "cell_type": "code",
   "execution_count": 57,
   "metadata": {},
   "outputs": [
    {
     "data": {
      "text/plain": [
       "array([11, 20, 30, 34], dtype=int64)"
      ]
     },
     "execution_count": 57,
     "metadata": {},
     "output_type": "execute_result"
    }
   ],
   "source": [
    "Xdotmod=(np.insert(z_,0,np.ones(N),axis=1))\n",
    "Hmod=Xdotmod@inv(Xdotmod.T@Xdotmod)@Xdotmod.T\n",
    "hmod_=np.diag(Hmod)[:,np.newaxis]\n",
    "idx_X=np.nonzero(hmod_>3*hmod_.mean())[0]\n",
    "idx_X+1"
   ]
  },
  {
   "cell_type": "markdown",
   "metadata": {},
   "source": [
    "Let's make again the squared studentized residual plot against leverages obtained from modified z-scores."
   ]
  },
  {
   "cell_type": "code",
   "execution_count": 58,
   "metadata": {},
   "outputs": [
    {
     "data": {
      "image/png": "[encoded data removed]",
      "text/plain": [
       "<Figure size 432x288 with 1 Axes>"
      ]
     },
     "metadata": {
      "needs_background": "light"
     },
     "output_type": "display_data"
    }
   ],
   "source": [
    "plt.scatter(hmod_,rstud_**2)\n",
    "#plt.scatter(hmod_[idx_R],rstud_[idx_R]**2,s=100)\n",
    "#for i in idx_R:\n",
    "#    plt.annotate(i+1, (float(hmod_[i]),float(rstud_[i]**2)),(float(hmod_[i])+0.005,float(rstud_[i]**2)+0.1),fontsize=12)\n",
    "plt.scatter(hmod_[idx_X],rstud_[idx_X]**2,s=100,c='r',marker='s')\n",
    "for i in idx_X:\n",
    "    plt.annotate(i+1, (float(hmod_[i]),float(rstud_[i]**2)),(float(hmod_[i])+0.01,float(rstud_[i]**2)+0.6-i*0.04),fontsize=12)\n",
    "plt.plot([3*hmod_.mean(),3*hmod_.mean()],[0,(rstud_**2).max()],'r--')\n",
    "plt.plot([0,2*hmod_.max()],[4,4],'r--')\n",
    "plt.xlabel('Leverages with modified z-score',fontsize=12)\n",
    "plt.ylabel('Squared studentized residuals',fontsize=12)\n",
    "plt.title(\"Squared studentized residuals vs. leverages\",fontsize=14)\n",
    "plt.show()"
   ]
  },
  {
   "cell_type": "markdown",
   "metadata": {},
   "source": [
    "As can be seen, the four outliers are pushed in the 1st quadrant where the influential points shall reside.\n",
    "\n",
    "Finally, create a linear model by dropping influential points."
   ]
  },
  {
   "cell_type": "code",
   "execution_count": 59,
   "metadata": {},
   "outputs": [
    {
     "name": "stdout",
     "output_type": "stream",
     "text": [
      "                            OLS Regression Results                            \n",
      "==============================================================================\n",
      "Dep. Variable:            LogSurfTemp   R-squared:                       0.367\n",
      "Model:                            OLS   Adj. R-squared:                  0.351\n",
      "Method:                 Least Squares   F-statistic:                     23.73\n",
      "Date:                Wed, 01 Apr 2020   Prob (F-statistic):           1.70e-05\n",
      "Time:                        00:03:34   Log-Likelihood:                 31.164\n",
      "No. Observations:                  43   AIC:                            -58.33\n",
      "Df Residuals:                      41   BIC:                            -54.81\n",
      "Df Model:                           1                                         \n",
      "Covariance Type:            nonrobust                                         \n",
      "===================================================================================\n",
      "                      coef    std err          t      P>|t|      [0.025      0.975]\n",
      "-----------------------------------------------------------------------------------\n",
      "Intercept           3.5051      0.182     19.272      0.000       3.138       3.872\n",
      "LogLightIntense     0.1791      0.037      4.871      0.000       0.105       0.253\n",
      "==============================================================================\n",
      "Omnibus:                       32.616   Durbin-Watson:                   2.140\n",
      "Prob(Omnibus):                  0.000   Jarque-Bera (JB):               85.055\n",
      "Skew:                          -1.945   Prob(JB):                     3.39e-19\n",
      "Kurtosis:                       8.687   Cond. No.                         51.1\n",
      "==============================================================================\n",
      "\n",
      "Warnings:\n",
      "[1] Standard Errors assume that the covariance matrix of the errors is correctly specified.\n",
      "\n",
      "RMSE = 0.12004616468023308\n"
     ]
    }
   ],
   "source": [
    "resultStar1 = ols(formula = 'LogSurfTemp ~ LogLightIntense', data=dataStar.drop(dataStar.index[idx_R])).fit()\n",
    "print(resultStar1.summary())\n",
    "print(\"\\nRMSE =\",np.sqrt(resultStar1.mse_resid))"
   ]
  },
  {
   "cell_type": "markdown",
   "metadata": {},
   "source": [
    "<img src = \"images/AML1-Cover.png\" width = 90, align = \"left\" style=\"margin:0px 20px\">\n",
    "\n",
    "**Note:** This Jupyter Notebook is accompanying the book: <br><i>\"Machine Learning - From Theory to Practice with NumPy and scikit-learn, Volume 1: Generalized Linear Models\"</i><br>\n",
    "by Ferenc Farkas, Ph.D. \n",
    "\n",
    "If you find this Notebook useful, please support me by buying the book at [Leanpub](http://leanpub.com/AML1). <br>\n",
    "Copyright notice: This Jupyter Notebook is made available under the [MIT License](https://opensource.org/licenses/MIT)."
   ]
  },
  {
   "cell_type": "code",
   "execution_count": null,
   "metadata": {},
   "outputs": [],
   "source": []
  }
 ],
 "metadata": {
  "colab": {
   "collapsed_sections": [],
   "name": "Ch1-1-SimpleRegression.ipynb",
   "provenance": [
    {
     "file_id": "1CAvi5U76y6xIKJarmRS-iX0Jh70o2mGi",
     "timestamp": 1537170166740
    }
   ],
   "version": "0.3.2"
  },
  "kernelspec": {
   "display_name": "Python 3",
   "language": "python",
   "name": "python3"
  },
  "language_info": {
   "codemirror_mode": {
    "name": "ipython",
    "version": 3
   },
   "file_extension": ".py",
   "mimetype": "text/x-python",
   "name": "python",
   "nbconvert_exporter": "python",
   "pygments_lexer": "ipython3",
   "version": "3.7.3"
  }
 },
 "nbformat": 4,
 "nbformat_minor": 1
}
