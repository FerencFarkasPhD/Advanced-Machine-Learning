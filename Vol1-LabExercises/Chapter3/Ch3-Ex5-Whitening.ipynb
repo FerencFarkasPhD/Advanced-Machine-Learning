{
 "cells": [
  {
   "cell_type": "markdown",
   "metadata": {
    "colab_type": "text",
    "id": "tr9o4rl9fUBh"
   },
   "source": [
    "<img src = \"images/Logo.png\" width = 220, align = \"left\">\n",
    "\n",
    "<h1 align=center><font size = 6><span style=\"color:blue\">Whitening</span></font></h1>\n",
    "<h2 align=center><font size = 5>Lab Exercise 3.5</font></h2>\n",
    "<h3 align=center><font size = 4><b>Advanced Machine Learning Made Easy<br></b><small>From Theory to Practice with NumPy and scikit-learn<br><i>Volume 1: Generalized Linear Models</i></font></h3>"
   ]
  },
  {
   "cell_type": "markdown",
   "metadata": {},
   "source": [
    "## Introduction\n",
    "\n",
    "There might be machine learning algorithms that require uncorrelated data. Then, using a linear transformation, it is possible to transform the data such that there is no correlation between the new features. Such a transformation is called whitening because it changes the input vector into a white noise vector. \n",
    "\n",
    "In this lab exercise, three different linear transformations will be e explored more extensively that will provide a new set of variables with a covariance matrix equal to the identity matrix (i.e., the features will not correlate to each other):\n",
    "- ZCA (Mahalanobis) whitening\n",
    "- PCA whitening\n",
    "- Cholesky whitening\n",
    " \n",
    "The following datasets are used in this lab exercise:\n",
    "- \"Digits\" dataset included in the dataset of the scikit-learn library.\n",
    "- \"BodyFat\" dataset from https://rdrr.io/cran/isdals/man/bodyfat.html\n",
    "- \"Iris\" dataset included in the dataset of the scikit-learn library.\n",
    "- In creating the generic whitening function the following R package have been used: *Whitening and High-Dimensional Canonical Correlation Analysis* (see at http://www.strimmerlab.org/software/whitening/)"
   ]
  },
  {
   "cell_type": "markdown",
   "metadata": {},
   "source": [
    "### Table of contents\n",
    "1. [Preparation](#Preparation)\n",
    "2. [ZCA whitening](#ZCA)\n",
    "2. [PCA whitening](#PCA)\n",
    "4. [Cholesky whitening](#CHOL)\n",
    "5. [ Comparison of whitening methods](#Comp)"
   ]
  },
  {
   "cell_type": "markdown",
   "metadata": {},
   "source": [
    "## 1. Preparation <a name=\"Preparation\"></a>\n",
    "\n",
    "As a first step, we import the required libraries."
   ]
  },
  {
   "cell_type": "code",
   "execution_count": 1,
   "metadata": {
    "colab": {},
    "colab_type": "code",
    "id": "fs6Gm5gtexW9"
   },
   "outputs": [],
   "source": [
    "import numpy as np\n",
    "import pandas as pd\n",
    "import matplotlib.pyplot as plt\n",
    "import matplotlib.gridspec as gridspec\n",
    "from numpy.linalg import eig, eigh, inv, cholesky\n",
    "from mpl_toolkits.mplot3d import Axes3D\n",
    "from sklearn import datasets\n",
    "import os\n",
    "%matplotlib inline"
   ]
  },
  {
   "cell_type": "markdown",
   "metadata": {},
   "source": [
    "Then in the following sections the 3 main whitening methods will be checked."
   ]
  },
  {
   "cell_type": "markdown",
   "metadata": {},
   "source": [
    "## 2. ZCA (Mahalanobis) whitening <a name=\"ZCA\"></a>\n",
    "\n",
    "In many applications, like computer vision and image recognition, it is desirable to remove correlations with minimal additional adjustment, so the transformed variable $\\mathbf z$ remains as similar as possible to the original vector $\\mathbf x$. In other words, after the whitening transformation, the data still preserves the spatial arrangements of the initial input. i.e., the image after the whitening most resembles the input image in a least-squares sense.\n",
    "\n",
    "For this purpose, we will use the handwritten digit dataset included in *scikit-learn* library.\n",
    "\n",
    "As a first step, let's load the \"Digits\" dataset already included in the scikit-learn library. Then convert to an input vector $\\mathbf X$."
   ]
  },
  {
   "cell_type": "code",
   "execution_count": 2,
   "metadata": {},
   "outputs": [
    {
     "name": "stdout",
     "output_type": "stream",
     "text": [
      "Number of observations in the dataset is 1797, while the image size is 8 x 8\n",
      "Size of the input vector is 1797 x 64\n",
      "Min/max values of X: (0.0, 16.0)\n"
     ]
    },
    {
     "data": {
      "text/plain": [
       "array([[ 0.,  0.,  5., ...,  0.,  0.,  0.],\n",
       "       [ 0.,  0.,  0., ..., 10.,  0.,  0.],\n",
       "       [ 0.,  0.,  0., ..., 16.,  9.,  0.],\n",
       "       ...,\n",
       "       [ 0.,  0.,  1., ...,  6.,  0.,  0.],\n",
       "       [ 0.,  0.,  2., ..., 12.,  0.,  0.],\n",
       "       [ 0.,  0., 10., ..., 12.,  1.,  0.]])"
      ]
     },
     "execution_count": 2,
     "metadata": {},
     "output_type": "execute_result"
    }
   ],
   "source": [
    "digits = datasets.load_digits()\n",
    "N,D,_=digits.images.shape\n",
    "X=digits.images\n",
    "X=np.reshape(X,(N,D*D))\n",
    "print(\"Number of observations in the dataset is {}, while the image size is {} x {}\".format(N,D,D))\n",
    "print(\"Size of the input vector is {} x {}\".format(X.shape[0],X.shape[1]))\n",
    "print(\"Min/max values of X:\",(np.min(X),np.max(X)))\n",
    "X"
   ]
  },
  {
   "cell_type": "markdown",
   "metadata": {},
   "source": [
    "The dataset consists of 1797 observations, each observation representing the 8x8 pixel image of a handwritten image. Because each pixel is a feature, then there are 64 features in total. Each pixel is an integer value between 0 and 16. A pixel of 0 represents a black pixel, while a pixel of 16 a white pixel. Any number between them are different shades of gray (i.e., the lower the number the darker the gray, the higher the number the lighter the gray).\n",
    "\n",
    "**Note:** *For a visualization of the above transformation, check the \"Case Study: Handwritten Digits Recognition\" in chapter **6. Logistic Regression** from the book.*\n",
    "\n",
    "Next, define a function for the ZCA transformation matrix that can be used to create the whitened data. This function will get an input matrix and will return a transformation matrix. The ZCA transformation matrix - denoted with $\\mathbf W_\\text{ZCA}$ in the book - is the square root of the inverse of the covariance matrix. The fastest way to calculate the ZCA transformation matrix is to use the Singular Value Decomposition (SVD) from *NumPy* library.\n",
    "\n",
    "**Note:** *For more information on the ZCA transformation, respective for the geometric interpretation of the spectral decomposition and SVD, see the \"Whitening\" subsection of the book.*"
   ]
  },
  {
   "cell_type": "code",
   "execution_count": 3,
   "metadata": {},
   "outputs": [],
   "source": [
    "def Wzca_matrix(X):\n",
    "    Sigma=np.cov(X,rowvar=False,ddof=1)   # Calculate the covariance matrix\n",
    "    U,s,V = np.linalg.svd(Sigma)          # use the singular value decomposition\n",
    "    S=np.diag(1.0/np.sqrt(s.clip(1e-6)))  # take the square root of the invers of the singular values\n",
    "    return U@S@U.T                        # Return the transformation"
   ]
  },
  {
   "cell_type": "markdown",
   "metadata": {},
   "source": [
    "With the ZCA transformation matrix, you can obtain the whitened data by applying the linear transformation (i.e., using matrix multiplication)."
   ]
  },
  {
   "cell_type": "code",
   "execution_count": 4,
   "metadata": {},
   "outputs": [],
   "source": [
    "Wzca=Wzca_matrix(X)\n",
    "Z=X@Wzca\n",
    "newimages=np.reshape(Z,(N,D,D))"
   ]
  },
  {
   "cell_type": "markdown",
   "metadata": {},
   "source": [
    "Now, let's show the original and whitened data for the first ten observations, which represents the digits from 0 to 9. These digits are pictures of handwritten digits, so it should be easy to recognize them.\n",
    "\n",
    "Then, transform the data using ZCA whitening, and show the first ten observations on the same plot as a subplot. In this way, we will have two subplots representing the group of the original ten digits, respective the group of the transformed ten digits. Then within each subplot, there are ten subplots, each representing the image of one digit (original, respective whitened)."
   ]
  },
  {
   "cell_type": "code",
   "execution_count": 5,
   "metadata": {},
   "outputs": [
    {
     "data": {
      "image/png": "[encoded data removed]",
      "text/plain": [
       "<Figure size 864x720 with 20 Axes>"
      ]
     },
     "metadata": {
      "needs_background": "light"
     },
     "output_type": "display_data"
    }
   ],
   "source": [
    "fig = plt.figure(figsize=(12, 10))\n",
    "outer = gridspec.GridSpec(2, 1, wspace=0.2, hspace=0.2,figure=fig)\n",
    "\n",
    "upper=outer[0].subgridspec(2, 5)\n",
    "\n",
    "for i in range(5):\n",
    "    ax = fig.add_subplot(upper[0,i])\n",
    "    ax.matshow(digits.images[i], cmap=plt.cm.gray)\n",
    "for i in range(5):\n",
    "    ax = fig.add_subplot(upper[1,i])\n",
    "    ax.matshow(digits.images[5+i], cmap=plt.cm.gray)\n",
    "\n",
    "lower=outer[1].subgridspec(2, 5)\n",
    "for i in range(5):\n",
    "    ax = fig.add_subplot(lower[0,i])\n",
    "    ax.matshow(newimages[i], cmap=plt.cm.gray)\n",
    "for i in range(5):\n",
    "    ax = fig.add_subplot(lower[1,i])\n",
    "    ax.matshow(newimages[5+i], cmap=plt.cm.gray)\n",
    "plt.savefig('images\\\\ZCAwhitening.pdf', format='pdf', bbox_inches='tight', pad_inches=0, dpi=100)\n",
    "plt.show()"
   ]
  },
  {
   "cell_type": "markdown",
   "metadata": {},
   "source": [
    "As you can observe, for some digits, even the whitened data slightly resembles a handwritten digit.\n",
    "\n",
    "Now, let's check if the transformed data is whitened, i.e., the covariance matrix of the whitened data is equal to the identity matrix."
   ]
  },
  {
   "cell_type": "code",
   "execution_count": 6,
   "metadata": {},
   "outputs": [
    {
     "data": {
      "text/plain": [
       "array([[1.e-09, 1.e-09, 1.e-09, ..., 1.e-09, 1.e-09, 1.e-09],\n",
       "       [1.e-09, 1.e+00, 1.e-09, ..., 1.e-09, 1.e-09, 1.e-09],\n",
       "       [1.e-09, 1.e-09, 1.e+00, ..., 1.e-09, 1.e-09, 1.e-09],\n",
       "       ...,\n",
       "       [1.e-09, 1.e-09, 1.e-09, ..., 1.e+00, 1.e-09, 1.e-09],\n",
       "       [1.e-09, 1.e-09, 1.e-09, ..., 1.e-09, 1.e+00, 1.e-09],\n",
       "       [1.e-09, 1.e-09, 1.e-09, ..., 1.e-09, 1.e-09, 1.e+00]])"
      ]
     },
     "execution_count": 6,
     "metadata": {},
     "output_type": "execute_result"
    }
   ],
   "source": [
    "SigmaZ=np.cov(Z,rowvar=False,ddof=1)\n",
    "SigmaZ.clip(1e-9)"
   ]
  },
  {
   "cell_type": "markdown",
   "metadata": {},
   "source": [
    "Although at first sight seems to be reasonable, one should observe that the first element of the diagonal is zero, instead of being 1, as we expected.\n",
    "\n",
    "Let's find out the reason for this. First, print out the sum of the difference between the elements of the covariance matrix and the identity matrix. Next, print out the sum of the diagonal elements, which should be equal to the number of features (i.e., 64). "
   ]
  },
  {
   "cell_type": "code",
   "execution_count": 7,
   "metadata": {},
   "outputs": [
    {
     "name": "stdout",
     "output_type": "stream",
     "text": [
      "Total difference from identity matrix: -2.9999999999838116\n",
      "Sum of diagonal elements of the covariance of whitened data: 61.00000000000259\n"
     ]
    }
   ],
   "source": [
    "print(\"Total difference from identity matrix:\",np.sum(SigmaZ-np.eye(SigmaZ.shape[0],SigmaZ.shape[1])))\n",
    "print(\"Sum of diagonal elements of the covariance of whitened data:\",np.sum(np.diag(SigmaZ)))"
   ]
  },
  {
   "cell_type": "markdown",
   "metadata": {},
   "source": [
    "Thus, we can conclude that off-diagonal elements are all zero, but instead of having all ones in the main diagonal, three of them are zero. To understand the root cause of this, let's check the covariance of the original data."
   ]
  },
  {
   "cell_type": "code",
   "execution_count": 8,
   "metadata": {},
   "outputs": [
    {
     "name": "stdout",
     "output_type": "stream",
     "text": [
      "Sum of input variables with zero variance: 3\n"
     ]
    }
   ],
   "source": [
    "Sigma=np.cov(X,rowvar=False,ddof=1)\n",
    "print(\"Sum of input variables with zero variance:\",np.sum(np.diagonal(Sigma)==0))"
   ]
  },
  {
   "cell_type": "markdown",
   "metadata": {},
   "source": [
    "As we can see, there are three input variables (three pixels in the images) that do not vary at all (i.e., the value is exactly the same for all observations). So, this is the reason that the whitened data also has three pixels with zero variance.\n",
    "\n",
    "For the above reasons, the covariance matrix is singular, and the inverse of it cannot be calculated.\n",
    "\n",
    "Let's check that the mean of the whitened data is equal to the transformed mean of the original data (i.e., we will apply the same transformation matrix to the mean of the original data)."
   ]
  },
  {
   "cell_type": "code",
   "execution_count": 9,
   "metadata": {},
   "outputs": [
    {
     "data": {
      "text/plain": [
       "-6.878178582249151e-15"
      ]
     },
     "execution_count": 9,
     "metadata": {},
     "output_type": "execute_result"
    }
   ],
   "source": [
    "mu_=X.mean(axis=0)[:,np.newaxis]\n",
    "muZ_=Z.mean(axis=0)[:,np.newaxis]\n",
    "np.sum(Wzca@mu_-muZ_)"
   ]
  },
  {
   "cell_type": "markdown",
   "metadata": {},
   "source": [
    "And yes, they are equal aside from the rounding error."
   ]
  },
  {
   "cell_type": "markdown",
   "metadata": {},
   "source": [
    "## 3. PCA whitening <a name=\"PCA\"></a>\n",
    "\n",
    "Another frequent aim in whitening is the generation of new uncorrelated variables such that the first few components (features) in the whitened data represent as much as possible the variation present in the all original variables. This kind of whitening is very useful for dimension reduction and data compression, and it is called PCA whitening, where PCA stands for Principal Components Analysis. \n",
    "\n",
    "Next, define a function for the PCA transformation matrix that can be used to create the whitened data. This function will get an input matrix and will return a transformation matrix. The PCA transformation matrix can be obtained by multiplying the matrix of eigenvectors with the matrix of the square root of the inverse of the eigenvalues. \n",
    "\n",
    "**Note:** *For more information on the PCA transformation, respective how relates to the ZCA transformation, see the \"Whitening\" subsection of the book.*"
   ]
  },
  {
   "cell_type": "code",
   "execution_count": 10,
   "metadata": {},
   "outputs": [],
   "source": [
    "def Wpca_matrix(X):\n",
    "    N,D=X.shape\n",
    "    Sigma=np.cov(X,rowvar=False,ddof=1)\n",
    "    lambda_,P=eigh(Sigma)             # Create the spectral decomposition \n",
    "    Lambda=np.eye(D,D)*lambda_\n",
    "    P=P@np.diag(np.sign(np.diag(P)))  # Adjust the sign of the eigenvectors\n",
    "    return P@np.sqrt(inv(Lambda))     # Return the transformation"
   ]
  },
  {
   "cell_type": "markdown",
   "metadata": {},
   "source": [
    "Now, let's take another dataset - called \"BodyFat\" - which contains information on body fat, triceps skinfold thickness, thigh circumference, and mid-arm circumference for twenty healthy females aged 20 to 34.\n",
    "\n",
    "As a first step, let's load the \"BodyFat\" from the dataset of *scikit-learn* dataset, which has only three input variables."
   ]
  },
  {
   "cell_type": "code",
   "execution_count": 11,
   "metadata": {},
   "outputs": [
    {
     "data": {
      "text/html": [
       "<div>\n",
       "<style scoped>\n",
       "    .dataframe tbody tr th:only-of-type {\n",
       "        vertical-align: middle;\n",
       "    }\n",
       "\n",
       "    .dataframe tbody tr th {\n",
       "        vertical-align: top;\n",
       "    }\n",
       "\n",
       "    .dataframe thead th {\n",
       "        text-align: right;\n",
       "    }\n",
       "</style>\n",
       "<table border=\"1\" class=\"dataframe\">\n",
       "  <thead>\n",
       "    <tr style=\"text-align: right;\">\n",
       "      <th></th>\n",
       "      <th>Nr</th>\n",
       "      <th>Fat</th>\n",
       "      <th>Triceps</th>\n",
       "      <th>Thigh</th>\n",
       "      <th>Midarm</th>\n",
       "    </tr>\n",
       "  </thead>\n",
       "  <tbody>\n",
       "    <tr>\n",
       "      <th>0</th>\n",
       "      <td>1</td>\n",
       "      <td>11.9</td>\n",
       "      <td>19.5</td>\n",
       "      <td>43.1</td>\n",
       "      <td>29.1</td>\n",
       "    </tr>\n",
       "    <tr>\n",
       "      <th>1</th>\n",
       "      <td>2</td>\n",
       "      <td>22.8</td>\n",
       "      <td>24.7</td>\n",
       "      <td>49.8</td>\n",
       "      <td>28.2</td>\n",
       "    </tr>\n",
       "    <tr>\n",
       "      <th>2</th>\n",
       "      <td>3</td>\n",
       "      <td>18.7</td>\n",
       "      <td>30.7</td>\n",
       "      <td>51.9</td>\n",
       "      <td>37.0</td>\n",
       "    </tr>\n",
       "    <tr>\n",
       "      <th>3</th>\n",
       "      <td>4</td>\n",
       "      <td>20.1</td>\n",
       "      <td>29.8</td>\n",
       "      <td>54.3</td>\n",
       "      <td>31.1</td>\n",
       "    </tr>\n",
       "    <tr>\n",
       "      <th>4</th>\n",
       "      <td>5</td>\n",
       "      <td>12.9</td>\n",
       "      <td>19.1</td>\n",
       "      <td>42.2</td>\n",
       "      <td>30.9</td>\n",
       "    </tr>\n",
       "    <tr>\n",
       "      <th>5</th>\n",
       "      <td>6</td>\n",
       "      <td>21.7</td>\n",
       "      <td>25.6</td>\n",
       "      <td>53.9</td>\n",
       "      <td>23.7</td>\n",
       "    </tr>\n",
       "    <tr>\n",
       "      <th>6</th>\n",
       "      <td>7</td>\n",
       "      <td>27.1</td>\n",
       "      <td>31.4</td>\n",
       "      <td>58.5</td>\n",
       "      <td>27.6</td>\n",
       "    </tr>\n",
       "    <tr>\n",
       "      <th>7</th>\n",
       "      <td>8</td>\n",
       "      <td>25.4</td>\n",
       "      <td>27.9</td>\n",
       "      <td>52.1</td>\n",
       "      <td>30.6</td>\n",
       "    </tr>\n",
       "    <tr>\n",
       "      <th>8</th>\n",
       "      <td>9</td>\n",
       "      <td>21.3</td>\n",
       "      <td>22.1</td>\n",
       "      <td>49.9</td>\n",
       "      <td>23.2</td>\n",
       "    </tr>\n",
       "    <tr>\n",
       "      <th>9</th>\n",
       "      <td>10</td>\n",
       "      <td>19.3</td>\n",
       "      <td>25.5</td>\n",
       "      <td>53.5</td>\n",
       "      <td>24.8</td>\n",
       "    </tr>\n",
       "    <tr>\n",
       "      <th>10</th>\n",
       "      <td>11</td>\n",
       "      <td>25.4</td>\n",
       "      <td>31.1</td>\n",
       "      <td>56.6</td>\n",
       "      <td>30.0</td>\n",
       "    </tr>\n",
       "    <tr>\n",
       "      <th>11</th>\n",
       "      <td>12</td>\n",
       "      <td>27.2</td>\n",
       "      <td>30.4</td>\n",
       "      <td>56.7</td>\n",
       "      <td>28.3</td>\n",
       "    </tr>\n",
       "    <tr>\n",
       "      <th>12</th>\n",
       "      <td>13</td>\n",
       "      <td>11.7</td>\n",
       "      <td>18.7</td>\n",
       "      <td>46.5</td>\n",
       "      <td>23.0</td>\n",
       "    </tr>\n",
       "    <tr>\n",
       "      <th>13</th>\n",
       "      <td>14</td>\n",
       "      <td>17.8</td>\n",
       "      <td>19.7</td>\n",
       "      <td>44.2</td>\n",
       "      <td>28.6</td>\n",
       "    </tr>\n",
       "    <tr>\n",
       "      <th>14</th>\n",
       "      <td>15</td>\n",
       "      <td>12.8</td>\n",
       "      <td>14.6</td>\n",
       "      <td>42.7</td>\n",
       "      <td>21.3</td>\n",
       "    </tr>\n",
       "    <tr>\n",
       "      <th>15</th>\n",
       "      <td>16</td>\n",
       "      <td>23.9</td>\n",
       "      <td>29.5</td>\n",
       "      <td>54.4</td>\n",
       "      <td>30.1</td>\n",
       "    </tr>\n",
       "    <tr>\n",
       "      <th>16</th>\n",
       "      <td>17</td>\n",
       "      <td>22.6</td>\n",
       "      <td>27.7</td>\n",
       "      <td>55.3</td>\n",
       "      <td>25.7</td>\n",
       "    </tr>\n",
       "    <tr>\n",
       "      <th>17</th>\n",
       "      <td>18</td>\n",
       "      <td>25.4</td>\n",
       "      <td>30.2</td>\n",
       "      <td>58.6</td>\n",
       "      <td>24.6</td>\n",
       "    </tr>\n",
       "    <tr>\n",
       "      <th>18</th>\n",
       "      <td>19</td>\n",
       "      <td>14.8</td>\n",
       "      <td>22.7</td>\n",
       "      <td>48.2</td>\n",
       "      <td>27.1</td>\n",
       "    </tr>\n",
       "    <tr>\n",
       "      <th>19</th>\n",
       "      <td>20</td>\n",
       "      <td>21.1</td>\n",
       "      <td>25.2</td>\n",
       "      <td>51.0</td>\n",
       "      <td>27.5</td>\n",
       "    </tr>\n",
       "  </tbody>\n",
       "</table>\n",
       "</div>"
      ],
      "text/plain": [
       "    Nr   Fat  Triceps  Thigh  Midarm\n",
       "0    1  11.9     19.5   43.1    29.1\n",
       "1    2  22.8     24.7   49.8    28.2\n",
       "2    3  18.7     30.7   51.9    37.0\n",
       "3    4  20.1     29.8   54.3    31.1\n",
       "4    5  12.9     19.1   42.2    30.9\n",
       "5    6  21.7     25.6   53.9    23.7\n",
       "6    7  27.1     31.4   58.5    27.6\n",
       "7    8  25.4     27.9   52.1    30.6\n",
       "8    9  21.3     22.1   49.9    23.2\n",
       "9   10  19.3     25.5   53.5    24.8\n",
       "10  11  25.4     31.1   56.6    30.0\n",
       "11  12  27.2     30.4   56.7    28.3\n",
       "12  13  11.7     18.7   46.5    23.0\n",
       "13  14  17.8     19.7   44.2    28.6\n",
       "14  15  12.8     14.6   42.7    21.3\n",
       "15  16  23.9     29.5   54.4    30.1\n",
       "16  17  22.6     27.7   55.3    25.7\n",
       "17  18  25.4     30.2   58.6    24.6\n",
       "18  19  14.8     22.7   48.2    27.1\n",
       "19  20  21.1     25.2   51.0    27.5"
      ]
     },
     "execution_count": 11,
     "metadata": {},
     "output_type": "execute_result"
    }
   ],
   "source": [
    "dataFat = pd.read_csv(os.path.join('data','bodyfat.csv'),sep=',')\n",
    "dataFat"
   ]
  },
  {
   "cell_type": "markdown",
   "metadata": {},
   "source": [
    "Let's print out the correlation matrix."
   ]
  },
  {
   "cell_type": "code",
   "execution_count": 12,
   "metadata": {},
   "outputs": [
    {
     "data": {
      "text/html": [
       "<div>\n",
       "<style scoped>\n",
       "    .dataframe tbody tr th:only-of-type {\n",
       "        vertical-align: middle;\n",
       "    }\n",
       "\n",
       "    .dataframe tbody tr th {\n",
       "        vertical-align: top;\n",
       "    }\n",
       "\n",
       "    .dataframe thead th {\n",
       "        text-align: right;\n",
       "    }\n",
       "</style>\n",
       "<table border=\"1\" class=\"dataframe\">\n",
       "  <thead>\n",
       "    <tr style=\"text-align: right;\">\n",
       "      <th></th>\n",
       "      <th>Fat</th>\n",
       "      <th>Triceps</th>\n",
       "      <th>Thigh</th>\n",
       "      <th>Midarm</th>\n",
       "    </tr>\n",
       "  </thead>\n",
       "  <tbody>\n",
       "    <tr>\n",
       "      <th>Fat</th>\n",
       "      <td>1.000000</td>\n",
       "      <td>0.843265</td>\n",
       "      <td>0.878090</td>\n",
       "      <td>0.142444</td>\n",
       "    </tr>\n",
       "    <tr>\n",
       "      <th>Triceps</th>\n",
       "      <td>0.843265</td>\n",
       "      <td>1.000000</td>\n",
       "      <td>0.923843</td>\n",
       "      <td>0.457777</td>\n",
       "    </tr>\n",
       "    <tr>\n",
       "      <th>Thigh</th>\n",
       "      <td>0.878090</td>\n",
       "      <td>0.923843</td>\n",
       "      <td>1.000000</td>\n",
       "      <td>0.084667</td>\n",
       "    </tr>\n",
       "    <tr>\n",
       "      <th>Midarm</th>\n",
       "      <td>0.142444</td>\n",
       "      <td>0.457777</td>\n",
       "      <td>0.084667</td>\n",
       "      <td>1.000000</td>\n",
       "    </tr>\n",
       "  </tbody>\n",
       "</table>\n",
       "</div>"
      ],
      "text/plain": [
       "              Fat   Triceps     Thigh    Midarm\n",
       "Fat      1.000000  0.843265  0.878090  0.142444\n",
       "Triceps  0.843265  1.000000  0.923843  0.457777\n",
       "Thigh    0.878090  0.923843  1.000000  0.084667\n",
       "Midarm   0.142444  0.457777  0.084667  1.000000"
      ]
     },
     "execution_count": 12,
     "metadata": {},
     "output_type": "execute_result"
    }
   ],
   "source": [
    "dataFat.drop(columns=['Nr']).corr()"
   ]
  },
  {
   "cell_type": "markdown",
   "metadata": {},
   "source": [
    "The PearsonPearson correlation coefficients are very high between the output variable and the first two input variables (i.e., between fat and triceps, respectively between fat and thigh), but is low between the output variable and the last input variable (i.e., between fat and midarm). We may also observe that the correlation coefficient is extremely high between the input variables triceps and thigh and moderate between triceps and midarm. This might suggest a multicollinearity problem.\n",
    "\n",
    "Thus, check the multicollinearity using the variance inflation factors (VIF). For this reason, we will create first the design matrix."
   ]
  },
  {
   "cell_type": "code",
   "execution_count": 13,
   "metadata": {},
   "outputs": [
    {
     "data": {
      "text/plain": [
       "array([[ 1. , 19.5, 43.1, 29.1],\n",
       "       [ 1. , 24.7, 49.8, 28.2],\n",
       "       [ 1. , 30.7, 51.9, 37. ],\n",
       "       [ 1. , 29.8, 54.3, 31.1],\n",
       "       [ 1. , 19.1, 42.2, 30.9],\n",
       "       [ 1. , 25.6, 53.9, 23.7],\n",
       "       [ 1. , 31.4, 58.5, 27.6],\n",
       "       [ 1. , 27.9, 52.1, 30.6],\n",
       "       [ 1. , 22.1, 49.9, 23.2],\n",
       "       [ 1. , 25.5, 53.5, 24.8],\n",
       "       [ 1. , 31.1, 56.6, 30. ],\n",
       "       [ 1. , 30.4, 56.7, 28.3],\n",
       "       [ 1. , 18.7, 46.5, 23. ],\n",
       "       [ 1. , 19.7, 44.2, 28.6],\n",
       "       [ 1. , 14.6, 42.7, 21.3],\n",
       "       [ 1. , 29.5, 54.4, 30.1],\n",
       "       [ 1. , 27.7, 55.3, 25.7],\n",
       "       [ 1. , 30.2, 58.6, 24.6],\n",
       "       [ 1. , 22.7, 48.2, 27.1],\n",
       "       [ 1. , 25.2, 51. , 27.5]])"
      ]
     },
     "execution_count": 13,
     "metadata": {},
     "output_type": "execute_result"
    }
   ],
   "source": [
    "X=np.array(dataFat[[\"Triceps\",\"Thigh\",\"Midarm\"]])\n",
    "N,D=X.shape\n",
    "y_=np.array(dataFat['Fat'])[:,np.newaxis]\n",
    "Xdot=np.insert(X,0,np.ones(N),axis=1)\n",
    "Xdot"
   ]
  },
  {
   "cell_type": "markdown",
   "metadata": {},
   "source": [
    "Then calculate the variance inflation factors using the *statsmodels* library."
   ]
  },
  {
   "cell_type": "code",
   "execution_count": 14,
   "metadata": {},
   "outputs": [
    {
     "name": "stdout",
     "output_type": "stream",
     "text": [
      "708.8429141727062\n",
      "564.3433857198089\n",
      "104.606005008185\n"
     ]
    }
   ],
   "source": [
    "from statsmodels.stats.outliers_influence import variance_inflation_factor\n",
    "print(variance_inflation_factor(Xdot,1))\n",
    "print(variance_inflation_factor(Xdot,2))\n",
    "print(variance_inflation_factor(Xdot,3))"
   ]
  },
  {
   "cell_type": "markdown",
   "metadata": {},
   "source": [
    "The VIF values are extremely high, so we have a serious multicollinearity issue.\n",
    "\n",
    "Let's visualize the observations in a 3D scatter plot.\n",
    "\n",
    "**Note:** *The 3D plot will open in a new window where you can rotate the plot to see from a different angle. The execution of code will not continue until you close the window.*"
   ]
  },
  {
   "cell_type": "code",
   "execution_count": 15,
   "metadata": {},
   "outputs": [],
   "source": [
    "%matplotlib qt\n",
    "\n",
    "fig = plt.figure(figsize=(10, 7))\n",
    "ax1 = fig.add_subplot(111, projection='3d')\n",
    "ax1.scatter(X[:,0], X[:,1], X[:,2],c='r')\n",
    "ax1.set_xlabel('Triceps',fontsize=14)\n",
    "ax1.set_ylabel('Thigh',fontsize=14)\n",
    "ax1.set_zlabel('Midarm',fontsize=14)\n",
    "ax1.set_title(\"Original 'bodyfat' dataset\",fontsize=16)\n",
    "ax1.view_init(elev=45., azim=-15)\n",
    "for i in range(N):\n",
    "    ax1.plot([X.mean(axis=0)[0],X[i,0]],[X.mean(axis=0)[1],X[i,1]],[X.mean(axis=0)[2],X[i,2]],\\\n",
    "            lw=1,c='k')\n",
    "plt.show(block=True)"
   ]
  },
  {
   "cell_type": "markdown",
   "metadata": {},
   "source": [
    "As can be seen on the 3D scatter plot, all the observations are almost residing on a plain. This is clearly visible after you slightly rotate the plot using your mouse.\n",
    "\n",
    "Now, apply the PCA whitening to the BodyFat data."
   ]
  },
  {
   "cell_type": "code",
   "execution_count": 16,
   "metadata": {},
   "outputs": [],
   "source": [
    "Sigma=np.cov(X,rowvar=False,ddof=1)\n",
    "lambda_,P=eigh(Sigma)\n",
    "Lambda=np.eye(D,D)*lambda_\n",
    "Wpca=P@np.sqrt(inv(Lambda))\n",
    "Xp=X@Wpca"
   ]
  },
  {
   "cell_type": "markdown",
   "metadata": {},
   "source": [
    "Let's visualize the transformed observations in a 3D scatter plot.\n",
    "\n",
    "**Note:** *The 3D plot will open in a new window where you can rotate the plot to see from a different angle. The execution of code will not continue until you close the window.*."
   ]
  },
  {
   "cell_type": "code",
   "execution_count": 17,
   "metadata": {},
   "outputs": [],
   "source": [
    "%matplotlib qt\n",
    "\n",
    "fig = plt.figure(figsize=(10, 7))\n",
    "ax = fig.add_subplot(111, projection='3d')\n",
    "ax.scatter(Xp[:,0], Xp[:,1], Xp[:,2],c='r')\n",
    "ax.set_xlabel('PC1')\n",
    "ax.set_ylabel('PC2')\n",
    "ax.set_zlabel('PC3')\n",
    "ax.set_title(\"PCA whitened 'bodyfat' dataset\")\n",
    "ax.view_init(elev=45., azim=-15)\n",
    "for i in range(N):\n",
    "    ax.plot([Xp.mean(axis=0)[0],Xp[i,0]],[Xp.mean(axis=0)[1],Xp[i,1]],[Xp.mean(axis=0)[2],Xp[i,2]],\\\n",
    "           c='k',lw=1)\n",
    "plt.show(block=True)"
   ]
  },
  {
   "cell_type": "markdown",
   "metadata": {},
   "source": [
    "Now, the observations are scattered in the 3D space and not residing anymore on a plain.\n",
    "\n",
    "We may assume that there is no multicollinearity problem after whitening."
   ]
  },
  {
   "cell_type": "code",
   "execution_count": 18,
   "metadata": {},
   "outputs": [
    {
     "name": "stdout",
     "output_type": "stream",
     "text": [
      "0.9999999999999947\n",
      "0.9999999999999998\n",
      "0.9999999999999996\n"
     ]
    }
   ],
   "source": [
    "Xpdot=np.insert(Xp,0,np.ones(N),axis=1)\n",
    "print(variance_inflation_factor(Xpdot,1))\n",
    "print(variance_inflation_factor(Xpdot,2))\n",
    "print(variance_inflation_factor(Xpdot,3))"
   ]
  },
  {
   "cell_type": "markdown",
   "metadata": {},
   "source": [
    "And yes, the multicollinearity issue is solved! All the VIF values equal to one, meaning that there are no correlations at all between the features.\n",
    "\n",
    "The same result shall be obtained for the covariance matrix of the whitened data."
   ]
  },
  {
   "cell_type": "code",
   "execution_count": 19,
   "metadata": {},
   "outputs": [
    {
     "data": {
      "text/plain": [
       "array([[ 1.00000000e+00, -7.49231798e-15, -3.48259433e-15],\n",
       "       [-7.49231798e-15,  1.00000000e+00, -1.98671489e-16],\n",
       "       [-3.48259433e-15, -1.98671489e-16,  1.00000000e+00]])"
      ]
     },
     "execution_count": 19,
     "metadata": {},
     "output_type": "execute_result"
    }
   ],
   "source": [
    "Spca=np.cov(Xp,rowvar=False,ddof=1)\n",
    "Spca"
   ]
  },
  {
   "cell_type": "markdown",
   "metadata": {},
   "source": [
    "As can be seen, the covariance matrix of the whitened data is the identity matrix aside from the rounding errors.\n",
    "\n",
    "We may also check the equality of the Mahalanobis distances. As prooved in the book, the Mahalanobis distances are not affected by the whitening transformation."
   ]
  },
  {
   "cell_type": "code",
   "execution_count": 20,
   "metadata": {},
   "outputs": [
    {
     "data": {
      "text/plain": [
       "array([[-1.00364161e-13],\n",
       "       [-1.82076576e-14],\n",
       "       [ 2.22044605e-14],\n",
       "       [ 3.19744231e-14],\n",
       "       [-8.52651283e-14],\n",
       "       [-1.17683641e-14],\n",
       "       [ 1.84297022e-13],\n",
       "       [-5.77315973e-14],\n",
       "       [-8.08242362e-14],\n",
       "       [-2.22932783e-13],\n",
       "       [ 1.21458399e-13],\n",
       "       [ 8.14903700e-14],\n",
       "       [ 1.60760294e-13],\n",
       "       [ 2.26929586e-13],\n",
       "       [ 6.67021993e-13],\n",
       "       [ 6.52811138e-14],\n",
       "       [ 3.10862447e-15],\n",
       "       [ 4.48530102e-14],\n",
       "       [-1.22568622e-13],\n",
       "       [-2.84217094e-14]])"
      ]
     },
     "execution_count": 20,
     "metadata": {},
     "output_type": "execute_result"
    }
   ],
   "source": [
    "mu_=X.mean(axis=0)[:,np.newaxis]\n",
    "dM2_=np.array([(X-mu_.T)[i,:].T@inv(Sigma)@(X-mu_.T)[i,:] for i in range(N)])[:,np.newaxis]\n",
    "muZ_=Xp.mean(axis=0)[:,np.newaxis]\n",
    "dM2Z_=np.array([(Xp-muZ_.T)[i,:].T@inv(Spca)@(Xp-muZ_.T)[i,:] for i in range(N)])[:,np.newaxis]\n",
    "dM2Z_-dM2_"
   ]
  },
  {
   "cell_type": "markdown",
   "metadata": {},
   "source": [
    "Estimation of the cross-covariance matrix can be obtained using the *cov* method of the *NumPy* library. However, when applied on two matrices (representing the samples of two random vectors) it will contain the covariance matrices of the single random vectors, as well. Thus, we need to filter out those elements using slicing. Let's create the function of the cross-covariance matrix, as defined in the book."
   ]
  },
  {
   "cell_type": "code",
   "execution_count": 21,
   "metadata": {},
   "outputs": [],
   "source": [
    "def cross_cov(X,Y):\n",
    "    N,D=X.shape\n",
    "    return np.cov(X,Y,rowvar=False,ddof=1)[0:D][:,D:]"
   ]
  },
  {
   "cell_type": "markdown",
   "metadata": {},
   "source": [
    "Then the cross-covariance matrix between the original data and whitened data for the \"BodyFat\" is:"
   ]
  },
  {
   "cell_type": "code",
   "execution_count": 22,
   "metadata": {},
   "outputs": [
    {
     "data": {
      "text/plain": [
       "array([[-0.09385513,  0.08033959,  0.04947885],\n",
       "       [ 0.565973  , -1.43843461,  3.40918844],\n",
       "       [-4.9903905 , -5.03245559, -1.29486301]])"
      ]
     },
     "execution_count": 22,
     "metadata": {},
     "output_type": "execute_result"
    }
   ],
   "source": [
    "Phi=cross_cov(Xp,X)\n",
    "Phi"
   ]
  },
  {
   "cell_type": "markdown",
   "metadata": {},
   "source": [
    "where the $i$-th row represents the covariances between the $i$-th whitened feature and the original features.\n",
    "\n",
    "We may also check the sum of squared covariances in each row:"
   ]
  },
  {
   "cell_type": "code",
   "execution_count": 23,
   "metadata": {},
   "outputs": [
    {
     "data": {
      "text/plain": [
       "array([1.77113903e-02, 1.40119854e+01, 5.19062769e+01])"
      ]
     },
     "execution_count": 23,
     "metadata": {},
     "output_type": "execute_result"
    }
   ],
   "source": [
    "np.diag(Phi@Phi.T)"
   ]
  },
  {
   "cell_type": "markdown",
   "metadata": {},
   "source": [
    "As can be seen, the last whitened feature has the largest sum of squared covariances, while the first whitened feature the least sum of squared covariances (we have reverse order). Thus, if we aim for dimension reduction, then we might use only the last two whitened features.\n",
    "\n",
    "Estimation of the cross-covariance matrix can be obtained using the *corrcoef* method of the *NumPy* library. However, when applied on two matrices (representing the samples of two random vectors) it will contain the correlation matrices of the single random vectors, as well. Thus, we need to filter out those elements using slicing. Let's create the function of the cross-correlation matrix, as defined in the book."
   ]
  },
  {
   "cell_type": "code",
   "execution_count": 24,
   "metadata": {},
   "outputs": [],
   "source": [
    "def cross_corr(X,Y):\n",
    "    N,D=X.shape\n",
    "    return np.corrcoef(X,Y,rowvar=False)[0:D][:,D:]"
   ]
  },
  {
   "cell_type": "markdown",
   "metadata": {},
   "source": [
    "Then the cross-correlation matrix between the original data and whitened data for the \"BodyFat\" is:"
   ]
  },
  {
   "cell_type": "code",
   "execution_count": 25,
   "metadata": {},
   "outputs": [
    {
     "data": {
      "text/plain": [
       "array([[-0.01868411,  0.01534776,  0.01356645],\n",
       "       [ 0.11267048, -0.274793  ,  0.93475477],\n",
       "       [-0.99345673, -0.96138091, -0.35503446]])"
      ]
     },
     "execution_count": 25,
     "metadata": {},
     "output_type": "execute_result"
    }
   ],
   "source": [
    "Psi=cross_corr(Xp,X)\n",
    "Psi"
   ]
  },
  {
   "cell_type": "markdown",
   "metadata": {},
   "source": [
    "where the $i$-th row represents the (Pearson) correlation coefficients between the $i$-th whitened feature and the original features.\n",
    "\n",
    "We may also check the sum of squared correlations in each row:"
   ]
  },
  {
   "cell_type": "code",
   "execution_count": 26,
   "metadata": {},
   "outputs": [
    {
     "data": {
      "text/plain": [
       "array([7.68698458e-04, 9.61972314e-01, 2.03725899e+00])"
      ]
     },
     "execution_count": 26,
     "metadata": {},
     "output_type": "execute_result"
    }
   ],
   "source": [
    "np.diag(Psi@Psi.T)"
   ]
  },
  {
   "cell_type": "markdown",
   "metadata": {},
   "source": [
    "## 4. Cholesky whitening <a name=\"CHOL\"></a>\n",
    "\n",
    "Another widely known procedure is Cholesky whitening, which is based on Cholesky factorization. Unlike the other whitening methods discussed so far, which result from optimization, Cholesky whitening is due to a symmetry constraint.\n",
    "\n",
    "In order to provide a good visualization tool for a better understanding of why the whitening transformation is also called sphering transformation, let's define a multivariate normal distribution with a given mean vector and covariance matrix."
   ]
  },
  {
   "cell_type": "code",
   "execution_count": 27,
   "metadata": {},
   "outputs": [],
   "source": [
    "from numpy.random import multivariate_normal\n",
    "\n",
    "meanX3=np.array([[5],[10],[25]])\n",
    "covX3=np.array([[1, 0.1, 1], \n",
    "               [0.1, 8, 5], \n",
    "               [1,5, 10]])\n",
    "\n",
    "size=10000\n",
    "X3=multivariate_normal(np.ravel(meanX3),covX3,size)\n",
    "idx=np.array([((X3[i,:][:,np.newaxis]-meanX3).T@inv(covX3)@(X3[i,:][:,np.newaxis]-meanX3)<=1).item()\\\n",
    "              for i in range(size)])"
   ]
  },
  {
   "cell_type": "markdown",
   "metadata": {},
   "source": [
    "Then let's apply the Cholesky whitening method."
   ]
  },
  {
   "cell_type": "code",
   "execution_count": 28,
   "metadata": {},
   "outputs": [],
   "source": [
    "L=cholesky(inv(covX3))\n",
    "Z3=X3@L\n",
    "idxZ=np.array([(Z3[i,:][:,np.newaxis].T@Z3[i,:][:,np.newaxis]<=1).item() for i in range(size)])"
   ]
  },
  {
   "cell_type": "markdown",
   "metadata": {},
   "source": [
    "Finally, let's create the 3D scatter plot of both the original data and the whitened data, but limiting the visualization only to observations within the first standard deviations.\n",
    "\n",
    "**Note:** *The 3D plot with two subplots will open in a new window where you can individually rotate the two subplots to see from a different angle. The execution of code will not continue until you close the window.*."
   ]
  },
  {
   "cell_type": "code",
   "execution_count": 29,
   "metadata": {},
   "outputs": [],
   "source": [
    "fig = plt.figure(figsize=(13, 6.3))\n",
    "fig.subplots_adjust(wspace=0.0,hspace=0.0)\n",
    "ax1 = fig.add_subplot(121, projection='3d')\n",
    "ax1.set_xlim(2.0,8.0)\n",
    "ax1.set_ylim(7.0,13.0)\n",
    "ax1.set_zlim(22.0,28.0)\n",
    "ax1.set_xlabel('X1',fontsize=12)\n",
    "ax1.set_ylabel('X2',fontsize=12)\n",
    "ax1.set_zlabel('X3',fontsize=12)\n",
    "ax1.set_title('Correlated triviriate normal distribution',fontsize=14)\n",
    "ax1.scatter(X3[idx,0], X3[idx,1], X3[idx,2],s=5)\n",
    "ax1.view_init(elev=25., azim=-18)\n",
    "\n",
    "ax2 = fig.add_subplot(122, projection='3d')\n",
    "ax2.set_xlim(1.5,3.5)\n",
    "ax2.set_ylim(-2.0,0.0)\n",
    "ax2.set_zlim(7.0,9.0)\n",
    "ax2.set_xlabel('Z1',fontsize=12)\n",
    "ax2.set_ylabel('Z2',fontsize=12)\n",
    "ax2.set_zlabel('Z3',fontsize=12)\n",
    "ax2.set_title('Cholesky whitened triviriate normal distribution',fontsize=14)\n",
    "ax2.scatter(Z3[idx,0], Z3[idx,1], Z3[idx,2],s=5)\n",
    "ax2.view_init(elev=25., azim=-18)\n",
    "plt.savefig('images\\\\CHOLwhitening.pdf', format='pdf', bbox_inches='tight', pad_inches=0, dpi=100)\n",
    "plt.show()"
   ]
  },
  {
   "cell_type": "markdown",
   "metadata": {},
   "source": [
    "As can be seen, the original scatter plot has an elongated ellipsoid shape, while the whitened or sphered data has a perfect sphere shape. This explains why the whitening transformation is also called sphering transformation."
   ]
  },
  {
   "cell_type": "markdown",
   "metadata": {},
   "source": [
    "## 5. Comparison of whitening methods <a name=\"Comp\"></a>\n",
    "\n",
    "Using the \"Iris\" dataset, let's make a comparison of the five whitening methods discussed in the book. Besides the three methods discussed so far, we also have the ZCA-cor and PCA-cor, where instead of using the spectral decomposition of the covariance matrix, we use the spectral decomposition of the correlation matrix. First, let's create a general whitening function, which will take as an input the original data (input matrix) and the method to be used during whitening transformation. Then using the formulas in the book, create the code for the five different whitening methods. \n",
    "\n",
    "Let's start by loading the iris dataset from *scikit-learn* library."
   ]
  },
  {
   "cell_type": "code",
   "execution_count": 30,
   "metadata": {},
   "outputs": [],
   "source": [
    "iris = datasets.load_iris()\n",
    "Xiris = iris.data"
   ]
  },
  {
   "cell_type": "markdown",
   "metadata": {},
   "source": [
    "Next, we define the generic whitening matrix, which takes as parameter the input matrix and the method to be used for whitening.\n",
    "\n",
    "In the generic function, the spectral decomposition of the covariance matrix for ZCA and PCA is used, respective the spectral decomposition of the correlation matrix for ZCA and PCA is used. It is also taken into account that the difference between ZCA and PCA, respective ZCA-cor and PCA-cor is the rotation matrix being equal to the matrix of eigenvectors of covariance and correlation matrix, respectively."
   ]
  },
  {
   "cell_type": "code",
   "execution_count": 31,
   "metadata": {},
   "outputs": [],
   "source": [
    "def whitening(X,method):\n",
    "    N,D=X.shape\n",
    "    Sigma=np.cov(X,rowvar=False,ddof=1)  # Create covariance matrix of the original data\n",
    "    if method=='ZCA' or method=='PCA':\n",
    "        lambda_,P=eig(Sigma)             # Create the spectral decomposition of covariance matrix\n",
    "        Lambda=np.eye(D,D)*lambda_\n",
    "        P=P@np.diag(np.sign(np.diag(P))) # Fix sign ambiguity in eigenvectors by making positive diag.\n",
    "        W=P@np.sqrt(inv(Lambda))         # Create the PCA whitening matrix\n",
    "        if method=='ZCA':\n",
    "            W=W@P.T                      # Create ZCA whitening matrix from PCA whitening matrix\n",
    "    if method=='CHOL':\n",
    "        W=cholesky(inv(Sigma))           # Create Cholesky whitening matrix using Cholensky decomp.\n",
    "    if method=='ZCA-cor' or method=='PCA-cor':\n",
    "        var_=np.sqrt(np.diag(Sigma))[:,np.newaxis]\n",
    "        R=Sigma/(var_@var_.T)            # Calc. correlation matrix from cov. matrix & variances\n",
    "        theta_,G=eig(R)                 # Create the spectral decomposition of correlation matrix\n",
    "        Theta=np.eye(D,D)*theta_\n",
    "        G=G@np.diag(np.sign(np.diag(G))) # Fix sign ambiguity in eigenvectors by making positive diag.\n",
    "        Invvar_=np.diag(1/np.squeeze(var_))\n",
    "        W=Invvar_@G@np.sqrt(inv(Theta))  # Create the PCA-cor whitening matrix\n",
    "        if method=='ZCA-cor':\n",
    "            W=W@G.T                      # Create the ZCA-cor whitening matrix from PCA-cor whitening\n",
    "    return W"
   ]
  },
  {
   "cell_type": "markdown",
   "metadata": {},
   "source": [
    "Now, let's create a pandas dataframe with the first columns containing the names of the values that we want to compare. Then we define the list of the five method names. Finally, using the generic whitening function, we calculate the values for each whitening method and insert the results as a new column in the pandas dataframe. The table can be visualized just presenting the pandas dataframe."
   ]
  },
  {
   "cell_type": "code",
   "execution_count": 32,
   "metadata": {},
   "outputs": [
    {
     "data": {
      "text/html": [
       "<div>\n",
       "<style scoped>\n",
       "    .dataframe tbody tr th:only-of-type {\n",
       "        vertical-align: middle;\n",
       "    }\n",
       "\n",
       "    .dataframe tbody tr th {\n",
       "        vertical-align: top;\n",
       "    }\n",
       "\n",
       "    .dataframe thead th {\n",
       "        text-align: right;\n",
       "    }\n",
       "</style>\n",
       "<table border=\"1\" class=\"dataframe\">\n",
       "  <thead>\n",
       "    <tr style=\"text-align: right;\">\n",
       "      <th></th>\n",
       "      <th>Variable</th>\n",
       "      <th>ZCA</th>\n",
       "      <th>PCA</th>\n",
       "      <th>CHOL</th>\n",
       "      <th>ZCA-cor</th>\n",
       "      <th>PCA-cor</th>\n",
       "    </tr>\n",
       "  </thead>\n",
       "  <tbody>\n",
       "    <tr>\n",
       "      <th>0</th>\n",
       "      <td>$\\hat\\rho_{Z_1,X_1}$</td>\n",
       "      <td>0.7137</td>\n",
       "      <td>0.8974</td>\n",
       "      <td>0.3760</td>\n",
       "      <td>0.8082</td>\n",
       "      <td>0.8902</td>\n",
       "    </tr>\n",
       "    <tr>\n",
       "      <th>1</th>\n",
       "      <td>$\\hat\\rho_{Z_2,X_2}$</td>\n",
       "      <td>0.9018</td>\n",
       "      <td>0.8252</td>\n",
       "      <td>0.8871</td>\n",
       "      <td>0.9640</td>\n",
       "      <td>0.8827</td>\n",
       "    </tr>\n",
       "    <tr>\n",
       "      <th>2</th>\n",
       "      <td>$\\hat\\rho_{Z_3,X_3}$</td>\n",
       "      <td>0.8843</td>\n",
       "      <td>0.0121</td>\n",
       "      <td>0.2700</td>\n",
       "      <td>0.6763</td>\n",
       "      <td>0.0544</td>\n",
       "    </tr>\n",
       "    <tr>\n",
       "      <th>3</th>\n",
       "      <td>$\\hat\\rho_{Z_3,X_3}$</td>\n",
       "      <td>0.5743</td>\n",
       "      <td>0.1526</td>\n",
       "      <td>1.0000</td>\n",
       "      <td>0.7429</td>\n",
       "      <td>0.0754</td>\n",
       "    </tr>\n",
       "    <tr>\n",
       "      <th>4</th>\n",
       "      <td>$\\text{tr}(\\hat{\\mathbf\\Phi})$</td>\n",
       "      <td>2.9829</td>\n",
       "      <td>1.2405</td>\n",
       "      <td>1.9368</td>\n",
       "      <td>2.8495</td>\n",
       "      <td>1.2754</td>\n",
       "    </tr>\n",
       "    <tr>\n",
       "      <th>5</th>\n",
       "      <td>$\\text{tr}(\\hat{\\mathbf\\Psi)}$</td>\n",
       "      <td>3.0742</td>\n",
       "      <td>1.8874</td>\n",
       "      <td>2.5331</td>\n",
       "      <td>3.1914</td>\n",
       "      <td>1.9027</td>\n",
       "    </tr>\n",
       "    <tr>\n",
       "      <th>6</th>\n",
       "      <td>$\\max$ $\\hat{\\mathbf\\Phi}\\hat{\\mathbf\\Phi}^\\top $</td>\n",
       "      <td>3.1163</td>\n",
       "      <td>4.2282</td>\n",
       "      <td>3.9544</td>\n",
       "      <td>1.7437</td>\n",
       "      <td>4.1885</td>\n",
       "    </tr>\n",
       "    <tr>\n",
       "      <th>7</th>\n",
       "      <td>$\\max$ $\\hat{\\mathbf\\Psi}\\hat{\\mathbf\\Psi}^\\top $</td>\n",
       "      <td>1.9817</td>\n",
       "      <td>2.8943</td>\n",
       "      <td>2.7302</td>\n",
       "      <td>1.0000</td>\n",
       "      <td>2.9185</td>\n",
       "    </tr>\n",
       "    <tr>\n",
       "      <th>8</th>\n",
       "      <td>$\\phi_1$</td>\n",
       "      <td>0.6857</td>\n",
       "      <td>4.2282</td>\n",
       "      <td>0.0969</td>\n",
       "      <td>1.1768</td>\n",
       "      <td>4.1885</td>\n",
       "    </tr>\n",
       "    <tr>\n",
       "      <th>9</th>\n",
       "      <td>$\\phi_2$</td>\n",
       "      <td>0.1900</td>\n",
       "      <td>0.2427</td>\n",
       "      <td>0.2128</td>\n",
       "      <td>0.3380</td>\n",
       "      <td>0.2414</td>\n",
       "    </tr>\n",
       "    <tr>\n",
       "      <th>10</th>\n",
       "      <td>$\\phi_3$</td>\n",
       "      <td>3.1163</td>\n",
       "      <td>0.0782</td>\n",
       "      <td>0.3088</td>\n",
       "      <td>1.7437</td>\n",
       "      <td>0.0973</td>\n",
       "    </tr>\n",
       "    <tr>\n",
       "      <th>11</th>\n",
       "      <td>$\\phi_4$</td>\n",
       "      <td>0.5810</td>\n",
       "      <td>0.0238</td>\n",
       "      <td>3.9544</td>\n",
       "      <td>1.3144</td>\n",
       "      <td>0.0458</td>\n",
       "    </tr>\n",
       "    <tr>\n",
       "      <th>12</th>\n",
       "      <td>$\\psi_1$</td>\n",
       "      <td>0.6858</td>\n",
       "      <td>2.8943</td>\n",
       "      <td>0.1414</td>\n",
       "      <td>1.0000</td>\n",
       "      <td>2.9185</td>\n",
       "    </tr>\n",
       "    <tr>\n",
       "      <th>13</th>\n",
       "      <td>$\\psi_2$</td>\n",
       "      <td>0.8306</td>\n",
       "      <td>0.8383</td>\n",
       "      <td>0.8792</td>\n",
       "      <td>1.0000</td>\n",
       "      <td>0.9140</td>\n",
       "    </tr>\n",
       "    <tr>\n",
       "      <th>14</th>\n",
       "      <td>$\\psi_3$</td>\n",
       "      <td>1.9817</td>\n",
       "      <td>0.2261</td>\n",
       "      <td>0.2492</td>\n",
       "      <td>1.0000</td>\n",
       "      <td>0.1468</td>\n",
       "    </tr>\n",
       "    <tr>\n",
       "      <th>15</th>\n",
       "      <td>$\\psi_4$</td>\n",
       "      <td>0.5019</td>\n",
       "      <td>0.0413</td>\n",
       "      <td>2.7302</td>\n",
       "      <td>1.0000</td>\n",
       "      <td>0.0207</td>\n",
       "    </tr>\n",
       "  </tbody>\n",
       "</table>\n",
       "</div>"
      ],
      "text/plain": [
       "                                             Variable     ZCA     PCA    CHOL  \\\n",
       "0                                $\\hat\\rho_{Z_1,X_1}$  0.7137  0.8974  0.3760   \n",
       "1                                $\\hat\\rho_{Z_2,X_2}$  0.9018  0.8252  0.8871   \n",
       "2                                $\\hat\\rho_{Z_3,X_3}$  0.8843  0.0121  0.2700   \n",
       "3                                $\\hat\\rho_{Z_3,X_3}$  0.5743  0.1526  1.0000   \n",
       "4                      $\\text{tr}(\\hat{\\mathbf\\Phi})$  2.9829  1.2405  1.9368   \n",
       "5                      $\\text{tr}(\\hat{\\mathbf\\Psi)}$  3.0742  1.8874  2.5331   \n",
       "6   $\\max$ $\\hat{\\mathbf\\Phi}\\hat{\\mathbf\\Phi}^\\top $  3.1163  4.2282  3.9544   \n",
       "7   $\\max$ $\\hat{\\mathbf\\Psi}\\hat{\\mathbf\\Psi}^\\top $  1.9817  2.8943  2.7302   \n",
       "8                                            $\\phi_1$  0.6857  4.2282  0.0969   \n",
       "9                                            $\\phi_2$  0.1900  0.2427  0.2128   \n",
       "10                                           $\\phi_3$  3.1163  0.0782  0.3088   \n",
       "11                                           $\\phi_4$  0.5810  0.0238  3.9544   \n",
       "12                                           $\\psi_1$  0.6858  2.8943  0.1414   \n",
       "13                                           $\\psi_2$  0.8306  0.8383  0.8792   \n",
       "14                                           $\\psi_3$  1.9817  0.2261  0.2492   \n",
       "15                                           $\\psi_4$  0.5019  0.0413  2.7302   \n",
       "\n",
       "    ZCA-cor  PCA-cor  \n",
       "0    0.8082   0.8902  \n",
       "1    0.9640   0.8827  \n",
       "2    0.6763   0.0544  \n",
       "3    0.7429   0.0754  \n",
       "4    2.8495   1.2754  \n",
       "5    3.1914   1.9027  \n",
       "6    1.7437   4.1885  \n",
       "7    1.0000   2.9185  \n",
       "8    1.1768   4.1885  \n",
       "9    0.3380   0.2414  \n",
       "10   1.7437   0.0973  \n",
       "11   1.3144   0.0458  \n",
       "12   1.0000   2.9185  \n",
       "13   1.0000   0.9140  \n",
       "14   1.0000   0.1468  \n",
       "15   1.0000   0.0207  "
      ]
     },
     "execution_count": 32,
     "metadata": {},
     "output_type": "execute_result"
    }
   ],
   "source": [
    "table=pd.DataFrame(data={'Variable':[r'$\\hat\\rho_{Z_1,X_1}$', r'$\\hat\\rho_{Z_2,X_2}$', \\\n",
    "                                 r'$\\hat\\rho_{Z_3,X_3}$', r'$\\hat\\rho_{Z_3,X_3}$', \\\n",
    "                                 r'$\\text{tr}(\\hat{\\mathbf\\Phi})$',r'$\\text{tr}(\\hat{\\mathbf\\Psi)}$',\\\n",
    "                                 r'$\\max$ $\\hat{\\mathbf\\Phi}\\hat{\\mathbf\\Phi}^\\top $',\\\n",
    "                                 r'$\\max$ $\\hat{\\mathbf\\Psi}\\hat{\\mathbf\\Psi}^\\top $',\n",
    "                                 r'$\\phi_1$',r'$\\phi_2$',r'$\\phi_3$',r'$\\phi_4$',\n",
    "                                 r'$\\psi_1$',r'$\\psi_2$',r'$\\psi_3$',r'$\\psi_4$']})\n",
    "\n",
    "methods={1:'ZCA',2:'PCA',3:'CHOL',4:'ZCA-cor',5:'PCA-cor'}\n",
    "\n",
    "for i in range(1,6):\n",
    "    W=whitening(Xiris,methods[i])\n",
    "    Z=Xiris@W\n",
    "    Phi=cross_cov(Z,Xiris)\n",
    "    Psi=cross_corr(Z,Xiris)\n",
    "    values=[]\n",
    "    values.extend(np.diag(Psi).tolist())\n",
    "    values.append(np.trace(Phi))\n",
    "    values.append(np.trace(Psi))\n",
    "    values.append(np.max(np.diag(Phi@Phi.T)))\n",
    "    values.append(np.max(np.diag(Psi@Psi.T)))\n",
    "    values.extend(np.diag(Phi@Phi.T).tolist())\n",
    "    values.extend(np.diag(Psi@Psi.T).tolist())\n",
    "    table.insert(i,methods[i],value=values)\n",
    "    \n",
    "table.round(4)"
   ]
  },
  {
   "cell_type": "markdown",
   "metadata": {},
   "source": [
    "In the above table \n",
    "- the first four rows (indexed from 0 to 3) represent the correlation between the whitened and its counterpart original feature, \n",
    "- the next two rows  (indexed from 4 to 5) represent the trace (sum of diagonals) of the cross-covariance, respective the cross-correlation matrix\n",
    "- the next two rows (indexed from 6 to 7) represent the maximum value of the sum of squared cross-variances\n",
    "- the next four rows (indexed from 8 to 11) represent the sum of squared cross-variances of each row from the cross-covariance matrix\n",
    "- the last four rows (indexed from 12 to 15) represent the sum of squared cross-correlations of each row from the cross-correlation matrix"
   ]
  },
  {
   "cell_type": "markdown",
   "metadata": {},
   "source": [
    "<img src = \"images/AML1-Cover.png\" width = 110, align = \"left\" style=\"margin:0px 20px\">\n",
    "\n",
    "<span style=\"color:blue\">**Note:**</span> This Jupyter Notebook is accompanying the book: <br> $\\qquad$ <b>Advanced Machine Learning Made Easy</b> <br> $\\qquad$ From Theory to Practice with NumPy and scikit-learn <br> $\\qquad$ <i> Volume 1: Generalized Linear Models</i><br>\n",
    "by Ferenc Farkas, Ph.D. \n",
    "\n",
    "If you find this Notebook useful, please support me by buying the book at [Leanpub](http://leanpub.com/AML1). <br>\n",
    "Copyright notice: This Jupyter Notebook is made available under the [MIT License](https://opensource.org/licenses/MIT)."
   ]
  },
  {
   "cell_type": "code",
   "execution_count": null,
   "metadata": {},
   "outputs": [],
   "source": []
  }
 ],
 "metadata": {
  "colab": {
   "collapsed_sections": [],
   "name": "Ch1-1-SimpleRegression.ipynb",
   "provenance": [
    {
     "file_id": "1CAvi5U76y6xIKJarmRS-iX0Jh70o2mGi",
     "timestamp": 1537170166740
    }
   ],
   "version": "0.3.2"
  },
  "kernelspec": {
   "display_name": "Python 3",
   "language": "python",
   "name": "python3"
  },
  "language_info": {
   "codemirror_mode": {
    "name": "ipython",
    "version": 3
   },
   "file_extension": ".py",
   "mimetype": "text/x-python",
   "name": "python",
   "nbconvert_exporter": "python",
   "pygments_lexer": "ipython3",
   "version": "3.8.5"
  }
 },
 "nbformat": 4,
 "nbformat_minor": 4
}
